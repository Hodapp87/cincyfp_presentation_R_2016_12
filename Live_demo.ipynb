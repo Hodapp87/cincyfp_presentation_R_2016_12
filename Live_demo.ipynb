{
 "cells": [
  {
   "cell_type": "markdown",
   "metadata": {},
   "source": [
    "(Annotations added later for people who weren't there.)"
   ]
  },
  {
   "cell_type": "markdown",
   "metadata": {},
   "source": [
    "## Basic arithmetic"
   ]
  },
  {
   "cell_type": "code",
   "execution_count": 1,
   "metadata": {
    "collapsed": false
   },
   "outputs": [
    {
     "data": {
      "text/html": [
       "5"
      ],
      "text/latex": [
       "5"
      ],
      "text/markdown": [
       "5"
      ],
      "text/plain": [
       "[1] 5"
      ]
     },
     "metadata": {},
     "output_type": "display_data"
    }
   ],
   "source": [
    "5"
   ]
  },
  {
   "cell_type": "code",
   "execution_count": 2,
   "metadata": {
    "collapsed": false
   },
   "outputs": [
    {
     "data": {
      "text/html": [
       "10"
      ],
      "text/latex": [
       "10"
      ],
      "text/markdown": [
       "10"
      ],
      "text/plain": [
       "[1] 10"
      ]
     },
     "metadata": {},
     "output_type": "display_data"
    }
   ],
   "source": [
    "5+5"
   ]
  },
  {
   "cell_type": "code",
   "execution_count": 3,
   "metadata": {
    "collapsed": false
   },
   "outputs": [
    {
     "data": {
      "text/html": [
       "9"
      ],
      "text/latex": [
       "9"
      ],
      "text/markdown": [
       "9"
      ],
      "text/plain": [
       "[1] 9"
      ]
     },
     "metadata": {},
     "output_type": "display_data"
    }
   ],
   "source": [
    "4+5"
   ]
  },
  {
   "cell_type": "markdown",
   "metadata": {},
   "source": [
    "## Variable assignment (3 identical ways)"
   ]
  },
  {
   "cell_type": "code",
   "execution_count": 4,
   "metadata": {
    "collapsed": true
   },
   "outputs": [],
   "source": [
    "a <- 5"
   ]
  },
  {
   "cell_type": "code",
   "execution_count": 5,
   "metadata": {
    "collapsed": true
   },
   "outputs": [],
   "source": [
    "5 -> a"
   ]
  },
  {
   "cell_type": "code",
   "execution_count": 6,
   "metadata": {
    "collapsed": true
   },
   "outputs": [],
   "source": [
    "a = 5"
   ]
  },
  {
   "cell_type": "markdown",
   "metadata": {},
   "source": [
    "## Function definition with default argument"
   ]
  },
  {
   "cell_type": "code",
   "execution_count": 7,
   "metadata": {
    "collapsed": true
   },
   "outputs": [],
   "source": [
    "fn <- function(x, y = 2) {\n",
    "    x^y\n",
    "}"
   ]
  },
  {
   "cell_type": "code",
   "execution_count": 8,
   "metadata": {
    "collapsed": false
   },
   "outputs": [
    {
     "data": {
      "text/html": [
       "9"
      ],
      "text/latex": [
       "9"
      ],
      "text/markdown": [
       "9"
      ],
      "text/plain": [
       "[1] 9"
      ]
     },
     "metadata": {},
     "output_type": "display_data"
    }
   ],
   "source": [
    "fn(3)"
   ]
  },
  {
   "cell_type": "code",
   "execution_count": 9,
   "metadata": {
    "collapsed": false
   },
   "outputs": [
    {
     "data": {
      "text/html": [
       "27"
      ],
      "text/latex": [
       "27"
      ],
      "text/markdown": [
       "27"
      ],
      "text/plain": [
       "[1] 27"
      ]
     },
     "metadata": {},
     "output_type": "display_data"
    }
   ],
   "source": [
    "fn(3, 3)"
   ]
  },
  {
   "cell_type": "markdown",
   "metadata": {},
   "source": [
    "## Vector data type"
   ]
  },
  {
   "cell_type": "code",
   "execution_count": 10,
   "metadata": {
    "collapsed": false
   },
   "outputs": [
    {
     "data": {
      "text/html": [
       "<ol class=list-inline>\n",
       "\t<li>0</li>\n",
       "\t<li>1</li>\n",
       "\t<li>2</li>\n",
       "\t<li>3</li>\n",
       "\t<li>4</li>\n",
       "</ol>\n"
      ],
      "text/latex": [
       "\\begin{enumerate*}\n",
       "\\item 0\n",
       "\\item 1\n",
       "\\item 2\n",
       "\\item 3\n",
       "\\item 4\n",
       "\\end{enumerate*}\n"
      ],
      "text/markdown": [
       "1. 0\n",
       "2. 1\n",
       "3. 2\n",
       "4. 3\n",
       "5. 4\n",
       "\n",
       "\n"
      ],
      "text/plain": [
       "[1] 0 1 2 3 4"
      ]
     },
     "metadata": {},
     "output_type": "display_data"
    }
   ],
   "source": [
    "c(0,1,2,3,4)"
   ]
  },
  {
   "cell_type": "markdown",
   "metadata": {},
   "source": [
    "## Shorthand for sequences"
   ]
  },
  {
   "cell_type": "code",
   "execution_count": 11,
   "metadata": {
    "collapsed": false
   },
   "outputs": [
    {
     "data": {
      "text/html": [
       "<ol class=list-inline>\n",
       "\t<li>0</li>\n",
       "\t<li>1</li>\n",
       "\t<li>2</li>\n",
       "\t<li>3</li>\n",
       "\t<li>4</li>\n",
       "</ol>\n"
      ],
      "text/latex": [
       "\\begin{enumerate*}\n",
       "\\item 0\n",
       "\\item 1\n",
       "\\item 2\n",
       "\\item 3\n",
       "\\item 4\n",
       "\\end{enumerate*}\n"
      ],
      "text/markdown": [
       "1. 0\n",
       "2. 1\n",
       "3. 2\n",
       "4. 3\n",
       "5. 4\n",
       "\n",
       "\n"
      ],
      "text/plain": [
       "[1] 0 1 2 3 4"
      ]
     },
     "metadata": {},
     "output_type": "display_data"
    }
   ],
   "source": [
    "0:4"
   ]
  },
  {
   "cell_type": "code",
   "execution_count": 12,
   "metadata": {
    "collapsed": true
   },
   "outputs": [],
   "source": [
    "v <- 10:20"
   ]
  },
  {
   "cell_type": "markdown",
   "metadata": {},
   "source": [
    "## Indexing"
   ]
  },
  {
   "cell_type": "code",
   "execution_count": 13,
   "metadata": {
    "collapsed": false
   },
   "outputs": [
    {
     "data": {
      "text/html": [
       "10"
      ],
      "text/latex": [
       "10"
      ],
      "text/markdown": [
       "10"
      ],
      "text/plain": [
       "[1] 10"
      ]
     },
     "metadata": {},
     "output_type": "display_data"
    }
   ],
   "source": [
    "v[1]"
   ]
  },
  {
   "cell_type": "code",
   "execution_count": 14,
   "metadata": {
    "collapsed": false
   },
   "outputs": [
    {
     "data": {
      "text/html": [],
      "text/latex": [],
      "text/markdown": [],
      "text/plain": [
       "integer(0)"
      ]
     },
     "metadata": {},
     "output_type": "display_data"
    }
   ],
   "source": [
    "v[0]"
   ]
  },
  {
   "cell_type": "markdown",
   "metadata": {},
   "source": [
    "## Multiple indices"
   ]
  },
  {
   "cell_type": "code",
   "execution_count": 15,
   "metadata": {
    "collapsed": false
   },
   "outputs": [
    {
     "data": {
      "text/html": [
       "<ol class=list-inline>\n",
       "\t<li>11</li>\n",
       "\t<li>12</li>\n",
       "</ol>\n"
      ],
      "text/latex": [
       "\\begin{enumerate*}\n",
       "\\item 11\n",
       "\\item 12\n",
       "\\end{enumerate*}\n"
      ],
      "text/markdown": [
       "1. 11\n",
       "2. 12\n",
       "\n",
       "\n"
      ],
      "text/plain": [
       "[1] 11 12"
      ]
     },
     "metadata": {},
     "output_type": "display_data"
    }
   ],
   "source": [
    "v[2:3]"
   ]
  },
  {
   "cell_type": "markdown",
   "metadata": {},
   "source": [
    "## Logical vectors and indexing with them"
   ]
  },
  {
   "cell_type": "code",
   "execution_count": 16,
   "metadata": {
    "collapsed": false
   },
   "outputs": [
    {
     "data": {
      "text/html": [
       "<ol class=list-inline>\n",
       "\t<li>FALSE</li>\n",
       "\t<li>FALSE</li>\n",
       "\t<li>FALSE</li>\n",
       "\t<li>FALSE</li>\n",
       "\t<li>FALSE</li>\n",
       "\t<li>FALSE</li>\n",
       "\t<li>TRUE</li>\n",
       "\t<li>TRUE</li>\n",
       "\t<li>TRUE</li>\n",
       "\t<li>TRUE</li>\n",
       "\t<li>TRUE</li>\n",
       "</ol>\n"
      ],
      "text/latex": [
       "\\begin{enumerate*}\n",
       "\\item FALSE\n",
       "\\item FALSE\n",
       "\\item FALSE\n",
       "\\item FALSE\n",
       "\\item FALSE\n",
       "\\item FALSE\n",
       "\\item TRUE\n",
       "\\item TRUE\n",
       "\\item TRUE\n",
       "\\item TRUE\n",
       "\\item TRUE\n",
       "\\end{enumerate*}\n"
      ],
      "text/markdown": [
       "1. FALSE\n",
       "2. FALSE\n",
       "3. FALSE\n",
       "4. FALSE\n",
       "5. FALSE\n",
       "6. FALSE\n",
       "7. TRUE\n",
       "8. TRUE\n",
       "9. TRUE\n",
       "10. TRUE\n",
       "11. TRUE\n",
       "\n",
       "\n"
      ],
      "text/plain": [
       " [1] FALSE FALSE FALSE FALSE FALSE FALSE  TRUE  TRUE  TRUE  TRUE  TRUE"
      ]
     },
     "metadata": {},
     "output_type": "display_data"
    }
   ],
   "source": [
    "v > 15"
   ]
  },
  {
   "cell_type": "code",
   "execution_count": 17,
   "metadata": {
    "collapsed": false
   },
   "outputs": [
    {
     "data": {
      "text/html": [
       "<ol class=list-inline>\n",
       "\t<li>16</li>\n",
       "\t<li>17</li>\n",
       "\t<li>18</li>\n",
       "\t<li>19</li>\n",
       "\t<li>20</li>\n",
       "</ol>\n"
      ],
      "text/latex": [
       "\\begin{enumerate*}\n",
       "\\item 16\n",
       "\\item 17\n",
       "\\item 18\n",
       "\\item 19\n",
       "\\item 20\n",
       "\\end{enumerate*}\n"
      ],
      "text/markdown": [
       "1. 16\n",
       "2. 17\n",
       "3. 18\n",
       "4. 19\n",
       "5. 20\n",
       "\n",
       "\n"
      ],
      "text/plain": [
       "[1] 16 17 18 19 20"
      ]
     },
     "metadata": {},
     "output_type": "display_data"
    }
   ],
   "source": [
    "v[v > 15]"
   ]
  },
  {
   "cell_type": "markdown",
   "metadata": {},
   "source": [
    "## Missing data"
   ]
  },
  {
   "cell_type": "code",
   "execution_count": 18,
   "metadata": {
    "collapsed": false
   },
   "outputs": [
    {
     "data": {
      "text/plain": [
       "[1] NA"
      ]
     },
     "metadata": {},
     "output_type": "display_data"
    }
   ],
   "source": [
    "NA"
   ]
  },
  {
   "cell_type": "code",
   "execution_count": 19,
   "metadata": {
    "collapsed": false
   },
   "outputs": [
    {
     "data": {
      "text/html": [
       "<ol class=list-inline>\n",
       "\t<li>0</li>\n",
       "\t<li>1</li>\n",
       "\t<li>2</li>\n",
       "\t<li>NA</li>\n",
       "</ol>\n"
      ],
      "text/latex": [
       "\\begin{enumerate*}\n",
       "\\item 0\n",
       "\\item 1\n",
       "\\item 2\n",
       "\\item NA\n",
       "\\end{enumerate*}\n"
      ],
      "text/markdown": [
       "1. 0\n",
       "2. 1\n",
       "3. 2\n",
       "4. NA\n",
       "\n",
       "\n"
      ],
      "text/plain": [
       "[1]  0  1  2 NA"
      ]
     },
     "metadata": {},
     "output_type": "display_data"
    }
   ],
   "source": [
    "c(0, 1, 2, NA)"
   ]
  },
  {
   "cell_type": "markdown",
   "metadata": {},
   "source": [
    "## Distinct from NaN or infinity:"
   ]
  },
  {
   "cell_type": "code",
   "execution_count": 20,
   "metadata": {
    "collapsed": false
   },
   "outputs": [
    {
     "name": "stderr",
     "output_type": "stream",
     "text": [
      "Warning message in sqrt(-1):\n",
      "“NaNs produced”"
     ]
    },
    {
     "data": {
      "text/html": [
       "NaN"
      ],
      "text/latex": [
       "NaN"
      ],
      "text/markdown": [
       "NaN"
      ],
      "text/plain": [
       "[1] NaN"
      ]
     },
     "metadata": {},
     "output_type": "display_data"
    }
   ],
   "source": [
    "sqrt(-1)"
   ]
  },
  {
   "cell_type": "code",
   "execution_count": 21,
   "metadata": {
    "collapsed": false
   },
   "outputs": [
    {
     "data": {
      "text/html": [
       "Inf"
      ],
      "text/latex": [
       "Inf"
      ],
      "text/markdown": [
       "Inf"
      ],
      "text/plain": [
       "[1] Inf"
      ]
     },
     "metadata": {},
     "output_type": "display_data"
    }
   ],
   "source": [
    "1/0"
   ]
  },
  {
   "cell_type": "markdown",
   "metadata": {},
   "source": [
    "## Vectors with named indices"
   ]
  },
  {
   "cell_type": "code",
   "execution_count": 22,
   "metadata": {
    "collapsed": true
   },
   "outputs": [],
   "source": [
    "pt <- c(10,20,30)"
   ]
  },
  {
   "cell_type": "code",
   "execution_count": 23,
   "metadata": {
    "collapsed": true
   },
   "outputs": [],
   "source": [
    "names(pt) <- c(\"x\", \"y\", \"z\")"
   ]
  },
  {
   "cell_type": "code",
   "execution_count": 24,
   "metadata": {
    "collapsed": false
   },
   "outputs": [
    {
     "data": {
      "text/html": [
       "<dl class=dl-horizontal>\n",
       "\t<dt>x</dt>\n",
       "\t\t<dd>10</dd>\n",
       "\t<dt>y</dt>\n",
       "\t\t<dd>20</dd>\n",
       "\t<dt>z</dt>\n",
       "\t\t<dd>30</dd>\n",
       "</dl>\n"
      ],
      "text/latex": [
       "\\begin{description*}\n",
       "\\item[x] 10\n",
       "\\item[y] 20\n",
       "\\item[z] 30\n",
       "\\end{description*}\n"
      ],
      "text/markdown": [
       "x\n",
       ":   10y\n",
       ":   20z\n",
       ":   30\n",
       "\n"
      ],
      "text/plain": [
       " x  y  z \n",
       "10 20 30 "
      ]
     },
     "metadata": {},
     "output_type": "display_data"
    }
   ],
   "source": [
    "pt"
   ]
  },
  {
   "cell_type": "code",
   "execution_count": 25,
   "metadata": {
    "collapsed": false
   },
   "outputs": [
    {
     "data": {
      "text/html": [
       "<strong>x:</strong> 10"
      ],
      "text/latex": [
       "\\textbf{x:} 10"
      ],
      "text/markdown": [
       "**x:** 10"
      ],
      "text/plain": [
       " x \n",
       "10 "
      ]
     },
     "metadata": {},
     "output_type": "display_data"
    }
   ],
   "source": [
    "pt[\"x\"]"
   ]
  },
  {
   "cell_type": "markdown",
   "metadata": {},
   "source": [
    "## List type with named indices (basically a structure):"
   ]
  },
  {
   "cell_type": "code",
   "execution_count": 26,
   "metadata": {
    "collapsed": false
   },
   "outputs": [],
   "source": [
    "l <- list(a = 5, n = 5, x = 8)"
   ]
  },
  {
   "cell_type": "code",
   "execution_count": 27,
   "metadata": {
    "collapsed": false
   },
   "outputs": [
    {
     "data": {
      "text/html": [
       "5"
      ],
      "text/latex": [
       "5"
      ],
      "text/markdown": [
       "5"
      ],
      "text/plain": [
       "[1] 5"
      ]
     },
     "metadata": {},
     "output_type": "display_data"
    }
   ],
   "source": [
    "l$a"
   ]
  },
  {
   "cell_type": "code",
   "execution_count": 28,
   "metadata": {
    "collapsed": false
   },
   "outputs": [
    {
     "data": {
      "text/html": [
       "5"
      ],
      "text/latex": [
       "5"
      ],
      "text/markdown": [
       "5"
      ],
      "text/plain": [
       "[1] 5"
      ]
     },
     "metadata": {},
     "output_type": "display_data"
    }
   ],
   "source": [
    "l$n"
   ]
  },
  {
   "cell_type": "markdown",
   "metadata": {},
   "source": [
    "## Dataframe (broadcasting 0 in b & c)"
   ]
  },
  {
   "cell_type": "code",
   "execution_count": 29,
   "metadata": {
    "collapsed": true
   },
   "outputs": [],
   "source": [
    "df <- data.frame(a = 1:10, b = 0, c = 0)"
   ]
  },
  {
   "cell_type": "code",
   "execution_count": 30,
   "metadata": {
    "collapsed": false
   },
   "outputs": [
    {
     "data": {
      "text/html": [
       "<table>\n",
       "<thead><tr><th scope=col>a</th><th scope=col>b</th><th scope=col>c</th></tr></thead>\n",
       "<tbody>\n",
       "\t<tr><td> 1</td><td>0 </td><td>0 </td></tr>\n",
       "\t<tr><td> 2</td><td>0 </td><td>0 </td></tr>\n",
       "\t<tr><td> 3</td><td>0 </td><td>0 </td></tr>\n",
       "\t<tr><td> 4</td><td>0 </td><td>0 </td></tr>\n",
       "\t<tr><td> 5</td><td>0 </td><td>0 </td></tr>\n",
       "\t<tr><td> 6</td><td>0 </td><td>0 </td></tr>\n",
       "\t<tr><td> 7</td><td>0 </td><td>0 </td></tr>\n",
       "\t<tr><td> 8</td><td>0 </td><td>0 </td></tr>\n",
       "\t<tr><td> 9</td><td>0 </td><td>0 </td></tr>\n",
       "\t<tr><td>10</td><td>0 </td><td>0 </td></tr>\n",
       "</tbody>\n",
       "</table>\n"
      ],
      "text/latex": [
       "\\begin{tabular}{r|lll}\n",
       " a & b & c\\\\\n",
       "\\hline\n",
       "\t  1 & 0  & 0 \\\\\n",
       "\t  2 & 0  & 0 \\\\\n",
       "\t  3 & 0  & 0 \\\\\n",
       "\t  4 & 0  & 0 \\\\\n",
       "\t  5 & 0  & 0 \\\\\n",
       "\t  6 & 0  & 0 \\\\\n",
       "\t  7 & 0  & 0 \\\\\n",
       "\t  8 & 0  & 0 \\\\\n",
       "\t  9 & 0  & 0 \\\\\n",
       "\t 10 & 0  & 0 \\\\\n",
       "\\end{tabular}\n"
      ],
      "text/markdown": [
       "\n",
       "a | b | c | \n",
       "|---|---|---|---|---|---|---|---|---|---|\n",
       "|  1 | 0  | 0  | \n",
       "|  2 | 0  | 0  | \n",
       "|  3 | 0  | 0  | \n",
       "|  4 | 0  | 0  | \n",
       "|  5 | 0  | 0  | \n",
       "|  6 | 0  | 0  | \n",
       "|  7 | 0  | 0  | \n",
       "|  8 | 0  | 0  | \n",
       "|  9 | 0  | 0  | \n",
       "| 10 | 0  | 0  | \n",
       "\n",
       "\n"
      ],
      "text/plain": [
       "   a  b c\n",
       "1   1 0 0\n",
       "2   2 0 0\n",
       "3   3 0 0\n",
       "4   4 0 0\n",
       "5   5 0 0\n",
       "6   6 0 0\n",
       "7   7 0 0\n",
       "8   8 0 0\n",
       "9   9 0 0\n",
       "10 10 0 0"
      ]
     },
     "metadata": {},
     "output_type": "display_data"
    }
   ],
   "source": [
    "df"
   ]
  },
  {
   "cell_type": "markdown",
   "metadata": {},
   "source": [
    "## Column access shorthand"
   ]
  },
  {
   "cell_type": "code",
   "execution_count": 31,
   "metadata": {
    "collapsed": false
   },
   "outputs": [
    {
     "data": {
      "text/html": [
       "<ol class=list-inline>\n",
       "\t<li>1</li>\n",
       "\t<li>2</li>\n",
       "\t<li>3</li>\n",
       "\t<li>4</li>\n",
       "\t<li>5</li>\n",
       "\t<li>6</li>\n",
       "\t<li>7</li>\n",
       "\t<li>8</li>\n",
       "\t<li>9</li>\n",
       "\t<li>10</li>\n",
       "</ol>\n"
      ],
      "text/latex": [
       "\\begin{enumerate*}\n",
       "\\item 1\n",
       "\\item 2\n",
       "\\item 3\n",
       "\\item 4\n",
       "\\item 5\n",
       "\\item 6\n",
       "\\item 7\n",
       "\\item 8\n",
       "\\item 9\n",
       "\\item 10\n",
       "\\end{enumerate*}\n"
      ],
      "text/markdown": [
       "1. 1\n",
       "2. 2\n",
       "3. 3\n",
       "4. 4\n",
       "5. 5\n",
       "6. 6\n",
       "7. 7\n",
       "8. 8\n",
       "9. 9\n",
       "10. 10\n",
       "\n",
       "\n"
      ],
      "text/plain": [
       " [1]  1  2  3  4  5  6  7  8  9 10"
      ]
     },
     "metadata": {},
     "output_type": "display_data"
    }
   ],
   "source": [
    "df$a"
   ]
  },
  {
   "cell_type": "code",
   "execution_count": 32,
   "metadata": {
    "collapsed": true
   },
   "outputs": [],
   "source": [
    "df$d <- 6"
   ]
  },
  {
   "cell_type": "code",
   "execution_count": 33,
   "metadata": {
    "collapsed": false
   },
   "outputs": [
    {
     "data": {
      "text/html": [
       "<table>\n",
       "<thead><tr><th scope=col>a</th><th scope=col>b</th><th scope=col>c</th><th scope=col>d</th></tr></thead>\n",
       "<tbody>\n",
       "\t<tr><td> 1</td><td>0 </td><td>0 </td><td>6 </td></tr>\n",
       "\t<tr><td> 2</td><td>0 </td><td>0 </td><td>6 </td></tr>\n",
       "\t<tr><td> 3</td><td>0 </td><td>0 </td><td>6 </td></tr>\n",
       "\t<tr><td> 4</td><td>0 </td><td>0 </td><td>6 </td></tr>\n",
       "\t<tr><td> 5</td><td>0 </td><td>0 </td><td>6 </td></tr>\n",
       "\t<tr><td> 6</td><td>0 </td><td>0 </td><td>6 </td></tr>\n",
       "\t<tr><td> 7</td><td>0 </td><td>0 </td><td>6 </td></tr>\n",
       "\t<tr><td> 8</td><td>0 </td><td>0 </td><td>6 </td></tr>\n",
       "\t<tr><td> 9</td><td>0 </td><td>0 </td><td>6 </td></tr>\n",
       "\t<tr><td>10</td><td>0 </td><td>0 </td><td>6 </td></tr>\n",
       "</tbody>\n",
       "</table>\n"
      ],
      "text/latex": [
       "\\begin{tabular}{r|llll}\n",
       " a & b & c & d\\\\\n",
       "\\hline\n",
       "\t  1 & 0  & 0  & 6 \\\\\n",
       "\t  2 & 0  & 0  & 6 \\\\\n",
       "\t  3 & 0  & 0  & 6 \\\\\n",
       "\t  4 & 0  & 0  & 6 \\\\\n",
       "\t  5 & 0  & 0  & 6 \\\\\n",
       "\t  6 & 0  & 0  & 6 \\\\\n",
       "\t  7 & 0  & 0  & 6 \\\\\n",
       "\t  8 & 0  & 0  & 6 \\\\\n",
       "\t  9 & 0  & 0  & 6 \\\\\n",
       "\t 10 & 0  & 0  & 6 \\\\\n",
       "\\end{tabular}\n"
      ],
      "text/markdown": [
       "\n",
       "a | b | c | d | \n",
       "|---|---|---|---|---|---|---|---|---|---|\n",
       "|  1 | 0  | 0  | 6  | \n",
       "|  2 | 0  | 0  | 6  | \n",
       "|  3 | 0  | 0  | 6  | \n",
       "|  4 | 0  | 0  | 6  | \n",
       "|  5 | 0  | 0  | 6  | \n",
       "|  6 | 0  | 0  | 6  | \n",
       "|  7 | 0  | 0  | 6  | \n",
       "|  8 | 0  | 0  | 6  | \n",
       "|  9 | 0  | 0  | 6  | \n",
       "| 10 | 0  | 0  | 6  | \n",
       "\n",
       "\n"
      ],
      "text/plain": [
       "   a  b c d\n",
       "1   1 0 0 6\n",
       "2   2 0 0 6\n",
       "3   3 0 0 6\n",
       "4   4 0 0 6\n",
       "5   5 0 0 6\n",
       "6   6 0 0 6\n",
       "7   7 0 0 6\n",
       "8   8 0 0 6\n",
       "9   9 0 0 6\n",
       "10 10 0 0 6"
      ]
     },
     "metadata": {},
     "output_type": "display_data"
    }
   ],
   "source": [
    "df"
   ]
  },
  {
   "cell_type": "markdown",
   "metadata": {},
   "source": [
    "## Column selection"
   ]
  },
  {
   "cell_type": "code",
   "execution_count": 34,
   "metadata": {
    "collapsed": false
   },
   "outputs": [
    {
     "data": {
      "text/html": [
       "<table>\n",
       "<thead><tr><th scope=col>a</th><th scope=col>b</th></tr></thead>\n",
       "<tbody>\n",
       "\t<tr><td> 1</td><td>0 </td></tr>\n",
       "\t<tr><td> 2</td><td>0 </td></tr>\n",
       "\t<tr><td> 3</td><td>0 </td></tr>\n",
       "\t<tr><td> 4</td><td>0 </td></tr>\n",
       "\t<tr><td> 5</td><td>0 </td></tr>\n",
       "\t<tr><td> 6</td><td>0 </td></tr>\n",
       "\t<tr><td> 7</td><td>0 </td></tr>\n",
       "\t<tr><td> 8</td><td>0 </td></tr>\n",
       "\t<tr><td> 9</td><td>0 </td></tr>\n",
       "\t<tr><td>10</td><td>0 </td></tr>\n",
       "</tbody>\n",
       "</table>\n"
      ],
      "text/latex": [
       "\\begin{tabular}{r|ll}\n",
       " a & b\\\\\n",
       "\\hline\n",
       "\t  1 & 0 \\\\\n",
       "\t  2 & 0 \\\\\n",
       "\t  3 & 0 \\\\\n",
       "\t  4 & 0 \\\\\n",
       "\t  5 & 0 \\\\\n",
       "\t  6 & 0 \\\\\n",
       "\t  7 & 0 \\\\\n",
       "\t  8 & 0 \\\\\n",
       "\t  9 & 0 \\\\\n",
       "\t 10 & 0 \\\\\n",
       "\\end{tabular}\n"
      ],
      "text/markdown": [
       "\n",
       "a | b | \n",
       "|---|---|---|---|---|---|---|---|---|---|\n",
       "|  1 | 0  | \n",
       "|  2 | 0  | \n",
       "|  3 | 0  | \n",
       "|  4 | 0  | \n",
       "|  5 | 0  | \n",
       "|  6 | 0  | \n",
       "|  7 | 0  | \n",
       "|  8 | 0  | \n",
       "|  9 | 0  | \n",
       "| 10 | 0  | \n",
       "\n",
       "\n"
      ],
      "text/plain": [
       "   a  b\n",
       "1   1 0\n",
       "2   2 0\n",
       "3   3 0\n",
       "4   4 0\n",
       "5   5 0\n",
       "6   6 0\n",
       "7   7 0\n",
       "8   8 0\n",
       "9   9 0\n",
       "10 10 0"
      ]
     },
     "metadata": {},
     "output_type": "display_data"
    }
   ],
   "source": [
    "df[,c(\"a\", \"b\")]"
   ]
  },
  {
   "cell_type": "markdown",
   "metadata": {},
   "source": [
    "## Row selection"
   ]
  },
  {
   "cell_type": "code",
   "execution_count": 35,
   "metadata": {
    "collapsed": false
   },
   "outputs": [
    {
     "data": {
      "text/html": [
       "<table>\n",
       "<thead><tr><th></th><th scope=col>a</th><th scope=col>b</th><th scope=col>c</th><th scope=col>d</th></tr></thead>\n",
       "<tbody>\n",
       "\t<tr><th scope=row>4</th><td>4</td><td>0</td><td>0</td><td>6</td></tr>\n",
       "\t<tr><th scope=row>5</th><td>5</td><td>0</td><td>0</td><td>6</td></tr>\n",
       "\t<tr><th scope=row>6</th><td>6</td><td>0</td><td>0</td><td>6</td></tr>\n",
       "\t<tr><th scope=row>7</th><td>7</td><td>0</td><td>0</td><td>6</td></tr>\n",
       "</tbody>\n",
       "</table>\n"
      ],
      "text/latex": [
       "\\begin{tabular}{r|llll}\n",
       "  & a & b & c & d\\\\\n",
       "\\hline\n",
       "\t4 & 4 & 0 & 0 & 6\\\\\n",
       "\t5 & 5 & 0 & 0 & 6\\\\\n",
       "\t6 & 6 & 0 & 0 & 6\\\\\n",
       "\t7 & 7 & 0 & 0 & 6\\\\\n",
       "\\end{tabular}\n"
      ],
      "text/markdown": [
       "\n",
       "| <!--/--> | a | b | c | d | \n",
       "|---|---|---|---|\n",
       "| 4 | 4 | 0 | 0 | 6 | \n",
       "| 5 | 5 | 0 | 0 | 6 | \n",
       "| 6 | 6 | 0 | 0 | 6 | \n",
       "| 7 | 7 | 0 | 0 | 6 | \n",
       "\n",
       "\n"
      ],
      "text/plain": [
       "  a b c d\n",
       "4 4 0 0 6\n",
       "5 5 0 0 6\n",
       "6 6 0 0 6\n",
       "7 7 0 0 6"
      ]
     },
     "metadata": {},
     "output_type": "display_data"
    }
   ],
   "source": [
    "df[4:7,]"
   ]
  },
  {
   "cell_type": "markdown",
   "metadata": {},
   "source": [
    "## Row and column selection"
   ]
  },
  {
   "cell_type": "code",
   "execution_count": 36,
   "metadata": {
    "collapsed": false
   },
   "outputs": [
    {
     "data": {
      "text/html": [
       "<table>\n",
       "<thead><tr><th></th><th scope=col>c</th><th scope=col>d</th></tr></thead>\n",
       "<tbody>\n",
       "\t<tr><th scope=row>5</th><td>0</td><td>6</td></tr>\n",
       "\t<tr><th scope=row>6</th><td>0</td><td>6</td></tr>\n",
       "</tbody>\n",
       "</table>\n"
      ],
      "text/latex": [
       "\\begin{tabular}{r|ll}\n",
       "  & c & d\\\\\n",
       "\\hline\n",
       "\t5 & 0 & 6\\\\\n",
       "\t6 & 0 & 6\\\\\n",
       "\\end{tabular}\n"
      ],
      "text/markdown": [
       "\n",
       "| <!--/--> | c | d | \n",
       "|---|---|\n",
       "| 5 | 0 | 6 | \n",
       "| 6 | 0 | 6 | \n",
       "\n",
       "\n"
      ],
      "text/plain": [
       "  c d\n",
       "5 0 6\n",
       "6 0 6"
      ]
     },
     "metadata": {},
     "output_type": "display_data"
    }
   ],
   "source": [
    "df[c(5,6), c(\"c\", \"d\")]"
   ]
  },
  {
   "cell_type": "markdown",
   "metadata": {},
   "source": [
    "## Logical vector, used to filter rows:"
   ]
  },
  {
   "cell_type": "code",
   "execution_count": 37,
   "metadata": {
    "collapsed": false
   },
   "outputs": [
    {
     "data": {
      "text/html": [
       "<ol class=list-inline>\n",
       "\t<li>FALSE</li>\n",
       "\t<li>FALSE</li>\n",
       "\t<li>FALSE</li>\n",
       "\t<li>FALSE</li>\n",
       "\t<li>FALSE</li>\n",
       "\t<li>TRUE</li>\n",
       "\t<li>TRUE</li>\n",
       "\t<li>TRUE</li>\n",
       "\t<li>TRUE</li>\n",
       "\t<li>TRUE</li>\n",
       "</ol>\n"
      ],
      "text/latex": [
       "\\begin{enumerate*}\n",
       "\\item FALSE\n",
       "\\item FALSE\n",
       "\\item FALSE\n",
       "\\item FALSE\n",
       "\\item FALSE\n",
       "\\item TRUE\n",
       "\\item TRUE\n",
       "\\item TRUE\n",
       "\\item TRUE\n",
       "\\item TRUE\n",
       "\\end{enumerate*}\n"
      ],
      "text/markdown": [
       "1. FALSE\n",
       "2. FALSE\n",
       "3. FALSE\n",
       "4. FALSE\n",
       "5. FALSE\n",
       "6. TRUE\n",
       "7. TRUE\n",
       "8. TRUE\n",
       "9. TRUE\n",
       "10. TRUE\n",
       "\n",
       "\n"
      ],
      "text/plain": [
       " [1] FALSE FALSE FALSE FALSE FALSE  TRUE  TRUE  TRUE  TRUE  TRUE"
      ]
     },
     "metadata": {},
     "output_type": "display_data"
    }
   ],
   "source": [
    "c <- df$a > 5\n",
    "c"
   ]
  },
  {
   "cell_type": "code",
   "execution_count": 38,
   "metadata": {
    "collapsed": false
   },
   "outputs": [
    {
     "data": {
      "text/html": [
       "<table>\n",
       "<thead><tr><th></th><th scope=col>a</th><th scope=col>b</th><th scope=col>c</th><th scope=col>d</th></tr></thead>\n",
       "<tbody>\n",
       "\t<tr><th scope=row>6</th><td> 6</td><td>0 </td><td>0 </td><td>6 </td></tr>\n",
       "\t<tr><th scope=row>7</th><td> 7</td><td>0 </td><td>0 </td><td>6 </td></tr>\n",
       "\t<tr><th scope=row>8</th><td> 8</td><td>0 </td><td>0 </td><td>6 </td></tr>\n",
       "\t<tr><th scope=row>9</th><td> 9</td><td>0 </td><td>0 </td><td>6 </td></tr>\n",
       "\t<tr><th scope=row>10</th><td>10</td><td>0 </td><td>0 </td><td>6 </td></tr>\n",
       "</tbody>\n",
       "</table>\n"
      ],
      "text/latex": [
       "\\begin{tabular}{r|llll}\n",
       "  & a & b & c & d\\\\\n",
       "\\hline\n",
       "\t6 &  6 & 0  & 0  & 6 \\\\\n",
       "\t7 &  7 & 0  & 0  & 6 \\\\\n",
       "\t8 &  8 & 0  & 0  & 6 \\\\\n",
       "\t9 &  9 & 0  & 0  & 6 \\\\\n",
       "\t10 & 10 & 0  & 0  & 6 \\\\\n",
       "\\end{tabular}\n"
      ],
      "text/markdown": [
       "\n",
       "| <!--/--> | a | b | c | d | \n",
       "|---|---|---|---|---|\n",
       "| 6 |  6 | 0  | 0  | 6  | \n",
       "| 7 |  7 | 0  | 0  | 6  | \n",
       "| 8 |  8 | 0  | 0  | 6  | \n",
       "| 9 |  9 | 0  | 0  | 6  | \n",
       "| 10 | 10 | 0  | 0  | 6  | \n",
       "\n",
       "\n"
      ],
      "text/plain": [
       "   a  b c d\n",
       "6   6 0 0 6\n",
       "7   7 0 0 6\n",
       "8   8 0 0 6\n",
       "9   9 0 0 6\n",
       "10 10 0 0 6"
      ]
     },
     "metadata": {},
     "output_type": "display_data"
    }
   ],
   "source": [
    "df[c,]"
   ]
  },
  {
   "cell_type": "markdown",
   "metadata": {},
   "source": [
    "## Built-in dataset & dplyr examples"
   ]
  },
  {
   "cell_type": "code",
   "execution_count": 41,
   "metadata": {
    "collapsed": true
   },
   "outputs": [],
   "source": [
    "# This won't show results in the notebook,\n",
    "# but rather in a separate pop-up; this and\n",
    "# help() will invoke R's documentation\n",
    "? mtcars"
   ]
  },
  {
   "cell_type": "code",
   "execution_count": 42,
   "metadata": {
    "collapsed": false
   },
   "outputs": [
    {
     "name": "stderr",
     "output_type": "stream",
     "text": [
      "\n",
      "Attaching package: ‘dplyr’\n",
      "\n",
      "The following objects are masked from ‘package:stats’:\n",
      "\n",
      "    filter, lag\n",
      "\n",
      "The following objects are masked from ‘package:base’:\n",
      "\n",
      "    intersect, setdiff, setequal, union\n",
      "\n"
     ]
    }
   ],
   "source": [
    "library(dplyr)\n",
    "mtcars2 <- tibble::rownames_to_column(mtcars) %>% rename(car= rowname)"
   ]
  },
  {
   "cell_type": "code",
   "execution_count": 43,
   "metadata": {
    "collapsed": false
   },
   "outputs": [
    {
     "data": {
      "text/html": [
       "<table>\n",
       "<thead><tr><th></th><th scope=col>mpg</th><th scope=col>cyl</th><th scope=col>disp</th><th scope=col>hp</th><th scope=col>drat</th><th scope=col>wt</th><th scope=col>qsec</th><th scope=col>vs</th><th scope=col>am</th><th scope=col>gear</th><th scope=col>carb</th></tr></thead>\n",
       "<tbody>\n",
       "\t<tr><th scope=row>Mazda RX4</th><td>21.0 </td><td>6    </td><td>160.0</td><td>110  </td><td>3.90 </td><td>2.620</td><td>16.46</td><td>0    </td><td>1    </td><td>4    </td><td>4    </td></tr>\n",
       "\t<tr><th scope=row>Mazda RX4 Wag</th><td>21.0 </td><td>6    </td><td>160.0</td><td>110  </td><td>3.90 </td><td>2.875</td><td>17.02</td><td>0    </td><td>1    </td><td>4    </td><td>4    </td></tr>\n",
       "\t<tr><th scope=row>Datsun 710</th><td>22.8 </td><td>4    </td><td>108.0</td><td> 93  </td><td>3.85 </td><td>2.320</td><td>18.61</td><td>1    </td><td>1    </td><td>4    </td><td>1    </td></tr>\n",
       "\t<tr><th scope=row>Hornet 4 Drive</th><td>21.4 </td><td>6    </td><td>258.0</td><td>110  </td><td>3.08 </td><td>3.215</td><td>19.44</td><td>1    </td><td>0    </td><td>3    </td><td>1    </td></tr>\n",
       "\t<tr><th scope=row>Hornet Sportabout</th><td>18.7 </td><td>8    </td><td>360.0</td><td>175  </td><td>3.15 </td><td>3.440</td><td>17.02</td><td>0    </td><td>0    </td><td>3    </td><td>2    </td></tr>\n",
       "\t<tr><th scope=row>Valiant</th><td>18.1 </td><td>6    </td><td>225.0</td><td>105  </td><td>2.76 </td><td>3.460</td><td>20.22</td><td>1    </td><td>0    </td><td>3    </td><td>1    </td></tr>\n",
       "\t<tr><th scope=row>Duster 360</th><td>14.3 </td><td>8    </td><td>360.0</td><td>245  </td><td>3.21 </td><td>3.570</td><td>15.84</td><td>0    </td><td>0    </td><td>3    </td><td>4    </td></tr>\n",
       "\t<tr><th scope=row>Merc 240D</th><td>24.4 </td><td>4    </td><td>146.7</td><td> 62  </td><td>3.69 </td><td>3.190</td><td>20.00</td><td>1    </td><td>0    </td><td>4    </td><td>2    </td></tr>\n",
       "\t<tr><th scope=row>Merc 230</th><td>22.8 </td><td>4    </td><td>140.8</td><td> 95  </td><td>3.92 </td><td>3.150</td><td>22.90</td><td>1    </td><td>0    </td><td>4    </td><td>2    </td></tr>\n",
       "\t<tr><th scope=row>Merc 280</th><td>19.2 </td><td>6    </td><td>167.6</td><td>123  </td><td>3.92 </td><td>3.440</td><td>18.30</td><td>1    </td><td>0    </td><td>4    </td><td>4    </td></tr>\n",
       "\t<tr><th scope=row>Merc 280C</th><td>17.8 </td><td>6    </td><td>167.6</td><td>123  </td><td>3.92 </td><td>3.440</td><td>18.90</td><td>1    </td><td>0    </td><td>4    </td><td>4    </td></tr>\n",
       "\t<tr><th scope=row>Merc 450SE</th><td>16.4 </td><td>8    </td><td>275.8</td><td>180  </td><td>3.07 </td><td>4.070</td><td>17.40</td><td>0    </td><td>0    </td><td>3    </td><td>3    </td></tr>\n",
       "\t<tr><th scope=row>Merc 450SL</th><td>17.3 </td><td>8    </td><td>275.8</td><td>180  </td><td>3.07 </td><td>3.730</td><td>17.60</td><td>0    </td><td>0    </td><td>3    </td><td>3    </td></tr>\n",
       "\t<tr><th scope=row>Merc 450SLC</th><td>15.2 </td><td>8    </td><td>275.8</td><td>180  </td><td>3.07 </td><td>3.780</td><td>18.00</td><td>0    </td><td>0    </td><td>3    </td><td>3    </td></tr>\n",
       "\t<tr><th scope=row>Cadillac Fleetwood</th><td>10.4 </td><td>8    </td><td>472.0</td><td>205  </td><td>2.93 </td><td>5.250</td><td>17.98</td><td>0    </td><td>0    </td><td>3    </td><td>4    </td></tr>\n",
       "\t<tr><th scope=row>Lincoln Continental</th><td>10.4 </td><td>8    </td><td>460.0</td><td>215  </td><td>3.00 </td><td>5.424</td><td>17.82</td><td>0    </td><td>0    </td><td>3    </td><td>4    </td></tr>\n",
       "\t<tr><th scope=row>Chrysler Imperial</th><td>14.7 </td><td>8    </td><td>440.0</td><td>230  </td><td>3.23 </td><td>5.345</td><td>17.42</td><td>0    </td><td>0    </td><td>3    </td><td>4    </td></tr>\n",
       "\t<tr><th scope=row>Fiat 128</th><td>32.4 </td><td>4    </td><td> 78.7</td><td> 66  </td><td>4.08 </td><td>2.200</td><td>19.47</td><td>1    </td><td>1    </td><td>4    </td><td>1    </td></tr>\n",
       "\t<tr><th scope=row>Honda Civic</th><td>30.4 </td><td>4    </td><td> 75.7</td><td> 52  </td><td>4.93 </td><td>1.615</td><td>18.52</td><td>1    </td><td>1    </td><td>4    </td><td>2    </td></tr>\n",
       "\t<tr><th scope=row>Toyota Corolla</th><td>33.9 </td><td>4    </td><td> 71.1</td><td> 65  </td><td>4.22 </td><td>1.835</td><td>19.90</td><td>1    </td><td>1    </td><td>4    </td><td>1    </td></tr>\n",
       "\t<tr><th scope=row>Toyota Corona</th><td>21.5 </td><td>4    </td><td>120.1</td><td> 97  </td><td>3.70 </td><td>2.465</td><td>20.01</td><td>1    </td><td>0    </td><td>3    </td><td>1    </td></tr>\n",
       "\t<tr><th scope=row>Dodge Challenger</th><td>15.5 </td><td>8    </td><td>318.0</td><td>150  </td><td>2.76 </td><td>3.520</td><td>16.87</td><td>0    </td><td>0    </td><td>3    </td><td>2    </td></tr>\n",
       "\t<tr><th scope=row>AMC Javelin</th><td>15.2 </td><td>8    </td><td>304.0</td><td>150  </td><td>3.15 </td><td>3.435</td><td>17.30</td><td>0    </td><td>0    </td><td>3    </td><td>2    </td></tr>\n",
       "\t<tr><th scope=row>Camaro Z28</th><td>13.3 </td><td>8    </td><td>350.0</td><td>245  </td><td>3.73 </td><td>3.840</td><td>15.41</td><td>0    </td><td>0    </td><td>3    </td><td>4    </td></tr>\n",
       "\t<tr><th scope=row>Pontiac Firebird</th><td>19.2 </td><td>8    </td><td>400.0</td><td>175  </td><td>3.08 </td><td>3.845</td><td>17.05</td><td>0    </td><td>0    </td><td>3    </td><td>2    </td></tr>\n",
       "\t<tr><th scope=row>Fiat X1-9</th><td>27.3 </td><td>4    </td><td> 79.0</td><td> 66  </td><td>4.08 </td><td>1.935</td><td>18.90</td><td>1    </td><td>1    </td><td>4    </td><td>1    </td></tr>\n",
       "\t<tr><th scope=row>Porsche 914-2</th><td>26.0 </td><td>4    </td><td>120.3</td><td> 91  </td><td>4.43 </td><td>2.140</td><td>16.70</td><td>0    </td><td>1    </td><td>5    </td><td>2    </td></tr>\n",
       "\t<tr><th scope=row>Lotus Europa</th><td>30.4 </td><td>4    </td><td> 95.1</td><td>113  </td><td>3.77 </td><td>1.513</td><td>16.90</td><td>1    </td><td>1    </td><td>5    </td><td>2    </td></tr>\n",
       "\t<tr><th scope=row>Ford Pantera L</th><td>15.8 </td><td>8    </td><td>351.0</td><td>264  </td><td>4.22 </td><td>3.170</td><td>14.50</td><td>0    </td><td>1    </td><td>5    </td><td>4    </td></tr>\n",
       "\t<tr><th scope=row>Ferrari Dino</th><td>19.7 </td><td>6    </td><td>145.0</td><td>175  </td><td>3.62 </td><td>2.770</td><td>15.50</td><td>0    </td><td>1    </td><td>5    </td><td>6    </td></tr>\n",
       "\t<tr><th scope=row>Maserati Bora</th><td>15.0 </td><td>8    </td><td>301.0</td><td>335  </td><td>3.54 </td><td>3.570</td><td>14.60</td><td>0    </td><td>1    </td><td>5    </td><td>8    </td></tr>\n",
       "\t<tr><th scope=row>Volvo 142E</th><td>21.4 </td><td>4    </td><td>121.0</td><td>109  </td><td>4.11 </td><td>2.780</td><td>18.60</td><td>1    </td><td>1    </td><td>4    </td><td>2    </td></tr>\n",
       "</tbody>\n",
       "</table>\n"
      ],
      "text/latex": [
       "\\begin{tabular}{r|lllllllllll}\n",
       "  & mpg & cyl & disp & hp & drat & wt & qsec & vs & am & gear & carb\\\\\n",
       "\\hline\n",
       "\tMazda RX4 & 21.0  & 6     & 160.0 & 110   & 3.90  & 2.620 & 16.46 & 0     & 1     & 4     & 4    \\\\\n",
       "\tMazda RX4 Wag & 21.0  & 6     & 160.0 & 110   & 3.90  & 2.875 & 17.02 & 0     & 1     & 4     & 4    \\\\\n",
       "\tDatsun 710 & 22.8  & 4     & 108.0 &  93   & 3.85  & 2.320 & 18.61 & 1     & 1     & 4     & 1    \\\\\n",
       "\tHornet 4 Drive & 21.4  & 6     & 258.0 & 110   & 3.08  & 3.215 & 19.44 & 1     & 0     & 3     & 1    \\\\\n",
       "\tHornet Sportabout & 18.7  & 8     & 360.0 & 175   & 3.15  & 3.440 & 17.02 & 0     & 0     & 3     & 2    \\\\\n",
       "\tValiant & 18.1  & 6     & 225.0 & 105   & 2.76  & 3.460 & 20.22 & 1     & 0     & 3     & 1    \\\\\n",
       "\tDuster 360 & 14.3  & 8     & 360.0 & 245   & 3.21  & 3.570 & 15.84 & 0     & 0     & 3     & 4    \\\\\n",
       "\tMerc 240D & 24.4  & 4     & 146.7 &  62   & 3.69  & 3.190 & 20.00 & 1     & 0     & 4     & 2    \\\\\n",
       "\tMerc 230 & 22.8  & 4     & 140.8 &  95   & 3.92  & 3.150 & 22.90 & 1     & 0     & 4     & 2    \\\\\n",
       "\tMerc 280 & 19.2  & 6     & 167.6 & 123   & 3.92  & 3.440 & 18.30 & 1     & 0     & 4     & 4    \\\\\n",
       "\tMerc 280C & 17.8  & 6     & 167.6 & 123   & 3.92  & 3.440 & 18.90 & 1     & 0     & 4     & 4    \\\\\n",
       "\tMerc 450SE & 16.4  & 8     & 275.8 & 180   & 3.07  & 4.070 & 17.40 & 0     & 0     & 3     & 3    \\\\\n",
       "\tMerc 450SL & 17.3  & 8     & 275.8 & 180   & 3.07  & 3.730 & 17.60 & 0     & 0     & 3     & 3    \\\\\n",
       "\tMerc 450SLC & 15.2  & 8     & 275.8 & 180   & 3.07  & 3.780 & 18.00 & 0     & 0     & 3     & 3    \\\\\n",
       "\tCadillac Fleetwood & 10.4  & 8     & 472.0 & 205   & 2.93  & 5.250 & 17.98 & 0     & 0     & 3     & 4    \\\\\n",
       "\tLincoln Continental & 10.4  & 8     & 460.0 & 215   & 3.00  & 5.424 & 17.82 & 0     & 0     & 3     & 4    \\\\\n",
       "\tChrysler Imperial & 14.7  & 8     & 440.0 & 230   & 3.23  & 5.345 & 17.42 & 0     & 0     & 3     & 4    \\\\\n",
       "\tFiat 128 & 32.4  & 4     &  78.7 &  66   & 4.08  & 2.200 & 19.47 & 1     & 1     & 4     & 1    \\\\\n",
       "\tHonda Civic & 30.4  & 4     &  75.7 &  52   & 4.93  & 1.615 & 18.52 & 1     & 1     & 4     & 2    \\\\\n",
       "\tToyota Corolla & 33.9  & 4     &  71.1 &  65   & 4.22  & 1.835 & 19.90 & 1     & 1     & 4     & 1    \\\\\n",
       "\tToyota Corona & 21.5  & 4     & 120.1 &  97   & 3.70  & 2.465 & 20.01 & 1     & 0     & 3     & 1    \\\\\n",
       "\tDodge Challenger & 15.5  & 8     & 318.0 & 150   & 2.76  & 3.520 & 16.87 & 0     & 0     & 3     & 2    \\\\\n",
       "\tAMC Javelin & 15.2  & 8     & 304.0 & 150   & 3.15  & 3.435 & 17.30 & 0     & 0     & 3     & 2    \\\\\n",
       "\tCamaro Z28 & 13.3  & 8     & 350.0 & 245   & 3.73  & 3.840 & 15.41 & 0     & 0     & 3     & 4    \\\\\n",
       "\tPontiac Firebird & 19.2  & 8     & 400.0 & 175   & 3.08  & 3.845 & 17.05 & 0     & 0     & 3     & 2    \\\\\n",
       "\tFiat X1-9 & 27.3  & 4     &  79.0 &  66   & 4.08  & 1.935 & 18.90 & 1     & 1     & 4     & 1    \\\\\n",
       "\tPorsche 914-2 & 26.0  & 4     & 120.3 &  91   & 4.43  & 2.140 & 16.70 & 0     & 1     & 5     & 2    \\\\\n",
       "\tLotus Europa & 30.4  & 4     &  95.1 & 113   & 3.77  & 1.513 & 16.90 & 1     & 1     & 5     & 2    \\\\\n",
       "\tFord Pantera L & 15.8  & 8     & 351.0 & 264   & 4.22  & 3.170 & 14.50 & 0     & 1     & 5     & 4    \\\\\n",
       "\tFerrari Dino & 19.7  & 6     & 145.0 & 175   & 3.62  & 2.770 & 15.50 & 0     & 1     & 5     & 6    \\\\\n",
       "\tMaserati Bora & 15.0  & 8     & 301.0 & 335   & 3.54  & 3.570 & 14.60 & 0     & 1     & 5     & 8    \\\\\n",
       "\tVolvo 142E & 21.4  & 4     & 121.0 & 109   & 4.11  & 2.780 & 18.60 & 1     & 1     & 4     & 2    \\\\\n",
       "\\end{tabular}\n"
      ],
      "text/markdown": [
       "\n",
       "| <!--/--> | mpg | cyl | disp | hp | drat | wt | qsec | vs | am | gear | carb | \n",
       "|---|---|---|---|---|---|---|---|---|---|---|---|---|---|---|---|---|---|---|---|---|---|---|---|---|---|---|---|---|---|---|---|\n",
       "| Mazda RX4 | 21.0  | 6     | 160.0 | 110   | 3.90  | 2.620 | 16.46 | 0     | 1     | 4     | 4     | \n",
       "| Mazda RX4 Wag | 21.0  | 6     | 160.0 | 110   | 3.90  | 2.875 | 17.02 | 0     | 1     | 4     | 4     | \n",
       "| Datsun 710 | 22.8  | 4     | 108.0 |  93   | 3.85  | 2.320 | 18.61 | 1     | 1     | 4     | 1     | \n",
       "| Hornet 4 Drive | 21.4  | 6     | 258.0 | 110   | 3.08  | 3.215 | 19.44 | 1     | 0     | 3     | 1     | \n",
       "| Hornet Sportabout | 18.7  | 8     | 360.0 | 175   | 3.15  | 3.440 | 17.02 | 0     | 0     | 3     | 2     | \n",
       "| Valiant | 18.1  | 6     | 225.0 | 105   | 2.76  | 3.460 | 20.22 | 1     | 0     | 3     | 1     | \n",
       "| Duster 360 | 14.3  | 8     | 360.0 | 245   | 3.21  | 3.570 | 15.84 | 0     | 0     | 3     | 4     | \n",
       "| Merc 240D | 24.4  | 4     | 146.7 |  62   | 3.69  | 3.190 | 20.00 | 1     | 0     | 4     | 2     | \n",
       "| Merc 230 | 22.8  | 4     | 140.8 |  95   | 3.92  | 3.150 | 22.90 | 1     | 0     | 4     | 2     | \n",
       "| Merc 280 | 19.2  | 6     | 167.6 | 123   | 3.92  | 3.440 | 18.30 | 1     | 0     | 4     | 4     | \n",
       "| Merc 280C | 17.8  | 6     | 167.6 | 123   | 3.92  | 3.440 | 18.90 | 1     | 0     | 4     | 4     | \n",
       "| Merc 450SE | 16.4  | 8     | 275.8 | 180   | 3.07  | 4.070 | 17.40 | 0     | 0     | 3     | 3     | \n",
       "| Merc 450SL | 17.3  | 8     | 275.8 | 180   | 3.07  | 3.730 | 17.60 | 0     | 0     | 3     | 3     | \n",
       "| Merc 450SLC | 15.2  | 8     | 275.8 | 180   | 3.07  | 3.780 | 18.00 | 0     | 0     | 3     | 3     | \n",
       "| Cadillac Fleetwood | 10.4  | 8     | 472.0 | 205   | 2.93  | 5.250 | 17.98 | 0     | 0     | 3     | 4     | \n",
       "| Lincoln Continental | 10.4  | 8     | 460.0 | 215   | 3.00  | 5.424 | 17.82 | 0     | 0     | 3     | 4     | \n",
       "| Chrysler Imperial | 14.7  | 8     | 440.0 | 230   | 3.23  | 5.345 | 17.42 | 0     | 0     | 3     | 4     | \n",
       "| Fiat 128 | 32.4  | 4     |  78.7 |  66   | 4.08  | 2.200 | 19.47 | 1     | 1     | 4     | 1     | \n",
       "| Honda Civic | 30.4  | 4     |  75.7 |  52   | 4.93  | 1.615 | 18.52 | 1     | 1     | 4     | 2     | \n",
       "| Toyota Corolla | 33.9  | 4     |  71.1 |  65   | 4.22  | 1.835 | 19.90 | 1     | 1     | 4     | 1     | \n",
       "| Toyota Corona | 21.5  | 4     | 120.1 |  97   | 3.70  | 2.465 | 20.01 | 1     | 0     | 3     | 1     | \n",
       "| Dodge Challenger | 15.5  | 8     | 318.0 | 150   | 2.76  | 3.520 | 16.87 | 0     | 0     | 3     | 2     | \n",
       "| AMC Javelin | 15.2  | 8     | 304.0 | 150   | 3.15  | 3.435 | 17.30 | 0     | 0     | 3     | 2     | \n",
       "| Camaro Z28 | 13.3  | 8     | 350.0 | 245   | 3.73  | 3.840 | 15.41 | 0     | 0     | 3     | 4     | \n",
       "| Pontiac Firebird | 19.2  | 8     | 400.0 | 175   | 3.08  | 3.845 | 17.05 | 0     | 0     | 3     | 2     | \n",
       "| Fiat X1-9 | 27.3  | 4     |  79.0 |  66   | 4.08  | 1.935 | 18.90 | 1     | 1     | 4     | 1     | \n",
       "| Porsche 914-2 | 26.0  | 4     | 120.3 |  91   | 4.43  | 2.140 | 16.70 | 0     | 1     | 5     | 2     | \n",
       "| Lotus Europa | 30.4  | 4     |  95.1 | 113   | 3.77  | 1.513 | 16.90 | 1     | 1     | 5     | 2     | \n",
       "| Ford Pantera L | 15.8  | 8     | 351.0 | 264   | 4.22  | 3.170 | 14.50 | 0     | 1     | 5     | 4     | \n",
       "| Ferrari Dino | 19.7  | 6     | 145.0 | 175   | 3.62  | 2.770 | 15.50 | 0     | 1     | 5     | 6     | \n",
       "| Maserati Bora | 15.0  | 8     | 301.0 | 335   | 3.54  | 3.570 | 14.60 | 0     | 1     | 5     | 8     | \n",
       "| Volvo 142E | 21.4  | 4     | 121.0 | 109   | 4.11  | 2.780 | 18.60 | 1     | 1     | 4     | 2     | \n",
       "\n",
       "\n"
      ],
      "text/plain": [
       "                    mpg  cyl disp  hp  drat wt    qsec  vs am gear carb\n",
       "Mazda RX4           21.0 6   160.0 110 3.90 2.620 16.46 0  1  4    4   \n",
       "Mazda RX4 Wag       21.0 6   160.0 110 3.90 2.875 17.02 0  1  4    4   \n",
       "Datsun 710          22.8 4   108.0  93 3.85 2.320 18.61 1  1  4    1   \n",
       "Hornet 4 Drive      21.4 6   258.0 110 3.08 3.215 19.44 1  0  3    1   \n",
       "Hornet Sportabout   18.7 8   360.0 175 3.15 3.440 17.02 0  0  3    2   \n",
       "Valiant             18.1 6   225.0 105 2.76 3.460 20.22 1  0  3    1   \n",
       "Duster 360          14.3 8   360.0 245 3.21 3.570 15.84 0  0  3    4   \n",
       "Merc 240D           24.4 4   146.7  62 3.69 3.190 20.00 1  0  4    2   \n",
       "Merc 230            22.8 4   140.8  95 3.92 3.150 22.90 1  0  4    2   \n",
       "Merc 280            19.2 6   167.6 123 3.92 3.440 18.30 1  0  4    4   \n",
       "Merc 280C           17.8 6   167.6 123 3.92 3.440 18.90 1  0  4    4   \n",
       "Merc 450SE          16.4 8   275.8 180 3.07 4.070 17.40 0  0  3    3   \n",
       "Merc 450SL          17.3 8   275.8 180 3.07 3.730 17.60 0  0  3    3   \n",
       "Merc 450SLC         15.2 8   275.8 180 3.07 3.780 18.00 0  0  3    3   \n",
       "Cadillac Fleetwood  10.4 8   472.0 205 2.93 5.250 17.98 0  0  3    4   \n",
       "Lincoln Continental 10.4 8   460.0 215 3.00 5.424 17.82 0  0  3    4   \n",
       "Chrysler Imperial   14.7 8   440.0 230 3.23 5.345 17.42 0  0  3    4   \n",
       "Fiat 128            32.4 4    78.7  66 4.08 2.200 19.47 1  1  4    1   \n",
       "Honda Civic         30.4 4    75.7  52 4.93 1.615 18.52 1  1  4    2   \n",
       "Toyota Corolla      33.9 4    71.1  65 4.22 1.835 19.90 1  1  4    1   \n",
       "Toyota Corona       21.5 4   120.1  97 3.70 2.465 20.01 1  0  3    1   \n",
       "Dodge Challenger    15.5 8   318.0 150 2.76 3.520 16.87 0  0  3    2   \n",
       "AMC Javelin         15.2 8   304.0 150 3.15 3.435 17.30 0  0  3    2   \n",
       "Camaro Z28          13.3 8   350.0 245 3.73 3.840 15.41 0  0  3    4   \n",
       "Pontiac Firebird    19.2 8   400.0 175 3.08 3.845 17.05 0  0  3    2   \n",
       "Fiat X1-9           27.3 4    79.0  66 4.08 1.935 18.90 1  1  4    1   \n",
       "Porsche 914-2       26.0 4   120.3  91 4.43 2.140 16.70 0  1  5    2   \n",
       "Lotus Europa        30.4 4    95.1 113 3.77 1.513 16.90 1  1  5    2   \n",
       "Ford Pantera L      15.8 8   351.0 264 4.22 3.170 14.50 0  1  5    4   \n",
       "Ferrari Dino        19.7 6   145.0 175 3.62 2.770 15.50 0  1  5    6   \n",
       "Maserati Bora       15.0 8   301.0 335 3.54 3.570 14.60 0  1  5    8   \n",
       "Volvo 142E          21.4 4   121.0 109 4.11 2.780 18.60 1  1  4    2   "
      ]
     },
     "metadata": {},
     "output_type": "display_data"
    }
   ],
   "source": [
    "mtcars"
   ]
  },
  {
   "cell_type": "code",
   "execution_count": 45,
   "metadata": {
    "collapsed": false
   },
   "outputs": [
    {
     "data": {
      "text/html": [
       "<table>\n",
       "<thead><tr><th scope=col>car</th><th scope=col>mpg</th><th scope=col>cyl</th><th scope=col>disp</th><th scope=col>hp</th><th scope=col>drat</th><th scope=col>wt</th><th scope=col>qsec</th><th scope=col>vs</th><th scope=col>am</th><th scope=col>gear</th><th scope=col>carb</th></tr></thead>\n",
       "<tbody>\n",
       "\t<tr><td>Mazda RX4          </td><td>21.0               </td><td>6                  </td><td>160.0              </td><td>110                </td><td>3.90               </td><td>2.620              </td><td>16.46              </td><td>0                  </td><td>1                  </td><td>4                  </td><td>4                  </td></tr>\n",
       "\t<tr><td>Mazda RX4 Wag      </td><td>21.0               </td><td>6                  </td><td>160.0              </td><td>110                </td><td>3.90               </td><td>2.875              </td><td>17.02              </td><td>0                  </td><td>1                  </td><td>4                  </td><td>4                  </td></tr>\n",
       "\t<tr><td>Datsun 710         </td><td>22.8               </td><td>4                  </td><td>108.0              </td><td> 93                </td><td>3.85               </td><td>2.320              </td><td>18.61              </td><td>1                  </td><td>1                  </td><td>4                  </td><td>1                  </td></tr>\n",
       "\t<tr><td>Hornet 4 Drive     </td><td>21.4               </td><td>6                  </td><td>258.0              </td><td>110                </td><td>3.08               </td><td>3.215              </td><td>19.44              </td><td>1                  </td><td>0                  </td><td>3                  </td><td>1                  </td></tr>\n",
       "\t<tr><td>Hornet Sportabout  </td><td>18.7               </td><td>8                  </td><td>360.0              </td><td>175                </td><td>3.15               </td><td>3.440              </td><td>17.02              </td><td>0                  </td><td>0                  </td><td>3                  </td><td>2                  </td></tr>\n",
       "\t<tr><td>Valiant            </td><td>18.1               </td><td>6                  </td><td>225.0              </td><td>105                </td><td>2.76               </td><td>3.460              </td><td>20.22              </td><td>1                  </td><td>0                  </td><td>3                  </td><td>1                  </td></tr>\n",
       "\t<tr><td>Duster 360         </td><td>14.3               </td><td>8                  </td><td>360.0              </td><td>245                </td><td>3.21               </td><td>3.570              </td><td>15.84              </td><td>0                  </td><td>0                  </td><td>3                  </td><td>4                  </td></tr>\n",
       "\t<tr><td>Merc 240D          </td><td>24.4               </td><td>4                  </td><td>146.7              </td><td> 62                </td><td>3.69               </td><td>3.190              </td><td>20.00              </td><td>1                  </td><td>0                  </td><td>4                  </td><td>2                  </td></tr>\n",
       "\t<tr><td>Merc 230           </td><td>22.8               </td><td>4                  </td><td>140.8              </td><td> 95                </td><td>3.92               </td><td>3.150              </td><td>22.90              </td><td>1                  </td><td>0                  </td><td>4                  </td><td>2                  </td></tr>\n",
       "\t<tr><td>Merc 280           </td><td>19.2               </td><td>6                  </td><td>167.6              </td><td>123                </td><td>3.92               </td><td>3.440              </td><td>18.30              </td><td>1                  </td><td>0                  </td><td>4                  </td><td>4                  </td></tr>\n",
       "\t<tr><td>Merc 280C          </td><td>17.8               </td><td>6                  </td><td>167.6              </td><td>123                </td><td>3.92               </td><td>3.440              </td><td>18.90              </td><td>1                  </td><td>0                  </td><td>4                  </td><td>4                  </td></tr>\n",
       "\t<tr><td>Merc 450SE         </td><td>16.4               </td><td>8                  </td><td>275.8              </td><td>180                </td><td>3.07               </td><td>4.070              </td><td>17.40              </td><td>0                  </td><td>0                  </td><td>3                  </td><td>3                  </td></tr>\n",
       "\t<tr><td>Merc 450SL         </td><td>17.3               </td><td>8                  </td><td>275.8              </td><td>180                </td><td>3.07               </td><td>3.730              </td><td>17.60              </td><td>0                  </td><td>0                  </td><td>3                  </td><td>3                  </td></tr>\n",
       "\t<tr><td>Merc 450SLC        </td><td>15.2               </td><td>8                  </td><td>275.8              </td><td>180                </td><td>3.07               </td><td>3.780              </td><td>18.00              </td><td>0                  </td><td>0                  </td><td>3                  </td><td>3                  </td></tr>\n",
       "\t<tr><td>Cadillac Fleetwood </td><td>10.4               </td><td>8                  </td><td>472.0              </td><td>205                </td><td>2.93               </td><td>5.250              </td><td>17.98              </td><td>0                  </td><td>0                  </td><td>3                  </td><td>4                  </td></tr>\n",
       "\t<tr><td>Lincoln Continental</td><td>10.4               </td><td>8                  </td><td>460.0              </td><td>215                </td><td>3.00               </td><td>5.424              </td><td>17.82              </td><td>0                  </td><td>0                  </td><td>3                  </td><td>4                  </td></tr>\n",
       "\t<tr><td>Chrysler Imperial  </td><td>14.7               </td><td>8                  </td><td>440.0              </td><td>230                </td><td>3.23               </td><td>5.345              </td><td>17.42              </td><td>0                  </td><td>0                  </td><td>3                  </td><td>4                  </td></tr>\n",
       "\t<tr><td>Fiat 128           </td><td>32.4               </td><td>4                  </td><td> 78.7              </td><td> 66                </td><td>4.08               </td><td>2.200              </td><td>19.47              </td><td>1                  </td><td>1                  </td><td>4                  </td><td>1                  </td></tr>\n",
       "\t<tr><td>Honda Civic        </td><td>30.4               </td><td>4                  </td><td> 75.7              </td><td> 52                </td><td>4.93               </td><td>1.615              </td><td>18.52              </td><td>1                  </td><td>1                  </td><td>4                  </td><td>2                  </td></tr>\n",
       "\t<tr><td>Toyota Corolla     </td><td>33.9               </td><td>4                  </td><td> 71.1              </td><td> 65                </td><td>4.22               </td><td>1.835              </td><td>19.90              </td><td>1                  </td><td>1                  </td><td>4                  </td><td>1                  </td></tr>\n",
       "\t<tr><td>Toyota Corona      </td><td>21.5               </td><td>4                  </td><td>120.1              </td><td> 97                </td><td>3.70               </td><td>2.465              </td><td>20.01              </td><td>1                  </td><td>0                  </td><td>3                  </td><td>1                  </td></tr>\n",
       "\t<tr><td>Dodge Challenger   </td><td>15.5               </td><td>8                  </td><td>318.0              </td><td>150                </td><td>2.76               </td><td>3.520              </td><td>16.87              </td><td>0                  </td><td>0                  </td><td>3                  </td><td>2                  </td></tr>\n",
       "\t<tr><td>AMC Javelin        </td><td>15.2               </td><td>8                  </td><td>304.0              </td><td>150                </td><td>3.15               </td><td>3.435              </td><td>17.30              </td><td>0                  </td><td>0                  </td><td>3                  </td><td>2                  </td></tr>\n",
       "\t<tr><td>Camaro Z28         </td><td>13.3               </td><td>8                  </td><td>350.0              </td><td>245                </td><td>3.73               </td><td>3.840              </td><td>15.41              </td><td>0                  </td><td>0                  </td><td>3                  </td><td>4                  </td></tr>\n",
       "\t<tr><td>Pontiac Firebird   </td><td>19.2               </td><td>8                  </td><td>400.0              </td><td>175                </td><td>3.08               </td><td>3.845              </td><td>17.05              </td><td>0                  </td><td>0                  </td><td>3                  </td><td>2                  </td></tr>\n",
       "\t<tr><td>Fiat X1-9          </td><td>27.3               </td><td>4                  </td><td> 79.0              </td><td> 66                </td><td>4.08               </td><td>1.935              </td><td>18.90              </td><td>1                  </td><td>1                  </td><td>4                  </td><td>1                  </td></tr>\n",
       "\t<tr><td>Porsche 914-2      </td><td>26.0               </td><td>4                  </td><td>120.3              </td><td> 91                </td><td>4.43               </td><td>2.140              </td><td>16.70              </td><td>0                  </td><td>1                  </td><td>5                  </td><td>2                  </td></tr>\n",
       "\t<tr><td>Lotus Europa       </td><td>30.4               </td><td>4                  </td><td> 95.1              </td><td>113                </td><td>3.77               </td><td>1.513              </td><td>16.90              </td><td>1                  </td><td>1                  </td><td>5                  </td><td>2                  </td></tr>\n",
       "\t<tr><td>Ford Pantera L     </td><td>15.8               </td><td>8                  </td><td>351.0              </td><td>264                </td><td>4.22               </td><td>3.170              </td><td>14.50              </td><td>0                  </td><td>1                  </td><td>5                  </td><td>4                  </td></tr>\n",
       "\t<tr><td>Ferrari Dino       </td><td>19.7               </td><td>6                  </td><td>145.0              </td><td>175                </td><td>3.62               </td><td>2.770              </td><td>15.50              </td><td>0                  </td><td>1                  </td><td>5                  </td><td>6                  </td></tr>\n",
       "\t<tr><td>Maserati Bora      </td><td>15.0               </td><td>8                  </td><td>301.0              </td><td>335                </td><td>3.54               </td><td>3.570              </td><td>14.60              </td><td>0                  </td><td>1                  </td><td>5                  </td><td>8                  </td></tr>\n",
       "\t<tr><td>Volvo 142E         </td><td>21.4               </td><td>4                  </td><td>121.0              </td><td>109                </td><td>4.11               </td><td>2.780              </td><td>18.60              </td><td>1                  </td><td>1                  </td><td>4                  </td><td>2                  </td></tr>\n",
       "</tbody>\n",
       "</table>\n"
      ],
      "text/latex": [
       "\\begin{tabular}{r|llllllllllll}\n",
       " car & mpg & cyl & disp & hp & drat & wt & qsec & vs & am & gear & carb\\\\\n",
       "\\hline\n",
       "\t Mazda RX4           & 21.0                & 6                   & 160.0               & 110                 & 3.90                & 2.620               & 16.46               & 0                   & 1                   & 4                   & 4                  \\\\\n",
       "\t Mazda RX4 Wag       & 21.0                & 6                   & 160.0               & 110                 & 3.90                & 2.875               & 17.02               & 0                   & 1                   & 4                   & 4                  \\\\\n",
       "\t Datsun 710          & 22.8                & 4                   & 108.0               &  93                 & 3.85                & 2.320               & 18.61               & 1                   & 1                   & 4                   & 1                  \\\\\n",
       "\t Hornet 4 Drive      & 21.4                & 6                   & 258.0               & 110                 & 3.08                & 3.215               & 19.44               & 1                   & 0                   & 3                   & 1                  \\\\\n",
       "\t Hornet Sportabout   & 18.7                & 8                   & 360.0               & 175                 & 3.15                & 3.440               & 17.02               & 0                   & 0                   & 3                   & 2                  \\\\\n",
       "\t Valiant             & 18.1                & 6                   & 225.0               & 105                 & 2.76                & 3.460               & 20.22               & 1                   & 0                   & 3                   & 1                  \\\\\n",
       "\t Duster 360          & 14.3                & 8                   & 360.0               & 245                 & 3.21                & 3.570               & 15.84               & 0                   & 0                   & 3                   & 4                  \\\\\n",
       "\t Merc 240D           & 24.4                & 4                   & 146.7               &  62                 & 3.69                & 3.190               & 20.00               & 1                   & 0                   & 4                   & 2                  \\\\\n",
       "\t Merc 230            & 22.8                & 4                   & 140.8               &  95                 & 3.92                & 3.150               & 22.90               & 1                   & 0                   & 4                   & 2                  \\\\\n",
       "\t Merc 280            & 19.2                & 6                   & 167.6               & 123                 & 3.92                & 3.440               & 18.30               & 1                   & 0                   & 4                   & 4                  \\\\\n",
       "\t Merc 280C           & 17.8                & 6                   & 167.6               & 123                 & 3.92                & 3.440               & 18.90               & 1                   & 0                   & 4                   & 4                  \\\\\n",
       "\t Merc 450SE          & 16.4                & 8                   & 275.8               & 180                 & 3.07                & 4.070               & 17.40               & 0                   & 0                   & 3                   & 3                  \\\\\n",
       "\t Merc 450SL          & 17.3                & 8                   & 275.8               & 180                 & 3.07                & 3.730               & 17.60               & 0                   & 0                   & 3                   & 3                  \\\\\n",
       "\t Merc 450SLC         & 15.2                & 8                   & 275.8               & 180                 & 3.07                & 3.780               & 18.00               & 0                   & 0                   & 3                   & 3                  \\\\\n",
       "\t Cadillac Fleetwood  & 10.4                & 8                   & 472.0               & 205                 & 2.93                & 5.250               & 17.98               & 0                   & 0                   & 3                   & 4                  \\\\\n",
       "\t Lincoln Continental & 10.4                & 8                   & 460.0               & 215                 & 3.00                & 5.424               & 17.82               & 0                   & 0                   & 3                   & 4                  \\\\\n",
       "\t Chrysler Imperial   & 14.7                & 8                   & 440.0               & 230                 & 3.23                & 5.345               & 17.42               & 0                   & 0                   & 3                   & 4                  \\\\\n",
       "\t Fiat 128            & 32.4                & 4                   &  78.7               &  66                 & 4.08                & 2.200               & 19.47               & 1                   & 1                   & 4                   & 1                  \\\\\n",
       "\t Honda Civic         & 30.4                & 4                   &  75.7               &  52                 & 4.93                & 1.615               & 18.52               & 1                   & 1                   & 4                   & 2                  \\\\\n",
       "\t Toyota Corolla      & 33.9                & 4                   &  71.1               &  65                 & 4.22                & 1.835               & 19.90               & 1                   & 1                   & 4                   & 1                  \\\\\n",
       "\t Toyota Corona       & 21.5                & 4                   & 120.1               &  97                 & 3.70                & 2.465               & 20.01               & 1                   & 0                   & 3                   & 1                  \\\\\n",
       "\t Dodge Challenger    & 15.5                & 8                   & 318.0               & 150                 & 2.76                & 3.520               & 16.87               & 0                   & 0                   & 3                   & 2                  \\\\\n",
       "\t AMC Javelin         & 15.2                & 8                   & 304.0               & 150                 & 3.15                & 3.435               & 17.30               & 0                   & 0                   & 3                   & 2                  \\\\\n",
       "\t Camaro Z28          & 13.3                & 8                   & 350.0               & 245                 & 3.73                & 3.840               & 15.41               & 0                   & 0                   & 3                   & 4                  \\\\\n",
       "\t Pontiac Firebird    & 19.2                & 8                   & 400.0               & 175                 & 3.08                & 3.845               & 17.05               & 0                   & 0                   & 3                   & 2                  \\\\\n",
       "\t Fiat X1-9           & 27.3                & 4                   &  79.0               &  66                 & 4.08                & 1.935               & 18.90               & 1                   & 1                   & 4                   & 1                  \\\\\n",
       "\t Porsche 914-2       & 26.0                & 4                   & 120.3               &  91                 & 4.43                & 2.140               & 16.70               & 0                   & 1                   & 5                   & 2                  \\\\\n",
       "\t Lotus Europa        & 30.4                & 4                   &  95.1               & 113                 & 3.77                & 1.513               & 16.90               & 1                   & 1                   & 5                   & 2                  \\\\\n",
       "\t Ford Pantera L      & 15.8                & 8                   & 351.0               & 264                 & 4.22                & 3.170               & 14.50               & 0                   & 1                   & 5                   & 4                  \\\\\n",
       "\t Ferrari Dino        & 19.7                & 6                   & 145.0               & 175                 & 3.62                & 2.770               & 15.50               & 0                   & 1                   & 5                   & 6                  \\\\\n",
       "\t Maserati Bora       & 15.0                & 8                   & 301.0               & 335                 & 3.54                & 3.570               & 14.60               & 0                   & 1                   & 5                   & 8                  \\\\\n",
       "\t Volvo 142E          & 21.4                & 4                   & 121.0               & 109                 & 4.11                & 2.780               & 18.60               & 1                   & 1                   & 4                   & 2                  \\\\\n",
       "\\end{tabular}\n"
      ],
      "text/markdown": [
       "\n",
       "car | mpg | cyl | disp | hp | drat | wt | qsec | vs | am | gear | carb | \n",
       "|---|---|---|---|---|---|---|---|---|---|---|---|---|---|---|---|---|---|---|---|---|---|---|---|---|---|---|---|---|---|---|---|\n",
       "| Mazda RX4           | 21.0                | 6                   | 160.0               | 110                 | 3.90                | 2.620               | 16.46               | 0                   | 1                   | 4                   | 4                   | \n",
       "| Mazda RX4 Wag       | 21.0                | 6                   | 160.0               | 110                 | 3.90                | 2.875               | 17.02               | 0                   | 1                   | 4                   | 4                   | \n",
       "| Datsun 710          | 22.8                | 4                   | 108.0               |  93                 | 3.85                | 2.320               | 18.61               | 1                   | 1                   | 4                   | 1                   | \n",
       "| Hornet 4 Drive      | 21.4                | 6                   | 258.0               | 110                 | 3.08                | 3.215               | 19.44               | 1                   | 0                   | 3                   | 1                   | \n",
       "| Hornet Sportabout   | 18.7                | 8                   | 360.0               | 175                 | 3.15                | 3.440               | 17.02               | 0                   | 0                   | 3                   | 2                   | \n",
       "| Valiant             | 18.1                | 6                   | 225.0               | 105                 | 2.76                | 3.460               | 20.22               | 1                   | 0                   | 3                   | 1                   | \n",
       "| Duster 360          | 14.3                | 8                   | 360.0               | 245                 | 3.21                | 3.570               | 15.84               | 0                   | 0                   | 3                   | 4                   | \n",
       "| Merc 240D           | 24.4                | 4                   | 146.7               |  62                 | 3.69                | 3.190               | 20.00               | 1                   | 0                   | 4                   | 2                   | \n",
       "| Merc 230            | 22.8                | 4                   | 140.8               |  95                 | 3.92                | 3.150               | 22.90               | 1                   | 0                   | 4                   | 2                   | \n",
       "| Merc 280            | 19.2                | 6                   | 167.6               | 123                 | 3.92                | 3.440               | 18.30               | 1                   | 0                   | 4                   | 4                   | \n",
       "| Merc 280C           | 17.8                | 6                   | 167.6               | 123                 | 3.92                | 3.440               | 18.90               | 1                   | 0                   | 4                   | 4                   | \n",
       "| Merc 450SE          | 16.4                | 8                   | 275.8               | 180                 | 3.07                | 4.070               | 17.40               | 0                   | 0                   | 3                   | 3                   | \n",
       "| Merc 450SL          | 17.3                | 8                   | 275.8               | 180                 | 3.07                | 3.730               | 17.60               | 0                   | 0                   | 3                   | 3                   | \n",
       "| Merc 450SLC         | 15.2                | 8                   | 275.8               | 180                 | 3.07                | 3.780               | 18.00               | 0                   | 0                   | 3                   | 3                   | \n",
       "| Cadillac Fleetwood  | 10.4                | 8                   | 472.0               | 205                 | 2.93                | 5.250               | 17.98               | 0                   | 0                   | 3                   | 4                   | \n",
       "| Lincoln Continental | 10.4                | 8                   | 460.0               | 215                 | 3.00                | 5.424               | 17.82               | 0                   | 0                   | 3                   | 4                   | \n",
       "| Chrysler Imperial   | 14.7                | 8                   | 440.0               | 230                 | 3.23                | 5.345               | 17.42               | 0                   | 0                   | 3                   | 4                   | \n",
       "| Fiat 128            | 32.4                | 4                   |  78.7               |  66                 | 4.08                | 2.200               | 19.47               | 1                   | 1                   | 4                   | 1                   | \n",
       "| Honda Civic         | 30.4                | 4                   |  75.7               |  52                 | 4.93                | 1.615               | 18.52               | 1                   | 1                   | 4                   | 2                   | \n",
       "| Toyota Corolla      | 33.9                | 4                   |  71.1               |  65                 | 4.22                | 1.835               | 19.90               | 1                   | 1                   | 4                   | 1                   | \n",
       "| Toyota Corona       | 21.5                | 4                   | 120.1               |  97                 | 3.70                | 2.465               | 20.01               | 1                   | 0                   | 3                   | 1                   | \n",
       "| Dodge Challenger    | 15.5                | 8                   | 318.0               | 150                 | 2.76                | 3.520               | 16.87               | 0                   | 0                   | 3                   | 2                   | \n",
       "| AMC Javelin         | 15.2                | 8                   | 304.0               | 150                 | 3.15                | 3.435               | 17.30               | 0                   | 0                   | 3                   | 2                   | \n",
       "| Camaro Z28          | 13.3                | 8                   | 350.0               | 245                 | 3.73                | 3.840               | 15.41               | 0                   | 0                   | 3                   | 4                   | \n",
       "| Pontiac Firebird    | 19.2                | 8                   | 400.0               | 175                 | 3.08                | 3.845               | 17.05               | 0                   | 0                   | 3                   | 2                   | \n",
       "| Fiat X1-9           | 27.3                | 4                   |  79.0               |  66                 | 4.08                | 1.935               | 18.90               | 1                   | 1                   | 4                   | 1                   | \n",
       "| Porsche 914-2       | 26.0                | 4                   | 120.3               |  91                 | 4.43                | 2.140               | 16.70               | 0                   | 1                   | 5                   | 2                   | \n",
       "| Lotus Europa        | 30.4                | 4                   |  95.1               | 113                 | 3.77                | 1.513               | 16.90               | 1                   | 1                   | 5                   | 2                   | \n",
       "| Ford Pantera L      | 15.8                | 8                   | 351.0               | 264                 | 4.22                | 3.170               | 14.50               | 0                   | 1                   | 5                   | 4                   | \n",
       "| Ferrari Dino        | 19.7                | 6                   | 145.0               | 175                 | 3.62                | 2.770               | 15.50               | 0                   | 1                   | 5                   | 6                   | \n",
       "| Maserati Bora       | 15.0                | 8                   | 301.0               | 335                 | 3.54                | 3.570               | 14.60               | 0                   | 1                   | 5                   | 8                   | \n",
       "| Volvo 142E          | 21.4                | 4                   | 121.0               | 109                 | 4.11                | 2.780               | 18.60               | 1                   | 1                   | 4                   | 2                   | \n",
       "\n",
       "\n"
      ],
      "text/plain": [
       "   car                 mpg  cyl disp  hp  drat wt    qsec  vs am gear carb\n",
       "1  Mazda RX4           21.0 6   160.0 110 3.90 2.620 16.46 0  1  4    4   \n",
       "2  Mazda RX4 Wag       21.0 6   160.0 110 3.90 2.875 17.02 0  1  4    4   \n",
       "3  Datsun 710          22.8 4   108.0  93 3.85 2.320 18.61 1  1  4    1   \n",
       "4  Hornet 4 Drive      21.4 6   258.0 110 3.08 3.215 19.44 1  0  3    1   \n",
       "5  Hornet Sportabout   18.7 8   360.0 175 3.15 3.440 17.02 0  0  3    2   \n",
       "6  Valiant             18.1 6   225.0 105 2.76 3.460 20.22 1  0  3    1   \n",
       "7  Duster 360          14.3 8   360.0 245 3.21 3.570 15.84 0  0  3    4   \n",
       "8  Merc 240D           24.4 4   146.7  62 3.69 3.190 20.00 1  0  4    2   \n",
       "9  Merc 230            22.8 4   140.8  95 3.92 3.150 22.90 1  0  4    2   \n",
       "10 Merc 280            19.2 6   167.6 123 3.92 3.440 18.30 1  0  4    4   \n",
       "11 Merc 280C           17.8 6   167.6 123 3.92 3.440 18.90 1  0  4    4   \n",
       "12 Merc 450SE          16.4 8   275.8 180 3.07 4.070 17.40 0  0  3    3   \n",
       "13 Merc 450SL          17.3 8   275.8 180 3.07 3.730 17.60 0  0  3    3   \n",
       "14 Merc 450SLC         15.2 8   275.8 180 3.07 3.780 18.00 0  0  3    3   \n",
       "15 Cadillac Fleetwood  10.4 8   472.0 205 2.93 5.250 17.98 0  0  3    4   \n",
       "16 Lincoln Continental 10.4 8   460.0 215 3.00 5.424 17.82 0  0  3    4   \n",
       "17 Chrysler Imperial   14.7 8   440.0 230 3.23 5.345 17.42 0  0  3    4   \n",
       "18 Fiat 128            32.4 4    78.7  66 4.08 2.200 19.47 1  1  4    1   \n",
       "19 Honda Civic         30.4 4    75.7  52 4.93 1.615 18.52 1  1  4    2   \n",
       "20 Toyota Corolla      33.9 4    71.1  65 4.22 1.835 19.90 1  1  4    1   \n",
       "21 Toyota Corona       21.5 4   120.1  97 3.70 2.465 20.01 1  0  3    1   \n",
       "22 Dodge Challenger    15.5 8   318.0 150 2.76 3.520 16.87 0  0  3    2   \n",
       "23 AMC Javelin         15.2 8   304.0 150 3.15 3.435 17.30 0  0  3    2   \n",
       "24 Camaro Z28          13.3 8   350.0 245 3.73 3.840 15.41 0  0  3    4   \n",
       "25 Pontiac Firebird    19.2 8   400.0 175 3.08 3.845 17.05 0  0  3    2   \n",
       "26 Fiat X1-9           27.3 4    79.0  66 4.08 1.935 18.90 1  1  4    1   \n",
       "27 Porsche 914-2       26.0 4   120.3  91 4.43 2.140 16.70 0  1  5    2   \n",
       "28 Lotus Europa        30.4 4    95.1 113 3.77 1.513 16.90 1  1  5    2   \n",
       "29 Ford Pantera L      15.8 8   351.0 264 4.22 3.170 14.50 0  1  5    4   \n",
       "30 Ferrari Dino        19.7 6   145.0 175 3.62 2.770 15.50 0  1  5    6   \n",
       "31 Maserati Bora       15.0 8   301.0 335 3.54 3.570 14.60 0  1  5    8   \n",
       "32 Volvo 142E          21.4 4   121.0 109 4.11 2.780 18.60 1  1  4    2   "
      ]
     },
     "metadata": {},
     "output_type": "display_data"
    }
   ],
   "source": [
    "# dplyr doesn't use row names, so mtcars2 has row\n",
    "# names pulled into a separate column (car)\n",
    "mtcars2"
   ]
  },
  {
   "cell_type": "code",
   "execution_count": 46,
   "metadata": {
    "collapsed": false
   },
   "outputs": [
    {
     "data": {
      "text/html": [
       "<table>\n",
       "<thead><tr><th scope=col>car</th><th scope=col>mpg</th><th scope=col>cyl</th><th scope=col>disp</th><th scope=col>hp</th><th scope=col>drat</th><th scope=col>wt</th><th scope=col>qsec</th><th scope=col>vs</th><th scope=col>am</th><th scope=col>gear</th><th scope=col>carb</th></tr></thead>\n",
       "<tbody>\n",
       "\t<tr><td>Mazda RX4     </td><td>21.0          </td><td>6             </td><td>160.0         </td><td>110           </td><td>3.90          </td><td>2.620         </td><td>16.46         </td><td>0             </td><td>1             </td><td>4             </td><td>4             </td></tr>\n",
       "\t<tr><td>Mazda RX4 Wag </td><td>21.0          </td><td>6             </td><td>160.0         </td><td>110           </td><td>3.90          </td><td>2.875         </td><td>17.02         </td><td>0             </td><td>1             </td><td>4             </td><td>4             </td></tr>\n",
       "\t<tr><td>Datsun 710    </td><td>22.8          </td><td>4             </td><td>108.0         </td><td> 93           </td><td>3.85          </td><td>2.320         </td><td>18.61         </td><td>1             </td><td>1             </td><td>4             </td><td>1             </td></tr>\n",
       "\t<tr><td>Fiat 128      </td><td>32.4          </td><td>4             </td><td> 78.7         </td><td> 66           </td><td>4.08          </td><td>2.200         </td><td>19.47         </td><td>1             </td><td>1             </td><td>4             </td><td>1             </td></tr>\n",
       "\t<tr><td>Honda Civic   </td><td>30.4          </td><td>4             </td><td> 75.7         </td><td> 52           </td><td>4.93          </td><td>1.615         </td><td>18.52         </td><td>1             </td><td>1             </td><td>4             </td><td>2             </td></tr>\n",
       "\t<tr><td>Toyota Corolla</td><td>33.9          </td><td>4             </td><td> 71.1         </td><td> 65           </td><td>4.22          </td><td>1.835         </td><td>19.90         </td><td>1             </td><td>1             </td><td>4             </td><td>1             </td></tr>\n",
       "\t<tr><td>Fiat X1-9     </td><td>27.3          </td><td>4             </td><td> 79.0         </td><td> 66           </td><td>4.08          </td><td>1.935         </td><td>18.90         </td><td>1             </td><td>1             </td><td>4             </td><td>1             </td></tr>\n",
       "\t<tr><td>Volvo 142E    </td><td>21.4          </td><td>4             </td><td>121.0         </td><td>109           </td><td>4.11          </td><td>2.780         </td><td>18.60         </td><td>1             </td><td>1             </td><td>4             </td><td>2             </td></tr>\n",
       "</tbody>\n",
       "</table>\n"
      ],
      "text/latex": [
       "\\begin{tabular}{r|llllllllllll}\n",
       " car & mpg & cyl & disp & hp & drat & wt & qsec & vs & am & gear & carb\\\\\n",
       "\\hline\n",
       "\t Mazda RX4      & 21.0           & 6              & 160.0          & 110            & 3.90           & 2.620          & 16.46          & 0              & 1              & 4              & 4             \\\\\n",
       "\t Mazda RX4 Wag  & 21.0           & 6              & 160.0          & 110            & 3.90           & 2.875          & 17.02          & 0              & 1              & 4              & 4             \\\\\n",
       "\t Datsun 710     & 22.8           & 4              & 108.0          &  93            & 3.85           & 2.320          & 18.61          & 1              & 1              & 4              & 1             \\\\\n",
       "\t Fiat 128       & 32.4           & 4              &  78.7          &  66            & 4.08           & 2.200          & 19.47          & 1              & 1              & 4              & 1             \\\\\n",
       "\t Honda Civic    & 30.4           & 4              &  75.7          &  52            & 4.93           & 1.615          & 18.52          & 1              & 1              & 4              & 2             \\\\\n",
       "\t Toyota Corolla & 33.9           & 4              &  71.1          &  65            & 4.22           & 1.835          & 19.90          & 1              & 1              & 4              & 1             \\\\\n",
       "\t Fiat X1-9      & 27.3           & 4              &  79.0          &  66            & 4.08           & 1.935          & 18.90          & 1              & 1              & 4              & 1             \\\\\n",
       "\t Volvo 142E     & 21.4           & 4              & 121.0          & 109            & 4.11           & 2.780          & 18.60          & 1              & 1              & 4              & 2             \\\\\n",
       "\\end{tabular}\n"
      ],
      "text/markdown": [
       "\n",
       "car | mpg | cyl | disp | hp | drat | wt | qsec | vs | am | gear | carb | \n",
       "|---|---|---|---|---|---|---|---|\n",
       "| Mazda RX4      | 21.0           | 6              | 160.0          | 110            | 3.90           | 2.620          | 16.46          | 0              | 1              | 4              | 4              | \n",
       "| Mazda RX4 Wag  | 21.0           | 6              | 160.0          | 110            | 3.90           | 2.875          | 17.02          | 0              | 1              | 4              | 4              | \n",
       "| Datsun 710     | 22.8           | 4              | 108.0          |  93            | 3.85           | 2.320          | 18.61          | 1              | 1              | 4              | 1              | \n",
       "| Fiat 128       | 32.4           | 4              |  78.7          |  66            | 4.08           | 2.200          | 19.47          | 1              | 1              | 4              | 1              | \n",
       "| Honda Civic    | 30.4           | 4              |  75.7          |  52            | 4.93           | 1.615          | 18.52          | 1              | 1              | 4              | 2              | \n",
       "| Toyota Corolla | 33.9           | 4              |  71.1          |  65            | 4.22           | 1.835          | 19.90          | 1              | 1              | 4              | 1              | \n",
       "| Fiat X1-9      | 27.3           | 4              |  79.0          |  66            | 4.08           | 1.935          | 18.90          | 1              | 1              | 4              | 1              | \n",
       "| Volvo 142E     | 21.4           | 4              | 121.0          | 109            | 4.11           | 2.780          | 18.60          | 1              | 1              | 4              | 2              | \n",
       "\n",
       "\n"
      ],
      "text/plain": [
       "  car            mpg  cyl disp  hp  drat wt    qsec  vs am gear carb\n",
       "1 Mazda RX4      21.0 6   160.0 110 3.90 2.620 16.46 0  1  4    4   \n",
       "2 Mazda RX4 Wag  21.0 6   160.0 110 3.90 2.875 17.02 0  1  4    4   \n",
       "3 Datsun 710     22.8 4   108.0  93 3.85 2.320 18.61 1  1  4    1   \n",
       "4 Fiat 128       32.4 4    78.7  66 4.08 2.200 19.47 1  1  4    1   \n",
       "5 Honda Civic    30.4 4    75.7  52 4.93 1.615 18.52 1  1  4    2   \n",
       "6 Toyota Corolla 33.9 4    71.1  65 4.22 1.835 19.90 1  1  4    1   \n",
       "7 Fiat X1-9      27.3 4    79.0  66 4.08 1.935 18.90 1  1  4    1   \n",
       "8 Volvo 142E     21.4 4   121.0 109 4.11 2.780 18.60 1  1  4    2   "
      ]
     },
     "metadata": {},
     "output_type": "display_data"
    }
   ],
   "source": [
    "filter(mtcars2, gear == 4 & am == 1)"
   ]
  },
  {
   "cell_type": "code",
   "execution_count": 47,
   "metadata": {
    "collapsed": false
   },
   "outputs": [
    {
     "data": {
      "text/html": [
       "<table>\n",
       "<thead><tr><th scope=col>car</th><th scope=col>mpg</th><th scope=col>cyl</th><th scope=col>disp</th><th scope=col>hp</th><th scope=col>drat</th><th scope=col>wt</th><th scope=col>qsec</th><th scope=col>vs</th><th scope=col>am</th><th scope=col>gear</th><th scope=col>carb</th></tr></thead>\n",
       "<tbody>\n",
       "\t<tr><td>Volvo 142E         </td><td>21.4               </td><td>4                  </td><td>121.0              </td><td>109                </td><td>4.11               </td><td>2.780              </td><td>18.60              </td><td>1                  </td><td>1                  </td><td>4                  </td><td>2                  </td></tr>\n",
       "\t<tr><td>Toyota Corona      </td><td>21.5               </td><td>4                  </td><td>120.1              </td><td> 97                </td><td>3.70               </td><td>2.465              </td><td>20.01              </td><td>1                  </td><td>0                  </td><td>3                  </td><td>1                  </td></tr>\n",
       "\t<tr><td>Datsun 710         </td><td>22.8               </td><td>4                  </td><td>108.0              </td><td> 93                </td><td>3.85               </td><td>2.320              </td><td>18.61              </td><td>1                  </td><td>1                  </td><td>4                  </td><td>1                  </td></tr>\n",
       "\t<tr><td>Merc 230           </td><td>22.8               </td><td>4                  </td><td>140.8              </td><td> 95                </td><td>3.92               </td><td>3.150              </td><td>22.90              </td><td>1                  </td><td>0                  </td><td>4                  </td><td>2                  </td></tr>\n",
       "\t<tr><td>Merc 240D          </td><td>24.4               </td><td>4                  </td><td>146.7              </td><td> 62                </td><td>3.69               </td><td>3.190              </td><td>20.00              </td><td>1                  </td><td>0                  </td><td>4                  </td><td>2                  </td></tr>\n",
       "\t<tr><td>Porsche 914-2      </td><td>26.0               </td><td>4                  </td><td>120.3              </td><td> 91                </td><td>4.43               </td><td>2.140              </td><td>16.70              </td><td>0                  </td><td>1                  </td><td>5                  </td><td>2                  </td></tr>\n",
       "\t<tr><td>Fiat X1-9          </td><td>27.3               </td><td>4                  </td><td> 79.0              </td><td> 66                </td><td>4.08               </td><td>1.935              </td><td>18.90              </td><td>1                  </td><td>1                  </td><td>4                  </td><td>1                  </td></tr>\n",
       "\t<tr><td>Honda Civic        </td><td>30.4               </td><td>4                  </td><td> 75.7              </td><td> 52                </td><td>4.93               </td><td>1.615              </td><td>18.52              </td><td>1                  </td><td>1                  </td><td>4                  </td><td>2                  </td></tr>\n",
       "\t<tr><td>Lotus Europa       </td><td>30.4               </td><td>4                  </td><td> 95.1              </td><td>113                </td><td>3.77               </td><td>1.513              </td><td>16.90              </td><td>1                  </td><td>1                  </td><td>5                  </td><td>2                  </td></tr>\n",
       "\t<tr><td>Fiat 128           </td><td>32.4               </td><td>4                  </td><td> 78.7              </td><td> 66                </td><td>4.08               </td><td>2.200              </td><td>19.47              </td><td>1                  </td><td>1                  </td><td>4                  </td><td>1                  </td></tr>\n",
       "\t<tr><td>Toyota Corolla     </td><td>33.9               </td><td>4                  </td><td> 71.1              </td><td> 65                </td><td>4.22               </td><td>1.835              </td><td>19.90              </td><td>1                  </td><td>1                  </td><td>4                  </td><td>1                  </td></tr>\n",
       "\t<tr><td>Merc 280C          </td><td>17.8               </td><td>6                  </td><td>167.6              </td><td>123                </td><td>3.92               </td><td>3.440              </td><td>18.90              </td><td>1                  </td><td>0                  </td><td>4                  </td><td>4                  </td></tr>\n",
       "\t<tr><td>Valiant            </td><td>18.1               </td><td>6                  </td><td>225.0              </td><td>105                </td><td>2.76               </td><td>3.460              </td><td>20.22              </td><td>1                  </td><td>0                  </td><td>3                  </td><td>1                  </td></tr>\n",
       "\t<tr><td>Merc 280           </td><td>19.2               </td><td>6                  </td><td>167.6              </td><td>123                </td><td>3.92               </td><td>3.440              </td><td>18.30              </td><td>1                  </td><td>0                  </td><td>4                  </td><td>4                  </td></tr>\n",
       "\t<tr><td>Ferrari Dino       </td><td>19.7               </td><td>6                  </td><td>145.0              </td><td>175                </td><td>3.62               </td><td>2.770              </td><td>15.50              </td><td>0                  </td><td>1                  </td><td>5                  </td><td>6                  </td></tr>\n",
       "\t<tr><td>Mazda RX4          </td><td>21.0               </td><td>6                  </td><td>160.0              </td><td>110                </td><td>3.90               </td><td>2.620              </td><td>16.46              </td><td>0                  </td><td>1                  </td><td>4                  </td><td>4                  </td></tr>\n",
       "\t<tr><td>Mazda RX4 Wag      </td><td>21.0               </td><td>6                  </td><td>160.0              </td><td>110                </td><td>3.90               </td><td>2.875              </td><td>17.02              </td><td>0                  </td><td>1                  </td><td>4                  </td><td>4                  </td></tr>\n",
       "\t<tr><td>Hornet 4 Drive     </td><td>21.4               </td><td>6                  </td><td>258.0              </td><td>110                </td><td>3.08               </td><td>3.215              </td><td>19.44              </td><td>1                  </td><td>0                  </td><td>3                  </td><td>1                  </td></tr>\n",
       "\t<tr><td>Cadillac Fleetwood </td><td>10.4               </td><td>8                  </td><td>472.0              </td><td>205                </td><td>2.93               </td><td>5.250              </td><td>17.98              </td><td>0                  </td><td>0                  </td><td>3                  </td><td>4                  </td></tr>\n",
       "\t<tr><td>Lincoln Continental</td><td>10.4               </td><td>8                  </td><td>460.0              </td><td>215                </td><td>3.00               </td><td>5.424              </td><td>17.82              </td><td>0                  </td><td>0                  </td><td>3                  </td><td>4                  </td></tr>\n",
       "\t<tr><td>Camaro Z28         </td><td>13.3               </td><td>8                  </td><td>350.0              </td><td>245                </td><td>3.73               </td><td>3.840              </td><td>15.41              </td><td>0                  </td><td>0                  </td><td>3                  </td><td>4                  </td></tr>\n",
       "\t<tr><td>Duster 360         </td><td>14.3               </td><td>8                  </td><td>360.0              </td><td>245                </td><td>3.21               </td><td>3.570              </td><td>15.84              </td><td>0                  </td><td>0                  </td><td>3                  </td><td>4                  </td></tr>\n",
       "\t<tr><td>Chrysler Imperial  </td><td>14.7               </td><td>8                  </td><td>440.0              </td><td>230                </td><td>3.23               </td><td>5.345              </td><td>17.42              </td><td>0                  </td><td>0                  </td><td>3                  </td><td>4                  </td></tr>\n",
       "\t<tr><td>Maserati Bora      </td><td>15.0               </td><td>8                  </td><td>301.0              </td><td>335                </td><td>3.54               </td><td>3.570              </td><td>14.60              </td><td>0                  </td><td>1                  </td><td>5                  </td><td>8                  </td></tr>\n",
       "\t<tr><td>Merc 450SLC        </td><td>15.2               </td><td>8                  </td><td>275.8              </td><td>180                </td><td>3.07               </td><td>3.780              </td><td>18.00              </td><td>0                  </td><td>0                  </td><td>3                  </td><td>3                  </td></tr>\n",
       "\t<tr><td>AMC Javelin        </td><td>15.2               </td><td>8                  </td><td>304.0              </td><td>150                </td><td>3.15               </td><td>3.435              </td><td>17.30              </td><td>0                  </td><td>0                  </td><td>3                  </td><td>2                  </td></tr>\n",
       "\t<tr><td>Dodge Challenger   </td><td>15.5               </td><td>8                  </td><td>318.0              </td><td>150                </td><td>2.76               </td><td>3.520              </td><td>16.87              </td><td>0                  </td><td>0                  </td><td>3                  </td><td>2                  </td></tr>\n",
       "\t<tr><td>Ford Pantera L     </td><td>15.8               </td><td>8                  </td><td>351.0              </td><td>264                </td><td>4.22               </td><td>3.170              </td><td>14.50              </td><td>0                  </td><td>1                  </td><td>5                  </td><td>4                  </td></tr>\n",
       "\t<tr><td>Merc 450SE         </td><td>16.4               </td><td>8                  </td><td>275.8              </td><td>180                </td><td>3.07               </td><td>4.070              </td><td>17.40              </td><td>0                  </td><td>0                  </td><td>3                  </td><td>3                  </td></tr>\n",
       "\t<tr><td>Merc 450SL         </td><td>17.3               </td><td>8                  </td><td>275.8              </td><td>180                </td><td>3.07               </td><td>3.730              </td><td>17.60              </td><td>0                  </td><td>0                  </td><td>3                  </td><td>3                  </td></tr>\n",
       "\t<tr><td>Hornet Sportabout  </td><td>18.7               </td><td>8                  </td><td>360.0              </td><td>175                </td><td>3.15               </td><td>3.440              </td><td>17.02              </td><td>0                  </td><td>0                  </td><td>3                  </td><td>2                  </td></tr>\n",
       "\t<tr><td>Pontiac Firebird   </td><td>19.2               </td><td>8                  </td><td>400.0              </td><td>175                </td><td>3.08               </td><td>3.845              </td><td>17.05              </td><td>0                  </td><td>0                  </td><td>3                  </td><td>2                  </td></tr>\n",
       "</tbody>\n",
       "</table>\n"
      ],
      "text/latex": [
       "\\begin{tabular}{r|llllllllllll}\n",
       " car & mpg & cyl & disp & hp & drat & wt & qsec & vs & am & gear & carb\\\\\n",
       "\\hline\n",
       "\t Volvo 142E          & 21.4                & 4                   & 121.0               & 109                 & 4.11                & 2.780               & 18.60               & 1                   & 1                   & 4                   & 2                  \\\\\n",
       "\t Toyota Corona       & 21.5                & 4                   & 120.1               &  97                 & 3.70                & 2.465               & 20.01               & 1                   & 0                   & 3                   & 1                  \\\\\n",
       "\t Datsun 710          & 22.8                & 4                   & 108.0               &  93                 & 3.85                & 2.320               & 18.61               & 1                   & 1                   & 4                   & 1                  \\\\\n",
       "\t Merc 230            & 22.8                & 4                   & 140.8               &  95                 & 3.92                & 3.150               & 22.90               & 1                   & 0                   & 4                   & 2                  \\\\\n",
       "\t Merc 240D           & 24.4                & 4                   & 146.7               &  62                 & 3.69                & 3.190               & 20.00               & 1                   & 0                   & 4                   & 2                  \\\\\n",
       "\t Porsche 914-2       & 26.0                & 4                   & 120.3               &  91                 & 4.43                & 2.140               & 16.70               & 0                   & 1                   & 5                   & 2                  \\\\\n",
       "\t Fiat X1-9           & 27.3                & 4                   &  79.0               &  66                 & 4.08                & 1.935               & 18.90               & 1                   & 1                   & 4                   & 1                  \\\\\n",
       "\t Honda Civic         & 30.4                & 4                   &  75.7               &  52                 & 4.93                & 1.615               & 18.52               & 1                   & 1                   & 4                   & 2                  \\\\\n",
       "\t Lotus Europa        & 30.4                & 4                   &  95.1               & 113                 & 3.77                & 1.513               & 16.90               & 1                   & 1                   & 5                   & 2                  \\\\\n",
       "\t Fiat 128            & 32.4                & 4                   &  78.7               &  66                 & 4.08                & 2.200               & 19.47               & 1                   & 1                   & 4                   & 1                  \\\\\n",
       "\t Toyota Corolla      & 33.9                & 4                   &  71.1               &  65                 & 4.22                & 1.835               & 19.90               & 1                   & 1                   & 4                   & 1                  \\\\\n",
       "\t Merc 280C           & 17.8                & 6                   & 167.6               & 123                 & 3.92                & 3.440               & 18.90               & 1                   & 0                   & 4                   & 4                  \\\\\n",
       "\t Valiant             & 18.1                & 6                   & 225.0               & 105                 & 2.76                & 3.460               & 20.22               & 1                   & 0                   & 3                   & 1                  \\\\\n",
       "\t Merc 280            & 19.2                & 6                   & 167.6               & 123                 & 3.92                & 3.440               & 18.30               & 1                   & 0                   & 4                   & 4                  \\\\\n",
       "\t Ferrari Dino        & 19.7                & 6                   & 145.0               & 175                 & 3.62                & 2.770               & 15.50               & 0                   & 1                   & 5                   & 6                  \\\\\n",
       "\t Mazda RX4           & 21.0                & 6                   & 160.0               & 110                 & 3.90                & 2.620               & 16.46               & 0                   & 1                   & 4                   & 4                  \\\\\n",
       "\t Mazda RX4 Wag       & 21.0                & 6                   & 160.0               & 110                 & 3.90                & 2.875               & 17.02               & 0                   & 1                   & 4                   & 4                  \\\\\n",
       "\t Hornet 4 Drive      & 21.4                & 6                   & 258.0               & 110                 & 3.08                & 3.215               & 19.44               & 1                   & 0                   & 3                   & 1                  \\\\\n",
       "\t Cadillac Fleetwood  & 10.4                & 8                   & 472.0               & 205                 & 2.93                & 5.250               & 17.98               & 0                   & 0                   & 3                   & 4                  \\\\\n",
       "\t Lincoln Continental & 10.4                & 8                   & 460.0               & 215                 & 3.00                & 5.424               & 17.82               & 0                   & 0                   & 3                   & 4                  \\\\\n",
       "\t Camaro Z28          & 13.3                & 8                   & 350.0               & 245                 & 3.73                & 3.840               & 15.41               & 0                   & 0                   & 3                   & 4                  \\\\\n",
       "\t Duster 360          & 14.3                & 8                   & 360.0               & 245                 & 3.21                & 3.570               & 15.84               & 0                   & 0                   & 3                   & 4                  \\\\\n",
       "\t Chrysler Imperial   & 14.7                & 8                   & 440.0               & 230                 & 3.23                & 5.345               & 17.42               & 0                   & 0                   & 3                   & 4                  \\\\\n",
       "\t Maserati Bora       & 15.0                & 8                   & 301.0               & 335                 & 3.54                & 3.570               & 14.60               & 0                   & 1                   & 5                   & 8                  \\\\\n",
       "\t Merc 450SLC         & 15.2                & 8                   & 275.8               & 180                 & 3.07                & 3.780               & 18.00               & 0                   & 0                   & 3                   & 3                  \\\\\n",
       "\t AMC Javelin         & 15.2                & 8                   & 304.0               & 150                 & 3.15                & 3.435               & 17.30               & 0                   & 0                   & 3                   & 2                  \\\\\n",
       "\t Dodge Challenger    & 15.5                & 8                   & 318.0               & 150                 & 2.76                & 3.520               & 16.87               & 0                   & 0                   & 3                   & 2                  \\\\\n",
       "\t Ford Pantera L      & 15.8                & 8                   & 351.0               & 264                 & 4.22                & 3.170               & 14.50               & 0                   & 1                   & 5                   & 4                  \\\\\n",
       "\t Merc 450SE          & 16.4                & 8                   & 275.8               & 180                 & 3.07                & 4.070               & 17.40               & 0                   & 0                   & 3                   & 3                  \\\\\n",
       "\t Merc 450SL          & 17.3                & 8                   & 275.8               & 180                 & 3.07                & 3.730               & 17.60               & 0                   & 0                   & 3                   & 3                  \\\\\n",
       "\t Hornet Sportabout   & 18.7                & 8                   & 360.0               & 175                 & 3.15                & 3.440               & 17.02               & 0                   & 0                   & 3                   & 2                  \\\\\n",
       "\t Pontiac Firebird    & 19.2                & 8                   & 400.0               & 175                 & 3.08                & 3.845               & 17.05               & 0                   & 0                   & 3                   & 2                  \\\\\n",
       "\\end{tabular}\n"
      ],
      "text/markdown": [
       "\n",
       "car | mpg | cyl | disp | hp | drat | wt | qsec | vs | am | gear | carb | \n",
       "|---|---|---|---|---|---|---|---|---|---|---|---|---|---|---|---|---|---|---|---|---|---|---|---|---|---|---|---|---|---|---|---|\n",
       "| Volvo 142E          | 21.4                | 4                   | 121.0               | 109                 | 4.11                | 2.780               | 18.60               | 1                   | 1                   | 4                   | 2                   | \n",
       "| Toyota Corona       | 21.5                | 4                   | 120.1               |  97                 | 3.70                | 2.465               | 20.01               | 1                   | 0                   | 3                   | 1                   | \n",
       "| Datsun 710          | 22.8                | 4                   | 108.0               |  93                 | 3.85                | 2.320               | 18.61               | 1                   | 1                   | 4                   | 1                   | \n",
       "| Merc 230            | 22.8                | 4                   | 140.8               |  95                 | 3.92                | 3.150               | 22.90               | 1                   | 0                   | 4                   | 2                   | \n",
       "| Merc 240D           | 24.4                | 4                   | 146.7               |  62                 | 3.69                | 3.190               | 20.00               | 1                   | 0                   | 4                   | 2                   | \n",
       "| Porsche 914-2       | 26.0                | 4                   | 120.3               |  91                 | 4.43                | 2.140               | 16.70               | 0                   | 1                   | 5                   | 2                   | \n",
       "| Fiat X1-9           | 27.3                | 4                   |  79.0               |  66                 | 4.08                | 1.935               | 18.90               | 1                   | 1                   | 4                   | 1                   | \n",
       "| Honda Civic         | 30.4                | 4                   |  75.7               |  52                 | 4.93                | 1.615               | 18.52               | 1                   | 1                   | 4                   | 2                   | \n",
       "| Lotus Europa        | 30.4                | 4                   |  95.1               | 113                 | 3.77                | 1.513               | 16.90               | 1                   | 1                   | 5                   | 2                   | \n",
       "| Fiat 128            | 32.4                | 4                   |  78.7               |  66                 | 4.08                | 2.200               | 19.47               | 1                   | 1                   | 4                   | 1                   | \n",
       "| Toyota Corolla      | 33.9                | 4                   |  71.1               |  65                 | 4.22                | 1.835               | 19.90               | 1                   | 1                   | 4                   | 1                   | \n",
       "| Merc 280C           | 17.8                | 6                   | 167.6               | 123                 | 3.92                | 3.440               | 18.90               | 1                   | 0                   | 4                   | 4                   | \n",
       "| Valiant             | 18.1                | 6                   | 225.0               | 105                 | 2.76                | 3.460               | 20.22               | 1                   | 0                   | 3                   | 1                   | \n",
       "| Merc 280            | 19.2                | 6                   | 167.6               | 123                 | 3.92                | 3.440               | 18.30               | 1                   | 0                   | 4                   | 4                   | \n",
       "| Ferrari Dino        | 19.7                | 6                   | 145.0               | 175                 | 3.62                | 2.770               | 15.50               | 0                   | 1                   | 5                   | 6                   | \n",
       "| Mazda RX4           | 21.0                | 6                   | 160.0               | 110                 | 3.90                | 2.620               | 16.46               | 0                   | 1                   | 4                   | 4                   | \n",
       "| Mazda RX4 Wag       | 21.0                | 6                   | 160.0               | 110                 | 3.90                | 2.875               | 17.02               | 0                   | 1                   | 4                   | 4                   | \n",
       "| Hornet 4 Drive      | 21.4                | 6                   | 258.0               | 110                 | 3.08                | 3.215               | 19.44               | 1                   | 0                   | 3                   | 1                   | \n",
       "| Cadillac Fleetwood  | 10.4                | 8                   | 472.0               | 205                 | 2.93                | 5.250               | 17.98               | 0                   | 0                   | 3                   | 4                   | \n",
       "| Lincoln Continental | 10.4                | 8                   | 460.0               | 215                 | 3.00                | 5.424               | 17.82               | 0                   | 0                   | 3                   | 4                   | \n",
       "| Camaro Z28          | 13.3                | 8                   | 350.0               | 245                 | 3.73                | 3.840               | 15.41               | 0                   | 0                   | 3                   | 4                   | \n",
       "| Duster 360          | 14.3                | 8                   | 360.0               | 245                 | 3.21                | 3.570               | 15.84               | 0                   | 0                   | 3                   | 4                   | \n",
       "| Chrysler Imperial   | 14.7                | 8                   | 440.0               | 230                 | 3.23                | 5.345               | 17.42               | 0                   | 0                   | 3                   | 4                   | \n",
       "| Maserati Bora       | 15.0                | 8                   | 301.0               | 335                 | 3.54                | 3.570               | 14.60               | 0                   | 1                   | 5                   | 8                   | \n",
       "| Merc 450SLC         | 15.2                | 8                   | 275.8               | 180                 | 3.07                | 3.780               | 18.00               | 0                   | 0                   | 3                   | 3                   | \n",
       "| AMC Javelin         | 15.2                | 8                   | 304.0               | 150                 | 3.15                | 3.435               | 17.30               | 0                   | 0                   | 3                   | 2                   | \n",
       "| Dodge Challenger    | 15.5                | 8                   | 318.0               | 150                 | 2.76                | 3.520               | 16.87               | 0                   | 0                   | 3                   | 2                   | \n",
       "| Ford Pantera L      | 15.8                | 8                   | 351.0               | 264                 | 4.22                | 3.170               | 14.50               | 0                   | 1                   | 5                   | 4                   | \n",
       "| Merc 450SE          | 16.4                | 8                   | 275.8               | 180                 | 3.07                | 4.070               | 17.40               | 0                   | 0                   | 3                   | 3                   | \n",
       "| Merc 450SL          | 17.3                | 8                   | 275.8               | 180                 | 3.07                | 3.730               | 17.60               | 0                   | 0                   | 3                   | 3                   | \n",
       "| Hornet Sportabout   | 18.7                | 8                   | 360.0               | 175                 | 3.15                | 3.440               | 17.02               | 0                   | 0                   | 3                   | 2                   | \n",
       "| Pontiac Firebird    | 19.2                | 8                   | 400.0               | 175                 | 3.08                | 3.845               | 17.05               | 0                   | 0                   | 3                   | 2                   | \n",
       "\n",
       "\n"
      ],
      "text/plain": [
       "   car                 mpg  cyl disp  hp  drat wt    qsec  vs am gear carb\n",
       "1  Volvo 142E          21.4 4   121.0 109 4.11 2.780 18.60 1  1  4    2   \n",
       "2  Toyota Corona       21.5 4   120.1  97 3.70 2.465 20.01 1  0  3    1   \n",
       "3  Datsun 710          22.8 4   108.0  93 3.85 2.320 18.61 1  1  4    1   \n",
       "4  Merc 230            22.8 4   140.8  95 3.92 3.150 22.90 1  0  4    2   \n",
       "5  Merc 240D           24.4 4   146.7  62 3.69 3.190 20.00 1  0  4    2   \n",
       "6  Porsche 914-2       26.0 4   120.3  91 4.43 2.140 16.70 0  1  5    2   \n",
       "7  Fiat X1-9           27.3 4    79.0  66 4.08 1.935 18.90 1  1  4    1   \n",
       "8  Honda Civic         30.4 4    75.7  52 4.93 1.615 18.52 1  1  4    2   \n",
       "9  Lotus Europa        30.4 4    95.1 113 3.77 1.513 16.90 1  1  5    2   \n",
       "10 Fiat 128            32.4 4    78.7  66 4.08 2.200 19.47 1  1  4    1   \n",
       "11 Toyota Corolla      33.9 4    71.1  65 4.22 1.835 19.90 1  1  4    1   \n",
       "12 Merc 280C           17.8 6   167.6 123 3.92 3.440 18.90 1  0  4    4   \n",
       "13 Valiant             18.1 6   225.0 105 2.76 3.460 20.22 1  0  3    1   \n",
       "14 Merc 280            19.2 6   167.6 123 3.92 3.440 18.30 1  0  4    4   \n",
       "15 Ferrari Dino        19.7 6   145.0 175 3.62 2.770 15.50 0  1  5    6   \n",
       "16 Mazda RX4           21.0 6   160.0 110 3.90 2.620 16.46 0  1  4    4   \n",
       "17 Mazda RX4 Wag       21.0 6   160.0 110 3.90 2.875 17.02 0  1  4    4   \n",
       "18 Hornet 4 Drive      21.4 6   258.0 110 3.08 3.215 19.44 1  0  3    1   \n",
       "19 Cadillac Fleetwood  10.4 8   472.0 205 2.93 5.250 17.98 0  0  3    4   \n",
       "20 Lincoln Continental 10.4 8   460.0 215 3.00 5.424 17.82 0  0  3    4   \n",
       "21 Camaro Z28          13.3 8   350.0 245 3.73 3.840 15.41 0  0  3    4   \n",
       "22 Duster 360          14.3 8   360.0 245 3.21 3.570 15.84 0  0  3    4   \n",
       "23 Chrysler Imperial   14.7 8   440.0 230 3.23 5.345 17.42 0  0  3    4   \n",
       "24 Maserati Bora       15.0 8   301.0 335 3.54 3.570 14.60 0  1  5    8   \n",
       "25 Merc 450SLC         15.2 8   275.8 180 3.07 3.780 18.00 0  0  3    3   \n",
       "26 AMC Javelin         15.2 8   304.0 150 3.15 3.435 17.30 0  0  3    2   \n",
       "27 Dodge Challenger    15.5 8   318.0 150 2.76 3.520 16.87 0  0  3    2   \n",
       "28 Ford Pantera L      15.8 8   351.0 264 4.22 3.170 14.50 0  1  5    4   \n",
       "29 Merc 450SE          16.4 8   275.8 180 3.07 4.070 17.40 0  0  3    3   \n",
       "30 Merc 450SL          17.3 8   275.8 180 3.07 3.730 17.60 0  0  3    3   \n",
       "31 Hornet Sportabout   18.7 8   360.0 175 3.15 3.440 17.02 0  0  3    2   \n",
       "32 Pontiac Firebird    19.2 8   400.0 175 3.08 3.845 17.05 0  0  3    2   "
      ]
     },
     "metadata": {},
     "output_type": "display_data"
    }
   ],
   "source": [
    "arrange(mtcars2, cyl, mpg)"
   ]
  },
  {
   "cell_type": "code",
   "execution_count": 48,
   "metadata": {
    "collapsed": false
   },
   "outputs": [
    {
     "data": {
      "text/html": [
       "<table>\n",
       "<thead><tr><th scope=col>car</th><th scope=col>pw</th><th scope=col>mpg</th></tr></thead>\n",
       "<tbody>\n",
       "\t<tr><td>Maserati Bora </td><td>93.83754      </td><td>15.0          </td></tr>\n",
       "\t<tr><td>Ford Pantera L</td><td>83.28076      </td><td>15.8          </td></tr>\n",
       "\t<tr><td>Lotus Europa  </td><td>74.68605      </td><td>30.4          </td></tr>\n",
       "\t<tr><td>Duster 360    </td><td>68.62745      </td><td>14.3          </td></tr>\n",
       "</tbody>\n",
       "</table>\n"
      ],
      "text/latex": [
       "\\begin{tabular}{r|lll}\n",
       " car & pw & mpg\\\\\n",
       "\\hline\n",
       "\t Maserati Bora  & 93.83754       & 15.0          \\\\\n",
       "\t Ford Pantera L & 83.28076       & 15.8          \\\\\n",
       "\t Lotus Europa   & 74.68605       & 30.4          \\\\\n",
       "\t Duster 360     & 68.62745       & 14.3          \\\\\n",
       "\\end{tabular}\n"
      ],
      "text/markdown": [
       "\n",
       "car | pw | mpg | \n",
       "|---|---|---|---|\n",
       "| Maserati Bora  | 93.83754       | 15.0           | \n",
       "| Ford Pantera L | 83.28076       | 15.8           | \n",
       "| Lotus Europa   | 74.68605       | 30.4           | \n",
       "| Duster 360     | 68.62745       | 14.3           | \n",
       "\n",
       "\n"
      ],
      "text/plain": [
       "  car            pw       mpg \n",
       "1 Maserati Bora  93.83754 15.0\n",
       "2 Ford Pantera L 83.28076 15.8\n",
       "3 Lotus Europa   74.68605 30.4\n",
       "4 Duster 360     68.62745 14.3"
      ]
     },
     "metadata": {},
     "output_type": "display_data"
    }
   ],
   "source": [
    "transform(mtcars2, pw = hp / wt) %>% arrange(-pw) %>% select(car, pw, mpg) %>% slice(1:4)"
   ]
  },
  {
   "cell_type": "code",
   "execution_count": 49,
   "metadata": {
    "collapsed": false
   },
   "outputs": [
    {
     "data": {
      "text/html": [
       "<table>\n",
       "<thead><tr><th scope=col>cyl</th></tr></thead>\n",
       "<tbody>\n",
       "\t<tr><td>6</td></tr>\n",
       "\t<tr><td>4</td></tr>\n",
       "\t<tr><td>8</td></tr>\n",
       "</tbody>\n",
       "</table>\n"
      ],
      "text/latex": [
       "\\begin{tabular}{r|l}\n",
       " cyl\\\\\n",
       "\\hline\n",
       "\t 6\\\\\n",
       "\t 4\\\\\n",
       "\t 8\\\\\n",
       "\\end{tabular}\n"
      ],
      "text/markdown": [
       "\n",
       "cyl | \n",
       "|---|---|---|\n",
       "| 6 | \n",
       "| 4 | \n",
       "| 8 | \n",
       "\n",
       "\n"
      ],
      "text/plain": [
       "  cyl\n",
       "1 6  \n",
       "2 4  \n",
       "3 8  "
      ]
     },
     "metadata": {},
     "output_type": "display_data"
    }
   ],
   "source": [
    "distinct(mtcars2, cyl)"
   ]
  },
  {
   "cell_type": "code",
   "execution_count": 50,
   "metadata": {
    "collapsed": false
   },
   "outputs": [
    {
     "data": {
      "text/html": [
       "<table>\n",
       "<thead><tr><th scope=col>cyl</th><th scope=col>count</th><th scope=col>avg_mpg</th><th scope=col>avg_hp</th></tr></thead>\n",
       "<tbody>\n",
       "\t<tr><td>4        </td><td>11       </td><td>26.66364 </td><td> 82.63636</td></tr>\n",
       "\t<tr><td>6        </td><td> 7       </td><td>19.74286 </td><td>122.28571</td></tr>\n",
       "\t<tr><td>8        </td><td>14       </td><td>15.10000 </td><td>209.21429</td></tr>\n",
       "</tbody>\n",
       "</table>\n"
      ],
      "text/latex": [
       "\\begin{tabular}{r|llll}\n",
       " cyl & count & avg\\_mpg & avg\\_hp\\\\\n",
       "\\hline\n",
       "\t 4         & 11        & 26.66364  &  82.63636\\\\\n",
       "\t 6         &  7        & 19.74286  & 122.28571\\\\\n",
       "\t 8         & 14        & 15.10000  & 209.21429\\\\\n",
       "\\end{tabular}\n"
      ],
      "text/markdown": [
       "\n",
       "cyl | count | avg_mpg | avg_hp | \n",
       "|---|---|---|\n",
       "| 4         | 11        | 26.66364  |  82.63636 | \n",
       "| 6         |  7        | 19.74286  | 122.28571 | \n",
       "| 8         | 14        | 15.10000  | 209.21429 | \n",
       "\n",
       "\n"
      ],
      "text/plain": [
       "  cyl count avg_mpg  avg_hp   \n",
       "1 4   11    26.66364  82.63636\n",
       "2 6    7    19.74286 122.28571\n",
       "3 8   14    15.10000 209.21429"
      ]
     },
     "metadata": {},
     "output_type": "display_data"
    }
   ],
   "source": [
    "group_by(mtcars2, cyl) %>% summarise(count = n(), avg_mpg = mean(mpg), avg_hp = mean(hp))"
   ]
  },
  {
   "cell_type": "code",
   "execution_count": 51,
   "metadata": {
    "collapsed": false
   },
   "outputs": [
    {
     "data": {},
     "metadata": {},
     "output_type": "display_data"
    },
    {
     "data": {
      "image/png": "[encoded data removed]",
      "text/plain": [
       "plot without title"
      ]
     },
     "metadata": {},
     "output_type": "display_data"
    }
   ],
   "source": [
    "library(ggplot2)\n",
    "ggplot(mtcars2, aes(x = hp, y=mpg)) + geom_point(aes(colour = as.factor(cyl)))"
   ]
  },
  {
   "cell_type": "markdown",
   "metadata": {},
   "source": [
    "## Loading a \"real\" dataset from a CSV"
   ]
  },
  {
   "cell_type": "code",
   "execution_count": 52,
   "metadata": {
    "collapsed": true
   },
   "outputs": [],
   "source": [
    "letters <- read.table(\"letter-recognition.data\", sep=\",\", header=FALSE);"
   ]
  },
  {
   "cell_type": "code",
   "execution_count": 53,
   "metadata": {
    "collapsed": true
   },
   "outputs": [],
   "source": [
    "colnames(letters) <- c(\"Letter\", \"Xbox\", \"Ybox\", \"Width\", \"Height\",\n",
    "                       \"OnPix\", \"Xbar\", \"Ybar\", \"X2bar\", \"Y2bar\",\n",
    "                       \"XYbar\", \"X2Ybar\", \"XY2bar\", \"Xedge\",\n",
    "                       \"XedgeXY\", \"Yedge\", \"YedgeYX\");\n"
   ]
  },
  {
   "cell_type": "code",
   "execution_count": 54,
   "metadata": {
    "collapsed": false
   },
   "outputs": [
    {
     "data": {
      "text/html": [
       "<ol class=list-inline>\n",
       "\t<li>20000</li>\n",
       "\t<li>17</li>\n",
       "</ol>\n"
      ],
      "text/latex": [
       "\\begin{enumerate*}\n",
       "\\item 20000\n",
       "\\item 17\n",
       "\\end{enumerate*}\n"
      ],
      "text/markdown": [
       "1. 20000\n",
       "2. 17\n",
       "\n",
       "\n"
      ],
      "text/plain": [
       "[1] 20000    17"
      ]
     },
     "metadata": {},
     "output_type": "display_data"
    }
   ],
   "source": [
    "dim(letters)"
   ]
  },
  {
   "cell_type": "markdown",
   "metadata": {},
   "source": [
    "## Remove labels, standardize results to mean 0/stdev 1 (slides explain why)"
   ]
  },
  {
   "cell_type": "code",
   "execution_count": 55,
   "metadata": {
    "collapsed": false
   },
   "outputs": [],
   "source": [
    "library(dplyr)\n",
    "mtx <- scale(select(letters, -Letter))"
   ]
  },
  {
   "cell_type": "code",
   "execution_count": 56,
   "metadata": {
    "collapsed": false
   },
   "outputs": [
    {
     "data": {
      "text/html": [
       "<table>\n",
       "<thead><tr><th scope=col>Xbox</th><th scope=col>Ybox</th><th scope=col>Width</th><th scope=col>Height</th><th scope=col>OnPix</th><th scope=col>Xbar</th><th scope=col>Ybar</th><th scope=col>X2bar</th><th scope=col>Y2bar</th><th scope=col>XYbar</th><th scope=col>X2Ybar</th><th scope=col>XY2bar</th><th scope=col>Xedge</th><th scope=col>XedgeXY</th><th scope=col>Yedge</th><th scope=col>YedgeYX</th></tr></thead>\n",
       "<tbody>\n",
       "\t<tr><td>-1.05767185</td><td> 0.2918698 </td><td>-1.05325034</td><td>-0.1646996 </td><td>-1.1439846 </td><td> 0.5441168 </td><td> 2.3650380 </td><td>-1.7143167 </td><td> 0.3449858 </td><td>-0.9170476 </td><td> 1.3477406 </td><td> 0.03412446</td><td>-1.30591496</td><td>-0.2190762 </td><td>-1.4381167 </td><td> 0.1229080 </td></tr>\n",
       "\t<tr><td> 0.51037221</td><td> 1.5023201 </td><td>-1.05325034</td><td> 0.7197121 </td><td>-0.6874590 </td><td> 1.5312664 </td><td>-1.0752987 </td><td> 0.1375572 </td><td>-0.4950599 </td><td> 1.8959203 </td><td>-1.3127738 </td><td> 0.51475066</td><td>-0.44848089</td><td>-0.2190762 </td><td> 0.1200784 </td><td> 1.3594069 </td></tr>\n",
       "\t<tr><td>-0.01230915</td><td> 1.1997076 </td><td> 0.43589876</td><td> 1.1619179 </td><td> 1.1386432 </td><td> 1.5312664 </td><td>-0.6452567 </td><td>-0.9735671 </td><td> 0.3449858 </td><td> 0.6903626 </td><td>-1.3127738 </td><td>-0.44650174</td><td>-0.01976386</td><td>-0.8656046 </td><td>-0.2694704 </td><td> 0.7411575 </td></tr>\n",
       "\t<tr><td> 1.55573491</td><td> 1.1997076 </td><td> 0.43589876</td><td> 0.2775063 </td><td>-0.2309335 </td><td>-0.9366075 </td><td> 0.6448696 </td><td>-0.2328176 </td><td> 0.3449858 </td><td>-1.7207527 </td><td>-0.9327003 </td><td> 0.99537685</td><td> 1.26638725</td><td> 1.0739807 </td><td>-0.6590192 </td><td> 0.1229080 </td></tr>\n",
       "\t<tr><td>-1.05767185</td><td>-1.8264182 </td><td>-1.05325034</td><td>-1.9335228 </td><td>-1.1439846 </td><td> 0.5441168 </td><td>-0.6452567 </td><td> 0.5079320 </td><td> 0.3449858 </td><td>-0.9170476 </td><td>-0.5526268 </td><td> 0.51475066</td><td>-0.87719793</td><td>-0.8656046 </td><td> 0.5096272 </td><td> 1.3594069 </td></tr>\n",
       "\t<tr><td>-0.01230915</td><td> 1.1997076 </td><td>-0.06048427</td><td> 1.1619179 </td><td>-0.2309335 </td><td> 0.5441168 </td><td> 0.2148275 </td><td> 0.5079320 </td><td> 1.6050543 </td><td>-1.3189002 </td><td>-0.1725534 </td><td>-0.92712793</td><td>-1.30591496</td><td>-0.2190762 </td><td> 2.0678224 </td><td>-0.4953415 </td></tr>\n",
       "</tbody>\n",
       "</table>\n"
      ],
      "text/latex": [
       "\\begin{tabular}{llllllllllllllll}\n",
       " Xbox & Ybox & Width & Height & OnPix & Xbar & Ybar & X2bar & Y2bar & XYbar & X2Ybar & XY2bar & Xedge & XedgeXY & Yedge & YedgeYX\\\\\n",
       "\\hline\n",
       "\t -1.05767185 &  0.2918698  & -1.05325034 & -0.1646996  & -1.1439846  &  0.5441168  &  2.3650380  & -1.7143167  &  0.3449858  & -0.9170476  &  1.3477406  &  0.03412446 & -1.30591496 & -0.2190762  & -1.4381167  &  0.1229080 \\\\\n",
       "\t  0.51037221 &  1.5023201  & -1.05325034 &  0.7197121  & -0.6874590  &  1.5312664  & -1.0752987  &  0.1375572  & -0.4950599  &  1.8959203  & -1.3127738  &  0.51475066 & -0.44848089 & -0.2190762  &  0.1200784  &  1.3594069 \\\\\n",
       "\t -0.01230915 &  1.1997076  &  0.43589876 &  1.1619179  &  1.1386432  &  1.5312664  & -0.6452567  & -0.9735671  &  0.3449858  &  0.6903626  & -1.3127738  & -0.44650174 & -0.01976386 & -0.8656046  & -0.2694704  &  0.7411575 \\\\\n",
       "\t  1.55573491 &  1.1997076  &  0.43589876 &  0.2775063  & -0.2309335  & -0.9366075  &  0.6448696  & -0.2328176  &  0.3449858  & -1.7207527  & -0.9327003  &  0.99537685 &  1.26638725 &  1.0739807  & -0.6590192  &  0.1229080 \\\\\n",
       "\t -1.05767185 & -1.8264182  & -1.05325034 & -1.9335228  & -1.1439846  &  0.5441168  & -0.6452567  &  0.5079320  &  0.3449858  & -0.9170476  & -0.5526268  &  0.51475066 & -0.87719793 & -0.8656046  &  0.5096272  &  1.3594069 \\\\\n",
       "\t -0.01230915 &  1.1997076  & -0.06048427 &  1.1619179  & -0.2309335  &  0.5441168  &  0.2148275  &  0.5079320  &  1.6050543  & -1.3189002  & -0.1725534  & -0.92712793 & -1.30591496 & -0.2190762  &  2.0678224  & -0.4953415 \\\\\n",
       "\\end{tabular}\n"
      ],
      "text/markdown": [
       "\n",
       "Xbox | Ybox | Width | Height | OnPix | Xbar | Ybar | X2bar | Y2bar | XYbar | X2Ybar | XY2bar | Xedge | XedgeXY | Yedge | YedgeYX | \n",
       "|---|---|---|---|---|---|\n",
       "| -1.05767185 |  0.2918698  | -1.05325034 | -0.1646996  | -1.1439846  |  0.5441168  |  2.3650380  | -1.7143167  |  0.3449858  | -0.9170476  |  1.3477406  |  0.03412446 | -1.30591496 | -0.2190762  | -1.4381167  |  0.1229080  | \n",
       "|  0.51037221 |  1.5023201  | -1.05325034 |  0.7197121  | -0.6874590  |  1.5312664  | -1.0752987  |  0.1375572  | -0.4950599  |  1.8959203  | -1.3127738  |  0.51475066 | -0.44848089 | -0.2190762  |  0.1200784  |  1.3594069  | \n",
       "| -0.01230915 |  1.1997076  |  0.43589876 |  1.1619179  |  1.1386432  |  1.5312664  | -0.6452567  | -0.9735671  |  0.3449858  |  0.6903626  | -1.3127738  | -0.44650174 | -0.01976386 | -0.8656046  | -0.2694704  |  0.7411575  | \n",
       "|  1.55573491 |  1.1997076  |  0.43589876 |  0.2775063  | -0.2309335  | -0.9366075  |  0.6448696  | -0.2328176  |  0.3449858  | -1.7207527  | -0.9327003  |  0.99537685 |  1.26638725 |  1.0739807  | -0.6590192  |  0.1229080  | \n",
       "| -1.05767185 | -1.8264182  | -1.05325034 | -1.9335228  | -1.1439846  |  0.5441168  | -0.6452567  |  0.5079320  |  0.3449858  | -0.9170476  | -0.5526268  |  0.51475066 | -0.87719793 | -0.8656046  |  0.5096272  |  1.3594069  | \n",
       "| -0.01230915 |  1.1997076  | -0.06048427 |  1.1619179  | -0.2309335  |  0.5441168  |  0.2148275  |  0.5079320  |  1.6050543  | -1.3189002  | -0.1725534  | -0.92712793 | -1.30591496 | -0.2190762  |  2.0678224  | -0.4953415  | \n",
       "\n",
       "\n"
      ],
      "text/plain": [
       "     Xbox        Ybox       Width       Height     OnPix      Xbar      \n",
       "[1,] -1.05767185  0.2918698 -1.05325034 -0.1646996 -1.1439846  0.5441168\n",
       "[2,]  0.51037221  1.5023201 -1.05325034  0.7197121 -0.6874590  1.5312664\n",
       "[3,] -0.01230915  1.1997076  0.43589876  1.1619179  1.1386432  1.5312664\n",
       "[4,]  1.55573491  1.1997076  0.43589876  0.2775063 -0.2309335 -0.9366075\n",
       "[5,] -1.05767185 -1.8264182 -1.05325034 -1.9335228 -1.1439846  0.5441168\n",
       "[6,] -0.01230915  1.1997076 -0.06048427  1.1619179 -0.2309335  0.5441168\n",
       "     Ybar       X2bar      Y2bar      XYbar      X2Ybar     XY2bar     \n",
       "[1,]  2.3650380 -1.7143167  0.3449858 -0.9170476  1.3477406  0.03412446\n",
       "[2,] -1.0752987  0.1375572 -0.4950599  1.8959203 -1.3127738  0.51475066\n",
       "[3,] -0.6452567 -0.9735671  0.3449858  0.6903626 -1.3127738 -0.44650174\n",
       "[4,]  0.6448696 -0.2328176  0.3449858 -1.7207527 -0.9327003  0.99537685\n",
       "[5,] -0.6452567  0.5079320  0.3449858 -0.9170476 -0.5526268  0.51475066\n",
       "[6,]  0.2148275  0.5079320  1.6050543 -1.3189002 -0.1725534 -0.92712793\n",
       "     Xedge       XedgeXY    Yedge      YedgeYX   \n",
       "[1,] -1.30591496 -0.2190762 -1.4381167  0.1229080\n",
       "[2,] -0.44848089 -0.2190762  0.1200784  1.3594069\n",
       "[3,] -0.01976386 -0.8656046 -0.2694704  0.7411575\n",
       "[4,]  1.26638725  1.0739807 -0.6590192  0.1229080\n",
       "[5,] -0.87719793 -0.8656046  0.5096272  1.3594069\n",
       "[6,] -1.30591496 -0.2190762  2.0678224 -0.4953415"
      ]
     },
     "metadata": {},
     "output_type": "display_data"
    }
   ],
   "source": [
    "head(mtx)"
   ]
  },
  {
   "cell_type": "code",
   "execution_count": 69,
   "metadata": {
    "collapsed": true
   },
   "outputs": [],
   "source": [
    "## Compute covariance matrix (the more explicit way)"
   ]
  },
  {
   "cell_type": "code",
   "execution_count": 57,
   "metadata": {
    "collapsed": false
   },
   "outputs": [],
   "source": [
    "cm <- (t(mtx) %*% mtx) /(nrow(mtx) + 1)"
   ]
  },
  {
   "cell_type": "code",
   "execution_count": 58,
   "metadata": {
    "collapsed": false
   },
   "outputs": [
    {
     "data": {
      "text/html": [
       "<table>\n",
       "<thead><tr><th></th><th scope=col>Xbox</th><th scope=col>Ybox</th><th scope=col>Width</th><th scope=col>Height</th><th scope=col>OnPix</th><th scope=col>Xbar</th><th scope=col>Ybar</th><th scope=col>X2bar</th><th scope=col>Y2bar</th><th scope=col>XYbar</th><th scope=col>X2Ybar</th><th scope=col>XY2bar</th><th scope=col>Xedge</th><th scope=col>XedgeXY</th><th scope=col>Yedge</th><th scope=col>YedgeYX</th></tr></thead>\n",
       "<tbody>\n",
       "\t<tr><th scope=row>Xbox</th><td> 0.99990</td><td> 0.75772</td><td> 0.85143</td><td> 0.67270</td><td> 0.61903</td><td>-0.03259</td><td> 0.04554</td><td> 0.01430</td><td> 0.05208</td><td> 0.14804</td><td> 0.03546</td><td>-0.04633</td><td> 0.48911</td><td> 0.09817</td><td> 0.27348</td><td>-0.10514</td></tr>\n",
       "\t<tr><th scope=row>Ybox</th><td> 0.75772</td><td> 0.99990</td><td> 0.67184</td><td> 0.82312</td><td> 0.55501</td><td> 0.04569</td><td>-0.04092</td><td>-0.02502</td><td> 0.09647</td><td> 0.15994</td><td>-0.05464</td><td>-0.00757</td><td> 0.27440</td><td>-0.00134</td><td> 0.23086</td><td>-0.04274</td></tr>\n",
       "\t<tr><th scope=row>Width</th><td> 0.85143</td><td> 0.67184</td><td> 0.99990</td><td> 0.66015</td><td> 0.76564</td><td> 0.06195</td><td> 0.02483</td><td>-0.09860</td><td> 0.05707</td><td> 0.11501</td><td> 0.01169</td><td>-0.04500</td><td> 0.55720</td><td> 0.04565</td><td> 0.26026</td><td>-0.11826</td></tr>\n",
       "\t<tr><th scope=row>Height</th><td> 0.67270</td><td> 0.82312</td><td> 0.66015</td><td> 0.99990</td><td> 0.64430</td><td> 0.04284</td><td>-0.02007</td><td> 0.08237</td><td> 0.05903</td><td> 0.01246</td><td>-0.01199</td><td> 0.02638</td><td> 0.26522</td><td> 0.02536</td><td> 0.29752</td><td>-0.01885</td></tr>\n",
       "\t<tr><th scope=row>OnPix</th><td> 0.61903</td><td> 0.55501</td><td> 0.76564</td><td> 0.64430</td><td> 0.99990</td><td> 0.13915</td><td>-0.02882</td><td>-0.01198</td><td>-0.06555</td><td>-0.06977</td><td>-0.07293</td><td>-0.03885</td><td> 0.62744</td><td> 0.01765</td><td> 0.49260</td><td>-0.06296</td></tr>\n",
       "\t<tr><th scope=row>Xbar</th><td>-0.03259</td><td> 0.04569</td><td> 0.06195</td><td> 0.04284</td><td> 0.13915</td><td> 0.99990</td><td>-0.35654</td><td>-0.05330</td><td>-0.12284</td><td> 0.08595</td><td>-0.34192</td><td>-0.03211</td><td> 0.14431</td><td>-0.25331</td><td> 0.12704</td><td> 0.24879</td></tr>\n",
       "\t<tr><th scope=row>Ybar</th><td> 0.04554</td><td>-0.04092</td><td> 0.02483</td><td>-0.02007</td><td>-0.02882</td><td>-0.35654</td><td> 0.99990</td><td>-0.11861</td><td>-0.04965</td><td> 0.17830</td><td> 0.60034</td><td>-0.27162</td><td>-0.03672</td><td> 0.55500</td><td>-0.07800</td><td>-0.20788</td></tr>\n",
       "\t<tr><th scope=row>X2bar</th><td> 0.01430</td><td>-0.02502</td><td>-0.09860</td><td> 0.08237</td><td>-0.01198</td><td>-0.05330</td><td>-0.11861</td><td> 0.99990</td><td>-0.18841</td><td>-0.31775</td><td> 0.04254</td><td> 0.08201</td><td> 0.14212</td><td>-0.08481</td><td> 0.00655</td><td> 0.18288</td></tr>\n",
       "\t<tr><th scope=row>Y2bar</th><td> 0.05208</td><td> 0.09647</td><td> 0.05707</td><td> 0.05903</td><td>-0.06555</td><td>-0.12284</td><td>-0.04965</td><td>-0.18841</td><td> 0.99990</td><td> 0.13199</td><td>-0.06011</td><td> 0.11904</td><td>-0.38398</td><td>-0.05254</td><td> 0.27751</td><td>-0.06133</td></tr>\n",
       "\t<tr><th scope=row>XYbar</th><td> 0.14804</td><td> 0.15994</td><td> 0.11501</td><td> 0.01246</td><td>-0.06977</td><td> 0.08595</td><td> 0.17830</td><td>-0.31775</td><td> 0.13199</td><td> 0.99990</td><td> 0.05798</td><td>-0.10675</td><td>-0.17566</td><td> 0.02942</td><td>-0.08701</td><td>-0.11421</td></tr>\n",
       "\t<tr><th scope=row>X2Ybar</th><td> 0.03546</td><td>-0.05464</td><td> 0.01169</td><td>-0.01199</td><td>-0.07293</td><td>-0.34192</td><td> 0.60034</td><td> 0.04254</td><td>-0.06011</td><td> 0.05798</td><td> 0.99990</td><td> 0.06321</td><td> 0.05356</td><td> 0.52719</td><td>-0.22623</td><td>-0.23649</td></tr>\n",
       "\t<tr><th scope=row>XY2bar</th><td>-0.04633</td><td>-0.00757</td><td>-0.04500</td><td> 0.02638</td><td>-0.03885</td><td>-0.03211</td><td>-0.27162</td><td> 0.08201</td><td> 0.11904</td><td>-0.10675</td><td> 0.06321</td><td> 0.99990</td><td>-0.00875</td><td>-0.18491</td><td> 0.04969</td><td> 0.24578</td></tr>\n",
       "\t<tr><th scope=row>Xedge</th><td> 0.48911</td><td> 0.27440</td><td> 0.55720</td><td> 0.26522</td><td> 0.62744</td><td> 0.14431</td><td>-0.03672</td><td> 0.14212</td><td>-0.38398</td><td>-0.17566</td><td> 0.05356</td><td>-0.00875</td><td> 0.99990</td><td> 0.00285</td><td> 0.10840</td><td>-0.04978</td></tr>\n",
       "\t<tr><th scope=row>XedgeXY</th><td> 0.09817</td><td>-0.00134</td><td> 0.04565</td><td> 0.02536</td><td> 0.01765</td><td>-0.25331</td><td> 0.55500</td><td>-0.08481</td><td>-0.05254</td><td> 0.02942</td><td> 0.52719</td><td>-0.18491</td><td> 0.00285</td><td> 0.99990</td><td>-0.06440</td><td>-0.18757</td></tr>\n",
       "\t<tr><th scope=row>Yedge</th><td> 0.27348</td><td> 0.23086</td><td> 0.26026</td><td> 0.29752</td><td> 0.49260</td><td> 0.12704</td><td>-0.07800</td><td> 0.00655</td><td> 0.27751</td><td>-0.08701</td><td>-0.22623</td><td> 0.04969</td><td> 0.10840</td><td>-0.06440</td><td> 0.99990</td><td> 0.14357</td></tr>\n",
       "\t<tr><th scope=row>YedgeYX</th><td>-0.10514</td><td>-0.04274</td><td>-0.11826</td><td>-0.01885</td><td>-0.06296</td><td> 0.24879</td><td>-0.20788</td><td> 0.18288</td><td>-0.06133</td><td>-0.11421</td><td>-0.23649</td><td> 0.24578</td><td>-0.04978</td><td>-0.18757</td><td> 0.14357</td><td> 0.99990</td></tr>\n",
       "</tbody>\n",
       "</table>\n"
      ],
      "text/latex": [
       "\\begin{tabular}{r|llllllllllllllll}\n",
       "  & Xbox & Ybox & Width & Height & OnPix & Xbar & Ybar & X2bar & Y2bar & XYbar & X2Ybar & XY2bar & Xedge & XedgeXY & Yedge & YedgeYX\\\\\n",
       "\\hline\n",
       "\tXbox &  0.99990 &  0.75772 &  0.85143 &  0.67270 &  0.61903 & -0.03259 &  0.04554 &  0.01430 &  0.05208 &  0.14804 &  0.03546 & -0.04633 &  0.48911 &  0.09817 &  0.27348 & -0.10514\\\\\n",
       "\tYbox &  0.75772 &  0.99990 &  0.67184 &  0.82312 &  0.55501 &  0.04569 & -0.04092 & -0.02502 &  0.09647 &  0.15994 & -0.05464 & -0.00757 &  0.27440 & -0.00134 &  0.23086 & -0.04274\\\\\n",
       "\tWidth &  0.85143 &  0.67184 &  0.99990 &  0.66015 &  0.76564 &  0.06195 &  0.02483 & -0.09860 &  0.05707 &  0.11501 &  0.01169 & -0.04500 &  0.55720 &  0.04565 &  0.26026 & -0.11826\\\\\n",
       "\tHeight &  0.67270 &  0.82312 &  0.66015 &  0.99990 &  0.64430 &  0.04284 & -0.02007 &  0.08237 &  0.05903 &  0.01246 & -0.01199 &  0.02638 &  0.26522 &  0.02536 &  0.29752 & -0.01885\\\\\n",
       "\tOnPix &  0.61903 &  0.55501 &  0.76564 &  0.64430 &  0.99990 &  0.13915 & -0.02882 & -0.01198 & -0.06555 & -0.06977 & -0.07293 & -0.03885 &  0.62744 &  0.01765 &  0.49260 & -0.06296\\\\\n",
       "\tXbar & -0.03259 &  0.04569 &  0.06195 &  0.04284 &  0.13915 &  0.99990 & -0.35654 & -0.05330 & -0.12284 &  0.08595 & -0.34192 & -0.03211 &  0.14431 & -0.25331 &  0.12704 &  0.24879\\\\\n",
       "\tYbar &  0.04554 & -0.04092 &  0.02483 & -0.02007 & -0.02882 & -0.35654 &  0.99990 & -0.11861 & -0.04965 &  0.17830 &  0.60034 & -0.27162 & -0.03672 &  0.55500 & -0.07800 & -0.20788\\\\\n",
       "\tX2bar &  0.01430 & -0.02502 & -0.09860 &  0.08237 & -0.01198 & -0.05330 & -0.11861 &  0.99990 & -0.18841 & -0.31775 &  0.04254 &  0.08201 &  0.14212 & -0.08481 &  0.00655 &  0.18288\\\\\n",
       "\tY2bar &  0.05208 &  0.09647 &  0.05707 &  0.05903 & -0.06555 & -0.12284 & -0.04965 & -0.18841 &  0.99990 &  0.13199 & -0.06011 &  0.11904 & -0.38398 & -0.05254 &  0.27751 & -0.06133\\\\\n",
       "\tXYbar &  0.14804 &  0.15994 &  0.11501 &  0.01246 & -0.06977 &  0.08595 &  0.17830 & -0.31775 &  0.13199 &  0.99990 &  0.05798 & -0.10675 & -0.17566 &  0.02942 & -0.08701 & -0.11421\\\\\n",
       "\tX2Ybar &  0.03546 & -0.05464 &  0.01169 & -0.01199 & -0.07293 & -0.34192 &  0.60034 &  0.04254 & -0.06011 &  0.05798 &  0.99990 &  0.06321 &  0.05356 &  0.52719 & -0.22623 & -0.23649\\\\\n",
       "\tXY2bar & -0.04633 & -0.00757 & -0.04500 &  0.02638 & -0.03885 & -0.03211 & -0.27162 &  0.08201 &  0.11904 & -0.10675 &  0.06321 &  0.99990 & -0.00875 & -0.18491 &  0.04969 &  0.24578\\\\\n",
       "\tXedge &  0.48911 &  0.27440 &  0.55720 &  0.26522 &  0.62744 &  0.14431 & -0.03672 &  0.14212 & -0.38398 & -0.17566 &  0.05356 & -0.00875 &  0.99990 &  0.00285 &  0.10840 & -0.04978\\\\\n",
       "\tXedgeXY &  0.09817 & -0.00134 &  0.04565 &  0.02536 &  0.01765 & -0.25331 &  0.55500 & -0.08481 & -0.05254 &  0.02942 &  0.52719 & -0.18491 &  0.00285 &  0.99990 & -0.06440 & -0.18757\\\\\n",
       "\tYedge &  0.27348 &  0.23086 &  0.26026 &  0.29752 &  0.49260 &  0.12704 & -0.07800 &  0.00655 &  0.27751 & -0.08701 & -0.22623 &  0.04969 &  0.10840 & -0.06440 &  0.99990 &  0.14357\\\\\n",
       "\tYedgeYX & -0.10514 & -0.04274 & -0.11826 & -0.01885 & -0.06296 &  0.24879 & -0.20788 &  0.18288 & -0.06133 & -0.11421 & -0.23649 &  0.24578 & -0.04978 & -0.18757 &  0.14357 &  0.99990\\\\\n",
       "\\end{tabular}\n"
      ],
      "text/markdown": [
       "\n",
       "| <!--/--> | Xbox | Ybox | Width | Height | OnPix | Xbar | Ybar | X2bar | Y2bar | XYbar | X2Ybar | XY2bar | Xedge | XedgeXY | Yedge | YedgeYX | \n",
       "|---|---|---|---|---|---|---|---|---|---|---|---|---|---|---|---|\n",
       "| Xbox |  0.99990 |  0.75772 |  0.85143 |  0.67270 |  0.61903 | -0.03259 |  0.04554 |  0.01430 |  0.05208 |  0.14804 |  0.03546 | -0.04633 |  0.48911 |  0.09817 |  0.27348 | -0.10514 | \n",
       "| Ybox |  0.75772 |  0.99990 |  0.67184 |  0.82312 |  0.55501 |  0.04569 | -0.04092 | -0.02502 |  0.09647 |  0.15994 | -0.05464 | -0.00757 |  0.27440 | -0.00134 |  0.23086 | -0.04274 | \n",
       "| Width |  0.85143 |  0.67184 |  0.99990 |  0.66015 |  0.76564 |  0.06195 |  0.02483 | -0.09860 |  0.05707 |  0.11501 |  0.01169 | -0.04500 |  0.55720 |  0.04565 |  0.26026 | -0.11826 | \n",
       "| Height |  0.67270 |  0.82312 |  0.66015 |  0.99990 |  0.64430 |  0.04284 | -0.02007 |  0.08237 |  0.05903 |  0.01246 | -0.01199 |  0.02638 |  0.26522 |  0.02536 |  0.29752 | -0.01885 | \n",
       "| OnPix |  0.61903 |  0.55501 |  0.76564 |  0.64430 |  0.99990 |  0.13915 | -0.02882 | -0.01198 | -0.06555 | -0.06977 | -0.07293 | -0.03885 |  0.62744 |  0.01765 |  0.49260 | -0.06296 | \n",
       "| Xbar | -0.03259 |  0.04569 |  0.06195 |  0.04284 |  0.13915 |  0.99990 | -0.35654 | -0.05330 | -0.12284 |  0.08595 | -0.34192 | -0.03211 |  0.14431 | -0.25331 |  0.12704 |  0.24879 | \n",
       "| Ybar |  0.04554 | -0.04092 |  0.02483 | -0.02007 | -0.02882 | -0.35654 |  0.99990 | -0.11861 | -0.04965 |  0.17830 |  0.60034 | -0.27162 | -0.03672 |  0.55500 | -0.07800 | -0.20788 | \n",
       "| X2bar |  0.01430 | -0.02502 | -0.09860 |  0.08237 | -0.01198 | -0.05330 | -0.11861 |  0.99990 | -0.18841 | -0.31775 |  0.04254 |  0.08201 |  0.14212 | -0.08481 |  0.00655 |  0.18288 | \n",
       "| Y2bar |  0.05208 |  0.09647 |  0.05707 |  0.05903 | -0.06555 | -0.12284 | -0.04965 | -0.18841 |  0.99990 |  0.13199 | -0.06011 |  0.11904 | -0.38398 | -0.05254 |  0.27751 | -0.06133 | \n",
       "| XYbar |  0.14804 |  0.15994 |  0.11501 |  0.01246 | -0.06977 |  0.08595 |  0.17830 | -0.31775 |  0.13199 |  0.99990 |  0.05798 | -0.10675 | -0.17566 |  0.02942 | -0.08701 | -0.11421 | \n",
       "| X2Ybar |  0.03546 | -0.05464 |  0.01169 | -0.01199 | -0.07293 | -0.34192 |  0.60034 |  0.04254 | -0.06011 |  0.05798 |  0.99990 |  0.06321 |  0.05356 |  0.52719 | -0.22623 | -0.23649 | \n",
       "| XY2bar | -0.04633 | -0.00757 | -0.04500 |  0.02638 | -0.03885 | -0.03211 | -0.27162 |  0.08201 |  0.11904 | -0.10675 |  0.06321 |  0.99990 | -0.00875 | -0.18491 |  0.04969 |  0.24578 | \n",
       "| Xedge |  0.48911 |  0.27440 |  0.55720 |  0.26522 |  0.62744 |  0.14431 | -0.03672 |  0.14212 | -0.38398 | -0.17566 |  0.05356 | -0.00875 |  0.99990 |  0.00285 |  0.10840 | -0.04978 | \n",
       "| XedgeXY |  0.09817 | -0.00134 |  0.04565 |  0.02536 |  0.01765 | -0.25331 |  0.55500 | -0.08481 | -0.05254 |  0.02942 |  0.52719 | -0.18491 |  0.00285 |  0.99990 | -0.06440 | -0.18757 | \n",
       "| Yedge |  0.27348 |  0.23086 |  0.26026 |  0.29752 |  0.49260 |  0.12704 | -0.07800 |  0.00655 |  0.27751 | -0.08701 | -0.22623 |  0.04969 |  0.10840 | -0.06440 |  0.99990 |  0.14357 | \n",
       "| YedgeYX | -0.10514 | -0.04274 | -0.11826 | -0.01885 | -0.06296 |  0.24879 | -0.20788 |  0.18288 | -0.06133 | -0.11421 | -0.23649 |  0.24578 | -0.04978 | -0.18757 |  0.14357 |  0.99990 | \n",
       "\n",
       "\n"
      ],
      "text/plain": [
       "        Xbox     Ybox     Width    Height   OnPix    Xbar     Ybar     X2bar   \n",
       "Xbox     0.99990  0.75772  0.85143  0.67270  0.61903 -0.03259  0.04554  0.01430\n",
       "Ybox     0.75772  0.99990  0.67184  0.82312  0.55501  0.04569 -0.04092 -0.02502\n",
       "Width    0.85143  0.67184  0.99990  0.66015  0.76564  0.06195  0.02483 -0.09860\n",
       "Height   0.67270  0.82312  0.66015  0.99990  0.64430  0.04284 -0.02007  0.08237\n",
       "OnPix    0.61903  0.55501  0.76564  0.64430  0.99990  0.13915 -0.02882 -0.01198\n",
       "Xbar    -0.03259  0.04569  0.06195  0.04284  0.13915  0.99990 -0.35654 -0.05330\n",
       "Ybar     0.04554 -0.04092  0.02483 -0.02007 -0.02882 -0.35654  0.99990 -0.11861\n",
       "X2bar    0.01430 -0.02502 -0.09860  0.08237 -0.01198 -0.05330 -0.11861  0.99990\n",
       "Y2bar    0.05208  0.09647  0.05707  0.05903 -0.06555 -0.12284 -0.04965 -0.18841\n",
       "XYbar    0.14804  0.15994  0.11501  0.01246 -0.06977  0.08595  0.17830 -0.31775\n",
       "X2Ybar   0.03546 -0.05464  0.01169 -0.01199 -0.07293 -0.34192  0.60034  0.04254\n",
       "XY2bar  -0.04633 -0.00757 -0.04500  0.02638 -0.03885 -0.03211 -0.27162  0.08201\n",
       "Xedge    0.48911  0.27440  0.55720  0.26522  0.62744  0.14431 -0.03672  0.14212\n",
       "XedgeXY  0.09817 -0.00134  0.04565  0.02536  0.01765 -0.25331  0.55500 -0.08481\n",
       "Yedge    0.27348  0.23086  0.26026  0.29752  0.49260  0.12704 -0.07800  0.00655\n",
       "YedgeYX -0.10514 -0.04274 -0.11826 -0.01885 -0.06296  0.24879 -0.20788  0.18288\n",
       "        Y2bar    XYbar    X2Ybar   XY2bar   Xedge    XedgeXY  Yedge    YedgeYX \n",
       "Xbox     0.05208  0.14804  0.03546 -0.04633  0.48911  0.09817  0.27348 -0.10514\n",
       "Ybox     0.09647  0.15994 -0.05464 -0.00757  0.27440 -0.00134  0.23086 -0.04274\n",
       "Width    0.05707  0.11501  0.01169 -0.04500  0.55720  0.04565  0.26026 -0.11826\n",
       "Height   0.05903  0.01246 -0.01199  0.02638  0.26522  0.02536  0.29752 -0.01885\n",
       "OnPix   -0.06555 -0.06977 -0.07293 -0.03885  0.62744  0.01765  0.49260 -0.06296\n",
       "Xbar    -0.12284  0.08595 -0.34192 -0.03211  0.14431 -0.25331  0.12704  0.24879\n",
       "Ybar    -0.04965  0.17830  0.60034 -0.27162 -0.03672  0.55500 -0.07800 -0.20788\n",
       "X2bar   -0.18841 -0.31775  0.04254  0.08201  0.14212 -0.08481  0.00655  0.18288\n",
       "Y2bar    0.99990  0.13199 -0.06011  0.11904 -0.38398 -0.05254  0.27751 -0.06133\n",
       "XYbar    0.13199  0.99990  0.05798 -0.10675 -0.17566  0.02942 -0.08701 -0.11421\n",
       "X2Ybar  -0.06011  0.05798  0.99990  0.06321  0.05356  0.52719 -0.22623 -0.23649\n",
       "XY2bar   0.11904 -0.10675  0.06321  0.99990 -0.00875 -0.18491  0.04969  0.24578\n",
       "Xedge   -0.38398 -0.17566  0.05356 -0.00875  0.99990  0.00285  0.10840 -0.04978\n",
       "XedgeXY -0.05254  0.02942  0.52719 -0.18491  0.00285  0.99990 -0.06440 -0.18757\n",
       "Yedge    0.27751 -0.08701 -0.22623  0.04969  0.10840 -0.06440  0.99990  0.14357\n",
       "YedgeYX -0.06133 -0.11421 -0.23649  0.24578 -0.04978 -0.18757  0.14357  0.99990"
      ]
     },
     "metadata": {},
     "output_type": "display_data"
    }
   ],
   "source": [
    "round(cm, 5)"
   ]
  },
  {
   "cell_type": "markdown",
   "metadata": {},
   "source": [
    "## Eigenvalue of covariance to produce projection"
   ]
  },
  {
   "cell_type": "code",
   "execution_count": 59,
   "metadata": {
    "collapsed": true
   },
   "outputs": [],
   "source": [
    "r <- eigen(cm)"
   ]
  },
  {
   "cell_type": "code",
   "execution_count": 60,
   "metadata": {
    "collapsed": false
   },
   "outputs": [
    {
     "data": {
      "text/html": [
       "<ol class=list-inline>\n",
       "\t<li>4.29495557278063</li>\n",
       "\t<li>2.62517913014241</li>\n",
       "\t<li>1.7209044356662</li>\n",
       "\t<li>1.36896210456346</li>\n",
       "\t<li>1.05125884002181</li>\n",
       "\t<li>0.979967625455599</li>\n",
       "\t<li>0.889183343142624</li>\n",
       "\t<li>0.625801679971646</li>\n",
       "\t<li>0.595406712435488</li>\n",
       "\t<li>0.491836893068431</li>\n",
       "\t<li>0.426438984186333</li>\n",
       "\t<li>0.266175336243766</li>\n",
       "\t<li>0.253915928929174</li>\n",
       "\t<li>0.21451567419899</li>\n",
       "\t<li>0.119027783502187</li>\n",
       "\t<li>0.0748700356872442</li>\n",
       "</ol>\n"
      ],
      "text/latex": [
       "\\begin{enumerate*}\n",
       "\\item 4.29495557278063\n",
       "\\item 2.62517913014241\n",
       "\\item 1.7209044356662\n",
       "\\item 1.36896210456346\n",
       "\\item 1.05125884002181\n",
       "\\item 0.979967625455599\n",
       "\\item 0.889183343142624\n",
       "\\item 0.625801679971646\n",
       "\\item 0.595406712435488\n",
       "\\item 0.491836893068431\n",
       "\\item 0.426438984186333\n",
       "\\item 0.266175336243766\n",
       "\\item 0.253915928929174\n",
       "\\item 0.21451567419899\n",
       "\\item 0.119027783502187\n",
       "\\item 0.0748700356872442\n",
       "\\end{enumerate*}\n"
      ],
      "text/markdown": [
       "1. 4.29495557278063\n",
       "2. 2.62517913014241\n",
       "3. 1.7209044356662\n",
       "4. 1.36896210456346\n",
       "5. 1.05125884002181\n",
       "6. 0.979967625455599\n",
       "7. 0.889183343142624\n",
       "8. 0.625801679971646\n",
       "9. 0.595406712435488\n",
       "10. 0.491836893068431\n",
       "11. 0.426438984186333\n",
       "12. 0.266175336243766\n",
       "13. 0.253915928929174\n",
       "14. 0.21451567419899\n",
       "15. 0.119027783502187\n",
       "16. 0.0748700356872442\n",
       "\n",
       "\n"
      ],
      "text/plain": [
       " [1] 4.29495557 2.62517913 1.72090444 1.36896210 1.05125884 0.97996763\n",
       " [7] 0.88918334 0.62580168 0.59540671 0.49183689 0.42643898 0.26617534\n",
       "[13] 0.25391593 0.21451567 0.11902778 0.07487004"
      ]
     },
     "metadata": {},
     "output_type": "display_data"
    }
   ],
   "source": [
    "r$values"
   ]
  },
  {
   "cell_type": "code",
   "execution_count": 61,
   "metadata": {
    "collapsed": false
   },
   "outputs": [
    {
     "data": {
      "text/html": [
       "<table>\n",
       "<tbody>\n",
       "\t<tr><td>-0.4272050265</td><td>-0.0840028152</td><td>-0.03776493  </td><td>-0.02207885  </td><td> 0.140038660 </td><td>-0.04076958  </td><td> 0.07340404  </td><td> 0.05887078  </td><td>-0.12659335  </td><td>-0.266568374 </td><td> 0.170693268 </td><td>-0.51413296  </td><td> 0.0217323519</td><td>-0.230772979 </td><td>-0.118369886 </td><td> 0.5745480477</td></tr>\n",
       "\t<tr><td>-0.3995204745</td><td>-0.0098194780</td><td>-0.14604714  </td><td>-0.05986916  </td><td> 0.238531158 </td><td>-0.02520207  </td><td> 0.27500991  </td><td>-0.22366371  </td><td> 0.08466771  </td><td> 0.140933136 </td><td>-0.031336397 </td><td>-0.23294843  </td><td>-0.0548739547</td><td> 0.462973832 </td><td> 0.541604946 </td><td>-0.1980282181</td></tr>\n",
       "\t<tr><td>-0.4376854301</td><td>-0.0557564739</td><td>-0.03215553  </td><td> 0.06230310  </td><td> 0.070946183 </td><td>-0.02910983  </td><td>-0.12490511  </td><td> 0.01861379  </td><td>-0.09573429  </td><td>-0.296475554 </td><td>-0.056206815 </td><td> 0.06643448  </td><td> 0.0939701087</td><td>-0.523363946 </td><td> 0.059537540 </td><td>-0.6226219141</td></tr>\n",
       "\t<tr><td>-0.3995260257</td><td>-0.0001011894</td><td>-0.05129260  </td><td>-0.15550723  </td><td> 0.123599904 </td><td>-0.00852268  </td><td> 0.27879350  </td><td>-0.24782553  </td><td> 0.20215980  </td><td> 0.316109121 </td><td>-0.156817794 </td><td> 0.26399387  </td><td>-0.0003098750</td><td> 0.020096594 </td><td>-0.650838005 </td><td> 0.0006399979</td></tr>\n",
       "\t<tr><td>-0.4166293504</td><td> 0.0351320417</td><td> 0.10028514  </td><td> 0.03658624  </td><td>-0.232528836 </td><td> 0.02491591  </td><td>-0.19846167  </td><td> 0.04756661  </td><td>-0.02931949  </td><td> 0.152203929 </td><td>-0.055028484 </td><td> 0.58093091  </td><td>-0.0110939448</td><td>-0.103339141 </td><td> 0.402438480 </td><td> 0.4244486752</td></tr>\n",
       "\t<tr><td>-0.0536929391</td><td> 0.3296011771</td><td>-0.01153427  </td><td> 0.41581966  </td><td>-0.050861391 </td><td> 0.41412676  </td><td>-0.01855311  </td><td> 0.07624517  </td><td> 0.65692582  </td><td>-0.087775531 </td><td>-0.186168338 </td><td>-0.15677541  </td><td> 0.1720747309</td><td>-0.061823851 </td><td> 0.023146966 </td><td> 0.0522949027</td></tr>\n",
       "\t<tr><td> 0.0129047398</td><td>-0.5088709224</td><td> 0.01949007  </td><td>-0.01862255  </td><td>-0.166577100 </td><td> 0.26460462  </td><td> 0.09259295  </td><td> 0.09567438  </td><td>-0.20317630  </td><td> 0.138616651 </td><td>-0.416977144 </td><td>-0.11263375  </td><td> 0.6107621545</td><td> 0.059519278 </td><td> 0.023771262 </td><td> 0.0218426405</td></tr>\n",
       "\t<tr><td>-0.0004164997</td><td> 0.1117711421</td><td> 0.45247107  </td><td>-0.31349895  </td><td> 0.059153481 </td><td>-0.10855924  </td><td> 0.52248466  </td><td> 0.53899225  </td><td> 0.18101549  </td><td>-0.081313278 </td><td> 0.125046249 </td><td> 0.10613068  </td><td> 0.1552631771</td><td>-0.049598804 </td><td> 0.098706328 </td><td>-0.0558560207</td></tr>\n",
       "\t<tr><td>-0.0083018581</td><td> 0.0185668586</td><td>-0.55072913  </td><td>-0.39401680  </td><td>-0.153760534 </td><td>-0.12385992  </td><td>-0.05653023  </td><td> 0.15325488  </td><td> 0.19097197  </td><td>-0.542333071 </td><td>-0.195737711 </td><td> 0.18424619  </td><td> 0.0798631193</td><td> 0.245061356 </td><td>-0.042109690 </td><td> 0.0656235670</td></tr>\n",
       "\t<tr><td>-0.0281275034</td><td>-0.1419425301</td><td>-0.44347409  </td><td> 0.31693438  </td><td> 0.358027371 </td><td> 0.28671900  </td><td> 0.09793647  </td><td> 0.51856975  </td><td>-0.16681117  </td><td> 0.135145354 </td><td> 0.275454156 </td><td> 0.22797298  </td><td>-0.0774720795</td><td> 0.086565224 </td><td>-0.072141790 </td><td>-0.0202526235</td></tr>\n",
       "\t<tr><td> 0.0238771750</td><td>-0.4721090010</td><td> 0.16861986  </td><td>-0.20760469  </td><td> 0.172281417 </td><td> 0.20461981  </td><td>-0.15710178  </td><td> 0.17607963  </td><td> 0.26324593  </td><td>-0.004478586 </td><td>-0.349696646 </td><td>-0.07225075  </td><td>-0.6081434254</td><td>-0.091312539 </td><td> 0.049458149 </td><td> 0.0180704794</td></tr>\n",
       "\t<tr><td> 0.0162322312</td><td> 0.1833005421</td><td> 0.03158564  </td><td>-0.49633951  </td><td> 0.455079538 </td><td> 0.20135370  </td><td>-0.52705359  </td><td> 0.02035962  </td><td> 0.08778212  </td><td> 0.215371259 </td><td> 0.159251711 </td><td>-0.04381284  </td><td> 0.3316289921</td><td>-0.023772979 </td><td> 0.031219488 </td><td> 0.0075769398</td></tr>\n",
       "\t<tr><td>-0.2892890773</td><td> 0.0131873584</td><td> 0.43122069  </td><td> 0.20488513  </td><td>-0.009897636 </td><td>-0.01611790  </td><td>-0.35131361  </td><td> 0.19628090  </td><td>-0.13621261  </td><td>-0.250458085 </td><td>-0.007810576 </td><td> 0.00107726  </td><td>-0.0007042368</td><td> 0.596940840 </td><td>-0.275567068 </td><td>-0.1108249056</td></tr>\n",
       "\t<tr><td>-0.0131043153</td><td>-0.4565777317</td><td> 0.08463474  </td><td>-0.07105430  </td><td>-0.206524359 </td><td> 0.28665301  </td><td> 0.03069067  </td><td>-0.29023583  </td><td> 0.29133423  </td><td>-0.193058906 </td><td> 0.645533466 </td><td> 0.13047900  </td><td> 0.0765116282</td><td> 0.066153645 </td><td>-0.004827104 </td><td>-0.0548912860</td></tr>\n",
       "\t<tr><td>-0.2077721934</td><td> 0.1651683982</td><td>-0.15600561  </td><td>-0.25730878  </td><td>-0.618550700 </td><td> 0.19640438  </td><td>-0.08613338  </td><td> 0.28840562  </td><td>-0.06309719  </td><td> 0.349808600 </td><td> 0.154960614 </td><td>-0.31407875  </td><td>-0.1903257105</td><td> 0.009130817 </td><td>-0.079708156 </td><td>-0.1885787404</td></tr>\n",
       "\t<tr><td> 0.0365672255</td><td> 0.3090769665</td><td> 0.10688699  </td><td>-0.19133062  </td><td> 0.036314491 </td><td> 0.66475118  </td><td> 0.23942340  </td><td>-0.21735142  </td><td>-0.41424912  </td><td>-0.288787298 </td><td>-0.110964750 </td><td> 0.11205902  </td><td>-0.1629158309</td><td> 0.018216312 </td><td> 0.002229603 </td><td> 0.0239739376</td></tr>\n",
       "</tbody>\n",
       "</table>\n"
      ],
      "text/latex": [
       "\\begin{tabular}{llllllllllllllll}\n",
       "\t -0.4272050265 & -0.0840028152 & -0.03776493   & -0.02207885   &  0.140038660  & -0.04076958   &  0.07340404   &  0.05887078   & -0.12659335   & -0.266568374  &  0.170693268  & -0.51413296   &  0.0217323519 & -0.230772979  & -0.118369886  &  0.5745480477\\\\\n",
       "\t -0.3995204745 & -0.0098194780 & -0.14604714   & -0.05986916   &  0.238531158  & -0.02520207   &  0.27500991   & -0.22366371   &  0.08466771   &  0.140933136  & -0.031336397  & -0.23294843   & -0.0548739547 &  0.462973832  &  0.541604946  & -0.1980282181\\\\\n",
       "\t -0.4376854301 & -0.0557564739 & -0.03215553   &  0.06230310   &  0.070946183  & -0.02910983   & -0.12490511   &  0.01861379   & -0.09573429   & -0.296475554  & -0.056206815  &  0.06643448   &  0.0939701087 & -0.523363946  &  0.059537540  & -0.6226219141\\\\\n",
       "\t -0.3995260257 & -0.0001011894 & -0.05129260   & -0.15550723   &  0.123599904  & -0.00852268   &  0.27879350   & -0.24782553   &  0.20215980   &  0.316109121  & -0.156817794  &  0.26399387   & -0.0003098750 &  0.020096594  & -0.650838005  &  0.0006399979\\\\\n",
       "\t -0.4166293504 &  0.0351320417 &  0.10028514   &  0.03658624   & -0.232528836  &  0.02491591   & -0.19846167   &  0.04756661   & -0.02931949   &  0.152203929  & -0.055028484  &  0.58093091   & -0.0110939448 & -0.103339141  &  0.402438480  &  0.4244486752\\\\\n",
       "\t -0.0536929391 &  0.3296011771 & -0.01153427   &  0.41581966   & -0.050861391  &  0.41412676   & -0.01855311   &  0.07624517   &  0.65692582   & -0.087775531  & -0.186168338  & -0.15677541   &  0.1720747309 & -0.061823851  &  0.023146966  &  0.0522949027\\\\\n",
       "\t  0.0129047398 & -0.5088709224 &  0.01949007   & -0.01862255   & -0.166577100  &  0.26460462   &  0.09259295   &  0.09567438   & -0.20317630   &  0.138616651  & -0.416977144  & -0.11263375   &  0.6107621545 &  0.059519278  &  0.023771262  &  0.0218426405\\\\\n",
       "\t -0.0004164997 &  0.1117711421 &  0.45247107   & -0.31349895   &  0.059153481  & -0.10855924   &  0.52248466   &  0.53899225   &  0.18101549   & -0.081313278  &  0.125046249  &  0.10613068   &  0.1552631771 & -0.049598804  &  0.098706328  & -0.0558560207\\\\\n",
       "\t -0.0083018581 &  0.0185668586 & -0.55072913   & -0.39401680   & -0.153760534  & -0.12385992   & -0.05653023   &  0.15325488   &  0.19097197   & -0.542333071  & -0.195737711  &  0.18424619   &  0.0798631193 &  0.245061356  & -0.042109690  &  0.0656235670\\\\\n",
       "\t -0.0281275034 & -0.1419425301 & -0.44347409   &  0.31693438   &  0.358027371  &  0.28671900   &  0.09793647   &  0.51856975   & -0.16681117   &  0.135145354  &  0.275454156  &  0.22797298   & -0.0774720795 &  0.086565224  & -0.072141790  & -0.0202526235\\\\\n",
       "\t  0.0238771750 & -0.4721090010 &  0.16861986   & -0.20760469   &  0.172281417  &  0.20461981   & -0.15710178   &  0.17607963   &  0.26324593   & -0.004478586  & -0.349696646  & -0.07225075   & -0.6081434254 & -0.091312539  &  0.049458149  &  0.0180704794\\\\\n",
       "\t  0.0162322312 &  0.1833005421 &  0.03158564   & -0.49633951   &  0.455079538  &  0.20135370   & -0.52705359   &  0.02035962   &  0.08778212   &  0.215371259  &  0.159251711  & -0.04381284   &  0.3316289921 & -0.023772979  &  0.031219488  &  0.0075769398\\\\\n",
       "\t -0.2892890773 &  0.0131873584 &  0.43122069   &  0.20488513   & -0.009897636  & -0.01611790   & -0.35131361   &  0.19628090   & -0.13621261   & -0.250458085  & -0.007810576  &  0.00107726   & -0.0007042368 &  0.596940840  & -0.275567068  & -0.1108249056\\\\\n",
       "\t -0.0131043153 & -0.4565777317 &  0.08463474   & -0.07105430   & -0.206524359  &  0.28665301   &  0.03069067   & -0.29023583   &  0.29133423   & -0.193058906  &  0.645533466  &  0.13047900   &  0.0765116282 &  0.066153645  & -0.004827104  & -0.0548912860\\\\\n",
       "\t -0.2077721934 &  0.1651683982 & -0.15600561   & -0.25730878   & -0.618550700  &  0.19640438   & -0.08613338   &  0.28840562   & -0.06309719   &  0.349808600  &  0.154960614  & -0.31407875   & -0.1903257105 &  0.009130817  & -0.079708156  & -0.1885787404\\\\\n",
       "\t  0.0365672255 &  0.3090769665 &  0.10688699   & -0.19133062   &  0.036314491  &  0.66475118   &  0.23942340   & -0.21735142   & -0.41424912   & -0.288787298  & -0.110964750  &  0.11205902   & -0.1629158309 &  0.018216312  &  0.002229603  &  0.0239739376\\\\\n",
       "\\end{tabular}\n"
      ],
      "text/markdown": [
       "\n",
       "| -0.4272050265 | -0.0840028152 | -0.03776493   | -0.02207885   |  0.140038660  | -0.04076958   |  0.07340404   |  0.05887078   | -0.12659335   | -0.266568374  |  0.170693268  | -0.51413296   |  0.0217323519 | -0.230772979  | -0.118369886  |  0.5745480477 | \n",
       "| -0.3995204745 | -0.0098194780 | -0.14604714   | -0.05986916   |  0.238531158  | -0.02520207   |  0.27500991   | -0.22366371   |  0.08466771   |  0.140933136  | -0.031336397  | -0.23294843   | -0.0548739547 |  0.462973832  |  0.541604946  | -0.1980282181 | \n",
       "| -0.4376854301 | -0.0557564739 | -0.03215553   |  0.06230310   |  0.070946183  | -0.02910983   | -0.12490511   |  0.01861379   | -0.09573429   | -0.296475554  | -0.056206815  |  0.06643448   |  0.0939701087 | -0.523363946  |  0.059537540  | -0.6226219141 | \n",
       "| -0.3995260257 | -0.0001011894 | -0.05129260   | -0.15550723   |  0.123599904  | -0.00852268   |  0.27879350   | -0.24782553   |  0.20215980   |  0.316109121  | -0.156817794  |  0.26399387   | -0.0003098750 |  0.020096594  | -0.650838005  |  0.0006399979 | \n",
       "| -0.4166293504 |  0.0351320417 |  0.10028514   |  0.03658624   | -0.232528836  |  0.02491591   | -0.19846167   |  0.04756661   | -0.02931949   |  0.152203929  | -0.055028484  |  0.58093091   | -0.0110939448 | -0.103339141  |  0.402438480  |  0.4244486752 | \n",
       "| -0.0536929391 |  0.3296011771 | -0.01153427   |  0.41581966   | -0.050861391  |  0.41412676   | -0.01855311   |  0.07624517   |  0.65692582   | -0.087775531  | -0.186168338  | -0.15677541   |  0.1720747309 | -0.061823851  |  0.023146966  |  0.0522949027 | \n",
       "|  0.0129047398 | -0.5088709224 |  0.01949007   | -0.01862255   | -0.166577100  |  0.26460462   |  0.09259295   |  0.09567438   | -0.20317630   |  0.138616651  | -0.416977144  | -0.11263375   |  0.6107621545 |  0.059519278  |  0.023771262  |  0.0218426405 | \n",
       "| -0.0004164997 |  0.1117711421 |  0.45247107   | -0.31349895   |  0.059153481  | -0.10855924   |  0.52248466   |  0.53899225   |  0.18101549   | -0.081313278  |  0.125046249  |  0.10613068   |  0.1552631771 | -0.049598804  |  0.098706328  | -0.0558560207 | \n",
       "| -0.0083018581 |  0.0185668586 | -0.55072913   | -0.39401680   | -0.153760534  | -0.12385992   | -0.05653023   |  0.15325488   |  0.19097197   | -0.542333071  | -0.195737711  |  0.18424619   |  0.0798631193 |  0.245061356  | -0.042109690  |  0.0656235670 | \n",
       "| -0.0281275034 | -0.1419425301 | -0.44347409   |  0.31693438   |  0.358027371  |  0.28671900   |  0.09793647   |  0.51856975   | -0.16681117   |  0.135145354  |  0.275454156  |  0.22797298   | -0.0774720795 |  0.086565224  | -0.072141790  | -0.0202526235 | \n",
       "|  0.0238771750 | -0.4721090010 |  0.16861986   | -0.20760469   |  0.172281417  |  0.20461981   | -0.15710178   |  0.17607963   |  0.26324593   | -0.004478586  | -0.349696646  | -0.07225075   | -0.6081434254 | -0.091312539  |  0.049458149  |  0.0180704794 | \n",
       "|  0.0162322312 |  0.1833005421 |  0.03158564   | -0.49633951   |  0.455079538  |  0.20135370   | -0.52705359   |  0.02035962   |  0.08778212   |  0.215371259  |  0.159251711  | -0.04381284   |  0.3316289921 | -0.023772979  |  0.031219488  |  0.0075769398 | \n",
       "| -0.2892890773 |  0.0131873584 |  0.43122069   |  0.20488513   | -0.009897636  | -0.01611790   | -0.35131361   |  0.19628090   | -0.13621261   | -0.250458085  | -0.007810576  |  0.00107726   | -0.0007042368 |  0.596940840  | -0.275567068  | -0.1108249056 | \n",
       "| -0.0131043153 | -0.4565777317 |  0.08463474   | -0.07105430   | -0.206524359  |  0.28665301   |  0.03069067   | -0.29023583   |  0.29133423   | -0.193058906  |  0.645533466  |  0.13047900   |  0.0765116282 |  0.066153645  | -0.004827104  | -0.0548912860 | \n",
       "| -0.2077721934 |  0.1651683982 | -0.15600561   | -0.25730878   | -0.618550700  |  0.19640438   | -0.08613338   |  0.28840562   | -0.06309719   |  0.349808600  |  0.154960614  | -0.31407875   | -0.1903257105 |  0.009130817  | -0.079708156  | -0.1885787404 | \n",
       "|  0.0365672255 |  0.3090769665 |  0.10688699   | -0.19133062   |  0.036314491  |  0.66475118   |  0.23942340   | -0.21735142   | -0.41424912   | -0.288787298  | -0.110964750  |  0.11205902   | -0.1629158309 |  0.018216312  |  0.002229603  |  0.0239739376 | \n",
       "\n",
       "\n"
      ],
      "text/plain": [
       "      [,1]          [,2]          [,3]        [,4]        [,5]        \n",
       " [1,] -0.4272050265 -0.0840028152 -0.03776493 -0.02207885  0.140038660\n",
       " [2,] -0.3995204745 -0.0098194780 -0.14604714 -0.05986916  0.238531158\n",
       " [3,] -0.4376854301 -0.0557564739 -0.03215553  0.06230310  0.070946183\n",
       " [4,] -0.3995260257 -0.0001011894 -0.05129260 -0.15550723  0.123599904\n",
       " [5,] -0.4166293504  0.0351320417  0.10028514  0.03658624 -0.232528836\n",
       " [6,] -0.0536929391  0.3296011771 -0.01153427  0.41581966 -0.050861391\n",
       " [7,]  0.0129047398 -0.5088709224  0.01949007 -0.01862255 -0.166577100\n",
       " [8,] -0.0004164997  0.1117711421  0.45247107 -0.31349895  0.059153481\n",
       " [9,] -0.0083018581  0.0185668586 -0.55072913 -0.39401680 -0.153760534\n",
       "[10,] -0.0281275034 -0.1419425301 -0.44347409  0.31693438  0.358027371\n",
       "[11,]  0.0238771750 -0.4721090010  0.16861986 -0.20760469  0.172281417\n",
       "[12,]  0.0162322312  0.1833005421  0.03158564 -0.49633951  0.455079538\n",
       "[13,] -0.2892890773  0.0131873584  0.43122069  0.20488513 -0.009897636\n",
       "[14,] -0.0131043153 -0.4565777317  0.08463474 -0.07105430 -0.206524359\n",
       "[15,] -0.2077721934  0.1651683982 -0.15600561 -0.25730878 -0.618550700\n",
       "[16,]  0.0365672255  0.3090769665  0.10688699 -0.19133062  0.036314491\n",
       "      [,6]        [,7]        [,8]        [,9]        [,10]        [,11]       \n",
       " [1,] -0.04076958  0.07340404  0.05887078 -0.12659335 -0.266568374  0.170693268\n",
       " [2,] -0.02520207  0.27500991 -0.22366371  0.08466771  0.140933136 -0.031336397\n",
       " [3,] -0.02910983 -0.12490511  0.01861379 -0.09573429 -0.296475554 -0.056206815\n",
       " [4,] -0.00852268  0.27879350 -0.24782553  0.20215980  0.316109121 -0.156817794\n",
       " [5,]  0.02491591 -0.19846167  0.04756661 -0.02931949  0.152203929 -0.055028484\n",
       " [6,]  0.41412676 -0.01855311  0.07624517  0.65692582 -0.087775531 -0.186168338\n",
       " [7,]  0.26460462  0.09259295  0.09567438 -0.20317630  0.138616651 -0.416977144\n",
       " [8,] -0.10855924  0.52248466  0.53899225  0.18101549 -0.081313278  0.125046249\n",
       " [9,] -0.12385992 -0.05653023  0.15325488  0.19097197 -0.542333071 -0.195737711\n",
       "[10,]  0.28671900  0.09793647  0.51856975 -0.16681117  0.135145354  0.275454156\n",
       "[11,]  0.20461981 -0.15710178  0.17607963  0.26324593 -0.004478586 -0.349696646\n",
       "[12,]  0.20135370 -0.52705359  0.02035962  0.08778212  0.215371259  0.159251711\n",
       "[13,] -0.01611790 -0.35131361  0.19628090 -0.13621261 -0.250458085 -0.007810576\n",
       "[14,]  0.28665301  0.03069067 -0.29023583  0.29133423 -0.193058906  0.645533466\n",
       "[15,]  0.19640438 -0.08613338  0.28840562 -0.06309719  0.349808600  0.154960614\n",
       "[16,]  0.66475118  0.23942340 -0.21735142 -0.41424912 -0.288787298 -0.110964750\n",
       "      [,12]       [,13]         [,14]        [,15]        [,16]        \n",
       " [1,] -0.51413296  0.0217323519 -0.230772979 -0.118369886  0.5745480477\n",
       " [2,] -0.23294843 -0.0548739547  0.462973832  0.541604946 -0.1980282181\n",
       " [3,]  0.06643448  0.0939701087 -0.523363946  0.059537540 -0.6226219141\n",
       " [4,]  0.26399387 -0.0003098750  0.020096594 -0.650838005  0.0006399979\n",
       " [5,]  0.58093091 -0.0110939448 -0.103339141  0.402438480  0.4244486752\n",
       " [6,] -0.15677541  0.1720747309 -0.061823851  0.023146966  0.0522949027\n",
       " [7,] -0.11263375  0.6107621545  0.059519278  0.023771262  0.0218426405\n",
       " [8,]  0.10613068  0.1552631771 -0.049598804  0.098706328 -0.0558560207\n",
       " [9,]  0.18424619  0.0798631193  0.245061356 -0.042109690  0.0656235670\n",
       "[10,]  0.22797298 -0.0774720795  0.086565224 -0.072141790 -0.0202526235\n",
       "[11,] -0.07225075 -0.6081434254 -0.091312539  0.049458149  0.0180704794\n",
       "[12,] -0.04381284  0.3316289921 -0.023772979  0.031219488  0.0075769398\n",
       "[13,]  0.00107726 -0.0007042368  0.596940840 -0.275567068 -0.1108249056\n",
       "[14,]  0.13047900  0.0765116282  0.066153645 -0.004827104 -0.0548912860\n",
       "[15,] -0.31407875 -0.1903257105  0.009130817 -0.079708156 -0.1885787404\n",
       "[16,]  0.11205902 -0.1629158309  0.018216312  0.002229603  0.0239739376"
      ]
     },
     "metadata": {},
     "output_type": "display_data"
    }
   ],
   "source": [
    "r$vectors"
   ]
  },
  {
   "cell_type": "code",
   "execution_count": 62,
   "metadata": {
    "collapsed": true
   },
   "outputs": [],
   "source": [
    "lettersPca <- mtx %*% r$vectors"
   ]
  },
  {
   "cell_type": "markdown",
   "metadata": {},
   "source": [
    "## \"New\" covariance matrix (now diagonal)"
   ]
  },
  {
   "cell_type": "code",
   "execution_count": 63,
   "metadata": {
    "collapsed": false
   },
   "outputs": [
    {
     "data": {
      "text/html": [
       "<table>\n",
       "<tbody>\n",
       "\t<tr><td>4.295 </td><td>0.0000</td><td>0.0000</td><td>0.000 </td><td>0.0000</td><td>0.00  </td><td>0.0000</td><td>0.0000</td><td>0.0000</td><td>0.0000</td><td>0.0000</td><td>0.0000</td><td>0.0000</td><td>0.0000</td><td>0.000 </td><td>0.0000</td></tr>\n",
       "\t<tr><td>0.000 </td><td>2.6252</td><td>0.0000</td><td>0.000 </td><td>0.0000</td><td>0.00  </td><td>0.0000</td><td>0.0000</td><td>0.0000</td><td>0.0000</td><td>0.0000</td><td>0.0000</td><td>0.0000</td><td>0.0000</td><td>0.000 </td><td>0.0000</td></tr>\n",
       "\t<tr><td>0.000 </td><td>0.0000</td><td>1.7209</td><td>0.000 </td><td>0.0000</td><td>0.00  </td><td>0.0000</td><td>0.0000</td><td>0.0000</td><td>0.0000</td><td>0.0000</td><td>0.0000</td><td>0.0000</td><td>0.0000</td><td>0.000 </td><td>0.0000</td></tr>\n",
       "\t<tr><td>0.000 </td><td>0.0000</td><td>0.0000</td><td>1.369 </td><td>0.0000</td><td>0.00  </td><td>0.0000</td><td>0.0000</td><td>0.0000</td><td>0.0000</td><td>0.0000</td><td>0.0000</td><td>0.0000</td><td>0.0000</td><td>0.000 </td><td>0.0000</td></tr>\n",
       "\t<tr><td>0.000 </td><td>0.0000</td><td>0.0000</td><td>0.000 </td><td>1.0513</td><td>0.00  </td><td>0.0000</td><td>0.0000</td><td>0.0000</td><td>0.0000</td><td>0.0000</td><td>0.0000</td><td>0.0000</td><td>0.0000</td><td>0.000 </td><td>0.0000</td></tr>\n",
       "\t<tr><td>0.000 </td><td>0.0000</td><td>0.0000</td><td>0.000 </td><td>0.0000</td><td>0.98  </td><td>0.0000</td><td>0.0000</td><td>0.0000</td><td>0.0000</td><td>0.0000</td><td>0.0000</td><td>0.0000</td><td>0.0000</td><td>0.000 </td><td>0.0000</td></tr>\n",
       "\t<tr><td>0.000 </td><td>0.0000</td><td>0.0000</td><td>0.000 </td><td>0.0000</td><td>0.00  </td><td>0.8892</td><td>0.0000</td><td>0.0000</td><td>0.0000</td><td>0.0000</td><td>0.0000</td><td>0.0000</td><td>0.0000</td><td>0.000 </td><td>0.0000</td></tr>\n",
       "\t<tr><td>0.000 </td><td>0.0000</td><td>0.0000</td><td>0.000 </td><td>0.0000</td><td>0.00  </td><td>0.0000</td><td>0.6258</td><td>0.0000</td><td>0.0000</td><td>0.0000</td><td>0.0000</td><td>0.0000</td><td>0.0000</td><td>0.000 </td><td>0.0000</td></tr>\n",
       "\t<tr><td>0.000 </td><td>0.0000</td><td>0.0000</td><td>0.000 </td><td>0.0000</td><td>0.00  </td><td>0.0000</td><td>0.0000</td><td>0.5954</td><td>0.0000</td><td>0.0000</td><td>0.0000</td><td>0.0000</td><td>0.0000</td><td>0.000 </td><td>0.0000</td></tr>\n",
       "\t<tr><td>0.000 </td><td>0.0000</td><td>0.0000</td><td>0.000 </td><td>0.0000</td><td>0.00  </td><td>0.0000</td><td>0.0000</td><td>0.0000</td><td>0.4918</td><td>0.0000</td><td>0.0000</td><td>0.0000</td><td>0.0000</td><td>0.000 </td><td>0.0000</td></tr>\n",
       "\t<tr><td>0.000 </td><td>0.0000</td><td>0.0000</td><td>0.000 </td><td>0.0000</td><td>0.00  </td><td>0.0000</td><td>0.0000</td><td>0.0000</td><td>0.0000</td><td>0.4264</td><td>0.0000</td><td>0.0000</td><td>0.0000</td><td>0.000 </td><td>0.0000</td></tr>\n",
       "\t<tr><td>0.000 </td><td>0.0000</td><td>0.0000</td><td>0.000 </td><td>0.0000</td><td>0.00  </td><td>0.0000</td><td>0.0000</td><td>0.0000</td><td>0.0000</td><td>0.0000</td><td>0.2662</td><td>0.0000</td><td>0.0000</td><td>0.000 </td><td>0.0000</td></tr>\n",
       "\t<tr><td>0.000 </td><td>0.0000</td><td>0.0000</td><td>0.000 </td><td>0.0000</td><td>0.00  </td><td>0.0000</td><td>0.0000</td><td>0.0000</td><td>0.0000</td><td>0.0000</td><td>0.0000</td><td>0.2539</td><td>0.0000</td><td>0.000 </td><td>0.0000</td></tr>\n",
       "\t<tr><td>0.000 </td><td>0.0000</td><td>0.0000</td><td>0.000 </td><td>0.0000</td><td>0.00  </td><td>0.0000</td><td>0.0000</td><td>0.0000</td><td>0.0000</td><td>0.0000</td><td>0.0000</td><td>0.0000</td><td>0.2145</td><td>0.000 </td><td>0.0000</td></tr>\n",
       "\t<tr><td>0.000 </td><td>0.0000</td><td>0.0000</td><td>0.000 </td><td>0.0000</td><td>0.00  </td><td>0.0000</td><td>0.0000</td><td>0.0000</td><td>0.0000</td><td>0.0000</td><td>0.0000</td><td>0.0000</td><td>0.0000</td><td>0.119 </td><td>0.0000</td></tr>\n",
       "\t<tr><td>0.000 </td><td>0.0000</td><td>0.0000</td><td>0.000 </td><td>0.0000</td><td>0.00  </td><td>0.0000</td><td>0.0000</td><td>0.0000</td><td>0.0000</td><td>0.0000</td><td>0.0000</td><td>0.0000</td><td>0.0000</td><td>0.000 </td><td>0.0749</td></tr>\n",
       "</tbody>\n",
       "</table>\n"
      ],
      "text/latex": [
       "\\begin{tabular}{llllllllllllllll}\n",
       "\t 4.295  & 0.0000 & 0.0000 & 0.000  & 0.0000 & 0.00   & 0.0000 & 0.0000 & 0.0000 & 0.0000 & 0.0000 & 0.0000 & 0.0000 & 0.0000 & 0.000  & 0.0000\\\\\n",
       "\t 0.000  & 2.6252 & 0.0000 & 0.000  & 0.0000 & 0.00   & 0.0000 & 0.0000 & 0.0000 & 0.0000 & 0.0000 & 0.0000 & 0.0000 & 0.0000 & 0.000  & 0.0000\\\\\n",
       "\t 0.000  & 0.0000 & 1.7209 & 0.000  & 0.0000 & 0.00   & 0.0000 & 0.0000 & 0.0000 & 0.0000 & 0.0000 & 0.0000 & 0.0000 & 0.0000 & 0.000  & 0.0000\\\\\n",
       "\t 0.000  & 0.0000 & 0.0000 & 1.369  & 0.0000 & 0.00   & 0.0000 & 0.0000 & 0.0000 & 0.0000 & 0.0000 & 0.0000 & 0.0000 & 0.0000 & 0.000  & 0.0000\\\\\n",
       "\t 0.000  & 0.0000 & 0.0000 & 0.000  & 1.0513 & 0.00   & 0.0000 & 0.0000 & 0.0000 & 0.0000 & 0.0000 & 0.0000 & 0.0000 & 0.0000 & 0.000  & 0.0000\\\\\n",
       "\t 0.000  & 0.0000 & 0.0000 & 0.000  & 0.0000 & 0.98   & 0.0000 & 0.0000 & 0.0000 & 0.0000 & 0.0000 & 0.0000 & 0.0000 & 0.0000 & 0.000  & 0.0000\\\\\n",
       "\t 0.000  & 0.0000 & 0.0000 & 0.000  & 0.0000 & 0.00   & 0.8892 & 0.0000 & 0.0000 & 0.0000 & 0.0000 & 0.0000 & 0.0000 & 0.0000 & 0.000  & 0.0000\\\\\n",
       "\t 0.000  & 0.0000 & 0.0000 & 0.000  & 0.0000 & 0.00   & 0.0000 & 0.6258 & 0.0000 & 0.0000 & 0.0000 & 0.0000 & 0.0000 & 0.0000 & 0.000  & 0.0000\\\\\n",
       "\t 0.000  & 0.0000 & 0.0000 & 0.000  & 0.0000 & 0.00   & 0.0000 & 0.0000 & 0.5954 & 0.0000 & 0.0000 & 0.0000 & 0.0000 & 0.0000 & 0.000  & 0.0000\\\\\n",
       "\t 0.000  & 0.0000 & 0.0000 & 0.000  & 0.0000 & 0.00   & 0.0000 & 0.0000 & 0.0000 & 0.4918 & 0.0000 & 0.0000 & 0.0000 & 0.0000 & 0.000  & 0.0000\\\\\n",
       "\t 0.000  & 0.0000 & 0.0000 & 0.000  & 0.0000 & 0.00   & 0.0000 & 0.0000 & 0.0000 & 0.0000 & 0.4264 & 0.0000 & 0.0000 & 0.0000 & 0.000  & 0.0000\\\\\n",
       "\t 0.000  & 0.0000 & 0.0000 & 0.000  & 0.0000 & 0.00   & 0.0000 & 0.0000 & 0.0000 & 0.0000 & 0.0000 & 0.2662 & 0.0000 & 0.0000 & 0.000  & 0.0000\\\\\n",
       "\t 0.000  & 0.0000 & 0.0000 & 0.000  & 0.0000 & 0.00   & 0.0000 & 0.0000 & 0.0000 & 0.0000 & 0.0000 & 0.0000 & 0.2539 & 0.0000 & 0.000  & 0.0000\\\\\n",
       "\t 0.000  & 0.0000 & 0.0000 & 0.000  & 0.0000 & 0.00   & 0.0000 & 0.0000 & 0.0000 & 0.0000 & 0.0000 & 0.0000 & 0.0000 & 0.2145 & 0.000  & 0.0000\\\\\n",
       "\t 0.000  & 0.0000 & 0.0000 & 0.000  & 0.0000 & 0.00   & 0.0000 & 0.0000 & 0.0000 & 0.0000 & 0.0000 & 0.0000 & 0.0000 & 0.0000 & 0.119  & 0.0000\\\\\n",
       "\t 0.000  & 0.0000 & 0.0000 & 0.000  & 0.0000 & 0.00   & 0.0000 & 0.0000 & 0.0000 & 0.0000 & 0.0000 & 0.0000 & 0.0000 & 0.0000 & 0.000  & 0.0749\\\\\n",
       "\\end{tabular}\n"
      ],
      "text/markdown": [
       "\n",
       "| 4.295  | 0.0000 | 0.0000 | 0.000  | 0.0000 | 0.00   | 0.0000 | 0.0000 | 0.0000 | 0.0000 | 0.0000 | 0.0000 | 0.0000 | 0.0000 | 0.000  | 0.0000 | \n",
       "| 0.000  | 2.6252 | 0.0000 | 0.000  | 0.0000 | 0.00   | 0.0000 | 0.0000 | 0.0000 | 0.0000 | 0.0000 | 0.0000 | 0.0000 | 0.0000 | 0.000  | 0.0000 | \n",
       "| 0.000  | 0.0000 | 1.7209 | 0.000  | 0.0000 | 0.00   | 0.0000 | 0.0000 | 0.0000 | 0.0000 | 0.0000 | 0.0000 | 0.0000 | 0.0000 | 0.000  | 0.0000 | \n",
       "| 0.000  | 0.0000 | 0.0000 | 1.369  | 0.0000 | 0.00   | 0.0000 | 0.0000 | 0.0000 | 0.0000 | 0.0000 | 0.0000 | 0.0000 | 0.0000 | 0.000  | 0.0000 | \n",
       "| 0.000  | 0.0000 | 0.0000 | 0.000  | 1.0513 | 0.00   | 0.0000 | 0.0000 | 0.0000 | 0.0000 | 0.0000 | 0.0000 | 0.0000 | 0.0000 | 0.000  | 0.0000 | \n",
       "| 0.000  | 0.0000 | 0.0000 | 0.000  | 0.0000 | 0.98   | 0.0000 | 0.0000 | 0.0000 | 0.0000 | 0.0000 | 0.0000 | 0.0000 | 0.0000 | 0.000  | 0.0000 | \n",
       "| 0.000  | 0.0000 | 0.0000 | 0.000  | 0.0000 | 0.00   | 0.8892 | 0.0000 | 0.0000 | 0.0000 | 0.0000 | 0.0000 | 0.0000 | 0.0000 | 0.000  | 0.0000 | \n",
       "| 0.000  | 0.0000 | 0.0000 | 0.000  | 0.0000 | 0.00   | 0.0000 | 0.6258 | 0.0000 | 0.0000 | 0.0000 | 0.0000 | 0.0000 | 0.0000 | 0.000  | 0.0000 | \n",
       "| 0.000  | 0.0000 | 0.0000 | 0.000  | 0.0000 | 0.00   | 0.0000 | 0.0000 | 0.5954 | 0.0000 | 0.0000 | 0.0000 | 0.0000 | 0.0000 | 0.000  | 0.0000 | \n",
       "| 0.000  | 0.0000 | 0.0000 | 0.000  | 0.0000 | 0.00   | 0.0000 | 0.0000 | 0.0000 | 0.4918 | 0.0000 | 0.0000 | 0.0000 | 0.0000 | 0.000  | 0.0000 | \n",
       "| 0.000  | 0.0000 | 0.0000 | 0.000  | 0.0000 | 0.00   | 0.0000 | 0.0000 | 0.0000 | 0.0000 | 0.4264 | 0.0000 | 0.0000 | 0.0000 | 0.000  | 0.0000 | \n",
       "| 0.000  | 0.0000 | 0.0000 | 0.000  | 0.0000 | 0.00   | 0.0000 | 0.0000 | 0.0000 | 0.0000 | 0.0000 | 0.2662 | 0.0000 | 0.0000 | 0.000  | 0.0000 | \n",
       "| 0.000  | 0.0000 | 0.0000 | 0.000  | 0.0000 | 0.00   | 0.0000 | 0.0000 | 0.0000 | 0.0000 | 0.0000 | 0.0000 | 0.2539 | 0.0000 | 0.000  | 0.0000 | \n",
       "| 0.000  | 0.0000 | 0.0000 | 0.000  | 0.0000 | 0.00   | 0.0000 | 0.0000 | 0.0000 | 0.0000 | 0.0000 | 0.0000 | 0.0000 | 0.2145 | 0.000  | 0.0000 | \n",
       "| 0.000  | 0.0000 | 0.0000 | 0.000  | 0.0000 | 0.00   | 0.0000 | 0.0000 | 0.0000 | 0.0000 | 0.0000 | 0.0000 | 0.0000 | 0.0000 | 0.119  | 0.0000 | \n",
       "| 0.000  | 0.0000 | 0.0000 | 0.000  | 0.0000 | 0.00   | 0.0000 | 0.0000 | 0.0000 | 0.0000 | 0.0000 | 0.0000 | 0.0000 | 0.0000 | 0.000  | 0.0749 | \n",
       "\n",
       "\n"
      ],
      "text/plain": [
       "      [,1]  [,2]   [,3]   [,4]  [,5]   [,6] [,7]   [,8]   [,9]   [,10]  [,11] \n",
       " [1,] 4.295 0.0000 0.0000 0.000 0.0000 0.00 0.0000 0.0000 0.0000 0.0000 0.0000\n",
       " [2,] 0.000 2.6252 0.0000 0.000 0.0000 0.00 0.0000 0.0000 0.0000 0.0000 0.0000\n",
       " [3,] 0.000 0.0000 1.7209 0.000 0.0000 0.00 0.0000 0.0000 0.0000 0.0000 0.0000\n",
       " [4,] 0.000 0.0000 0.0000 1.369 0.0000 0.00 0.0000 0.0000 0.0000 0.0000 0.0000\n",
       " [5,] 0.000 0.0000 0.0000 0.000 1.0513 0.00 0.0000 0.0000 0.0000 0.0000 0.0000\n",
       " [6,] 0.000 0.0000 0.0000 0.000 0.0000 0.98 0.0000 0.0000 0.0000 0.0000 0.0000\n",
       " [7,] 0.000 0.0000 0.0000 0.000 0.0000 0.00 0.8892 0.0000 0.0000 0.0000 0.0000\n",
       " [8,] 0.000 0.0000 0.0000 0.000 0.0000 0.00 0.0000 0.6258 0.0000 0.0000 0.0000\n",
       " [9,] 0.000 0.0000 0.0000 0.000 0.0000 0.00 0.0000 0.0000 0.5954 0.0000 0.0000\n",
       "[10,] 0.000 0.0000 0.0000 0.000 0.0000 0.00 0.0000 0.0000 0.0000 0.4918 0.0000\n",
       "[11,] 0.000 0.0000 0.0000 0.000 0.0000 0.00 0.0000 0.0000 0.0000 0.0000 0.4264\n",
       "[12,] 0.000 0.0000 0.0000 0.000 0.0000 0.00 0.0000 0.0000 0.0000 0.0000 0.0000\n",
       "[13,] 0.000 0.0000 0.0000 0.000 0.0000 0.00 0.0000 0.0000 0.0000 0.0000 0.0000\n",
       "[14,] 0.000 0.0000 0.0000 0.000 0.0000 0.00 0.0000 0.0000 0.0000 0.0000 0.0000\n",
       "[15,] 0.000 0.0000 0.0000 0.000 0.0000 0.00 0.0000 0.0000 0.0000 0.0000 0.0000\n",
       "[16,] 0.000 0.0000 0.0000 0.000 0.0000 0.00 0.0000 0.0000 0.0000 0.0000 0.0000\n",
       "      [,12]  [,13]  [,14]  [,15] [,16] \n",
       " [1,] 0.0000 0.0000 0.0000 0.000 0.0000\n",
       " [2,] 0.0000 0.0000 0.0000 0.000 0.0000\n",
       " [3,] 0.0000 0.0000 0.0000 0.000 0.0000\n",
       " [4,] 0.0000 0.0000 0.0000 0.000 0.0000\n",
       " [5,] 0.0000 0.0000 0.0000 0.000 0.0000\n",
       " [6,] 0.0000 0.0000 0.0000 0.000 0.0000\n",
       " [7,] 0.0000 0.0000 0.0000 0.000 0.0000\n",
       " [8,] 0.0000 0.0000 0.0000 0.000 0.0000\n",
       " [9,] 0.0000 0.0000 0.0000 0.000 0.0000\n",
       "[10,] 0.0000 0.0000 0.0000 0.000 0.0000\n",
       "[11,] 0.0000 0.0000 0.0000 0.000 0.0000\n",
       "[12,] 0.2662 0.0000 0.0000 0.000 0.0000\n",
       "[13,] 0.0000 0.2539 0.0000 0.000 0.0000\n",
       "[14,] 0.0000 0.0000 0.2145 0.000 0.0000\n",
       "[15,] 0.0000 0.0000 0.0000 0.119 0.0000\n",
       "[16,] 0.0000 0.0000 0.0000 0.000 0.0749"
      ]
     },
     "metadata": {},
     "output_type": "display_data"
    }
   ],
   "source": [
    "round(t(lettersPca) %*% lettersPca / (nrow(lettersPca) + 1), 4)"
   ]
  },
  {
   "cell_type": "markdown",
   "metadata": {},
   "source": [
    "## Amount of variance \"explained\" through first N dimensions"
   ]
  },
  {
   "cell_type": "code",
   "execution_count": 64,
   "metadata": {
    "collapsed": false
   },
   "outputs": [
    {
     "data": {
      "text/html": [
       "<ol class=list-inline>\n",
       "\t<li>0.26846156811336</li>\n",
       "\t<li>0.432551671937233</li>\n",
       "\t<li>0.540118955356903</li>\n",
       "\t<li>0.625687643333095</li>\n",
       "\t<li>0.691397891530744</li>\n",
       "\t<li>0.752651993225633</li>\n",
       "\t<li>0.808231509845825</li>\n",
       "\t<li>0.847348026300126</li>\n",
       "\t<li>0.88456466730537</li>\n",
       "\t<li>0.915307547256436</li>\n",
       "\t<li>0.941962649145001</li>\n",
       "\t<li>0.958600271339272</li>\n",
       "\t<li>0.974471603951254</li>\n",
       "\t<li>0.987880174378694</li>\n",
       "\t<li>0.995320154808426</li>\n",
       "\t<li>1</li>\n",
       "</ol>\n"
      ],
      "text/latex": [
       "\\begin{enumerate*}\n",
       "\\item 0.26846156811336\n",
       "\\item 0.432551671937233\n",
       "\\item 0.540118955356903\n",
       "\\item 0.625687643333095\n",
       "\\item 0.691397891530744\n",
       "\\item 0.752651993225633\n",
       "\\item 0.808231509845825\n",
       "\\item 0.847348026300126\n",
       "\\item 0.88456466730537\n",
       "\\item 0.915307547256436\n",
       "\\item 0.941962649145001\n",
       "\\item 0.958600271339272\n",
       "\\item 0.974471603951254\n",
       "\\item 0.987880174378694\n",
       "\\item 0.995320154808426\n",
       "\\item 1\n",
       "\\end{enumerate*}\n"
      ],
      "text/markdown": [
       "1. 0.26846156811336\n",
       "2. 0.432551671937233\n",
       "3. 0.540118955356903\n",
       "4. 0.625687643333095\n",
       "5. 0.691397891530744\n",
       "6. 0.752651993225633\n",
       "7. 0.808231509845825\n",
       "8. 0.847348026300126\n",
       "9. 0.88456466730537\n",
       "10. 0.915307547256436\n",
       "11. 0.941962649145001\n",
       "12. 0.958600271339272\n",
       "13. 0.974471603951254\n",
       "14. 0.987880174378694\n",
       "15. 0.995320154808426\n",
       "16. 1\n",
       "\n",
       "\n"
      ],
      "text/plain": [
       " [1] 0.2684616 0.4325517 0.5401190 0.6256876 0.6913979 0.7526520 0.8082315\n",
       " [8] 0.8473480 0.8845647 0.9153075 0.9419626 0.9586003 0.9744716 0.9878802\n",
       "[15] 0.9953202 1.0000000"
      ]
     },
     "metadata": {},
     "output_type": "display_data"
    }
   ],
   "source": [
    "cumsum(r$values) /  sum(r$values)"
   ]
  },
  {
   "cell_type": "code",
   "execution_count": 65,
   "metadata": {
    "collapsed": true
   },
   "outputs": [],
   "source": [
    "lettersDf <- data.frame(class = letters$Letter, pca = lettersPca)"
   ]
  },
  {
   "cell_type": "code",
   "execution_count": 66,
   "metadata": {
    "collapsed": false
   },
   "outputs": [
    {
     "data": {
      "text/html": [
       "<table>\n",
       "<thead><tr><th scope=col>class</th><th scope=col>pca.1</th><th scope=col>pca.2</th><th scope=col>pca.3</th><th scope=col>pca.4</th><th scope=col>pca.5</th><th scope=col>pca.6</th><th scope=col>pca.7</th><th scope=col>pca.8</th><th scope=col>pca.9</th><th scope=col>pca.10</th><th scope=col>pca.11</th><th scope=col>pca.12</th><th scope=col>pca.13</th><th scope=col>pca.14</th><th scope=col>pca.15</th><th scope=col>pca.16</th></tr></thead>\n",
       "<tbody>\n",
       "\t<tr><td>T           </td><td> 2.0802826  </td><td>-1.7214273  </td><td>-0.7101134  </td><td> 0.01488226 </td><td> 0.3879182  </td><td> 0.8110448  </td><td>-0.1051808  </td><td>-1.6358895  </td><td> 0.5568141  </td><td> 0.3497204  </td><td>-2.4972454  </td><td>-0.6447702  </td><td> 0.674839787</td><td> 0.3138484  </td><td> 0.36215736 </td><td> 0.1772178  </td></tr>\n",
       "\t<tr><td>I           </td><td>-0.3693641  </td><td> 2.0140751  </td><td>-1.1456671  </td><td> 0.75540463 </td><td> 1.5010561  </td><td> 1.5950273  </td><td> 1.4777231  </td><td>-0.0472795  </td><td> 0.2937318  </td><td> 0.6616662  </td><td> 1.0947401  </td><td>-0.4971983  </td><td>-0.012944916</td><td> 0.9430876  </td><td>-0.07775341 </td><td> 0.3900517  </td></tr>\n",
       "\t<tr><td>D           </td><td>-1.6543080  </td><td> 1.7549411  </td><td>-1.2970617  </td><td> 1.33254595 </td><td> 0.3035506  </td><td> 0.5337721  </td><td> 0.4464274  </td><td>-0.7852911  </td><td> 0.2501475  </td><td> 0.1187188  </td><td>-0.6188393  </td><td> 0.8433984  </td><td> 0.168779558</td><td> 0.3678095  </td><td> 0.19275677 </td><td> 0.1881952  </td></tr>\n",
       "\t<tr><td>N           </td><td>-1.4902434  </td><td>-0.5088705  </td><td> 0.8328723  </td><td>-1.11160001 </td><td> 0.3503288  </td><td>-0.5932453  </td><td>-0.4235371  </td><td>-1.6469317  </td><td>-0.5368484  </td><td>-1.1233987  </td><td> 0.5598075  </td><td>-1.0044602  </td><td> 1.452820112</td><td> 0.9258707  </td><td>-0.01811037 </td><td> 0.2412374  </td></tr>\n",
       "\t<tr><td>G           </td><td> 3.0809040  </td><td> 2.0697897  </td><td> 0.2900172  </td><td>-0.67184999 </td><td>-0.8423558  </td><td> 0.5619149  </td><td>-0.2954488  </td><td> 0.4259705  </td><td>-0.3061814  </td><td>-0.6522141  </td><td>-0.1353708  </td><td>-0.4842026  </td><td>-0.008748236</td><td>-0.5762434  </td><td> 0.16739361 </td><td> 0.0253058  </td></tr>\n",
       "\t<tr><td>S           </td><td>-0.9047219  </td><td> 0.5109631  </td><td>-1.3424739  </td><td>-1.44516116 </td><td>-1.9654616  </td><td>-0.5804360  </td><td> 1.4327417  </td><td>-0.2092341  </td><td> 1.3448264  </td><td> 0.4512934  </td><td>-0.8537541  </td><td>-0.8469901  </td><td>-0.066747310</td><td> 0.1238721  </td><td> 0.05138294 </td><td>-0.4226609  </td></tr>\n",
       "</tbody>\n",
       "</table>\n"
      ],
      "text/latex": [
       "\\begin{tabular}{r|lllllllllllllllll}\n",
       " class & pca.1 & pca.2 & pca.3 & pca.4 & pca.5 & pca.6 & pca.7 & pca.8 & pca.9 & pca.10 & pca.11 & pca.12 & pca.13 & pca.14 & pca.15 & pca.16\\\\\n",
       "\\hline\n",
       "\t T            &  2.0802826   & -1.7214273   & -0.7101134   &  0.01488226  &  0.3879182   &  0.8110448   & -0.1051808   & -1.6358895   &  0.5568141   &  0.3497204   & -2.4972454   & -0.6447702   &  0.674839787 &  0.3138484   &  0.36215736  &  0.1772178  \\\\\n",
       "\t I            & -0.3693641   &  2.0140751   & -1.1456671   &  0.75540463  &  1.5010561   &  1.5950273   &  1.4777231   & -0.0472795   &  0.2937318   &  0.6616662   &  1.0947401   & -0.4971983   & -0.012944916 &  0.9430876   & -0.07775341  &  0.3900517  \\\\\n",
       "\t D            & -1.6543080   &  1.7549411   & -1.2970617   &  1.33254595  &  0.3035506   &  0.5337721   &  0.4464274   & -0.7852911   &  0.2501475   &  0.1187188   & -0.6188393   &  0.8433984   &  0.168779558 &  0.3678095   &  0.19275677  &  0.1881952  \\\\\n",
       "\t N            & -1.4902434   & -0.5088705   &  0.8328723   & -1.11160001  &  0.3503288   & -0.5932453   & -0.4235371   & -1.6469317   & -0.5368484   & -1.1233987   &  0.5598075   & -1.0044602   &  1.452820112 &  0.9258707   & -0.01811037  &  0.2412374  \\\\\n",
       "\t G            &  3.0809040   &  2.0697897   &  0.2900172   & -0.67184999  & -0.8423558   &  0.5619149   & -0.2954488   &  0.4259705   & -0.3061814   & -0.6522141   & -0.1353708   & -0.4842026   & -0.008748236 & -0.5762434   &  0.16739361  &  0.0253058  \\\\\n",
       "\t S            & -0.9047219   &  0.5109631   & -1.3424739   & -1.44516116  & -1.9654616   & -0.5804360   &  1.4327417   & -0.2092341   &  1.3448264   &  0.4512934   & -0.8537541   & -0.8469901   & -0.066747310 &  0.1238721   &  0.05138294  & -0.4226609  \\\\\n",
       "\\end{tabular}\n"
      ],
      "text/markdown": [
       "\n",
       "class | pca.1 | pca.2 | pca.3 | pca.4 | pca.5 | pca.6 | pca.7 | pca.8 | pca.9 | pca.10 | pca.11 | pca.12 | pca.13 | pca.14 | pca.15 | pca.16 | \n",
       "|---|---|---|---|---|---|\n",
       "| T            |  2.0802826   | -1.7214273   | -0.7101134   |  0.01488226  |  0.3879182   |  0.8110448   | -0.1051808   | -1.6358895   |  0.5568141   |  0.3497204   | -2.4972454   | -0.6447702   |  0.674839787 |  0.3138484   |  0.36215736  |  0.1772178   | \n",
       "| I            | -0.3693641   |  2.0140751   | -1.1456671   |  0.75540463  |  1.5010561   |  1.5950273   |  1.4777231   | -0.0472795   |  0.2937318   |  0.6616662   |  1.0947401   | -0.4971983   | -0.012944916 |  0.9430876   | -0.07775341  |  0.3900517   | \n",
       "| D            | -1.6543080   |  1.7549411   | -1.2970617   |  1.33254595  |  0.3035506   |  0.5337721   |  0.4464274   | -0.7852911   |  0.2501475   |  0.1187188   | -0.6188393   |  0.8433984   |  0.168779558 |  0.3678095   |  0.19275677  |  0.1881952   | \n",
       "| N            | -1.4902434   | -0.5088705   |  0.8328723   | -1.11160001  |  0.3503288   | -0.5932453   | -0.4235371   | -1.6469317   | -0.5368484   | -1.1233987   |  0.5598075   | -1.0044602   |  1.452820112 |  0.9258707   | -0.01811037  |  0.2412374   | \n",
       "| G            |  3.0809040   |  2.0697897   |  0.2900172   | -0.67184999  | -0.8423558   |  0.5619149   | -0.2954488   |  0.4259705   | -0.3061814   | -0.6522141   | -0.1353708   | -0.4842026   | -0.008748236 | -0.5762434   |  0.16739361  |  0.0253058   | \n",
       "| S            | -0.9047219   |  0.5109631   | -1.3424739   | -1.44516116  | -1.9654616   | -0.5804360   |  1.4327417   | -0.2092341   |  1.3448264   |  0.4512934   | -0.8537541   | -0.8469901   | -0.066747310 |  0.1238721   |  0.05138294  | -0.4226609   | \n",
       "\n",
       "\n"
      ],
      "text/plain": [
       "  class pca.1      pca.2      pca.3      pca.4       pca.5      pca.6     \n",
       "1 T      2.0802826 -1.7214273 -0.7101134  0.01488226  0.3879182  0.8110448\n",
       "2 I     -0.3693641  2.0140751 -1.1456671  0.75540463  1.5010561  1.5950273\n",
       "3 D     -1.6543080  1.7549411 -1.2970617  1.33254595  0.3035506  0.5337721\n",
       "4 N     -1.4902434 -0.5088705  0.8328723 -1.11160001  0.3503288 -0.5932453\n",
       "5 G      3.0809040  2.0697897  0.2900172 -0.67184999 -0.8423558  0.5619149\n",
       "6 S     -0.9047219  0.5109631 -1.3424739 -1.44516116 -1.9654616 -0.5804360\n",
       "  pca.7      pca.8      pca.9      pca.10     pca.11     pca.12    \n",
       "1 -0.1051808 -1.6358895  0.5568141  0.3497204 -2.4972454 -0.6447702\n",
       "2  1.4777231 -0.0472795  0.2937318  0.6616662  1.0947401 -0.4971983\n",
       "3  0.4464274 -0.7852911  0.2501475  0.1187188 -0.6188393  0.8433984\n",
       "4 -0.4235371 -1.6469317 -0.5368484 -1.1233987  0.5598075 -1.0044602\n",
       "5 -0.2954488  0.4259705 -0.3061814 -0.6522141 -0.1353708 -0.4842026\n",
       "6  1.4327417 -0.2092341  1.3448264  0.4512934 -0.8537541 -0.8469901\n",
       "  pca.13       pca.14     pca.15      pca.16    \n",
       "1  0.674839787  0.3138484  0.36215736  0.1772178\n",
       "2 -0.012944916  0.9430876 -0.07775341  0.3900517\n",
       "3  0.168779558  0.3678095  0.19275677  0.1881952\n",
       "4  1.452820112  0.9258707 -0.01811037  0.2412374\n",
       "5 -0.008748236 -0.5762434  0.16739361  0.0253058\n",
       "6 -0.066747310  0.1238721  0.05138294 -0.4226609"
      ]
     },
     "metadata": {},
     "output_type": "display_data"
    }
   ],
   "source": [
    "head(lettersDf)"
   ]
  },
  {
   "cell_type": "code",
   "execution_count": 67,
   "metadata": {
    "collapsed": true
   },
   "outputs": [],
   "source": [
    "decim <- sample_frac(lettersDf, 0.025)"
   ]
  },
  {
   "cell_type": "markdown",
   "metadata": {},
   "source": [
    "## First two principal axes, showing some order"
   ]
  },
  {
   "cell_type": "code",
   "execution_count": 68,
   "metadata": {
    "collapsed": false
   },
   "outputs": [
    {
     "data": {},
     "metadata": {},
     "output_type": "display_data"
    },
    {
     "data": {
      "image/png": "[encoded data removed]",
      "text/plain": [
       "plot without title"
      ]
     },
     "metadata": {},
     "output_type": "display_data"
    }
   ],
   "source": [
    "library(ggplot2)\n",
    "ggplot(decim, aes(label = class, pca.1, pca.2, colour = class)) + geom_text()"
   ]
  }
 ],
 "metadata": {
  "kernelspec": {
   "display_name": "R",
   "language": "R",
   "name": "ir"
  },
  "language_info": {
   "codemirror_mode": "r",
   "file_extension": ".r",
   "mimetype": "text/x-r-source",
   "name": "R",
   "pygments_lexer": "r",
   "version": "3.3.2"
  }
 },
 "nbformat": 4,
 "nbformat_minor": 1
}
