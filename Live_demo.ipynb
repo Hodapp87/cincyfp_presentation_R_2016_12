{
 "cells": [
  {
   "cell_type": "code",
   "execution_count": 1,
   "metadata": {
    "collapsed": false
   },
   "outputs": [
    {
     "data": {
      "text/html": [
       "5"
      ],
      "text/latex": [
       "5"
      ],
      "text/markdown": [
       "5"
      ],
      "text/plain": [
       "[1] 5"
      ]
     },
     "metadata": {},
     "output_type": "display_data"
    }
   ],
   "source": [
    "5"
   ]
  },
  {
   "cell_type": "code",
   "execution_count": 2,
   "metadata": {
    "collapsed": false
   },
   "outputs": [
    {
     "data": {
      "text/html": [
       "10"
      ],
      "text/latex": [
       "10"
      ],
      "text/markdown": [
       "10"
      ],
      "text/plain": [
       "[1] 10"
      ]
     },
     "metadata": {},
     "output_type": "display_data"
    }
   ],
   "source": [
    "5+5"
   ]
  },
  {
   "cell_type": "code",
   "execution_count": 3,
   "metadata": {
    "collapsed": false
   },
   "outputs": [
    {
     "data": {
      "text/html": [
       "9"
      ],
      "text/latex": [
       "9"
      ],
      "text/markdown": [
       "9"
      ],
      "text/plain": [
       "[1] 9"
      ]
     },
     "metadata": {},
     "output_type": "display_data"
    }
   ],
   "source": [
    "4+5"
   ]
  },
  {
   "cell_type": "code",
   "execution_count": 4,
   "metadata": {
    "collapsed": true
   },
   "outputs": [],
   "source": [
    "a <- 5"
   ]
  },
  {
   "cell_type": "code",
   "execution_count": 5,
   "metadata": {
    "collapsed": true
   },
   "outputs": [],
   "source": [
    "5 -> a"
   ]
  },
  {
   "cell_type": "code",
   "execution_count": 6,
   "metadata": {
    "collapsed": true
   },
   "outputs": [],
   "source": [
    "a = 5"
   ]
  },
  {
   "cell_type": "code",
   "execution_count": 7,
   "metadata": {
    "collapsed": true
   },
   "outputs": [],
   "source": [
    "fn <- function(x, y = 2) {\n",
    "    x^y\n",
    "}"
   ]
  },
  {
   "cell_type": "code",
   "execution_count": 8,
   "metadata": {
    "collapsed": false
   },
   "outputs": [
    {
     "data": {
      "text/html": [
       "9"
      ],
      "text/latex": [
       "9"
      ],
      "text/markdown": [
       "9"
      ],
      "text/plain": [
       "[1] 9"
      ]
     },
     "metadata": {},
     "output_type": "display_data"
    }
   ],
   "source": [
    "fn(3)"
   ]
  },
  {
   "cell_type": "code",
   "execution_count": 9,
   "metadata": {
    "collapsed": false
   },
   "outputs": [
    {
     "data": {
      "text/html": [
       "27"
      ],
      "text/latex": [
       "27"
      ],
      "text/markdown": [
       "27"
      ],
      "text/plain": [
       "[1] 27"
      ]
     },
     "metadata": {},
     "output_type": "display_data"
    }
   ],
   "source": [
    "fn(3, 3)"
   ]
  },
  {
   "cell_type": "code",
   "execution_count": 10,
   "metadata": {
    "collapsed": false
   },
   "outputs": [
    {
     "data": {
      "text/html": [
       "<ol class=list-inline>\n",
       "\t<li>0</li>\n",
       "\t<li>1</li>\n",
       "\t<li>2</li>\n",
       "\t<li>3</li>\n",
       "\t<li>4</li>\n",
       "</ol>\n"
      ],
      "text/latex": [
       "\\begin{enumerate*}\n",
       "\\item 0\n",
       "\\item 1\n",
       "\\item 2\n",
       "\\item 3\n",
       "\\item 4\n",
       "\\end{enumerate*}\n"
      ],
      "text/markdown": [
       "1. 0\n",
       "2. 1\n",
       "3. 2\n",
       "4. 3\n",
       "5. 4\n",
       "\n",
       "\n"
      ],
      "text/plain": [
       "[1] 0 1 2 3 4"
      ]
     },
     "metadata": {},
     "output_type": "display_data"
    }
   ],
   "source": [
    "c(0,1,2,3,4)"
   ]
  },
  {
   "cell_type": "code",
   "execution_count": 11,
   "metadata": {
    "collapsed": false
   },
   "outputs": [
    {
     "data": {
      "text/html": [
       "<ol class=list-inline>\n",
       "\t<li>0</li>\n",
       "\t<li>1</li>\n",
       "\t<li>2</li>\n",
       "\t<li>3</li>\n",
       "\t<li>4</li>\n",
       "</ol>\n"
      ],
      "text/latex": [
       "\\begin{enumerate*}\n",
       "\\item 0\n",
       "\\item 1\n",
       "\\item 2\n",
       "\\item 3\n",
       "\\item 4\n",
       "\\end{enumerate*}\n"
      ],
      "text/markdown": [
       "1. 0\n",
       "2. 1\n",
       "3. 2\n",
       "4. 3\n",
       "5. 4\n",
       "\n",
       "\n"
      ],
      "text/plain": [
       "[1] 0 1 2 3 4"
      ]
     },
     "metadata": {},
     "output_type": "display_data"
    }
   ],
   "source": [
    "0:4"
   ]
  },
  {
   "cell_type": "code",
   "execution_count": 12,
   "metadata": {
    "collapsed": true
   },
   "outputs": [],
   "source": [
    "v <- 10:20"
   ]
  },
  {
   "cell_type": "code",
   "execution_count": 13,
   "metadata": {
    "collapsed": false
   },
   "outputs": [
    {
     "data": {
      "text/html": [
       "10"
      ],
      "text/latex": [
       "10"
      ],
      "text/markdown": [
       "10"
      ],
      "text/plain": [
       "[1] 10"
      ]
     },
     "metadata": {},
     "output_type": "display_data"
    }
   ],
   "source": [
    "v[1]"
   ]
  },
  {
   "cell_type": "code",
   "execution_count": 14,
   "metadata": {
    "collapsed": false
   },
   "outputs": [
    {
     "data": {
      "text/html": [
       "<ol class=list-inline>\n",
       "</ol>\n"
      ],
      "text/latex": [
       "\\begin{enumerate*}\n",
       "\\end{enumerate*}\n"
      ],
      "text/markdown": [
       "\n",
       "\n"
      ],
      "text/plain": [
       "integer(0)"
      ]
     },
     "metadata": {},
     "output_type": "display_data"
    }
   ],
   "source": [
    "v[0]"
   ]
  },
  {
   "cell_type": "code",
   "execution_count": 15,
   "metadata": {
    "collapsed": false
   },
   "outputs": [
    {
     "data": {
      "text/html": [
       "<ol class=list-inline>\n",
       "\t<li>11</li>\n",
       "\t<li>12</li>\n",
       "</ol>\n"
      ],
      "text/latex": [
       "\\begin{enumerate*}\n",
       "\\item 11\n",
       "\\item 12\n",
       "\\end{enumerate*}\n"
      ],
      "text/markdown": [
       "1. 11\n",
       "2. 12\n",
       "\n",
       "\n"
      ],
      "text/plain": [
       "[1] 11 12"
      ]
     },
     "metadata": {},
     "output_type": "display_data"
    }
   ],
   "source": [
    "v[2:3]"
   ]
  },
  {
   "cell_type": "code",
   "execution_count": 16,
   "metadata": {
    "collapsed": false
   },
   "outputs": [
    {
     "data": {
      "text/html": [
       "<ol class=list-inline>\n",
       "\t<li>FALSE</li>\n",
       "\t<li>FALSE</li>\n",
       "\t<li>FALSE</li>\n",
       "\t<li>FALSE</li>\n",
       "\t<li>FALSE</li>\n",
       "\t<li>FALSE</li>\n",
       "\t<li>TRUE</li>\n",
       "\t<li>TRUE</li>\n",
       "\t<li>TRUE</li>\n",
       "\t<li>TRUE</li>\n",
       "\t<li>TRUE</li>\n",
       "</ol>\n"
      ],
      "text/latex": [
       "\\begin{enumerate*}\n",
       "\\item FALSE\n",
       "\\item FALSE\n",
       "\\item FALSE\n",
       "\\item FALSE\n",
       "\\item FALSE\n",
       "\\item FALSE\n",
       "\\item TRUE\n",
       "\\item TRUE\n",
       "\\item TRUE\n",
       "\\item TRUE\n",
       "\\item TRUE\n",
       "\\end{enumerate*}\n"
      ],
      "text/markdown": [
       "1. FALSE\n",
       "2. FALSE\n",
       "3. FALSE\n",
       "4. FALSE\n",
       "5. FALSE\n",
       "6. FALSE\n",
       "7. TRUE\n",
       "8. TRUE\n",
       "9. TRUE\n",
       "10. TRUE\n",
       "11. TRUE\n",
       "\n",
       "\n"
      ],
      "text/plain": [
       " [1] FALSE FALSE FALSE FALSE FALSE FALSE  TRUE  TRUE  TRUE  TRUE  TRUE"
      ]
     },
     "metadata": {},
     "output_type": "display_data"
    }
   ],
   "source": [
    "v > 15"
   ]
  },
  {
   "cell_type": "code",
   "execution_count": 17,
   "metadata": {
    "collapsed": false
   },
   "outputs": [
    {
     "data": {
      "text/html": [
       "<ol class=list-inline>\n",
       "\t<li>16</li>\n",
       "\t<li>17</li>\n",
       "\t<li>18</li>\n",
       "\t<li>19</li>\n",
       "\t<li>20</li>\n",
       "</ol>\n"
      ],
      "text/latex": [
       "\\begin{enumerate*}\n",
       "\\item 16\n",
       "\\item 17\n",
       "\\item 18\n",
       "\\item 19\n",
       "\\item 20\n",
       "\\end{enumerate*}\n"
      ],
      "text/markdown": [
       "1. 16\n",
       "2. 17\n",
       "3. 18\n",
       "4. 19\n",
       "5. 20\n",
       "\n",
       "\n"
      ],
      "text/plain": [
       "[1] 16 17 18 19 20"
      ]
     },
     "metadata": {},
     "output_type": "display_data"
    }
   ],
   "source": [
    "v[v > 15]"
   ]
  },
  {
   "cell_type": "code",
   "execution_count": 18,
   "metadata": {
    "collapsed": false
   },
   "outputs": [
    {
     "data": {
      "text/plain": [
       "[1] NA"
      ]
     },
     "metadata": {},
     "output_type": "display_data"
    }
   ],
   "source": [
    "NA"
   ]
  },
  {
   "cell_type": "code",
   "execution_count": 19,
   "metadata": {
    "collapsed": false
   },
   "outputs": [
    {
     "data": {
      "text/html": [
       "<ol class=list-inline>\n",
       "\t<li>0</li>\n",
       "\t<li>1</li>\n",
       "\t<li>2</li>\n",
       "\t<li>NA</li>\n",
       "</ol>\n"
      ],
      "text/latex": [
       "\\begin{enumerate*}\n",
       "\\item 0\n",
       "\\item 1\n",
       "\\item 2\n",
       "\\item NA\n",
       "\\end{enumerate*}\n"
      ],
      "text/markdown": [
       "1. 0\n",
       "2. 1\n",
       "3. 2\n",
       "4. NA\n",
       "\n",
       "\n"
      ],
      "text/plain": [
       "[1]  0  1  2 NA"
      ]
     },
     "metadata": {},
     "output_type": "display_data"
    }
   ],
   "source": [
    "c(0, 1, 2, NA)"
   ]
  },
  {
   "cell_type": "code",
   "execution_count": 20,
   "metadata": {
    "collapsed": false
   },
   "outputs": [
    {
     "name": "stderr",
     "output_type": "stream",
     "text": [
      "Warning message in sqrt(-1):\n",
      "“NaNs produced”"
     ]
    },
    {
     "data": {
      "text/html": [
       "NaN"
      ],
      "text/latex": [
       "NaN"
      ],
      "text/markdown": [
       "NaN"
      ],
      "text/plain": [
       "[1] NaN"
      ]
     },
     "metadata": {},
     "output_type": "display_data"
    }
   ],
   "source": [
    "sqrt(-1)"
   ]
  },
  {
   "cell_type": "code",
   "execution_count": 21,
   "metadata": {
    "collapsed": false
   },
   "outputs": [
    {
     "data": {
      "text/html": [
       "Inf"
      ],
      "text/latex": [
       "Inf"
      ],
      "text/markdown": [
       "Inf"
      ],
      "text/plain": [
       "[1] Inf"
      ]
     },
     "metadata": {},
     "output_type": "display_data"
    }
   ],
   "source": [
    "1/0"
   ]
  },
  {
   "cell_type": "code",
   "execution_count": 22,
   "metadata": {
    "collapsed": true
   },
   "outputs": [],
   "source": [
    "pt <- c(10,20,30)"
   ]
  },
  {
   "cell_type": "code",
   "execution_count": 23,
   "metadata": {
    "collapsed": true
   },
   "outputs": [],
   "source": [
    "names(pt) <- c(\"x\", \"y\", \"z\")"
   ]
  },
  {
   "cell_type": "code",
   "execution_count": 24,
   "metadata": {
    "collapsed": false
   },
   "outputs": [
    {
     "data": {
      "text/html": [
       "<dl class=dl-horizontal>\n",
       "\t<dt>x</dt>\n",
       "\t\t<dd>10</dd>\n",
       "\t<dt>y</dt>\n",
       "\t\t<dd>20</dd>\n",
       "\t<dt>z</dt>\n",
       "\t\t<dd>30</dd>\n",
       "</dl>\n"
      ],
      "text/latex": [
       "\\begin{description*}\n",
       "\\item[x] 10\n",
       "\\item[y] 20\n",
       "\\item[z] 30\n",
       "\\end{description*}\n"
      ],
      "text/markdown": [
       "x\n",
       ":   10y\n",
       ":   20z\n",
       ":   30\n",
       "\n"
      ],
      "text/plain": [
       " x  y  z \n",
       "10 20 30 "
      ]
     },
     "metadata": {},
     "output_type": "display_data"
    }
   ],
   "source": [
    "pt"
   ]
  },
  {
   "cell_type": "code",
   "execution_count": 25,
   "metadata": {
    "collapsed": false
   },
   "outputs": [
    {
     "data": {
      "text/html": [
       "<strong>x:</strong> 10"
      ],
      "text/latex": [
       "\\textbf{x:} 10"
      ],
      "text/markdown": [
       "**x:** 10"
      ],
      "text/plain": [
       " x \n",
       "10 "
      ]
     },
     "metadata": {},
     "output_type": "display_data"
    }
   ],
   "source": [
    "pt[\"x\"]"
   ]
  },
  {
   "cell_type": "code",
   "execution_count": 27,
   "metadata": {
    "collapsed": false
   },
   "outputs": [],
   "source": [
    "l <- list(a = 5, n = 5, x = 8)"
   ]
  },
  {
   "cell_type": "code",
   "execution_count": 28,
   "metadata": {
    "collapsed": false
   },
   "outputs": [
    {
     "data": {
      "text/html": [
       "5"
      ],
      "text/latex": [
       "5"
      ],
      "text/markdown": [
       "5"
      ],
      "text/plain": [
       "[1] 5"
      ]
     },
     "metadata": {},
     "output_type": "display_data"
    }
   ],
   "source": [
    "l$a"
   ]
  },
  {
   "cell_type": "code",
   "execution_count": 29,
   "metadata": {
    "collapsed": false
   },
   "outputs": [
    {
     "data": {
      "text/html": [
       "5"
      ],
      "text/latex": [
       "5"
      ],
      "text/markdown": [
       "5"
      ],
      "text/plain": [
       "[1] 5"
      ]
     },
     "metadata": {},
     "output_type": "display_data"
    }
   ],
   "source": [
    "l$n"
   ]
  },
  {
   "cell_type": "code",
   "execution_count": 30,
   "metadata": {
    "collapsed": true
   },
   "outputs": [],
   "source": [
    "df <- data.frame(a = 1:10, b = 0, c = 0)"
   ]
  },
  {
   "cell_type": "code",
   "execution_count": 31,
   "metadata": {
    "collapsed": false
   },
   "outputs": [
    {
     "data": {
      "text/html": [
       "<table>\n",
       "<thead><tr><th></th><th scope=col>a</th><th scope=col>b</th><th scope=col>c</th></tr></thead>\n",
       "<tbody>\n",
       "\t<tr><th scope=row>1</th><td>1</td><td>0</td><td>0</td></tr>\n",
       "\t<tr><th scope=row>2</th><td>2</td><td>0</td><td>0</td></tr>\n",
       "\t<tr><th scope=row>3</th><td>3</td><td>0</td><td>0</td></tr>\n",
       "\t<tr><th scope=row>4</th><td>4</td><td>0</td><td>0</td></tr>\n",
       "\t<tr><th scope=row>5</th><td>5</td><td>0</td><td>0</td></tr>\n",
       "\t<tr><th scope=row>6</th><td>6</td><td>0</td><td>0</td></tr>\n",
       "\t<tr><th scope=row>7</th><td>7</td><td>0</td><td>0</td></tr>\n",
       "\t<tr><th scope=row>8</th><td>8</td><td>0</td><td>0</td></tr>\n",
       "\t<tr><th scope=row>9</th><td>9</td><td>0</td><td>0</td></tr>\n",
       "\t<tr><th scope=row>10</th><td>10</td><td> 0</td><td> 0</td></tr>\n",
       "</tbody>\n",
       "</table>\n"
      ],
      "text/latex": [
       "\\begin{tabular}{r|lll}\n",
       "  & a & b & c\\\\\n",
       "\\hline\n",
       "\t1 & 1 & 0 & 0\\\\\n",
       "\t2 & 2 & 0 & 0\\\\\n",
       "\t3 & 3 & 0 & 0\\\\\n",
       "\t4 & 4 & 0 & 0\\\\\n",
       "\t5 & 5 & 0 & 0\\\\\n",
       "\t6 & 6 & 0 & 0\\\\\n",
       "\t7 & 7 & 0 & 0\\\\\n",
       "\t8 & 8 & 0 & 0\\\\\n",
       "\t9 & 9 & 0 & 0\\\\\n",
       "\t10 & 10 &  0 &  0\\\\\n",
       "\\end{tabular}\n"
      ],
      "text/plain": [
       "    a b c\n",
       "1   1 0 0\n",
       "2   2 0 0\n",
       "3   3 0 0\n",
       "4   4 0 0\n",
       "5   5 0 0\n",
       "6   6 0 0\n",
       "7   7 0 0\n",
       "8   8 0 0\n",
       "9   9 0 0\n",
       "10 10 0 0"
      ]
     },
     "metadata": {},
     "output_type": "display_data"
    }
   ],
   "source": [
    "df"
   ]
  },
  {
   "cell_type": "code",
   "execution_count": 32,
   "metadata": {
    "collapsed": false
   },
   "outputs": [
    {
     "data": {
      "text/html": [
       "<ol class=list-inline>\n",
       "\t<li>1</li>\n",
       "\t<li>2</li>\n",
       "\t<li>3</li>\n",
       "\t<li>4</li>\n",
       "\t<li>5</li>\n",
       "\t<li>6</li>\n",
       "\t<li>7</li>\n",
       "\t<li>8</li>\n",
       "\t<li>9</li>\n",
       "\t<li>10</li>\n",
       "</ol>\n"
      ],
      "text/latex": [
       "\\begin{enumerate*}\n",
       "\\item 1\n",
       "\\item 2\n",
       "\\item 3\n",
       "\\item 4\n",
       "\\item 5\n",
       "\\item 6\n",
       "\\item 7\n",
       "\\item 8\n",
       "\\item 9\n",
       "\\item 10\n",
       "\\end{enumerate*}\n"
      ],
      "text/markdown": [
       "1. 1\n",
       "2. 2\n",
       "3. 3\n",
       "4. 4\n",
       "5. 5\n",
       "6. 6\n",
       "7. 7\n",
       "8. 8\n",
       "9. 9\n",
       "10. 10\n",
       "\n",
       "\n"
      ],
      "text/plain": [
       " [1]  1  2  3  4  5  6  7  8  9 10"
      ]
     },
     "metadata": {},
     "output_type": "display_data"
    }
   ],
   "source": [
    "df$a"
   ]
  },
  {
   "cell_type": "code",
   "execution_count": 33,
   "metadata": {
    "collapsed": true
   },
   "outputs": [],
   "source": [
    "df$d <- 6"
   ]
  },
  {
   "cell_type": "code",
   "execution_count": 34,
   "metadata": {
    "collapsed": false
   },
   "outputs": [
    {
     "data": {
      "text/html": [
       "<table>\n",
       "<thead><tr><th></th><th scope=col>a</th><th scope=col>b</th><th scope=col>c</th><th scope=col>d</th></tr></thead>\n",
       "<tbody>\n",
       "\t<tr><th scope=row>1</th><td>1</td><td>0</td><td>0</td><td>6</td></tr>\n",
       "\t<tr><th scope=row>2</th><td>2</td><td>0</td><td>0</td><td>6</td></tr>\n",
       "\t<tr><th scope=row>3</th><td>3</td><td>0</td><td>0</td><td>6</td></tr>\n",
       "\t<tr><th scope=row>4</th><td>4</td><td>0</td><td>0</td><td>6</td></tr>\n",
       "\t<tr><th scope=row>5</th><td>5</td><td>0</td><td>0</td><td>6</td></tr>\n",
       "\t<tr><th scope=row>6</th><td>6</td><td>0</td><td>0</td><td>6</td></tr>\n",
       "\t<tr><th scope=row>7</th><td>7</td><td>0</td><td>0</td><td>6</td></tr>\n",
       "\t<tr><th scope=row>8</th><td>8</td><td>0</td><td>0</td><td>6</td></tr>\n",
       "\t<tr><th scope=row>9</th><td>9</td><td>0</td><td>0</td><td>6</td></tr>\n",
       "\t<tr><th scope=row>10</th><td>10</td><td> 0</td><td> 0</td><td> 6</td></tr>\n",
       "</tbody>\n",
       "</table>\n"
      ],
      "text/latex": [
       "\\begin{tabular}{r|llll}\n",
       "  & a & b & c & d\\\\\n",
       "\\hline\n",
       "\t1 & 1 & 0 & 0 & 6\\\\\n",
       "\t2 & 2 & 0 & 0 & 6\\\\\n",
       "\t3 & 3 & 0 & 0 & 6\\\\\n",
       "\t4 & 4 & 0 & 0 & 6\\\\\n",
       "\t5 & 5 & 0 & 0 & 6\\\\\n",
       "\t6 & 6 & 0 & 0 & 6\\\\\n",
       "\t7 & 7 & 0 & 0 & 6\\\\\n",
       "\t8 & 8 & 0 & 0 & 6\\\\\n",
       "\t9 & 9 & 0 & 0 & 6\\\\\n",
       "\t10 & 10 &  0 &  0 &  6\\\\\n",
       "\\end{tabular}\n"
      ],
      "text/plain": [
       "    a b c d\n",
       "1   1 0 0 6\n",
       "2   2 0 0 6\n",
       "3   3 0 0 6\n",
       "4   4 0 0 6\n",
       "5   5 0 0 6\n",
       "6   6 0 0 6\n",
       "7   7 0 0 6\n",
       "8   8 0 0 6\n",
       "9   9 0 0 6\n",
       "10 10 0 0 6"
      ]
     },
     "metadata": {},
     "output_type": "display_data"
    }
   ],
   "source": [
    "df"
   ]
  },
  {
   "cell_type": "code",
   "execution_count": 36,
   "metadata": {
    "collapsed": false
   },
   "outputs": [
    {
     "data": {
      "text/html": [
       "<table>\n",
       "<thead><tr><th></th><th scope=col>a</th><th scope=col>b</th></tr></thead>\n",
       "<tbody>\n",
       "\t<tr><th scope=row>1</th><td>1</td><td>0</td></tr>\n",
       "\t<tr><th scope=row>2</th><td>2</td><td>0</td></tr>\n",
       "\t<tr><th scope=row>3</th><td>3</td><td>0</td></tr>\n",
       "\t<tr><th scope=row>4</th><td>4</td><td>0</td></tr>\n",
       "\t<tr><th scope=row>5</th><td>5</td><td>0</td></tr>\n",
       "\t<tr><th scope=row>6</th><td>6</td><td>0</td></tr>\n",
       "\t<tr><th scope=row>7</th><td>7</td><td>0</td></tr>\n",
       "\t<tr><th scope=row>8</th><td>8</td><td>0</td></tr>\n",
       "\t<tr><th scope=row>9</th><td>9</td><td>0</td></tr>\n",
       "\t<tr><th scope=row>10</th><td>10</td><td> 0</td></tr>\n",
       "</tbody>\n",
       "</table>\n"
      ],
      "text/latex": [
       "\\begin{tabular}{r|ll}\n",
       "  & a & b\\\\\n",
       "\\hline\n",
       "\t1 & 1 & 0\\\\\n",
       "\t2 & 2 & 0\\\\\n",
       "\t3 & 3 & 0\\\\\n",
       "\t4 & 4 & 0\\\\\n",
       "\t5 & 5 & 0\\\\\n",
       "\t6 & 6 & 0\\\\\n",
       "\t7 & 7 & 0\\\\\n",
       "\t8 & 8 & 0\\\\\n",
       "\t9 & 9 & 0\\\\\n",
       "\t10 & 10 &  0\\\\\n",
       "\\end{tabular}\n"
      ],
      "text/plain": [
       "    a b\n",
       "1   1 0\n",
       "2   2 0\n",
       "3   3 0\n",
       "4   4 0\n",
       "5   5 0\n",
       "6   6 0\n",
       "7   7 0\n",
       "8   8 0\n",
       "9   9 0\n",
       "10 10 0"
      ]
     },
     "metadata": {},
     "output_type": "display_data"
    }
   ],
   "source": [
    "df[,c(\"a\", \"b\")]"
   ]
  },
  {
   "cell_type": "code",
   "execution_count": 37,
   "metadata": {
    "collapsed": false
   },
   "outputs": [
    {
     "data": {
      "text/html": [
       "<table>\n",
       "<thead><tr><th></th><th scope=col>a</th><th scope=col>b</th><th scope=col>c</th><th scope=col>d</th></tr></thead>\n",
       "<tbody>\n",
       "\t<tr><th scope=row>4</th><td>4</td><td>0</td><td>0</td><td>6</td></tr>\n",
       "\t<tr><th scope=row>5</th><td>5</td><td>0</td><td>0</td><td>6</td></tr>\n",
       "\t<tr><th scope=row>6</th><td>6</td><td>0</td><td>0</td><td>6</td></tr>\n",
       "\t<tr><th scope=row>7</th><td>7</td><td>0</td><td>0</td><td>6</td></tr>\n",
       "</tbody>\n",
       "</table>\n"
      ],
      "text/latex": [
       "\\begin{tabular}{r|llll}\n",
       "  & a & b & c & d\\\\\n",
       "\\hline\n",
       "\t4 & 4 & 0 & 0 & 6\\\\\n",
       "\t5 & 5 & 0 & 0 & 6\\\\\n",
       "\t6 & 6 & 0 & 0 & 6\\\\\n",
       "\t7 & 7 & 0 & 0 & 6\\\\\n",
       "\\end{tabular}\n"
      ],
      "text/plain": [
       "  a b c d\n",
       "4 4 0 0 6\n",
       "5 5 0 0 6\n",
       "6 6 0 0 6\n",
       "7 7 0 0 6"
      ]
     },
     "metadata": {},
     "output_type": "display_data"
    }
   ],
   "source": [
    "df[4:7,]"
   ]
  },
  {
   "cell_type": "code",
   "execution_count": 38,
   "metadata": {
    "collapsed": false
   },
   "outputs": [
    {
     "data": {
      "text/html": [
       "<table>\n",
       "<thead><tr><th></th><th scope=col>c</th><th scope=col>d</th></tr></thead>\n",
       "<tbody>\n",
       "\t<tr><th scope=row>5</th><td>0</td><td>6</td></tr>\n",
       "\t<tr><th scope=row>6</th><td>0</td><td>6</td></tr>\n",
       "</tbody>\n",
       "</table>\n"
      ],
      "text/latex": [
       "\\begin{tabular}{r|ll}\n",
       "  & c & d\\\\\n",
       "\\hline\n",
       "\t5 & 0 & 6\\\\\n",
       "\t6 & 0 & 6\\\\\n",
       "\\end{tabular}\n"
      ],
      "text/plain": [
       "  c d\n",
       "5 0 6\n",
       "6 0 6"
      ]
     },
     "metadata": {},
     "output_type": "display_data"
    }
   ],
   "source": [
    "df[c(5,6), c(\"c\", \"d\")]"
   ]
  },
  {
   "cell_type": "code",
   "execution_count": 44,
   "metadata": {
    "collapsed": false
   },
   "outputs": [
    {
     "data": {
      "text/html": [
       "<ol class=list-inline>\n",
       "\t<li>FALSE</li>\n",
       "\t<li>FALSE</li>\n",
       "\t<li>FALSE</li>\n",
       "\t<li>FALSE</li>\n",
       "\t<li>FALSE</li>\n",
       "\t<li>TRUE</li>\n",
       "\t<li>TRUE</li>\n",
       "\t<li>TRUE</li>\n",
       "\t<li>TRUE</li>\n",
       "\t<li>TRUE</li>\n",
       "</ol>\n"
      ],
      "text/latex": [
       "\\begin{enumerate*}\n",
       "\\item FALSE\n",
       "\\item FALSE\n",
       "\\item FALSE\n",
       "\\item FALSE\n",
       "\\item FALSE\n",
       "\\item TRUE\n",
       "\\item TRUE\n",
       "\\item TRUE\n",
       "\\item TRUE\n",
       "\\item TRUE\n",
       "\\end{enumerate*}\n"
      ],
      "text/markdown": [
       "1. FALSE\n",
       "2. FALSE\n",
       "3. FALSE\n",
       "4. FALSE\n",
       "5. FALSE\n",
       "6. TRUE\n",
       "7. TRUE\n",
       "8. TRUE\n",
       "9. TRUE\n",
       "10. TRUE\n",
       "\n",
       "\n"
      ],
      "text/plain": [
       " [1] FALSE FALSE FALSE FALSE FALSE  TRUE  TRUE  TRUE  TRUE  TRUE"
      ]
     },
     "metadata": {},
     "output_type": "display_data"
    }
   ],
   "source": [
    "c <- df$a > 5\n",
    "c"
   ]
  },
  {
   "cell_type": "code",
   "execution_count": 43,
   "metadata": {
    "collapsed": false
   },
   "outputs": [
    {
     "data": {
      "text/html": [
       "<table>\n",
       "<thead><tr><th></th><th scope=col>a</th><th scope=col>b</th><th scope=col>c</th><th scope=col>d</th></tr></thead>\n",
       "<tbody>\n",
       "\t<tr><th scope=row>6</th><td>6</td><td>0</td><td>0</td><td>6</td></tr>\n",
       "\t<tr><th scope=row>7</th><td>7</td><td>0</td><td>0</td><td>6</td></tr>\n",
       "\t<tr><th scope=row>8</th><td>8</td><td>0</td><td>0</td><td>6</td></tr>\n",
       "\t<tr><th scope=row>9</th><td>9</td><td>0</td><td>0</td><td>6</td></tr>\n",
       "\t<tr><th scope=row>10</th><td>10</td><td> 0</td><td> 0</td><td> 6</td></tr>\n",
       "</tbody>\n",
       "</table>\n"
      ],
      "text/latex": [
       "\\begin{tabular}{r|llll}\n",
       "  & a & b & c & d\\\\\n",
       "\\hline\n",
       "\t6 & 6 & 0 & 0 & 6\\\\\n",
       "\t7 & 7 & 0 & 0 & 6\\\\\n",
       "\t8 & 8 & 0 & 0 & 6\\\\\n",
       "\t9 & 9 & 0 & 0 & 6\\\\\n",
       "\t10 & 10 &  0 &  0 &  6\\\\\n",
       "\\end{tabular}\n"
      ],
      "text/plain": [
       "    a b c d\n",
       "6   6 0 0 6\n",
       "7   7 0 0 6\n",
       "8   8 0 0 6\n",
       "9   9 0 0 6\n",
       "10 10 0 0 6"
      ]
     },
     "metadata": {},
     "output_type": "display_data"
    }
   ],
   "source": [
    "df[c,]"
   ]
  },
  {
   "cell_type": "code",
   "execution_count": 45,
   "metadata": {
    "collapsed": true
   },
   "outputs": [],
   "source": [
    "? mtcars"
   ]
  },
  {
   "cell_type": "code",
   "execution_count": 50,
   "metadata": {
    "collapsed": false
   },
   "outputs": [],
   "source": [
    "mtcars2 <- tibble::rownames_to_column(mtcars) %>% rename(car= rowname)"
   ]
  },
  {
   "cell_type": "code",
   "execution_count": 47,
   "metadata": {
    "collapsed": false
   },
   "outputs": [
    {
     "name": "stderr",
     "output_type": "stream",
     "text": [
      "\n",
      "Attaching package: ‘dplyr’\n",
      "\n",
      "The following objects are masked from ‘package:stats’:\n",
      "\n",
      "    filter, lag\n",
      "\n",
      "The following objects are masked from ‘package:base’:\n",
      "\n",
      "    intersect, setdiff, setequal, union\n",
      "\n"
     ]
    }
   ],
   "source": [
    "library(dplyr)"
   ]
  },
  {
   "cell_type": "code",
   "execution_count": 48,
   "metadata": {
    "collapsed": false
   },
   "outputs": [
    {
     "data": {
      "text/html": [
       "<table>\n",
       "<thead><tr><th></th><th scope=col>mpg</th><th scope=col>cyl</th><th scope=col>disp</th><th scope=col>hp</th><th scope=col>drat</th><th scope=col>wt</th><th scope=col>qsec</th><th scope=col>vs</th><th scope=col>am</th><th scope=col>gear</th><th scope=col>carb</th></tr></thead>\n",
       "<tbody>\n",
       "\t<tr><th scope=row>Mazda RX4</th><td> 21.00</td><td>  6.00</td><td>160.00</td><td>110.00</td><td>  3.90</td><td>  2.62</td><td> 16.46</td><td>  0.00</td><td>  1.00</td><td>  4.00</td><td>  4.00</td></tr>\n",
       "\t<tr><th scope=row>Mazda RX4 Wag</th><td> 21.000</td><td>  6.000</td><td>160.000</td><td>110.000</td><td>  3.900</td><td>  2.875</td><td> 17.020</td><td>  0.000</td><td>  1.000</td><td>  4.000</td><td>  4.000</td></tr>\n",
       "\t<tr><th scope=row>Datsun 710</th><td> 22.80</td><td>  4.00</td><td>108.00</td><td> 93.00</td><td>  3.85</td><td>  2.32</td><td> 18.61</td><td>  1.00</td><td>  1.00</td><td>  4.00</td><td>  1.00</td></tr>\n",
       "\t<tr><th scope=row>Hornet 4 Drive</th><td> 21.400</td><td>  6.000</td><td>258.000</td><td>110.000</td><td>  3.080</td><td>  3.215</td><td> 19.440</td><td>  1.000</td><td>  0.000</td><td>  3.000</td><td>  1.000</td></tr>\n",
       "\t<tr><th scope=row>Hornet Sportabout</th><td> 18.70</td><td>  8.00</td><td>360.00</td><td>175.00</td><td>  3.15</td><td>  3.44</td><td> 17.02</td><td>  0.00</td><td>  0.00</td><td>  3.00</td><td>  2.00</td></tr>\n",
       "\t<tr><th scope=row>Valiant</th><td> 18.10</td><td>  6.00</td><td>225.00</td><td>105.00</td><td>  2.76</td><td>  3.46</td><td> 20.22</td><td>  1.00</td><td>  0.00</td><td>  3.00</td><td>  1.00</td></tr>\n",
       "\t<tr><th scope=row>Duster 360</th><td> 14.30</td><td>  8.00</td><td>360.00</td><td>245.00</td><td>  3.21</td><td>  3.57</td><td> 15.84</td><td>  0.00</td><td>  0.00</td><td>  3.00</td><td>  4.00</td></tr>\n",
       "\t<tr><th scope=row>Merc 240D</th><td> 24.40</td><td>  4.00</td><td>146.70</td><td> 62.00</td><td>  3.69</td><td>  3.19</td><td> 20.00</td><td>  1.00</td><td>  0.00</td><td>  4.00</td><td>  2.00</td></tr>\n",
       "\t<tr><th scope=row>Merc 230</th><td> 22.80</td><td>  4.00</td><td>140.80</td><td> 95.00</td><td>  3.92</td><td>  3.15</td><td> 22.90</td><td>  1.00</td><td>  0.00</td><td>  4.00</td><td>  2.00</td></tr>\n",
       "\t<tr><th scope=row>Merc 280</th><td> 19.20</td><td>  6.00</td><td>167.60</td><td>123.00</td><td>  3.92</td><td>  3.44</td><td> 18.30</td><td>  1.00</td><td>  0.00</td><td>  4.00</td><td>  4.00</td></tr>\n",
       "\t<tr><th scope=row>Merc 280C</th><td> 17.80</td><td>  6.00</td><td>167.60</td><td>123.00</td><td>  3.92</td><td>  3.44</td><td> 18.90</td><td>  1.00</td><td>  0.00</td><td>  4.00</td><td>  4.00</td></tr>\n",
       "\t<tr><th scope=row>Merc 450SE</th><td> 16.40</td><td>  8.00</td><td>275.80</td><td>180.00</td><td>  3.07</td><td>  4.07</td><td> 17.40</td><td>  0.00</td><td>  0.00</td><td>  3.00</td><td>  3.00</td></tr>\n",
       "\t<tr><th scope=row>Merc 450SL</th><td> 17.30</td><td>  8.00</td><td>275.80</td><td>180.00</td><td>  3.07</td><td>  3.73</td><td> 17.60</td><td>  0.00</td><td>  0.00</td><td>  3.00</td><td>  3.00</td></tr>\n",
       "\t<tr><th scope=row>Merc 450SLC</th><td> 15.20</td><td>  8.00</td><td>275.80</td><td>180.00</td><td>  3.07</td><td>  3.78</td><td> 18.00</td><td>  0.00</td><td>  0.00</td><td>  3.00</td><td>  3.00</td></tr>\n",
       "\t<tr><th scope=row>Cadillac Fleetwood</th><td> 10.40</td><td>  8.00</td><td>472.00</td><td>205.00</td><td>  2.93</td><td>  5.25</td><td> 17.98</td><td>  0.00</td><td>  0.00</td><td>  3.00</td><td>  4.00</td></tr>\n",
       "\t<tr><th scope=row>Lincoln Continental</th><td> 10.400</td><td>  8.000</td><td>460.000</td><td>215.000</td><td>  3.000</td><td>  5.424</td><td> 17.820</td><td>  0.000</td><td>  0.000</td><td>  3.000</td><td>  4.000</td></tr>\n",
       "\t<tr><th scope=row>Chrysler Imperial</th><td> 14.700</td><td>  8.000</td><td>440.000</td><td>230.000</td><td>  3.230</td><td>  5.345</td><td> 17.420</td><td>  0.000</td><td>  0.000</td><td>  3.000</td><td>  4.000</td></tr>\n",
       "\t<tr><th scope=row>Fiat 128</th><td>32.40</td><td> 4.00</td><td>78.70</td><td>66.00</td><td> 4.08</td><td> 2.20</td><td>19.47</td><td> 1.00</td><td> 1.00</td><td> 4.00</td><td> 1.00</td></tr>\n",
       "\t<tr><th scope=row>Honda Civic</th><td>30.400</td><td> 4.000</td><td>75.700</td><td>52.000</td><td> 4.930</td><td> 1.615</td><td>18.520</td><td> 1.000</td><td> 1.000</td><td> 4.000</td><td> 2.000</td></tr>\n",
       "\t<tr><th scope=row>Toyota Corolla</th><td>33.900</td><td> 4.000</td><td>71.100</td><td>65.000</td><td> 4.220</td><td> 1.835</td><td>19.900</td><td> 1.000</td><td> 1.000</td><td> 4.000</td><td> 1.000</td></tr>\n",
       "\t<tr><th scope=row>Toyota Corona</th><td> 21.500</td><td>  4.000</td><td>120.100</td><td> 97.000</td><td>  3.700</td><td>  2.465</td><td> 20.010</td><td>  1.000</td><td>  0.000</td><td>  3.000</td><td>  1.000</td></tr>\n",
       "\t<tr><th scope=row>Dodge Challenger</th><td> 15.50</td><td>  8.00</td><td>318.00</td><td>150.00</td><td>  2.76</td><td>  3.52</td><td> 16.87</td><td>  0.00</td><td>  0.00</td><td>  3.00</td><td>  2.00</td></tr>\n",
       "\t<tr><th scope=row>AMC Javelin</th><td> 15.200</td><td>  8.000</td><td>304.000</td><td>150.000</td><td>  3.150</td><td>  3.435</td><td> 17.300</td><td>  0.000</td><td>  0.000</td><td>  3.000</td><td>  2.000</td></tr>\n",
       "\t<tr><th scope=row>Camaro Z28</th><td> 13.30</td><td>  8.00</td><td>350.00</td><td>245.00</td><td>  3.73</td><td>  3.84</td><td> 15.41</td><td>  0.00</td><td>  0.00</td><td>  3.00</td><td>  4.00</td></tr>\n",
       "\t<tr><th scope=row>Pontiac Firebird</th><td> 19.200</td><td>  8.000</td><td>400.000</td><td>175.000</td><td>  3.080</td><td>  3.845</td><td> 17.050</td><td>  0.000</td><td>  0.000</td><td>  3.000</td><td>  2.000</td></tr>\n",
       "\t<tr><th scope=row>Fiat X1-9</th><td>27.300</td><td> 4.000</td><td>79.000</td><td>66.000</td><td> 4.080</td><td> 1.935</td><td>18.900</td><td> 1.000</td><td> 1.000</td><td> 4.000</td><td> 1.000</td></tr>\n",
       "\t<tr><th scope=row>Porsche 914-2</th><td> 26.00</td><td>  4.00</td><td>120.30</td><td> 91.00</td><td>  4.43</td><td>  2.14</td><td> 16.70</td><td>  0.00</td><td>  1.00</td><td>  5.00</td><td>  2.00</td></tr>\n",
       "\t<tr><th scope=row>Lotus Europa</th><td> 30.400</td><td>  4.000</td><td> 95.100</td><td>113.000</td><td>  3.770</td><td>  1.513</td><td> 16.900</td><td>  1.000</td><td>  1.000</td><td>  5.000</td><td>  2.000</td></tr>\n",
       "\t<tr><th scope=row>Ford Pantera L</th><td> 15.80</td><td>  8.00</td><td>351.00</td><td>264.00</td><td>  4.22</td><td>  3.17</td><td> 14.50</td><td>  0.00</td><td>  1.00</td><td>  5.00</td><td>  4.00</td></tr>\n",
       "\t<tr><th scope=row>Ferrari Dino</th><td> 19.70</td><td>  6.00</td><td>145.00</td><td>175.00</td><td>  3.62</td><td>  2.77</td><td> 15.50</td><td>  0.00</td><td>  1.00</td><td>  5.00</td><td>  6.00</td></tr>\n",
       "\t<tr><th scope=row>Maserati Bora</th><td> 15.00</td><td>  8.00</td><td>301.00</td><td>335.00</td><td>  3.54</td><td>  3.57</td><td> 14.60</td><td>  0.00</td><td>  1.00</td><td>  5.00</td><td>  8.00</td></tr>\n",
       "\t<tr><th scope=row>Volvo 142E</th><td> 21.40</td><td>  4.00</td><td>121.00</td><td>109.00</td><td>  4.11</td><td>  2.78</td><td> 18.60</td><td>  1.00</td><td>  1.00</td><td>  4.00</td><td>  2.00</td></tr>\n",
       "</tbody>\n",
       "</table>\n"
      ],
      "text/latex": [
       "\\begin{tabular}{r|lllllllllll}\n",
       "  & mpg & cyl & disp & hp & drat & wt & qsec & vs & am & gear & carb\\\\\n",
       "\\hline\n",
       "\tMazda RX4 &  21.00 &   6.00 & 160.00 & 110.00 &   3.90 &   2.62 &  16.46 &   0.00 &   1.00 &   4.00 &   4.00\\\\\n",
       "\tMazda RX4 Wag &  21.000 &   6.000 & 160.000 & 110.000 &   3.900 &   2.875 &  17.020 &   0.000 &   1.000 &   4.000 &   4.000\\\\\n",
       "\tDatsun 710 &  22.80 &   4.00 & 108.00 &  93.00 &   3.85 &   2.32 &  18.61 &   1.00 &   1.00 &   4.00 &   1.00\\\\\n",
       "\tHornet 4 Drive &  21.400 &   6.000 & 258.000 & 110.000 &   3.080 &   3.215 &  19.440 &   1.000 &   0.000 &   3.000 &   1.000\\\\\n",
       "\tHornet Sportabout &  18.70 &   8.00 & 360.00 & 175.00 &   3.15 &   3.44 &  17.02 &   0.00 &   0.00 &   3.00 &   2.00\\\\\n",
       "\tValiant &  18.10 &   6.00 & 225.00 & 105.00 &   2.76 &   3.46 &  20.22 &   1.00 &   0.00 &   3.00 &   1.00\\\\\n",
       "\tDuster 360 &  14.30 &   8.00 & 360.00 & 245.00 &   3.21 &   3.57 &  15.84 &   0.00 &   0.00 &   3.00 &   4.00\\\\\n",
       "\tMerc 240D &  24.40 &   4.00 & 146.70 &  62.00 &   3.69 &   3.19 &  20.00 &   1.00 &   0.00 &   4.00 &   2.00\\\\\n",
       "\tMerc 230 &  22.80 &   4.00 & 140.80 &  95.00 &   3.92 &   3.15 &  22.90 &   1.00 &   0.00 &   4.00 &   2.00\\\\\n",
       "\tMerc 280 &  19.20 &   6.00 & 167.60 & 123.00 &   3.92 &   3.44 &  18.30 &   1.00 &   0.00 &   4.00 &   4.00\\\\\n",
       "\tMerc 280C &  17.80 &   6.00 & 167.60 & 123.00 &   3.92 &   3.44 &  18.90 &   1.00 &   0.00 &   4.00 &   4.00\\\\\n",
       "\tMerc 450SE &  16.40 &   8.00 & 275.80 & 180.00 &   3.07 &   4.07 &  17.40 &   0.00 &   0.00 &   3.00 &   3.00\\\\\n",
       "\tMerc 450SL &  17.30 &   8.00 & 275.80 & 180.00 &   3.07 &   3.73 &  17.60 &   0.00 &   0.00 &   3.00 &   3.00\\\\\n",
       "\tMerc 450SLC &  15.20 &   8.00 & 275.80 & 180.00 &   3.07 &   3.78 &  18.00 &   0.00 &   0.00 &   3.00 &   3.00\\\\\n",
       "\tCadillac Fleetwood &  10.40 &   8.00 & 472.00 & 205.00 &   2.93 &   5.25 &  17.98 &   0.00 &   0.00 &   3.00 &   4.00\\\\\n",
       "\tLincoln Continental &  10.400 &   8.000 & 460.000 & 215.000 &   3.000 &   5.424 &  17.820 &   0.000 &   0.000 &   3.000 &   4.000\\\\\n",
       "\tChrysler Imperial &  14.700 &   8.000 & 440.000 & 230.000 &   3.230 &   5.345 &  17.420 &   0.000 &   0.000 &   3.000 &   4.000\\\\\n",
       "\tFiat 128 & 32.40 &  4.00 & 78.70 & 66.00 &  4.08 &  2.20 & 19.47 &  1.00 &  1.00 &  4.00 &  1.00\\\\\n",
       "\tHonda Civic & 30.400 &  4.000 & 75.700 & 52.000 &  4.930 &  1.615 & 18.520 &  1.000 &  1.000 &  4.000 &  2.000\\\\\n",
       "\tToyota Corolla & 33.900 &  4.000 & 71.100 & 65.000 &  4.220 &  1.835 & 19.900 &  1.000 &  1.000 &  4.000 &  1.000\\\\\n",
       "\tToyota Corona &  21.500 &   4.000 & 120.100 &  97.000 &   3.700 &   2.465 &  20.010 &   1.000 &   0.000 &   3.000 &   1.000\\\\\n",
       "\tDodge Challenger &  15.50 &   8.00 & 318.00 & 150.00 &   2.76 &   3.52 &  16.87 &   0.00 &   0.00 &   3.00 &   2.00\\\\\n",
       "\tAMC Javelin &  15.200 &   8.000 & 304.000 & 150.000 &   3.150 &   3.435 &  17.300 &   0.000 &   0.000 &   3.000 &   2.000\\\\\n",
       "\tCamaro Z28 &  13.30 &   8.00 & 350.00 & 245.00 &   3.73 &   3.84 &  15.41 &   0.00 &   0.00 &   3.00 &   4.00\\\\\n",
       "\tPontiac Firebird &  19.200 &   8.000 & 400.000 & 175.000 &   3.080 &   3.845 &  17.050 &   0.000 &   0.000 &   3.000 &   2.000\\\\\n",
       "\tFiat X1-9 & 27.300 &  4.000 & 79.000 & 66.000 &  4.080 &  1.935 & 18.900 &  1.000 &  1.000 &  4.000 &  1.000\\\\\n",
       "\tPorsche 914-2 &  26.00 &   4.00 & 120.30 &  91.00 &   4.43 &   2.14 &  16.70 &   0.00 &   1.00 &   5.00 &   2.00\\\\\n",
       "\tLotus Europa &  30.400 &   4.000 &  95.100 & 113.000 &   3.770 &   1.513 &  16.900 &   1.000 &   1.000 &   5.000 &   2.000\\\\\n",
       "\tFord Pantera L &  15.80 &   8.00 & 351.00 & 264.00 &   4.22 &   3.17 &  14.50 &   0.00 &   1.00 &   5.00 &   4.00\\\\\n",
       "\tFerrari Dino &  19.70 &   6.00 & 145.00 & 175.00 &   3.62 &   2.77 &  15.50 &   0.00 &   1.00 &   5.00 &   6.00\\\\\n",
       "\tMaserati Bora &  15.00 &   8.00 & 301.00 & 335.00 &   3.54 &   3.57 &  14.60 &   0.00 &   1.00 &   5.00 &   8.00\\\\\n",
       "\tVolvo 142E &  21.40 &   4.00 & 121.00 & 109.00 &   4.11 &   2.78 &  18.60 &   1.00 &   1.00 &   4.00 &   2.00\\\\\n",
       "\\end{tabular}\n"
      ],
      "text/plain": [
       "                     mpg cyl  disp  hp drat    wt  qsec vs am gear carb\n",
       "Mazda RX4           21.0   6 160.0 110 3.90 2.620 16.46  0  1    4    4\n",
       "Mazda RX4 Wag       21.0   6 160.0 110 3.90 2.875 17.02  0  1    4    4\n",
       "Datsun 710          22.8   4 108.0  93 3.85 2.320 18.61  1  1    4    1\n",
       "Hornet 4 Drive      21.4   6 258.0 110 3.08 3.215 19.44  1  0    3    1\n",
       "Hornet Sportabout   18.7   8 360.0 175 3.15 3.440 17.02  0  0    3    2\n",
       "Valiant             18.1   6 225.0 105 2.76 3.460 20.22  1  0    3    1\n",
       "Duster 360          14.3   8 360.0 245 3.21 3.570 15.84  0  0    3    4\n",
       "Merc 240D           24.4   4 146.7  62 3.69 3.190 20.00  1  0    4    2\n",
       "Merc 230            22.8   4 140.8  95 3.92 3.150 22.90  1  0    4    2\n",
       "Merc 280            19.2   6 167.6 123 3.92 3.440 18.30  1  0    4    4\n",
       "Merc 280C           17.8   6 167.6 123 3.92 3.440 18.90  1  0    4    4\n",
       "Merc 450SE          16.4   8 275.8 180 3.07 4.070 17.40  0  0    3    3\n",
       "Merc 450SL          17.3   8 275.8 180 3.07 3.730 17.60  0  0    3    3\n",
       "Merc 450SLC         15.2   8 275.8 180 3.07 3.780 18.00  0  0    3    3\n",
       "Cadillac Fleetwood  10.4   8 472.0 205 2.93 5.250 17.98  0  0    3    4\n",
       "Lincoln Continental 10.4   8 460.0 215 3.00 5.424 17.82  0  0    3    4\n",
       "Chrysler Imperial   14.7   8 440.0 230 3.23 5.345 17.42  0  0    3    4\n",
       "Fiat 128            32.4   4  78.7  66 4.08 2.200 19.47  1  1    4    1\n",
       "Honda Civic         30.4   4  75.7  52 4.93 1.615 18.52  1  1    4    2\n",
       "Toyota Corolla      33.9   4  71.1  65 4.22 1.835 19.90  1  1    4    1\n",
       "Toyota Corona       21.5   4 120.1  97 3.70 2.465 20.01  1  0    3    1\n",
       "Dodge Challenger    15.5   8 318.0 150 2.76 3.520 16.87  0  0    3    2\n",
       "AMC Javelin         15.2   8 304.0 150 3.15 3.435 17.30  0  0    3    2\n",
       "Camaro Z28          13.3   8 350.0 245 3.73 3.840 15.41  0  0    3    4\n",
       "Pontiac Firebird    19.2   8 400.0 175 3.08 3.845 17.05  0  0    3    2\n",
       "Fiat X1-9           27.3   4  79.0  66 4.08 1.935 18.90  1  1    4    1\n",
       "Porsche 914-2       26.0   4 120.3  91 4.43 2.140 16.70  0  1    5    2\n",
       "Lotus Europa        30.4   4  95.1 113 3.77 1.513 16.90  1  1    5    2\n",
       "Ford Pantera L      15.8   8 351.0 264 4.22 3.170 14.50  0  1    5    4\n",
       "Ferrari Dino        19.7   6 145.0 175 3.62 2.770 15.50  0  1    5    6\n",
       "Maserati Bora       15.0   8 301.0 335 3.54 3.570 14.60  0  1    5    8\n",
       "Volvo 142E          21.4   4 121.0 109 4.11 2.780 18.60  1  1    4    2"
      ]
     },
     "metadata": {},
     "output_type": "display_data"
    }
   ],
   "source": [
    "mtcars"
   ]
  },
  {
   "cell_type": "code",
   "execution_count": 51,
   "metadata": {
    "collapsed": false
   },
   "outputs": [
    {
     "data": {
      "text/html": [
       "<table>\n",
       "<thead><tr><th></th><th scope=col>car</th><th scope=col>mpg</th><th scope=col>cyl</th><th scope=col>disp</th><th scope=col>hp</th><th scope=col>drat</th><th scope=col>wt</th><th scope=col>qsec</th><th scope=col>vs</th><th scope=col>am</th><th scope=col>gear</th><th scope=col>carb</th></tr></thead>\n",
       "<tbody>\n",
       "\t<tr><th scope=row>1</th><td>Mazda RX4</td><td>21       </td><td>6        </td><td>160      </td><td>110      </td><td>3.9      </td><td>2.62     </td><td>16.46    </td><td>0        </td><td>1        </td><td>4        </td><td>4        </td></tr>\n",
       "\t<tr><th scope=row>2</th><td>Mazda RX4 Wag</td><td>21           </td><td>6            </td><td>160          </td><td>110          </td><td>3.9          </td><td>2.875        </td><td>17.02        </td><td>0            </td><td>1            </td><td>4            </td><td>4            </td></tr>\n",
       "\t<tr><th scope=row>3</th><td>Datsun 710</td><td>22.8      </td><td>4         </td><td>108       </td><td>93        </td><td>3.85      </td><td>2.32      </td><td>18.61     </td><td>1         </td><td>1         </td><td>4         </td><td>1         </td></tr>\n",
       "\t<tr><th scope=row>4</th><td>Hornet 4 Drive</td><td>21.4          </td><td>6             </td><td>258           </td><td>110           </td><td>3.08          </td><td>3.215         </td><td>19.44         </td><td>1             </td><td>0             </td><td>3             </td><td>1             </td></tr>\n",
       "\t<tr><th scope=row>5</th><td>Hornet Sportabout</td><td>18.7             </td><td>8                </td><td>360              </td><td>175              </td><td>3.15             </td><td>3.44             </td><td>17.02            </td><td>0                </td><td>0                </td><td>3                </td><td>2                </td></tr>\n",
       "\t<tr><th scope=row>6</th><td>Valiant</td><td>18.1   </td><td>6      </td><td>225    </td><td>105    </td><td>2.76   </td><td>3.46   </td><td>20.22  </td><td>1      </td><td>0      </td><td>3      </td><td>1      </td></tr>\n",
       "\t<tr><th scope=row>7</th><td>Duster 360</td><td>14.3      </td><td>8         </td><td>360       </td><td>245       </td><td>3.21      </td><td>3.57      </td><td>15.84     </td><td>0         </td><td>0         </td><td>3         </td><td>4         </td></tr>\n",
       "\t<tr><th scope=row>8</th><td>Merc 240D</td><td>24.4     </td><td>4        </td><td>146.7    </td><td>62       </td><td>3.69     </td><td>3.19     </td><td>20       </td><td>1        </td><td>0        </td><td>4        </td><td>2        </td></tr>\n",
       "\t<tr><th scope=row>9</th><td>Merc 230</td><td>22.8    </td><td>4       </td><td>140.8   </td><td>95      </td><td>3.92    </td><td>3.15    </td><td>22.9    </td><td>1       </td><td>0       </td><td>4       </td><td>2       </td></tr>\n",
       "\t<tr><th scope=row>10</th><td>Merc 280</td><td>19.2    </td><td>6       </td><td>167.6   </td><td>123     </td><td>3.92    </td><td>3.44    </td><td>18.3    </td><td>1       </td><td>0       </td><td>4       </td><td>4       </td></tr>\n",
       "\t<tr><th scope=row>11</th><td>Merc 280C</td><td>17.8     </td><td>6        </td><td>167.6    </td><td>123      </td><td>3.92     </td><td>3.44     </td><td>18.9     </td><td>1        </td><td>0        </td><td>4        </td><td>4        </td></tr>\n",
       "\t<tr><th scope=row>12</th><td>Merc 450SE</td><td>16.4      </td><td>8         </td><td>275.8     </td><td>180       </td><td>3.07      </td><td>4.07      </td><td>17.4      </td><td>0         </td><td>0         </td><td>3         </td><td>3         </td></tr>\n",
       "\t<tr><th scope=row>13</th><td>Merc 450SL</td><td>17.3      </td><td>8         </td><td>275.8     </td><td>180       </td><td>3.07      </td><td>3.73      </td><td>17.6      </td><td>0         </td><td>0         </td><td>3         </td><td>3         </td></tr>\n",
       "\t<tr><th scope=row>14</th><td>Merc 450SLC</td><td>15.2       </td><td>8          </td><td>275.8      </td><td>180        </td><td>3.07       </td><td>3.78       </td><td>18         </td><td>0          </td><td>0          </td><td>3          </td><td>3          </td></tr>\n",
       "\t<tr><th scope=row>15</th><td>Cadillac Fleetwood</td><td>10.4              </td><td>8                 </td><td>472               </td><td>205               </td><td>2.93              </td><td>5.25              </td><td>17.98             </td><td>0                 </td><td>0                 </td><td>3                 </td><td>4                 </td></tr>\n",
       "\t<tr><th scope=row>16</th><td>Lincoln Continental</td><td>10.4               </td><td>8                  </td><td>460                </td><td>215                </td><td>3                  </td><td>5.424              </td><td>17.82              </td><td>0                  </td><td>0                  </td><td>3                  </td><td>4                  </td></tr>\n",
       "\t<tr><th scope=row>17</th><td>Chrysler Imperial</td><td>14.7             </td><td>8                </td><td>440              </td><td>230              </td><td>3.23             </td><td>5.345            </td><td>17.42            </td><td>0                </td><td>0                </td><td>3                </td><td>4                </td></tr>\n",
       "\t<tr><th scope=row>18</th><td>Fiat 128</td><td>32.4    </td><td>4       </td><td>78.7    </td><td>66      </td><td>4.08    </td><td>2.2     </td><td>19.47   </td><td>1       </td><td>1       </td><td>4       </td><td>1       </td></tr>\n",
       "\t<tr><th scope=row>19</th><td>Honda Civic</td><td>30.4       </td><td>4          </td><td>75.7       </td><td>52         </td><td>4.93       </td><td>1.615      </td><td>18.52      </td><td>1          </td><td>1          </td><td>4          </td><td>2          </td></tr>\n",
       "\t<tr><th scope=row>20</th><td>Toyota Corolla</td><td>33.9          </td><td>4             </td><td>71.1          </td><td>65            </td><td>4.22          </td><td>1.835         </td><td>19.9          </td><td>1             </td><td>1             </td><td>4             </td><td>1             </td></tr>\n",
       "\t<tr><th scope=row>21</th><td>Toyota Corona</td><td>21.5         </td><td>4            </td><td>120.1        </td><td>97           </td><td>3.7          </td><td>2.465        </td><td>20.01        </td><td>1            </td><td>0            </td><td>3            </td><td>1            </td></tr>\n",
       "\t<tr><th scope=row>22</th><td>Dodge Challenger</td><td>15.5            </td><td>8               </td><td>318             </td><td>150             </td><td>2.76            </td><td>3.52            </td><td>16.87           </td><td>0               </td><td>0               </td><td>3               </td><td>2               </td></tr>\n",
       "\t<tr><th scope=row>23</th><td>AMC Javelin</td><td>15.2       </td><td>8          </td><td>304        </td><td>150        </td><td>3.15       </td><td>3.435      </td><td>17.3       </td><td>0          </td><td>0          </td><td>3          </td><td>2          </td></tr>\n",
       "\t<tr><th scope=row>24</th><td>Camaro Z28</td><td>13.3      </td><td>8         </td><td>350       </td><td>245       </td><td>3.73      </td><td>3.84      </td><td>15.41     </td><td>0         </td><td>0         </td><td>3         </td><td>4         </td></tr>\n",
       "\t<tr><th scope=row>25</th><td>Pontiac Firebird</td><td>19.2            </td><td>8               </td><td>400             </td><td>175             </td><td>3.08            </td><td>3.845           </td><td>17.05           </td><td>0               </td><td>0               </td><td>3               </td><td>2               </td></tr>\n",
       "\t<tr><th scope=row>26</th><td>Fiat X1-9</td><td>27.3     </td><td>4        </td><td>79       </td><td>66       </td><td>4.08     </td><td>1.935    </td><td>18.9     </td><td>1        </td><td>1        </td><td>4        </td><td>1        </td></tr>\n",
       "\t<tr><th scope=row>27</th><td>Porsche 914-2</td><td>26           </td><td>4            </td><td>120.3        </td><td>91           </td><td>4.43         </td><td>2.14         </td><td>16.7         </td><td>0            </td><td>1            </td><td>5            </td><td>2            </td></tr>\n",
       "\t<tr><th scope=row>28</th><td>Lotus Europa</td><td>30.4        </td><td>4           </td><td>95.1        </td><td>113         </td><td>3.77        </td><td>1.513       </td><td>16.9        </td><td>1           </td><td>1           </td><td>5           </td><td>2           </td></tr>\n",
       "\t<tr><th scope=row>29</th><td>Ford Pantera L</td><td>15.8          </td><td>8             </td><td>351           </td><td>264           </td><td>4.22          </td><td>3.17          </td><td>14.5          </td><td>0             </td><td>1             </td><td>5             </td><td>4             </td></tr>\n",
       "\t<tr><th scope=row>30</th><td>Ferrari Dino</td><td>19.7        </td><td>6           </td><td>145         </td><td>175         </td><td>3.62        </td><td>2.77        </td><td>15.5        </td><td>0           </td><td>1           </td><td>5           </td><td>6           </td></tr>\n",
       "\t<tr><th scope=row>31</th><td>Maserati Bora</td><td>15           </td><td>8            </td><td>301          </td><td>335          </td><td>3.54         </td><td>3.57         </td><td>14.6         </td><td>0            </td><td>1            </td><td>5            </td><td>8            </td></tr>\n",
       "\t<tr><th scope=row>32</th><td>Volvo 142E</td><td>21.4      </td><td>4         </td><td>121       </td><td>109       </td><td>4.11      </td><td>2.78      </td><td>18.6      </td><td>1         </td><td>1         </td><td>4         </td><td>2         </td></tr>\n",
       "</tbody>\n",
       "</table>\n"
      ],
      "text/latex": [
       "\\begin{tabular}{r|llllllllllll}\n",
       "  & car & mpg & cyl & disp & hp & drat & wt & qsec & vs & am & gear & carb\\\\\n",
       "\\hline\n",
       "\t1 & Mazda RX4 & 21        & 6         & 160       & 110       & 3.9       & 2.62      & 16.46     & 0         & 1         & 4         & 4        \\\\\n",
       "\t2 & Mazda RX4 Wag & 21            & 6             & 160           & 110           & 3.9           & 2.875         & 17.02         & 0             & 1             & 4             & 4            \\\\\n",
       "\t3 & Datsun 710 & 22.8       & 4          & 108        & 93         & 3.85       & 2.32       & 18.61      & 1          & 1          & 4          & 1         \\\\\n",
       "\t4 & Hornet 4 Drive & 21.4           & 6              & 258            & 110            & 3.08           & 3.215          & 19.44          & 1              & 0              & 3              & 1             \\\\\n",
       "\t5 & Hornet Sportabout & 18.7              & 8                 & 360               & 175               & 3.15              & 3.44              & 17.02             & 0                 & 0                 & 3                 & 2                \\\\\n",
       "\t6 & Valiant & 18.1    & 6       & 225     & 105     & 2.76    & 3.46    & 20.22   & 1       & 0       & 3       & 1      \\\\\n",
       "\t7 & Duster 360 & 14.3       & 8          & 360        & 245        & 3.21       & 3.57       & 15.84      & 0          & 0          & 3          & 4         \\\\\n",
       "\t8 & Merc 240D & 24.4      & 4         & 146.7     & 62        & 3.69      & 3.19      & 20        & 1         & 0         & 4         & 2        \\\\\n",
       "\t9 & Merc 230 & 22.8     & 4        & 140.8    & 95       & 3.92     & 3.15     & 22.9     & 1        & 0        & 4        & 2       \\\\\n",
       "\t10 & Merc 280 & 19.2     & 6        & 167.6    & 123      & 3.92     & 3.44     & 18.3     & 1        & 0        & 4        & 4       \\\\\n",
       "\t11 & Merc 280C & 17.8      & 6         & 167.6     & 123       & 3.92      & 3.44      & 18.9      & 1         & 0         & 4         & 4        \\\\\n",
       "\t12 & Merc 450SE & 16.4       & 8          & 275.8      & 180        & 3.07       & 4.07       & 17.4       & 0          & 0          & 3          & 3         \\\\\n",
       "\t13 & Merc 450SL & 17.3       & 8          & 275.8      & 180        & 3.07       & 3.73       & 17.6       & 0          & 0          & 3          & 3         \\\\\n",
       "\t14 & Merc 450SLC & 15.2        & 8           & 275.8       & 180         & 3.07        & 3.78        & 18          & 0           & 0           & 3           & 3          \\\\\n",
       "\t15 & Cadillac Fleetwood & 10.4               & 8                  & 472                & 205                & 2.93               & 5.25               & 17.98              & 0                  & 0                  & 3                  & 4                 \\\\\n",
       "\t16 & Lincoln Continental & 10.4                & 8                   & 460                 & 215                 & 3                   & 5.424               & 17.82               & 0                   & 0                   & 3                   & 4                  \\\\\n",
       "\t17 & Chrysler Imperial & 14.7              & 8                 & 440               & 230               & 3.23              & 5.345             & 17.42             & 0                 & 0                 & 3                 & 4                \\\\\n",
       "\t18 & Fiat 128 & 32.4     & 4        & 78.7     & 66       & 4.08     & 2.2      & 19.47    & 1        & 1        & 4        & 1       \\\\\n",
       "\t19 & Honda Civic & 30.4        & 4           & 75.7        & 52          & 4.93        & 1.615       & 18.52       & 1           & 1           & 4           & 2          \\\\\n",
       "\t20 & Toyota Corolla & 33.9           & 4              & 71.1           & 65             & 4.22           & 1.835          & 19.9           & 1              & 1              & 4              & 1             \\\\\n",
       "\t21 & Toyota Corona & 21.5          & 4             & 120.1         & 97            & 3.7           & 2.465         & 20.01         & 1             & 0             & 3             & 1            \\\\\n",
       "\t22 & Dodge Challenger & 15.5             & 8                & 318              & 150              & 2.76             & 3.52             & 16.87            & 0                & 0                & 3                & 2               \\\\\n",
       "\t23 & AMC Javelin & 15.2        & 8           & 304         & 150         & 3.15        & 3.435       & 17.3        & 0           & 0           & 3           & 2          \\\\\n",
       "\t24 & Camaro Z28 & 13.3       & 8          & 350        & 245        & 3.73       & 3.84       & 15.41      & 0          & 0          & 3          & 4         \\\\\n",
       "\t25 & Pontiac Firebird & 19.2             & 8                & 400              & 175              & 3.08             & 3.845            & 17.05            & 0                & 0                & 3                & 2               \\\\\n",
       "\t26 & Fiat X1-9 & 27.3      & 4         & 79        & 66        & 4.08      & 1.935     & 18.9      & 1         & 1         & 4         & 1        \\\\\n",
       "\t27 & Porsche 914-2 & 26            & 4             & 120.3         & 91            & 4.43          & 2.14          & 16.7          & 0             & 1             & 5             & 2            \\\\\n",
       "\t28 & Lotus Europa & 30.4         & 4            & 95.1         & 113          & 3.77         & 1.513        & 16.9         & 1            & 1            & 5            & 2           \\\\\n",
       "\t29 & Ford Pantera L & 15.8           & 8              & 351            & 264            & 4.22           & 3.17           & 14.5           & 0              & 1              & 5              & 4             \\\\\n",
       "\t30 & Ferrari Dino & 19.7         & 6            & 145          & 175          & 3.62         & 2.77         & 15.5         & 0            & 1            & 5            & 6           \\\\\n",
       "\t31 & Maserati Bora & 15            & 8             & 301           & 335           & 3.54          & 3.57          & 14.6          & 0             & 1             & 5             & 8            \\\\\n",
       "\t32 & Volvo 142E & 21.4       & 4          & 121        & 109        & 4.11       & 2.78       & 18.6       & 1          & 1          & 4          & 2         \\\\\n",
       "\\end{tabular}\n"
      ],
      "text/plain": [
       "                   car  mpg cyl  disp  hp drat    wt  qsec vs am gear carb\n",
       "1            Mazda RX4 21.0   6 160.0 110 3.90 2.620 16.46  0  1    4    4\n",
       "2        Mazda RX4 Wag 21.0   6 160.0 110 3.90 2.875 17.02  0  1    4    4\n",
       "3           Datsun 710 22.8   4 108.0  93 3.85 2.320 18.61  1  1    4    1\n",
       "4       Hornet 4 Drive 21.4   6 258.0 110 3.08 3.215 19.44  1  0    3    1\n",
       "5    Hornet Sportabout 18.7   8 360.0 175 3.15 3.440 17.02  0  0    3    2\n",
       "6              Valiant 18.1   6 225.0 105 2.76 3.460 20.22  1  0    3    1\n",
       "7           Duster 360 14.3   8 360.0 245 3.21 3.570 15.84  0  0    3    4\n",
       "8            Merc 240D 24.4   4 146.7  62 3.69 3.190 20.00  1  0    4    2\n",
       "9             Merc 230 22.8   4 140.8  95 3.92 3.150 22.90  1  0    4    2\n",
       "10            Merc 280 19.2   6 167.6 123 3.92 3.440 18.30  1  0    4    4\n",
       "11           Merc 280C 17.8   6 167.6 123 3.92 3.440 18.90  1  0    4    4\n",
       "12          Merc 450SE 16.4   8 275.8 180 3.07 4.070 17.40  0  0    3    3\n",
       "13          Merc 450SL 17.3   8 275.8 180 3.07 3.730 17.60  0  0    3    3\n",
       "14         Merc 450SLC 15.2   8 275.8 180 3.07 3.780 18.00  0  0    3    3\n",
       "15  Cadillac Fleetwood 10.4   8 472.0 205 2.93 5.250 17.98  0  0    3    4\n",
       "16 Lincoln Continental 10.4   8 460.0 215 3.00 5.424 17.82  0  0    3    4\n",
       "17   Chrysler Imperial 14.7   8 440.0 230 3.23 5.345 17.42  0  0    3    4\n",
       "18            Fiat 128 32.4   4  78.7  66 4.08 2.200 19.47  1  1    4    1\n",
       "19         Honda Civic 30.4   4  75.7  52 4.93 1.615 18.52  1  1    4    2\n",
       "20      Toyota Corolla 33.9   4  71.1  65 4.22 1.835 19.90  1  1    4    1\n",
       "21       Toyota Corona 21.5   4 120.1  97 3.70 2.465 20.01  1  0    3    1\n",
       "22    Dodge Challenger 15.5   8 318.0 150 2.76 3.520 16.87  0  0    3    2\n",
       "23         AMC Javelin 15.2   8 304.0 150 3.15 3.435 17.30  0  0    3    2\n",
       "24          Camaro Z28 13.3   8 350.0 245 3.73 3.840 15.41  0  0    3    4\n",
       "25    Pontiac Firebird 19.2   8 400.0 175 3.08 3.845 17.05  0  0    3    2\n",
       "26           Fiat X1-9 27.3   4  79.0  66 4.08 1.935 18.90  1  1    4    1\n",
       "27       Porsche 914-2 26.0   4 120.3  91 4.43 2.140 16.70  0  1    5    2\n",
       "28        Lotus Europa 30.4   4  95.1 113 3.77 1.513 16.90  1  1    5    2\n",
       "29      Ford Pantera L 15.8   8 351.0 264 4.22 3.170 14.50  0  1    5    4\n",
       "30        Ferrari Dino 19.7   6 145.0 175 3.62 2.770 15.50  0  1    5    6\n",
       "31       Maserati Bora 15.0   8 301.0 335 3.54 3.570 14.60  0  1    5    8\n",
       "32          Volvo 142E 21.4   4 121.0 109 4.11 2.780 18.60  1  1    4    2"
      ]
     },
     "metadata": {},
     "output_type": "display_data"
    }
   ],
   "source": [
    "mtcars2"
   ]
  },
  {
   "cell_type": "code",
   "execution_count": 53,
   "metadata": {
    "collapsed": false
   },
   "outputs": [
    {
     "data": {
      "text/html": [
       "<table>\n",
       "<thead><tr><th></th><th scope=col>car</th><th scope=col>mpg</th><th scope=col>cyl</th><th scope=col>disp</th><th scope=col>hp</th><th scope=col>drat</th><th scope=col>wt</th><th scope=col>qsec</th><th scope=col>vs</th><th scope=col>am</th><th scope=col>gear</th><th scope=col>carb</th></tr></thead>\n",
       "<tbody>\n",
       "\t<tr><th scope=row>1</th><td>Mazda RX4</td><td>21       </td><td>6        </td><td>160      </td><td>110      </td><td>3.9      </td><td>2.62     </td><td>16.46    </td><td>0        </td><td>1        </td><td>4        </td><td>4        </td></tr>\n",
       "\t<tr><th scope=row>2</th><td>Mazda RX4 Wag</td><td>21           </td><td>6            </td><td>160          </td><td>110          </td><td>3.9          </td><td>2.875        </td><td>17.02        </td><td>0            </td><td>1            </td><td>4            </td><td>4            </td></tr>\n",
       "\t<tr><th scope=row>3</th><td>Datsun 710</td><td>22.8      </td><td>4         </td><td>108       </td><td>93        </td><td>3.85      </td><td>2.32      </td><td>18.61     </td><td>1         </td><td>1         </td><td>4         </td><td>1         </td></tr>\n",
       "\t<tr><th scope=row>4</th><td>Fiat 128</td><td>32.4    </td><td>4       </td><td>78.7    </td><td>66      </td><td>4.08    </td><td>2.2     </td><td>19.47   </td><td>1       </td><td>1       </td><td>4       </td><td>1       </td></tr>\n",
       "\t<tr><th scope=row>5</th><td>Honda Civic</td><td>30.4       </td><td>4          </td><td>75.7       </td><td>52         </td><td>4.93       </td><td>1.615      </td><td>18.52      </td><td>1          </td><td>1          </td><td>4          </td><td>2          </td></tr>\n",
       "\t<tr><th scope=row>6</th><td>Toyota Corolla</td><td>33.9          </td><td>4             </td><td>71.1          </td><td>65            </td><td>4.22          </td><td>1.835         </td><td>19.9          </td><td>1             </td><td>1             </td><td>4             </td><td>1             </td></tr>\n",
       "\t<tr><th scope=row>7</th><td>Fiat X1-9</td><td>27.3     </td><td>4        </td><td>79       </td><td>66       </td><td>4.08     </td><td>1.935    </td><td>18.9     </td><td>1        </td><td>1        </td><td>4        </td><td>1        </td></tr>\n",
       "\t<tr><th scope=row>8</th><td>Volvo 142E</td><td>21.4      </td><td>4         </td><td>121       </td><td>109       </td><td>4.11      </td><td>2.78      </td><td>18.6      </td><td>1         </td><td>1         </td><td>4         </td><td>2         </td></tr>\n",
       "</tbody>\n",
       "</table>\n"
      ],
      "text/latex": [
       "\\begin{tabular}{r|llllllllllll}\n",
       "  & car & mpg & cyl & disp & hp & drat & wt & qsec & vs & am & gear & carb\\\\\n",
       "\\hline\n",
       "\t1 & Mazda RX4 & 21        & 6         & 160       & 110       & 3.9       & 2.62      & 16.46     & 0         & 1         & 4         & 4        \\\\\n",
       "\t2 & Mazda RX4 Wag & 21            & 6             & 160           & 110           & 3.9           & 2.875         & 17.02         & 0             & 1             & 4             & 4            \\\\\n",
       "\t3 & Datsun 710 & 22.8       & 4          & 108        & 93         & 3.85       & 2.32       & 18.61      & 1          & 1          & 4          & 1         \\\\\n",
       "\t4 & Fiat 128 & 32.4     & 4        & 78.7     & 66       & 4.08     & 2.2      & 19.47    & 1        & 1        & 4        & 1       \\\\\n",
       "\t5 & Honda Civic & 30.4        & 4           & 75.7        & 52          & 4.93        & 1.615       & 18.52       & 1           & 1           & 4           & 2          \\\\\n",
       "\t6 & Toyota Corolla & 33.9           & 4              & 71.1           & 65             & 4.22           & 1.835          & 19.9           & 1              & 1              & 4              & 1             \\\\\n",
       "\t7 & Fiat X1-9 & 27.3      & 4         & 79        & 66        & 4.08      & 1.935     & 18.9      & 1         & 1         & 4         & 1        \\\\\n",
       "\t8 & Volvo 142E & 21.4       & 4          & 121        & 109        & 4.11       & 2.78       & 18.6       & 1          & 1          & 4          & 2         \\\\\n",
       "\\end{tabular}\n"
      ],
      "text/plain": [
       "             car  mpg cyl  disp  hp drat    wt  qsec vs am gear carb\n",
       "1      Mazda RX4 21.0   6 160.0 110 3.90 2.620 16.46  0  1    4    4\n",
       "2  Mazda RX4 Wag 21.0   6 160.0 110 3.90 2.875 17.02  0  1    4    4\n",
       "3     Datsun 710 22.8   4 108.0  93 3.85 2.320 18.61  1  1    4    1\n",
       "4       Fiat 128 32.4   4  78.7  66 4.08 2.200 19.47  1  1    4    1\n",
       "5    Honda Civic 30.4   4  75.7  52 4.93 1.615 18.52  1  1    4    2\n",
       "6 Toyota Corolla 33.9   4  71.1  65 4.22 1.835 19.90  1  1    4    1\n",
       "7      Fiat X1-9 27.3   4  79.0  66 4.08 1.935 18.90  1  1    4    1\n",
       "8     Volvo 142E 21.4   4 121.0 109 4.11 2.780 18.60  1  1    4    2"
      ]
     },
     "metadata": {},
     "output_type": "display_data"
    }
   ],
   "source": [
    "filter(mtcars2, gear == 4 & am == 1)"
   ]
  },
  {
   "cell_type": "code",
   "execution_count": 54,
   "metadata": {
    "collapsed": false
   },
   "outputs": [
    {
     "data": {
      "text/html": [
       "<table>\n",
       "<thead><tr><th></th><th scope=col>car</th><th scope=col>mpg</th><th scope=col>cyl</th><th scope=col>disp</th><th scope=col>hp</th><th scope=col>drat</th><th scope=col>wt</th><th scope=col>qsec</th><th scope=col>vs</th><th scope=col>am</th><th scope=col>gear</th><th scope=col>carb</th></tr></thead>\n",
       "<tbody>\n",
       "\t<tr><th scope=row>1</th><td>Volvo 142E</td><td>21.4      </td><td>4         </td><td>121       </td><td>109       </td><td>4.11      </td><td>2.78      </td><td>18.6      </td><td>1         </td><td>1         </td><td>4         </td><td>2         </td></tr>\n",
       "\t<tr><th scope=row>2</th><td>Toyota Corona</td><td>21.5         </td><td>4            </td><td>120.1        </td><td>97           </td><td>3.7          </td><td>2.465        </td><td>20.01        </td><td>1            </td><td>0            </td><td>3            </td><td>1            </td></tr>\n",
       "\t<tr><th scope=row>3</th><td>Datsun 710</td><td>22.8      </td><td>4         </td><td>108       </td><td>93        </td><td>3.85      </td><td>2.32      </td><td>18.61     </td><td>1         </td><td>1         </td><td>4         </td><td>1         </td></tr>\n",
       "\t<tr><th scope=row>4</th><td>Merc 230</td><td>22.8    </td><td>4       </td><td>140.8   </td><td>95      </td><td>3.92    </td><td>3.15    </td><td>22.9    </td><td>1       </td><td>0       </td><td>4       </td><td>2       </td></tr>\n",
       "\t<tr><th scope=row>5</th><td>Merc 240D</td><td>24.4     </td><td>4        </td><td>146.7    </td><td>62       </td><td>3.69     </td><td>3.19     </td><td>20       </td><td>1        </td><td>0        </td><td>4        </td><td>2        </td></tr>\n",
       "\t<tr><th scope=row>6</th><td>Porsche 914-2</td><td>26           </td><td>4            </td><td>120.3        </td><td>91           </td><td>4.43         </td><td>2.14         </td><td>16.7         </td><td>0            </td><td>1            </td><td>5            </td><td>2            </td></tr>\n",
       "\t<tr><th scope=row>7</th><td>Fiat X1-9</td><td>27.3     </td><td>4        </td><td>79       </td><td>66       </td><td>4.08     </td><td>1.935    </td><td>18.9     </td><td>1        </td><td>1        </td><td>4        </td><td>1        </td></tr>\n",
       "\t<tr><th scope=row>8</th><td>Honda Civic</td><td>30.4       </td><td>4          </td><td>75.7       </td><td>52         </td><td>4.93       </td><td>1.615      </td><td>18.52      </td><td>1          </td><td>1          </td><td>4          </td><td>2          </td></tr>\n",
       "\t<tr><th scope=row>9</th><td>Lotus Europa</td><td>30.4        </td><td>4           </td><td>95.1        </td><td>113         </td><td>3.77        </td><td>1.513       </td><td>16.9        </td><td>1           </td><td>1           </td><td>5           </td><td>2           </td></tr>\n",
       "\t<tr><th scope=row>10</th><td>Fiat 128</td><td>32.4    </td><td>4       </td><td>78.7    </td><td>66      </td><td>4.08    </td><td>2.2     </td><td>19.47   </td><td>1       </td><td>1       </td><td>4       </td><td>1       </td></tr>\n",
       "\t<tr><th scope=row>11</th><td>Toyota Corolla</td><td>33.9          </td><td>4             </td><td>71.1          </td><td>65            </td><td>4.22          </td><td>1.835         </td><td>19.9          </td><td>1             </td><td>1             </td><td>4             </td><td>1             </td></tr>\n",
       "\t<tr><th scope=row>12</th><td>Merc 280C</td><td>17.8     </td><td>6        </td><td>167.6    </td><td>123      </td><td>3.92     </td><td>3.44     </td><td>18.9     </td><td>1        </td><td>0        </td><td>4        </td><td>4        </td></tr>\n",
       "\t<tr><th scope=row>13</th><td>Valiant</td><td>18.1   </td><td>6      </td><td>225    </td><td>105    </td><td>2.76   </td><td>3.46   </td><td>20.22  </td><td>1      </td><td>0      </td><td>3      </td><td>1      </td></tr>\n",
       "\t<tr><th scope=row>14</th><td>Merc 280</td><td>19.2    </td><td>6       </td><td>167.6   </td><td>123     </td><td>3.92    </td><td>3.44    </td><td>18.3    </td><td>1       </td><td>0       </td><td>4       </td><td>4       </td></tr>\n",
       "\t<tr><th scope=row>15</th><td>Ferrari Dino</td><td>19.7        </td><td>6           </td><td>145         </td><td>175         </td><td>3.62        </td><td>2.77        </td><td>15.5        </td><td>0           </td><td>1           </td><td>5           </td><td>6           </td></tr>\n",
       "\t<tr><th scope=row>16</th><td>Mazda RX4</td><td>21       </td><td>6        </td><td>160      </td><td>110      </td><td>3.9      </td><td>2.62     </td><td>16.46    </td><td>0        </td><td>1        </td><td>4        </td><td>4        </td></tr>\n",
       "\t<tr><th scope=row>17</th><td>Mazda RX4 Wag</td><td>21           </td><td>6            </td><td>160          </td><td>110          </td><td>3.9          </td><td>2.875        </td><td>17.02        </td><td>0            </td><td>1            </td><td>4            </td><td>4            </td></tr>\n",
       "\t<tr><th scope=row>18</th><td>Hornet 4 Drive</td><td>21.4          </td><td>6             </td><td>258           </td><td>110           </td><td>3.08          </td><td>3.215         </td><td>19.44         </td><td>1             </td><td>0             </td><td>3             </td><td>1             </td></tr>\n",
       "\t<tr><th scope=row>19</th><td>Cadillac Fleetwood</td><td>10.4              </td><td>8                 </td><td>472               </td><td>205               </td><td>2.93              </td><td>5.25              </td><td>17.98             </td><td>0                 </td><td>0                 </td><td>3                 </td><td>4                 </td></tr>\n",
       "\t<tr><th scope=row>20</th><td>Lincoln Continental</td><td>10.4               </td><td>8                  </td><td>460                </td><td>215                </td><td>3                  </td><td>5.424              </td><td>17.82              </td><td>0                  </td><td>0                  </td><td>3                  </td><td>4                  </td></tr>\n",
       "\t<tr><th scope=row>21</th><td>Camaro Z28</td><td>13.3      </td><td>8         </td><td>350       </td><td>245       </td><td>3.73      </td><td>3.84      </td><td>15.41     </td><td>0         </td><td>0         </td><td>3         </td><td>4         </td></tr>\n",
       "\t<tr><th scope=row>22</th><td>Duster 360</td><td>14.3      </td><td>8         </td><td>360       </td><td>245       </td><td>3.21      </td><td>3.57      </td><td>15.84     </td><td>0         </td><td>0         </td><td>3         </td><td>4         </td></tr>\n",
       "\t<tr><th scope=row>23</th><td>Chrysler Imperial</td><td>14.7             </td><td>8                </td><td>440              </td><td>230              </td><td>3.23             </td><td>5.345            </td><td>17.42            </td><td>0                </td><td>0                </td><td>3                </td><td>4                </td></tr>\n",
       "\t<tr><th scope=row>24</th><td>Maserati Bora</td><td>15           </td><td>8            </td><td>301          </td><td>335          </td><td>3.54         </td><td>3.57         </td><td>14.6         </td><td>0            </td><td>1            </td><td>5            </td><td>8            </td></tr>\n",
       "\t<tr><th scope=row>25</th><td>Merc 450SLC</td><td>15.2       </td><td>8          </td><td>275.8      </td><td>180        </td><td>3.07       </td><td>3.78       </td><td>18         </td><td>0          </td><td>0          </td><td>3          </td><td>3          </td></tr>\n",
       "\t<tr><th scope=row>26</th><td>AMC Javelin</td><td>15.2       </td><td>8          </td><td>304        </td><td>150        </td><td>3.15       </td><td>3.435      </td><td>17.3       </td><td>0          </td><td>0          </td><td>3          </td><td>2          </td></tr>\n",
       "\t<tr><th scope=row>27</th><td>Dodge Challenger</td><td>15.5            </td><td>8               </td><td>318             </td><td>150             </td><td>2.76            </td><td>3.52            </td><td>16.87           </td><td>0               </td><td>0               </td><td>3               </td><td>2               </td></tr>\n",
       "\t<tr><th scope=row>28</th><td>Ford Pantera L</td><td>15.8          </td><td>8             </td><td>351           </td><td>264           </td><td>4.22          </td><td>3.17          </td><td>14.5          </td><td>0             </td><td>1             </td><td>5             </td><td>4             </td></tr>\n",
       "\t<tr><th scope=row>29</th><td>Merc 450SE</td><td>16.4      </td><td>8         </td><td>275.8     </td><td>180       </td><td>3.07      </td><td>4.07      </td><td>17.4      </td><td>0         </td><td>0         </td><td>3         </td><td>3         </td></tr>\n",
       "\t<tr><th scope=row>30</th><td>Merc 450SL</td><td>17.3      </td><td>8         </td><td>275.8     </td><td>180       </td><td>3.07      </td><td>3.73      </td><td>17.6      </td><td>0         </td><td>0         </td><td>3         </td><td>3         </td></tr>\n",
       "\t<tr><th scope=row>31</th><td>Hornet Sportabout</td><td>18.7             </td><td>8                </td><td>360              </td><td>175              </td><td>3.15             </td><td>3.44             </td><td>17.02            </td><td>0                </td><td>0                </td><td>3                </td><td>2                </td></tr>\n",
       "\t<tr><th scope=row>32</th><td>Pontiac Firebird</td><td>19.2            </td><td>8               </td><td>400             </td><td>175             </td><td>3.08            </td><td>3.845           </td><td>17.05           </td><td>0               </td><td>0               </td><td>3               </td><td>2               </td></tr>\n",
       "</tbody>\n",
       "</table>\n"
      ],
      "text/latex": [
       "\\begin{tabular}{r|llllllllllll}\n",
       "  & car & mpg & cyl & disp & hp & drat & wt & qsec & vs & am & gear & carb\\\\\n",
       "\\hline\n",
       "\t1 & Volvo 142E & 21.4       & 4          & 121        & 109        & 4.11       & 2.78       & 18.6       & 1          & 1          & 4          & 2         \\\\\n",
       "\t2 & Toyota Corona & 21.5          & 4             & 120.1         & 97            & 3.7           & 2.465         & 20.01         & 1             & 0             & 3             & 1            \\\\\n",
       "\t3 & Datsun 710 & 22.8       & 4          & 108        & 93         & 3.85       & 2.32       & 18.61      & 1          & 1          & 4          & 1         \\\\\n",
       "\t4 & Merc 230 & 22.8     & 4        & 140.8    & 95       & 3.92     & 3.15     & 22.9     & 1        & 0        & 4        & 2       \\\\\n",
       "\t5 & Merc 240D & 24.4      & 4         & 146.7     & 62        & 3.69      & 3.19      & 20        & 1         & 0         & 4         & 2        \\\\\n",
       "\t6 & Porsche 914-2 & 26            & 4             & 120.3         & 91            & 4.43          & 2.14          & 16.7          & 0             & 1             & 5             & 2            \\\\\n",
       "\t7 & Fiat X1-9 & 27.3      & 4         & 79        & 66        & 4.08      & 1.935     & 18.9      & 1         & 1         & 4         & 1        \\\\\n",
       "\t8 & Honda Civic & 30.4        & 4           & 75.7        & 52          & 4.93        & 1.615       & 18.52       & 1           & 1           & 4           & 2          \\\\\n",
       "\t9 & Lotus Europa & 30.4         & 4            & 95.1         & 113          & 3.77         & 1.513        & 16.9         & 1            & 1            & 5            & 2           \\\\\n",
       "\t10 & Fiat 128 & 32.4     & 4        & 78.7     & 66       & 4.08     & 2.2      & 19.47    & 1        & 1        & 4        & 1       \\\\\n",
       "\t11 & Toyota Corolla & 33.9           & 4              & 71.1           & 65             & 4.22           & 1.835          & 19.9           & 1              & 1              & 4              & 1             \\\\\n",
       "\t12 & Merc 280C & 17.8      & 6         & 167.6     & 123       & 3.92      & 3.44      & 18.9      & 1         & 0         & 4         & 4        \\\\\n",
       "\t13 & Valiant & 18.1    & 6       & 225     & 105     & 2.76    & 3.46    & 20.22   & 1       & 0       & 3       & 1      \\\\\n",
       "\t14 & Merc 280 & 19.2     & 6        & 167.6    & 123      & 3.92     & 3.44     & 18.3     & 1        & 0        & 4        & 4       \\\\\n",
       "\t15 & Ferrari Dino & 19.7         & 6            & 145          & 175          & 3.62         & 2.77         & 15.5         & 0            & 1            & 5            & 6           \\\\\n",
       "\t16 & Mazda RX4 & 21        & 6         & 160       & 110       & 3.9       & 2.62      & 16.46     & 0         & 1         & 4         & 4        \\\\\n",
       "\t17 & Mazda RX4 Wag & 21            & 6             & 160           & 110           & 3.9           & 2.875         & 17.02         & 0             & 1             & 4             & 4            \\\\\n",
       "\t18 & Hornet 4 Drive & 21.4           & 6              & 258            & 110            & 3.08           & 3.215          & 19.44          & 1              & 0              & 3              & 1             \\\\\n",
       "\t19 & Cadillac Fleetwood & 10.4               & 8                  & 472                & 205                & 2.93               & 5.25               & 17.98              & 0                  & 0                  & 3                  & 4                 \\\\\n",
       "\t20 & Lincoln Continental & 10.4                & 8                   & 460                 & 215                 & 3                   & 5.424               & 17.82               & 0                   & 0                   & 3                   & 4                  \\\\\n",
       "\t21 & Camaro Z28 & 13.3       & 8          & 350        & 245        & 3.73       & 3.84       & 15.41      & 0          & 0          & 3          & 4         \\\\\n",
       "\t22 & Duster 360 & 14.3       & 8          & 360        & 245        & 3.21       & 3.57       & 15.84      & 0          & 0          & 3          & 4         \\\\\n",
       "\t23 & Chrysler Imperial & 14.7              & 8                 & 440               & 230               & 3.23              & 5.345             & 17.42             & 0                 & 0                 & 3                 & 4                \\\\\n",
       "\t24 & Maserati Bora & 15            & 8             & 301           & 335           & 3.54          & 3.57          & 14.6          & 0             & 1             & 5             & 8            \\\\\n",
       "\t25 & Merc 450SLC & 15.2        & 8           & 275.8       & 180         & 3.07        & 3.78        & 18          & 0           & 0           & 3           & 3          \\\\\n",
       "\t26 & AMC Javelin & 15.2        & 8           & 304         & 150         & 3.15        & 3.435       & 17.3        & 0           & 0           & 3           & 2          \\\\\n",
       "\t27 & Dodge Challenger & 15.5             & 8                & 318              & 150              & 2.76             & 3.52             & 16.87            & 0                & 0                & 3                & 2               \\\\\n",
       "\t28 & Ford Pantera L & 15.8           & 8              & 351            & 264            & 4.22           & 3.17           & 14.5           & 0              & 1              & 5              & 4             \\\\\n",
       "\t29 & Merc 450SE & 16.4       & 8          & 275.8      & 180        & 3.07       & 4.07       & 17.4       & 0          & 0          & 3          & 3         \\\\\n",
       "\t30 & Merc 450SL & 17.3       & 8          & 275.8      & 180        & 3.07       & 3.73       & 17.6       & 0          & 0          & 3          & 3         \\\\\n",
       "\t31 & Hornet Sportabout & 18.7              & 8                 & 360               & 175               & 3.15              & 3.44              & 17.02             & 0                 & 0                 & 3                 & 2                \\\\\n",
       "\t32 & Pontiac Firebird & 19.2             & 8                & 400              & 175              & 3.08             & 3.845            & 17.05            & 0                & 0                & 3                & 2               \\\\\n",
       "\\end{tabular}\n"
      ],
      "text/plain": [
       "                   car  mpg cyl  disp  hp drat    wt  qsec vs am gear carb\n",
       "1           Volvo 142E 21.4   4 121.0 109 4.11 2.780 18.60  1  1    4    2\n",
       "2        Toyota Corona 21.5   4 120.1  97 3.70 2.465 20.01  1  0    3    1\n",
       "3           Datsun 710 22.8   4 108.0  93 3.85 2.320 18.61  1  1    4    1\n",
       "4             Merc 230 22.8   4 140.8  95 3.92 3.150 22.90  1  0    4    2\n",
       "5            Merc 240D 24.4   4 146.7  62 3.69 3.190 20.00  1  0    4    2\n",
       "6        Porsche 914-2 26.0   4 120.3  91 4.43 2.140 16.70  0  1    5    2\n",
       "7            Fiat X1-9 27.3   4  79.0  66 4.08 1.935 18.90  1  1    4    1\n",
       "8          Honda Civic 30.4   4  75.7  52 4.93 1.615 18.52  1  1    4    2\n",
       "9         Lotus Europa 30.4   4  95.1 113 3.77 1.513 16.90  1  1    5    2\n",
       "10            Fiat 128 32.4   4  78.7  66 4.08 2.200 19.47  1  1    4    1\n",
       "11      Toyota Corolla 33.9   4  71.1  65 4.22 1.835 19.90  1  1    4    1\n",
       "12           Merc 280C 17.8   6 167.6 123 3.92 3.440 18.90  1  0    4    4\n",
       "13             Valiant 18.1   6 225.0 105 2.76 3.460 20.22  1  0    3    1\n",
       "14            Merc 280 19.2   6 167.6 123 3.92 3.440 18.30  1  0    4    4\n",
       "15        Ferrari Dino 19.7   6 145.0 175 3.62 2.770 15.50  0  1    5    6\n",
       "16           Mazda RX4 21.0   6 160.0 110 3.90 2.620 16.46  0  1    4    4\n",
       "17       Mazda RX4 Wag 21.0   6 160.0 110 3.90 2.875 17.02  0  1    4    4\n",
       "18      Hornet 4 Drive 21.4   6 258.0 110 3.08 3.215 19.44  1  0    3    1\n",
       "19  Cadillac Fleetwood 10.4   8 472.0 205 2.93 5.250 17.98  0  0    3    4\n",
       "20 Lincoln Continental 10.4   8 460.0 215 3.00 5.424 17.82  0  0    3    4\n",
       "21          Camaro Z28 13.3   8 350.0 245 3.73 3.840 15.41  0  0    3    4\n",
       "22          Duster 360 14.3   8 360.0 245 3.21 3.570 15.84  0  0    3    4\n",
       "23   Chrysler Imperial 14.7   8 440.0 230 3.23 5.345 17.42  0  0    3    4\n",
       "24       Maserati Bora 15.0   8 301.0 335 3.54 3.570 14.60  0  1    5    8\n",
       "25         Merc 450SLC 15.2   8 275.8 180 3.07 3.780 18.00  0  0    3    3\n",
       "26         AMC Javelin 15.2   8 304.0 150 3.15 3.435 17.30  0  0    3    2\n",
       "27    Dodge Challenger 15.5   8 318.0 150 2.76 3.520 16.87  0  0    3    2\n",
       "28      Ford Pantera L 15.8   8 351.0 264 4.22 3.170 14.50  0  1    5    4\n",
       "29          Merc 450SE 16.4   8 275.8 180 3.07 4.070 17.40  0  0    3    3\n",
       "30          Merc 450SL 17.3   8 275.8 180 3.07 3.730 17.60  0  0    3    3\n",
       "31   Hornet Sportabout 18.7   8 360.0 175 3.15 3.440 17.02  0  0    3    2\n",
       "32    Pontiac Firebird 19.2   8 400.0 175 3.08 3.845 17.05  0  0    3    2"
      ]
     },
     "metadata": {},
     "output_type": "display_data"
    }
   ],
   "source": [
    "arrange(mtcars2, cyl, mpg)"
   ]
  },
  {
   "cell_type": "code",
   "execution_count": 59,
   "metadata": {
    "collapsed": false
   },
   "outputs": [
    {
     "data": {
      "text/html": [
       "<table>\n",
       "<thead><tr><th></th><th scope=col>car</th><th scope=col>pw</th><th scope=col>mpg</th></tr></thead>\n",
       "<tbody>\n",
       "\t<tr><th scope=row>1</th><td>Maserati Bora   </td><td>93.8375350140056</td><td>15              </td></tr>\n",
       "\t<tr><th scope=row>2</th><td>Ford Pantera L  </td><td>83.2807570977918</td><td>15.8            </td></tr>\n",
       "\t<tr><th scope=row>3</th><td>Lotus Europa    </td><td>74.6860541969597</td><td>30.4            </td></tr>\n",
       "\t<tr><th scope=row>4</th><td>Duster 360      </td><td>68.6274509803922</td><td>14.3            </td></tr>\n",
       "</tbody>\n",
       "</table>\n"
      ],
      "text/latex": [
       "\\begin{tabular}{r|lll}\n",
       "  & car & pw & mpg\\\\\n",
       "\\hline\n",
       "\t1 & Maserati Bora    & 93.8375350140056 & 15              \\\\\n",
       "\t2 & Ford Pantera L   & 83.2807570977918 & 15.8            \\\\\n",
       "\t3 & Lotus Europa     & 74.6860541969597 & 30.4            \\\\\n",
       "\t4 & Duster 360       & 68.6274509803922 & 14.3            \\\\\n",
       "\\end{tabular}\n"
      ],
      "text/plain": [
       "             car       pw  mpg\n",
       "1  Maserati Bora 93.83754 15.0\n",
       "2 Ford Pantera L 83.28076 15.8\n",
       "3   Lotus Europa 74.68605 30.4\n",
       "4     Duster 360 68.62745 14.3"
      ]
     },
     "metadata": {},
     "output_type": "display_data"
    }
   ],
   "source": [
    "transform(mtcars2, pw = hp / wt) %>% arrange(-pw) %>% select(car, pw, mpg) %>% slice(1:4)"
   ]
  },
  {
   "cell_type": "code",
   "execution_count": 60,
   "metadata": {
    "collapsed": false
   },
   "outputs": [
    {
     "data": {
      "text/html": [
       "<table>\n",
       "<thead><tr><th></th><th scope=col>cyl</th></tr></thead>\n",
       "<tbody>\n",
       "\t<tr><th scope=row>1</th><td>6</td></tr>\n",
       "\t<tr><th scope=row>2</th><td>4</td></tr>\n",
       "\t<tr><th scope=row>3</th><td>8</td></tr>\n",
       "</tbody>\n",
       "</table>\n"
      ],
      "text/latex": [
       "\\begin{tabular}{r|l}\n",
       "  & cyl\\\\\n",
       "\\hline\n",
       "\t1 & 6\\\\\n",
       "\t2 & 4\\\\\n",
       "\t3 & 8\\\\\n",
       "\\end{tabular}\n"
      ],
      "text/plain": [
       "  cyl\n",
       "1   6\n",
       "2   4\n",
       "3   8"
      ]
     },
     "metadata": {},
     "output_type": "display_data"
    }
   ],
   "source": [
    "distinct(mtcars2, cyl)"
   ]
  },
  {
   "cell_type": "code",
   "execution_count": 62,
   "metadata": {
    "collapsed": false
   },
   "outputs": [
    {
     "data": {
      "text/html": [
       "<table>\n",
       "<thead><tr><th></th><th scope=col>cyl</th><th scope=col>count</th><th scope=col>avg_mpg</th><th scope=col>avg_hp</th></tr></thead>\n",
       "<tbody>\n",
       "\t<tr><th scope=row>1</th><td> 4.00000</td><td>11.00000</td><td>26.66364</td><td>82.63636</td></tr>\n",
       "\t<tr><th scope=row>2</th><td>  6.00000</td><td>  7.00000</td><td> 19.74286</td><td>122.28571</td></tr>\n",
       "\t<tr><th scope=row>3</th><td>  8.0000</td><td> 14.0000</td><td> 15.1000</td><td>209.2143</td></tr>\n",
       "</tbody>\n",
       "</table>\n"
      ],
      "text/latex": [
       "\\begin{tabular}{r|llll}\n",
       "  & cyl & count & avg\\_mpg & avg\\_hp\\\\\n",
       "\\hline\n",
       "\t1 &  4.00000 & 11.00000 & 26.66364 & 82.63636\\\\\n",
       "\t2 &   6.00000 &   7.00000 &  19.74286 & 122.28571\\\\\n",
       "\t3 &   8.0000 &  14.0000 &  15.1000 & 209.2143\\\\\n",
       "\\end{tabular}\n"
      ],
      "text/plain": [
       "  cyl count  avg_mpg    avg_hp\n",
       "1   4    11 26.66364  82.63636\n",
       "2   6     7 19.74286 122.28571\n",
       "3   8    14 15.10000 209.21429"
      ]
     },
     "metadata": {},
     "output_type": "display_data"
    }
   ],
   "source": [
    "group_by(mtcars2, cyl) %>% summarise(count = n(), avg_mpg = mean(mpg), avg_hp = mean(hp))"
   ]
  },
  {
   "cell_type": "code",
   "execution_count": 64,
   "metadata": {
    "collapsed": false
   },
   "outputs": [
    {
     "data": {},
     "metadata": {},
     "output_type": "display_data"
    },
    {
     "data": {
      "image/png": "[encoded data removed]",
      "text/plain": [
       "plot without title"
      ]
     },
     "metadata": {},
     "output_type": "display_data"
    }
   ],
   "source": [
    "library(ggplot2)\n",
    "ggplot(mtcars2, aes(x = hp, y=mpg)) + geom_point(aes(colour = as.factor(cyl)))"
   ]
  },
  {
   "cell_type": "code",
   "execution_count": 3,
   "metadata": {
    "collapsed": true
   },
   "outputs": [],
   "source": [
    "letters <- read.table(\"letter-recognition.data\", sep=\",\", header=FALSE);"
   ]
  },
  {
   "cell_type": "code",
   "execution_count": 4,
   "metadata": {
    "collapsed": true
   },
   "outputs": [],
   "source": [
    "colnames(letters) <- c(\"Letter\", \"Xbox\", \"Ybox\", \"Width\", \"Height\",\n",
    "                       \"OnPix\", \"Xbar\", \"Ybar\", \"X2bar\", \"Y2bar\",\n",
    "                       \"XYbar\", \"X2Ybar\", \"XY2bar\", \"Xedge\",\n",
    "                       \"XedgeXY\", \"Yedge\", \"YedgeYX\");\n"
   ]
  },
  {
   "cell_type": "code",
   "execution_count": 5,
   "metadata": {
    "collapsed": false
   },
   "outputs": [
    {
     "data": {
      "text/html": [
       "<ol class=list-inline>\n",
       "\t<li>20000</li>\n",
       "\t<li>17</li>\n",
       "</ol>\n"
      ],
      "text/latex": [
       "\\begin{enumerate*}\n",
       "\\item 20000\n",
       "\\item 17\n",
       "\\end{enumerate*}\n"
      ],
      "text/markdown": [
       "1. 20000\n",
       "2. 17\n",
       "\n",
       "\n"
      ],
      "text/plain": [
       "[1] 20000    17"
      ]
     },
     "metadata": {},
     "output_type": "display_data"
    }
   ],
   "source": [
    "dim(letters)"
   ]
  },
  {
   "cell_type": "code",
   "execution_count": 8,
   "metadata": {
    "collapsed": false
   },
   "outputs": [
    {
     "name": "stderr",
     "output_type": "stream",
     "text": [
      "\n",
      "Attaching package: ‘dplyr’\n",
      "\n",
      "The following objects are masked from ‘package:stats’:\n",
      "\n",
      "    filter, lag\n",
      "\n",
      "The following objects are masked from ‘package:base’:\n",
      "\n",
      "    intersect, setdiff, setequal, union\n",
      "\n"
     ]
    }
   ],
   "source": [
    "library(dplyr)\n",
    "mtx <- scale(select(letters, -Letter))"
   ]
  },
  {
   "cell_type": "code",
   "execution_count": 9,
   "metadata": {
    "collapsed": false
   },
   "outputs": [
    {
     "data": {
      "text/html": [
       "<table>\n",
       "<thead><tr><th scope=col>Xbox</th><th scope=col>Ybox</th><th scope=col>Width</th><th scope=col>Height</th><th scope=col>OnPix</th><th scope=col>Xbar</th><th scope=col>Ybar</th><th scope=col>X2bar</th><th scope=col>Y2bar</th><th scope=col>XYbar</th><th scope=col>X2Ybar</th><th scope=col>XY2bar</th><th scope=col>Xedge</th><th scope=col>XedgeXY</th><th scope=col>Yedge</th><th scope=col>YedgeYX</th></tr></thead>\n",
       "<tbody>\n",
       "\t<tr><td>-1.05767185</td><td> 0.29186983</td><td>-1.05325034</td><td>-0.16469956</td><td>-1.14398457</td><td> 0.54411685</td><td> 2.36503799</td><td>-1.71431669</td><td> 0.34498576</td><td>-0.91704762</td><td> 1.34774058</td><td> 0.03412446</td><td>-1.30591496</td><td>-0.21907615</td><td>-1.43811674</td><td> 0.12290799</td></tr>\n",
       "\t<tr><td> 0.5103722</td><td> 1.5023201</td><td>-1.0532503</td><td> 0.7197121</td><td>-0.6874590</td><td> 1.5312664</td><td>-1.0752987</td><td> 0.1375572</td><td>-0.4950599</td><td> 1.8959203</td><td>-1.3127738</td><td> 0.5147507</td><td>-0.4484809</td><td>-0.2190762</td><td> 0.1200784</td><td> 1.3594069</td></tr>\n",
       "\t<tr><td>-0.01230915</td><td> 1.19970757</td><td> 0.43589876</td><td> 1.16191789</td><td> 1.13864322</td><td> 1.53126643</td><td>-0.64525666</td><td>-0.97356714</td><td> 0.34498576</td><td> 0.69036259</td><td>-1.31277382</td><td>-0.44650174</td><td>-0.01976386</td><td>-0.86560456</td><td>-0.26947037</td><td> 0.74115746</td></tr>\n",
       "\t<tr><td> 1.5557349</td><td> 1.1997076</td><td> 0.4358988</td><td> 0.2775063</td><td>-0.2309335</td><td>-0.9366075</td><td> 0.6448696</td><td>-0.2328176</td><td> 0.3449858</td><td>-1.7207527</td><td>-0.9327003</td><td> 0.9953769</td><td> 1.2663873</td><td> 1.0739807</td><td>-0.6590192</td><td> 0.1229080</td></tr>\n",
       "\t<tr><td>-1.0576719</td><td>-1.8264182</td><td>-1.0532503</td><td>-1.9335228</td><td>-1.1439846</td><td> 0.5441168</td><td>-0.6452567</td><td> 0.5079320</td><td> 0.3449858</td><td>-0.9170476</td><td>-0.5526268</td><td> 0.5147507</td><td>-0.8771979</td><td>-0.8656046</td><td> 0.5096272</td><td> 1.3594069</td></tr>\n",
       "\t<tr><td>-0.01230915</td><td> 1.19970757</td><td>-0.06048427</td><td> 1.16191789</td><td>-0.23093345</td><td> 0.54411685</td><td> 0.21482753</td><td> 0.50793197</td><td> 1.60505430</td><td>-1.31890017</td><td>-0.17255336</td><td>-0.92712793</td><td>-1.30591496</td><td>-0.21907615</td><td> 2.06782236</td><td>-0.49534147</td></tr>\n",
       "</tbody>\n",
       "</table>\n"
      ],
      "text/latex": [
       "\\begin{tabular}{llllllllllllllll}\n",
       " Xbox & Ybox & Width & Height & OnPix & Xbar & Ybar & X2bar & Y2bar & XYbar & X2Ybar & XY2bar & Xedge & XedgeXY & Yedge & YedgeYX\\\\\n",
       "\\hline\n",
       "\t -1.05767185 &  0.29186983 & -1.05325034 & -0.16469956 & -1.14398457 &  0.54411685 &  2.36503799 & -1.71431669 &  0.34498576 & -0.91704762 &  1.34774058 &  0.03412446 & -1.30591496 & -0.21907615 & -1.43811674 &  0.12290799\\\\\n",
       "\t  0.5103722 &  1.5023201 & -1.0532503 &  0.7197121 & -0.6874590 &  1.5312664 & -1.0752987 &  0.1375572 & -0.4950599 &  1.8959203 & -1.3127738 &  0.5147507 & -0.4484809 & -0.2190762 &  0.1200784 &  1.3594069\\\\\n",
       "\t -0.01230915 &  1.19970757 &  0.43589876 &  1.16191789 &  1.13864322 &  1.53126643 & -0.64525666 & -0.97356714 &  0.34498576 &  0.69036259 & -1.31277382 & -0.44650174 & -0.01976386 & -0.86560456 & -0.26947037 &  0.74115746\\\\\n",
       "\t  1.5557349 &  1.1997076 &  0.4358988 &  0.2775063 & -0.2309335 & -0.9366075 &  0.6448696 & -0.2328176 &  0.3449858 & -1.7207527 & -0.9327003 &  0.9953769 &  1.2663873 &  1.0739807 & -0.6590192 &  0.1229080\\\\\n",
       "\t -1.0576719 & -1.8264182 & -1.0532503 & -1.9335228 & -1.1439846 &  0.5441168 & -0.6452567 &  0.5079320 &  0.3449858 & -0.9170476 & -0.5526268 &  0.5147507 & -0.8771979 & -0.8656046 &  0.5096272 &  1.3594069\\\\\n",
       "\t -0.01230915 &  1.19970757 & -0.06048427 &  1.16191789 & -0.23093345 &  0.54411685 &  0.21482753 &  0.50793197 &  1.60505430 & -1.31890017 & -0.17255336 & -0.92712793 & -1.30591496 & -0.21907615 &  2.06782236 & -0.49534147\\\\\n",
       "\\end{tabular}\n"
      ],
      "text/markdown": [
       "1. -1.05767185293769\n",
       "2. 0.51037220765536\n",
       "3. -0.0123091458756555\n",
       "4. 1.55573491471739\n",
       "5. -1.05767185293769\n",
       "6. -0.0123091458756555\n",
       "7. 0.291869831611198\n",
       "8. 1.50232014415116\n",
       "9. 1.19970756601617\n",
       "10. 1.19970756601617\n",
       "11. -1.82641821533373\n",
       "12. 1.19970756601617\n",
       "13. -1.0532503436175\n",
       "14. -1.0532503436175\n",
       "15. 0.435898762517477\n",
       "16. 0.435898762517477\n",
       "17. -1.0532503436175\n",
       "18. -0.0604842728608491\n",
       "19. -0.16469955586395\n",
       "20. 0.719712074496906\n",
       "21. 1.16191788967733\n",
       "22. 0.277506259316478\n",
       "23. -1.93352281658566\n",
       "24. 1.16191788967733\n",
       "25. -1.14398456763605\n",
       "26. -0.687459010385598\n",
       "27. 1.13864321861622\n",
       "28. -0.230933453135143\n",
       "29. -1.14398456763605\n",
       "30. -0.230933453135143\n",
       "31. 0.544116847501113\n",
       "32. 1.53126642569617\n",
       "33. 1.53126642569617\n",
       "34. -0.936607519791466\n",
       "35. 0.544116847501113\n",
       "36. 0.544116847501113\n",
       "37. 2.3650379861456\n",
       "38. -1.07529874852629\n",
       "39. -0.645256656692306\n",
       "40. 0.644869618809656\n",
       "41. -0.645256656692306\n",
       "42. 0.214827526975668\n",
       "43. -1.71431669286774\n",
       "44. 0.137557192181454\n",
       "45. -0.973567138848062\n",
       "46. -0.232817584828385\n",
       "47. 0.507931969191293\n",
       "48. 0.507931969191293\n",
       "49. 0.344985763687038\n",
       "50. -0.495059926182172\n",
       "51. 0.344985763687038\n",
       "52. 0.344985763687038\n",
       "53. 0.344985763687038\n",
       "54. 1.60505429849085\n",
       "55. -0.917047619208956\n",
       "56. 1.89592025373979\n",
       "57. 0.690362593904615\n",
       "58. -1.72075272576574\n",
       "59. -0.917047619208956\n",
       "60. -1.31890017248735\n",
       "61. 1.34774057695721\n",
       "62. -1.31277381635933\n",
       "63. -1.31277381635933\n",
       "64. -0.932700331599828\n",
       "65. -0.552626846840322\n",
       "66. -0.172553362080816\n",
       "67. 0.0341244599755994\n",
       "68. 0.51475065681503\n",
       "69. -0.446501736863831\n",
       "70. 0.99537685365446\n",
       "71. 0.51475065681503\n",
       "72. -0.927127933703262\n",
       "73. -1.30591496268215\n",
       "74. -0.448480891126949\n",
       "75. -0.0197638553493475\n",
       "76. 1.26638725198346\n",
       "77. -0.877197926904551\n",
       "78. -1.30591496268215\n",
       "79. -0.219076152283836\n",
       "80. -0.219076152283836\n",
       "81. -0.865604563922719\n",
       "82. 1.07398067099393\n",
       "83. -0.865604563922719\n",
       "84. -0.219076152283836\n",
       "85. -1.43811674235494\n",
       "86. 0.120078414256358\n",
       "87. -0.269470374896466\n",
       "88. -0.659019164049289\n",
       "89. 0.509627203409181\n",
       "90. 2.06782236002047\n",
       "91. 0.122907994310516\n",
       "92. 1.35940693103603\n",
       "93. 0.741157462673272\n",
       "94. 0.122907994310516\n",
       "95. 1.35940693103603\n",
       "96. -0.49534147405224\n",
       "\n",
       "\n"
      ],
      "text/plain": [
       "            Xbox       Ybox       Width     Height      OnPix       Xbar\n",
       "[1,] -1.05767185  0.2918698 -1.05325034 -0.1646996 -1.1439846  0.5441168\n",
       "[2,]  0.51037221  1.5023201 -1.05325034  0.7197121 -0.6874590  1.5312664\n",
       "[3,] -0.01230915  1.1997076  0.43589876  1.1619179  1.1386432  1.5312664\n",
       "[4,]  1.55573491  1.1997076  0.43589876  0.2775063 -0.2309335 -0.9366075\n",
       "[5,] -1.05767185 -1.8264182 -1.05325034 -1.9335228 -1.1439846  0.5441168\n",
       "[6,] -0.01230915  1.1997076 -0.06048427  1.1619179 -0.2309335  0.5441168\n",
       "           Ybar      X2bar      Y2bar      XYbar     X2Ybar      XY2bar\n",
       "[1,]  2.3650380 -1.7143167  0.3449858 -0.9170476  1.3477406  0.03412446\n",
       "[2,] -1.0752987  0.1375572 -0.4950599  1.8959203 -1.3127738  0.51475066\n",
       "[3,] -0.6452567 -0.9735671  0.3449858  0.6903626 -1.3127738 -0.44650174\n",
       "[4,]  0.6448696 -0.2328176  0.3449858 -1.7207527 -0.9327003  0.99537685\n",
       "[5,] -0.6452567  0.5079320  0.3449858 -0.9170476 -0.5526268  0.51475066\n",
       "[6,]  0.2148275  0.5079320  1.6050543 -1.3189002 -0.1725534 -0.92712793\n",
       "           Xedge    XedgeXY      Yedge    YedgeYX\n",
       "[1,] -1.30591496 -0.2190762 -1.4381167  0.1229080\n",
       "[2,] -0.44848089 -0.2190762  0.1200784  1.3594069\n",
       "[3,] -0.01976386 -0.8656046 -0.2694704  0.7411575\n",
       "[4,]  1.26638725  1.0739807 -0.6590192  0.1229080\n",
       "[5,] -0.87719793 -0.8656046  0.5096272  1.3594069\n",
       "[6,] -1.30591496 -0.2190762  2.0678224 -0.4953415"
      ]
     },
     "metadata": {},
     "output_type": "display_data"
    }
   ],
   "source": [
    "head(mtx)"
   ]
  },
  {
   "cell_type": "code",
   "execution_count": 10,
   "metadata": {
    "collapsed": false
   },
   "outputs": [],
   "source": [
    "cm <- (t(mtx) %*% mtx) /(nrow(mtx) + 1)"
   ]
  },
  {
   "cell_type": "code",
   "execution_count": 12,
   "metadata": {
    "collapsed": false
   },
   "outputs": [
    {
     "data": {
      "text/html": [
       "<table>\n",
       "<thead><tr><th></th><th scope=col>Xbox</th><th scope=col>Ybox</th><th scope=col>Width</th><th scope=col>Height</th><th scope=col>OnPix</th><th scope=col>Xbar</th><th scope=col>Ybar</th><th scope=col>X2bar</th><th scope=col>Y2bar</th><th scope=col>XYbar</th><th scope=col>X2Ybar</th><th scope=col>XY2bar</th><th scope=col>Xedge</th><th scope=col>XedgeXY</th><th scope=col>Yedge</th><th scope=col>YedgeYX</th></tr></thead>\n",
       "<tbody>\n",
       "\t<tr><th scope=row>Xbox</th><td> 0.99990</td><td> 0.75772</td><td> 0.85143</td><td> 0.67270</td><td> 0.61903</td><td>-0.03259</td><td> 0.04554</td><td> 0.01430</td><td> 0.05208</td><td> 0.14804</td><td> 0.03546</td><td>-0.04633</td><td> 0.48911</td><td> 0.09817</td><td> 0.27348</td><td>-0.10514</td></tr>\n",
       "\t<tr><th scope=row>Ybox</th><td> 0.75772</td><td> 0.99990</td><td> 0.67184</td><td> 0.82312</td><td> 0.55501</td><td> 0.04569</td><td>-0.04092</td><td>-0.02502</td><td> 0.09647</td><td> 0.15994</td><td>-0.05464</td><td>-0.00757</td><td> 0.27440</td><td>-0.00134</td><td> 0.23086</td><td>-0.04274</td></tr>\n",
       "\t<tr><th scope=row>Width</th><td> 0.85143</td><td> 0.67184</td><td> 0.99990</td><td> 0.66015</td><td> 0.76564</td><td> 0.06195</td><td> 0.02483</td><td>-0.09860</td><td> 0.05707</td><td> 0.11501</td><td> 0.01169</td><td>-0.04500</td><td> 0.55720</td><td> 0.04565</td><td> 0.26026</td><td>-0.11826</td></tr>\n",
       "\t<tr><th scope=row>Height</th><td> 0.67270</td><td> 0.82312</td><td> 0.66015</td><td> 0.99990</td><td> 0.64430</td><td> 0.04284</td><td>-0.02007</td><td> 0.08237</td><td> 0.05903</td><td> 0.01246</td><td>-0.01199</td><td> 0.02638</td><td> 0.26522</td><td> 0.02536</td><td> 0.29752</td><td>-0.01885</td></tr>\n",
       "\t<tr><th scope=row>OnPix</th><td> 0.61903</td><td> 0.55501</td><td> 0.76564</td><td> 0.64430</td><td> 0.99990</td><td> 0.13915</td><td>-0.02882</td><td>-0.01198</td><td>-0.06555</td><td>-0.06977</td><td>-0.07293</td><td>-0.03885</td><td> 0.62744</td><td> 0.01765</td><td> 0.49260</td><td>-0.06296</td></tr>\n",
       "\t<tr><th scope=row>Xbar</th><td>-0.03259</td><td> 0.04569</td><td> 0.06195</td><td> 0.04284</td><td> 0.13915</td><td> 0.99990</td><td>-0.35654</td><td>-0.05330</td><td>-0.12284</td><td> 0.08595</td><td>-0.34192</td><td>-0.03211</td><td> 0.14431</td><td>-0.25331</td><td> 0.12704</td><td> 0.24879</td></tr>\n",
       "\t<tr><th scope=row>Ybar</th><td> 0.04554</td><td>-0.04092</td><td> 0.02483</td><td>-0.02007</td><td>-0.02882</td><td>-0.35654</td><td> 0.99990</td><td>-0.11861</td><td>-0.04965</td><td> 0.17830</td><td> 0.60034</td><td>-0.27162</td><td>-0.03672</td><td> 0.55500</td><td>-0.07800</td><td>-0.20788</td></tr>\n",
       "\t<tr><th scope=row>X2bar</th><td> 0.01430</td><td>-0.02502</td><td>-0.09860</td><td> 0.08237</td><td>-0.01198</td><td>-0.05330</td><td>-0.11861</td><td> 0.99990</td><td>-0.18841</td><td>-0.31775</td><td> 0.04254</td><td> 0.08201</td><td> 0.14212</td><td>-0.08481</td><td> 0.00655</td><td> 0.18288</td></tr>\n",
       "\t<tr><th scope=row>Y2bar</th><td> 0.05208</td><td> 0.09647</td><td> 0.05707</td><td> 0.05903</td><td>-0.06555</td><td>-0.12284</td><td>-0.04965</td><td>-0.18841</td><td> 0.99990</td><td> 0.13199</td><td>-0.06011</td><td> 0.11904</td><td>-0.38398</td><td>-0.05254</td><td> 0.27751</td><td>-0.06133</td></tr>\n",
       "\t<tr><th scope=row>XYbar</th><td> 0.14804</td><td> 0.15994</td><td> 0.11501</td><td> 0.01246</td><td>-0.06977</td><td> 0.08595</td><td> 0.17830</td><td>-0.31775</td><td> 0.13199</td><td> 0.99990</td><td> 0.05798</td><td>-0.10675</td><td>-0.17566</td><td> 0.02942</td><td>-0.08701</td><td>-0.11421</td></tr>\n",
       "\t<tr><th scope=row>X2Ybar</th><td> 0.03546</td><td>-0.05464</td><td> 0.01169</td><td>-0.01199</td><td>-0.07293</td><td>-0.34192</td><td> 0.60034</td><td> 0.04254</td><td>-0.06011</td><td> 0.05798</td><td> 0.99990</td><td> 0.06321</td><td> 0.05356</td><td> 0.52719</td><td>-0.22623</td><td>-0.23649</td></tr>\n",
       "\t<tr><th scope=row>XY2bar</th><td>-0.04633</td><td>-0.00757</td><td>-0.04500</td><td> 0.02638</td><td>-0.03885</td><td>-0.03211</td><td>-0.27162</td><td> 0.08201</td><td> 0.11904</td><td>-0.10675</td><td> 0.06321</td><td> 0.99990</td><td>-0.00875</td><td>-0.18491</td><td> 0.04969</td><td> 0.24578</td></tr>\n",
       "\t<tr><th scope=row>Xedge</th><td> 0.48911</td><td> 0.27440</td><td> 0.55720</td><td> 0.26522</td><td> 0.62744</td><td> 0.14431</td><td>-0.03672</td><td> 0.14212</td><td>-0.38398</td><td>-0.17566</td><td> 0.05356</td><td>-0.00875</td><td> 0.99990</td><td> 0.00285</td><td> 0.10840</td><td>-0.04978</td></tr>\n",
       "\t<tr><th scope=row>XedgeXY</th><td> 0.09817</td><td>-0.00134</td><td> 0.04565</td><td> 0.02536</td><td> 0.01765</td><td>-0.25331</td><td> 0.55500</td><td>-0.08481</td><td>-0.05254</td><td> 0.02942</td><td> 0.52719</td><td>-0.18491</td><td> 0.00285</td><td> 0.99990</td><td>-0.06440</td><td>-0.18757</td></tr>\n",
       "\t<tr><th scope=row>Yedge</th><td> 0.27348</td><td> 0.23086</td><td> 0.26026</td><td> 0.29752</td><td> 0.49260</td><td> 0.12704</td><td>-0.07800</td><td> 0.00655</td><td> 0.27751</td><td>-0.08701</td><td>-0.22623</td><td> 0.04969</td><td> 0.10840</td><td>-0.06440</td><td> 0.99990</td><td> 0.14357</td></tr>\n",
       "\t<tr><th scope=row>YedgeYX</th><td>-0.10514</td><td>-0.04274</td><td>-0.11826</td><td>-0.01885</td><td>-0.06296</td><td> 0.24879</td><td>-0.20788</td><td> 0.18288</td><td>-0.06133</td><td>-0.11421</td><td>-0.23649</td><td> 0.24578</td><td>-0.04978</td><td>-0.18757</td><td> 0.14357</td><td> 0.99990</td></tr>\n",
       "</tbody>\n",
       "</table>\n"
      ],
      "text/latex": [
       "\\begin{tabular}{r|llllllllllllllll}\n",
       "  & Xbox & Ybox & Width & Height & OnPix & Xbar & Ybar & X2bar & Y2bar & XYbar & X2Ybar & XY2bar & Xedge & XedgeXY & Yedge & YedgeYX\\\\\n",
       "\\hline\n",
       "\tXbox &  0.99990 &  0.75772 &  0.85143 &  0.67270 &  0.61903 & -0.03259 &  0.04554 &  0.01430 &  0.05208 &  0.14804 &  0.03546 & -0.04633 &  0.48911 &  0.09817 &  0.27348 & -0.10514\\\\\n",
       "\tYbox &  0.75772 &  0.99990 &  0.67184 &  0.82312 &  0.55501 &  0.04569 & -0.04092 & -0.02502 &  0.09647 &  0.15994 & -0.05464 & -0.00757 &  0.27440 & -0.00134 &  0.23086 & -0.04274\\\\\n",
       "\tWidth &  0.85143 &  0.67184 &  0.99990 &  0.66015 &  0.76564 &  0.06195 &  0.02483 & -0.09860 &  0.05707 &  0.11501 &  0.01169 & -0.04500 &  0.55720 &  0.04565 &  0.26026 & -0.11826\\\\\n",
       "\tHeight &  0.67270 &  0.82312 &  0.66015 &  0.99990 &  0.64430 &  0.04284 & -0.02007 &  0.08237 &  0.05903 &  0.01246 & -0.01199 &  0.02638 &  0.26522 &  0.02536 &  0.29752 & -0.01885\\\\\n",
       "\tOnPix &  0.61903 &  0.55501 &  0.76564 &  0.64430 &  0.99990 &  0.13915 & -0.02882 & -0.01198 & -0.06555 & -0.06977 & -0.07293 & -0.03885 &  0.62744 &  0.01765 &  0.49260 & -0.06296\\\\\n",
       "\tXbar & -0.03259 &  0.04569 &  0.06195 &  0.04284 &  0.13915 &  0.99990 & -0.35654 & -0.05330 & -0.12284 &  0.08595 & -0.34192 & -0.03211 &  0.14431 & -0.25331 &  0.12704 &  0.24879\\\\\n",
       "\tYbar &  0.04554 & -0.04092 &  0.02483 & -0.02007 & -0.02882 & -0.35654 &  0.99990 & -0.11861 & -0.04965 &  0.17830 &  0.60034 & -0.27162 & -0.03672 &  0.55500 & -0.07800 & -0.20788\\\\\n",
       "\tX2bar &  0.01430 & -0.02502 & -0.09860 &  0.08237 & -0.01198 & -0.05330 & -0.11861 &  0.99990 & -0.18841 & -0.31775 &  0.04254 &  0.08201 &  0.14212 & -0.08481 &  0.00655 &  0.18288\\\\\n",
       "\tY2bar &  0.05208 &  0.09647 &  0.05707 &  0.05903 & -0.06555 & -0.12284 & -0.04965 & -0.18841 &  0.99990 &  0.13199 & -0.06011 &  0.11904 & -0.38398 & -0.05254 &  0.27751 & -0.06133\\\\\n",
       "\tXYbar &  0.14804 &  0.15994 &  0.11501 &  0.01246 & -0.06977 &  0.08595 &  0.17830 & -0.31775 &  0.13199 &  0.99990 &  0.05798 & -0.10675 & -0.17566 &  0.02942 & -0.08701 & -0.11421\\\\\n",
       "\tX2Ybar &  0.03546 & -0.05464 &  0.01169 & -0.01199 & -0.07293 & -0.34192 &  0.60034 &  0.04254 & -0.06011 &  0.05798 &  0.99990 &  0.06321 &  0.05356 &  0.52719 & -0.22623 & -0.23649\\\\\n",
       "\tXY2bar & -0.04633 & -0.00757 & -0.04500 &  0.02638 & -0.03885 & -0.03211 & -0.27162 &  0.08201 &  0.11904 & -0.10675 &  0.06321 &  0.99990 & -0.00875 & -0.18491 &  0.04969 &  0.24578\\\\\n",
       "\tXedge &  0.48911 &  0.27440 &  0.55720 &  0.26522 &  0.62744 &  0.14431 & -0.03672 &  0.14212 & -0.38398 & -0.17566 &  0.05356 & -0.00875 &  0.99990 &  0.00285 &  0.10840 & -0.04978\\\\\n",
       "\tXedgeXY &  0.09817 & -0.00134 &  0.04565 &  0.02536 &  0.01765 & -0.25331 &  0.55500 & -0.08481 & -0.05254 &  0.02942 &  0.52719 & -0.18491 &  0.00285 &  0.99990 & -0.06440 & -0.18757\\\\\n",
       "\tYedge &  0.27348 &  0.23086 &  0.26026 &  0.29752 &  0.49260 &  0.12704 & -0.07800 &  0.00655 &  0.27751 & -0.08701 & -0.22623 &  0.04969 &  0.10840 & -0.06440 &  0.99990 &  0.14357\\\\\n",
       "\tYedgeYX & -0.10514 & -0.04274 & -0.11826 & -0.01885 & -0.06296 &  0.24879 & -0.20788 &  0.18288 & -0.06133 & -0.11421 & -0.23649 &  0.24578 & -0.04978 & -0.18757 &  0.14357 &  0.99990\\\\\n",
       "\\end{tabular}\n"
      ],
      "text/markdown": [
       "1. 0.9999\n",
       "2. 0.75772\n",
       "3. 0.85143\n",
       "4. 0.6727\n",
       "5. 0.61903\n",
       "6. -0.03259\n",
       "7. 0.04554\n",
       "8. 0.0143\n",
       "9. 0.05208\n",
       "10. 0.14804\n",
       "11. 0.03546\n",
       "12. -0.04633\n",
       "13. 0.48911\n",
       "14. 0.09817\n",
       "15. 0.27348\n",
       "16. -0.10514\n",
       "17. 0.75772\n",
       "18. 0.9999\n",
       "19. 0.67184\n",
       "20. 0.82312\n",
       "21. 0.55501\n",
       "22. 0.04569\n",
       "23. -0.04092\n",
       "24. -0.02502\n",
       "25. 0.09647\n",
       "26. 0.15994\n",
       "27. -0.05464\n",
       "28. -0.00757\n",
       "29. 0.2744\n",
       "30. -0.00134\n",
       "31. 0.23086\n",
       "32. -0.04274\n",
       "33. 0.85143\n",
       "34. 0.67184\n",
       "35. 0.9999\n",
       "36. 0.66015\n",
       "37. 0.76564\n",
       "38. 0.06195\n",
       "39. 0.02483\n",
       "40. -0.0986\n",
       "41. 0.05707\n",
       "42. 0.11501\n",
       "43. 0.01169\n",
       "44. -0.045\n",
       "45. 0.5572\n",
       "46. 0.04565\n",
       "47. 0.26026\n",
       "48. -0.11826\n",
       "49. 0.6727\n",
       "50. 0.82312\n",
       "51. 0.66015\n",
       "52. 0.9999\n",
       "53. 0.6443\n",
       "54. 0.04284\n",
       "55. -0.02007\n",
       "56. 0.08237\n",
       "57. 0.05903\n",
       "58. 0.01246\n",
       "59. -0.01199\n",
       "60. 0.02638\n",
       "61. 0.26522\n",
       "62. 0.02536\n",
       "63. 0.29752\n",
       "64. -0.01885\n",
       "65. 0.61903\n",
       "66. 0.55501\n",
       "67. 0.76564\n",
       "68. 0.6443\n",
       "69. 0.9999\n",
       "70. 0.13915\n",
       "71. -0.02882\n",
       "72. -0.01198\n",
       "73. -0.06555\n",
       "74. -0.06977\n",
       "75. -0.07293\n",
       "76. -0.03885\n",
       "77. 0.62744\n",
       "78. 0.01765\n",
       "79. 0.4926\n",
       "80. -0.06296\n",
       "81. -0.03259\n",
       "82. 0.04569\n",
       "83. 0.06195\n",
       "84. 0.04284\n",
       "85. 0.13915\n",
       "86. 0.9999\n",
       "87. -0.35654\n",
       "88. -0.0533\n",
       "89. -0.12284\n",
       "90. 0.08595\n",
       "91. -0.34192\n",
       "92. -0.03211\n",
       "93. 0.14431\n",
       "94. -0.25331\n",
       "95. 0.12704\n",
       "96. 0.24879\n",
       "97. 0.04554\n",
       "98. -0.04092\n",
       "99. 0.02483\n",
       "100. -0.02007\n",
       "101. -0.02882\n",
       "102. -0.35654\n",
       "103. 0.9999\n",
       "104. -0.11861\n",
       "105. -0.04965\n",
       "106. 0.1783\n",
       "107. 0.60034\n",
       "108. -0.27162\n",
       "109. -0.03672\n",
       "110. 0.555\n",
       "111. -0.078\n",
       "112. -0.20788\n",
       "113. 0.0143\n",
       "114. -0.02502\n",
       "115. -0.0986\n",
       "116. 0.08237\n",
       "117. -0.01198\n",
       "118. -0.0533\n",
       "119. -0.11861\n",
       "120. 0.9999\n",
       "121. -0.18841\n",
       "122. -0.31775\n",
       "123. 0.04254\n",
       "124. 0.08201\n",
       "125. 0.14212\n",
       "126. -0.08481\n",
       "127. 0.00655\n",
       "128. 0.18288\n",
       "129. 0.05208\n",
       "130. 0.09647\n",
       "131. 0.05707\n",
       "132. 0.05903\n",
       "133. -0.06555\n",
       "134. -0.12284\n",
       "135. -0.04965\n",
       "136. -0.18841\n",
       "137. 0.9999\n",
       "138. 0.13199\n",
       "139. -0.06011\n",
       "140. 0.11904\n",
       "141. -0.38398\n",
       "142. -0.05254\n",
       "143. 0.27751\n",
       "144. -0.06133\n",
       "145. 0.14804\n",
       "146. 0.15994\n",
       "147. 0.11501\n",
       "148. 0.01246\n",
       "149. -0.06977\n",
       "150. 0.08595\n",
       "151. 0.1783\n",
       "152. -0.31775\n",
       "153. 0.13199\n",
       "154. 0.9999\n",
       "155. 0.05798\n",
       "156. -0.10675\n",
       "157. -0.17566\n",
       "158. 0.02942\n",
       "159. -0.08701\n",
       "160. -0.11421\n",
       "161. 0.03546\n",
       "162. -0.05464\n",
       "163. 0.01169\n",
       "164. -0.01199\n",
       "165. -0.07293\n",
       "166. -0.34192\n",
       "167. 0.60034\n",
       "168. 0.04254\n",
       "169. -0.06011\n",
       "170. 0.05798\n",
       "171. 0.9999\n",
       "172. 0.06321\n",
       "173. 0.05356\n",
       "174. 0.52719\n",
       "175. -0.22623\n",
       "176. -0.23649\n",
       "177. -0.04633\n",
       "178. -0.00757\n",
       "179. -0.045\n",
       "180. 0.02638\n",
       "181. -0.03885\n",
       "182. -0.03211\n",
       "183. -0.27162\n",
       "184. 0.08201\n",
       "185. 0.11904\n",
       "186. -0.10675\n",
       "187. 0.06321\n",
       "188. 0.9999\n",
       "189. -0.00875\n",
       "190. -0.18491\n",
       "191. 0.04969\n",
       "192. 0.24578\n",
       "193. 0.48911\n",
       "194. 0.2744\n",
       "195. 0.5572\n",
       "196. 0.26522\n",
       "197. 0.62744\n",
       "198. 0.14431\n",
       "199. -0.03672\n",
       "200. 0.14212\n",
       "201. -0.38398\n",
       "202. -0.17566\n",
       "203. 0.05356\n",
       "204. -0.00875\n",
       "205. 0.9999\n",
       "206. 0.00285\n",
       "207. 0.1084\n",
       "208. -0.04978\n",
       "209. 0.09817\n",
       "210. -0.00134\n",
       "211. 0.04565\n",
       "212. 0.02536\n",
       "213. 0.01765\n",
       "214. -0.25331\n",
       "215. 0.555\n",
       "216. -0.08481\n",
       "217. -0.05254\n",
       "218. 0.02942\n",
       "219. 0.52719\n",
       "220. -0.18491\n",
       "221. 0.00285\n",
       "222. 0.9999\n",
       "223. -0.0644\n",
       "224. -0.18757\n",
       "225. 0.27348\n",
       "226. 0.23086\n",
       "227. 0.26026\n",
       "228. 0.29752\n",
       "229. 0.4926\n",
       "230. 0.12704\n",
       "231. -0.078\n",
       "232. 0.00655\n",
       "233. 0.27751\n",
       "234. -0.08701\n",
       "235. -0.22623\n",
       "236. 0.04969\n",
       "237. 0.1084\n",
       "238. -0.0644\n",
       "239. 0.9999\n",
       "240. 0.14357\n",
       "241. -0.10514\n",
       "242. -0.04274\n",
       "243. -0.11826\n",
       "244. -0.01885\n",
       "245. -0.06296\n",
       "246. 0.24879\n",
       "247. -0.20788\n",
       "248. 0.18288\n",
       "249. -0.06133\n",
       "250. -0.11421\n",
       "251. -0.23649\n",
       "252. 0.24578\n",
       "253. -0.04978\n",
       "254. -0.18757\n",
       "255. 0.14357\n",
       "256. 0.9999\n",
       "\n",
       "\n"
      ],
      "text/plain": [
       "            Xbox     Ybox    Width   Height    OnPix     Xbar     Ybar    X2bar\n",
       "Xbox     0.99990  0.75772  0.85143  0.67270  0.61903 -0.03259  0.04554  0.01430\n",
       "Ybox     0.75772  0.99990  0.67184  0.82312  0.55501  0.04569 -0.04092 -0.02502\n",
       "Width    0.85143  0.67184  0.99990  0.66015  0.76564  0.06195  0.02483 -0.09860\n",
       "Height   0.67270  0.82312  0.66015  0.99990  0.64430  0.04284 -0.02007  0.08237\n",
       "OnPix    0.61903  0.55501  0.76564  0.64430  0.99990  0.13915 -0.02882 -0.01198\n",
       "Xbar    -0.03259  0.04569  0.06195  0.04284  0.13915  0.99990 -0.35654 -0.05330\n",
       "Ybar     0.04554 -0.04092  0.02483 -0.02007 -0.02882 -0.35654  0.99990 -0.11861\n",
       "X2bar    0.01430 -0.02502 -0.09860  0.08237 -0.01198 -0.05330 -0.11861  0.99990\n",
       "Y2bar    0.05208  0.09647  0.05707  0.05903 -0.06555 -0.12284 -0.04965 -0.18841\n",
       "XYbar    0.14804  0.15994  0.11501  0.01246 -0.06977  0.08595  0.17830 -0.31775\n",
       "X2Ybar   0.03546 -0.05464  0.01169 -0.01199 -0.07293 -0.34192  0.60034  0.04254\n",
       "XY2bar  -0.04633 -0.00757 -0.04500  0.02638 -0.03885 -0.03211 -0.27162  0.08201\n",
       "Xedge    0.48911  0.27440  0.55720  0.26522  0.62744  0.14431 -0.03672  0.14212\n",
       "XedgeXY  0.09817 -0.00134  0.04565  0.02536  0.01765 -0.25331  0.55500 -0.08481\n",
       "Yedge    0.27348  0.23086  0.26026  0.29752  0.49260  0.12704 -0.07800  0.00655\n",
       "YedgeYX -0.10514 -0.04274 -0.11826 -0.01885 -0.06296  0.24879 -0.20788  0.18288\n",
       "           Y2bar    XYbar   X2Ybar   XY2bar    Xedge  XedgeXY    Yedge  YedgeYX\n",
       "Xbox     0.05208  0.14804  0.03546 -0.04633  0.48911  0.09817  0.27348 -0.10514\n",
       "Ybox     0.09647  0.15994 -0.05464 -0.00757  0.27440 -0.00134  0.23086 -0.04274\n",
       "Width    0.05707  0.11501  0.01169 -0.04500  0.55720  0.04565  0.26026 -0.11826\n",
       "Height   0.05903  0.01246 -0.01199  0.02638  0.26522  0.02536  0.29752 -0.01885\n",
       "OnPix   -0.06555 -0.06977 -0.07293 -0.03885  0.62744  0.01765  0.49260 -0.06296\n",
       "Xbar    -0.12284  0.08595 -0.34192 -0.03211  0.14431 -0.25331  0.12704  0.24879\n",
       "Ybar    -0.04965  0.17830  0.60034 -0.27162 -0.03672  0.55500 -0.07800 -0.20788\n",
       "X2bar   -0.18841 -0.31775  0.04254  0.08201  0.14212 -0.08481  0.00655  0.18288\n",
       "Y2bar    0.99990  0.13199 -0.06011  0.11904 -0.38398 -0.05254  0.27751 -0.06133\n",
       "XYbar    0.13199  0.99990  0.05798 -0.10675 -0.17566  0.02942 -0.08701 -0.11421\n",
       "X2Ybar  -0.06011  0.05798  0.99990  0.06321  0.05356  0.52719 -0.22623 -0.23649\n",
       "XY2bar   0.11904 -0.10675  0.06321  0.99990 -0.00875 -0.18491  0.04969  0.24578\n",
       "Xedge   -0.38398 -0.17566  0.05356 -0.00875  0.99990  0.00285  0.10840 -0.04978\n",
       "XedgeXY -0.05254  0.02942  0.52719 -0.18491  0.00285  0.99990 -0.06440 -0.18757\n",
       "Yedge    0.27751 -0.08701 -0.22623  0.04969  0.10840 -0.06440  0.99990  0.14357\n",
       "YedgeYX -0.06133 -0.11421 -0.23649  0.24578 -0.04978 -0.18757  0.14357  0.99990"
      ]
     },
     "metadata": {},
     "output_type": "display_data"
    }
   ],
   "source": [
    "round(cm, 5)"
   ]
  },
  {
   "cell_type": "code",
   "execution_count": 13,
   "metadata": {
    "collapsed": true
   },
   "outputs": [],
   "source": [
    "r <- eigen(cm)"
   ]
  },
  {
   "cell_type": "code",
   "execution_count": 14,
   "metadata": {
    "collapsed": false
   },
   "outputs": [
    {
     "data": {
      "text/html": [
       "<ol class=list-inline>\n",
       "\t<li>4.29495557278061</li>\n",
       "\t<li>2.62517913014237</li>\n",
       "\t<li>1.72090443566623</li>\n",
       "\t<li>1.36896210456346</li>\n",
       "\t<li>1.05125884002181</li>\n",
       "\t<li>0.979967625455532</li>\n",
       "\t<li>0.889183343142582</li>\n",
       "\t<li>0.625801679971651</li>\n",
       "\t<li>0.59540671243548</li>\n",
       "\t<li>0.491836893068423</li>\n",
       "\t<li>0.426438984186319</li>\n",
       "\t<li>0.266175336243812</li>\n",
       "\t<li>0.253915928929186</li>\n",
       "\t<li>0.214515674199034</li>\n",
       "\t<li>0.119027783502176</li>\n",
       "\t<li>0.0748700356872651</li>\n",
       "</ol>\n"
      ],
      "text/latex": [
       "\\begin{enumerate*}\n",
       "\\item 4.29495557278061\n",
       "\\item 2.62517913014237\n",
       "\\item 1.72090443566623\n",
       "\\item 1.36896210456346\n",
       "\\item 1.05125884002181\n",
       "\\item 0.979967625455532\n",
       "\\item 0.889183343142582\n",
       "\\item 0.625801679971651\n",
       "\\item 0.59540671243548\n",
       "\\item 0.491836893068423\n",
       "\\item 0.426438984186319\n",
       "\\item 0.266175336243812\n",
       "\\item 0.253915928929186\n",
       "\\item 0.214515674199034\n",
       "\\item 0.119027783502176\n",
       "\\item 0.0748700356872651\n",
       "\\end{enumerate*}\n"
      ],
      "text/markdown": [
       "1. 4.29495557278061\n",
       "2. 2.62517913014237\n",
       "3. 1.72090443566623\n",
       "4. 1.36896210456346\n",
       "5. 1.05125884002181\n",
       "6. 0.979967625455532\n",
       "7. 0.889183343142582\n",
       "8. 0.625801679971651\n",
       "9. 0.59540671243548\n",
       "10. 0.491836893068423\n",
       "11. 0.426438984186319\n",
       "12. 0.266175336243812\n",
       "13. 0.253915928929186\n",
       "14. 0.214515674199034\n",
       "15. 0.119027783502176\n",
       "16. 0.0748700356872651\n",
       "\n",
       "\n"
      ],
      "text/plain": [
       " [1] 4.29495557 2.62517913 1.72090444 1.36896210 1.05125884 0.97996763\n",
       " [7] 0.88918334 0.62580168 0.59540671 0.49183689 0.42643898 0.26617534\n",
       "[13] 0.25391593 0.21451567 0.11902778 0.07487004"
      ]
     },
     "metadata": {},
     "output_type": "display_data"
    }
   ],
   "source": [
    "r$values"
   ]
  },
  {
   "cell_type": "code",
   "execution_count": 15,
   "metadata": {
    "collapsed": false
   },
   "outputs": [
    {
     "data": {
      "text/html": [
       "<table>\n",
       "<tbody>\n",
       "\t<tr><td>-0.42720503</td><td>-0.08400282</td><td>-0.03776493</td><td>-0.02207885</td><td> 0.14003866</td><td>-0.04076958</td><td>-0.07340404</td><td> 0.05887078</td><td>-0.12659335</td><td> 0.26656837</td><td> 0.17069327</td><td>-0.51413296</td><td> 0.02173235</td><td> 0.23077298</td><td> 0.11836989</td><td> 0.57454805</td></tr>\n",
       "\t<tr><td>-0.399520475</td><td>-0.009819478</td><td>-0.146047136</td><td>-0.059869159</td><td> 0.238531158</td><td>-0.025202069</td><td>-0.275009905</td><td>-0.223663714</td><td> 0.084667707</td><td>-0.140933136</td><td>-0.031336397</td><td>-0.232948430</td><td>-0.054873955</td><td>-0.462973832</td><td>-0.541604946</td><td>-0.198028218</td></tr>\n",
       "\t<tr><td>-0.43768543</td><td>-0.05575647</td><td>-0.03215553</td><td> 0.06230310</td><td> 0.07094618</td><td>-0.02910983</td><td> 0.12490511</td><td> 0.01861379</td><td>-0.09573429</td><td> 0.29647555</td><td>-0.05620682</td><td> 0.06643448</td><td> 0.09397011</td><td> 0.52336395</td><td>-0.05953754</td><td>-0.62262191</td></tr>\n",
       "\t<tr><td>-0.3995260257</td><td>-0.0001011894</td><td>-0.0512925962</td><td>-0.1555072277</td><td> 0.1235999044</td><td>-0.0085226804</td><td>-0.2787935026</td><td>-0.2478255285</td><td> 0.2021598046</td><td>-0.3161091206</td><td>-0.1568177940</td><td> 0.2639938698</td><td>-0.0003098750</td><td>-0.0200965942</td><td> 0.6508380051</td><td> 0.0006399979</td></tr>\n",
       "\t<tr><td>-0.41662935</td><td> 0.03513204</td><td> 0.10028514</td><td> 0.03658624</td><td>-0.23252884</td><td> 0.02491591</td><td> 0.19846167</td><td> 0.04756661</td><td>-0.02931949</td><td>-0.15220393</td><td>-0.05502848</td><td> 0.58093091</td><td>-0.01109394</td><td> 0.10333914</td><td>-0.40243848</td><td> 0.42444868</td></tr>\n",
       "\t<tr><td>-0.05369294</td><td> 0.32960118</td><td>-0.01153427</td><td> 0.41581966</td><td>-0.05086139</td><td> 0.41412676</td><td> 0.01855311</td><td> 0.07624517</td><td> 0.65692582</td><td> 0.08777553</td><td>-0.18616834</td><td>-0.15677541</td><td> 0.17207473</td><td> 0.06182385</td><td>-0.02314697</td><td> 0.05229490</td></tr>\n",
       "\t<tr><td> 0.01290474</td><td>-0.50887092</td><td> 0.01949007</td><td>-0.01862255</td><td>-0.16657710</td><td> 0.26460462</td><td>-0.09259295</td><td> 0.09567438</td><td>-0.20317630</td><td>-0.13861665</td><td>-0.41697714</td><td>-0.11263375</td><td> 0.61076215</td><td>-0.05951928</td><td>-0.02377126</td><td> 0.02184264</td></tr>\n",
       "\t<tr><td>-0.0004164997</td><td> 0.1117711421</td><td> 0.4524710666</td><td>-0.3134989482</td><td> 0.0591534810</td><td>-0.1085592368</td><td>-0.5224846564</td><td> 0.5389922544</td><td> 0.1810154922</td><td> 0.0813132776</td><td> 0.1250462491</td><td> 0.1061306803</td><td> 0.1552631771</td><td> 0.0495988044</td><td>-0.0987063275</td><td>-0.0558560207</td></tr>\n",
       "\t<tr><td>-0.008301858</td><td> 0.018566859</td><td>-0.550729129</td><td>-0.394016803</td><td>-0.153760534</td><td>-0.123859920</td><td> 0.056530226</td><td> 0.153254883</td><td> 0.190971975</td><td> 0.542333071</td><td>-0.195737711</td><td> 0.184246187</td><td> 0.079863119</td><td>-0.245061356</td><td> 0.042109690</td><td> 0.065623567</td></tr>\n",
       "\t<tr><td>-0.02812750</td><td>-0.14194253</td><td>-0.44347409</td><td> 0.31693438</td><td> 0.35802737</td><td> 0.28671900</td><td>-0.09793647</td><td> 0.51856975</td><td>-0.16681117</td><td>-0.13514535</td><td> 0.27545416</td><td> 0.22797298</td><td>-0.07747208</td><td>-0.08656522</td><td> 0.07214179</td><td>-0.02025262</td></tr>\n",
       "\t<tr><td> 0.023877175</td><td>-0.472109001</td><td> 0.168619861</td><td>-0.207604688</td><td> 0.172281417</td><td> 0.204619810</td><td> 0.157101778</td><td> 0.176079628</td><td> 0.263245933</td><td> 0.004478586</td><td>-0.349696646</td><td>-0.072250747</td><td>-0.608143425</td><td> 0.091312539</td><td>-0.049458149</td><td> 0.018070479</td></tr>\n",
       "\t<tr><td> 0.01623223</td><td> 0.18330054</td><td> 0.03158564</td><td>-0.49633951</td><td> 0.45507954</td><td> 0.20135370</td><td> 0.52705359</td><td> 0.02035962</td><td> 0.08778212</td><td>-0.21537126</td><td> 0.15925171</td><td>-0.04381284</td><td> 0.33162899</td><td> 0.02377298</td><td>-0.03121949</td><td> 0.00757694</td></tr>\n",
       "\t<tr><td>-0.2892890773</td><td> 0.0131873584</td><td> 0.4312206915</td><td> 0.2048851325</td><td>-0.0098976365</td><td>-0.0161179024</td><td> 0.3513136122</td><td> 0.1962808995</td><td>-0.1362126147</td><td> 0.2504580853</td><td>-0.0078105761</td><td> 0.0010772604</td><td>-0.0007042368</td><td>-0.5969408398</td><td> 0.2755670683</td><td>-0.1108249056</td></tr>\n",
       "\t<tr><td>-0.013104315</td><td>-0.456577732</td><td> 0.084634736</td><td>-0.071054298</td><td>-0.206524359</td><td> 0.286653011</td><td>-0.030690673</td><td>-0.290235829</td><td> 0.291334227</td><td> 0.193058906</td><td> 0.645533466</td><td> 0.130479001</td><td> 0.076511628</td><td>-0.066153645</td><td> 0.004827104</td><td>-0.054891286</td></tr>\n",
       "\t<tr><td>-0.207772193</td><td> 0.165168398</td><td>-0.156005608</td><td>-0.257308780</td><td>-0.618550700</td><td> 0.196404383</td><td> 0.086133384</td><td> 0.288405623</td><td>-0.063097187</td><td>-0.349808600</td><td> 0.154960614</td><td>-0.314078751</td><td>-0.190325710</td><td>-0.009130817</td><td> 0.079708156</td><td>-0.188578740</td></tr>\n",
       "\t<tr><td> 0.036567225</td><td> 0.309076966</td><td> 0.106886991</td><td>-0.191330615</td><td> 0.036314491</td><td> 0.664751175</td><td>-0.239423402</td><td>-0.217351423</td><td>-0.414249119</td><td> 0.288787298</td><td>-0.110964750</td><td> 0.112059023</td><td>-0.162915831</td><td>-0.018216312</td><td>-0.002229603</td><td> 0.023973938</td></tr>\n",
       "</tbody>\n",
       "</table>\n"
      ],
      "text/latex": [
       "\\begin{tabular}{llllllllllllllll}\n",
       "\t -0.42720503 & -0.08400282 & -0.03776493 & -0.02207885 &  0.14003866 & -0.04076958 & -0.07340404 &  0.05887078 & -0.12659335 &  0.26656837 &  0.17069327 & -0.51413296 &  0.02173235 &  0.23077298 &  0.11836989 &  0.57454805\\\\\n",
       "\t -0.399520475 & -0.009819478 & -0.146047136 & -0.059869159 &  0.238531158 & -0.025202069 & -0.275009905 & -0.223663714 &  0.084667707 & -0.140933136 & -0.031336397 & -0.232948430 & -0.054873955 & -0.462973832 & -0.541604946 & -0.198028218\\\\\n",
       "\t -0.43768543 & -0.05575647 & -0.03215553 &  0.06230310 &  0.07094618 & -0.02910983 &  0.12490511 &  0.01861379 & -0.09573429 &  0.29647555 & -0.05620682 &  0.06643448 &  0.09397011 &  0.52336395 & -0.05953754 & -0.62262191\\\\\n",
       "\t -0.3995260257 & -0.0001011894 & -0.0512925962 & -0.1555072277 &  0.1235999044 & -0.0085226804 & -0.2787935026 & -0.2478255285 &  0.2021598046 & -0.3161091206 & -0.1568177940 &  0.2639938698 & -0.0003098750 & -0.0200965942 &  0.6508380051 &  0.0006399979\\\\\n",
       "\t -0.41662935 &  0.03513204 &  0.10028514 &  0.03658624 & -0.23252884 &  0.02491591 &  0.19846167 &  0.04756661 & -0.02931949 & -0.15220393 & -0.05502848 &  0.58093091 & -0.01109394 &  0.10333914 & -0.40243848 &  0.42444868\\\\\n",
       "\t -0.05369294 &  0.32960118 & -0.01153427 &  0.41581966 & -0.05086139 &  0.41412676 &  0.01855311 &  0.07624517 &  0.65692582 &  0.08777553 & -0.18616834 & -0.15677541 &  0.17207473 &  0.06182385 & -0.02314697 &  0.05229490\\\\\n",
       "\t  0.01290474 & -0.50887092 &  0.01949007 & -0.01862255 & -0.16657710 &  0.26460462 & -0.09259295 &  0.09567438 & -0.20317630 & -0.13861665 & -0.41697714 & -0.11263375 &  0.61076215 & -0.05951928 & -0.02377126 &  0.02184264\\\\\n",
       "\t -0.0004164997 &  0.1117711421 &  0.4524710666 & -0.3134989482 &  0.0591534810 & -0.1085592368 & -0.5224846564 &  0.5389922544 &  0.1810154922 &  0.0813132776 &  0.1250462491 &  0.1061306803 &  0.1552631771 &  0.0495988044 & -0.0987063275 & -0.0558560207\\\\\n",
       "\t -0.008301858 &  0.018566859 & -0.550729129 & -0.394016803 & -0.153760534 & -0.123859920 &  0.056530226 &  0.153254883 &  0.190971975 &  0.542333071 & -0.195737711 &  0.184246187 &  0.079863119 & -0.245061356 &  0.042109690 &  0.065623567\\\\\n",
       "\t -0.02812750 & -0.14194253 & -0.44347409 &  0.31693438 &  0.35802737 &  0.28671900 & -0.09793647 &  0.51856975 & -0.16681117 & -0.13514535 &  0.27545416 &  0.22797298 & -0.07747208 & -0.08656522 &  0.07214179 & -0.02025262\\\\\n",
       "\t  0.023877175 & -0.472109001 &  0.168619861 & -0.207604688 &  0.172281417 &  0.204619810 &  0.157101778 &  0.176079628 &  0.263245933 &  0.004478586 & -0.349696646 & -0.072250747 & -0.608143425 &  0.091312539 & -0.049458149 &  0.018070479\\\\\n",
       "\t  0.01623223 &  0.18330054 &  0.03158564 & -0.49633951 &  0.45507954 &  0.20135370 &  0.52705359 &  0.02035962 &  0.08778212 & -0.21537126 &  0.15925171 & -0.04381284 &  0.33162899 &  0.02377298 & -0.03121949 &  0.00757694\\\\\n",
       "\t -0.2892890773 &  0.0131873584 &  0.4312206915 &  0.2048851325 & -0.0098976365 & -0.0161179024 &  0.3513136122 &  0.1962808995 & -0.1362126147 &  0.2504580853 & -0.0078105761 &  0.0010772604 & -0.0007042368 & -0.5969408398 &  0.2755670683 & -0.1108249056\\\\\n",
       "\t -0.013104315 & -0.456577732 &  0.084634736 & -0.071054298 & -0.206524359 &  0.286653011 & -0.030690673 & -0.290235829 &  0.291334227 &  0.193058906 &  0.645533466 &  0.130479001 &  0.076511628 & -0.066153645 &  0.004827104 & -0.054891286\\\\\n",
       "\t -0.207772193 &  0.165168398 & -0.156005608 & -0.257308780 & -0.618550700 &  0.196404383 &  0.086133384 &  0.288405623 & -0.063097187 & -0.349808600 &  0.154960614 & -0.314078751 & -0.190325710 & -0.009130817 &  0.079708156 & -0.188578740\\\\\n",
       "\t  0.036567225 &  0.309076966 &  0.106886991 & -0.191330615 &  0.036314491 &  0.664751175 & -0.239423402 & -0.217351423 & -0.414249119 &  0.288787298 & -0.110964750 &  0.112059023 & -0.162915831 & -0.018216312 & -0.002229603 &  0.023973938\\\\\n",
       "\\end{tabular}\n"
      ],
      "text/markdown": [
       "1. -0.427205026513147\n",
       "2. -0.399520474530422\n",
       "3. -0.43768543005667\n",
       "4. -0.399526025666192\n",
       "5. -0.416629350412465\n",
       "6. -0.0536929391215059\n",
       "7. 0.012904739750738\n",
       "8. -0.000416499661534581\n",
       "9. -0.00830185813515672\n",
       "10. -0.0281275034016455\n",
       "11. 0.0238771749654051\n",
       "12. 0.0162322311640398\n",
       "13. -0.289289077293185\n",
       "14. -0.013104315286675\n",
       "15. -0.207772193420555\n",
       "16. 0.0365672254852924\n",
       "17. -0.0840028152146269\n",
       "18. -0.00981947797254894\n",
       "19. -0.0557564738517273\n",
       "20. -0.000101189359438484\n",
       "21. 0.0351320417077177\n",
       "22. 0.329601177073238\n",
       "23. -0.508870922379788\n",
       "24. 0.111771142115095\n",
       "25. 0.0185668585657015\n",
       "26. -0.141942530147256\n",
       "27. -0.472109000973785\n",
       "28. 0.183300542087379\n",
       "29. 0.0131873583537386\n",
       "30. -0.456577731717427\n",
       "31. 0.165168398199779\n",
       "32. 0.309076966499699\n",
       "33. -0.0377649329206877\n",
       "34. -0.146047136235653\n",
       "35. -0.0321555332961867\n",
       "36. -0.0512925962391527\n",
       "37. 0.100285139578194\n",
       "38. -0.011534272433864\n",
       "39. 0.0194900691369452\n",
       "40. 0.452471066573749\n",
       "41. -0.550729128657278\n",
       "42. -0.443474094112419\n",
       "43. 0.16861986109235\n",
       "44. 0.0315856423257913\n",
       "45. 0.43122069146673\n",
       "46. 0.0846347358220976\n",
       "47. -0.15600560824072\n",
       "48. 0.106886990932251\n",
       "49. -0.0220788494478489\n",
       "50. -0.059869158810218\n",
       "51. 0.0623031049905579\n",
       "52. -0.15550722772391\n",
       "53. 0.0365862398302645\n",
       "54. 0.415819660103518\n",
       "55. -0.0186225529297134\n",
       "56. -0.313498948229737\n",
       "57. -0.394016803443281\n",
       "58. 0.316934378887255\n",
       "59. -0.207604688213577\n",
       "60. -0.496339509753005\n",
       "61. 0.204885132477752\n",
       "62. -0.0710542979020934\n",
       "63. -0.25730877981109\n",
       "64. -0.191330615472806\n",
       "65. 0.140038660380924\n",
       "66. 0.238531157891846\n",
       "67. 0.070946182990221\n",
       "68. 0.123599904441064\n",
       "69. -0.232528836085421\n",
       "70. -0.0508613909272626\n",
       "71. -0.166577100009987\n",
       "72. 0.0591534810439173\n",
       "73. -0.153760533609057\n",
       "74. 0.358027370791271\n",
       "75. 0.17228141719032\n",
       "76. 0.455079537711035\n",
       "77. -0.00989763646098157\n",
       "78. -0.20652435933248\n",
       "79. -0.618550700433907\n",
       "80. 0.0363144914984875\n",
       "81. -0.0407695827879385\n",
       "82. -0.0252020685406849\n",
       "83. -0.029109830141112\n",
       "84. -0.0085226803512281\n",
       "85. 0.0249159086499347\n",
       "86. 0.414126764073354\n",
       "87. 0.264604623456692\n",
       "88. -0.108559236776617\n",
       "89. -0.123859920462514\n",
       "90. 0.28671899957287\n",
       "91. 0.204619809844235\n",
       "92. 0.201353698570471\n",
       "93. -0.0161179023711384\n",
       "94. 0.286653010563547\n",
       "95. 0.196404382530267\n",
       "96. 0.664751175146478\n",
       "97. -0.0734040406603496\n",
       "98. -0.275009905205151\n",
       "99. 0.124905109538291\n",
       "100. -0.27879350259134\n",
       "101. 0.198461666107421\n",
       "102. 0.0185531059743087\n",
       "103. -0.0925929515986609\n",
       "104. -0.522484656414118\n",
       "105. 0.0565302264881737\n",
       "106. -0.0979364666494009\n",
       "107. 0.157101778389349\n",
       "108. 0.527053593206877\n",
       "109. 0.35131361221232\n",
       "110. -0.0306906728104694\n",
       "111. 0.0861333841711801\n",
       "112. -0.239423402290905\n",
       "113. 0.0588707775305392\n",
       "114. -0.22366371440501\n",
       "115. 0.0186137933010924\n",
       "116. -0.24782552854398\n",
       "117. 0.0475666126699379\n",
       "118. 0.0762451691071385\n",
       "119. 0.0956743770301454\n",
       "120. 0.538992254444437\n",
       "121. 0.1532548830428\n",
       "122. 0.518569747055603\n",
       "123. 0.176079627643042\n",
       "124. 0.020359621309335\n",
       "125. 0.196280899460242\n",
       "126. -0.29023582853627\n",
       "127. 0.288405622622236\n",
       "128. -0.217351423460607\n",
       "129. -0.126593349936303\n",
       "130. 0.0846677067813029\n",
       "131. -0.0957342862085247\n",
       "132. 0.202159804577708\n",
       "133. -0.0293194945940499\n",
       "134. 0.656925823067545\n",
       "135. -0.203176295209416\n",
       "136. 0.181015492185554\n",
       "137. 0.190971974956426\n",
       "138. -0.166811165719492\n",
       "139. 0.263245932690154\n",
       "140. 0.0877821210997494\n",
       "141. -0.136212614650888\n",
       "142. 0.29133422667846\n",
       "143. -0.0630971872692012\n",
       "144. -0.414249119201644\n",
       "145. 0.266568374217535\n",
       "146. -0.140933136439856\n",
       "147. 0.296475553913016\n",
       "148. -0.316109120631942\n",
       "149. -0.152203929355202\n",
       "150. 0.0877755309207918\n",
       "151. -0.138616650749621\n",
       "152. 0.0813132776428879\n",
       "153. 0.542333071241966\n",
       "154. -0.135145353973012\n",
       "155. 0.00447858647627522\n",
       "156. -0.215371259281152\n",
       "157. 0.250458085277275\n",
       "158. 0.193058906218892\n",
       "159. -0.349808599946637\n",
       "160. 0.288787298037198\n",
       "161. 0.170693268132332\n",
       "162. -0.0313363970527982\n",
       "163. -0.0562068153170355\n",
       "164. -0.15681779400305\n",
       "165. -0.055028484179309\n",
       "166. -0.186168338325433\n",
       "167. -0.416977144027295\n",
       "168. 0.125046249109994\n",
       "169. -0.195737710528087\n",
       "170. 0.275454156074547\n",
       "171. -0.349696646294822\n",
       "172. 0.159251711498277\n",
       "173. -0.00781057605963511\n",
       "174. 0.645533466415088\n",
       "175. 0.154960613858066\n",
       "176. -0.110964750404798\n",
       "177. -0.514132960887406\n",
       "178. -0.232948429840128\n",
       "179. 0.0664344814607312\n",
       "180. 0.263993869831836\n",
       "181. 0.580930907644744\n",
       "182. -0.156775413689585\n",
       "183. -0.112633754089323\n",
       "184. 0.10613068030529\n",
       "185. 0.184246187466256\n",
       "186. 0.227972981881419\n",
       "187. -0.0722507473850103\n",
       "188. -0.0438128436850608\n",
       "189. 0.00107726038379788\n",
       "190. 0.130479000731084\n",
       "191. -0.314078750699049\n",
       "192. 0.11205902317978\n",
       "193. 0.021732351905178\n",
       "194. -0.0548739547399212\n",
       "195. 0.0939701087239478\n",
       "196. -0.000309875036621009\n",
       "197. -0.0110939447510211\n",
       "198. 0.172074730890054\n",
       "199. 0.610762154519481\n",
       "200. 0.155263177060924\n",
       "201. 0.079863119316681\n",
       "202. -0.0774720795155105\n",
       "203. -0.608143425442597\n",
       "204. 0.331628992099837\n",
       "205. -0.000704236813115865\n",
       "206. 0.0765116281601379\n",
       "207. -0.190325710463865\n",
       "208. -0.162915830881936\n",
       "209. 0.230772978859393\n",
       "210. -0.462973831973125\n",
       "211. 0.523363946034665\n",
       "212. -0.0200965942391541\n",
       "213. 0.103339141011888\n",
       "214. 0.0618238511935202\n",
       "215. -0.0595192776560883\n",
       "216. 0.0495988044416643\n",
       "217. -0.245061356406277\n",
       "218. -0.0865652238774597\n",
       "219. 0.0913125393325626\n",
       "220. 0.0237729787248187\n",
       "221. -0.596940839800983\n",
       "222. -0.0661536452230506\n",
       "223. -0.00913081674198958\n",
       "224. -0.018216311724657\n",
       "225. 0.118369886437273\n",
       "226. -0.541604946467363\n",
       "227. -0.0595375402158589\n",
       "228. 0.650838005075843\n",
       "229. -0.402438480077117\n",
       "230. -0.0231469657727628\n",
       "231. -0.0237712624142624\n",
       "232. -0.0987063275319523\n",
       "233. 0.0421096903473168\n",
       "234. 0.0721417901193678\n",
       "235. -0.0494581493923877\n",
       "236. -0.0312194875714919\n",
       "237. 0.275567068325188\n",
       "238. 0.00482710419537263\n",
       "239. 0.0797081555422701\n",
       "240. -0.00222960298088319\n",
       "241. 0.574548047728305\n",
       "242. -0.198028218078897\n",
       "243. -0.622621914060774\n",
       "244. 0.000639997875221343\n",
       "245. 0.424448675178349\n",
       "246. 0.0522949026511532\n",
       "247. 0.021842640482442\n",
       "248. -0.0558560206574185\n",
       "249. 0.0656235669504555\n",
       "250. -0.0202526234985806\n",
       "251. 0.0180704794162344\n",
       "252. 0.00757693979343203\n",
       "253. -0.110824905593685\n",
       "254. -0.0548912860362363\n",
       "255. -0.188578740397408\n",
       "256. 0.0239739376397333\n",
       "\n",
       "\n"
      ],
      "text/plain": [
       "               [,1]          [,2]        [,3]        [,4]         [,5]\n",
       " [1,] -0.4272050265 -0.0840028152 -0.03776493 -0.02207885  0.140038660\n",
       " [2,] -0.3995204745 -0.0098194780 -0.14604714 -0.05986916  0.238531158\n",
       " [3,] -0.4376854301 -0.0557564739 -0.03215553  0.06230310  0.070946183\n",
       " [4,] -0.3995260257 -0.0001011894 -0.05129260 -0.15550723  0.123599904\n",
       " [5,] -0.4166293504  0.0351320417  0.10028514  0.03658624 -0.232528836\n",
       " [6,] -0.0536929391  0.3296011771 -0.01153427  0.41581966 -0.050861391\n",
       " [7,]  0.0129047398 -0.5088709224  0.01949007 -0.01862255 -0.166577100\n",
       " [8,] -0.0004164997  0.1117711421  0.45247107 -0.31349895  0.059153481\n",
       " [9,] -0.0083018581  0.0185668586 -0.55072913 -0.39401680 -0.153760534\n",
       "[10,] -0.0281275034 -0.1419425301 -0.44347409  0.31693438  0.358027371\n",
       "[11,]  0.0238771750 -0.4721090010  0.16861986 -0.20760469  0.172281417\n",
       "[12,]  0.0162322312  0.1833005421  0.03158564 -0.49633951  0.455079538\n",
       "[13,] -0.2892890773  0.0131873584  0.43122069  0.20488513 -0.009897636\n",
       "[14,] -0.0131043153 -0.4565777317  0.08463474 -0.07105430 -0.206524359\n",
       "[15,] -0.2077721934  0.1651683982 -0.15600561 -0.25730878 -0.618550700\n",
       "[16,]  0.0365672255  0.3090769665  0.10688699 -0.19133062  0.036314491\n",
       "             [,6]        [,7]        [,8]        [,9]        [,10]        [,11]\n",
       " [1,] -0.04076958 -0.07340404  0.05887078 -0.12659335  0.266568374  0.170693268\n",
       " [2,] -0.02520207 -0.27500991 -0.22366371  0.08466771 -0.140933136 -0.031336397\n",
       " [3,] -0.02910983  0.12490511  0.01861379 -0.09573429  0.296475554 -0.056206815\n",
       " [4,] -0.00852268 -0.27879350 -0.24782553  0.20215980 -0.316109121 -0.156817794\n",
       " [5,]  0.02491591  0.19846167  0.04756661 -0.02931949 -0.152203929 -0.055028484\n",
       " [6,]  0.41412676  0.01855311  0.07624517  0.65692582  0.087775531 -0.186168338\n",
       " [7,]  0.26460462 -0.09259295  0.09567438 -0.20317630 -0.138616651 -0.416977144\n",
       " [8,] -0.10855924 -0.52248466  0.53899225  0.18101549  0.081313278  0.125046249\n",
       " [9,] -0.12385992  0.05653023  0.15325488  0.19097197  0.542333071 -0.195737711\n",
       "[10,]  0.28671900 -0.09793647  0.51856975 -0.16681117 -0.135145354  0.275454156\n",
       "[11,]  0.20461981  0.15710178  0.17607963  0.26324593  0.004478586 -0.349696646\n",
       "[12,]  0.20135370  0.52705359  0.02035962  0.08778212 -0.215371259  0.159251711\n",
       "[13,] -0.01611790  0.35131361  0.19628090 -0.13621261  0.250458085 -0.007810576\n",
       "[14,]  0.28665301 -0.03069067 -0.29023583  0.29133423  0.193058906  0.645533466\n",
       "[15,]  0.19640438  0.08613338  0.28840562 -0.06309719 -0.349808600  0.154960614\n",
       "[16,]  0.66475118 -0.23942340 -0.21735142 -0.41424912  0.288787298 -0.110964750\n",
       "            [,12]         [,13]        [,14]        [,15]         [,16]\n",
       " [1,] -0.51413296  0.0217323519  0.230772979  0.118369886  0.5745480477\n",
       " [2,] -0.23294843 -0.0548739547 -0.462973832 -0.541604946 -0.1980282181\n",
       " [3,]  0.06643448  0.0939701087  0.523363946 -0.059537540 -0.6226219141\n",
       " [4,]  0.26399387 -0.0003098750 -0.020096594  0.650838005  0.0006399979\n",
       " [5,]  0.58093091 -0.0110939448  0.103339141 -0.402438480  0.4244486752\n",
       " [6,] -0.15677541  0.1720747309  0.061823851 -0.023146966  0.0522949027\n",
       " [7,] -0.11263375  0.6107621545 -0.059519278 -0.023771262  0.0218426405\n",
       " [8,]  0.10613068  0.1552631771  0.049598804 -0.098706328 -0.0558560207\n",
       " [9,]  0.18424619  0.0798631193 -0.245061356  0.042109690  0.0656235670\n",
       "[10,]  0.22797298 -0.0774720795 -0.086565224  0.072141790 -0.0202526235\n",
       "[11,] -0.07225075 -0.6081434254  0.091312539 -0.049458149  0.0180704794\n",
       "[12,] -0.04381284  0.3316289921  0.023772979 -0.031219488  0.0075769398\n",
       "[13,]  0.00107726 -0.0007042368 -0.596940840  0.275567068 -0.1108249056\n",
       "[14,]  0.13047900  0.0765116282 -0.066153645  0.004827104 -0.0548912860\n",
       "[15,] -0.31407875 -0.1903257105 -0.009130817  0.079708156 -0.1885787404\n",
       "[16,]  0.11205902 -0.1629158309 -0.018216312 -0.002229603  0.0239739376"
      ]
     },
     "metadata": {},
     "output_type": "display_data"
    }
   ],
   "source": [
    "r$vectors"
   ]
  },
  {
   "cell_type": "code",
   "execution_count": 16,
   "metadata": {
    "collapsed": true
   },
   "outputs": [],
   "source": [
    "lettersPca <- mtx %*% r$vectors"
   ]
  },
  {
   "cell_type": "code",
   "execution_count": 18,
   "metadata": {
    "collapsed": false
   },
   "outputs": [
    {
     "data": {
      "text/html": [
       "<table>\n",
       "<tbody>\n",
       "\t<tr><td>4.295</td><td>0.000</td><td>0.000</td><td>0.000</td><td>0.000</td><td>0.000</td><td>0.000</td><td>0.000</td><td>0.000</td><td>0.000</td><td>0.000</td><td>0.000</td><td>0.000</td><td>0.000</td><td>0.000</td><td>0.000</td></tr>\n",
       "\t<tr><td>0.0000</td><td>2.6252</td><td>0.0000</td><td>0.0000</td><td>0.0000</td><td>0.0000</td><td>0.0000</td><td>0.0000</td><td>0.0000</td><td>0.0000</td><td>0.0000</td><td>0.0000</td><td>0.0000</td><td>0.0000</td><td>0.0000</td><td>0.0000</td></tr>\n",
       "\t<tr><td>0.0000</td><td>0.0000</td><td>1.7209</td><td>0.0000</td><td>0.0000</td><td>0.0000</td><td>0.0000</td><td>0.0000</td><td>0.0000</td><td>0.0000</td><td>0.0000</td><td>0.0000</td><td>0.0000</td><td>0.0000</td><td>0.0000</td><td>0.0000</td></tr>\n",
       "\t<tr><td>0.000</td><td>0.000</td><td>0.000</td><td>1.369</td><td>0.000</td><td>0.000</td><td>0.000</td><td>0.000</td><td>0.000</td><td>0.000</td><td>0.000</td><td>0.000</td><td>0.000</td><td>0.000</td><td>0.000</td><td>0.000</td></tr>\n",
       "\t<tr><td>0.0000</td><td>0.0000</td><td>0.0000</td><td>0.0000</td><td>1.0513</td><td>0.0000</td><td>0.0000</td><td>0.0000</td><td>0.0000</td><td>0.0000</td><td>0.0000</td><td>0.0000</td><td>0.0000</td><td>0.0000</td><td>0.0000</td><td>0.0000</td></tr>\n",
       "\t<tr><td>0.00</td><td>0.00</td><td>0.00</td><td>0.00</td><td>0.00</td><td>0.98</td><td>0.00</td><td>0.00</td><td>0.00</td><td>0.00</td><td>0.00</td><td>0.00</td><td>0.00</td><td>0.00</td><td>0.00</td><td>0.00</td></tr>\n",
       "\t<tr><td>0.0000</td><td>0.0000</td><td>0.0000</td><td>0.0000</td><td>0.0000</td><td>0.0000</td><td>0.8892</td><td>0.0000</td><td>0.0000</td><td>0.0000</td><td>0.0000</td><td>0.0000</td><td>0.0000</td><td>0.0000</td><td>0.0000</td><td>0.0000</td></tr>\n",
       "\t<tr><td>0.0000</td><td>0.0000</td><td>0.0000</td><td>0.0000</td><td>0.0000</td><td>0.0000</td><td>0.0000</td><td>0.6258</td><td>0.0000</td><td>0.0000</td><td>0.0000</td><td>0.0000</td><td>0.0000</td><td>0.0000</td><td>0.0000</td><td>0.0000</td></tr>\n",
       "\t<tr><td>0.0000</td><td>0.0000</td><td>0.0000</td><td>0.0000</td><td>0.0000</td><td>0.0000</td><td>0.0000</td><td>0.0000</td><td>0.5954</td><td>0.0000</td><td>0.0000</td><td>0.0000</td><td>0.0000</td><td>0.0000</td><td>0.0000</td><td>0.0000</td></tr>\n",
       "\t<tr><td>0.0000</td><td>0.0000</td><td>0.0000</td><td>0.0000</td><td>0.0000</td><td>0.0000</td><td>0.0000</td><td>0.0000</td><td>0.0000</td><td>0.4918</td><td>0.0000</td><td>0.0000</td><td>0.0000</td><td>0.0000</td><td>0.0000</td><td>0.0000</td></tr>\n",
       "\t<tr><td>0.0000</td><td>0.0000</td><td>0.0000</td><td>0.0000</td><td>0.0000</td><td>0.0000</td><td>0.0000</td><td>0.0000</td><td>0.0000</td><td>0.0000</td><td>0.4264</td><td>0.0000</td><td>0.0000</td><td>0.0000</td><td>0.0000</td><td>0.0000</td></tr>\n",
       "\t<tr><td>0.0000</td><td>0.0000</td><td>0.0000</td><td>0.0000</td><td>0.0000</td><td>0.0000</td><td>0.0000</td><td>0.0000</td><td>0.0000</td><td>0.0000</td><td>0.0000</td><td>0.2662</td><td>0.0000</td><td>0.0000</td><td>0.0000</td><td>0.0000</td></tr>\n",
       "\t<tr><td>0.0000</td><td>0.0000</td><td>0.0000</td><td>0.0000</td><td>0.0000</td><td>0.0000</td><td>0.0000</td><td>0.0000</td><td>0.0000</td><td>0.0000</td><td>0.0000</td><td>0.0000</td><td>0.2539</td><td>0.0000</td><td>0.0000</td><td>0.0000</td></tr>\n",
       "\t<tr><td>0.0000</td><td>0.0000</td><td>0.0000</td><td>0.0000</td><td>0.0000</td><td>0.0000</td><td>0.0000</td><td>0.0000</td><td>0.0000</td><td>0.0000</td><td>0.0000</td><td>0.0000</td><td>0.0000</td><td>0.2145</td><td>0.0000</td><td>0.0000</td></tr>\n",
       "\t<tr><td>0.000</td><td>0.000</td><td>0.000</td><td>0.000</td><td>0.000</td><td>0.000</td><td>0.000</td><td>0.000</td><td>0.000</td><td>0.000</td><td>0.000</td><td>0.000</td><td>0.000</td><td>0.000</td><td>0.119</td><td>0.000</td></tr>\n",
       "\t<tr><td>0.0000</td><td>0.0000</td><td>0.0000</td><td>0.0000</td><td>0.0000</td><td>0.0000</td><td>0.0000</td><td>0.0000</td><td>0.0000</td><td>0.0000</td><td>0.0000</td><td>0.0000</td><td>0.0000</td><td>0.0000</td><td>0.0000</td><td>0.0749</td></tr>\n",
       "</tbody>\n",
       "</table>\n"
      ],
      "text/latex": [
       "\\begin{tabular}{llllllllllllllll}\n",
       "\t 4.295 & 0.000 & 0.000 & 0.000 & 0.000 & 0.000 & 0.000 & 0.000 & 0.000 & 0.000 & 0.000 & 0.000 & 0.000 & 0.000 & 0.000 & 0.000\\\\\n",
       "\t 0.0000 & 2.6252 & 0.0000 & 0.0000 & 0.0000 & 0.0000 & 0.0000 & 0.0000 & 0.0000 & 0.0000 & 0.0000 & 0.0000 & 0.0000 & 0.0000 & 0.0000 & 0.0000\\\\\n",
       "\t 0.0000 & 0.0000 & 1.7209 & 0.0000 & 0.0000 & 0.0000 & 0.0000 & 0.0000 & 0.0000 & 0.0000 & 0.0000 & 0.0000 & 0.0000 & 0.0000 & 0.0000 & 0.0000\\\\\n",
       "\t 0.000 & 0.000 & 0.000 & 1.369 & 0.000 & 0.000 & 0.000 & 0.000 & 0.000 & 0.000 & 0.000 & 0.000 & 0.000 & 0.000 & 0.000 & 0.000\\\\\n",
       "\t 0.0000 & 0.0000 & 0.0000 & 0.0000 & 1.0513 & 0.0000 & 0.0000 & 0.0000 & 0.0000 & 0.0000 & 0.0000 & 0.0000 & 0.0000 & 0.0000 & 0.0000 & 0.0000\\\\\n",
       "\t 0.00 & 0.00 & 0.00 & 0.00 & 0.00 & 0.98 & 0.00 & 0.00 & 0.00 & 0.00 & 0.00 & 0.00 & 0.00 & 0.00 & 0.00 & 0.00\\\\\n",
       "\t 0.0000 & 0.0000 & 0.0000 & 0.0000 & 0.0000 & 0.0000 & 0.8892 & 0.0000 & 0.0000 & 0.0000 & 0.0000 & 0.0000 & 0.0000 & 0.0000 & 0.0000 & 0.0000\\\\\n",
       "\t 0.0000 & 0.0000 & 0.0000 & 0.0000 & 0.0000 & 0.0000 & 0.0000 & 0.6258 & 0.0000 & 0.0000 & 0.0000 & 0.0000 & 0.0000 & 0.0000 & 0.0000 & 0.0000\\\\\n",
       "\t 0.0000 & 0.0000 & 0.0000 & 0.0000 & 0.0000 & 0.0000 & 0.0000 & 0.0000 & 0.5954 & 0.0000 & 0.0000 & 0.0000 & 0.0000 & 0.0000 & 0.0000 & 0.0000\\\\\n",
       "\t 0.0000 & 0.0000 & 0.0000 & 0.0000 & 0.0000 & 0.0000 & 0.0000 & 0.0000 & 0.0000 & 0.4918 & 0.0000 & 0.0000 & 0.0000 & 0.0000 & 0.0000 & 0.0000\\\\\n",
       "\t 0.0000 & 0.0000 & 0.0000 & 0.0000 & 0.0000 & 0.0000 & 0.0000 & 0.0000 & 0.0000 & 0.0000 & 0.4264 & 0.0000 & 0.0000 & 0.0000 & 0.0000 & 0.0000\\\\\n",
       "\t 0.0000 & 0.0000 & 0.0000 & 0.0000 & 0.0000 & 0.0000 & 0.0000 & 0.0000 & 0.0000 & 0.0000 & 0.0000 & 0.2662 & 0.0000 & 0.0000 & 0.0000 & 0.0000\\\\\n",
       "\t 0.0000 & 0.0000 & 0.0000 & 0.0000 & 0.0000 & 0.0000 & 0.0000 & 0.0000 & 0.0000 & 0.0000 & 0.0000 & 0.0000 & 0.2539 & 0.0000 & 0.0000 & 0.0000\\\\\n",
       "\t 0.0000 & 0.0000 & 0.0000 & 0.0000 & 0.0000 & 0.0000 & 0.0000 & 0.0000 & 0.0000 & 0.0000 & 0.0000 & 0.0000 & 0.0000 & 0.2145 & 0.0000 & 0.0000\\\\\n",
       "\t 0.000 & 0.000 & 0.000 & 0.000 & 0.000 & 0.000 & 0.000 & 0.000 & 0.000 & 0.000 & 0.000 & 0.000 & 0.000 & 0.000 & 0.119 & 0.000\\\\\n",
       "\t 0.0000 & 0.0000 & 0.0000 & 0.0000 & 0.0000 & 0.0000 & 0.0000 & 0.0000 & 0.0000 & 0.0000 & 0.0000 & 0.0000 & 0.0000 & 0.0000 & 0.0000 & 0.0749\\\\\n",
       "\\end{tabular}\n"
      ],
      "text/markdown": [
       "1. 4.295\n",
       "2. 0\n",
       "3. 0\n",
       "4. 0\n",
       "5. 0\n",
       "6. 0\n",
       "7. 0\n",
       "8. 0\n",
       "9. 0\n",
       "10. 0\n",
       "11. 0\n",
       "12. 0\n",
       "13. 0\n",
       "14. 0\n",
       "15. 0\n",
       "16. 0\n",
       "17. 0\n",
       "18. 2.6252\n",
       "19. 0\n",
       "20. 0\n",
       "21. 0\n",
       "22. 0\n",
       "23. 0\n",
       "24. 0\n",
       "25. 0\n",
       "26. 0\n",
       "27. 0\n",
       "28. 0\n",
       "29. 0\n",
       "30. 0\n",
       "31. 0\n",
       "32. 0\n",
       "33. 0\n",
       "34. 0\n",
       "35. 1.7209\n",
       "36. 0\n",
       "37. 0\n",
       "38. 0\n",
       "39. 0\n",
       "40. 0\n",
       "41. 0\n",
       "42. 0\n",
       "43. 0\n",
       "44. 0\n",
       "45. 0\n",
       "46. 0\n",
       "47. 0\n",
       "48. 0\n",
       "49. 0\n",
       "50. 0\n",
       "51. 0\n",
       "52. 1.369\n",
       "53. 0\n",
       "54. 0\n",
       "55. 0\n",
       "56. 0\n",
       "57. 0\n",
       "58. 0\n",
       "59. 0\n",
       "60. 0\n",
       "61. 0\n",
       "62. 0\n",
       "63. 0\n",
       "64. 0\n",
       "65. 0\n",
       "66. 0\n",
       "67. 0\n",
       "68. 0\n",
       "69. 1.0513\n",
       "70. 0\n",
       "71. 0\n",
       "72. 0\n",
       "73. 0\n",
       "74. 0\n",
       "75. 0\n",
       "76. 0\n",
       "77. 0\n",
       "78. 0\n",
       "79. 0\n",
       "80. 0\n",
       "81. 0\n",
       "82. 0\n",
       "83. 0\n",
       "84. 0\n",
       "85. 0\n",
       "86. 0.98\n",
       "87. 0\n",
       "88. 0\n",
       "89. 0\n",
       "90. 0\n",
       "91. 0\n",
       "92. 0\n",
       "93. 0\n",
       "94. 0\n",
       "95. 0\n",
       "96. 0\n",
       "97. 0\n",
       "98. 0\n",
       "99. 0\n",
       "100. 0\n",
       "101. 0\n",
       "102. 0\n",
       "103. 0.8892\n",
       "104. 0\n",
       "105. 0\n",
       "106. 0\n",
       "107. 0\n",
       "108. 0\n",
       "109. 0\n",
       "110. 0\n",
       "111. 0\n",
       "112. 0\n",
       "113. 0\n",
       "114. 0\n",
       "115. 0\n",
       "116. 0\n",
       "117. 0\n",
       "118. 0\n",
       "119. 0\n",
       "120. 0.6258\n",
       "121. 0\n",
       "122. 0\n",
       "123. 0\n",
       "124. 0\n",
       "125. 0\n",
       "126. 0\n",
       "127. 0\n",
       "128. 0\n",
       "129. 0\n",
       "130. 0\n",
       "131. 0\n",
       "132. 0\n",
       "133. 0\n",
       "134. 0\n",
       "135. 0\n",
       "136. 0\n",
       "137. 0.5954\n",
       "138. 0\n",
       "139. 0\n",
       "140. 0\n",
       "141. 0\n",
       "142. 0\n",
       "143. 0\n",
       "144. 0\n",
       "145. 0\n",
       "146. 0\n",
       "147. 0\n",
       "148. 0\n",
       "149. 0\n",
       "150. 0\n",
       "151. 0\n",
       "152. 0\n",
       "153. 0\n",
       "154. 0.4918\n",
       "155. 0\n",
       "156. 0\n",
       "157. 0\n",
       "158. 0\n",
       "159. 0\n",
       "160. 0\n",
       "161. 0\n",
       "162. 0\n",
       "163. 0\n",
       "164. 0\n",
       "165. 0\n",
       "166. 0\n",
       "167. 0\n",
       "168. 0\n",
       "169. 0\n",
       "170. 0\n",
       "171. 0.4264\n",
       "172. 0\n",
       "173. 0\n",
       "174. 0\n",
       "175. 0\n",
       "176. 0\n",
       "177. 0\n",
       "178. 0\n",
       "179. 0\n",
       "180. 0\n",
       "181. 0\n",
       "182. 0\n",
       "183. 0\n",
       "184. 0\n",
       "185. 0\n",
       "186. 0\n",
       "187. 0\n",
       "188. 0.2662\n",
       "189. 0\n",
       "190. 0\n",
       "191. 0\n",
       "192. 0\n",
       "193. 0\n",
       "194. 0\n",
       "195. 0\n",
       "196. 0\n",
       "197. 0\n",
       "198. 0\n",
       "199. 0\n",
       "200. 0\n",
       "201. 0\n",
       "202. 0\n",
       "203. 0\n",
       "204. 0\n",
       "205. 0.2539\n",
       "206. 0\n",
       "207. 0\n",
       "208. 0\n",
       "209. 0\n",
       "210. 0\n",
       "211. 0\n",
       "212. 0\n",
       "213. 0\n",
       "214. 0\n",
       "215. 0\n",
       "216. 0\n",
       "217. 0\n",
       "218. 0\n",
       "219. 0\n",
       "220. 0\n",
       "221. 0\n",
       "222. 0.2145\n",
       "223. 0\n",
       "224. 0\n",
       "225. 0\n",
       "226. 0\n",
       "227. 0\n",
       "228. 0\n",
       "229. 0\n",
       "230. 0\n",
       "231. 0\n",
       "232. 0\n",
       "233. 0\n",
       "234. 0\n",
       "235. 0\n",
       "236. 0\n",
       "237. 0\n",
       "238. 0\n",
       "239. 0.119\n",
       "240. 0\n",
       "241. 0\n",
       "242. 0\n",
       "243. 0\n",
       "244. 0\n",
       "245. 0\n",
       "246. 0\n",
       "247. 0\n",
       "248. 0\n",
       "249. 0\n",
       "250. 0\n",
       "251. 0\n",
       "252. 0\n",
       "253. 0\n",
       "254. 0\n",
       "255. 0\n",
       "256. 0.0749\n",
       "\n",
       "\n"
      ],
      "text/plain": [
       "       [,1]   [,2]   [,3]  [,4]   [,5] [,6]   [,7]   [,8]   [,9]  [,10]  [,11]\n",
       " [1,] 4.295 0.0000 0.0000 0.000 0.0000 0.00 0.0000 0.0000 0.0000 0.0000 0.0000\n",
       " [2,] 0.000 2.6252 0.0000 0.000 0.0000 0.00 0.0000 0.0000 0.0000 0.0000 0.0000\n",
       " [3,] 0.000 0.0000 1.7209 0.000 0.0000 0.00 0.0000 0.0000 0.0000 0.0000 0.0000\n",
       " [4,] 0.000 0.0000 0.0000 1.369 0.0000 0.00 0.0000 0.0000 0.0000 0.0000 0.0000\n",
       " [5,] 0.000 0.0000 0.0000 0.000 1.0513 0.00 0.0000 0.0000 0.0000 0.0000 0.0000\n",
       " [6,] 0.000 0.0000 0.0000 0.000 0.0000 0.98 0.0000 0.0000 0.0000 0.0000 0.0000\n",
       " [7,] 0.000 0.0000 0.0000 0.000 0.0000 0.00 0.8892 0.0000 0.0000 0.0000 0.0000\n",
       " [8,] 0.000 0.0000 0.0000 0.000 0.0000 0.00 0.0000 0.6258 0.0000 0.0000 0.0000\n",
       " [9,] 0.000 0.0000 0.0000 0.000 0.0000 0.00 0.0000 0.0000 0.5954 0.0000 0.0000\n",
       "[10,] 0.000 0.0000 0.0000 0.000 0.0000 0.00 0.0000 0.0000 0.0000 0.4918 0.0000\n",
       "[11,] 0.000 0.0000 0.0000 0.000 0.0000 0.00 0.0000 0.0000 0.0000 0.0000 0.4264\n",
       "[12,] 0.000 0.0000 0.0000 0.000 0.0000 0.00 0.0000 0.0000 0.0000 0.0000 0.0000\n",
       "[13,] 0.000 0.0000 0.0000 0.000 0.0000 0.00 0.0000 0.0000 0.0000 0.0000 0.0000\n",
       "[14,] 0.000 0.0000 0.0000 0.000 0.0000 0.00 0.0000 0.0000 0.0000 0.0000 0.0000\n",
       "[15,] 0.000 0.0000 0.0000 0.000 0.0000 0.00 0.0000 0.0000 0.0000 0.0000 0.0000\n",
       "[16,] 0.000 0.0000 0.0000 0.000 0.0000 0.00 0.0000 0.0000 0.0000 0.0000 0.0000\n",
       "       [,12]  [,13]  [,14] [,15]  [,16]\n",
       " [1,] 0.0000 0.0000 0.0000 0.000 0.0000\n",
       " [2,] 0.0000 0.0000 0.0000 0.000 0.0000\n",
       " [3,] 0.0000 0.0000 0.0000 0.000 0.0000\n",
       " [4,] 0.0000 0.0000 0.0000 0.000 0.0000\n",
       " [5,] 0.0000 0.0000 0.0000 0.000 0.0000\n",
       " [6,] 0.0000 0.0000 0.0000 0.000 0.0000\n",
       " [7,] 0.0000 0.0000 0.0000 0.000 0.0000\n",
       " [8,] 0.0000 0.0000 0.0000 0.000 0.0000\n",
       " [9,] 0.0000 0.0000 0.0000 0.000 0.0000\n",
       "[10,] 0.0000 0.0000 0.0000 0.000 0.0000\n",
       "[11,] 0.0000 0.0000 0.0000 0.000 0.0000\n",
       "[12,] 0.2662 0.0000 0.0000 0.000 0.0000\n",
       "[13,] 0.0000 0.2539 0.0000 0.000 0.0000\n",
       "[14,] 0.0000 0.0000 0.2145 0.000 0.0000\n",
       "[15,] 0.0000 0.0000 0.0000 0.119 0.0000\n",
       "[16,] 0.0000 0.0000 0.0000 0.000 0.0749"
      ]
     },
     "metadata": {},
     "output_type": "display_data"
    }
   ],
   "source": [
    "round(t(lettersPca) %*% lettersPca / (nrow(lettersPca) + 1), 4)"
   ]
  },
  {
   "cell_type": "code",
   "execution_count": 19,
   "metadata": {
    "collapsed": false
   },
   "outputs": [
    {
     "data": {
      "text/html": [
       "<ol class=list-inline>\n",
       "\t<li>0.26846156811336</li>\n",
       "\t<li>0.432551671937231</li>\n",
       "\t<li>0.540118955356903</li>\n",
       "\t<li>0.625687643333095</li>\n",
       "\t<li>0.691397891530744</li>\n",
       "\t<li>0.752651993225629</li>\n",
       "\t<li>0.808231509845819</li>\n",
       "\t<li>0.84734802630012</li>\n",
       "\t<li>0.884564667305364</li>\n",
       "\t<li>0.915307547256429</li>\n",
       "\t<li>0.941962649144994</li>\n",
       "\t<li>0.958600271339268</li>\n",
       "\t<li>0.974471603951251</li>\n",
       "\t<li>0.987880174378694</li>\n",
       "\t<li>0.995320154808425</li>\n",
       "\t<li>1</li>\n",
       "</ol>\n"
      ],
      "text/latex": [
       "\\begin{enumerate*}\n",
       "\\item 0.26846156811336\n",
       "\\item 0.432551671937231\n",
       "\\item 0.540118955356903\n",
       "\\item 0.625687643333095\n",
       "\\item 0.691397891530744\n",
       "\\item 0.752651993225629\n",
       "\\item 0.808231509845819\n",
       "\\item 0.84734802630012\n",
       "\\item 0.884564667305364\n",
       "\\item 0.915307547256429\n",
       "\\item 0.941962649144994\n",
       "\\item 0.958600271339268\n",
       "\\item 0.974471603951251\n",
       "\\item 0.987880174378694\n",
       "\\item 0.995320154808425\n",
       "\\item 1\n",
       "\\end{enumerate*}\n"
      ],
      "text/markdown": [
       "1. 0.26846156811336\n",
       "2. 0.432551671937231\n",
       "3. 0.540118955356903\n",
       "4. 0.625687643333095\n",
       "5. 0.691397891530744\n",
       "6. 0.752651993225629\n",
       "7. 0.808231509845819\n",
       "8. 0.84734802630012\n",
       "9. 0.884564667305364\n",
       "10. 0.915307547256429\n",
       "11. 0.941962649144994\n",
       "12. 0.958600271339268\n",
       "13. 0.974471603951251\n",
       "14. 0.987880174378694\n",
       "15. 0.995320154808425\n",
       "16. 1\n",
       "\n",
       "\n"
      ],
      "text/plain": [
       " [1] 0.2684616 0.4325517 0.5401190 0.6256876 0.6913979 0.7526520 0.8082315\n",
       " [8] 0.8473480 0.8845647 0.9153075 0.9419626 0.9586003 0.9744716 0.9878802\n",
       "[15] 0.9953202 1.0000000"
      ]
     },
     "metadata": {},
     "output_type": "display_data"
    }
   ],
   "source": [
    "cumsum(r$values) /  sum(r$values)"
   ]
  },
  {
   "cell_type": "code",
   "execution_count": 20,
   "metadata": {
    "collapsed": true
   },
   "outputs": [],
   "source": [
    "lettersDf <- data.frame(class = letters$Letter, pca = lettersPca)"
   ]
  },
  {
   "cell_type": "code",
   "execution_count": 21,
   "metadata": {
    "collapsed": false
   },
   "outputs": [
    {
     "data": {
      "text/html": [
       "<table>\n",
       "<thead><tr><th></th><th scope=col>class</th><th scope=col>pca.1</th><th scope=col>pca.2</th><th scope=col>pca.3</th><th scope=col>pca.4</th><th scope=col>pca.5</th><th scope=col>pca.6</th><th scope=col>pca.7</th><th scope=col>pca.8</th><th scope=col>pca.9</th><th scope=col>pca.10</th><th scope=col>pca.11</th><th scope=col>pca.12</th><th scope=col>pca.13</th><th scope=col>pca.14</th><th scope=col>pca.15</th><th scope=col>pca.16</th></tr></thead>\n",
       "<tbody>\n",
       "\t<tr><th scope=row>1</th><td>T                 </td><td>2.08028261619075  </td><td>-1.72142731015771 </td><td>-0.710113382448065</td><td>0.0148822634102132</td><td>0.387918199796142 </td><td>0.811044764597959 </td><td>0.105180771540488 </td><td>-1.63588953360069 </td><td>0.556814074273519 </td><td>-0.349720439588952</td><td>-2.49724542614797 </td><td>-0.644770222511263</td><td>0.674839787015421 </td><td>-0.313848410437807</td><td>-0.362157360676203</td><td>0.177217763592743 </td></tr>\n",
       "\t<tr><th scope=row>2</th><td>I                  </td><td>-0.369364055755278 </td><td>2.01407509265268   </td><td>-1.14566705140619  </td><td>0.755404634795315  </td><td>1.5010561194808    </td><td>1.59502732084011   </td><td>-1.4777230700352   </td><td>-0.0472794968952319</td><td>0.293731839456956  </td><td>-0.661666234125814 </td><td>1.09474011470886   </td><td>-0.497198343384396 </td><td>-0.0129449157201154</td><td>-0.943087582858383 </td><td>0.077753411687716  </td><td>0.390051684900202  </td></tr>\n",
       "\t<tr><th scope=row>3</th><td>D                 </td><td>-1.65430804244936 </td><td>1.75494112411836  </td><td>-1.2970616851058  </td><td>1.33254595270053  </td><td>0.303550607481222 </td><td>0.533772071407574 </td><td>-0.44642736689561 </td><td>-0.785291124979741</td><td>0.250147549661429 </td><td>-0.118718771480297</td><td>-0.618839297813893</td><td>0.843398421789778 </td><td>0.168779558229171 </td><td>-0.367809459394144</td><td>-0.192756767146773</td><td>0.188195162677685 </td></tr>\n",
       "\t<tr><th scope=row>4</th><td>N                 </td><td>-1.49024343954884 </td><td>-0.508870492685193</td><td>0.832872344703402 </td><td>-1.11160001041751 </td><td>0.350328765778592 </td><td>-0.593245282643626</td><td>0.423537087073522 </td><td>-1.64693171401454 </td><td>-0.536848434991391</td><td>1.12339865148135  </td><td>0.559807503910436 </td><td>-1.00446024980725 </td><td>1.45282011206005  </td><td>-0.92587070944787 </td><td>0.0181103668053001</td><td>0.241237396230291 </td></tr>\n",
       "\t<tr><th scope=row>5</th><td>G                   </td><td>3.08090404470642    </td><td>2.06978965859218    </td><td>0.290017192556591   </td><td>-0.671849994468876  </td><td>-0.842355807541039  </td><td>0.561914896035826   </td><td>0.295448816098761   </td><td>0.425970505310961   </td><td>-0.306181424408344  </td><td>0.652214142915097   </td><td>-0.135370819342832  </td><td>-0.484202593952064  </td><td>-0.00874823644858047</td><td>0.576243388623218   </td><td>-0.167393614423308  </td><td>0.0253058017656783  </td></tr>\n",
       "\t<tr><th scope=row>6</th><td>S                  </td><td>-0.90472187600623  </td><td>0.510963138217563  </td><td>-1.34247394515109  </td><td>-1.44516115527598  </td><td>-1.9654616296533   </td><td>-0.580435951211513 </td><td>-1.4327417040398   </td><td>-0.209234081015334 </td><td>1.34482635307024   </td><td>-0.451293425331999 </td><td>-0.853754105849287 </td><td>-0.846990129597225 </td><td>-0.066747310051327 </td><td>-0.12387205874616  </td><td>-0.0513829360572581</td><td>-0.422660892425773 </td></tr>\n",
       "</tbody>\n",
       "</table>\n"
      ],
      "text/latex": [
       "\\begin{tabular}{r|lllllllllllllllll}\n",
       "  & class & pca.1 & pca.2 & pca.3 & pca.4 & pca.5 & pca.6 & pca.7 & pca.8 & pca.9 & pca.10 & pca.11 & pca.12 & pca.13 & pca.14 & pca.15 & pca.16\\\\\n",
       "\\hline\n",
       "\t1 & T                  & 2.08028261619075   & -1.72142731015771  & -0.710113382448065 & 0.0148822634102132 & 0.387918199796142  & 0.811044764597959  & 0.105180771540488  & -1.63588953360069  & 0.556814074273519  & -0.349720439588952 & -2.49724542614797  & -0.644770222511263 & 0.674839787015421  & -0.313848410437807 & -0.362157360676203 & 0.177217763592743 \\\\\n",
       "\t2 & I                   & -0.369364055755278  & 2.01407509265268    & -1.14566705140619   & 0.755404634795315   & 1.5010561194808     & 1.59502732084011    & -1.4777230700352    & -0.0472794968952319 & 0.293731839456956   & -0.661666234125814  & 1.09474011470886    & -0.497198343384396  & -0.0129449157201154 & -0.943087582858383  & 0.077753411687716   & 0.390051684900202  \\\\\n",
       "\t3 & D                  & -1.65430804244936  & 1.75494112411836   & -1.2970616851058   & 1.33254595270053   & 0.303550607481222  & 0.533772071407574  & -0.44642736689561  & -0.785291124979741 & 0.250147549661429  & -0.118718771480297 & -0.618839297813893 & 0.843398421789778  & 0.168779558229171  & -0.367809459394144 & -0.192756767146773 & 0.188195162677685 \\\\\n",
       "\t4 & N                  & -1.49024343954884  & -0.508870492685193 & 0.832872344703402  & -1.11160001041751  & 0.350328765778592  & -0.593245282643626 & 0.423537087073522  & -1.64693171401454  & -0.536848434991391 & 1.12339865148135   & 0.559807503910436  & -1.00446024980725  & 1.45282011206005   & -0.92587070944787  & 0.0181103668053001 & 0.241237396230291 \\\\\n",
       "\t5 & G                    & 3.08090404470642     & 2.06978965859218     & 0.290017192556591    & -0.671849994468876   & -0.842355807541039   & 0.561914896035826    & 0.295448816098761    & 0.425970505310961    & -0.306181424408344   & 0.652214142915097    & -0.135370819342832   & -0.484202593952064   & -0.00874823644858047 & 0.576243388623218    & -0.167393614423308   & 0.0253058017656783  \\\\\n",
       "\t6 & S                   & -0.90472187600623   & 0.510963138217563   & -1.34247394515109   & -1.44516115527598   & -1.9654616296533    & -0.580435951211513  & -1.4327417040398    & -0.209234081015334  & 1.34482635307024    & -0.451293425331999  & -0.853754105849287  & -0.846990129597225  & -0.066747310051327  & -0.12387205874616   & -0.0513829360572581 & -0.422660892425773 \\\\\n",
       "\\end{tabular}\n"
      ],
      "text/plain": [
       "  class      pca.1      pca.2      pca.3       pca.4      pca.5      pca.6\n",
       "1     T  2.0802826 -1.7214273 -0.7101134  0.01488226  0.3879182  0.8110448\n",
       "2     I -0.3693641  2.0140751 -1.1456671  0.75540463  1.5010561  1.5950273\n",
       "3     D -1.6543080  1.7549411 -1.2970617  1.33254595  0.3035506  0.5337721\n",
       "4     N -1.4902434 -0.5088705  0.8328723 -1.11160001  0.3503288 -0.5932453\n",
       "5     G  3.0809040  2.0697897  0.2900172 -0.67184999 -0.8423558  0.5619149\n",
       "6     S -0.9047219  0.5109631 -1.3424739 -1.44516116 -1.9654616 -0.5804360\n",
       "       pca.7      pca.8      pca.9     pca.10     pca.11     pca.12\n",
       "1  0.1051808 -1.6358895  0.5568141 -0.3497204 -2.4972454 -0.6447702\n",
       "2 -1.4777231 -0.0472795  0.2937318 -0.6616662  1.0947401 -0.4971983\n",
       "3 -0.4464274 -0.7852911  0.2501475 -0.1187188 -0.6188393  0.8433984\n",
       "4  0.4235371 -1.6469317 -0.5368484  1.1233987  0.5598075 -1.0044602\n",
       "5  0.2954488  0.4259705 -0.3061814  0.6522141 -0.1353708 -0.4842026\n",
       "6 -1.4327417 -0.2092341  1.3448264 -0.4512934 -0.8537541 -0.8469901\n",
       "        pca.13     pca.14      pca.15     pca.16\n",
       "1  0.674839787 -0.3138484 -0.36215736  0.1772178\n",
       "2 -0.012944916 -0.9430876  0.07775341  0.3900517\n",
       "3  0.168779558 -0.3678095 -0.19275677  0.1881952\n",
       "4  1.452820112 -0.9258707  0.01811037  0.2412374\n",
       "5 -0.008748236  0.5762434 -0.16739361  0.0253058\n",
       "6 -0.066747310 -0.1238721 -0.05138294 -0.4226609"
      ]
     },
     "metadata": {},
     "output_type": "display_data"
    }
   ],
   "source": [
    "head(lettersDf)"
   ]
  },
  {
   "cell_type": "code",
   "execution_count": 22,
   "metadata": {
    "collapsed": true
   },
   "outputs": [],
   "source": [
    "decim <- sample_frac(lettersDf, 0.025)"
   ]
  },
  {
   "cell_type": "code",
   "execution_count": 25,
   "metadata": {
    "collapsed": false
   },
   "outputs": [
    {
     "data": {},
     "metadata": {},
     "output_type": "display_data"
    },
    {
     "data": {
      "image/png": "[encoded data removed]",
      "text/plain": [
       "plot without title"
      ]
     },
     "metadata": {},
     "output_type": "display_data"
    }
   ],
   "source": [
    "library(ggplot2)\n",
    "ggplot(decim, aes(label = class, pca.1, pca.2, colour = class)) + geom_text()"
   ]
  },
  {
   "cell_type": "code",
   "execution_count": null,
   "metadata": {
    "collapsed": true
   },
   "outputs": [],
   "source": []
  }
 ],
 "metadata": {
  "kernelspec": {
   "display_name": "R",
   "language": "R",
   "name": "ir"
  },
  "language_info": {
   "codemirror_mode": "r",
   "file_extension": ".r",
   "mimetype": "text/x-r-source",
   "name": "R",
   "pygments_lexer": "r",
   "version": "3.3.2"
  }
 },
 "nbformat": 4,
 "nbformat_minor": 1
}
