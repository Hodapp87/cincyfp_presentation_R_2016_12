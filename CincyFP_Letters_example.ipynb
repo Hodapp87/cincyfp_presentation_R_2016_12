{
 "cells": [
  {
   "cell_type": "code",
   "execution_count": 102,
   "metadata": {
    "collapsed": true
   },
   "outputs": [],
   "source": [
    "library(ggplot2)\n",
    "library(dplyr)"
   ]
  },
  {
   "cell_type": "code",
   "execution_count": 16,
   "metadata": {
    "collapsed": false
   },
   "outputs": [
    {
     "data": {
      "text/html": [
       "<ol class=list-inline>\n",
       "\t<li>0</li>\n",
       "\t<li>1</li>\n",
       "\t<li>2</li>\n",
       "\t<li>3</li>\n",
       "\t<li>4</li>\n",
       "</ol>\n"
      ],
      "text/latex": [
       "\\begin{enumerate*}\n",
       "\\item 0\n",
       "\\item 1\n",
       "\\item 2\n",
       "\\item 3\n",
       "\\item 4\n",
       "\\end{enumerate*}\n"
      ],
      "text/markdown": [
       "1. 0\n",
       "2. 1\n",
       "3. 2\n",
       "4. 3\n",
       "5. 4\n",
       "\n",
       "\n"
      ],
      "text/plain": [
       "[1] 0 1 2 3 4"
      ]
     },
     "metadata": {},
     "output_type": "display_data"
    }
   ],
   "source": [
    "c(0,1,2,3,4)"
   ]
  },
  {
   "cell_type": "code",
   "execution_count": 17,
   "metadata": {
    "collapsed": false
   },
   "outputs": [
    {
     "data": {
      "text/html": [
       "<ol class=list-inline>\n",
       "\t<li>0</li>\n",
       "\t<li>1</li>\n",
       "\t<li>2</li>\n",
       "\t<li>3</li>\n",
       "\t<li>4</li>\n",
       "\t<li>5</li>\n",
       "\t<li>6</li>\n",
       "\t<li>7</li>\n",
       "\t<li>8</li>\n",
       "\t<li>9</li>\n",
       "\t<li>10</li>\n",
       "</ol>\n"
      ],
      "text/latex": [
       "\\begin{enumerate*}\n",
       "\\item 0\n",
       "\\item 1\n",
       "\\item 2\n",
       "\\item 3\n",
       "\\item 4\n",
       "\\item 5\n",
       "\\item 6\n",
       "\\item 7\n",
       "\\item 8\n",
       "\\item 9\n",
       "\\item 10\n",
       "\\end{enumerate*}\n"
      ],
      "text/markdown": [
       "1. 0\n",
       "2. 1\n",
       "3. 2\n",
       "4. 3\n",
       "5. 4\n",
       "6. 5\n",
       "7. 6\n",
       "8. 7\n",
       "9. 8\n",
       "10. 9\n",
       "11. 10\n",
       "\n",
       "\n"
      ],
      "text/plain": [
       " [1]  0  1  2  3  4  5  6  7  8  9 10"
      ]
     },
     "metadata": {},
     "output_type": "display_data"
    }
   ],
   "source": [
    "0:10"
   ]
  },
  {
   "cell_type": "code",
   "execution_count": 18,
   "metadata": {
    "collapsed": false
   },
   "outputs": [
    {
     "data": {
      "text/html": [
       "<ol class=list-inline>\n",
       "\t<li>0</li>\n",
       "\t<li>0.2</li>\n",
       "\t<li>0.4</li>\n",
       "\t<li>0.6</li>\n",
       "\t<li>0.8</li>\n",
       "\t<li>1</li>\n",
       "\t<li>1.2</li>\n",
       "\t<li>1.4</li>\n",
       "\t<li>1.6</li>\n",
       "\t<li>1.8</li>\n",
       "\t<li>2</li>\n",
       "\t<li>2.2</li>\n",
       "\t<li>2.4</li>\n",
       "\t<li>2.6</li>\n",
       "\t<li>2.8</li>\n",
       "\t<li>3</li>\n",
       "\t<li>3.2</li>\n",
       "\t<li>3.4</li>\n",
       "\t<li>3.6</li>\n",
       "\t<li>3.8</li>\n",
       "\t<li>4</li>\n",
       "\t<li>4.2</li>\n",
       "\t<li>4.4</li>\n",
       "\t<li>4.6</li>\n",
       "\t<li>4.8</li>\n",
       "\t<li>5</li>\n",
       "\t<li>5.2</li>\n",
       "\t<li>5.4</li>\n",
       "\t<li>5.6</li>\n",
       "\t<li>5.8</li>\n",
       "\t<li>6</li>\n",
       "\t<li>6.2</li>\n",
       "\t<li>6.4</li>\n",
       "\t<li>6.6</li>\n",
       "\t<li>6.8</li>\n",
       "\t<li>7</li>\n",
       "\t<li>7.2</li>\n",
       "\t<li>7.4</li>\n",
       "\t<li>7.6</li>\n",
       "\t<li>7.8</li>\n",
       "\t<li>8</li>\n",
       "\t<li>8.2</li>\n",
       "\t<li>8.4</li>\n",
       "\t<li>8.6</li>\n",
       "\t<li>8.8</li>\n",
       "\t<li>9</li>\n",
       "\t<li>9.2</li>\n",
       "\t<li>9.4</li>\n",
       "\t<li>9.6</li>\n",
       "\t<li>9.8</li>\n",
       "\t<li>10</li>\n",
       "</ol>\n"
      ],
      "text/latex": [
       "\\begin{enumerate*}\n",
       "\\item 0\n",
       "\\item 0.2\n",
       "\\item 0.4\n",
       "\\item 0.6\n",
       "\\item 0.8\n",
       "\\item 1\n",
       "\\item 1.2\n",
       "\\item 1.4\n",
       "\\item 1.6\n",
       "\\item 1.8\n",
       "\\item 2\n",
       "\\item 2.2\n",
       "\\item 2.4\n",
       "\\item 2.6\n",
       "\\item 2.8\n",
       "\\item 3\n",
       "\\item 3.2\n",
       "\\item 3.4\n",
       "\\item 3.6\n",
       "\\item 3.8\n",
       "\\item 4\n",
       "\\item 4.2\n",
       "\\item 4.4\n",
       "\\item 4.6\n",
       "\\item 4.8\n",
       "\\item 5\n",
       "\\item 5.2\n",
       "\\item 5.4\n",
       "\\item 5.6\n",
       "\\item 5.8\n",
       "\\item 6\n",
       "\\item 6.2\n",
       "\\item 6.4\n",
       "\\item 6.6\n",
       "\\item 6.8\n",
       "\\item 7\n",
       "\\item 7.2\n",
       "\\item 7.4\n",
       "\\item 7.6\n",
       "\\item 7.8\n",
       "\\item 8\n",
       "\\item 8.2\n",
       "\\item 8.4\n",
       "\\item 8.6\n",
       "\\item 8.8\n",
       "\\item 9\n",
       "\\item 9.2\n",
       "\\item 9.4\n",
       "\\item 9.6\n",
       "\\item 9.8\n",
       "\\item 10\n",
       "\\end{enumerate*}\n"
      ],
      "text/markdown": [
       "1. 0\n",
       "2. 0.2\n",
       "3. 0.4\n",
       "4. 0.6\n",
       "5. 0.8\n",
       "6. 1\n",
       "7. 1.2\n",
       "8. 1.4\n",
       "9. 1.6\n",
       "10. 1.8\n",
       "11. 2\n",
       "12. 2.2\n",
       "13. 2.4\n",
       "14. 2.6\n",
       "15. 2.8\n",
       "16. 3\n",
       "17. 3.2\n",
       "18. 3.4\n",
       "19. 3.6\n",
       "20. 3.8\n",
       "21. 4\n",
       "22. 4.2\n",
       "23. 4.4\n",
       "24. 4.6\n",
       "25. 4.8\n",
       "26. 5\n",
       "27. 5.2\n",
       "28. 5.4\n",
       "29. 5.6\n",
       "30. 5.8\n",
       "31. 6\n",
       "32. 6.2\n",
       "33. 6.4\n",
       "34. 6.6\n",
       "35. 6.8\n",
       "36. 7\n",
       "37. 7.2\n",
       "38. 7.4\n",
       "39. 7.6\n",
       "40. 7.8\n",
       "41. 8\n",
       "42. 8.2\n",
       "43. 8.4\n",
       "44. 8.6\n",
       "45. 8.8\n",
       "46. 9\n",
       "47. 9.2\n",
       "48. 9.4\n",
       "49. 9.6\n",
       "50. 9.8\n",
       "51. 10\n",
       "\n",
       "\n"
      ],
      "text/plain": [
       " [1]  0.0  0.2  0.4  0.6  0.8  1.0  1.2  1.4  1.6  1.8  2.0  2.2  2.4  2.6  2.8\n",
       "[16]  3.0  3.2  3.4  3.6  3.8  4.0  4.2  4.4  4.6  4.8  5.0  5.2  5.4  5.6  5.8\n",
       "[31]  6.0  6.2  6.4  6.6  6.8  7.0  7.2  7.4  7.6  7.8  8.0  8.2  8.4  8.6  8.8\n",
       "[46]  9.0  9.2  9.4  9.6  9.8 10.0"
      ]
     },
     "metadata": {},
     "output_type": "display_data"
    }
   ],
   "source": [
    "seq(0,10,0.2)"
   ]
  },
  {
   "cell_type": "code",
   "execution_count": 19,
   "metadata": {
    "collapsed": false
   },
   "outputs": [],
   "source": [
    "x <- 1:10"
   ]
  },
  {
   "cell_type": "code",
   "execution_count": 20,
   "metadata": {
    "collapsed": false
   },
   "outputs": [
    {
     "data": {
      "text/html": [
       "<ol class=list-inline>\n",
       "\t<li>6</li>\n",
       "\t<li>7</li>\n",
       "\t<li>8</li>\n",
       "\t<li>9</li>\n",
       "\t<li>10</li>\n",
       "\t<li>11</li>\n",
       "\t<li>12</li>\n",
       "\t<li>13</li>\n",
       "\t<li>14</li>\n",
       "\t<li>15</li>\n",
       "</ol>\n"
      ],
      "text/latex": [
       "\\begin{enumerate*}\n",
       "\\item 6\n",
       "\\item 7\n",
       "\\item 8\n",
       "\\item 9\n",
       "\\item 10\n",
       "\\item 11\n",
       "\\item 12\n",
       "\\item 13\n",
       "\\item 14\n",
       "\\item 15\n",
       "\\end{enumerate*}\n"
      ],
      "text/markdown": [
       "1. 6\n",
       "2. 7\n",
       "3. 8\n",
       "4. 9\n",
       "5. 10\n",
       "6. 11\n",
       "7. 12\n",
       "8. 13\n",
       "9. 14\n",
       "10. 15\n",
       "\n",
       "\n"
      ],
      "text/plain": [
       " [1]  6  7  8  9 10 11 12 13 14 15"
      ]
     },
     "metadata": {},
     "output_type": "display_data"
    }
   ],
   "source": [
    "x + 5"
   ]
  },
  {
   "cell_type": "code",
   "execution_count": 21,
   "metadata": {
    "collapsed": false
   },
   "outputs": [
    {
     "data": {
      "text/html": [
       "<ol class=list-inline>\n",
       "\t<li>2</li>\n",
       "\t<li>4</li>\n",
       "\t<li>6</li>\n",
       "\t<li>8</li>\n",
       "\t<li>10</li>\n",
       "\t<li>12</li>\n",
       "\t<li>14</li>\n",
       "\t<li>16</li>\n",
       "\t<li>18</li>\n",
       "\t<li>20</li>\n",
       "</ol>\n"
      ],
      "text/latex": [
       "\\begin{enumerate*}\n",
       "\\item 2\n",
       "\\item 4\n",
       "\\item 6\n",
       "\\item 8\n",
       "\\item 10\n",
       "\\item 12\n",
       "\\item 14\n",
       "\\item 16\n",
       "\\item 18\n",
       "\\item 20\n",
       "\\end{enumerate*}\n"
      ],
      "text/markdown": [
       "1. 2\n",
       "2. 4\n",
       "3. 6\n",
       "4. 8\n",
       "5. 10\n",
       "6. 12\n",
       "7. 14\n",
       "8. 16\n",
       "9. 18\n",
       "10. 20\n",
       "\n",
       "\n"
      ],
      "text/plain": [
       " [1]  2  4  6  8 10 12 14 16 18 20"
      ]
     },
     "metadata": {},
     "output_type": "display_data"
    }
   ],
   "source": [
    "x + x"
   ]
  },
  {
   "cell_type": "code",
   "execution_count": 31,
   "metadata": {
    "collapsed": false
   },
   "outputs": [
    {
     "data": {
      "text/html": [
       "<ol class=list-inline>\n",
       "\t<li>3</li>\n",
       "\t<li>4</li>\n",
       "\t<li>5</li>\n",
       "\t<li>6</li>\n",
       "\t<li>7</li>\n",
       "\t<li>8</li>\n",
       "\t<li>9</li>\n",
       "\t<li>10</li>\n",
       "</ol>\n"
      ],
      "text/latex": [
       "\\begin{enumerate*}\n",
       "\\item 3\n",
       "\\item 4\n",
       "\\item 5\n",
       "\\item 6\n",
       "\\item 7\n",
       "\\item 8\n",
       "\\item 9\n",
       "\\item 10\n",
       "\\end{enumerate*}\n"
      ],
      "text/markdown": [
       "1. 3\n",
       "2. 4\n",
       "3. 5\n",
       "4. 6\n",
       "5. 7\n",
       "6. 8\n",
       "7. 9\n",
       "8. 10\n",
       "\n",
       "\n"
      ],
      "text/plain": [
       "[1]  3  4  5  6  7  8  9 10"
      ]
     },
     "metadata": {},
     "output_type": "display_data"
    }
   ],
   "source": [
    "x[-c(1,2)]"
   ]
  },
  {
   "cell_type": "code",
   "execution_count": 32,
   "metadata": {
    "collapsed": false
   },
   "outputs": [
    {
     "data": {
      "text/html": [
       "<ol class=list-inline>\n",
       "\t<li>TRUE</li>\n",
       "\t<li>TRUE</li>\n",
       "\t<li>TRUE</li>\n",
       "\t<li>TRUE</li>\n",
       "\t<li>FALSE</li>\n",
       "\t<li>FALSE</li>\n",
       "\t<li>FALSE</li>\n",
       "\t<li>FALSE</li>\n",
       "\t<li>FALSE</li>\n",
       "\t<li>FALSE</li>\n",
       "</ol>\n"
      ],
      "text/latex": [
       "\\begin{enumerate*}\n",
       "\\item TRUE\n",
       "\\item TRUE\n",
       "\\item TRUE\n",
       "\\item TRUE\n",
       "\\item FALSE\n",
       "\\item FALSE\n",
       "\\item FALSE\n",
       "\\item FALSE\n",
       "\\item FALSE\n",
       "\\item FALSE\n",
       "\\end{enumerate*}\n"
      ],
      "text/markdown": [
       "1. TRUE\n",
       "2. TRUE\n",
       "3. TRUE\n",
       "4. TRUE\n",
       "5. FALSE\n",
       "6. FALSE\n",
       "7. FALSE\n",
       "8. FALSE\n",
       "9. FALSE\n",
       "10. FALSE\n",
       "\n",
       "\n"
      ],
      "text/plain": [
       " [1]  TRUE  TRUE  TRUE  TRUE FALSE FALSE FALSE FALSE FALSE FALSE"
      ]
     },
     "metadata": {},
     "output_type": "display_data"
    }
   ],
   "source": [
    "x < 5"
   ]
  },
  {
   "cell_type": "code",
   "execution_count": 33,
   "metadata": {
    "collapsed": false
   },
   "outputs": [
    {
     "data": {
      "text/html": [
       "<ol class=list-inline>\n",
       "\t<li>1</li>\n",
       "\t<li>2</li>\n",
       "\t<li>3</li>\n",
       "\t<li>4</li>\n",
       "</ol>\n"
      ],
      "text/latex": [
       "\\begin{enumerate*}\n",
       "\\item 1\n",
       "\\item 2\n",
       "\\item 3\n",
       "\\item 4\n",
       "\\end{enumerate*}\n"
      ],
      "text/markdown": [
       "1. 1\n",
       "2. 2\n",
       "3. 3\n",
       "4. 4\n",
       "\n",
       "\n"
      ],
      "text/plain": [
       "[1] 1 2 3 4"
      ]
     },
     "metadata": {},
     "output_type": "display_data"
    }
   ],
   "source": [
    "x[x < 5]"
   ]
  },
  {
   "cell_type": "code",
   "execution_count": 8,
   "metadata": {
    "collapsed": false
   },
   "outputs": [
    {
     "data": {
      "text/html": [
       "55"
      ],
      "text/latex": [
       "55"
      ],
      "text/markdown": [
       "55"
      ],
      "text/plain": [
       "[1] 55"
      ]
     },
     "metadata": {},
     "output_type": "display_data"
    }
   ],
   "source": [
    "sum(x)"
   ]
  },
  {
   "cell_type": "code",
   "execution_count": 9,
   "metadata": {
    "collapsed": false
   },
   "outputs": [
    {
     "data": {
      "text/html": [
       "<ol class=list-inline>\n",
       "\t<li>10</li>\n",
       "\t<li>20</li>\n",
       "\t<li>30</li>\n",
       "\t<li>40</li>\n",
       "\t<li>50</li>\n",
       "\t<li>60</li>\n",
       "\t<li>70</li>\n",
       "\t<li>80</li>\n",
       "\t<li>90</li>\n",
       "\t<li>100</li>\n",
       "</ol>\n"
      ],
      "text/latex": [
       "\\begin{enumerate*}\n",
       "\\item 10\n",
       "\\item 20\n",
       "\\item 30\n",
       "\\item 40\n",
       "\\item 50\n",
       "\\item 60\n",
       "\\item 70\n",
       "\\item 80\n",
       "\\item 90\n",
       "\\item 100\n",
       "\\end{enumerate*}\n"
      ],
      "text/markdown": [
       "1. 10\n",
       "2. 20\n",
       "3. 30\n",
       "4. 40\n",
       "5. 50\n",
       "6. 60\n",
       "7. 70\n",
       "8. 80\n",
       "9. 90\n",
       "10. 100\n",
       "\n",
       "\n"
      ],
      "text/plain": [
       " [1]  10  20  30  40  50  60  70  80  90 100"
      ]
     },
     "metadata": {},
     "output_type": "display_data"
    }
   ],
   "source": [
    "x*10"
   ]
  },
  {
   "cell_type": "code",
   "execution_count": 10,
   "metadata": {
    "collapsed": false
   },
   "outputs": [
    {
     "data": {
      "text/html": [
       "<ol class=list-inline>\n",
       "\t<li>11</li>\n",
       "\t<li>12</li>\n",
       "\t<li>13</li>\n",
       "\t<li>14</li>\n",
       "\t<li>15</li>\n",
       "\t<li>16</li>\n",
       "\t<li>17</li>\n",
       "\t<li>18</li>\n",
       "\t<li>19</li>\n",
       "\t<li>20</li>\n",
       "</ol>\n"
      ],
      "text/latex": [
       "\\begin{enumerate*}\n",
       "\\item 11\n",
       "\\item 12\n",
       "\\item 13\n",
       "\\item 14\n",
       "\\item 15\n",
       "\\item 16\n",
       "\\item 17\n",
       "\\item 18\n",
       "\\item 19\n",
       "\\item 20\n",
       "\\end{enumerate*}\n"
      ],
      "text/markdown": [
       "1. 11\n",
       "2. 12\n",
       "3. 13\n",
       "4. 14\n",
       "5. 15\n",
       "6. 16\n",
       "7. 17\n",
       "8. 18\n",
       "9. 19\n",
       "10. 20\n",
       "\n",
       "\n"
      ],
      "text/plain": [
       " [1] 11 12 13 14 15 16 17 18 19 20"
      ]
     },
     "metadata": {},
     "output_type": "display_data"
    }
   ],
   "source": [
    "x + 10"
   ]
  },
  {
   "cell_type": "code",
   "execution_count": 11,
   "metadata": {
    "collapsed": false
   },
   "outputs": [
    {
     "data": {
      "text/html": [
       "<ol class=list-inline>\n",
       "\t<li>1</li>\n",
       "\t<li>4</li>\n",
       "\t<li>9</li>\n",
       "\t<li>16</li>\n",
       "\t<li>25</li>\n",
       "\t<li>36</li>\n",
       "\t<li>49</li>\n",
       "\t<li>64</li>\n",
       "\t<li>81</li>\n",
       "\t<li>100</li>\n",
       "</ol>\n"
      ],
      "text/latex": [
       "\\begin{enumerate*}\n",
       "\\item 1\n",
       "\\item 4\n",
       "\\item 9\n",
       "\\item 16\n",
       "\\item 25\n",
       "\\item 36\n",
       "\\item 49\n",
       "\\item 64\n",
       "\\item 81\n",
       "\\item 100\n",
       "\\end{enumerate*}\n"
      ],
      "text/markdown": [
       "1. 1\n",
       "2. 4\n",
       "3. 9\n",
       "4. 16\n",
       "5. 25\n",
       "6. 36\n",
       "7. 49\n",
       "8. 64\n",
       "9. 81\n",
       "10. 100\n",
       "\n",
       "\n"
      ],
      "text/plain": [
       " [1]   1   4   9  16  25  36  49  64  81 100"
      ]
     },
     "metadata": {},
     "output_type": "display_data"
    }
   ],
   "source": [
    "x * x"
   ]
  },
  {
   "cell_type": "code",
   "execution_count": 13,
   "metadata": {
    "collapsed": false
   },
   "outputs": [
    {
     "data": {
      "text/html": [
       "<ol class=list-inline>\n",
       "\t<li>5</li>\n",
       "\t<li>6</li>\n",
       "\t<li>7</li>\n",
       "\t<li>8</li>\n",
       "\t<li>9</li>\n",
       "\t<li>10</li>\n",
       "</ol>\n"
      ],
      "text/latex": [
       "\\begin{enumerate*}\n",
       "\\item 5\n",
       "\\item 6\n",
       "\\item 7\n",
       "\\item 8\n",
       "\\item 9\n",
       "\\item 10\n",
       "\\end{enumerate*}\n"
      ],
      "text/markdown": [
       "1. 5\n",
       "2. 6\n",
       "3. 7\n",
       "4. 8\n",
       "5. 9\n",
       "6. 10\n",
       "\n",
       "\n"
      ],
      "text/plain": [
       "[1]  5  6  7  8  9 10"
      ]
     },
     "metadata": {},
     "output_type": "display_data"
    }
   ],
   "source": [
    "intersect(x, 5:20)"
   ]
  },
  {
   "cell_type": "code",
   "execution_count": 14,
   "metadata": {
    "collapsed": false
   },
   "outputs": [
    {
     "data": {
      "text/html": [
       "<ol class=list-inline>\n",
       "\t<li>1</li>\n",
       "\t<li>2</li>\n",
       "\t<li>3</li>\n",
       "\t<li>4</li>\n",
       "\t<li>5</li>\n",
       "\t<li>6</li>\n",
       "\t<li>7</li>\n",
       "\t<li>8</li>\n",
       "\t<li>9</li>\n",
       "\t<li>10</li>\n",
       "\t<li>11</li>\n",
       "\t<li>12</li>\n",
       "\t<li>13</li>\n",
       "\t<li>14</li>\n",
       "\t<li>15</li>\n",
       "\t<li>16</li>\n",
       "\t<li>17</li>\n",
       "\t<li>18</li>\n",
       "\t<li>19</li>\n",
       "\t<li>20</li>\n",
       "</ol>\n"
      ],
      "text/latex": [
       "\\begin{enumerate*}\n",
       "\\item 1\n",
       "\\item 2\n",
       "\\item 3\n",
       "\\item 4\n",
       "\\item 5\n",
       "\\item 6\n",
       "\\item 7\n",
       "\\item 8\n",
       "\\item 9\n",
       "\\item 10\n",
       "\\item 11\n",
       "\\item 12\n",
       "\\item 13\n",
       "\\item 14\n",
       "\\item 15\n",
       "\\item 16\n",
       "\\item 17\n",
       "\\item 18\n",
       "\\item 19\n",
       "\\item 20\n",
       "\\end{enumerate*}\n"
      ],
      "text/markdown": [
       "1. 1\n",
       "2. 2\n",
       "3. 3\n",
       "4. 4\n",
       "5. 5\n",
       "6. 6\n",
       "7. 7\n",
       "8. 8\n",
       "9. 9\n",
       "10. 10\n",
       "11. 11\n",
       "12. 12\n",
       "13. 13\n",
       "14. 14\n",
       "15. 15\n",
       "16. 16\n",
       "17. 17\n",
       "18. 18\n",
       "19. 19\n",
       "20. 20\n",
       "\n",
       "\n"
      ],
      "text/plain": [
       " [1]  1  2  3  4  5  6  7  8  9 10 11 12 13 14 15 16 17 18 19 20"
      ]
     },
     "metadata": {},
     "output_type": "display_data"
    }
   ],
   "source": [
    "union(x, 5:20)"
   ]
  },
  {
   "cell_type": "code",
   "execution_count": 15,
   "metadata": {
    "collapsed": false
   },
   "outputs": [
    {
     "data": {
      "text/html": [
       "<ol class=list-inline>\n",
       "\t<li>1</li>\n",
       "\t<li>2</li>\n",
       "\t<li>3</li>\n",
       "\t<li>4</li>\n",
       "\t<li>5</li>\n",
       "\t<li>6</li>\n",
       "\t<li>7</li>\n",
       "\t<li>8</li>\n",
       "\t<li>9</li>\n",
       "\t<li>10</li>\n",
       "</ol>\n"
      ],
      "text/latex": [
       "\\begin{enumerate*}\n",
       "\\item 1\n",
       "\\item 2\n",
       "\\item 3\n",
       "\\item 4\n",
       "\\item 5\n",
       "\\item 6\n",
       "\\item 7\n",
       "\\item 8\n",
       "\\item 9\n",
       "\\item 10\n",
       "\\end{enumerate*}\n"
      ],
      "text/markdown": [
       "1. 1\n",
       "2. 2\n",
       "3. 3\n",
       "4. 4\n",
       "5. 5\n",
       "6. 6\n",
       "7. 7\n",
       "8. 8\n",
       "9. 9\n",
       "10. 10\n",
       "\n",
       "\n"
      ],
      "text/plain": [
       " [1]  1  2  3  4  5  6  7  8  9 10"
      ]
     },
     "metadata": {},
     "output_type": "display_data"
    }
   ],
   "source": [
    "x"
   ]
  },
  {
   "cell_type": "code",
   "execution_count": 16,
   "metadata": {
    "collapsed": false
   },
   "outputs": [
    {
     "data": {
      "text/html": [
       "5.5"
      ],
      "text/latex": [
       "5.5"
      ],
      "text/markdown": [
       "5.5"
      ],
      "text/plain": [
       "[1] 5.5"
      ]
     },
     "metadata": {},
     "output_type": "display_data"
    }
   ],
   "source": [
    "mean(x)"
   ]
  },
  {
   "cell_type": "code",
   "execution_count": 54,
   "metadata": {
    "collapsed": false
   },
   "outputs": [
    {
     "name": "stderr",
     "output_type": "stream",
     "text": [
      "Warning message in sqrt(-1):\n",
      "“NaNs produced”"
     ]
    },
    {
     "data": {
      "text/html": [
       "NaN"
      ],
      "text/latex": [
       "NaN"
      ],
      "text/markdown": [
       "NaN"
      ],
      "text/plain": [
       "[1] NaN"
      ]
     },
     "metadata": {},
     "output_type": "display_data"
    }
   ],
   "source": [
    "sqrt(-1)"
   ]
  },
  {
   "cell_type": "code",
   "execution_count": 48,
   "metadata": {
    "collapsed": false
   },
   "outputs": [
    {
     "data": {
      "text/html": [
       "<table>\n",
       "<tbody>\n",
       "\t<tr><td>2 </td><td>-1</td><td>0 </td><td>0 </td></tr>\n",
       "\t<tr><td>0 </td><td> 0</td><td>1 </td><td>1 </td></tr>\n",
       "</tbody>\n",
       "</table>\n"
      ],
      "text/latex": [
       "\\begin{tabular}{llll}\n",
       "\t 2  & -1 & 0  & 0 \\\\\n",
       "\t 0  &  0 & 1  & 1 \\\\\n",
       "\\end{tabular}\n"
      ],
      "text/markdown": [
       "\n",
       "| 2  | -1 | 0  | 0  | \n",
       "| 0  |  0 | 1  | 1  | \n",
       "\n",
       "\n"
      ],
      "text/plain": [
       "     [,1] [,2] [,3] [,4]\n",
       "[1,] 2    -1   0    0   \n",
       "[2,] 0     0   1    1   "
      ]
     },
     "metadata": {},
     "output_type": "display_data"
    }
   ],
   "source": [
    "b <- matrix(c(2,0,-1,0,0,1,0,1), nrow=2)\n",
    "b"
   ]
  },
  {
   "cell_type": "code",
   "execution_count": 50,
   "metadata": {
    "collapsed": false
   },
   "outputs": [
    {
     "data": {
      "text/html": [
       "<table>\n",
       "<tbody>\n",
       "\t<tr><td>1</td><td>1</td><td>1</td><td>1</td></tr>\n",
       "</tbody>\n",
       "</table>\n"
      ],
      "text/latex": [
       "\\begin{tabular}{llll}\n",
       "\t 1 & 1 & 1 & 1\\\\\n",
       "\\end{tabular}\n"
      ],
      "text/markdown": [
       "\n",
       "| 1 | 1 | 1 | 1 | \n",
       "\n",
       "\n"
      ],
      "text/plain": [
       "     [,1] [,2] [,3] [,4]\n",
       "[1,] 1    1    1    1   "
      ]
     },
     "metadata": {},
     "output_type": "display_data"
    }
   ],
   "source": [
    "x <- c(1,1,1,1)\n",
    "t(x)"
   ]
  },
  {
   "cell_type": "code",
   "execution_count": 54,
   "metadata": {
    "collapsed": false
   },
   "outputs": [
    {
     "data": {
      "text/html": [
       "<table>\n",
       "<tbody>\n",
       "\t<tr><td>1</td></tr>\n",
       "\t<tr><td>2</td></tr>\n",
       "</tbody>\n",
       "</table>\n"
      ],
      "text/latex": [
       "\\begin{tabular}{l}\n",
       "\t 1\\\\\n",
       "\t 2\\\\\n",
       "\\end{tabular}\n"
      ],
      "text/markdown": [
       "\n",
       "| 1 | \n",
       "| 2 | \n",
       "\n",
       "\n"
      ],
      "text/plain": [
       "     [,1]\n",
       "[1,] 1   \n",
       "[2,] 2   "
      ]
     },
     "metadata": {},
     "output_type": "display_data"
    }
   ],
   "source": [
    "b %*% x"
   ]
  },
  {
   "cell_type": "code",
   "execution_count": 57,
   "metadata": {
    "collapsed": false
   },
   "outputs": [
    {
     "data": {
      "text/plain": [
       "[1] NA"
      ]
     },
     "metadata": {},
     "output_type": "display_data"
    }
   ],
   "source": [
    "NA"
   ]
  },
  {
   "cell_type": "code",
   "execution_count": 60,
   "metadata": {
    "collapsed": false
   },
   "outputs": [],
   "source": [
    "v_na <- c(0,1,2,3,4,5,6,7,NA,NA,NA)"
   ]
  },
  {
   "cell_type": "code",
   "execution_count": 67,
   "metadata": {
    "collapsed": false
   },
   "outputs": [
    {
     "data": {
      "text/html": [
       "3.5"
      ],
      "text/latex": [
       "3.5"
      ],
      "text/markdown": [
       "3.5"
      ],
      "text/plain": [
       "[1] 3.5"
      ]
     },
     "metadata": {},
     "output_type": "display_data"
    }
   ],
   "source": [
    "mean(v_na, na.rm = TRUE)"
   ]
  },
  {
   "cell_type": "code",
   "execution_count": 35,
   "metadata": {
    "collapsed": false
   },
   "outputs": [
    {
     "data": {
      "text/html": [
       "<table>\n",
       "<tbody>\n",
       "\t<tr><td>0</td><td>2</td></tr>\n",
       "\t<tr><td>1</td><td>3</td></tr>\n",
       "</tbody>\n",
       "</table>\n"
      ],
      "text/latex": [
       "\\begin{tabular}{ll}\n",
       "\t 0 & 2\\\\\n",
       "\t 1 & 3\\\\\n",
       "\\end{tabular}\n"
      ],
      "text/markdown": [
       "\n",
       "| 0 | 2 | \n",
       "| 1 | 3 | \n",
       "\n",
       "\n"
      ],
      "text/plain": [
       "     [,1] [,2]\n",
       "[1,] 0    2   \n",
       "[2,] 1    3   "
      ]
     },
     "metadata": {},
     "output_type": "display_data"
    }
   ],
   "source": [
    "m <- matrix(c(0,1,2,3), nrow=2)\n",
    "m"
   ]
  },
  {
   "cell_type": "code",
   "execution_count": 41,
   "metadata": {
    "collapsed": false
   },
   "outputs": [
    {
     "data": {
      "text/html": [
       "<table>\n",
       "<tbody>\n",
       "\t<tr><td>0</td><td>1</td></tr>\n",
       "\t<tr><td>2</td><td>3</td></tr>\n",
       "</tbody>\n",
       "</table>\n"
      ],
      "text/latex": [
       "\\begin{tabular}{ll}\n",
       "\t 0 & 1\\\\\n",
       "\t 2 & 3\\\\\n",
       "\\end{tabular}\n"
      ],
      "text/markdown": [
       "\n",
       "| 0 | 1 | \n",
       "| 2 | 3 | \n",
       "\n",
       "\n"
      ],
      "text/plain": [
       "     [,1] [,2]\n",
       "[1,] 0    1   \n",
       "[2,] 2    3   "
      ]
     },
     "metadata": {},
     "output_type": "display_data"
    }
   ],
   "source": [
    "t(m)"
   ]
  },
  {
   "cell_type": "code",
   "execution_count": 20,
   "metadata": {
    "collapsed": false
   },
   "outputs": [
    {
     "data": {
      "text/html": [
       "'integer'"
      ],
      "text/latex": [
       "'integer'"
      ],
      "text/markdown": [
       "'integer'"
      ],
      "text/plain": [
       "[1] \"integer\""
      ]
     },
     "metadata": {},
     "output_type": "display_data"
    }
   ],
   "source": [
    "class(x)"
   ]
  },
  {
   "cell_type": "code",
   "execution_count": 21,
   "metadata": {
    "collapsed": false
   },
   "outputs": [
    {
     "data": {
      "text/html": [
       "'integer'"
      ],
      "text/latex": [
       "'integer'"
      ],
      "text/markdown": [
       "'integer'"
      ],
      "text/plain": [
       "[1] \"integer\""
      ]
     },
     "metadata": {},
     "output_type": "display_data"
    }
   ],
   "source": [
    "typeof(x)"
   ]
  },
  {
   "cell_type": "code",
   "execution_count": 22,
   "metadata": {
    "collapsed": true
   },
   "outputs": [],
   "source": [
    "v <- c(0,1,2)"
   ]
  },
  {
   "cell_type": "code",
   "execution_count": 23,
   "metadata": {
    "collapsed": false
   },
   "outputs": [
    {
     "data": {
      "text/plain": [
       "NULL"
      ]
     },
     "metadata": {},
     "output_type": "display_data"
    }
   ],
   "source": [
    "names(v)"
   ]
  },
  {
   "cell_type": "code",
   "execution_count": 24,
   "metadata": {
    "collapsed": true
   },
   "outputs": [],
   "source": [
    "names(v) <- c(\"x\", \"y\", \"z\")"
   ]
  },
  {
   "cell_type": "code",
   "execution_count": 25,
   "metadata": {
    "collapsed": false
   },
   "outputs": [
    {
     "data": {
      "text/html": [
       "<dl class=dl-horizontal>\n",
       "\t<dt>x</dt>\n",
       "\t\t<dd>0</dd>\n",
       "\t<dt>y</dt>\n",
       "\t\t<dd>1</dd>\n",
       "\t<dt>z</dt>\n",
       "\t\t<dd>2</dd>\n",
       "</dl>\n"
      ],
      "text/latex": [
       "\\begin{description*}\n",
       "\\item[x] 0\n",
       "\\item[y] 1\n",
       "\\item[z] 2\n",
       "\\end{description*}\n"
      ],
      "text/markdown": [
       "x\n",
       ":   0y\n",
       ":   1z\n",
       ":   2\n",
       "\n"
      ],
      "text/plain": [
       "x y z \n",
       "0 1 2 "
      ]
     },
     "metadata": {},
     "output_type": "display_data"
    }
   ],
   "source": [
    "v"
   ]
  },
  {
   "cell_type": "code",
   "execution_count": 26,
   "metadata": {
    "collapsed": false
   },
   "outputs": [
    {
     "data": {
      "text/html": [
       "<dl class=dl-horizontal>\n",
       "\t<dt>x</dt>\n",
       "\t\t<dd>0</dd>\n",
       "\t<dt>y</dt>\n",
       "\t\t<dd>1</dd>\n",
       "\t<dt>z</dt>\n",
       "\t\t<dd>2</dd>\n",
       "</dl>\n"
      ],
      "text/latex": [
       "\\begin{description*}\n",
       "\\item[x] 0\n",
       "\\item[y] 1\n",
       "\\item[z] 2\n",
       "\\end{description*}\n"
      ],
      "text/markdown": [
       "x\n",
       ":   0y\n",
       ":   1z\n",
       ":   2\n",
       "\n"
      ],
      "text/plain": [
       "x y z \n",
       "0 1 2 "
      ]
     },
     "metadata": {},
     "output_type": "display_data"
    }
   ],
   "source": [
    "v"
   ]
  },
  {
   "cell_type": "code",
   "execution_count": 27,
   "metadata": {
    "collapsed": false
   },
   "outputs": [
    {
     "data": {
      "text/html": [
       "<ol class=list-inline>\n",
       "\t<li>0</li>\n",
       "\t<li>1</li>\n",
       "\t<li>2</li>\n",
       "</ol>\n"
      ],
      "text/latex": [
       "\\begin{enumerate*}\n",
       "\\item 0\n",
       "\\item 1\n",
       "\\item 2\n",
       "\\end{enumerate*}\n"
      ],
      "text/markdown": [
       "1. 0\n",
       "2. 1\n",
       "3. 2\n",
       "\n",
       "\n"
      ],
      "text/plain": [
       "[1] 0 1 2"
      ]
     },
     "metadata": {},
     "output_type": "display_data"
    }
   ],
   "source": [
    "0:2"
   ]
  },
  {
   "cell_type": "code",
   "execution_count": 28,
   "metadata": {
    "collapsed": false
   },
   "outputs": [
    {
     "data": {
      "text/html": [
       "<strong>x:</strong> 0"
      ],
      "text/latex": [
       "\\textbf{x:} 0"
      ],
      "text/markdown": [
       "**x:** 0"
      ],
      "text/plain": [
       "x \n",
       "0 "
      ]
     },
     "metadata": {},
     "output_type": "display_data"
    }
   ],
   "source": [
    "v[\"x\"]"
   ]
  },
  {
   "cell_type": "code",
   "execution_count": 87,
   "metadata": {
    "collapsed": false
   },
   "outputs": [
    {
     "data": {
      "text/html": [
       "<ol class=list-inline>\n",
       "\t<li>0</li>\n",
       "\t<li>20</li>\n",
       "</ol>\n"
      ],
      "text/latex": [
       "\\begin{enumerate*}\n",
       "\\item 0\n",
       "\\item 20\n",
       "\\end{enumerate*}\n"
      ],
      "text/markdown": [
       "1. 0\n",
       "2. 20\n",
       "\n",
       "\n"
      ],
      "text/plain": [
       "[1]  0 20"
      ]
     },
     "metadata": {},
     "output_type": "display_data"
    }
   ],
   "source": [
    "c(0,20)"
   ]
  },
  {
   "cell_type": "code",
   "execution_count": 90,
   "metadata": {
    "collapsed": false
   },
   "outputs": [
    {
     "data": {
      "text/html": [
       "<ol class=list-inline>\n",
       "\t<li>1</li>\n",
       "\t<li>2</li>\n",
       "\t<li>3</li>\n",
       "\t<li>4</li>\n",
       "\t<li>5</li>\n",
       "\t<li>6</li>\n",
       "\t<li>7</li>\n",
       "\t<li>8</li>\n",
       "\t<li>9</li>\n",
       "\t<li>10</li>\n",
       "</ol>\n"
      ],
      "text/latex": [
       "\\begin{enumerate*}\n",
       "\\item 1\n",
       "\\item 2\n",
       "\\item 3\n",
       "\\item 4\n",
       "\\item 5\n",
       "\\item 6\n",
       "\\item 7\n",
       "\\item 8\n",
       "\\item 9\n",
       "\\item 10\n",
       "\\end{enumerate*}\n"
      ],
      "text/markdown": [
       "1. 1\n",
       "2. 2\n",
       "3. 3\n",
       "4. 4\n",
       "5. 5\n",
       "6. 6\n",
       "7. 7\n",
       "8. 8\n",
       "9. 9\n",
       "10. 10\n",
       "\n",
       "\n"
      ],
      "text/plain": [
       " [1]  1  2  3  4  5  6  7  8  9 10"
      ]
     },
     "metadata": {},
     "output_type": "display_data"
    }
   ],
   "source": [
    "1:10"
   ]
  },
  {
   "cell_type": "code",
   "execution_count": 91,
   "metadata": {
    "collapsed": false
   },
   "outputs": [
    {
     "data": {
      "text/html": [
       "<ol class=list-inline>\n",
       "\t<li>1</li>\n",
       "\t<li>22</li>\n",
       "\t<li>3</li>\n",
       "\t<li>24</li>\n",
       "\t<li>5</li>\n",
       "\t<li>26</li>\n",
       "\t<li>7</li>\n",
       "\t<li>28</li>\n",
       "\t<li>9</li>\n",
       "\t<li>30</li>\n",
       "</ol>\n"
      ],
      "text/latex": [
       "\\begin{enumerate*}\n",
       "\\item 1\n",
       "\\item 22\n",
       "\\item 3\n",
       "\\item 24\n",
       "\\item 5\n",
       "\\item 26\n",
       "\\item 7\n",
       "\\item 28\n",
       "\\item 9\n",
       "\\item 30\n",
       "\\end{enumerate*}\n"
      ],
      "text/markdown": [
       "1. 1\n",
       "2. 22\n",
       "3. 3\n",
       "4. 24\n",
       "5. 5\n",
       "6. 26\n",
       "7. 7\n",
       "8. 28\n",
       "9. 9\n",
       "10. 30\n",
       "\n",
       "\n"
      ],
      "text/plain": [
       " [1]  1 22  3 24  5 26  7 28  9 30"
      ]
     },
     "metadata": {},
     "output_type": "display_data"
    }
   ],
   "source": [
    "c(0,20) + 1:10"
   ]
  },
  {
   "cell_type": "code",
   "execution_count": 43,
   "metadata": {
    "collapsed": false
   },
   "outputs": [
    {
     "data": {
      "text/html": [
       "<table>\n",
       "<thead><tr><th></th><th scope=col>mpg</th><th scope=col>cyl</th><th scope=col>disp</th><th scope=col>hp</th><th scope=col>drat</th><th scope=col>wt</th><th scope=col>qsec</th><th scope=col>vs</th><th scope=col>am</th><th scope=col>gear</th><th scope=col>carb</th></tr></thead>\n",
       "<tbody>\n",
       "\t<tr><th scope=row>Mazda RX4</th><td>21.0 </td><td>6    </td><td>160  </td><td>110  </td><td>3.90 </td><td>2.620</td><td>16.46</td><td>0    </td><td>1    </td><td>4    </td><td>4    </td></tr>\n",
       "\t<tr><th scope=row>Mazda RX4 Wag</th><td>21.0 </td><td>6    </td><td>160  </td><td>110  </td><td>3.90 </td><td>2.875</td><td>17.02</td><td>0    </td><td>1    </td><td>4    </td><td>4    </td></tr>\n",
       "\t<tr><th scope=row>Datsun 710</th><td>22.8 </td><td>4    </td><td>108  </td><td> 93  </td><td>3.85 </td><td>2.320</td><td>18.61</td><td>1    </td><td>1    </td><td>4    </td><td>1    </td></tr>\n",
       "\t<tr><th scope=row>Hornet 4 Drive</th><td>21.4 </td><td>6    </td><td>258  </td><td>110  </td><td>3.08 </td><td>3.215</td><td>19.44</td><td>1    </td><td>0    </td><td>3    </td><td>1    </td></tr>\n",
       "\t<tr><th scope=row>Hornet Sportabout</th><td>18.7 </td><td>8    </td><td>360  </td><td>175  </td><td>3.15 </td><td>3.440</td><td>17.02</td><td>0    </td><td>0    </td><td>3    </td><td>2    </td></tr>\n",
       "\t<tr><th scope=row>Valiant</th><td>18.1 </td><td>6    </td><td>225  </td><td>105  </td><td>2.76 </td><td>3.460</td><td>20.22</td><td>1    </td><td>0    </td><td>3    </td><td>1    </td></tr>\n",
       "</tbody>\n",
       "</table>\n"
      ],
      "text/latex": [
       "\\begin{tabular}{r|lllllllllll}\n",
       "  & mpg & cyl & disp & hp & drat & wt & qsec & vs & am & gear & carb\\\\\n",
       "\\hline\n",
       "\tMazda RX4 & 21.0  & 6     & 160   & 110   & 3.90  & 2.620 & 16.46 & 0     & 1     & 4     & 4    \\\\\n",
       "\tMazda RX4 Wag & 21.0  & 6     & 160   & 110   & 3.90  & 2.875 & 17.02 & 0     & 1     & 4     & 4    \\\\\n",
       "\tDatsun 710 & 22.8  & 4     & 108   &  93   & 3.85  & 2.320 & 18.61 & 1     & 1     & 4     & 1    \\\\\n",
       "\tHornet 4 Drive & 21.4  & 6     & 258   & 110   & 3.08  & 3.215 & 19.44 & 1     & 0     & 3     & 1    \\\\\n",
       "\tHornet Sportabout & 18.7  & 8     & 360   & 175   & 3.15  & 3.440 & 17.02 & 0     & 0     & 3     & 2    \\\\\n",
       "\tValiant & 18.1  & 6     & 225   & 105   & 2.76  & 3.460 & 20.22 & 1     & 0     & 3     & 1    \\\\\n",
       "\\end{tabular}\n"
      ],
      "text/markdown": [
       "\n",
       "| <!--/--> | mpg | cyl | disp | hp | drat | wt | qsec | vs | am | gear | carb | \n",
       "|---|---|---|---|---|---|\n",
       "| Mazda RX4 | 21.0  | 6     | 160   | 110   | 3.90  | 2.620 | 16.46 | 0     | 1     | 4     | 4     | \n",
       "| Mazda RX4 Wag | 21.0  | 6     | 160   | 110   | 3.90  | 2.875 | 17.02 | 0     | 1     | 4     | 4     | \n",
       "| Datsun 710 | 22.8  | 4     | 108   |  93   | 3.85  | 2.320 | 18.61 | 1     | 1     | 4     | 1     | \n",
       "| Hornet 4 Drive | 21.4  | 6     | 258   | 110   | 3.08  | 3.215 | 19.44 | 1     | 0     | 3     | 1     | \n",
       "| Hornet Sportabout | 18.7  | 8     | 360   | 175   | 3.15  | 3.440 | 17.02 | 0     | 0     | 3     | 2     | \n",
       "| Valiant | 18.1  | 6     | 225   | 105   | 2.76  | 3.460 | 20.22 | 1     | 0     | 3     | 1     | \n",
       "\n",
       "\n"
      ],
      "text/plain": [
       "                  mpg  cyl disp hp  drat wt    qsec  vs am gear carb\n",
       "Mazda RX4         21.0 6   160  110 3.90 2.620 16.46 0  1  4    4   \n",
       "Mazda RX4 Wag     21.0 6   160  110 3.90 2.875 17.02 0  1  4    4   \n",
       "Datsun 710        22.8 4   108   93 3.85 2.320 18.61 1  1  4    1   \n",
       "Hornet 4 Drive    21.4 6   258  110 3.08 3.215 19.44 1  0  3    1   \n",
       "Hornet Sportabout 18.7 8   360  175 3.15 3.440 17.02 0  0  3    2   \n",
       "Valiant           18.1 6   225  105 2.76 3.460 20.22 1  0  3    1   "
      ]
     },
     "metadata": {},
     "output_type": "display_data"
    }
   ],
   "source": [
    "head(mtcars)"
   ]
  },
  {
   "cell_type": "code",
   "execution_count": 44,
   "metadata": {
    "collapsed": false
   },
   "outputs": [
    {
     "data": {
      "text/html": [
       "<table>\n",
       "<thead><tr><th></th><th scope=col>gear</th></tr></thead>\n",
       "<tbody>\n",
       "\t<tr><th scope=row>Mazda RX4</th><td>4</td></tr>\n",
       "\t<tr><th scope=row>Mazda RX4 Wag</th><td>4</td></tr>\n",
       "\t<tr><th scope=row>Datsun 710</th><td>4</td></tr>\n",
       "\t<tr><th scope=row>Hornet 4 Drive</th><td>3</td></tr>\n",
       "\t<tr><th scope=row>Hornet Sportabout</th><td>3</td></tr>\n",
       "\t<tr><th scope=row>Valiant</th><td>3</td></tr>\n",
       "\t<tr><th scope=row>Duster 360</th><td>3</td></tr>\n",
       "\t<tr><th scope=row>Merc 240D</th><td>4</td></tr>\n",
       "\t<tr><th scope=row>Merc 230</th><td>4</td></tr>\n",
       "\t<tr><th scope=row>Merc 280</th><td>4</td></tr>\n",
       "\t<tr><th scope=row>Merc 280C</th><td>4</td></tr>\n",
       "\t<tr><th scope=row>Merc 450SE</th><td>3</td></tr>\n",
       "\t<tr><th scope=row>Merc 450SL</th><td>3</td></tr>\n",
       "\t<tr><th scope=row>Merc 450SLC</th><td>3</td></tr>\n",
       "\t<tr><th scope=row>Cadillac Fleetwood</th><td>3</td></tr>\n",
       "\t<tr><th scope=row>Lincoln Continental</th><td>3</td></tr>\n",
       "\t<tr><th scope=row>Chrysler Imperial</th><td>3</td></tr>\n",
       "\t<tr><th scope=row>Fiat 128</th><td>4</td></tr>\n",
       "\t<tr><th scope=row>Honda Civic</th><td>4</td></tr>\n",
       "\t<tr><th scope=row>Toyota Corolla</th><td>4</td></tr>\n",
       "\t<tr><th scope=row>Toyota Corona</th><td>3</td></tr>\n",
       "\t<tr><th scope=row>Dodge Challenger</th><td>3</td></tr>\n",
       "\t<tr><th scope=row>AMC Javelin</th><td>3</td></tr>\n",
       "\t<tr><th scope=row>Camaro Z28</th><td>3</td></tr>\n",
       "\t<tr><th scope=row>Pontiac Firebird</th><td>3</td></tr>\n",
       "\t<tr><th scope=row>Fiat X1-9</th><td>4</td></tr>\n",
       "\t<tr><th scope=row>Porsche 914-2</th><td>5</td></tr>\n",
       "\t<tr><th scope=row>Lotus Europa</th><td>5</td></tr>\n",
       "\t<tr><th scope=row>Ford Pantera L</th><td>5</td></tr>\n",
       "\t<tr><th scope=row>Ferrari Dino</th><td>5</td></tr>\n",
       "\t<tr><th scope=row>Maserati Bora</th><td>5</td></tr>\n",
       "\t<tr><th scope=row>Volvo 142E</th><td>4</td></tr>\n",
       "</tbody>\n",
       "</table>\n"
      ],
      "text/latex": [
       "\\begin{tabular}{r|l}\n",
       "  & gear\\\\\n",
       "\\hline\n",
       "\tMazda RX4 & 4\\\\\n",
       "\tMazda RX4 Wag & 4\\\\\n",
       "\tDatsun 710 & 4\\\\\n",
       "\tHornet 4 Drive & 3\\\\\n",
       "\tHornet Sportabout & 3\\\\\n",
       "\tValiant & 3\\\\\n",
       "\tDuster 360 & 3\\\\\n",
       "\tMerc 240D & 4\\\\\n",
       "\tMerc 230 & 4\\\\\n",
       "\tMerc 280 & 4\\\\\n",
       "\tMerc 280C & 4\\\\\n",
       "\tMerc 450SE & 3\\\\\n",
       "\tMerc 450SL & 3\\\\\n",
       "\tMerc 450SLC & 3\\\\\n",
       "\tCadillac Fleetwood & 3\\\\\n",
       "\tLincoln Continental & 3\\\\\n",
       "\tChrysler Imperial & 3\\\\\n",
       "\tFiat 128 & 4\\\\\n",
       "\tHonda Civic & 4\\\\\n",
       "\tToyota Corolla & 4\\\\\n",
       "\tToyota Corona & 3\\\\\n",
       "\tDodge Challenger & 3\\\\\n",
       "\tAMC Javelin & 3\\\\\n",
       "\tCamaro Z28 & 3\\\\\n",
       "\tPontiac Firebird & 3\\\\\n",
       "\tFiat X1-9 & 4\\\\\n",
       "\tPorsche 914-2 & 5\\\\\n",
       "\tLotus Europa & 5\\\\\n",
       "\tFord Pantera L & 5\\\\\n",
       "\tFerrari Dino & 5\\\\\n",
       "\tMaserati Bora & 5\\\\\n",
       "\tVolvo 142E & 4\\\\\n",
       "\\end{tabular}\n"
      ],
      "text/markdown": [
       "\n",
       "| <!--/--> | gear | \n",
       "|---|---|---|---|---|---|---|---|---|---|---|---|---|---|---|---|---|---|---|---|---|---|---|---|---|---|---|---|---|---|---|---|\n",
       "| Mazda RX4 | 4 | \n",
       "| Mazda RX4 Wag | 4 | \n",
       "| Datsun 710 | 4 | \n",
       "| Hornet 4 Drive | 3 | \n",
       "| Hornet Sportabout | 3 | \n",
       "| Valiant | 3 | \n",
       "| Duster 360 | 3 | \n",
       "| Merc 240D | 4 | \n",
       "| Merc 230 | 4 | \n",
       "| Merc 280 | 4 | \n",
       "| Merc 280C | 4 | \n",
       "| Merc 450SE | 3 | \n",
       "| Merc 450SL | 3 | \n",
       "| Merc 450SLC | 3 | \n",
       "| Cadillac Fleetwood | 3 | \n",
       "| Lincoln Continental | 3 | \n",
       "| Chrysler Imperial | 3 | \n",
       "| Fiat 128 | 4 | \n",
       "| Honda Civic | 4 | \n",
       "| Toyota Corolla | 4 | \n",
       "| Toyota Corona | 3 | \n",
       "| Dodge Challenger | 3 | \n",
       "| AMC Javelin | 3 | \n",
       "| Camaro Z28 | 3 | \n",
       "| Pontiac Firebird | 3 | \n",
       "| Fiat X1-9 | 4 | \n",
       "| Porsche 914-2 | 5 | \n",
       "| Lotus Europa | 5 | \n",
       "| Ford Pantera L | 5 | \n",
       "| Ferrari Dino | 5 | \n",
       "| Maserati Bora | 5 | \n",
       "| Volvo 142E | 4 | \n",
       "\n",
       "\n"
      ],
      "text/plain": [
       "                    gear\n",
       "Mazda RX4           4   \n",
       "Mazda RX4 Wag       4   \n",
       "Datsun 710          4   \n",
       "Hornet 4 Drive      3   \n",
       "Hornet Sportabout   3   \n",
       "Valiant             3   \n",
       "Duster 360          3   \n",
       "Merc 240D           4   \n",
       "Merc 230            4   \n",
       "Merc 280            4   \n",
       "Merc 280C           4   \n",
       "Merc 450SE          3   \n",
       "Merc 450SL          3   \n",
       "Merc 450SLC         3   \n",
       "Cadillac Fleetwood  3   \n",
       "Lincoln Continental 3   \n",
       "Chrysler Imperial   3   \n",
       "Fiat 128            4   \n",
       "Honda Civic         4   \n",
       "Toyota Corolla      4   \n",
       "Toyota Corona       3   \n",
       "Dodge Challenger    3   \n",
       "AMC Javelin         3   \n",
       "Camaro Z28          3   \n",
       "Pontiac Firebird    3   \n",
       "Fiat X1-9           4   \n",
       "Porsche 914-2       5   \n",
       "Lotus Europa        5   \n",
       "Ford Pantera L      5   \n",
       "Ferrari Dino        5   \n",
       "Maserati Bora       5   \n",
       "Volvo 142E          4   "
      ]
     },
     "metadata": {},
     "output_type": "display_data"
    }
   ],
   "source": [
    "mtcars[\"gear\"]"
   ]
  },
  {
   "cell_type": "code",
   "execution_count": 39,
   "metadata": {
    "collapsed": false
   },
   "outputs": [
    {
     "data": {
      "text/html": [
       "'data.frame'"
      ],
      "text/latex": [
       "'data.frame'"
      ],
      "text/markdown": [
       "'data.frame'"
      ],
      "text/plain": [
       "[1] \"data.frame\""
      ]
     },
     "metadata": {},
     "output_type": "display_data"
    }
   ],
   "source": [
    "class(mtcars)"
   ]
  },
  {
   "cell_type": "code",
   "execution_count": 40,
   "metadata": {
    "collapsed": true
   },
   "outputs": [],
   "source": [
    "L <- mtcars$am == 0 "
   ]
  },
  {
   "cell_type": "code",
   "execution_count": 41,
   "metadata": {
    "collapsed": false
   },
   "outputs": [
    {
     "data": {
      "text/html": [
       "<ol class=list-inline>\n",
       "\t<li>FALSE</li>\n",
       "\t<li>FALSE</li>\n",
       "\t<li>FALSE</li>\n",
       "\t<li>TRUE</li>\n",
       "\t<li>TRUE</li>\n",
       "\t<li>TRUE</li>\n",
       "\t<li>TRUE</li>\n",
       "\t<li>TRUE</li>\n",
       "\t<li>TRUE</li>\n",
       "\t<li>TRUE</li>\n",
       "\t<li>TRUE</li>\n",
       "\t<li>TRUE</li>\n",
       "\t<li>TRUE</li>\n",
       "\t<li>TRUE</li>\n",
       "\t<li>TRUE</li>\n",
       "\t<li>TRUE</li>\n",
       "\t<li>TRUE</li>\n",
       "\t<li>FALSE</li>\n",
       "\t<li>FALSE</li>\n",
       "\t<li>FALSE</li>\n",
       "\t<li>TRUE</li>\n",
       "\t<li>TRUE</li>\n",
       "\t<li>TRUE</li>\n",
       "\t<li>TRUE</li>\n",
       "\t<li>TRUE</li>\n",
       "\t<li>FALSE</li>\n",
       "\t<li>FALSE</li>\n",
       "\t<li>FALSE</li>\n",
       "\t<li>FALSE</li>\n",
       "\t<li>FALSE</li>\n",
       "\t<li>FALSE</li>\n",
       "\t<li>FALSE</li>\n",
       "</ol>\n"
      ],
      "text/latex": [
       "\\begin{enumerate*}\n",
       "\\item FALSE\n",
       "\\item FALSE\n",
       "\\item FALSE\n",
       "\\item TRUE\n",
       "\\item TRUE\n",
       "\\item TRUE\n",
       "\\item TRUE\n",
       "\\item TRUE\n",
       "\\item TRUE\n",
       "\\item TRUE\n",
       "\\item TRUE\n",
       "\\item TRUE\n",
       "\\item TRUE\n",
       "\\item TRUE\n",
       "\\item TRUE\n",
       "\\item TRUE\n",
       "\\item TRUE\n",
       "\\item FALSE\n",
       "\\item FALSE\n",
       "\\item FALSE\n",
       "\\item TRUE\n",
       "\\item TRUE\n",
       "\\item TRUE\n",
       "\\item TRUE\n",
       "\\item TRUE\n",
       "\\item FALSE\n",
       "\\item FALSE\n",
       "\\item FALSE\n",
       "\\item FALSE\n",
       "\\item FALSE\n",
       "\\item FALSE\n",
       "\\item FALSE\n",
       "\\end{enumerate*}\n"
      ],
      "text/markdown": [
       "1. FALSE\n",
       "2. FALSE\n",
       "3. FALSE\n",
       "4. TRUE\n",
       "5. TRUE\n",
       "6. TRUE\n",
       "7. TRUE\n",
       "8. TRUE\n",
       "9. TRUE\n",
       "10. TRUE\n",
       "11. TRUE\n",
       "12. TRUE\n",
       "13. TRUE\n",
       "14. TRUE\n",
       "15. TRUE\n",
       "16. TRUE\n",
       "17. TRUE\n",
       "18. FALSE\n",
       "19. FALSE\n",
       "20. FALSE\n",
       "21. TRUE\n",
       "22. TRUE\n",
       "23. TRUE\n",
       "24. TRUE\n",
       "25. TRUE\n",
       "26. FALSE\n",
       "27. FALSE\n",
       "28. FALSE\n",
       "29. FALSE\n",
       "30. FALSE\n",
       "31. FALSE\n",
       "32. FALSE\n",
       "\n",
       "\n"
      ],
      "text/plain": [
       " [1] FALSE FALSE FALSE  TRUE  TRUE  TRUE  TRUE  TRUE  TRUE  TRUE  TRUE  TRUE\n",
       "[13]  TRUE  TRUE  TRUE  TRUE  TRUE FALSE FALSE FALSE  TRUE  TRUE  TRUE  TRUE\n",
       "[25]  TRUE FALSE FALSE FALSE FALSE FALSE FALSE FALSE"
      ]
     },
     "metadata": {},
     "output_type": "display_data"
    }
   ],
   "source": [
    "L"
   ]
  },
  {
   "cell_type": "code",
   "execution_count": 43,
   "metadata": {
    "collapsed": false
   },
   "outputs": [
    {
     "data": {
      "text/html": [
       "<table>\n",
       "<thead><tr><th></th><th scope=col>mpg</th><th scope=col>cyl</th><th scope=col>disp</th><th scope=col>hp</th><th scope=col>drat</th><th scope=col>wt</th><th scope=col>qsec</th><th scope=col>vs</th><th scope=col>am</th><th scope=col>gear</th><th scope=col>carb</th></tr></thead>\n",
       "<tbody>\n",
       "\t<tr><th scope=row>Hornet 4 Drive</th><td>21.4 </td><td>6    </td><td>258.0</td><td>110  </td><td>3.08 </td><td>3.215</td><td>19.44</td><td>1    </td><td>0    </td><td>3    </td><td>1    </td></tr>\n",
       "\t<tr><th scope=row>Hornet Sportabout</th><td>18.7 </td><td>8    </td><td>360.0</td><td>175  </td><td>3.15 </td><td>3.440</td><td>17.02</td><td>0    </td><td>0    </td><td>3    </td><td>2    </td></tr>\n",
       "\t<tr><th scope=row>Valiant</th><td>18.1 </td><td>6    </td><td>225.0</td><td>105  </td><td>2.76 </td><td>3.460</td><td>20.22</td><td>1    </td><td>0    </td><td>3    </td><td>1    </td></tr>\n",
       "\t<tr><th scope=row>Duster 360</th><td>14.3 </td><td>8    </td><td>360.0</td><td>245  </td><td>3.21 </td><td>3.570</td><td>15.84</td><td>0    </td><td>0    </td><td>3    </td><td>4    </td></tr>\n",
       "\t<tr><th scope=row>Merc 240D</th><td>24.4 </td><td>4    </td><td>146.7</td><td> 62  </td><td>3.69 </td><td>3.190</td><td>20.00</td><td>1    </td><td>0    </td><td>4    </td><td>2    </td></tr>\n",
       "\t<tr><th scope=row>Merc 230</th><td>22.8 </td><td>4    </td><td>140.8</td><td> 95  </td><td>3.92 </td><td>3.150</td><td>22.90</td><td>1    </td><td>0    </td><td>4    </td><td>2    </td></tr>\n",
       "\t<tr><th scope=row>Merc 280</th><td>19.2 </td><td>6    </td><td>167.6</td><td>123  </td><td>3.92 </td><td>3.440</td><td>18.30</td><td>1    </td><td>0    </td><td>4    </td><td>4    </td></tr>\n",
       "\t<tr><th scope=row>Merc 280C</th><td>17.8 </td><td>6    </td><td>167.6</td><td>123  </td><td>3.92 </td><td>3.440</td><td>18.90</td><td>1    </td><td>0    </td><td>4    </td><td>4    </td></tr>\n",
       "\t<tr><th scope=row>Merc 450SE</th><td>16.4 </td><td>8    </td><td>275.8</td><td>180  </td><td>3.07 </td><td>4.070</td><td>17.40</td><td>0    </td><td>0    </td><td>3    </td><td>3    </td></tr>\n",
       "\t<tr><th scope=row>Merc 450SL</th><td>17.3 </td><td>8    </td><td>275.8</td><td>180  </td><td>3.07 </td><td>3.730</td><td>17.60</td><td>0    </td><td>0    </td><td>3    </td><td>3    </td></tr>\n",
       "\t<tr><th scope=row>Merc 450SLC</th><td>15.2 </td><td>8    </td><td>275.8</td><td>180  </td><td>3.07 </td><td>3.780</td><td>18.00</td><td>0    </td><td>0    </td><td>3    </td><td>3    </td></tr>\n",
       "\t<tr><th scope=row>Cadillac Fleetwood</th><td>10.4 </td><td>8    </td><td>472.0</td><td>205  </td><td>2.93 </td><td>5.250</td><td>17.98</td><td>0    </td><td>0    </td><td>3    </td><td>4    </td></tr>\n",
       "\t<tr><th scope=row>Lincoln Continental</th><td>10.4 </td><td>8    </td><td>460.0</td><td>215  </td><td>3.00 </td><td>5.424</td><td>17.82</td><td>0    </td><td>0    </td><td>3    </td><td>4    </td></tr>\n",
       "\t<tr><th scope=row>Chrysler Imperial</th><td>14.7 </td><td>8    </td><td>440.0</td><td>230  </td><td>3.23 </td><td>5.345</td><td>17.42</td><td>0    </td><td>0    </td><td>3    </td><td>4    </td></tr>\n",
       "\t<tr><th scope=row>Toyota Corona</th><td>21.5 </td><td>4    </td><td>120.1</td><td> 97  </td><td>3.70 </td><td>2.465</td><td>20.01</td><td>1    </td><td>0    </td><td>3    </td><td>1    </td></tr>\n",
       "\t<tr><th scope=row>Dodge Challenger</th><td>15.5 </td><td>8    </td><td>318.0</td><td>150  </td><td>2.76 </td><td>3.520</td><td>16.87</td><td>0    </td><td>0    </td><td>3    </td><td>2    </td></tr>\n",
       "\t<tr><th scope=row>AMC Javelin</th><td>15.2 </td><td>8    </td><td>304.0</td><td>150  </td><td>3.15 </td><td>3.435</td><td>17.30</td><td>0    </td><td>0    </td><td>3    </td><td>2    </td></tr>\n",
       "\t<tr><th scope=row>Camaro Z28</th><td>13.3 </td><td>8    </td><td>350.0</td><td>245  </td><td>3.73 </td><td>3.840</td><td>15.41</td><td>0    </td><td>0    </td><td>3    </td><td>4    </td></tr>\n",
       "\t<tr><th scope=row>Pontiac Firebird</th><td>19.2 </td><td>8    </td><td>400.0</td><td>175  </td><td>3.08 </td><td>3.845</td><td>17.05</td><td>0    </td><td>0    </td><td>3    </td><td>2    </td></tr>\n",
       "</tbody>\n",
       "</table>\n"
      ],
      "text/latex": [
       "\\begin{tabular}{r|lllllllllll}\n",
       "  & mpg & cyl & disp & hp & drat & wt & qsec & vs & am & gear & carb\\\\\n",
       "\\hline\n",
       "\tHornet 4 Drive & 21.4  & 6     & 258.0 & 110   & 3.08  & 3.215 & 19.44 & 1     & 0     & 3     & 1    \\\\\n",
       "\tHornet Sportabout & 18.7  & 8     & 360.0 & 175   & 3.15  & 3.440 & 17.02 & 0     & 0     & 3     & 2    \\\\\n",
       "\tValiant & 18.1  & 6     & 225.0 & 105   & 2.76  & 3.460 & 20.22 & 1     & 0     & 3     & 1    \\\\\n",
       "\tDuster 360 & 14.3  & 8     & 360.0 & 245   & 3.21  & 3.570 & 15.84 & 0     & 0     & 3     & 4    \\\\\n",
       "\tMerc 240D & 24.4  & 4     & 146.7 &  62   & 3.69  & 3.190 & 20.00 & 1     & 0     & 4     & 2    \\\\\n",
       "\tMerc 230 & 22.8  & 4     & 140.8 &  95   & 3.92  & 3.150 & 22.90 & 1     & 0     & 4     & 2    \\\\\n",
       "\tMerc 280 & 19.2  & 6     & 167.6 & 123   & 3.92  & 3.440 & 18.30 & 1     & 0     & 4     & 4    \\\\\n",
       "\tMerc 280C & 17.8  & 6     & 167.6 & 123   & 3.92  & 3.440 & 18.90 & 1     & 0     & 4     & 4    \\\\\n",
       "\tMerc 450SE & 16.4  & 8     & 275.8 & 180   & 3.07  & 4.070 & 17.40 & 0     & 0     & 3     & 3    \\\\\n",
       "\tMerc 450SL & 17.3  & 8     & 275.8 & 180   & 3.07  & 3.730 & 17.60 & 0     & 0     & 3     & 3    \\\\\n",
       "\tMerc 450SLC & 15.2  & 8     & 275.8 & 180   & 3.07  & 3.780 & 18.00 & 0     & 0     & 3     & 3    \\\\\n",
       "\tCadillac Fleetwood & 10.4  & 8     & 472.0 & 205   & 2.93  & 5.250 & 17.98 & 0     & 0     & 3     & 4    \\\\\n",
       "\tLincoln Continental & 10.4  & 8     & 460.0 & 215   & 3.00  & 5.424 & 17.82 & 0     & 0     & 3     & 4    \\\\\n",
       "\tChrysler Imperial & 14.7  & 8     & 440.0 & 230   & 3.23  & 5.345 & 17.42 & 0     & 0     & 3     & 4    \\\\\n",
       "\tToyota Corona & 21.5  & 4     & 120.1 &  97   & 3.70  & 2.465 & 20.01 & 1     & 0     & 3     & 1    \\\\\n",
       "\tDodge Challenger & 15.5  & 8     & 318.0 & 150   & 2.76  & 3.520 & 16.87 & 0     & 0     & 3     & 2    \\\\\n",
       "\tAMC Javelin & 15.2  & 8     & 304.0 & 150   & 3.15  & 3.435 & 17.30 & 0     & 0     & 3     & 2    \\\\\n",
       "\tCamaro Z28 & 13.3  & 8     & 350.0 & 245   & 3.73  & 3.840 & 15.41 & 0     & 0     & 3     & 4    \\\\\n",
       "\tPontiac Firebird & 19.2  & 8     & 400.0 & 175   & 3.08  & 3.845 & 17.05 & 0     & 0     & 3     & 2    \\\\\n",
       "\\end{tabular}\n"
      ],
      "text/markdown": [
       "\n",
       "| <!--/--> | mpg | cyl | disp | hp | drat | wt | qsec | vs | am | gear | carb | \n",
       "|---|---|---|---|---|---|---|---|---|---|---|---|---|---|---|---|---|---|---|\n",
       "| Hornet 4 Drive | 21.4  | 6     | 258.0 | 110   | 3.08  | 3.215 | 19.44 | 1     | 0     | 3     | 1     | \n",
       "| Hornet Sportabout | 18.7  | 8     | 360.0 | 175   | 3.15  | 3.440 | 17.02 | 0     | 0     | 3     | 2     | \n",
       "| Valiant | 18.1  | 6     | 225.0 | 105   | 2.76  | 3.460 | 20.22 | 1     | 0     | 3     | 1     | \n",
       "| Duster 360 | 14.3  | 8     | 360.0 | 245   | 3.21  | 3.570 | 15.84 | 0     | 0     | 3     | 4     | \n",
       "| Merc 240D | 24.4  | 4     | 146.7 |  62   | 3.69  | 3.190 | 20.00 | 1     | 0     | 4     | 2     | \n",
       "| Merc 230 | 22.8  | 4     | 140.8 |  95   | 3.92  | 3.150 | 22.90 | 1     | 0     | 4     | 2     | \n",
       "| Merc 280 | 19.2  | 6     | 167.6 | 123   | 3.92  | 3.440 | 18.30 | 1     | 0     | 4     | 4     | \n",
       "| Merc 280C | 17.8  | 6     | 167.6 | 123   | 3.92  | 3.440 | 18.90 | 1     | 0     | 4     | 4     | \n",
       "| Merc 450SE | 16.4  | 8     | 275.8 | 180   | 3.07  | 4.070 | 17.40 | 0     | 0     | 3     | 3     | \n",
       "| Merc 450SL | 17.3  | 8     | 275.8 | 180   | 3.07  | 3.730 | 17.60 | 0     | 0     | 3     | 3     | \n",
       "| Merc 450SLC | 15.2  | 8     | 275.8 | 180   | 3.07  | 3.780 | 18.00 | 0     | 0     | 3     | 3     | \n",
       "| Cadillac Fleetwood | 10.4  | 8     | 472.0 | 205   | 2.93  | 5.250 | 17.98 | 0     | 0     | 3     | 4     | \n",
       "| Lincoln Continental | 10.4  | 8     | 460.0 | 215   | 3.00  | 5.424 | 17.82 | 0     | 0     | 3     | 4     | \n",
       "| Chrysler Imperial | 14.7  | 8     | 440.0 | 230   | 3.23  | 5.345 | 17.42 | 0     | 0     | 3     | 4     | \n",
       "| Toyota Corona | 21.5  | 4     | 120.1 |  97   | 3.70  | 2.465 | 20.01 | 1     | 0     | 3     | 1     | \n",
       "| Dodge Challenger | 15.5  | 8     | 318.0 | 150   | 2.76  | 3.520 | 16.87 | 0     | 0     | 3     | 2     | \n",
       "| AMC Javelin | 15.2  | 8     | 304.0 | 150   | 3.15  | 3.435 | 17.30 | 0     | 0     | 3     | 2     | \n",
       "| Camaro Z28 | 13.3  | 8     | 350.0 | 245   | 3.73  | 3.840 | 15.41 | 0     | 0     | 3     | 4     | \n",
       "| Pontiac Firebird | 19.2  | 8     | 400.0 | 175   | 3.08  | 3.845 | 17.05 | 0     | 0     | 3     | 2     | \n",
       "\n",
       "\n"
      ],
      "text/plain": [
       "                    mpg  cyl disp  hp  drat wt    qsec  vs am gear carb\n",
       "Hornet 4 Drive      21.4 6   258.0 110 3.08 3.215 19.44 1  0  3    1   \n",
       "Hornet Sportabout   18.7 8   360.0 175 3.15 3.440 17.02 0  0  3    2   \n",
       "Valiant             18.1 6   225.0 105 2.76 3.460 20.22 1  0  3    1   \n",
       "Duster 360          14.3 8   360.0 245 3.21 3.570 15.84 0  0  3    4   \n",
       "Merc 240D           24.4 4   146.7  62 3.69 3.190 20.00 1  0  4    2   \n",
       "Merc 230            22.8 4   140.8  95 3.92 3.150 22.90 1  0  4    2   \n",
       "Merc 280            19.2 6   167.6 123 3.92 3.440 18.30 1  0  4    4   \n",
       "Merc 280C           17.8 6   167.6 123 3.92 3.440 18.90 1  0  4    4   \n",
       "Merc 450SE          16.4 8   275.8 180 3.07 4.070 17.40 0  0  3    3   \n",
       "Merc 450SL          17.3 8   275.8 180 3.07 3.730 17.60 0  0  3    3   \n",
       "Merc 450SLC         15.2 8   275.8 180 3.07 3.780 18.00 0  0  3    3   \n",
       "Cadillac Fleetwood  10.4 8   472.0 205 2.93 5.250 17.98 0  0  3    4   \n",
       "Lincoln Continental 10.4 8   460.0 215 3.00 5.424 17.82 0  0  3    4   \n",
       "Chrysler Imperial   14.7 8   440.0 230 3.23 5.345 17.42 0  0  3    4   \n",
       "Toyota Corona       21.5 4   120.1  97 3.70 2.465 20.01 1  0  3    1   \n",
       "Dodge Challenger    15.5 8   318.0 150 2.76 3.520 16.87 0  0  3    2   \n",
       "AMC Javelin         15.2 8   304.0 150 3.15 3.435 17.30 0  0  3    2   \n",
       "Camaro Z28          13.3 8   350.0 245 3.73 3.840 15.41 0  0  3    4   \n",
       "Pontiac Firebird    19.2 8   400.0 175 3.08 3.845 17.05 0  0  3    2   "
      ]
     },
     "metadata": {},
     "output_type": "display_data"
    }
   ],
   "source": [
    "mtcars[L,]"
   ]
  },
  {
   "cell_type": "code",
   "execution_count": 44,
   "metadata": {
    "collapsed": true
   },
   "outputs": [],
   "source": [
    "? mtcars"
   ]
  },
  {
   "cell_type": "code",
   "execution_count": 68,
   "metadata": {
    "collapsed": true
   },
   "outputs": [],
   "source": [
    "f <- function(x) {\n",
    "    x^2\n",
    "}"
   ]
  },
  {
   "cell_type": "code",
   "execution_count": 71,
   "metadata": {
    "collapsed": false
   },
   "outputs": [],
   "source": [
    "compose <- function(f1, f2) {\n",
    "    function(x) { f1(f2(x)) }\n",
    "}"
   ]
  },
  {
   "cell_type": "code",
   "execution_count": 73,
   "metadata": {
    "collapsed": false
   },
   "outputs": [
    {
     "data": {
      "text/html": [
       "49"
      ],
      "text/latex": [
       "49"
      ],
      "text/markdown": [
       "49"
      ],
      "text/plain": [
       "[1] 49"
      ]
     },
     "metadata": {},
     "output_type": "display_data"
    }
   ],
   "source": [
    "compose(f, function(x) { x + 2 })(5)"
   ]
  },
  {
   "cell_type": "code",
   "execution_count": 52,
   "metadata": {
    "collapsed": false
   },
   "outputs": [
    {
     "data": {
      "text/html": [
       "90"
      ],
      "text/latex": [
       "90"
      ],
      "text/markdown": [
       "90"
      ],
      "text/plain": [
       "[1] 90"
      ]
     },
     "metadata": {},
     "output_type": "display_data"
    }
   ],
   "source": [
    "sum(mtcars$carb)"
   ]
  },
  {
   "cell_type": "code",
   "execution_count": 77,
   "metadata": {
    "collapsed": true
   },
   "outputs": [],
   "source": [
    "library(ggplot2)"
   ]
  },
  {
   "cell_type": "code",
   "execution_count": 82,
   "metadata": {
    "collapsed": true
   },
   "outputs": [],
   "source": [
    "? save"
   ]
  },
  {
   "cell_type": "code",
   "execution_count": 83,
   "metadata": {
    "collapsed": false
   },
   "outputs": [
    {
     "data": {
      "text/html": [
       "<table>\n",
       "<thead><tr><th></th><th scope=col>mpg</th><th scope=col>cyl</th><th scope=col>disp</th><th scope=col>hp</th><th scope=col>drat</th><th scope=col>wt</th><th scope=col>qsec</th><th scope=col>vs</th><th scope=col>am</th><th scope=col>gear</th><th scope=col>⋯</th><th scope=col>cyl</th><th scope=col>disp</th><th scope=col>hp</th><th scope=col>drat</th><th scope=col>wt</th><th scope=col>qsec</th><th scope=col>vs</th><th scope=col>am</th><th scope=col>gear</th><th scope=col>carb</th></tr></thead>\n",
       "<tbody>\n",
       "\t<tr><th scope=row>Mazda RX4</th><td>21.0 </td><td>6    </td><td>160.0</td><td>110  </td><td>3.90 </td><td>2.620</td><td>16.46</td><td>0    </td><td>1    </td><td>4    </td><td>⋯    </td><td>6    </td><td>160.0</td><td>110  </td><td>3.90 </td><td>2.620</td><td>16.46</td><td>0    </td><td>1    </td><td>4    </td><td>4    </td></tr>\n",
       "\t<tr><th scope=row>Mazda RX4 Wag</th><td>21.0 </td><td>6    </td><td>160.0</td><td>110  </td><td>3.90 </td><td>2.875</td><td>17.02</td><td>0    </td><td>1    </td><td>4    </td><td>⋯    </td><td>6    </td><td>160.0</td><td>110  </td><td>3.90 </td><td>2.875</td><td>17.02</td><td>0    </td><td>1    </td><td>4    </td><td>4    </td></tr>\n",
       "\t<tr><th scope=row>Datsun 710</th><td>22.8 </td><td>4    </td><td>108.0</td><td> 93  </td><td>3.85 </td><td>2.320</td><td>18.61</td><td>1    </td><td>1    </td><td>4    </td><td>⋯    </td><td>4    </td><td>108.0</td><td> 93  </td><td>3.85 </td><td>2.320</td><td>18.61</td><td>1    </td><td>1    </td><td>4    </td><td>1    </td></tr>\n",
       "\t<tr><th scope=row>Hornet 4 Drive</th><td>21.4 </td><td>6    </td><td>258.0</td><td>110  </td><td>3.08 </td><td>3.215</td><td>19.44</td><td>1    </td><td>0    </td><td>3    </td><td>⋯    </td><td>6    </td><td>258.0</td><td>110  </td><td>3.08 </td><td>3.215</td><td>19.44</td><td>1    </td><td>0    </td><td>3    </td><td>1    </td></tr>\n",
       "\t<tr><th scope=row>Hornet Sportabout</th><td>18.7 </td><td>8    </td><td>360.0</td><td>175  </td><td>3.15 </td><td>3.440</td><td>17.02</td><td>0    </td><td>0    </td><td>3    </td><td>⋯    </td><td>8    </td><td>360.0</td><td>175  </td><td>3.15 </td><td>3.440</td><td>17.02</td><td>0    </td><td>0    </td><td>3    </td><td>2    </td></tr>\n",
       "\t<tr><th scope=row>Valiant</th><td>18.1 </td><td>6    </td><td>225.0</td><td>105  </td><td>2.76 </td><td>3.460</td><td>20.22</td><td>1    </td><td>0    </td><td>3    </td><td>⋯    </td><td>6    </td><td>225.0</td><td>105  </td><td>2.76 </td><td>3.460</td><td>20.22</td><td>1    </td><td>0    </td><td>3    </td><td>1    </td></tr>\n",
       "\t<tr><th scope=row>Duster 360</th><td>14.3 </td><td>8    </td><td>360.0</td><td>245  </td><td>3.21 </td><td>3.570</td><td>15.84</td><td>0    </td><td>0    </td><td>3    </td><td>⋯    </td><td>8    </td><td>360.0</td><td>245  </td><td>3.21 </td><td>3.570</td><td>15.84</td><td>0    </td><td>0    </td><td>3    </td><td>4    </td></tr>\n",
       "\t<tr><th scope=row>Merc 240D</th><td>24.4 </td><td>4    </td><td>146.7</td><td> 62  </td><td>3.69 </td><td>3.190</td><td>20.00</td><td>1    </td><td>0    </td><td>4    </td><td>⋯    </td><td>4    </td><td>146.7</td><td> 62  </td><td>3.69 </td><td>3.190</td><td>20.00</td><td>1    </td><td>0    </td><td>4    </td><td>2    </td></tr>\n",
       "\t<tr><th scope=row>Merc 230</th><td>22.8 </td><td>4    </td><td>140.8</td><td> 95  </td><td>3.92 </td><td>3.150</td><td>22.90</td><td>1    </td><td>0    </td><td>4    </td><td>⋯    </td><td>4    </td><td>140.8</td><td> 95  </td><td>3.92 </td><td>3.150</td><td>22.90</td><td>1    </td><td>0    </td><td>4    </td><td>2    </td></tr>\n",
       "\t<tr><th scope=row>Merc 280</th><td>19.2 </td><td>6    </td><td>167.6</td><td>123  </td><td>3.92 </td><td>3.440</td><td>18.30</td><td>1    </td><td>0    </td><td>4    </td><td>⋯    </td><td>6    </td><td>167.6</td><td>123  </td><td>3.92 </td><td>3.440</td><td>18.30</td><td>1    </td><td>0    </td><td>4    </td><td>4    </td></tr>\n",
       "\t<tr><th scope=row>Merc 280C</th><td>17.8 </td><td>6    </td><td>167.6</td><td>123  </td><td>3.92 </td><td>3.440</td><td>18.90</td><td>1    </td><td>0    </td><td>4    </td><td>⋯    </td><td>6    </td><td>167.6</td><td>123  </td><td>3.92 </td><td>3.440</td><td>18.90</td><td>1    </td><td>0    </td><td>4    </td><td>4    </td></tr>\n",
       "\t<tr><th scope=row>Merc 450SE</th><td>16.4 </td><td>8    </td><td>275.8</td><td>180  </td><td>3.07 </td><td>4.070</td><td>17.40</td><td>0    </td><td>0    </td><td>3    </td><td>⋯    </td><td>8    </td><td>275.8</td><td>180  </td><td>3.07 </td><td>4.070</td><td>17.40</td><td>0    </td><td>0    </td><td>3    </td><td>3    </td></tr>\n",
       "\t<tr><th scope=row>Merc 450SL</th><td>17.3 </td><td>8    </td><td>275.8</td><td>180  </td><td>3.07 </td><td>3.730</td><td>17.60</td><td>0    </td><td>0    </td><td>3    </td><td>⋯    </td><td>8    </td><td>275.8</td><td>180  </td><td>3.07 </td><td>3.730</td><td>17.60</td><td>0    </td><td>0    </td><td>3    </td><td>3    </td></tr>\n",
       "\t<tr><th scope=row>Merc 450SLC</th><td>15.2 </td><td>8    </td><td>275.8</td><td>180  </td><td>3.07 </td><td>3.780</td><td>18.00</td><td>0    </td><td>0    </td><td>3    </td><td>⋯    </td><td>8    </td><td>275.8</td><td>180  </td><td>3.07 </td><td>3.780</td><td>18.00</td><td>0    </td><td>0    </td><td>3    </td><td>3    </td></tr>\n",
       "\t<tr><th scope=row>Cadillac Fleetwood</th><td>10.4 </td><td>8    </td><td>472.0</td><td>205  </td><td>2.93 </td><td>5.250</td><td>17.98</td><td>0    </td><td>0    </td><td>3    </td><td>⋯    </td><td>8    </td><td>472.0</td><td>205  </td><td>2.93 </td><td>5.250</td><td>17.98</td><td>0    </td><td>0    </td><td>3    </td><td>4    </td></tr>\n",
       "\t<tr><th scope=row>Lincoln Continental</th><td>10.4 </td><td>8    </td><td>460.0</td><td>215  </td><td>3.00 </td><td>5.424</td><td>17.82</td><td>0    </td><td>0    </td><td>3    </td><td>⋯    </td><td>8    </td><td>460.0</td><td>215  </td><td>3.00 </td><td>5.424</td><td>17.82</td><td>0    </td><td>0    </td><td>3    </td><td>4    </td></tr>\n",
       "\t<tr><th scope=row>Chrysler Imperial</th><td>14.7 </td><td>8    </td><td>440.0</td><td>230  </td><td>3.23 </td><td>5.345</td><td>17.42</td><td>0    </td><td>0    </td><td>3    </td><td>⋯    </td><td>8    </td><td>440.0</td><td>230  </td><td>3.23 </td><td>5.345</td><td>17.42</td><td>0    </td><td>0    </td><td>3    </td><td>4    </td></tr>\n",
       "\t<tr><th scope=row>Fiat 128</th><td>32.4 </td><td>4    </td><td> 78.7</td><td> 66  </td><td>4.08 </td><td>2.200</td><td>19.47</td><td>1    </td><td>1    </td><td>4    </td><td>⋯    </td><td>4    </td><td> 78.7</td><td> 66  </td><td>4.08 </td><td>2.200</td><td>19.47</td><td>1    </td><td>1    </td><td>4    </td><td>1    </td></tr>\n",
       "\t<tr><th scope=row>Honda Civic</th><td>30.4 </td><td>4    </td><td> 75.7</td><td> 52  </td><td>4.93 </td><td>1.615</td><td>18.52</td><td>1    </td><td>1    </td><td>4    </td><td>⋯    </td><td>4    </td><td> 75.7</td><td> 52  </td><td>4.93 </td><td>1.615</td><td>18.52</td><td>1    </td><td>1    </td><td>4    </td><td>2    </td></tr>\n",
       "\t<tr><th scope=row>Toyota Corolla</th><td>33.9 </td><td>4    </td><td> 71.1</td><td> 65  </td><td>4.22 </td><td>1.835</td><td>19.90</td><td>1    </td><td>1    </td><td>4    </td><td>⋯    </td><td>4    </td><td> 71.1</td><td> 65  </td><td>4.22 </td><td>1.835</td><td>19.90</td><td>1    </td><td>1    </td><td>4    </td><td>1    </td></tr>\n",
       "\t<tr><th scope=row>Toyota Corona</th><td>21.5 </td><td>4    </td><td>120.1</td><td> 97  </td><td>3.70 </td><td>2.465</td><td>20.01</td><td>1    </td><td>0    </td><td>3    </td><td>⋯    </td><td>4    </td><td>120.1</td><td> 97  </td><td>3.70 </td><td>2.465</td><td>20.01</td><td>1    </td><td>0    </td><td>3    </td><td>1    </td></tr>\n",
       "\t<tr><th scope=row>Dodge Challenger</th><td>15.5 </td><td>8    </td><td>318.0</td><td>150  </td><td>2.76 </td><td>3.520</td><td>16.87</td><td>0    </td><td>0    </td><td>3    </td><td>⋯    </td><td>8    </td><td>318.0</td><td>150  </td><td>2.76 </td><td>3.520</td><td>16.87</td><td>0    </td><td>0    </td><td>3    </td><td>2    </td></tr>\n",
       "\t<tr><th scope=row>AMC Javelin</th><td>15.2 </td><td>8    </td><td>304.0</td><td>150  </td><td>3.15 </td><td>3.435</td><td>17.30</td><td>0    </td><td>0    </td><td>3    </td><td>⋯    </td><td>8    </td><td>304.0</td><td>150  </td><td>3.15 </td><td>3.435</td><td>17.30</td><td>0    </td><td>0    </td><td>3    </td><td>2    </td></tr>\n",
       "\t<tr><th scope=row>Camaro Z28</th><td>13.3 </td><td>8    </td><td>350.0</td><td>245  </td><td>3.73 </td><td>3.840</td><td>15.41</td><td>0    </td><td>0    </td><td>3    </td><td>⋯    </td><td>8    </td><td>350.0</td><td>245  </td><td>3.73 </td><td>3.840</td><td>15.41</td><td>0    </td><td>0    </td><td>3    </td><td>4    </td></tr>\n",
       "\t<tr><th scope=row>Pontiac Firebird</th><td>19.2 </td><td>8    </td><td>400.0</td><td>175  </td><td>3.08 </td><td>3.845</td><td>17.05</td><td>0    </td><td>0    </td><td>3    </td><td>⋯    </td><td>8    </td><td>400.0</td><td>175  </td><td>3.08 </td><td>3.845</td><td>17.05</td><td>0    </td><td>0    </td><td>3    </td><td>2    </td></tr>\n",
       "\t<tr><th scope=row>Fiat X1-9</th><td>27.3 </td><td>4    </td><td> 79.0</td><td> 66  </td><td>4.08 </td><td>1.935</td><td>18.90</td><td>1    </td><td>1    </td><td>4    </td><td>⋯    </td><td>4    </td><td> 79.0</td><td> 66  </td><td>4.08 </td><td>1.935</td><td>18.90</td><td>1    </td><td>1    </td><td>4    </td><td>1    </td></tr>\n",
       "\t<tr><th scope=row>Porsche 914-2</th><td>26.0 </td><td>4    </td><td>120.3</td><td> 91  </td><td>4.43 </td><td>2.140</td><td>16.70</td><td>0    </td><td>1    </td><td>5    </td><td>⋯    </td><td>4    </td><td>120.3</td><td> 91  </td><td>4.43 </td><td>2.140</td><td>16.70</td><td>0    </td><td>1    </td><td>5    </td><td>2    </td></tr>\n",
       "\t<tr><th scope=row>Lotus Europa</th><td>30.4 </td><td>4    </td><td> 95.1</td><td>113  </td><td>3.77 </td><td>1.513</td><td>16.90</td><td>1    </td><td>1    </td><td>5    </td><td>⋯    </td><td>4    </td><td> 95.1</td><td>113  </td><td>3.77 </td><td>1.513</td><td>16.90</td><td>1    </td><td>1    </td><td>5    </td><td>2    </td></tr>\n",
       "\t<tr><th scope=row>Ford Pantera L</th><td>15.8 </td><td>8    </td><td>351.0</td><td>264  </td><td>4.22 </td><td>3.170</td><td>14.50</td><td>0    </td><td>1    </td><td>5    </td><td>⋯    </td><td>8    </td><td>351.0</td><td>264  </td><td>4.22 </td><td>3.170</td><td>14.50</td><td>0    </td><td>1    </td><td>5    </td><td>4    </td></tr>\n",
       "\t<tr><th scope=row>Ferrari Dino</th><td>19.7 </td><td>6    </td><td>145.0</td><td>175  </td><td>3.62 </td><td>2.770</td><td>15.50</td><td>0    </td><td>1    </td><td>5    </td><td>⋯    </td><td>6    </td><td>145.0</td><td>175  </td><td>3.62 </td><td>2.770</td><td>15.50</td><td>0    </td><td>1    </td><td>5    </td><td>6    </td></tr>\n",
       "\t<tr><th scope=row>Maserati Bora</th><td>15.0 </td><td>8    </td><td>301.0</td><td>335  </td><td>3.54 </td><td>3.570</td><td>14.60</td><td>0    </td><td>1    </td><td>5    </td><td>⋯    </td><td>8    </td><td>301.0</td><td>335  </td><td>3.54 </td><td>3.570</td><td>14.60</td><td>0    </td><td>1    </td><td>5    </td><td>8    </td></tr>\n",
       "\t<tr><th scope=row>Volvo 142E</th><td>21.4 </td><td>4    </td><td>121.0</td><td>109  </td><td>4.11 </td><td>2.780</td><td>18.60</td><td>1    </td><td>1    </td><td>4    </td><td>⋯    </td><td>4    </td><td>121.0</td><td>109  </td><td>4.11 </td><td>2.780</td><td>18.60</td><td>1    </td><td>1    </td><td>4    </td><td>2    </td></tr>\n",
       "</tbody>\n",
       "</table>\n"
      ],
      "text/latex": [
       "\\begin{tabular}{r|llllllllllllllllllllll}\n",
       "  & mpg & cyl & disp & hp & drat & wt & qsec & vs & am & gear & ⋯ & cyl & disp & hp & drat & wt & qsec & vs & am & gear & carb\\\\\n",
       "\\hline\n",
       "\tMazda RX4 & 21.0  & 6     & 160.0 & 110   & 3.90  & 2.620 & 16.46 & 0     & 1     & 4     & ⋯     & 6     & 160.0 & 110   & 3.90  & 2.620 & 16.46 & 0     & 1     & 4     & 4    \\\\\n",
       "\tMazda RX4 Wag & 21.0  & 6     & 160.0 & 110   & 3.90  & 2.875 & 17.02 & 0     & 1     & 4     & ⋯     & 6     & 160.0 & 110   & 3.90  & 2.875 & 17.02 & 0     & 1     & 4     & 4    \\\\\n",
       "\tDatsun 710 & 22.8  & 4     & 108.0 &  93   & 3.85  & 2.320 & 18.61 & 1     & 1     & 4     & ⋯     & 4     & 108.0 &  93   & 3.85  & 2.320 & 18.61 & 1     & 1     & 4     & 1    \\\\\n",
       "\tHornet 4 Drive & 21.4  & 6     & 258.0 & 110   & 3.08  & 3.215 & 19.44 & 1     & 0     & 3     & ⋯     & 6     & 258.0 & 110   & 3.08  & 3.215 & 19.44 & 1     & 0     & 3     & 1    \\\\\n",
       "\tHornet Sportabout & 18.7  & 8     & 360.0 & 175   & 3.15  & 3.440 & 17.02 & 0     & 0     & 3     & ⋯     & 8     & 360.0 & 175   & 3.15  & 3.440 & 17.02 & 0     & 0     & 3     & 2    \\\\\n",
       "\tValiant & 18.1  & 6     & 225.0 & 105   & 2.76  & 3.460 & 20.22 & 1     & 0     & 3     & ⋯     & 6     & 225.0 & 105   & 2.76  & 3.460 & 20.22 & 1     & 0     & 3     & 1    \\\\\n",
       "\tDuster 360 & 14.3  & 8     & 360.0 & 245   & 3.21  & 3.570 & 15.84 & 0     & 0     & 3     & ⋯     & 8     & 360.0 & 245   & 3.21  & 3.570 & 15.84 & 0     & 0     & 3     & 4    \\\\\n",
       "\tMerc 240D & 24.4  & 4     & 146.7 &  62   & 3.69  & 3.190 & 20.00 & 1     & 0     & 4     & ⋯     & 4     & 146.7 &  62   & 3.69  & 3.190 & 20.00 & 1     & 0     & 4     & 2    \\\\\n",
       "\tMerc 230 & 22.8  & 4     & 140.8 &  95   & 3.92  & 3.150 & 22.90 & 1     & 0     & 4     & ⋯     & 4     & 140.8 &  95   & 3.92  & 3.150 & 22.90 & 1     & 0     & 4     & 2    \\\\\n",
       "\tMerc 280 & 19.2  & 6     & 167.6 & 123   & 3.92  & 3.440 & 18.30 & 1     & 0     & 4     & ⋯     & 6     & 167.6 & 123   & 3.92  & 3.440 & 18.30 & 1     & 0     & 4     & 4    \\\\\n",
       "\tMerc 280C & 17.8  & 6     & 167.6 & 123   & 3.92  & 3.440 & 18.90 & 1     & 0     & 4     & ⋯     & 6     & 167.6 & 123   & 3.92  & 3.440 & 18.90 & 1     & 0     & 4     & 4    \\\\\n",
       "\tMerc 450SE & 16.4  & 8     & 275.8 & 180   & 3.07  & 4.070 & 17.40 & 0     & 0     & 3     & ⋯     & 8     & 275.8 & 180   & 3.07  & 4.070 & 17.40 & 0     & 0     & 3     & 3    \\\\\n",
       "\tMerc 450SL & 17.3  & 8     & 275.8 & 180   & 3.07  & 3.730 & 17.60 & 0     & 0     & 3     & ⋯     & 8     & 275.8 & 180   & 3.07  & 3.730 & 17.60 & 0     & 0     & 3     & 3    \\\\\n",
       "\tMerc 450SLC & 15.2  & 8     & 275.8 & 180   & 3.07  & 3.780 & 18.00 & 0     & 0     & 3     & ⋯     & 8     & 275.8 & 180   & 3.07  & 3.780 & 18.00 & 0     & 0     & 3     & 3    \\\\\n",
       "\tCadillac Fleetwood & 10.4  & 8     & 472.0 & 205   & 2.93  & 5.250 & 17.98 & 0     & 0     & 3     & ⋯     & 8     & 472.0 & 205   & 2.93  & 5.250 & 17.98 & 0     & 0     & 3     & 4    \\\\\n",
       "\tLincoln Continental & 10.4  & 8     & 460.0 & 215   & 3.00  & 5.424 & 17.82 & 0     & 0     & 3     & ⋯     & 8     & 460.0 & 215   & 3.00  & 5.424 & 17.82 & 0     & 0     & 3     & 4    \\\\\n",
       "\tChrysler Imperial & 14.7  & 8     & 440.0 & 230   & 3.23  & 5.345 & 17.42 & 0     & 0     & 3     & ⋯     & 8     & 440.0 & 230   & 3.23  & 5.345 & 17.42 & 0     & 0     & 3     & 4    \\\\\n",
       "\tFiat 128 & 32.4  & 4     &  78.7 &  66   & 4.08  & 2.200 & 19.47 & 1     & 1     & 4     & ⋯     & 4     &  78.7 &  66   & 4.08  & 2.200 & 19.47 & 1     & 1     & 4     & 1    \\\\\n",
       "\tHonda Civic & 30.4  & 4     &  75.7 &  52   & 4.93  & 1.615 & 18.52 & 1     & 1     & 4     & ⋯     & 4     &  75.7 &  52   & 4.93  & 1.615 & 18.52 & 1     & 1     & 4     & 2    \\\\\n",
       "\tToyota Corolla & 33.9  & 4     &  71.1 &  65   & 4.22  & 1.835 & 19.90 & 1     & 1     & 4     & ⋯     & 4     &  71.1 &  65   & 4.22  & 1.835 & 19.90 & 1     & 1     & 4     & 1    \\\\\n",
       "\tToyota Corona & 21.5  & 4     & 120.1 &  97   & 3.70  & 2.465 & 20.01 & 1     & 0     & 3     & ⋯     & 4     & 120.1 &  97   & 3.70  & 2.465 & 20.01 & 1     & 0     & 3     & 1    \\\\\n",
       "\tDodge Challenger & 15.5  & 8     & 318.0 & 150   & 2.76  & 3.520 & 16.87 & 0     & 0     & 3     & ⋯     & 8     & 318.0 & 150   & 2.76  & 3.520 & 16.87 & 0     & 0     & 3     & 2    \\\\\n",
       "\tAMC Javelin & 15.2  & 8     & 304.0 & 150   & 3.15  & 3.435 & 17.30 & 0     & 0     & 3     & ⋯     & 8     & 304.0 & 150   & 3.15  & 3.435 & 17.30 & 0     & 0     & 3     & 2    \\\\\n",
       "\tCamaro Z28 & 13.3  & 8     & 350.0 & 245   & 3.73  & 3.840 & 15.41 & 0     & 0     & 3     & ⋯     & 8     & 350.0 & 245   & 3.73  & 3.840 & 15.41 & 0     & 0     & 3     & 4    \\\\\n",
       "\tPontiac Firebird & 19.2  & 8     & 400.0 & 175   & 3.08  & 3.845 & 17.05 & 0     & 0     & 3     & ⋯     & 8     & 400.0 & 175   & 3.08  & 3.845 & 17.05 & 0     & 0     & 3     & 2    \\\\\n",
       "\tFiat X1-9 & 27.3  & 4     &  79.0 &  66   & 4.08  & 1.935 & 18.90 & 1     & 1     & 4     & ⋯     & 4     &  79.0 &  66   & 4.08  & 1.935 & 18.90 & 1     & 1     & 4     & 1    \\\\\n",
       "\tPorsche 914-2 & 26.0  & 4     & 120.3 &  91   & 4.43  & 2.140 & 16.70 & 0     & 1     & 5     & ⋯     & 4     & 120.3 &  91   & 4.43  & 2.140 & 16.70 & 0     & 1     & 5     & 2    \\\\\n",
       "\tLotus Europa & 30.4  & 4     &  95.1 & 113   & 3.77  & 1.513 & 16.90 & 1     & 1     & 5     & ⋯     & 4     &  95.1 & 113   & 3.77  & 1.513 & 16.90 & 1     & 1     & 5     & 2    \\\\\n",
       "\tFord Pantera L & 15.8  & 8     & 351.0 & 264   & 4.22  & 3.170 & 14.50 & 0     & 1     & 5     & ⋯     & 8     & 351.0 & 264   & 4.22  & 3.170 & 14.50 & 0     & 1     & 5     & 4    \\\\\n",
       "\tFerrari Dino & 19.7  & 6     & 145.0 & 175   & 3.62  & 2.770 & 15.50 & 0     & 1     & 5     & ⋯     & 6     & 145.0 & 175   & 3.62  & 2.770 & 15.50 & 0     & 1     & 5     & 6    \\\\\n",
       "\tMaserati Bora & 15.0  & 8     & 301.0 & 335   & 3.54  & 3.570 & 14.60 & 0     & 1     & 5     & ⋯     & 8     & 301.0 & 335   & 3.54  & 3.570 & 14.60 & 0     & 1     & 5     & 8    \\\\\n",
       "\tVolvo 142E & 21.4  & 4     & 121.0 & 109   & 4.11  & 2.780 & 18.60 & 1     & 1     & 4     & ⋯     & 4     & 121.0 & 109   & 4.11  & 2.780 & 18.60 & 1     & 1     & 4     & 2    \\\\\n",
       "\\end{tabular}\n"
      ],
      "text/markdown": [
       "\n",
       "| <!--/--> | mpg | cyl | disp | hp | drat | wt | qsec | vs | am | gear | ⋯ | cyl | disp | hp | drat | wt | qsec | vs | am | gear | carb | \n",
       "|---|---|---|---|---|---|---|---|---|---|---|---|---|---|---|---|---|---|---|---|---|---|---|---|---|---|---|---|---|---|---|---|\n",
       "| Mazda RX4 | 21.0  | 6     | 160.0 | 110   | 3.90  | 2.620 | 16.46 | 0     | 1     | 4     | ⋯     | 6     | 160.0 | 110   | 3.90  | 2.620 | 16.46 | 0     | 1     | 4     | 4     | \n",
       "| Mazda RX4 Wag | 21.0  | 6     | 160.0 | 110   | 3.90  | 2.875 | 17.02 | 0     | 1     | 4     | ⋯     | 6     | 160.0 | 110   | 3.90  | 2.875 | 17.02 | 0     | 1     | 4     | 4     | \n",
       "| Datsun 710 | 22.8  | 4     | 108.0 |  93   | 3.85  | 2.320 | 18.61 | 1     | 1     | 4     | ⋯     | 4     | 108.0 |  93   | 3.85  | 2.320 | 18.61 | 1     | 1     | 4     | 1     | \n",
       "| Hornet 4 Drive | 21.4  | 6     | 258.0 | 110   | 3.08  | 3.215 | 19.44 | 1     | 0     | 3     | ⋯     | 6     | 258.0 | 110   | 3.08  | 3.215 | 19.44 | 1     | 0     | 3     | 1     | \n",
       "| Hornet Sportabout | 18.7  | 8     | 360.0 | 175   | 3.15  | 3.440 | 17.02 | 0     | 0     | 3     | ⋯     | 8     | 360.0 | 175   | 3.15  | 3.440 | 17.02 | 0     | 0     | 3     | 2     | \n",
       "| Valiant | 18.1  | 6     | 225.0 | 105   | 2.76  | 3.460 | 20.22 | 1     | 0     | 3     | ⋯     | 6     | 225.0 | 105   | 2.76  | 3.460 | 20.22 | 1     | 0     | 3     | 1     | \n",
       "| Duster 360 | 14.3  | 8     | 360.0 | 245   | 3.21  | 3.570 | 15.84 | 0     | 0     | 3     | ⋯     | 8     | 360.0 | 245   | 3.21  | 3.570 | 15.84 | 0     | 0     | 3     | 4     | \n",
       "| Merc 240D | 24.4  | 4     | 146.7 |  62   | 3.69  | 3.190 | 20.00 | 1     | 0     | 4     | ⋯     | 4     | 146.7 |  62   | 3.69  | 3.190 | 20.00 | 1     | 0     | 4     | 2     | \n",
       "| Merc 230 | 22.8  | 4     | 140.8 |  95   | 3.92  | 3.150 | 22.90 | 1     | 0     | 4     | ⋯     | 4     | 140.8 |  95   | 3.92  | 3.150 | 22.90 | 1     | 0     | 4     | 2     | \n",
       "| Merc 280 | 19.2  | 6     | 167.6 | 123   | 3.92  | 3.440 | 18.30 | 1     | 0     | 4     | ⋯     | 6     | 167.6 | 123   | 3.92  | 3.440 | 18.30 | 1     | 0     | 4     | 4     | \n",
       "| Merc 280C | 17.8  | 6     | 167.6 | 123   | 3.92  | 3.440 | 18.90 | 1     | 0     | 4     | ⋯     | 6     | 167.6 | 123   | 3.92  | 3.440 | 18.90 | 1     | 0     | 4     | 4     | \n",
       "| Merc 450SE | 16.4  | 8     | 275.8 | 180   | 3.07  | 4.070 | 17.40 | 0     | 0     | 3     | ⋯     | 8     | 275.8 | 180   | 3.07  | 4.070 | 17.40 | 0     | 0     | 3     | 3     | \n",
       "| Merc 450SL | 17.3  | 8     | 275.8 | 180   | 3.07  | 3.730 | 17.60 | 0     | 0     | 3     | ⋯     | 8     | 275.8 | 180   | 3.07  | 3.730 | 17.60 | 0     | 0     | 3     | 3     | \n",
       "| Merc 450SLC | 15.2  | 8     | 275.8 | 180   | 3.07  | 3.780 | 18.00 | 0     | 0     | 3     | ⋯     | 8     | 275.8 | 180   | 3.07  | 3.780 | 18.00 | 0     | 0     | 3     | 3     | \n",
       "| Cadillac Fleetwood | 10.4  | 8     | 472.0 | 205   | 2.93  | 5.250 | 17.98 | 0     | 0     | 3     | ⋯     | 8     | 472.0 | 205   | 2.93  | 5.250 | 17.98 | 0     | 0     | 3     | 4     | \n",
       "| Lincoln Continental | 10.4  | 8     | 460.0 | 215   | 3.00  | 5.424 | 17.82 | 0     | 0     | 3     | ⋯     | 8     | 460.0 | 215   | 3.00  | 5.424 | 17.82 | 0     | 0     | 3     | 4     | \n",
       "| Chrysler Imperial | 14.7  | 8     | 440.0 | 230   | 3.23  | 5.345 | 17.42 | 0     | 0     | 3     | ⋯     | 8     | 440.0 | 230   | 3.23  | 5.345 | 17.42 | 0     | 0     | 3     | 4     | \n",
       "| Fiat 128 | 32.4  | 4     |  78.7 |  66   | 4.08  | 2.200 | 19.47 | 1     | 1     | 4     | ⋯     | 4     |  78.7 |  66   | 4.08  | 2.200 | 19.47 | 1     | 1     | 4     | 1     | \n",
       "| Honda Civic | 30.4  | 4     |  75.7 |  52   | 4.93  | 1.615 | 18.52 | 1     | 1     | 4     | ⋯     | 4     |  75.7 |  52   | 4.93  | 1.615 | 18.52 | 1     | 1     | 4     | 2     | \n",
       "| Toyota Corolla | 33.9  | 4     |  71.1 |  65   | 4.22  | 1.835 | 19.90 | 1     | 1     | 4     | ⋯     | 4     |  71.1 |  65   | 4.22  | 1.835 | 19.90 | 1     | 1     | 4     | 1     | \n",
       "| Toyota Corona | 21.5  | 4     | 120.1 |  97   | 3.70  | 2.465 | 20.01 | 1     | 0     | 3     | ⋯     | 4     | 120.1 |  97   | 3.70  | 2.465 | 20.01 | 1     | 0     | 3     | 1     | \n",
       "| Dodge Challenger | 15.5  | 8     | 318.0 | 150   | 2.76  | 3.520 | 16.87 | 0     | 0     | 3     | ⋯     | 8     | 318.0 | 150   | 2.76  | 3.520 | 16.87 | 0     | 0     | 3     | 2     | \n",
       "| AMC Javelin | 15.2  | 8     | 304.0 | 150   | 3.15  | 3.435 | 17.30 | 0     | 0     | 3     | ⋯     | 8     | 304.0 | 150   | 3.15  | 3.435 | 17.30 | 0     | 0     | 3     | 2     | \n",
       "| Camaro Z28 | 13.3  | 8     | 350.0 | 245   | 3.73  | 3.840 | 15.41 | 0     | 0     | 3     | ⋯     | 8     | 350.0 | 245   | 3.73  | 3.840 | 15.41 | 0     | 0     | 3     | 4     | \n",
       "| Pontiac Firebird | 19.2  | 8     | 400.0 | 175   | 3.08  | 3.845 | 17.05 | 0     | 0     | 3     | ⋯     | 8     | 400.0 | 175   | 3.08  | 3.845 | 17.05 | 0     | 0     | 3     | 2     | \n",
       "| Fiat X1-9 | 27.3  | 4     |  79.0 |  66   | 4.08  | 1.935 | 18.90 | 1     | 1     | 4     | ⋯     | 4     |  79.0 |  66   | 4.08  | 1.935 | 18.90 | 1     | 1     | 4     | 1     | \n",
       "| Porsche 914-2 | 26.0  | 4     | 120.3 |  91   | 4.43  | 2.140 | 16.70 | 0     | 1     | 5     | ⋯     | 4     | 120.3 |  91   | 4.43  | 2.140 | 16.70 | 0     | 1     | 5     | 2     | \n",
       "| Lotus Europa | 30.4  | 4     |  95.1 | 113   | 3.77  | 1.513 | 16.90 | 1     | 1     | 5     | ⋯     | 4     |  95.1 | 113   | 3.77  | 1.513 | 16.90 | 1     | 1     | 5     | 2     | \n",
       "| Ford Pantera L | 15.8  | 8     | 351.0 | 264   | 4.22  | 3.170 | 14.50 | 0     | 1     | 5     | ⋯     | 8     | 351.0 | 264   | 4.22  | 3.170 | 14.50 | 0     | 1     | 5     | 4     | \n",
       "| Ferrari Dino | 19.7  | 6     | 145.0 | 175   | 3.62  | 2.770 | 15.50 | 0     | 1     | 5     | ⋯     | 6     | 145.0 | 175   | 3.62  | 2.770 | 15.50 | 0     | 1     | 5     | 6     | \n",
       "| Maserati Bora | 15.0  | 8     | 301.0 | 335   | 3.54  | 3.570 | 14.60 | 0     | 1     | 5     | ⋯     | 8     | 301.0 | 335   | 3.54  | 3.570 | 14.60 | 0     | 1     | 5     | 8     | \n",
       "| Volvo 142E | 21.4  | 4     | 121.0 | 109   | 4.11  | 2.780 | 18.60 | 1     | 1     | 4     | ⋯     | 4     | 121.0 | 109   | 4.11  | 2.780 | 18.60 | 1     | 1     | 4     | 2     | \n",
       "\n",
       "\n"
      ],
      "text/plain": [
       "                    mpg  cyl disp  hp  drat wt    qsec  vs am gear ⋯ cyl disp \n",
       "Mazda RX4           21.0 6   160.0 110 3.90 2.620 16.46 0  1  4    ⋯ 6   160.0\n",
       "Mazda RX4 Wag       21.0 6   160.0 110 3.90 2.875 17.02 0  1  4    ⋯ 6   160.0\n",
       "Datsun 710          22.8 4   108.0  93 3.85 2.320 18.61 1  1  4    ⋯ 4   108.0\n",
       "Hornet 4 Drive      21.4 6   258.0 110 3.08 3.215 19.44 1  0  3    ⋯ 6   258.0\n",
       "Hornet Sportabout   18.7 8   360.0 175 3.15 3.440 17.02 0  0  3    ⋯ 8   360.0\n",
       "Valiant             18.1 6   225.0 105 2.76 3.460 20.22 1  0  3    ⋯ 6   225.0\n",
       "Duster 360          14.3 8   360.0 245 3.21 3.570 15.84 0  0  3    ⋯ 8   360.0\n",
       "Merc 240D           24.4 4   146.7  62 3.69 3.190 20.00 1  0  4    ⋯ 4   146.7\n",
       "Merc 230            22.8 4   140.8  95 3.92 3.150 22.90 1  0  4    ⋯ 4   140.8\n",
       "Merc 280            19.2 6   167.6 123 3.92 3.440 18.30 1  0  4    ⋯ 6   167.6\n",
       "Merc 280C           17.8 6   167.6 123 3.92 3.440 18.90 1  0  4    ⋯ 6   167.6\n",
       "Merc 450SE          16.4 8   275.8 180 3.07 4.070 17.40 0  0  3    ⋯ 8   275.8\n",
       "Merc 450SL          17.3 8   275.8 180 3.07 3.730 17.60 0  0  3    ⋯ 8   275.8\n",
       "Merc 450SLC         15.2 8   275.8 180 3.07 3.780 18.00 0  0  3    ⋯ 8   275.8\n",
       "Cadillac Fleetwood  10.4 8   472.0 205 2.93 5.250 17.98 0  0  3    ⋯ 8   472.0\n",
       "Lincoln Continental 10.4 8   460.0 215 3.00 5.424 17.82 0  0  3    ⋯ 8   460.0\n",
       "Chrysler Imperial   14.7 8   440.0 230 3.23 5.345 17.42 0  0  3    ⋯ 8   440.0\n",
       "Fiat 128            32.4 4    78.7  66 4.08 2.200 19.47 1  1  4    ⋯ 4    78.7\n",
       "Honda Civic         30.4 4    75.7  52 4.93 1.615 18.52 1  1  4    ⋯ 4    75.7\n",
       "Toyota Corolla      33.9 4    71.1  65 4.22 1.835 19.90 1  1  4    ⋯ 4    71.1\n",
       "Toyota Corona       21.5 4   120.1  97 3.70 2.465 20.01 1  0  3    ⋯ 4   120.1\n",
       "Dodge Challenger    15.5 8   318.0 150 2.76 3.520 16.87 0  0  3    ⋯ 8   318.0\n",
       "AMC Javelin         15.2 8   304.0 150 3.15 3.435 17.30 0  0  3    ⋯ 8   304.0\n",
       "Camaro Z28          13.3 8   350.0 245 3.73 3.840 15.41 0  0  3    ⋯ 8   350.0\n",
       "Pontiac Firebird    19.2 8   400.0 175 3.08 3.845 17.05 0  0  3    ⋯ 8   400.0\n",
       "Fiat X1-9           27.3 4    79.0  66 4.08 1.935 18.90 1  1  4    ⋯ 4    79.0\n",
       "Porsche 914-2       26.0 4   120.3  91 4.43 2.140 16.70 0  1  5    ⋯ 4   120.3\n",
       "Lotus Europa        30.4 4    95.1 113 3.77 1.513 16.90 1  1  5    ⋯ 4    95.1\n",
       "Ford Pantera L      15.8 8   351.0 264 4.22 3.170 14.50 0  1  5    ⋯ 8   351.0\n",
       "Ferrari Dino        19.7 6   145.0 175 3.62 2.770 15.50 0  1  5    ⋯ 6   145.0\n",
       "Maserati Bora       15.0 8   301.0 335 3.54 3.570 14.60 0  1  5    ⋯ 8   301.0\n",
       "Volvo 142E          21.4 4   121.0 109 4.11 2.780 18.60 1  1  4    ⋯ 4   121.0\n",
       "                    hp  drat wt    qsec  vs am gear carb\n",
       "Mazda RX4           110 3.90 2.620 16.46 0  1  4    4   \n",
       "Mazda RX4 Wag       110 3.90 2.875 17.02 0  1  4    4   \n",
       "Datsun 710           93 3.85 2.320 18.61 1  1  4    1   \n",
       "Hornet 4 Drive      110 3.08 3.215 19.44 1  0  3    1   \n",
       "Hornet Sportabout   175 3.15 3.440 17.02 0  0  3    2   \n",
       "Valiant             105 2.76 3.460 20.22 1  0  3    1   \n",
       "Duster 360          245 3.21 3.570 15.84 0  0  3    4   \n",
       "Merc 240D            62 3.69 3.190 20.00 1  0  4    2   \n",
       "Merc 230             95 3.92 3.150 22.90 1  0  4    2   \n",
       "Merc 280            123 3.92 3.440 18.30 1  0  4    4   \n",
       "Merc 280C           123 3.92 3.440 18.90 1  0  4    4   \n",
       "Merc 450SE          180 3.07 4.070 17.40 0  0  3    3   \n",
       "Merc 450SL          180 3.07 3.730 17.60 0  0  3    3   \n",
       "Merc 450SLC         180 3.07 3.780 18.00 0  0  3    3   \n",
       "Cadillac Fleetwood  205 2.93 5.250 17.98 0  0  3    4   \n",
       "Lincoln Continental 215 3.00 5.424 17.82 0  0  3    4   \n",
       "Chrysler Imperial   230 3.23 5.345 17.42 0  0  3    4   \n",
       "Fiat 128             66 4.08 2.200 19.47 1  1  4    1   \n",
       "Honda Civic          52 4.93 1.615 18.52 1  1  4    2   \n",
       "Toyota Corolla       65 4.22 1.835 19.90 1  1  4    1   \n",
       "Toyota Corona        97 3.70 2.465 20.01 1  0  3    1   \n",
       "Dodge Challenger    150 2.76 3.520 16.87 0  0  3    2   \n",
       "AMC Javelin         150 3.15 3.435 17.30 0  0  3    2   \n",
       "Camaro Z28          245 3.73 3.840 15.41 0  0  3    4   \n",
       "Pontiac Firebird    175 3.08 3.845 17.05 0  0  3    2   \n",
       "Fiat X1-9            66 4.08 1.935 18.90 1  1  4    1   \n",
       "Porsche 914-2        91 4.43 2.140 16.70 0  1  5    2   \n",
       "Lotus Europa        113 3.77 1.513 16.90 1  1  5    2   \n",
       "Ford Pantera L      264 4.22 3.170 14.50 0  1  5    4   \n",
       "Ferrari Dino        175 3.62 2.770 15.50 0  1  5    6   \n",
       "Maserati Bora       335 3.54 3.570 14.60 0  1  5    8   \n",
       "Volvo 142E          109 4.11 2.780 18.60 1  1  4    2   "
      ]
     },
     "metadata": {},
     "output_type": "display_data"
    }
   ],
   "source": [
    "cbind(mtcars, mtcars)"
   ]
  },
  {
   "cell_type": "code",
   "execution_count": 84,
   "metadata": {
    "collapsed": false
   },
   "outputs": [
    {
     "data": {
      "text/html": [
       "<table>\n",
       "<thead><tr><th></th><th scope=col>mpg</th><th scope=col>cyl</th><th scope=col>disp</th><th scope=col>hp</th><th scope=col>drat</th><th scope=col>wt</th><th scope=col>qsec</th><th scope=col>vs</th><th scope=col>am</th><th scope=col>gear</th><th scope=col>carb</th></tr></thead>\n",
       "<tbody>\n",
       "\t<tr><th scope=row>Mazda RX4</th><td>21.0 </td><td>6    </td><td>160.0</td><td>110  </td><td>3.90 </td><td>2.620</td><td>16.46</td><td>0    </td><td>1    </td><td>4    </td><td>4    </td></tr>\n",
       "\t<tr><th scope=row>Mazda RX4 Wag</th><td>21.0 </td><td>6    </td><td>160.0</td><td>110  </td><td>3.90 </td><td>2.875</td><td>17.02</td><td>0    </td><td>1    </td><td>4    </td><td>4    </td></tr>\n",
       "\t<tr><th scope=row>Datsun 710</th><td>22.8 </td><td>4    </td><td>108.0</td><td> 93  </td><td>3.85 </td><td>2.320</td><td>18.61</td><td>1    </td><td>1    </td><td>4    </td><td>1    </td></tr>\n",
       "\t<tr><th scope=row>Hornet 4 Drive</th><td>21.4 </td><td>6    </td><td>258.0</td><td>110  </td><td>3.08 </td><td>3.215</td><td>19.44</td><td>1    </td><td>0    </td><td>3    </td><td>1    </td></tr>\n",
       "\t<tr><th scope=row>Hornet Sportabout</th><td>18.7 </td><td>8    </td><td>360.0</td><td>175  </td><td>3.15 </td><td>3.440</td><td>17.02</td><td>0    </td><td>0    </td><td>3    </td><td>2    </td></tr>\n",
       "\t<tr><th scope=row>Valiant</th><td>18.1 </td><td>6    </td><td>225.0</td><td>105  </td><td>2.76 </td><td>3.460</td><td>20.22</td><td>1    </td><td>0    </td><td>3    </td><td>1    </td></tr>\n",
       "\t<tr><th scope=row>Duster 360</th><td>14.3 </td><td>8    </td><td>360.0</td><td>245  </td><td>3.21 </td><td>3.570</td><td>15.84</td><td>0    </td><td>0    </td><td>3    </td><td>4    </td></tr>\n",
       "\t<tr><th scope=row>Merc 240D</th><td>24.4 </td><td>4    </td><td>146.7</td><td> 62  </td><td>3.69 </td><td>3.190</td><td>20.00</td><td>1    </td><td>0    </td><td>4    </td><td>2    </td></tr>\n",
       "\t<tr><th scope=row>Merc 230</th><td>22.8 </td><td>4    </td><td>140.8</td><td> 95  </td><td>3.92 </td><td>3.150</td><td>22.90</td><td>1    </td><td>0    </td><td>4    </td><td>2    </td></tr>\n",
       "\t<tr><th scope=row>Merc 280</th><td>19.2 </td><td>6    </td><td>167.6</td><td>123  </td><td>3.92 </td><td>3.440</td><td>18.30</td><td>1    </td><td>0    </td><td>4    </td><td>4    </td></tr>\n",
       "\t<tr><th scope=row>Merc 280C</th><td>17.8 </td><td>6    </td><td>167.6</td><td>123  </td><td>3.92 </td><td>3.440</td><td>18.90</td><td>1    </td><td>0    </td><td>4    </td><td>4    </td></tr>\n",
       "\t<tr><th scope=row>Merc 450SE</th><td>16.4 </td><td>8    </td><td>275.8</td><td>180  </td><td>3.07 </td><td>4.070</td><td>17.40</td><td>0    </td><td>0    </td><td>3    </td><td>3    </td></tr>\n",
       "\t<tr><th scope=row>Merc 450SL</th><td>17.3 </td><td>8    </td><td>275.8</td><td>180  </td><td>3.07 </td><td>3.730</td><td>17.60</td><td>0    </td><td>0    </td><td>3    </td><td>3    </td></tr>\n",
       "\t<tr><th scope=row>Merc 450SLC</th><td>15.2 </td><td>8    </td><td>275.8</td><td>180  </td><td>3.07 </td><td>3.780</td><td>18.00</td><td>0    </td><td>0    </td><td>3    </td><td>3    </td></tr>\n",
       "\t<tr><th scope=row>Cadillac Fleetwood</th><td>10.4 </td><td>8    </td><td>472.0</td><td>205  </td><td>2.93 </td><td>5.250</td><td>17.98</td><td>0    </td><td>0    </td><td>3    </td><td>4    </td></tr>\n",
       "\t<tr><th scope=row>Lincoln Continental</th><td>10.4 </td><td>8    </td><td>460.0</td><td>215  </td><td>3.00 </td><td>5.424</td><td>17.82</td><td>0    </td><td>0    </td><td>3    </td><td>4    </td></tr>\n",
       "\t<tr><th scope=row>Chrysler Imperial</th><td>14.7 </td><td>8    </td><td>440.0</td><td>230  </td><td>3.23 </td><td>5.345</td><td>17.42</td><td>0    </td><td>0    </td><td>3    </td><td>4    </td></tr>\n",
       "\t<tr><th scope=row>Fiat 128</th><td>32.4 </td><td>4    </td><td> 78.7</td><td> 66  </td><td>4.08 </td><td>2.200</td><td>19.47</td><td>1    </td><td>1    </td><td>4    </td><td>1    </td></tr>\n",
       "\t<tr><th scope=row>Honda Civic</th><td>30.4 </td><td>4    </td><td> 75.7</td><td> 52  </td><td>4.93 </td><td>1.615</td><td>18.52</td><td>1    </td><td>1    </td><td>4    </td><td>2    </td></tr>\n",
       "\t<tr><th scope=row>Toyota Corolla</th><td>33.9 </td><td>4    </td><td> 71.1</td><td> 65  </td><td>4.22 </td><td>1.835</td><td>19.90</td><td>1    </td><td>1    </td><td>4    </td><td>1    </td></tr>\n",
       "\t<tr><th scope=row>Toyota Corona</th><td>21.5 </td><td>4    </td><td>120.1</td><td> 97  </td><td>3.70 </td><td>2.465</td><td>20.01</td><td>1    </td><td>0    </td><td>3    </td><td>1    </td></tr>\n",
       "\t<tr><th scope=row>Dodge Challenger</th><td>15.5 </td><td>8    </td><td>318.0</td><td>150  </td><td>2.76 </td><td>3.520</td><td>16.87</td><td>0    </td><td>0    </td><td>3    </td><td>2    </td></tr>\n",
       "\t<tr><th scope=row>AMC Javelin</th><td>15.2 </td><td>8    </td><td>304.0</td><td>150  </td><td>3.15 </td><td>3.435</td><td>17.30</td><td>0    </td><td>0    </td><td>3    </td><td>2    </td></tr>\n",
       "\t<tr><th scope=row>Camaro Z28</th><td>13.3 </td><td>8    </td><td>350.0</td><td>245  </td><td>3.73 </td><td>3.840</td><td>15.41</td><td>0    </td><td>0    </td><td>3    </td><td>4    </td></tr>\n",
       "\t<tr><th scope=row>Pontiac Firebird</th><td>19.2 </td><td>8    </td><td>400.0</td><td>175  </td><td>3.08 </td><td>3.845</td><td>17.05</td><td>0    </td><td>0    </td><td>3    </td><td>2    </td></tr>\n",
       "\t<tr><th scope=row>Fiat X1-9</th><td>27.3 </td><td>4    </td><td> 79.0</td><td> 66  </td><td>4.08 </td><td>1.935</td><td>18.90</td><td>1    </td><td>1    </td><td>4    </td><td>1    </td></tr>\n",
       "\t<tr><th scope=row>Porsche 914-2</th><td>26.0 </td><td>4    </td><td>120.3</td><td> 91  </td><td>4.43 </td><td>2.140</td><td>16.70</td><td>0    </td><td>1    </td><td>5    </td><td>2    </td></tr>\n",
       "\t<tr><th scope=row>Lotus Europa</th><td>30.4 </td><td>4    </td><td> 95.1</td><td>113  </td><td>3.77 </td><td>1.513</td><td>16.90</td><td>1    </td><td>1    </td><td>5    </td><td>2    </td></tr>\n",
       "\t<tr><th scope=row>Ford Pantera L</th><td>15.8 </td><td>8    </td><td>351.0</td><td>264  </td><td>4.22 </td><td>3.170</td><td>14.50</td><td>0    </td><td>1    </td><td>5    </td><td>4    </td></tr>\n",
       "\t<tr><th scope=row>Ferrari Dino</th><td>19.7 </td><td>6    </td><td>145.0</td><td>175  </td><td>3.62 </td><td>2.770</td><td>15.50</td><td>0    </td><td>1    </td><td>5    </td><td>6    </td></tr>\n",
       "\t<tr><th scope=row>⋮</th><td>⋮</td><td>⋮</td><td>⋮</td><td>⋮</td><td>⋮</td><td>⋮</td><td>⋮</td><td>⋮</td><td>⋮</td><td>⋮</td><td>⋮</td></tr>\n",
       "\t<tr><th scope=row>Datsun 7101</th><td>22.8 </td><td>4    </td><td>108.0</td><td> 93  </td><td>3.85 </td><td>2.320</td><td>18.61</td><td>1    </td><td>1    </td><td>4    </td><td>1    </td></tr>\n",
       "\t<tr><th scope=row>Hornet 4 Drive1</th><td>21.4 </td><td>6    </td><td>258.0</td><td>110  </td><td>3.08 </td><td>3.215</td><td>19.44</td><td>1    </td><td>0    </td><td>3    </td><td>1    </td></tr>\n",
       "\t<tr><th scope=row>Hornet Sportabout1</th><td>18.7 </td><td>8    </td><td>360.0</td><td>175  </td><td>3.15 </td><td>3.440</td><td>17.02</td><td>0    </td><td>0    </td><td>3    </td><td>2    </td></tr>\n",
       "\t<tr><th scope=row>Valiant1</th><td>18.1 </td><td>6    </td><td>225.0</td><td>105  </td><td>2.76 </td><td>3.460</td><td>20.22</td><td>1    </td><td>0    </td><td>3    </td><td>1    </td></tr>\n",
       "\t<tr><th scope=row>Duster 3601</th><td>14.3 </td><td>8    </td><td>360.0</td><td>245  </td><td>3.21 </td><td>3.570</td><td>15.84</td><td>0    </td><td>0    </td><td>3    </td><td>4    </td></tr>\n",
       "\t<tr><th scope=row>Merc 240D1</th><td>24.4 </td><td>4    </td><td>146.7</td><td> 62  </td><td>3.69 </td><td>3.190</td><td>20.00</td><td>1    </td><td>0    </td><td>4    </td><td>2    </td></tr>\n",
       "\t<tr><th scope=row>Merc 2301</th><td>22.8 </td><td>4    </td><td>140.8</td><td> 95  </td><td>3.92 </td><td>3.150</td><td>22.90</td><td>1    </td><td>0    </td><td>4    </td><td>2    </td></tr>\n",
       "\t<tr><th scope=row>Merc 2801</th><td>19.2 </td><td>6    </td><td>167.6</td><td>123  </td><td>3.92 </td><td>3.440</td><td>18.30</td><td>1    </td><td>0    </td><td>4    </td><td>4    </td></tr>\n",
       "\t<tr><th scope=row>Merc 280C1</th><td>17.8 </td><td>6    </td><td>167.6</td><td>123  </td><td>3.92 </td><td>3.440</td><td>18.90</td><td>1    </td><td>0    </td><td>4    </td><td>4    </td></tr>\n",
       "\t<tr><th scope=row>Merc 450SE1</th><td>16.4 </td><td>8    </td><td>275.8</td><td>180  </td><td>3.07 </td><td>4.070</td><td>17.40</td><td>0    </td><td>0    </td><td>3    </td><td>3    </td></tr>\n",
       "\t<tr><th scope=row>Merc 450SL1</th><td>17.3 </td><td>8    </td><td>275.8</td><td>180  </td><td>3.07 </td><td>3.730</td><td>17.60</td><td>0    </td><td>0    </td><td>3    </td><td>3    </td></tr>\n",
       "\t<tr><th scope=row>Merc 450SLC1</th><td>15.2 </td><td>8    </td><td>275.8</td><td>180  </td><td>3.07 </td><td>3.780</td><td>18.00</td><td>0    </td><td>0    </td><td>3    </td><td>3    </td></tr>\n",
       "\t<tr><th scope=row>Cadillac Fleetwood1</th><td>10.4 </td><td>8    </td><td>472.0</td><td>205  </td><td>2.93 </td><td>5.250</td><td>17.98</td><td>0    </td><td>0    </td><td>3    </td><td>4    </td></tr>\n",
       "\t<tr><th scope=row>Lincoln Continental1</th><td>10.4 </td><td>8    </td><td>460.0</td><td>215  </td><td>3.00 </td><td>5.424</td><td>17.82</td><td>0    </td><td>0    </td><td>3    </td><td>4    </td></tr>\n",
       "\t<tr><th scope=row>Chrysler Imperial1</th><td>14.7 </td><td>8    </td><td>440.0</td><td>230  </td><td>3.23 </td><td>5.345</td><td>17.42</td><td>0    </td><td>0    </td><td>3    </td><td>4    </td></tr>\n",
       "\t<tr><th scope=row>Fiat 1281</th><td>32.4 </td><td>4    </td><td> 78.7</td><td> 66  </td><td>4.08 </td><td>2.200</td><td>19.47</td><td>1    </td><td>1    </td><td>4    </td><td>1    </td></tr>\n",
       "\t<tr><th scope=row>Honda Civic1</th><td>30.4 </td><td>4    </td><td> 75.7</td><td> 52  </td><td>4.93 </td><td>1.615</td><td>18.52</td><td>1    </td><td>1    </td><td>4    </td><td>2    </td></tr>\n",
       "\t<tr><th scope=row>Toyota Corolla1</th><td>33.9 </td><td>4    </td><td> 71.1</td><td> 65  </td><td>4.22 </td><td>1.835</td><td>19.90</td><td>1    </td><td>1    </td><td>4    </td><td>1    </td></tr>\n",
       "\t<tr><th scope=row>Toyota Corona1</th><td>21.5 </td><td>4    </td><td>120.1</td><td> 97  </td><td>3.70 </td><td>2.465</td><td>20.01</td><td>1    </td><td>0    </td><td>3    </td><td>1    </td></tr>\n",
       "\t<tr><th scope=row>Dodge Challenger1</th><td>15.5 </td><td>8    </td><td>318.0</td><td>150  </td><td>2.76 </td><td>3.520</td><td>16.87</td><td>0    </td><td>0    </td><td>3    </td><td>2    </td></tr>\n",
       "\t<tr><th scope=row>AMC Javelin1</th><td>15.2 </td><td>8    </td><td>304.0</td><td>150  </td><td>3.15 </td><td>3.435</td><td>17.30</td><td>0    </td><td>0    </td><td>3    </td><td>2    </td></tr>\n",
       "\t<tr><th scope=row>Camaro Z281</th><td>13.3 </td><td>8    </td><td>350.0</td><td>245  </td><td>3.73 </td><td>3.840</td><td>15.41</td><td>0    </td><td>0    </td><td>3    </td><td>4    </td></tr>\n",
       "\t<tr><th scope=row>Pontiac Firebird1</th><td>19.2 </td><td>8    </td><td>400.0</td><td>175  </td><td>3.08 </td><td>3.845</td><td>17.05</td><td>0    </td><td>0    </td><td>3    </td><td>2    </td></tr>\n",
       "\t<tr><th scope=row>Fiat X1-91</th><td>27.3 </td><td>4    </td><td> 79.0</td><td> 66  </td><td>4.08 </td><td>1.935</td><td>18.90</td><td>1    </td><td>1    </td><td>4    </td><td>1    </td></tr>\n",
       "\t<tr><th scope=row>Porsche 914-21</th><td>26.0 </td><td>4    </td><td>120.3</td><td> 91  </td><td>4.43 </td><td>2.140</td><td>16.70</td><td>0    </td><td>1    </td><td>5    </td><td>2    </td></tr>\n",
       "\t<tr><th scope=row>Lotus Europa1</th><td>30.4 </td><td>4    </td><td> 95.1</td><td>113  </td><td>3.77 </td><td>1.513</td><td>16.90</td><td>1    </td><td>1    </td><td>5    </td><td>2    </td></tr>\n",
       "\t<tr><th scope=row>Ford Pantera L1</th><td>15.8 </td><td>8    </td><td>351.0</td><td>264  </td><td>4.22 </td><td>3.170</td><td>14.50</td><td>0    </td><td>1    </td><td>5    </td><td>4    </td></tr>\n",
       "\t<tr><th scope=row>Ferrari Dino1</th><td>19.7 </td><td>6    </td><td>145.0</td><td>175  </td><td>3.62 </td><td>2.770</td><td>15.50</td><td>0    </td><td>1    </td><td>5    </td><td>6    </td></tr>\n",
       "\t<tr><th scope=row>Maserati Bora1</th><td>15.0 </td><td>8    </td><td>301.0</td><td>335  </td><td>3.54 </td><td>3.570</td><td>14.60</td><td>0    </td><td>1    </td><td>5    </td><td>8    </td></tr>\n",
       "\t<tr><th scope=row>Volvo 142E1</th><td>21.4 </td><td>4    </td><td>121.0</td><td>109  </td><td>4.11 </td><td>2.780</td><td>18.60</td><td>1    </td><td>1    </td><td>4    </td><td>2    </td></tr>\n",
       "</tbody>\n",
       "</table>\n"
      ],
      "text/latex": [
       "\\begin{tabular}{r|lllllllllll}\n",
       "  & mpg & cyl & disp & hp & drat & wt & qsec & vs & am & gear & carb\\\\\n",
       "\\hline\n",
       "\tMazda RX4 & 21.0  & 6     & 160.0 & 110   & 3.90  & 2.620 & 16.46 & 0     & 1     & 4     & 4    \\\\\n",
       "\tMazda RX4 Wag & 21.0  & 6     & 160.0 & 110   & 3.90  & 2.875 & 17.02 & 0     & 1     & 4     & 4    \\\\\n",
       "\tDatsun 710 & 22.8  & 4     & 108.0 &  93   & 3.85  & 2.320 & 18.61 & 1     & 1     & 4     & 1    \\\\\n",
       "\tHornet 4 Drive & 21.4  & 6     & 258.0 & 110   & 3.08  & 3.215 & 19.44 & 1     & 0     & 3     & 1    \\\\\n",
       "\tHornet Sportabout & 18.7  & 8     & 360.0 & 175   & 3.15  & 3.440 & 17.02 & 0     & 0     & 3     & 2    \\\\\n",
       "\tValiant & 18.1  & 6     & 225.0 & 105   & 2.76  & 3.460 & 20.22 & 1     & 0     & 3     & 1    \\\\\n",
       "\tDuster 360 & 14.3  & 8     & 360.0 & 245   & 3.21  & 3.570 & 15.84 & 0     & 0     & 3     & 4    \\\\\n",
       "\tMerc 240D & 24.4  & 4     & 146.7 &  62   & 3.69  & 3.190 & 20.00 & 1     & 0     & 4     & 2    \\\\\n",
       "\tMerc 230 & 22.8  & 4     & 140.8 &  95   & 3.92  & 3.150 & 22.90 & 1     & 0     & 4     & 2    \\\\\n",
       "\tMerc 280 & 19.2  & 6     & 167.6 & 123   & 3.92  & 3.440 & 18.30 & 1     & 0     & 4     & 4    \\\\\n",
       "\tMerc 280C & 17.8  & 6     & 167.6 & 123   & 3.92  & 3.440 & 18.90 & 1     & 0     & 4     & 4    \\\\\n",
       "\tMerc 450SE & 16.4  & 8     & 275.8 & 180   & 3.07  & 4.070 & 17.40 & 0     & 0     & 3     & 3    \\\\\n",
       "\tMerc 450SL & 17.3  & 8     & 275.8 & 180   & 3.07  & 3.730 & 17.60 & 0     & 0     & 3     & 3    \\\\\n",
       "\tMerc 450SLC & 15.2  & 8     & 275.8 & 180   & 3.07  & 3.780 & 18.00 & 0     & 0     & 3     & 3    \\\\\n",
       "\tCadillac Fleetwood & 10.4  & 8     & 472.0 & 205   & 2.93  & 5.250 & 17.98 & 0     & 0     & 3     & 4    \\\\\n",
       "\tLincoln Continental & 10.4  & 8     & 460.0 & 215   & 3.00  & 5.424 & 17.82 & 0     & 0     & 3     & 4    \\\\\n",
       "\tChrysler Imperial & 14.7  & 8     & 440.0 & 230   & 3.23  & 5.345 & 17.42 & 0     & 0     & 3     & 4    \\\\\n",
       "\tFiat 128 & 32.4  & 4     &  78.7 &  66   & 4.08  & 2.200 & 19.47 & 1     & 1     & 4     & 1    \\\\\n",
       "\tHonda Civic & 30.4  & 4     &  75.7 &  52   & 4.93  & 1.615 & 18.52 & 1     & 1     & 4     & 2    \\\\\n",
       "\tToyota Corolla & 33.9  & 4     &  71.1 &  65   & 4.22  & 1.835 & 19.90 & 1     & 1     & 4     & 1    \\\\\n",
       "\tToyota Corona & 21.5  & 4     & 120.1 &  97   & 3.70  & 2.465 & 20.01 & 1     & 0     & 3     & 1    \\\\\n",
       "\tDodge Challenger & 15.5  & 8     & 318.0 & 150   & 2.76  & 3.520 & 16.87 & 0     & 0     & 3     & 2    \\\\\n",
       "\tAMC Javelin & 15.2  & 8     & 304.0 & 150   & 3.15  & 3.435 & 17.30 & 0     & 0     & 3     & 2    \\\\\n",
       "\tCamaro Z28 & 13.3  & 8     & 350.0 & 245   & 3.73  & 3.840 & 15.41 & 0     & 0     & 3     & 4    \\\\\n",
       "\tPontiac Firebird & 19.2  & 8     & 400.0 & 175   & 3.08  & 3.845 & 17.05 & 0     & 0     & 3     & 2    \\\\\n",
       "\tFiat X1-9 & 27.3  & 4     &  79.0 &  66   & 4.08  & 1.935 & 18.90 & 1     & 1     & 4     & 1    \\\\\n",
       "\tPorsche 914-2 & 26.0  & 4     & 120.3 &  91   & 4.43  & 2.140 & 16.70 & 0     & 1     & 5     & 2    \\\\\n",
       "\tLotus Europa & 30.4  & 4     &  95.1 & 113   & 3.77  & 1.513 & 16.90 & 1     & 1     & 5     & 2    \\\\\n",
       "\tFord Pantera L & 15.8  & 8     & 351.0 & 264   & 4.22  & 3.170 & 14.50 & 0     & 1     & 5     & 4    \\\\\n",
       "\tFerrari Dino & 19.7  & 6     & 145.0 & 175   & 3.62  & 2.770 & 15.50 & 0     & 1     & 5     & 6    \\\\\n",
       "\t⋮ & ⋮ & ⋮ & ⋮ & ⋮ & ⋮ & ⋮ & ⋮ & ⋮ & ⋮ & ⋮ & ⋮\\\\\n",
       "\tDatsun 7101 & 22.8  & 4     & 108.0 &  93   & 3.85  & 2.320 & 18.61 & 1     & 1     & 4     & 1    \\\\\n",
       "\tHornet 4 Drive1 & 21.4  & 6     & 258.0 & 110   & 3.08  & 3.215 & 19.44 & 1     & 0     & 3     & 1    \\\\\n",
       "\tHornet Sportabout1 & 18.7  & 8     & 360.0 & 175   & 3.15  & 3.440 & 17.02 & 0     & 0     & 3     & 2    \\\\\n",
       "\tValiant1 & 18.1  & 6     & 225.0 & 105   & 2.76  & 3.460 & 20.22 & 1     & 0     & 3     & 1    \\\\\n",
       "\tDuster 3601 & 14.3  & 8     & 360.0 & 245   & 3.21  & 3.570 & 15.84 & 0     & 0     & 3     & 4    \\\\\n",
       "\tMerc 240D1 & 24.4  & 4     & 146.7 &  62   & 3.69  & 3.190 & 20.00 & 1     & 0     & 4     & 2    \\\\\n",
       "\tMerc 2301 & 22.8  & 4     & 140.8 &  95   & 3.92  & 3.150 & 22.90 & 1     & 0     & 4     & 2    \\\\\n",
       "\tMerc 2801 & 19.2  & 6     & 167.6 & 123   & 3.92  & 3.440 & 18.30 & 1     & 0     & 4     & 4    \\\\\n",
       "\tMerc 280C1 & 17.8  & 6     & 167.6 & 123   & 3.92  & 3.440 & 18.90 & 1     & 0     & 4     & 4    \\\\\n",
       "\tMerc 450SE1 & 16.4  & 8     & 275.8 & 180   & 3.07  & 4.070 & 17.40 & 0     & 0     & 3     & 3    \\\\\n",
       "\tMerc 450SL1 & 17.3  & 8     & 275.8 & 180   & 3.07  & 3.730 & 17.60 & 0     & 0     & 3     & 3    \\\\\n",
       "\tMerc 450SLC1 & 15.2  & 8     & 275.8 & 180   & 3.07  & 3.780 & 18.00 & 0     & 0     & 3     & 3    \\\\\n",
       "\tCadillac Fleetwood1 & 10.4  & 8     & 472.0 & 205   & 2.93  & 5.250 & 17.98 & 0     & 0     & 3     & 4    \\\\\n",
       "\tLincoln Continental1 & 10.4  & 8     & 460.0 & 215   & 3.00  & 5.424 & 17.82 & 0     & 0     & 3     & 4    \\\\\n",
       "\tChrysler Imperial1 & 14.7  & 8     & 440.0 & 230   & 3.23  & 5.345 & 17.42 & 0     & 0     & 3     & 4    \\\\\n",
       "\tFiat 1281 & 32.4  & 4     &  78.7 &  66   & 4.08  & 2.200 & 19.47 & 1     & 1     & 4     & 1    \\\\\n",
       "\tHonda Civic1 & 30.4  & 4     &  75.7 &  52   & 4.93  & 1.615 & 18.52 & 1     & 1     & 4     & 2    \\\\\n",
       "\tToyota Corolla1 & 33.9  & 4     &  71.1 &  65   & 4.22  & 1.835 & 19.90 & 1     & 1     & 4     & 1    \\\\\n",
       "\tToyota Corona1 & 21.5  & 4     & 120.1 &  97   & 3.70  & 2.465 & 20.01 & 1     & 0     & 3     & 1    \\\\\n",
       "\tDodge Challenger1 & 15.5  & 8     & 318.0 & 150   & 2.76  & 3.520 & 16.87 & 0     & 0     & 3     & 2    \\\\\n",
       "\tAMC Javelin1 & 15.2  & 8     & 304.0 & 150   & 3.15  & 3.435 & 17.30 & 0     & 0     & 3     & 2    \\\\\n",
       "\tCamaro Z281 & 13.3  & 8     & 350.0 & 245   & 3.73  & 3.840 & 15.41 & 0     & 0     & 3     & 4    \\\\\n",
       "\tPontiac Firebird1 & 19.2  & 8     & 400.0 & 175   & 3.08  & 3.845 & 17.05 & 0     & 0     & 3     & 2    \\\\\n",
       "\tFiat X1-91 & 27.3  & 4     &  79.0 &  66   & 4.08  & 1.935 & 18.90 & 1     & 1     & 4     & 1    \\\\\n",
       "\tPorsche 914-21 & 26.0  & 4     & 120.3 &  91   & 4.43  & 2.140 & 16.70 & 0     & 1     & 5     & 2    \\\\\n",
       "\tLotus Europa1 & 30.4  & 4     &  95.1 & 113   & 3.77  & 1.513 & 16.90 & 1     & 1     & 5     & 2    \\\\\n",
       "\tFord Pantera L1 & 15.8  & 8     & 351.0 & 264   & 4.22  & 3.170 & 14.50 & 0     & 1     & 5     & 4    \\\\\n",
       "\tFerrari Dino1 & 19.7  & 6     & 145.0 & 175   & 3.62  & 2.770 & 15.50 & 0     & 1     & 5     & 6    \\\\\n",
       "\tMaserati Bora1 & 15.0  & 8     & 301.0 & 335   & 3.54  & 3.570 & 14.60 & 0     & 1     & 5     & 8    \\\\\n",
       "\tVolvo 142E1 & 21.4  & 4     & 121.0 & 109   & 4.11  & 2.780 & 18.60 & 1     & 1     & 4     & 2    \\\\\n",
       "\\end{tabular}\n"
      ],
      "text/markdown": [
       "\n",
       "| <!--/--> | mpg | cyl | disp | hp | drat | wt | qsec | vs | am | gear | carb | \n",
       "|---|---|---|---|---|---|---|---|---|---|---|---|---|---|---|---|---|---|---|---|---|---|---|---|---|---|---|---|---|---|---|---|---|---|---|---|---|---|---|---|---|---|---|---|---|---|---|---|---|---|---|---|---|---|---|---|---|---|---|---|---|\n",
       "| Mazda RX4 | 21.0  | 6     | 160.0 | 110   | 3.90  | 2.620 | 16.46 | 0     | 1     | 4     | 4     | \n",
       "| Mazda RX4 Wag | 21.0  | 6     | 160.0 | 110   | 3.90  | 2.875 | 17.02 | 0     | 1     | 4     | 4     | \n",
       "| Datsun 710 | 22.8  | 4     | 108.0 |  93   | 3.85  | 2.320 | 18.61 | 1     | 1     | 4     | 1     | \n",
       "| Hornet 4 Drive | 21.4  | 6     | 258.0 | 110   | 3.08  | 3.215 | 19.44 | 1     | 0     | 3     | 1     | \n",
       "| Hornet Sportabout | 18.7  | 8     | 360.0 | 175   | 3.15  | 3.440 | 17.02 | 0     | 0     | 3     | 2     | \n",
       "| Valiant | 18.1  | 6     | 225.0 | 105   | 2.76  | 3.460 | 20.22 | 1     | 0     | 3     | 1     | \n",
       "| Duster 360 | 14.3  | 8     | 360.0 | 245   | 3.21  | 3.570 | 15.84 | 0     | 0     | 3     | 4     | \n",
       "| Merc 240D | 24.4  | 4     | 146.7 |  62   | 3.69  | 3.190 | 20.00 | 1     | 0     | 4     | 2     | \n",
       "| Merc 230 | 22.8  | 4     | 140.8 |  95   | 3.92  | 3.150 | 22.90 | 1     | 0     | 4     | 2     | \n",
       "| Merc 280 | 19.2  | 6     | 167.6 | 123   | 3.92  | 3.440 | 18.30 | 1     | 0     | 4     | 4     | \n",
       "| Merc 280C | 17.8  | 6     | 167.6 | 123   | 3.92  | 3.440 | 18.90 | 1     | 0     | 4     | 4     | \n",
       "| Merc 450SE | 16.4  | 8     | 275.8 | 180   | 3.07  | 4.070 | 17.40 | 0     | 0     | 3     | 3     | \n",
       "| Merc 450SL | 17.3  | 8     | 275.8 | 180   | 3.07  | 3.730 | 17.60 | 0     | 0     | 3     | 3     | \n",
       "| Merc 450SLC | 15.2  | 8     | 275.8 | 180   | 3.07  | 3.780 | 18.00 | 0     | 0     | 3     | 3     | \n",
       "| Cadillac Fleetwood | 10.4  | 8     | 472.0 | 205   | 2.93  | 5.250 | 17.98 | 0     | 0     | 3     | 4     | \n",
       "| Lincoln Continental | 10.4  | 8     | 460.0 | 215   | 3.00  | 5.424 | 17.82 | 0     | 0     | 3     | 4     | \n",
       "| Chrysler Imperial | 14.7  | 8     | 440.0 | 230   | 3.23  | 5.345 | 17.42 | 0     | 0     | 3     | 4     | \n",
       "| Fiat 128 | 32.4  | 4     |  78.7 |  66   | 4.08  | 2.200 | 19.47 | 1     | 1     | 4     | 1     | \n",
       "| Honda Civic | 30.4  | 4     |  75.7 |  52   | 4.93  | 1.615 | 18.52 | 1     | 1     | 4     | 2     | \n",
       "| Toyota Corolla | 33.9  | 4     |  71.1 |  65   | 4.22  | 1.835 | 19.90 | 1     | 1     | 4     | 1     | \n",
       "| Toyota Corona | 21.5  | 4     | 120.1 |  97   | 3.70  | 2.465 | 20.01 | 1     | 0     | 3     | 1     | \n",
       "| Dodge Challenger | 15.5  | 8     | 318.0 | 150   | 2.76  | 3.520 | 16.87 | 0     | 0     | 3     | 2     | \n",
       "| AMC Javelin | 15.2  | 8     | 304.0 | 150   | 3.15  | 3.435 | 17.30 | 0     | 0     | 3     | 2     | \n",
       "| Camaro Z28 | 13.3  | 8     | 350.0 | 245   | 3.73  | 3.840 | 15.41 | 0     | 0     | 3     | 4     | \n",
       "| Pontiac Firebird | 19.2  | 8     | 400.0 | 175   | 3.08  | 3.845 | 17.05 | 0     | 0     | 3     | 2     | \n",
       "| Fiat X1-9 | 27.3  | 4     |  79.0 |  66   | 4.08  | 1.935 | 18.90 | 1     | 1     | 4     | 1     | \n",
       "| Porsche 914-2 | 26.0  | 4     | 120.3 |  91   | 4.43  | 2.140 | 16.70 | 0     | 1     | 5     | 2     | \n",
       "| Lotus Europa | 30.4  | 4     |  95.1 | 113   | 3.77  | 1.513 | 16.90 | 1     | 1     | 5     | 2     | \n",
       "| Ford Pantera L | 15.8  | 8     | 351.0 | 264   | 4.22  | 3.170 | 14.50 | 0     | 1     | 5     | 4     | \n",
       "| Ferrari Dino | 19.7  | 6     | 145.0 | 175   | 3.62  | 2.770 | 15.50 | 0     | 1     | 5     | 6     | \n",
       "| ⋮ | ⋮ | ⋮ | ⋮ | ⋮ | ⋮ | ⋮ | ⋮ | ⋮ | ⋮ | ⋮ | ⋮ | \n",
       "| Datsun 7101 | 22.8  | 4     | 108.0 |  93   | 3.85  | 2.320 | 18.61 | 1     | 1     | 4     | 1     | \n",
       "| Hornet 4 Drive1 | 21.4  | 6     | 258.0 | 110   | 3.08  | 3.215 | 19.44 | 1     | 0     | 3     | 1     | \n",
       "| Hornet Sportabout1 | 18.7  | 8     | 360.0 | 175   | 3.15  | 3.440 | 17.02 | 0     | 0     | 3     | 2     | \n",
       "| Valiant1 | 18.1  | 6     | 225.0 | 105   | 2.76  | 3.460 | 20.22 | 1     | 0     | 3     | 1     | \n",
       "| Duster 3601 | 14.3  | 8     | 360.0 | 245   | 3.21  | 3.570 | 15.84 | 0     | 0     | 3     | 4     | \n",
       "| Merc 240D1 | 24.4  | 4     | 146.7 |  62   | 3.69  | 3.190 | 20.00 | 1     | 0     | 4     | 2     | \n",
       "| Merc 2301 | 22.8  | 4     | 140.8 |  95   | 3.92  | 3.150 | 22.90 | 1     | 0     | 4     | 2     | \n",
       "| Merc 2801 | 19.2  | 6     | 167.6 | 123   | 3.92  | 3.440 | 18.30 | 1     | 0     | 4     | 4     | \n",
       "| Merc 280C1 | 17.8  | 6     | 167.6 | 123   | 3.92  | 3.440 | 18.90 | 1     | 0     | 4     | 4     | \n",
       "| Merc 450SE1 | 16.4  | 8     | 275.8 | 180   | 3.07  | 4.070 | 17.40 | 0     | 0     | 3     | 3     | \n",
       "| Merc 450SL1 | 17.3  | 8     | 275.8 | 180   | 3.07  | 3.730 | 17.60 | 0     | 0     | 3     | 3     | \n",
       "| Merc 450SLC1 | 15.2  | 8     | 275.8 | 180   | 3.07  | 3.780 | 18.00 | 0     | 0     | 3     | 3     | \n",
       "| Cadillac Fleetwood1 | 10.4  | 8     | 472.0 | 205   | 2.93  | 5.250 | 17.98 | 0     | 0     | 3     | 4     | \n",
       "| Lincoln Continental1 | 10.4  | 8     | 460.0 | 215   | 3.00  | 5.424 | 17.82 | 0     | 0     | 3     | 4     | \n",
       "| Chrysler Imperial1 | 14.7  | 8     | 440.0 | 230   | 3.23  | 5.345 | 17.42 | 0     | 0     | 3     | 4     | \n",
       "| Fiat 1281 | 32.4  | 4     |  78.7 |  66   | 4.08  | 2.200 | 19.47 | 1     | 1     | 4     | 1     | \n",
       "| Honda Civic1 | 30.4  | 4     |  75.7 |  52   | 4.93  | 1.615 | 18.52 | 1     | 1     | 4     | 2     | \n",
       "| Toyota Corolla1 | 33.9  | 4     |  71.1 |  65   | 4.22  | 1.835 | 19.90 | 1     | 1     | 4     | 1     | \n",
       "| Toyota Corona1 | 21.5  | 4     | 120.1 |  97   | 3.70  | 2.465 | 20.01 | 1     | 0     | 3     | 1     | \n",
       "| Dodge Challenger1 | 15.5  | 8     | 318.0 | 150   | 2.76  | 3.520 | 16.87 | 0     | 0     | 3     | 2     | \n",
       "| AMC Javelin1 | 15.2  | 8     | 304.0 | 150   | 3.15  | 3.435 | 17.30 | 0     | 0     | 3     | 2     | \n",
       "| Camaro Z281 | 13.3  | 8     | 350.0 | 245   | 3.73  | 3.840 | 15.41 | 0     | 0     | 3     | 4     | \n",
       "| Pontiac Firebird1 | 19.2  | 8     | 400.0 | 175   | 3.08  | 3.845 | 17.05 | 0     | 0     | 3     | 2     | \n",
       "| Fiat X1-91 | 27.3  | 4     |  79.0 |  66   | 4.08  | 1.935 | 18.90 | 1     | 1     | 4     | 1     | \n",
       "| Porsche 914-21 | 26.0  | 4     | 120.3 |  91   | 4.43  | 2.140 | 16.70 | 0     | 1     | 5     | 2     | \n",
       "| Lotus Europa1 | 30.4  | 4     |  95.1 | 113   | 3.77  | 1.513 | 16.90 | 1     | 1     | 5     | 2     | \n",
       "| Ford Pantera L1 | 15.8  | 8     | 351.0 | 264   | 4.22  | 3.170 | 14.50 | 0     | 1     | 5     | 4     | \n",
       "| Ferrari Dino1 | 19.7  | 6     | 145.0 | 175   | 3.62  | 2.770 | 15.50 | 0     | 1     | 5     | 6     | \n",
       "| Maserati Bora1 | 15.0  | 8     | 301.0 | 335   | 3.54  | 3.570 | 14.60 | 0     | 1     | 5     | 8     | \n",
       "| Volvo 142E1 | 21.4  | 4     | 121.0 | 109   | 4.11  | 2.780 | 18.60 | 1     | 1     | 4     | 2     | \n",
       "\n",
       "\n"
      ],
      "text/plain": [
       "                     mpg  cyl disp  hp  drat wt    qsec  vs am gear carb\n",
       "Mazda RX4            21.0 6   160.0 110 3.90 2.620 16.46 0  1  4    4   \n",
       "Mazda RX4 Wag        21.0 6   160.0 110 3.90 2.875 17.02 0  1  4    4   \n",
       "Datsun 710           22.8 4   108.0  93 3.85 2.320 18.61 1  1  4    1   \n",
       "Hornet 4 Drive       21.4 6   258.0 110 3.08 3.215 19.44 1  0  3    1   \n",
       "Hornet Sportabout    18.7 8   360.0 175 3.15 3.440 17.02 0  0  3    2   \n",
       "Valiant              18.1 6   225.0 105 2.76 3.460 20.22 1  0  3    1   \n",
       "Duster 360           14.3 8   360.0 245 3.21 3.570 15.84 0  0  3    4   \n",
       "Merc 240D            24.4 4   146.7  62 3.69 3.190 20.00 1  0  4    2   \n",
       "Merc 230             22.8 4   140.8  95 3.92 3.150 22.90 1  0  4    2   \n",
       "Merc 280             19.2 6   167.6 123 3.92 3.440 18.30 1  0  4    4   \n",
       "Merc 280C            17.8 6   167.6 123 3.92 3.440 18.90 1  0  4    4   \n",
       "Merc 450SE           16.4 8   275.8 180 3.07 4.070 17.40 0  0  3    3   \n",
       "Merc 450SL           17.3 8   275.8 180 3.07 3.730 17.60 0  0  3    3   \n",
       "Merc 450SLC          15.2 8   275.8 180 3.07 3.780 18.00 0  0  3    3   \n",
       "Cadillac Fleetwood   10.4 8   472.0 205 2.93 5.250 17.98 0  0  3    4   \n",
       "Lincoln Continental  10.4 8   460.0 215 3.00 5.424 17.82 0  0  3    4   \n",
       "Chrysler Imperial    14.7 8   440.0 230 3.23 5.345 17.42 0  0  3    4   \n",
       "Fiat 128             32.4 4    78.7  66 4.08 2.200 19.47 1  1  4    1   \n",
       "Honda Civic          30.4 4    75.7  52 4.93 1.615 18.52 1  1  4    2   \n",
       "Toyota Corolla       33.9 4    71.1  65 4.22 1.835 19.90 1  1  4    1   \n",
       "Toyota Corona        21.5 4   120.1  97 3.70 2.465 20.01 1  0  3    1   \n",
       "Dodge Challenger     15.5 8   318.0 150 2.76 3.520 16.87 0  0  3    2   \n",
       "AMC Javelin          15.2 8   304.0 150 3.15 3.435 17.30 0  0  3    2   \n",
       "Camaro Z28           13.3 8   350.0 245 3.73 3.840 15.41 0  0  3    4   \n",
       "Pontiac Firebird     19.2 8   400.0 175 3.08 3.845 17.05 0  0  3    2   \n",
       "Fiat X1-9            27.3 4    79.0  66 4.08 1.935 18.90 1  1  4    1   \n",
       "Porsche 914-2        26.0 4   120.3  91 4.43 2.140 16.70 0  1  5    2   \n",
       "Lotus Europa         30.4 4    95.1 113 3.77 1.513 16.90 1  1  5    2   \n",
       "Ford Pantera L       15.8 8   351.0 264 4.22 3.170 14.50 0  1  5    4   \n",
       "Ferrari Dino         19.7 6   145.0 175 3.62 2.770 15.50 0  1  5    6   \n",
       "⋮                    ⋮    ⋮   ⋮     ⋮   ⋮    ⋮     ⋮     ⋮  ⋮  ⋮    ⋮   \n",
       "Datsun 7101          22.8 4   108.0  93 3.85 2.320 18.61 1  1  4    1   \n",
       "Hornet 4 Drive1      21.4 6   258.0 110 3.08 3.215 19.44 1  0  3    1   \n",
       "Hornet Sportabout1   18.7 8   360.0 175 3.15 3.440 17.02 0  0  3    2   \n",
       "Valiant1             18.1 6   225.0 105 2.76 3.460 20.22 1  0  3    1   \n",
       "Duster 3601          14.3 8   360.0 245 3.21 3.570 15.84 0  0  3    4   \n",
       "Merc 240D1           24.4 4   146.7  62 3.69 3.190 20.00 1  0  4    2   \n",
       "Merc 2301            22.8 4   140.8  95 3.92 3.150 22.90 1  0  4    2   \n",
       "Merc 2801            19.2 6   167.6 123 3.92 3.440 18.30 1  0  4    4   \n",
       "Merc 280C1           17.8 6   167.6 123 3.92 3.440 18.90 1  0  4    4   \n",
       "Merc 450SE1          16.4 8   275.8 180 3.07 4.070 17.40 0  0  3    3   \n",
       "Merc 450SL1          17.3 8   275.8 180 3.07 3.730 17.60 0  0  3    3   \n",
       "Merc 450SLC1         15.2 8   275.8 180 3.07 3.780 18.00 0  0  3    3   \n",
       "Cadillac Fleetwood1  10.4 8   472.0 205 2.93 5.250 17.98 0  0  3    4   \n",
       "Lincoln Continental1 10.4 8   460.0 215 3.00 5.424 17.82 0  0  3    4   \n",
       "Chrysler Imperial1   14.7 8   440.0 230 3.23 5.345 17.42 0  0  3    4   \n",
       "Fiat 1281            32.4 4    78.7  66 4.08 2.200 19.47 1  1  4    1   \n",
       "Honda Civic1         30.4 4    75.7  52 4.93 1.615 18.52 1  1  4    2   \n",
       "Toyota Corolla1      33.9 4    71.1  65 4.22 1.835 19.90 1  1  4    1   \n",
       "Toyota Corona1       21.5 4   120.1  97 3.70 2.465 20.01 1  0  3    1   \n",
       "Dodge Challenger1    15.5 8   318.0 150 2.76 3.520 16.87 0  0  3    2   \n",
       "AMC Javelin1         15.2 8   304.0 150 3.15 3.435 17.30 0  0  3    2   \n",
       "Camaro Z281          13.3 8   350.0 245 3.73 3.840 15.41 0  0  3    4   \n",
       "Pontiac Firebird1    19.2 8   400.0 175 3.08 3.845 17.05 0  0  3    2   \n",
       "Fiat X1-91           27.3 4    79.0  66 4.08 1.935 18.90 1  1  4    1   \n",
       "Porsche 914-21       26.0 4   120.3  91 4.43 2.140 16.70 0  1  5    2   \n",
       "Lotus Europa1        30.4 4    95.1 113 3.77 1.513 16.90 1  1  5    2   \n",
       "Ford Pantera L1      15.8 8   351.0 264 4.22 3.170 14.50 0  1  5    4   \n",
       "Ferrari Dino1        19.7 6   145.0 175 3.62 2.770 15.50 0  1  5    6   \n",
       "Maserati Bora1       15.0 8   301.0 335 3.54 3.570 14.60 0  1  5    8   \n",
       "Volvo 142E1          21.4 4   121.0 109 4.11 2.780 18.60 1  1  4    2   "
      ]
     },
     "metadata": {},
     "output_type": "display_data"
    }
   ],
   "source": [
    "rbind(mtcars, mtcars)"
   ]
  },
  {
   "cell_type": "code",
   "execution_count": 97,
   "metadata": {
    "collapsed": false
   },
   "outputs": [],
   "source": [
    "pbv <- function(df) {\n",
    "    df$carb = 0\n",
    "}"
   ]
  },
  {
   "cell_type": "code",
   "execution_count": 98,
   "metadata": {
    "collapsed": true
   },
   "outputs": [],
   "source": [
    "pbv(mtcars)"
   ]
  },
  {
   "cell_type": "code",
   "execution_count": 100,
   "metadata": {
    "collapsed": false
   },
   "outputs": [
    {
     "data": {
      "text/html": [
       "<table>\n",
       "<thead><tr><th></th><th scope=col>mpg</th><th scope=col>cyl</th><th scope=col>disp</th><th scope=col>hp</th><th scope=col>drat</th><th scope=col>wt</th><th scope=col>qsec</th><th scope=col>vs</th><th scope=col>am</th><th scope=col>gear</th><th scope=col>carb</th></tr></thead>\n",
       "<tbody>\n",
       "\t<tr><th scope=row>Mazda RX4</th><td>21.0 </td><td>6    </td><td>160  </td><td>110  </td><td>3.90 </td><td>2.620</td><td>16.46</td><td>0    </td><td>1    </td><td>4    </td><td>4    </td></tr>\n",
       "\t<tr><th scope=row>Mazda RX4 Wag</th><td>21.0 </td><td>6    </td><td>160  </td><td>110  </td><td>3.90 </td><td>2.875</td><td>17.02</td><td>0    </td><td>1    </td><td>4    </td><td>4    </td></tr>\n",
       "\t<tr><th scope=row>Datsun 710</th><td>22.8 </td><td>4    </td><td>108  </td><td> 93  </td><td>3.85 </td><td>2.320</td><td>18.61</td><td>1    </td><td>1    </td><td>4    </td><td>1    </td></tr>\n",
       "\t<tr><th scope=row>Hornet 4 Drive</th><td>21.4 </td><td>6    </td><td>258  </td><td>110  </td><td>3.08 </td><td>3.215</td><td>19.44</td><td>1    </td><td>0    </td><td>3    </td><td>1    </td></tr>\n",
       "\t<tr><th scope=row>Hornet Sportabout</th><td>18.7 </td><td>8    </td><td>360  </td><td>175  </td><td>3.15 </td><td>3.440</td><td>17.02</td><td>0    </td><td>0    </td><td>3    </td><td>2    </td></tr>\n",
       "\t<tr><th scope=row>Valiant</th><td>18.1 </td><td>6    </td><td>225  </td><td>105  </td><td>2.76 </td><td>3.460</td><td>20.22</td><td>1    </td><td>0    </td><td>3    </td><td>1    </td></tr>\n",
       "</tbody>\n",
       "</table>\n"
      ],
      "text/latex": [
       "\\begin{tabular}{r|lllllllllll}\n",
       "  & mpg & cyl & disp & hp & drat & wt & qsec & vs & am & gear & carb\\\\\n",
       "\\hline\n",
       "\tMazda RX4 & 21.0  & 6     & 160   & 110   & 3.90  & 2.620 & 16.46 & 0     & 1     & 4     & 4    \\\\\n",
       "\tMazda RX4 Wag & 21.0  & 6     & 160   & 110   & 3.90  & 2.875 & 17.02 & 0     & 1     & 4     & 4    \\\\\n",
       "\tDatsun 710 & 22.8  & 4     & 108   &  93   & 3.85  & 2.320 & 18.61 & 1     & 1     & 4     & 1    \\\\\n",
       "\tHornet 4 Drive & 21.4  & 6     & 258   & 110   & 3.08  & 3.215 & 19.44 & 1     & 0     & 3     & 1    \\\\\n",
       "\tHornet Sportabout & 18.7  & 8     & 360   & 175   & 3.15  & 3.440 & 17.02 & 0     & 0     & 3     & 2    \\\\\n",
       "\tValiant & 18.1  & 6     & 225   & 105   & 2.76  & 3.460 & 20.22 & 1     & 0     & 3     & 1    \\\\\n",
       "\\end{tabular}\n"
      ],
      "text/markdown": [
       "\n",
       "| <!--/--> | mpg | cyl | disp | hp | drat | wt | qsec | vs | am | gear | carb | \n",
       "|---|---|---|---|---|---|\n",
       "| Mazda RX4 | 21.0  | 6     | 160   | 110   | 3.90  | 2.620 | 16.46 | 0     | 1     | 4     | 4     | \n",
       "| Mazda RX4 Wag | 21.0  | 6     | 160   | 110   | 3.90  | 2.875 | 17.02 | 0     | 1     | 4     | 4     | \n",
       "| Datsun 710 | 22.8  | 4     | 108   |  93   | 3.85  | 2.320 | 18.61 | 1     | 1     | 4     | 1     | \n",
       "| Hornet 4 Drive | 21.4  | 6     | 258   | 110   | 3.08  | 3.215 | 19.44 | 1     | 0     | 3     | 1     | \n",
       "| Hornet Sportabout | 18.7  | 8     | 360   | 175   | 3.15  | 3.440 | 17.02 | 0     | 0     | 3     | 2     | \n",
       "| Valiant | 18.1  | 6     | 225   | 105   | 2.76  | 3.460 | 20.22 | 1     | 0     | 3     | 1     | \n",
       "\n",
       "\n"
      ],
      "text/plain": [
       "                  mpg  cyl disp hp  drat wt    qsec  vs am gear carb\n",
       "Mazda RX4         21.0 6   160  110 3.90 2.620 16.46 0  1  4    4   \n",
       "Mazda RX4 Wag     21.0 6   160  110 3.90 2.875 17.02 0  1  4    4   \n",
       "Datsun 710        22.8 4   108   93 3.85 2.320 18.61 1  1  4    1   \n",
       "Hornet 4 Drive    21.4 6   258  110 3.08 3.215 19.44 1  0  3    1   \n",
       "Hornet Sportabout 18.7 8   360  175 3.15 3.440 17.02 0  0  3    2   \n",
       "Valiant           18.1 6   225  105 2.76 3.460 20.22 1  0  3    1   "
      ]
     },
     "metadata": {},
     "output_type": "display_data"
    }
   ],
   "source": [
    "head(mtcars)"
   ]
  },
  {
   "cell_type": "code",
   "execution_count": 105,
   "metadata": {
    "collapsed": false
   },
   "outputs": [
    {
     "data": {
      "text/html": [
       "<table>\n",
       "<thead><tr><th></th><th scope=col>mpg</th><th scope=col>cyl</th></tr></thead>\n",
       "<tbody>\n",
       "\t<tr><th scope=row>Mazda RX4</th><td>21.0</td><td>6   </td></tr>\n",
       "\t<tr><th scope=row>Mazda RX4 Wag</th><td>21.0</td><td>6   </td></tr>\n",
       "\t<tr><th scope=row>Datsun 710</th><td>22.8</td><td>4   </td></tr>\n",
       "\t<tr><th scope=row>Hornet 4 Drive</th><td>21.4</td><td>6   </td></tr>\n",
       "\t<tr><th scope=row>Hornet Sportabout</th><td>18.7</td><td>8   </td></tr>\n",
       "\t<tr><th scope=row>Valiant</th><td>18.1</td><td>6   </td></tr>\n",
       "\t<tr><th scope=row>Duster 360</th><td>14.3</td><td>8   </td></tr>\n",
       "\t<tr><th scope=row>Merc 240D</th><td>24.4</td><td>4   </td></tr>\n",
       "\t<tr><th scope=row>Merc 230</th><td>22.8</td><td>4   </td></tr>\n",
       "\t<tr><th scope=row>Merc 280</th><td>19.2</td><td>6   </td></tr>\n",
       "\t<tr><th scope=row>Merc 280C</th><td>17.8</td><td>6   </td></tr>\n",
       "\t<tr><th scope=row>Merc 450SE</th><td>16.4</td><td>8   </td></tr>\n",
       "\t<tr><th scope=row>Merc 450SL</th><td>17.3</td><td>8   </td></tr>\n",
       "\t<tr><th scope=row>Merc 450SLC</th><td>15.2</td><td>8   </td></tr>\n",
       "\t<tr><th scope=row>Cadillac Fleetwood</th><td>10.4</td><td>8   </td></tr>\n",
       "\t<tr><th scope=row>Lincoln Continental</th><td>10.4</td><td>8   </td></tr>\n",
       "\t<tr><th scope=row>Chrysler Imperial</th><td>14.7</td><td>8   </td></tr>\n",
       "\t<tr><th scope=row>Fiat 128</th><td>32.4</td><td>4   </td></tr>\n",
       "\t<tr><th scope=row>Honda Civic</th><td>30.4</td><td>4   </td></tr>\n",
       "\t<tr><th scope=row>Toyota Corolla</th><td>33.9</td><td>4   </td></tr>\n",
       "\t<tr><th scope=row>Toyota Corona</th><td>21.5</td><td>4   </td></tr>\n",
       "\t<tr><th scope=row>Dodge Challenger</th><td>15.5</td><td>8   </td></tr>\n",
       "\t<tr><th scope=row>AMC Javelin</th><td>15.2</td><td>8   </td></tr>\n",
       "\t<tr><th scope=row>Camaro Z28</th><td>13.3</td><td>8   </td></tr>\n",
       "\t<tr><th scope=row>Pontiac Firebird</th><td>19.2</td><td>8   </td></tr>\n",
       "\t<tr><th scope=row>Fiat X1-9</th><td>27.3</td><td>4   </td></tr>\n",
       "\t<tr><th scope=row>Porsche 914-2</th><td>26.0</td><td>4   </td></tr>\n",
       "\t<tr><th scope=row>Lotus Europa</th><td>30.4</td><td>4   </td></tr>\n",
       "\t<tr><th scope=row>Ford Pantera L</th><td>15.8</td><td>8   </td></tr>\n",
       "\t<tr><th scope=row>Ferrari Dino</th><td>19.7</td><td>6   </td></tr>\n",
       "\t<tr><th scope=row>Maserati Bora</th><td>15.0</td><td>8   </td></tr>\n",
       "\t<tr><th scope=row>Volvo 142E</th><td>21.4</td><td>4   </td></tr>\n",
       "</tbody>\n",
       "</table>\n"
      ],
      "text/latex": [
       "\\begin{tabular}{r|ll}\n",
       "  & mpg & cyl\\\\\n",
       "\\hline\n",
       "\tMazda RX4 & 21.0 & 6   \\\\\n",
       "\tMazda RX4 Wag & 21.0 & 6   \\\\\n",
       "\tDatsun 710 & 22.8 & 4   \\\\\n",
       "\tHornet 4 Drive & 21.4 & 6   \\\\\n",
       "\tHornet Sportabout & 18.7 & 8   \\\\\n",
       "\tValiant & 18.1 & 6   \\\\\n",
       "\tDuster 360 & 14.3 & 8   \\\\\n",
       "\tMerc 240D & 24.4 & 4   \\\\\n",
       "\tMerc 230 & 22.8 & 4   \\\\\n",
       "\tMerc 280 & 19.2 & 6   \\\\\n",
       "\tMerc 280C & 17.8 & 6   \\\\\n",
       "\tMerc 450SE & 16.4 & 8   \\\\\n",
       "\tMerc 450SL & 17.3 & 8   \\\\\n",
       "\tMerc 450SLC & 15.2 & 8   \\\\\n",
       "\tCadillac Fleetwood & 10.4 & 8   \\\\\n",
       "\tLincoln Continental & 10.4 & 8   \\\\\n",
       "\tChrysler Imperial & 14.7 & 8   \\\\\n",
       "\tFiat 128 & 32.4 & 4   \\\\\n",
       "\tHonda Civic & 30.4 & 4   \\\\\n",
       "\tToyota Corolla & 33.9 & 4   \\\\\n",
       "\tToyota Corona & 21.5 & 4   \\\\\n",
       "\tDodge Challenger & 15.5 & 8   \\\\\n",
       "\tAMC Javelin & 15.2 & 8   \\\\\n",
       "\tCamaro Z28 & 13.3 & 8   \\\\\n",
       "\tPontiac Firebird & 19.2 & 8   \\\\\n",
       "\tFiat X1-9 & 27.3 & 4   \\\\\n",
       "\tPorsche 914-2 & 26.0 & 4   \\\\\n",
       "\tLotus Europa & 30.4 & 4   \\\\\n",
       "\tFord Pantera L & 15.8 & 8   \\\\\n",
       "\tFerrari Dino & 19.7 & 6   \\\\\n",
       "\tMaserati Bora & 15.0 & 8   \\\\\n",
       "\tVolvo 142E & 21.4 & 4   \\\\\n",
       "\\end{tabular}\n"
      ],
      "text/markdown": [
       "\n",
       "| <!--/--> | mpg | cyl | \n",
       "|---|---|---|---|---|---|---|---|---|---|---|---|---|---|---|---|---|---|---|---|---|---|---|---|---|---|---|---|---|---|---|---|\n",
       "| Mazda RX4 | 21.0 | 6    | \n",
       "| Mazda RX4 Wag | 21.0 | 6    | \n",
       "| Datsun 710 | 22.8 | 4    | \n",
       "| Hornet 4 Drive | 21.4 | 6    | \n",
       "| Hornet Sportabout | 18.7 | 8    | \n",
       "| Valiant | 18.1 | 6    | \n",
       "| Duster 360 | 14.3 | 8    | \n",
       "| Merc 240D | 24.4 | 4    | \n",
       "| Merc 230 | 22.8 | 4    | \n",
       "| Merc 280 | 19.2 | 6    | \n",
       "| Merc 280C | 17.8 | 6    | \n",
       "| Merc 450SE | 16.4 | 8    | \n",
       "| Merc 450SL | 17.3 | 8    | \n",
       "| Merc 450SLC | 15.2 | 8    | \n",
       "| Cadillac Fleetwood | 10.4 | 8    | \n",
       "| Lincoln Continental | 10.4 | 8    | \n",
       "| Chrysler Imperial | 14.7 | 8    | \n",
       "| Fiat 128 | 32.4 | 4    | \n",
       "| Honda Civic | 30.4 | 4    | \n",
       "| Toyota Corolla | 33.9 | 4    | \n",
       "| Toyota Corona | 21.5 | 4    | \n",
       "| Dodge Challenger | 15.5 | 8    | \n",
       "| AMC Javelin | 15.2 | 8    | \n",
       "| Camaro Z28 | 13.3 | 8    | \n",
       "| Pontiac Firebird | 19.2 | 8    | \n",
       "| Fiat X1-9 | 27.3 | 4    | \n",
       "| Porsche 914-2 | 26.0 | 4    | \n",
       "| Lotus Europa | 30.4 | 4    | \n",
       "| Ford Pantera L | 15.8 | 8    | \n",
       "| Ferrari Dino | 19.7 | 6    | \n",
       "| Maserati Bora | 15.0 | 8    | \n",
       "| Volvo 142E | 21.4 | 4    | \n",
       "\n",
       "\n"
      ],
      "text/plain": [
       "                    mpg  cyl\n",
       "Mazda RX4           21.0 6  \n",
       "Mazda RX4 Wag       21.0 6  \n",
       "Datsun 710          22.8 4  \n",
       "Hornet 4 Drive      21.4 6  \n",
       "Hornet Sportabout   18.7 8  \n",
       "Valiant             18.1 6  \n",
       "Duster 360          14.3 8  \n",
       "Merc 240D           24.4 4  \n",
       "Merc 230            22.8 4  \n",
       "Merc 280            19.2 6  \n",
       "Merc 280C           17.8 6  \n",
       "Merc 450SE          16.4 8  \n",
       "Merc 450SL          17.3 8  \n",
       "Merc 450SLC         15.2 8  \n",
       "Cadillac Fleetwood  10.4 8  \n",
       "Lincoln Continental 10.4 8  \n",
       "Chrysler Imperial   14.7 8  \n",
       "Fiat 128            32.4 4  \n",
       "Honda Civic         30.4 4  \n",
       "Toyota Corolla      33.9 4  \n",
       "Toyota Corona       21.5 4  \n",
       "Dodge Challenger    15.5 8  \n",
       "AMC Javelin         15.2 8  \n",
       "Camaro Z28          13.3 8  \n",
       "Pontiac Firebird    19.2 8  \n",
       "Fiat X1-9           27.3 4  \n",
       "Porsche 914-2       26.0 4  \n",
       "Lotus Europa        30.4 4  \n",
       "Ford Pantera L      15.8 8  \n",
       "Ferrari Dino        19.7 6  \n",
       "Maserati Bora       15.0 8  \n",
       "Volvo 142E          21.4 4  "
      ]
     },
     "metadata": {},
     "output_type": "display_data"
    }
   ],
   "source": [
    "mtcars[,c(\"mpg\", \"cyl\")]"
   ]
  },
  {
   "cell_type": "code",
   "execution_count": 110,
   "metadata": {
    "collapsed": false
   },
   "outputs": [
    {
     "data": {
      "text/html": [
       "<table>\n",
       "<thead><tr><th></th><th scope=col>mpg</th><th scope=col>cyl</th><th scope=col>disp</th><th scope=col>hp</th><th scope=col>drat</th><th scope=col>wt</th><th scope=col>qsec</th><th scope=col>vs</th><th scope=col>am</th><th scope=col>gear</th><th scope=col>carb</th></tr></thead>\n",
       "<tbody>\n",
       "\t<tr><th scope=row>Mazda RX4</th><td>21.0 </td><td>6    </td><td>160  </td><td>110  </td><td>3.90 </td><td>2.620</td><td>16.46</td><td>0    </td><td>1    </td><td>4    </td><td>4    </td></tr>\n",
       "\t<tr><th scope=row>Mazda RX4 Wag</th><td>21.0 </td><td>6    </td><td>160  </td><td>110  </td><td>3.90 </td><td>2.875</td><td>17.02</td><td>0    </td><td>1    </td><td>4    </td><td>4    </td></tr>\n",
       "\t<tr><th scope=row>Datsun 710</th><td>22.8 </td><td>4    </td><td>108  </td><td> 93  </td><td>3.85 </td><td>2.320</td><td>18.61</td><td>1    </td><td>1    </td><td>4    </td><td>1    </td></tr>\n",
       "</tbody>\n",
       "</table>\n"
      ],
      "text/latex": [
       "\\begin{tabular}{r|lllllllllll}\n",
       "  & mpg & cyl & disp & hp & drat & wt & qsec & vs & am & gear & carb\\\\\n",
       "\\hline\n",
       "\tMazda RX4 & 21.0  & 6     & 160   & 110   & 3.90  & 2.620 & 16.46 & 0     & 1     & 4     & 4    \\\\\n",
       "\tMazda RX4 Wag & 21.0  & 6     & 160   & 110   & 3.90  & 2.875 & 17.02 & 0     & 1     & 4     & 4    \\\\\n",
       "\tDatsun 710 & 22.8  & 4     & 108   &  93   & 3.85  & 2.320 & 18.61 & 1     & 1     & 4     & 1    \\\\\n",
       "\\end{tabular}\n"
      ],
      "text/markdown": [
       "\n",
       "| <!--/--> | mpg | cyl | disp | hp | drat | wt | qsec | vs | am | gear | carb | \n",
       "|---|---|---|\n",
       "| Mazda RX4 | 21.0  | 6     | 160   | 110   | 3.90  | 2.620 | 16.46 | 0     | 1     | 4     | 4     | \n",
       "| Mazda RX4 Wag | 21.0  | 6     | 160   | 110   | 3.90  | 2.875 | 17.02 | 0     | 1     | 4     | 4     | \n",
       "| Datsun 710 | 22.8  | 4     | 108   |  93   | 3.85  | 2.320 | 18.61 | 1     | 1     | 4     | 1     | \n",
       "\n",
       "\n"
      ],
      "text/plain": [
       "              mpg  cyl disp hp  drat wt    qsec  vs am gear carb\n",
       "Mazda RX4     21.0 6   160  110 3.90 2.620 16.46 0  1  4    4   \n",
       "Mazda RX4 Wag 21.0 6   160  110 3.90 2.875 17.02 0  1  4    4   \n",
       "Datsun 710    22.8 4   108   93 3.85 2.320 18.61 1  1  4    1   "
      ]
     },
     "metadata": {},
     "output_type": "display_data"
    }
   ],
   "source": [
    "mtcars[1:3,]"
   ]
  },
  {
   "cell_type": "code",
   "execution_count": 113,
   "metadata": {
    "collapsed": false
   },
   "outputs": [
    {
     "data": {
      "text/html": [
       "<ol class=list-inline>\n",
       "\t<li>TRUE</li>\n",
       "\t<li>TRUE</li>\n",
       "\t<li>TRUE</li>\n",
       "\t<li>TRUE</li>\n",
       "\t<li>TRUE</li>\n",
       "\t<li>TRUE</li>\n",
       "\t<li>TRUE</li>\n",
       "\t<li>TRUE</li>\n",
       "\t<li>TRUE</li>\n",
       "\t<li>TRUE</li>\n",
       "\t<li>TRUE</li>\n",
       "\t<li>TRUE</li>\n",
       "\t<li>TRUE</li>\n",
       "\t<li>TRUE</li>\n",
       "\t<li>TRUE</li>\n",
       "\t<li>TRUE</li>\n",
       "\t<li>TRUE</li>\n",
       "\t<li>FALSE</li>\n",
       "\t<li>FALSE</li>\n",
       "\t<li>FALSE</li>\n",
       "\t<li>TRUE</li>\n",
       "\t<li>TRUE</li>\n",
       "\t<li>TRUE</li>\n",
       "\t<li>TRUE</li>\n",
       "\t<li>TRUE</li>\n",
       "\t<li>FALSE</li>\n",
       "\t<li>TRUE</li>\n",
       "\t<li>FALSE</li>\n",
       "\t<li>TRUE</li>\n",
       "\t<li>TRUE</li>\n",
       "\t<li>TRUE</li>\n",
       "\t<li>TRUE</li>\n",
       "</ol>\n"
      ],
      "text/latex": [
       "\\begin{enumerate*}\n",
       "\\item TRUE\n",
       "\\item TRUE\n",
       "\\item TRUE\n",
       "\\item TRUE\n",
       "\\item TRUE\n",
       "\\item TRUE\n",
       "\\item TRUE\n",
       "\\item TRUE\n",
       "\\item TRUE\n",
       "\\item TRUE\n",
       "\\item TRUE\n",
       "\\item TRUE\n",
       "\\item TRUE\n",
       "\\item TRUE\n",
       "\\item TRUE\n",
       "\\item TRUE\n",
       "\\item TRUE\n",
       "\\item FALSE\n",
       "\\item FALSE\n",
       "\\item FALSE\n",
       "\\item TRUE\n",
       "\\item TRUE\n",
       "\\item TRUE\n",
       "\\item TRUE\n",
       "\\item TRUE\n",
       "\\item FALSE\n",
       "\\item TRUE\n",
       "\\item FALSE\n",
       "\\item TRUE\n",
       "\\item TRUE\n",
       "\\item TRUE\n",
       "\\item TRUE\n",
       "\\end{enumerate*}\n"
      ],
      "text/markdown": [
       "1. TRUE\n",
       "2. TRUE\n",
       "3. TRUE\n",
       "4. TRUE\n",
       "5. TRUE\n",
       "6. TRUE\n",
       "7. TRUE\n",
       "8. TRUE\n",
       "9. TRUE\n",
       "10. TRUE\n",
       "11. TRUE\n",
       "12. TRUE\n",
       "13. TRUE\n",
       "14. TRUE\n",
       "15. TRUE\n",
       "16. TRUE\n",
       "17. TRUE\n",
       "18. FALSE\n",
       "19. FALSE\n",
       "20. FALSE\n",
       "21. TRUE\n",
       "22. TRUE\n",
       "23. TRUE\n",
       "24. TRUE\n",
       "25. TRUE\n",
       "26. FALSE\n",
       "27. TRUE\n",
       "28. FALSE\n",
       "29. TRUE\n",
       "30. TRUE\n",
       "31. TRUE\n",
       "32. TRUE\n",
       "\n",
       "\n"
      ],
      "text/plain": [
       " [1]  TRUE  TRUE  TRUE  TRUE  TRUE  TRUE  TRUE  TRUE  TRUE  TRUE  TRUE  TRUE\n",
       "[13]  TRUE  TRUE  TRUE  TRUE  TRUE FALSE FALSE FALSE  TRUE  TRUE  TRUE  TRUE\n",
       "[25]  TRUE FALSE  TRUE FALSE  TRUE  TRUE  TRUE  TRUE"
      ]
     },
     "metadata": {},
     "output_type": "display_data"
    }
   ],
   "source": [
    "mtcars$disp > 100"
   ]
  },
  {
   "cell_type": "code",
   "execution_count": 45,
   "metadata": {
    "collapsed": false
   },
   "outputs": [
    {
     "data": {
      "text/html": [
       "<table>\n",
       "<thead><tr><th></th><th scope=col>mpg</th><th scope=col>cyl</th><th scope=col>disp</th><th scope=col>hp</th><th scope=col>drat</th><th scope=col>wt</th><th scope=col>qsec</th><th scope=col>vs</th><th scope=col>am</th><th scope=col>gear</th><th scope=col>carb</th></tr></thead>\n",
       "<tbody>\n",
       "\t<tr><th scope=row>Mazda RX4</th><td>21.0 </td><td>6    </td><td>160.0</td><td>110  </td><td>3.90 </td><td>2.620</td><td>16.46</td><td>0    </td><td>1    </td><td>4    </td><td>4    </td></tr>\n",
       "\t<tr><th scope=row>Mazda RX4 Wag</th><td>21.0 </td><td>6    </td><td>160.0</td><td>110  </td><td>3.90 </td><td>2.875</td><td>17.02</td><td>0    </td><td>1    </td><td>4    </td><td>4    </td></tr>\n",
       "\t<tr><th scope=row>Merc 280</th><td>19.2 </td><td>6    </td><td>167.6</td><td>123  </td><td>3.92 </td><td>3.440</td><td>18.30</td><td>1    </td><td>0    </td><td>4    </td><td>4    </td></tr>\n",
       "\t<tr><th scope=row>Merc 280C</th><td>17.8 </td><td>6    </td><td>167.6</td><td>123  </td><td>3.92 </td><td>3.440</td><td>18.90</td><td>1    </td><td>0    </td><td>4    </td><td>4    </td></tr>\n",
       "</tbody>\n",
       "</table>\n"
      ],
      "text/latex": [
       "\\begin{tabular}{r|lllllllllll}\n",
       "  & mpg & cyl & disp & hp & drat & wt & qsec & vs & am & gear & carb\\\\\n",
       "\\hline\n",
       "\tMazda RX4 & 21.0  & 6     & 160.0 & 110   & 3.90  & 2.620 & 16.46 & 0     & 1     & 4     & 4    \\\\\n",
       "\tMazda RX4 Wag & 21.0  & 6     & 160.0 & 110   & 3.90  & 2.875 & 17.02 & 0     & 1     & 4     & 4    \\\\\n",
       "\tMerc 280 & 19.2  & 6     & 167.6 & 123   & 3.92  & 3.440 & 18.30 & 1     & 0     & 4     & 4    \\\\\n",
       "\tMerc 280C & 17.8  & 6     & 167.6 & 123   & 3.92  & 3.440 & 18.90 & 1     & 0     & 4     & 4    \\\\\n",
       "\\end{tabular}\n"
      ],
      "text/markdown": [
       "\n",
       "| <!--/--> | mpg | cyl | disp | hp | drat | wt | qsec | vs | am | gear | carb | \n",
       "|---|---|---|---|\n",
       "| Mazda RX4 | 21.0  | 6     | 160.0 | 110   | 3.90  | 2.620 | 16.46 | 0     | 1     | 4     | 4     | \n",
       "| Mazda RX4 Wag | 21.0  | 6     | 160.0 | 110   | 3.90  | 2.875 | 17.02 | 0     | 1     | 4     | 4     | \n",
       "| Merc 280 | 19.2  | 6     | 167.6 | 123   | 3.92  | 3.440 | 18.30 | 1     | 0     | 4     | 4     | \n",
       "| Merc 280C | 17.8  | 6     | 167.6 | 123   | 3.92  | 3.440 | 18.90 | 1     | 0     | 4     | 4     | \n",
       "\n",
       "\n"
      ],
      "text/plain": [
       "              mpg  cyl disp  hp  drat wt    qsec  vs am gear carb\n",
       "Mazda RX4     21.0 6   160.0 110 3.90 2.620 16.46 0  1  4    4   \n",
       "Mazda RX4 Wag 21.0 6   160.0 110 3.90 2.875 17.02 0  1  4    4   \n",
       "Merc 280      19.2 6   167.6 123 3.92 3.440 18.30 1  0  4    4   \n",
       "Merc 280C     17.8 6   167.6 123 3.92 3.440 18.90 1  0  4    4   "
      ]
     },
     "metadata": {},
     "output_type": "display_data"
    }
   ],
   "source": [
    "mtcars[mtcars$disp > 150 & mtcars$disp < 200,]"
   ]
  },
  {
   "cell_type": "code",
   "execution_count": 130,
   "metadata": {
    "collapsed": false
   },
   "outputs": [
    {
     "data": {
      "text/html": [
       "<table>\n",
       "<thead><tr><th></th><th scope=col>disp</th><th scope=col>hp</th><th scope=col>drat</th><th scope=col>wt</th><th scope=col>qsec</th><th scope=col>vs</th><th scope=col>am</th><th scope=col>gear</th><th scope=col>carb</th></tr></thead>\n",
       "<tbody>\n",
       "\t<tr><th scope=row>Mazda RX4</th><td>160.0</td><td>110  </td><td>3.90 </td><td>2.620</td><td>16.46</td><td>0    </td><td>1    </td><td>4    </td><td>4    </td></tr>\n",
       "\t<tr><th scope=row>Mazda RX4 Wag</th><td>160.0</td><td>110  </td><td>3.90 </td><td>2.875</td><td>17.02</td><td>0    </td><td>1    </td><td>4    </td><td>4    </td></tr>\n",
       "\t<tr><th scope=row>Datsun 710</th><td>108.0</td><td> 93  </td><td>3.85 </td><td>2.320</td><td>18.61</td><td>1    </td><td>1    </td><td>4    </td><td>1    </td></tr>\n",
       "\t<tr><th scope=row>Hornet 4 Drive</th><td>258.0</td><td>110  </td><td>3.08 </td><td>3.215</td><td>19.44</td><td>1    </td><td>0    </td><td>3    </td><td>1    </td></tr>\n",
       "\t<tr><th scope=row>Hornet Sportabout</th><td>360.0</td><td>175  </td><td>3.15 </td><td>3.440</td><td>17.02</td><td>0    </td><td>0    </td><td>3    </td><td>2    </td></tr>\n",
       "\t<tr><th scope=row>Valiant</th><td>225.0</td><td>105  </td><td>2.76 </td><td>3.460</td><td>20.22</td><td>1    </td><td>0    </td><td>3    </td><td>1    </td></tr>\n",
       "\t<tr><th scope=row>Duster 360</th><td>360.0</td><td>245  </td><td>3.21 </td><td>3.570</td><td>15.84</td><td>0    </td><td>0    </td><td>3    </td><td>4    </td></tr>\n",
       "\t<tr><th scope=row>Merc 240D</th><td>146.7</td><td> 62  </td><td>3.69 </td><td>3.190</td><td>20.00</td><td>1    </td><td>0    </td><td>4    </td><td>2    </td></tr>\n",
       "\t<tr><th scope=row>Merc 230</th><td>140.8</td><td> 95  </td><td>3.92 </td><td>3.150</td><td>22.90</td><td>1    </td><td>0    </td><td>4    </td><td>2    </td></tr>\n",
       "\t<tr><th scope=row>Merc 280</th><td>167.6</td><td>123  </td><td>3.92 </td><td>3.440</td><td>18.30</td><td>1    </td><td>0    </td><td>4    </td><td>4    </td></tr>\n",
       "\t<tr><th scope=row>Merc 280C</th><td>167.6</td><td>123  </td><td>3.92 </td><td>3.440</td><td>18.90</td><td>1    </td><td>0    </td><td>4    </td><td>4    </td></tr>\n",
       "\t<tr><th scope=row>Merc 450SE</th><td>275.8</td><td>180  </td><td>3.07 </td><td>4.070</td><td>17.40</td><td>0    </td><td>0    </td><td>3    </td><td>3    </td></tr>\n",
       "\t<tr><th scope=row>Merc 450SL</th><td>275.8</td><td>180  </td><td>3.07 </td><td>3.730</td><td>17.60</td><td>0    </td><td>0    </td><td>3    </td><td>3    </td></tr>\n",
       "\t<tr><th scope=row>Merc 450SLC</th><td>275.8</td><td>180  </td><td>3.07 </td><td>3.780</td><td>18.00</td><td>0    </td><td>0    </td><td>3    </td><td>3    </td></tr>\n",
       "\t<tr><th scope=row>Cadillac Fleetwood</th><td>472.0</td><td>205  </td><td>2.93 </td><td>5.250</td><td>17.98</td><td>0    </td><td>0    </td><td>3    </td><td>4    </td></tr>\n",
       "\t<tr><th scope=row>Lincoln Continental</th><td>460.0</td><td>215  </td><td>3.00 </td><td>5.424</td><td>17.82</td><td>0    </td><td>0    </td><td>3    </td><td>4    </td></tr>\n",
       "\t<tr><th scope=row>Chrysler Imperial</th><td>440.0</td><td>230  </td><td>3.23 </td><td>5.345</td><td>17.42</td><td>0    </td><td>0    </td><td>3    </td><td>4    </td></tr>\n",
       "\t<tr><th scope=row>Fiat 128</th><td> 78.7</td><td> 66  </td><td>4.08 </td><td>2.200</td><td>19.47</td><td>1    </td><td>1    </td><td>4    </td><td>1    </td></tr>\n",
       "\t<tr><th scope=row>Honda Civic</th><td> 75.7</td><td> 52  </td><td>4.93 </td><td>1.615</td><td>18.52</td><td>1    </td><td>1    </td><td>4    </td><td>2    </td></tr>\n",
       "\t<tr><th scope=row>Toyota Corolla</th><td> 71.1</td><td> 65  </td><td>4.22 </td><td>1.835</td><td>19.90</td><td>1    </td><td>1    </td><td>4    </td><td>1    </td></tr>\n",
       "\t<tr><th scope=row>Toyota Corona</th><td>120.1</td><td> 97  </td><td>3.70 </td><td>2.465</td><td>20.01</td><td>1    </td><td>0    </td><td>3    </td><td>1    </td></tr>\n",
       "\t<tr><th scope=row>Dodge Challenger</th><td>318.0</td><td>150  </td><td>2.76 </td><td>3.520</td><td>16.87</td><td>0    </td><td>0    </td><td>3    </td><td>2    </td></tr>\n",
       "\t<tr><th scope=row>AMC Javelin</th><td>304.0</td><td>150  </td><td>3.15 </td><td>3.435</td><td>17.30</td><td>0    </td><td>0    </td><td>3    </td><td>2    </td></tr>\n",
       "\t<tr><th scope=row>Camaro Z28</th><td>350.0</td><td>245  </td><td>3.73 </td><td>3.840</td><td>15.41</td><td>0    </td><td>0    </td><td>3    </td><td>4    </td></tr>\n",
       "\t<tr><th scope=row>Pontiac Firebird</th><td>400.0</td><td>175  </td><td>3.08 </td><td>3.845</td><td>17.05</td><td>0    </td><td>0    </td><td>3    </td><td>2    </td></tr>\n",
       "\t<tr><th scope=row>Fiat X1-9</th><td> 79.0</td><td> 66  </td><td>4.08 </td><td>1.935</td><td>18.90</td><td>1    </td><td>1    </td><td>4    </td><td>1    </td></tr>\n",
       "\t<tr><th scope=row>Porsche 914-2</th><td>120.3</td><td> 91  </td><td>4.43 </td><td>2.140</td><td>16.70</td><td>0    </td><td>1    </td><td>5    </td><td>2    </td></tr>\n",
       "\t<tr><th scope=row>Lotus Europa</th><td> 95.1</td><td>113  </td><td>3.77 </td><td>1.513</td><td>16.90</td><td>1    </td><td>1    </td><td>5    </td><td>2    </td></tr>\n",
       "\t<tr><th scope=row>Ford Pantera L</th><td>351.0</td><td>264  </td><td>4.22 </td><td>3.170</td><td>14.50</td><td>0    </td><td>1    </td><td>5    </td><td>4    </td></tr>\n",
       "\t<tr><th scope=row>Ferrari Dino</th><td>145.0</td><td>175  </td><td>3.62 </td><td>2.770</td><td>15.50</td><td>0    </td><td>1    </td><td>5    </td><td>6    </td></tr>\n",
       "\t<tr><th scope=row>Maserati Bora</th><td>301.0</td><td>335  </td><td>3.54 </td><td>3.570</td><td>14.60</td><td>0    </td><td>1    </td><td>5    </td><td>8    </td></tr>\n",
       "\t<tr><th scope=row>Volvo 142E</th><td>121.0</td><td>109  </td><td>4.11 </td><td>2.780</td><td>18.60</td><td>1    </td><td>1    </td><td>4    </td><td>2    </td></tr>\n",
       "</tbody>\n",
       "</table>\n"
      ],
      "text/latex": [
       "\\begin{tabular}{r|lllllllll}\n",
       "  & disp & hp & drat & wt & qsec & vs & am & gear & carb\\\\\n",
       "\\hline\n",
       "\tMazda RX4 & 160.0 & 110   & 3.90  & 2.620 & 16.46 & 0     & 1     & 4     & 4    \\\\\n",
       "\tMazda RX4 Wag & 160.0 & 110   & 3.90  & 2.875 & 17.02 & 0     & 1     & 4     & 4    \\\\\n",
       "\tDatsun 710 & 108.0 &  93   & 3.85  & 2.320 & 18.61 & 1     & 1     & 4     & 1    \\\\\n",
       "\tHornet 4 Drive & 258.0 & 110   & 3.08  & 3.215 & 19.44 & 1     & 0     & 3     & 1    \\\\\n",
       "\tHornet Sportabout & 360.0 & 175   & 3.15  & 3.440 & 17.02 & 0     & 0     & 3     & 2    \\\\\n",
       "\tValiant & 225.0 & 105   & 2.76  & 3.460 & 20.22 & 1     & 0     & 3     & 1    \\\\\n",
       "\tDuster 360 & 360.0 & 245   & 3.21  & 3.570 & 15.84 & 0     & 0     & 3     & 4    \\\\\n",
       "\tMerc 240D & 146.7 &  62   & 3.69  & 3.190 & 20.00 & 1     & 0     & 4     & 2    \\\\\n",
       "\tMerc 230 & 140.8 &  95   & 3.92  & 3.150 & 22.90 & 1     & 0     & 4     & 2    \\\\\n",
       "\tMerc 280 & 167.6 & 123   & 3.92  & 3.440 & 18.30 & 1     & 0     & 4     & 4    \\\\\n",
       "\tMerc 280C & 167.6 & 123   & 3.92  & 3.440 & 18.90 & 1     & 0     & 4     & 4    \\\\\n",
       "\tMerc 450SE & 275.8 & 180   & 3.07  & 4.070 & 17.40 & 0     & 0     & 3     & 3    \\\\\n",
       "\tMerc 450SL & 275.8 & 180   & 3.07  & 3.730 & 17.60 & 0     & 0     & 3     & 3    \\\\\n",
       "\tMerc 450SLC & 275.8 & 180   & 3.07  & 3.780 & 18.00 & 0     & 0     & 3     & 3    \\\\\n",
       "\tCadillac Fleetwood & 472.0 & 205   & 2.93  & 5.250 & 17.98 & 0     & 0     & 3     & 4    \\\\\n",
       "\tLincoln Continental & 460.0 & 215   & 3.00  & 5.424 & 17.82 & 0     & 0     & 3     & 4    \\\\\n",
       "\tChrysler Imperial & 440.0 & 230   & 3.23  & 5.345 & 17.42 & 0     & 0     & 3     & 4    \\\\\n",
       "\tFiat 128 &  78.7 &  66   & 4.08  & 2.200 & 19.47 & 1     & 1     & 4     & 1    \\\\\n",
       "\tHonda Civic &  75.7 &  52   & 4.93  & 1.615 & 18.52 & 1     & 1     & 4     & 2    \\\\\n",
       "\tToyota Corolla &  71.1 &  65   & 4.22  & 1.835 & 19.90 & 1     & 1     & 4     & 1    \\\\\n",
       "\tToyota Corona & 120.1 &  97   & 3.70  & 2.465 & 20.01 & 1     & 0     & 3     & 1    \\\\\n",
       "\tDodge Challenger & 318.0 & 150   & 2.76  & 3.520 & 16.87 & 0     & 0     & 3     & 2    \\\\\n",
       "\tAMC Javelin & 304.0 & 150   & 3.15  & 3.435 & 17.30 & 0     & 0     & 3     & 2    \\\\\n",
       "\tCamaro Z28 & 350.0 & 245   & 3.73  & 3.840 & 15.41 & 0     & 0     & 3     & 4    \\\\\n",
       "\tPontiac Firebird & 400.0 & 175   & 3.08  & 3.845 & 17.05 & 0     & 0     & 3     & 2    \\\\\n",
       "\tFiat X1-9 &  79.0 &  66   & 4.08  & 1.935 & 18.90 & 1     & 1     & 4     & 1    \\\\\n",
       "\tPorsche 914-2 & 120.3 &  91   & 4.43  & 2.140 & 16.70 & 0     & 1     & 5     & 2    \\\\\n",
       "\tLotus Europa &  95.1 & 113   & 3.77  & 1.513 & 16.90 & 1     & 1     & 5     & 2    \\\\\n",
       "\tFord Pantera L & 351.0 & 264   & 4.22  & 3.170 & 14.50 & 0     & 1     & 5     & 4    \\\\\n",
       "\tFerrari Dino & 145.0 & 175   & 3.62  & 2.770 & 15.50 & 0     & 1     & 5     & 6    \\\\\n",
       "\tMaserati Bora & 301.0 & 335   & 3.54  & 3.570 & 14.60 & 0     & 1     & 5     & 8    \\\\\n",
       "\tVolvo 142E & 121.0 & 109   & 4.11  & 2.780 & 18.60 & 1     & 1     & 4     & 2    \\\\\n",
       "\\end{tabular}\n"
      ],
      "text/markdown": [
       "\n",
       "| <!--/--> | disp | hp | drat | wt | qsec | vs | am | gear | carb | \n",
       "|---|---|---|---|---|---|---|---|---|---|---|---|---|---|---|---|---|---|---|---|---|---|---|---|---|---|---|---|---|---|---|---|\n",
       "| Mazda RX4 | 160.0 | 110   | 3.90  | 2.620 | 16.46 | 0     | 1     | 4     | 4     | \n",
       "| Mazda RX4 Wag | 160.0 | 110   | 3.90  | 2.875 | 17.02 | 0     | 1     | 4     | 4     | \n",
       "| Datsun 710 | 108.0 |  93   | 3.85  | 2.320 | 18.61 | 1     | 1     | 4     | 1     | \n",
       "| Hornet 4 Drive | 258.0 | 110   | 3.08  | 3.215 | 19.44 | 1     | 0     | 3     | 1     | \n",
       "| Hornet Sportabout | 360.0 | 175   | 3.15  | 3.440 | 17.02 | 0     | 0     | 3     | 2     | \n",
       "| Valiant | 225.0 | 105   | 2.76  | 3.460 | 20.22 | 1     | 0     | 3     | 1     | \n",
       "| Duster 360 | 360.0 | 245   | 3.21  | 3.570 | 15.84 | 0     | 0     | 3     | 4     | \n",
       "| Merc 240D | 146.7 |  62   | 3.69  | 3.190 | 20.00 | 1     | 0     | 4     | 2     | \n",
       "| Merc 230 | 140.8 |  95   | 3.92  | 3.150 | 22.90 | 1     | 0     | 4     | 2     | \n",
       "| Merc 280 | 167.6 | 123   | 3.92  | 3.440 | 18.30 | 1     | 0     | 4     | 4     | \n",
       "| Merc 280C | 167.6 | 123   | 3.92  | 3.440 | 18.90 | 1     | 0     | 4     | 4     | \n",
       "| Merc 450SE | 275.8 | 180   | 3.07  | 4.070 | 17.40 | 0     | 0     | 3     | 3     | \n",
       "| Merc 450SL | 275.8 | 180   | 3.07  | 3.730 | 17.60 | 0     | 0     | 3     | 3     | \n",
       "| Merc 450SLC | 275.8 | 180   | 3.07  | 3.780 | 18.00 | 0     | 0     | 3     | 3     | \n",
       "| Cadillac Fleetwood | 472.0 | 205   | 2.93  | 5.250 | 17.98 | 0     | 0     | 3     | 4     | \n",
       "| Lincoln Continental | 460.0 | 215   | 3.00  | 5.424 | 17.82 | 0     | 0     | 3     | 4     | \n",
       "| Chrysler Imperial | 440.0 | 230   | 3.23  | 5.345 | 17.42 | 0     | 0     | 3     | 4     | \n",
       "| Fiat 128 |  78.7 |  66   | 4.08  | 2.200 | 19.47 | 1     | 1     | 4     | 1     | \n",
       "| Honda Civic |  75.7 |  52   | 4.93  | 1.615 | 18.52 | 1     | 1     | 4     | 2     | \n",
       "| Toyota Corolla |  71.1 |  65   | 4.22  | 1.835 | 19.90 | 1     | 1     | 4     | 1     | \n",
       "| Toyota Corona | 120.1 |  97   | 3.70  | 2.465 | 20.01 | 1     | 0     | 3     | 1     | \n",
       "| Dodge Challenger | 318.0 | 150   | 2.76  | 3.520 | 16.87 | 0     | 0     | 3     | 2     | \n",
       "| AMC Javelin | 304.0 | 150   | 3.15  | 3.435 | 17.30 | 0     | 0     | 3     | 2     | \n",
       "| Camaro Z28 | 350.0 | 245   | 3.73  | 3.840 | 15.41 | 0     | 0     | 3     | 4     | \n",
       "| Pontiac Firebird | 400.0 | 175   | 3.08  | 3.845 | 17.05 | 0     | 0     | 3     | 2     | \n",
       "| Fiat X1-9 |  79.0 |  66   | 4.08  | 1.935 | 18.90 | 1     | 1     | 4     | 1     | \n",
       "| Porsche 914-2 | 120.3 |  91   | 4.43  | 2.140 | 16.70 | 0     | 1     | 5     | 2     | \n",
       "| Lotus Europa |  95.1 | 113   | 3.77  | 1.513 | 16.90 | 1     | 1     | 5     | 2     | \n",
       "| Ford Pantera L | 351.0 | 264   | 4.22  | 3.170 | 14.50 | 0     | 1     | 5     | 4     | \n",
       "| Ferrari Dino | 145.0 | 175   | 3.62  | 2.770 | 15.50 | 0     | 1     | 5     | 6     | \n",
       "| Maserati Bora | 301.0 | 335   | 3.54  | 3.570 | 14.60 | 0     | 1     | 5     | 8     | \n",
       "| Volvo 142E | 121.0 | 109   | 4.11  | 2.780 | 18.60 | 1     | 1     | 4     | 2     | \n",
       "\n",
       "\n"
      ],
      "text/plain": [
       "                    disp  hp  drat wt    qsec  vs am gear carb\n",
       "Mazda RX4           160.0 110 3.90 2.620 16.46 0  1  4    4   \n",
       "Mazda RX4 Wag       160.0 110 3.90 2.875 17.02 0  1  4    4   \n",
       "Datsun 710          108.0  93 3.85 2.320 18.61 1  1  4    1   \n",
       "Hornet 4 Drive      258.0 110 3.08 3.215 19.44 1  0  3    1   \n",
       "Hornet Sportabout   360.0 175 3.15 3.440 17.02 0  0  3    2   \n",
       "Valiant             225.0 105 2.76 3.460 20.22 1  0  3    1   \n",
       "Duster 360          360.0 245 3.21 3.570 15.84 0  0  3    4   \n",
       "Merc 240D           146.7  62 3.69 3.190 20.00 1  0  4    2   \n",
       "Merc 230            140.8  95 3.92 3.150 22.90 1  0  4    2   \n",
       "Merc 280            167.6 123 3.92 3.440 18.30 1  0  4    4   \n",
       "Merc 280C           167.6 123 3.92 3.440 18.90 1  0  4    4   \n",
       "Merc 450SE          275.8 180 3.07 4.070 17.40 0  0  3    3   \n",
       "Merc 450SL          275.8 180 3.07 3.730 17.60 0  0  3    3   \n",
       "Merc 450SLC         275.8 180 3.07 3.780 18.00 0  0  3    3   \n",
       "Cadillac Fleetwood  472.0 205 2.93 5.250 17.98 0  0  3    4   \n",
       "Lincoln Continental 460.0 215 3.00 5.424 17.82 0  0  3    4   \n",
       "Chrysler Imperial   440.0 230 3.23 5.345 17.42 0  0  3    4   \n",
       "Fiat 128             78.7  66 4.08 2.200 19.47 1  1  4    1   \n",
       "Honda Civic          75.7  52 4.93 1.615 18.52 1  1  4    2   \n",
       "Toyota Corolla       71.1  65 4.22 1.835 19.90 1  1  4    1   \n",
       "Toyota Corona       120.1  97 3.70 2.465 20.01 1  0  3    1   \n",
       "Dodge Challenger    318.0 150 2.76 3.520 16.87 0  0  3    2   \n",
       "AMC Javelin         304.0 150 3.15 3.435 17.30 0  0  3    2   \n",
       "Camaro Z28          350.0 245 3.73 3.840 15.41 0  0  3    4   \n",
       "Pontiac Firebird    400.0 175 3.08 3.845 17.05 0  0  3    2   \n",
       "Fiat X1-9            79.0  66 4.08 1.935 18.90 1  1  4    1   \n",
       "Porsche 914-2       120.3  91 4.43 2.140 16.70 0  1  5    2   \n",
       "Lotus Europa         95.1 113 3.77 1.513 16.90 1  1  5    2   \n",
       "Ford Pantera L      351.0 264 4.22 3.170 14.50 0  1  5    4   \n",
       "Ferrari Dino        145.0 175 3.62 2.770 15.50 0  1  5    6   \n",
       "Maserati Bora       301.0 335 3.54 3.570 14.60 0  1  5    8   \n",
       "Volvo 142E          121.0 109 4.11 2.780 18.60 1  1  4    2   "
      ]
     },
     "metadata": {},
     "output_type": "display_data"
    }
   ],
   "source": [
    "mtcars[-c(1,2)]"
   ]
  },
  {
   "cell_type": "code",
   "execution_count": 1,
   "metadata": {
    "collapsed": true
   },
   "outputs": [],
   "source": [
    "letters <- read.table(\"letter-recognition.data\", sep=\",\", header=FALSE);"
   ]
  },
  {
   "cell_type": "code",
   "execution_count": 2,
   "metadata": {
    "collapsed": false
   },
   "outputs": [
    {
     "data": {
      "text/html": [
       "<table>\n",
       "<thead><tr><th scope=col>V1</th><th scope=col>V2</th><th scope=col>V3</th><th scope=col>V4</th><th scope=col>V5</th><th scope=col>V6</th><th scope=col>V7</th><th scope=col>V8</th><th scope=col>V9</th><th scope=col>V10</th><th scope=col>V11</th><th scope=col>V12</th><th scope=col>V13</th><th scope=col>V14</th><th scope=col>V15</th><th scope=col>V16</th><th scope=col>V17</th></tr></thead>\n",
       "<tbody>\n",
       "\t<tr><td>T </td><td>2 </td><td> 8</td><td>3 </td><td>5 </td><td>1 </td><td> 8</td><td>13</td><td>0 </td><td>6 </td><td> 6</td><td>10</td><td> 8</td><td>0 </td><td> 8</td><td>0 </td><td> 8</td></tr>\n",
       "\t<tr><td>I </td><td>5 </td><td>12</td><td>3 </td><td>7 </td><td>2 </td><td>10</td><td> 5</td><td>5 </td><td>4 </td><td>13</td><td> 3</td><td> 9</td><td>2 </td><td> 8</td><td>4 </td><td>10</td></tr>\n",
       "\t<tr><td>D </td><td>4 </td><td>11</td><td>6 </td><td>8 </td><td>6 </td><td>10</td><td> 6</td><td>2 </td><td>6 </td><td>10</td><td> 3</td><td> 7</td><td>3 </td><td> 7</td><td>3 </td><td> 9</td></tr>\n",
       "\t<tr><td>N </td><td>7 </td><td>11</td><td>6 </td><td>6 </td><td>3 </td><td> 5</td><td> 9</td><td>4 </td><td>6 </td><td> 4</td><td> 4</td><td>10</td><td>6 </td><td>10</td><td>2 </td><td> 8</td></tr>\n",
       "\t<tr><td>G </td><td>2 </td><td> 1</td><td>3 </td><td>1 </td><td>1 </td><td> 8</td><td> 6</td><td>6 </td><td>6 </td><td> 6</td><td> 5</td><td> 9</td><td>1 </td><td> 7</td><td>5 </td><td>10</td></tr>\n",
       "\t<tr><td>S </td><td>4 </td><td>11</td><td>5 </td><td>8 </td><td>3 </td><td> 8</td><td> 8</td><td>6 </td><td>9 </td><td> 5</td><td> 6</td><td> 6</td><td>0 </td><td> 8</td><td>9 </td><td> 7</td></tr>\n",
       "</tbody>\n",
       "</table>\n"
      ],
      "text/latex": [
       "\\begin{tabular}{r|lllllllllllllllll}\n",
       " V1 & V2 & V3 & V4 & V5 & V6 & V7 & V8 & V9 & V10 & V11 & V12 & V13 & V14 & V15 & V16 & V17\\\\\n",
       "\\hline\n",
       "\t T  & 2  &  8 & 3  & 5  & 1  &  8 & 13 & 0  & 6  &  6 & 10 &  8 & 0  &  8 & 0  &  8\\\\\n",
       "\t I  & 5  & 12 & 3  & 7  & 2  & 10 &  5 & 5  & 4  & 13 &  3 &  9 & 2  &  8 & 4  & 10\\\\\n",
       "\t D  & 4  & 11 & 6  & 8  & 6  & 10 &  6 & 2  & 6  & 10 &  3 &  7 & 3  &  7 & 3  &  9\\\\\n",
       "\t N  & 7  & 11 & 6  & 6  & 3  &  5 &  9 & 4  & 6  &  4 &  4 & 10 & 6  & 10 & 2  &  8\\\\\n",
       "\t G  & 2  &  1 & 3  & 1  & 1  &  8 &  6 & 6  & 6  &  6 &  5 &  9 & 1  &  7 & 5  & 10\\\\\n",
       "\t S  & 4  & 11 & 5  & 8  & 3  &  8 &  8 & 6  & 9  &  5 &  6 &  6 & 0  &  8 & 9  &  7\\\\\n",
       "\\end{tabular}\n"
      ],
      "text/markdown": [
       "\n",
       "V1 | V2 | V3 | V4 | V5 | V6 | V7 | V8 | V9 | V10 | V11 | V12 | V13 | V14 | V15 | V16 | V17 | \n",
       "|---|---|---|---|---|---|\n",
       "| T  | 2  |  8 | 3  | 5  | 1  |  8 | 13 | 0  | 6  |  6 | 10 |  8 | 0  |  8 | 0  |  8 | \n",
       "| I  | 5  | 12 | 3  | 7  | 2  | 10 |  5 | 5  | 4  | 13 |  3 |  9 | 2  |  8 | 4  | 10 | \n",
       "| D  | 4  | 11 | 6  | 8  | 6  | 10 |  6 | 2  | 6  | 10 |  3 |  7 | 3  |  7 | 3  |  9 | \n",
       "| N  | 7  | 11 | 6  | 6  | 3  |  5 |  9 | 4  | 6  |  4 |  4 | 10 | 6  | 10 | 2  |  8 | \n",
       "| G  | 2  |  1 | 3  | 1  | 1  |  8 |  6 | 6  | 6  |  6 |  5 |  9 | 1  |  7 | 5  | 10 | \n",
       "| S  | 4  | 11 | 5  | 8  | 3  |  8 |  8 | 6  | 9  |  5 |  6 |  6 | 0  |  8 | 9  |  7 | \n",
       "\n",
       "\n"
      ],
      "text/plain": [
       "  V1 V2 V3 V4 V5 V6 V7 V8 V9 V10 V11 V12 V13 V14 V15 V16 V17\n",
       "1 T  2   8 3  5  1   8 13 0  6    6  10   8  0    8  0    8 \n",
       "2 I  5  12 3  7  2  10  5 5  4   13   3   9  2    8  4   10 \n",
       "3 D  4  11 6  8  6  10  6 2  6   10   3   7  3    7  3    9 \n",
       "4 N  7  11 6  6  3   5  9 4  6    4   4  10  6   10  2    8 \n",
       "5 G  2   1 3  1  1   8  6 6  6    6   5   9  1    7  5   10 \n",
       "6 S  4  11 5  8  3   8  8 6  9    5   6   6  0    8  9    7 "
      ]
     },
     "metadata": {},
     "output_type": "display_data"
    }
   ],
   "source": [
    "head(letters)"
   ]
  },
  {
   "cell_type": "code",
   "execution_count": 3,
   "metadata": {
    "collapsed": true
   },
   "outputs": [],
   "source": [
    "colnames(letters) <- c(\"Letter\", \"Xbox\", \"Ybox\", \"Width\", \"Height\",\n",
    "                       \"OnPix\", \"Xbar\", \"Ybar\", \"X2bar\", \"Y2bar\",\n",
    "                       \"XYbar\", \"X2Ybar\", \"XY2bar\", \"Xedge\",\n",
    "                       \"XedgeXY\", \"Yedge\", \"YedgeYX\");"
   ]
  },
  {
   "cell_type": "code",
   "execution_count": 9,
   "metadata": {
    "collapsed": false
   },
   "outputs": [
    {
     "data": {
      "text/html": [
       "<table>\n",
       "<thead><tr><th scope=col>Letter</th><th scope=col>Xbox</th><th scope=col>Ybox</th><th scope=col>Width</th><th scope=col>Height</th><th scope=col>OnPix</th><th scope=col>Xbar</th><th scope=col>Ybar</th><th scope=col>X2bar</th><th scope=col>Y2bar</th><th scope=col>XYbar</th><th scope=col>X2Ybar</th><th scope=col>XY2bar</th><th scope=col>Xedge</th><th scope=col>XedgeXY</th><th scope=col>Yedge</th><th scope=col>YedgeYX</th></tr></thead>\n",
       "<tbody>\n",
       "\t<tr><td>T </td><td>2 </td><td> 8</td><td>3 </td><td>5 </td><td>1 </td><td> 8</td><td>13</td><td>0 </td><td>6 </td><td> 6</td><td>10</td><td> 8</td><td>0 </td><td> 8</td><td>0 </td><td> 8</td></tr>\n",
       "\t<tr><td>I </td><td>5 </td><td>12</td><td>3 </td><td>7 </td><td>2 </td><td>10</td><td> 5</td><td>5 </td><td>4 </td><td>13</td><td> 3</td><td> 9</td><td>2 </td><td> 8</td><td>4 </td><td>10</td></tr>\n",
       "\t<tr><td>D </td><td>4 </td><td>11</td><td>6 </td><td>8 </td><td>6 </td><td>10</td><td> 6</td><td>2 </td><td>6 </td><td>10</td><td> 3</td><td> 7</td><td>3 </td><td> 7</td><td>3 </td><td> 9</td></tr>\n",
       "\t<tr><td>N </td><td>7 </td><td>11</td><td>6 </td><td>6 </td><td>3 </td><td> 5</td><td> 9</td><td>4 </td><td>6 </td><td> 4</td><td> 4</td><td>10</td><td>6 </td><td>10</td><td>2 </td><td> 8</td></tr>\n",
       "\t<tr><td>G </td><td>2 </td><td> 1</td><td>3 </td><td>1 </td><td>1 </td><td> 8</td><td> 6</td><td>6 </td><td>6 </td><td> 6</td><td> 5</td><td> 9</td><td>1 </td><td> 7</td><td>5 </td><td>10</td></tr>\n",
       "\t<tr><td>S </td><td>4 </td><td>11</td><td>5 </td><td>8 </td><td>3 </td><td> 8</td><td> 8</td><td>6 </td><td>9 </td><td> 5</td><td> 6</td><td> 6</td><td>0 </td><td> 8</td><td>9 </td><td> 7</td></tr>\n",
       "</tbody>\n",
       "</table>\n"
      ],
      "text/latex": [
       "\\begin{tabular}{r|lllllllllllllllll}\n",
       " Letter & Xbox & Ybox & Width & Height & OnPix & Xbar & Ybar & X2bar & Y2bar & XYbar & X2Ybar & XY2bar & Xedge & XedgeXY & Yedge & YedgeYX\\\\\n",
       "\\hline\n",
       "\t T  & 2  &  8 & 3  & 5  & 1  &  8 & 13 & 0  & 6  &  6 & 10 &  8 & 0  &  8 & 0  &  8\\\\\n",
       "\t I  & 5  & 12 & 3  & 7  & 2  & 10 &  5 & 5  & 4  & 13 &  3 &  9 & 2  &  8 & 4  & 10\\\\\n",
       "\t D  & 4  & 11 & 6  & 8  & 6  & 10 &  6 & 2  & 6  & 10 &  3 &  7 & 3  &  7 & 3  &  9\\\\\n",
       "\t N  & 7  & 11 & 6  & 6  & 3  &  5 &  9 & 4  & 6  &  4 &  4 & 10 & 6  & 10 & 2  &  8\\\\\n",
       "\t G  & 2  &  1 & 3  & 1  & 1  &  8 &  6 & 6  & 6  &  6 &  5 &  9 & 1  &  7 & 5  & 10\\\\\n",
       "\t S  & 4  & 11 & 5  & 8  & 3  &  8 &  8 & 6  & 9  &  5 &  6 &  6 & 0  &  8 & 9  &  7\\\\\n",
       "\\end{tabular}\n"
      ],
      "text/markdown": [
       "\n",
       "Letter | Xbox | Ybox | Width | Height | OnPix | Xbar | Ybar | X2bar | Y2bar | XYbar | X2Ybar | XY2bar | Xedge | XedgeXY | Yedge | YedgeYX | \n",
       "|---|---|---|---|---|---|\n",
       "| T  | 2  |  8 | 3  | 5  | 1  |  8 | 13 | 0  | 6  |  6 | 10 |  8 | 0  |  8 | 0  |  8 | \n",
       "| I  | 5  | 12 | 3  | 7  | 2  | 10 |  5 | 5  | 4  | 13 |  3 |  9 | 2  |  8 | 4  | 10 | \n",
       "| D  | 4  | 11 | 6  | 8  | 6  | 10 |  6 | 2  | 6  | 10 |  3 |  7 | 3  |  7 | 3  |  9 | \n",
       "| N  | 7  | 11 | 6  | 6  | 3  |  5 |  9 | 4  | 6  |  4 |  4 | 10 | 6  | 10 | 2  |  8 | \n",
       "| G  | 2  |  1 | 3  | 1  | 1  |  8 |  6 | 6  | 6  |  6 |  5 |  9 | 1  |  7 | 5  | 10 | \n",
       "| S  | 4  | 11 | 5  | 8  | 3  |  8 |  8 | 6  | 9  |  5 |  6 |  6 | 0  |  8 | 9  |  7 | \n",
       "\n",
       "\n"
      ],
      "text/plain": [
       "  Letter Xbox Ybox Width Height OnPix Xbar Ybar X2bar Y2bar XYbar X2Ybar XY2bar\n",
       "1 T      2     8   3     5      1      8   13   0     6      6    10      8    \n",
       "2 I      5    12   3     7      2     10    5   5     4     13     3      9    \n",
       "3 D      4    11   6     8      6     10    6   2     6     10     3      7    \n",
       "4 N      7    11   6     6      3      5    9   4     6      4     4     10    \n",
       "5 G      2     1   3     1      1      8    6   6     6      6     5      9    \n",
       "6 S      4    11   5     8      3      8    8   6     9      5     6      6    \n",
       "  Xedge XedgeXY Yedge YedgeYX\n",
       "1 0      8      0      8     \n",
       "2 2      8      4     10     \n",
       "3 3      7      3      9     \n",
       "4 6     10      2      8     \n",
       "5 1      7      5     10     \n",
       "6 0      8      9      7     "
      ]
     },
     "metadata": {},
     "output_type": "display_data"
    }
   ],
   "source": [
    "head(letters)"
   ]
  },
  {
   "cell_type": "code",
   "execution_count": 58,
   "metadata": {
    "collapsed": false
   },
   "outputs": [
    {
     "data": {
      "text/html": [
       "<table>\n",
       "<thead><tr><th scope=col>Xbox</th><th scope=col>Ybox</th><th scope=col>Width</th><th scope=col>Height</th><th scope=col>OnPix</th><th scope=col>Xbar</th><th scope=col>Ybar</th><th scope=col>X2bar</th><th scope=col>Y2bar</th><th scope=col>XYbar</th><th scope=col>X2Ybar</th><th scope=col>XY2bar</th><th scope=col>Xedge</th><th scope=col>XedgeXY</th><th scope=col>Yedge</th><th scope=col>YedgeYX</th></tr></thead>\n",
       "<tbody>\n",
       "\t<tr><td>2 </td><td> 8</td><td>3 </td><td>5 </td><td>1 </td><td> 8</td><td>13</td><td>0 </td><td>6 </td><td> 6</td><td>10</td><td> 8</td><td>0 </td><td> 8</td><td>0 </td><td> 8</td></tr>\n",
       "\t<tr><td>5 </td><td>12</td><td>3 </td><td>7 </td><td>2 </td><td>10</td><td> 5</td><td>5 </td><td>4 </td><td>13</td><td> 3</td><td> 9</td><td>2 </td><td> 8</td><td>4 </td><td>10</td></tr>\n",
       "\t<tr><td>4 </td><td>11</td><td>6 </td><td>8 </td><td>6 </td><td>10</td><td> 6</td><td>2 </td><td>6 </td><td>10</td><td> 3</td><td> 7</td><td>3 </td><td> 7</td><td>3 </td><td> 9</td></tr>\n",
       "\t<tr><td>7 </td><td>11</td><td>6 </td><td>6 </td><td>3 </td><td> 5</td><td> 9</td><td>4 </td><td>6 </td><td> 4</td><td> 4</td><td>10</td><td>6 </td><td>10</td><td>2 </td><td> 8</td></tr>\n",
       "\t<tr><td>2 </td><td> 1</td><td>3 </td><td>1 </td><td>1 </td><td> 8</td><td> 6</td><td>6 </td><td>6 </td><td> 6</td><td> 5</td><td> 9</td><td>1 </td><td> 7</td><td>5 </td><td>10</td></tr>\n",
       "\t<tr><td>4 </td><td>11</td><td>5 </td><td>8 </td><td>3 </td><td> 8</td><td> 8</td><td>6 </td><td>9 </td><td> 5</td><td> 6</td><td> 6</td><td>0 </td><td> 8</td><td>9 </td><td> 7</td></tr>\n",
       "</tbody>\n",
       "</table>\n"
      ],
      "text/latex": [
       "\\begin{tabular}{r|llllllllllllllll}\n",
       " Xbox & Ybox & Width & Height & OnPix & Xbar & Ybar & X2bar & Y2bar & XYbar & X2Ybar & XY2bar & Xedge & XedgeXY & Yedge & YedgeYX\\\\\n",
       "\\hline\n",
       "\t 2  &  8 & 3  & 5  & 1  &  8 & 13 & 0  & 6  &  6 & 10 &  8 & 0  &  8 & 0  &  8\\\\\n",
       "\t 5  & 12 & 3  & 7  & 2  & 10 &  5 & 5  & 4  & 13 &  3 &  9 & 2  &  8 & 4  & 10\\\\\n",
       "\t 4  & 11 & 6  & 8  & 6  & 10 &  6 & 2  & 6  & 10 &  3 &  7 & 3  &  7 & 3  &  9\\\\\n",
       "\t 7  & 11 & 6  & 6  & 3  &  5 &  9 & 4  & 6  &  4 &  4 & 10 & 6  & 10 & 2  &  8\\\\\n",
       "\t 2  &  1 & 3  & 1  & 1  &  8 &  6 & 6  & 6  &  6 &  5 &  9 & 1  &  7 & 5  & 10\\\\\n",
       "\t 4  & 11 & 5  & 8  & 3  &  8 &  8 & 6  & 9  &  5 &  6 &  6 & 0  &  8 & 9  &  7\\\\\n",
       "\\end{tabular}\n"
      ],
      "text/markdown": [
       "\n",
       "Xbox | Ybox | Width | Height | OnPix | Xbar | Ybar | X2bar | Y2bar | XYbar | X2Ybar | XY2bar | Xedge | XedgeXY | Yedge | YedgeYX | \n",
       "|---|---|---|---|---|---|\n",
       "| 2  |  8 | 3  | 5  | 1  |  8 | 13 | 0  | 6  |  6 | 10 |  8 | 0  |  8 | 0  |  8 | \n",
       "| 5  | 12 | 3  | 7  | 2  | 10 |  5 | 5  | 4  | 13 |  3 |  9 | 2  |  8 | 4  | 10 | \n",
       "| 4  | 11 | 6  | 8  | 6  | 10 |  6 | 2  | 6  | 10 |  3 |  7 | 3  |  7 | 3  |  9 | \n",
       "| 7  | 11 | 6  | 6  | 3  |  5 |  9 | 4  | 6  |  4 |  4 | 10 | 6  | 10 | 2  |  8 | \n",
       "| 2  |  1 | 3  | 1  | 1  |  8 |  6 | 6  | 6  |  6 |  5 |  9 | 1  |  7 | 5  | 10 | \n",
       "| 4  | 11 | 5  | 8  | 3  |  8 |  8 | 6  | 9  |  5 |  6 |  6 | 0  |  8 | 9  |  7 | \n",
       "\n",
       "\n"
      ],
      "text/plain": [
       "  Xbox Ybox Width Height OnPix Xbar Ybar X2bar Y2bar XYbar X2Ybar XY2bar Xedge\n",
       "1 2     8   3     5      1      8   13   0     6      6    10      8     0    \n",
       "2 5    12   3     7      2     10    5   5     4     13     3      9     2    \n",
       "3 4    11   6     8      6     10    6   2     6     10     3      7     3    \n",
       "4 7    11   6     6      3      5    9   4     6      4     4     10     6    \n",
       "5 2     1   3     1      1      8    6   6     6      6     5      9     1    \n",
       "6 4    11   5     8      3      8    8   6     9      5     6      6     0    \n",
       "  XedgeXY Yedge YedgeYX\n",
       "1  8      0      8     \n",
       "2  8      4     10     \n",
       "3  7      3      9     \n",
       "4 10      2      8     \n",
       "5  7      5     10     \n",
       "6  8      9      7     "
      ]
     },
     "metadata": {},
     "output_type": "display_data"
    }
   ],
   "source": [
    "head(letters[-which(names(letters) == \"Letter\")])"
   ]
  },
  {
   "cell_type": "code",
   "execution_count": 60,
   "metadata": {
    "collapsed": false
   },
   "outputs": [
    {
     "data": {
      "text/html": [
       "<table>\n",
       "<thead><tr><th scope=col>Xbox</th><th scope=col>Ybox</th><th scope=col>Width</th><th scope=col>Height</th><th scope=col>OnPix</th><th scope=col>Xbar</th><th scope=col>Ybar</th><th scope=col>X2bar</th><th scope=col>Y2bar</th><th scope=col>XYbar</th><th scope=col>X2Ybar</th><th scope=col>XY2bar</th><th scope=col>Xedge</th><th scope=col>XedgeXY</th><th scope=col>Yedge</th><th scope=col>YedgeYX</th></tr></thead>\n",
       "<tbody>\n",
       "\t<tr><td>-1.05767185</td><td> 0.2918698 </td><td>-1.05325034</td><td>-0.1646996 </td><td>-1.1439846 </td><td> 0.54411685</td><td> 2.3650380 </td><td>-1.7143167 </td><td> 0.34498576</td><td>-0.9170476 </td><td> 1.3477406 </td><td> 0.03412446</td><td>-1.30591496</td><td>-0.2190762 </td><td>-1.4381167 </td><td> 0.1229080 </td></tr>\n",
       "\t<tr><td> 0.51037221</td><td> 1.5023201 </td><td>-1.05325034</td><td> 0.7197121 </td><td>-0.6874590 </td><td> 1.53126643</td><td>-1.0752987 </td><td> 0.1375572 </td><td>-0.49505993</td><td> 1.8959203 </td><td>-1.3127738 </td><td> 0.51475066</td><td>-0.44848089</td><td>-0.2190762 </td><td> 0.1200784 </td><td> 1.3594069 </td></tr>\n",
       "\t<tr><td>-0.01230915</td><td> 1.1997076 </td><td> 0.43589876</td><td> 1.1619179 </td><td> 1.1386432 </td><td> 1.53126643</td><td>-0.6452567 </td><td>-0.9735671 </td><td> 0.34498576</td><td> 0.6903626 </td><td>-1.3127738 </td><td>-0.44650174</td><td>-0.01976386</td><td>-0.8656046 </td><td>-0.2694704 </td><td> 0.7411575 </td></tr>\n",
       "\t<tr><td> 1.55573491</td><td> 1.1997076 </td><td> 0.43589876</td><td> 0.2775063 </td><td>-0.2309335 </td><td>-0.93660752</td><td> 0.6448696 </td><td>-0.2328176 </td><td> 0.34498576</td><td>-1.7207527 </td><td>-0.9327003 </td><td> 0.99537685</td><td> 1.26638725</td><td> 1.0739807 </td><td>-0.6590192 </td><td> 0.1229080 </td></tr>\n",
       "\t<tr><td>-1.05767185</td><td>-1.8264182 </td><td>-1.05325034</td><td>-1.9335228 </td><td>-1.1439846 </td><td> 0.54411685</td><td>-0.6452567 </td><td> 0.5079320 </td><td> 0.34498576</td><td>-0.9170476 </td><td>-0.5526268 </td><td> 0.51475066</td><td>-0.87719793</td><td>-0.8656046 </td><td> 0.5096272 </td><td> 1.3594069 </td></tr>\n",
       "\t<tr><td>-0.01230915</td><td> 1.1997076 </td><td>-0.06048427</td><td> 1.1619179 </td><td>-0.2309335 </td><td> 0.54411685</td><td> 0.2148275 </td><td> 0.5079320 </td><td> 1.60505430</td><td>-1.3189002 </td><td>-0.1725534 </td><td>-0.92712793</td><td>-1.30591496</td><td>-0.2190762 </td><td> 2.0678224 </td><td>-0.4953415 </td></tr>\n",
       "\t<tr><td>-0.01230915</td><td>-1.5238056 </td><td>-0.06048427</td><td>-0.6069054 </td><td> 0.2255921 </td><td> 0.54411685</td><td>-0.2152146 </td><td> 0.5079320 </td><td> 0.34498576</td><td>-0.5151951 </td><td>-0.1725534 </td><td>-0.92712793</td><td>-0.44848089</td><td>-0.2190762 </td><td> 1.2887248 </td><td> 1.3594069 </td></tr>\n",
       "\t<tr><td>-1.58035321</td><td>-1.8264182 </td><td>-1.05325034</td><td>-1.4913170 </td><td>-1.1439846 </td><td> 0.54411685</td><td>-2.3654250 </td><td>-0.9735671 </td><td>-1.33510562</td><td>-0.1133425 </td><td>-1.6928473 </td><td> 0.03412446</td><td>-0.87719793</td><td>-1.5121330 </td><td>-0.6590192 </td><td>-0.4953415 </td></tr>\n",
       "\t<tr><td>-1.05767185</td><td>-1.5238056 </td><td>-0.55686731</td><td>-0.6069054 </td><td>-0.6874590 </td><td> 1.53126643</td><td>-0.6452567 </td><td>-0.9735671 </td><td> 0.34498576</td><td> 1.4940677 </td><td>-0.9327003 </td><td> 0.03412446</td><td>-0.87719793</td><td>-1.5121330 </td><td>-1.0485680 </td><td>-0.4953415 </td></tr>\n",
       "\t<tr><td> 3.64646033</td><td> 2.4101579 </td><td> 3.91058001</td><td> 1.6041237 </td><td> 1.5951688 </td><td> 3.01199079</td><td>-2.3654250 </td><td> 0.5079320 </td><td>-1.33510562</td><td> 1.4940677 </td><td>-2.0729208 </td><td> 0.51475066</td><td> 2.12382132</td><td>-4.7447750 </td><td>-1.0485680 </td><td> 0.1229080 </td></tr>\n",
       "\t<tr><td>-0.53499050</td><td> 0.5944824 </td><td>-0.06048427</td><td> 0.7197121 </td><td> 0.2255921 </td><td> 0.54411685</td><td>-0.2152146 </td><td>-0.6031924 </td><td> 1.18503145</td><td>-1.3189002 </td><td>-0.1725534 </td><td> 0.03412446</td><td>-0.44848089</td><td>-0.2190762 </td><td> 0.8991760 </td><td>-0.4953415 </td></tr>\n",
       "\t<tr><td> 1.03305356</td><td> 1.8049327 </td><td>-0.55686731</td><td> 0.7197121 </td><td> 0.2255921 </td><td>-0.44303273</td><td>-0.2152146 </td><td> 0.5079320 </td><td>-0.91508277</td><td> 0.6903626 </td><td> 0.2075201 </td><td> 0.51475066</td><td> 0.83767022</td><td> 0.4274523 </td><td> 0.5096272 </td><td> 0.1229080 </td></tr>\n",
       "\t<tr><td>-0.01230915</td><td> 0.5944824 </td><td> 0.43589876</td><td> 0.7197121 </td><td> 1.1386432 </td><td> 0.05054206</td><td> 0.2148275 </td><td> 0.5079320 </td><td>-1.33510562</td><td>-0.9170476 </td><td>-0.5526268 </td><td> 1.47600305</td><td> 0.40895318</td><td>-0.2190762 </td><td> 1.2887248 </td><td> 0.1229080 </td></tr>\n",
       "\t<tr><td> 1.03305356</td><td> 0.5944824 </td><td> 1.42866483</td><td> 0.2775063 </td><td> 2.5082199 </td><td> 0.05054206</td><td> 0.2148275 </td><td> 0.5079320 </td><td>-0.07503708</td><td>-0.5151951 </td><td>-0.5526268 </td><td> 0.03412446</td><td> 2.12382132</td><td> 0.4274523 </td><td> 1.6782736 </td><td>-1.1135909 </td></tr>\n",
       "\t<tr><td> 0.51037221</td><td> 0.5944824 </td><td>-0.06048427</td><td> 0.7197121 </td><td> 1.1386432 </td><td>-0.44303273</td><td> 1.5049538 </td><td> 0.8783067 </td><td>-0.91508277</td><td>-0.5151951 </td><td>-1.3127738 </td><td> 0.51475066</td><td>-0.44848089</td><td>-0.8656046 </td><td> 0.5096272 </td><td> 1.9776564 </td></tr>\n",
       "\t<tr><td> 1.03305356</td><td> 0.5944824 </td><td>-0.06048427</td><td>-0.6069054 </td><td>-0.2309335 </td><td> 1.53126643</td><td>-0.6452567 </td><td>-0.6031924 </td><td>-0.07503708</td><td> 0.6903626 </td><td>-0.5526268 </td><td>-0.44650174</td><td>-0.01976386</td><td> 0.4274523 </td><td> 0.8991760 </td><td> 0.7411575 </td></tr>\n",
       "\t<tr><td>-0.53499050</td><td>-0.9185805 </td><td>-0.55686731</td><td>-1.0491112 </td><td>-0.6874590 </td><td> 0.54411685</td><td>-0.2152146 </td><td> 0.8783067 </td><td>-0.07503708</td><td>-0.5151951 </td><td>-0.1725534 </td><td> 0.03412446</td><td>-0.44848089</td><td>-0.2190762 </td><td>-0.2694704 </td><td> 0.1229080 </td></tr>\n",
       "\t<tr><td> 1.55573491</td><td> 0.8970950 </td><td>-0.06048427</td><td>-0.1646996 </td><td>-0.6874590 </td><td>-0.44303273</td><td> 0.2148275 </td><td> 0.5079320 </td><td> 1.18503145</td><td> 1.0922151 </td><td> 0.2075201 </td><td> 1.47600305</td><td>-0.44848089</td><td>-0.2190762 </td><td> 0.5096272 </td><td> 0.7411575 </td></tr>\n",
       "\t<tr><td> 1.03305356</td><td> 1.1997076 </td><td> 0.43589876</td><td> 1.1619179 </td><td> 0.6821177 </td><td>-0.44303273</td><td> 1.5049538 </td><td> 0.1375572 </td><td> 0.34498576</td><td> 1.0922151 </td><td> 0.9676671 </td><td>-1.88838033</td><td>-0.01976386</td><td> 2.3670375 </td><td>-0.6590192 </td><td>-2.3500899 </td></tr>\n",
       "\t<tr><td>-1.05767185</td><td>-1.5238056 </td><td>-1.05325034</td><td>-1.0491112 </td><td>-1.1439846 </td><td> 1.53126643</td><td>-0.6452567 </td><td>-0.6031924 </td><td> 0.34498576</td><td> 1.4940677 </td><td>-0.9327003 </td><td> 0.51475066</td><td>-1.30591496</td><td>-0.8656046 </td><td>-1.0485680 </td><td>-0.4953415 </td></tr>\n",
       "\t<tr><td>-1.58035321</td><td>-1.2211931 </td><td>-1.54963338</td><td>-1.4913170 </td><td>-1.1439846 </td><td> 0.54411685</td><td> 0.2148275 </td><td>-0.9735671 </td><td>-0.07503708</td><td> 2.2977728 </td><td>-0.5526268 </td><td> 0.03412446</td><td>-1.30591496</td><td>-0.8656046 </td><td>-1.4381167 </td><td>-0.4953415 </td></tr>\n",
       "\t<tr><td>-0.01230915</td><td>-0.6159679 </td><td>-0.06048427</td><td>-0.6069054 </td><td> 0.2255921 </td><td> 0.05054206</td><td>-0.2152146 </td><td> 0.5079320 </td><td> 0.34498576</td><td>-0.5151951 </td><td>-0.1725534 </td><td> 0.03412446</td><td>-0.01976386</td><td>-0.2190762 </td><td>-0.2694704 </td><td> 0.1229080 </td></tr>\n",
       "\t<tr><td>-0.53499050</td><td>-1.5238056 </td><td>-1.05325034</td><td>-1.0491112 </td><td>-0.6874590 </td><td> 0.54411685</td><td> 0.2148275 </td><td> 0.8783067 </td><td>-0.07503708</td><td>-0.5151951 </td><td>-0.5526268 </td><td>-0.44650174</td><td>-0.44848089</td><td>-0.2190762 </td><td> 2.0678224 </td><td> 0.1229080 </td></tr>\n",
       "\t<tr><td> 1.03305356</td><td> 1.1997076 </td><td> 0.93228180</td><td> 1.1619179 </td><td> 0.6821177 </td><td> 0.05054206</td><td>-0.6452567 </td><td> 1.6190563 </td><td> 0.34498576</td><td>-0.5151951 </td><td>-0.5526268 </td><td> 0.51475066</td><td> 0.40895318</td><td>-0.2190762 </td><td> 0.5096272 </td><td>-1.7318404 </td></tr>\n",
       "\t<tr><td>-0.53499050</td><td>-0.3133553 </td><td>-0.55686731</td><td>-0.6069054 </td><td>-0.6874590 </td><td>-0.44303273</td><td>-0.6452567 </td><td>-0.2328176 </td><td>-0.49505993</td><td> 2.2977728 </td><td> 0.5875936 </td><td> 1.95662925</td><td>-0.87719793</td><td>-1.5121330 </td><td>-1.0485680 </td><td>-1.1135909 </td></tr>\n",
       "\t<tr><td> 1.03305356</td><td> 1.1997076 </td><td> 0.93228180</td><td> 1.1619179 </td><td>-0.2309335 </td><td> 0.05054206</td><td> 0.2148275 </td><td> 0.8783067 </td><td> 2.44509999</td><td>-1.7207527 </td><td> 0.2075201 </td><td> 2.91788164</td><td>-0.87719793</td><td>-0.8656046 </td><td> 0.1200784 </td><td> 0.1229080 </td></tr>\n",
       "\t<tr><td> 1.55573491</td><td> 1.1997076 </td><td> 2.91781394</td><td> 1.1619179 </td><td> 2.5082199 </td><td>-1.92375710</td><td> 0.2148275 </td><td>-0.2328176 </td><td>-0.07503708</td><td> 0.6903626 </td><td> 1.7278141 </td><td> 0.99537685</td><td> 2.98125540</td><td> 0.4274523 </td><td> 0.5096272 </td><td>-0.4953415 </td></tr>\n",
       "\t<tr><td> 4.16914168</td><td> 2.1075453 </td><td> 3.41419697</td><td> 1.1619179 </td><td> 0.6821177 </td><td> 1.03769164</td><td> 1.0749117 </td><td>-0.2328176 </td><td>-0.91508277</td><td>-1.3189002 </td><td> 1.3477406 </td><td>-0.44650174</td><td> 2.98125540</td><td> 2.3670375 </td><td>-0.6590192 </td><td>-1.1135909 </td></tr>\n",
       "\t<tr><td> 1.03305356</td><td> 0.5944824 </td><td> 1.42866483</td><td> 0.7197121 </td><td> 1.1386432 </td><td> 0.54411685</td><td>-0.6452567 </td><td> 0.5079320 </td><td> 0.76500861</td><td>-0.5151951 </td><td> 0.2075201 </td><td> 0.51475066</td><td> 1.26638725</td><td>-0.2190762 </td><td> 0.1200784 </td><td> 0.1229080 </td></tr>\n",
       "\t<tr><td>-0.53499050</td><td>-0.3133553 </td><td>-0.55686731</td><td>-0.6069054 </td><td>-0.6874590 </td><td>-0.44303273</td><td>-0.6452567 </td><td> 0.1375572 </td><td>-0.07503708</td><td>-0.9170476 </td><td>-0.1725534 </td><td> 0.51475066</td><td>-0.44848089</td><td>-0.2190762 </td><td> 0.1200784 </td><td> 0.1229080 </td></tr>\n",
       "\t<tr><td>⋮</td><td>⋮</td><td>⋮</td><td>⋮</td><td>⋮</td><td>⋮</td><td>⋮</td><td>⋮</td><td>⋮</td><td>⋮</td><td>⋮</td><td>⋮</td><td>⋮</td><td>⋮</td><td>⋮</td><td>⋮</td></tr>\n",
       "\t<tr><td> 1.55573491</td><td> 0.89709499</td><td> 1.92504787</td><td> 1.1619179 </td><td> 1.5951688 </td><td> 1.03769164</td><td>-0.2152146 </td><td>-0.9735671 </td><td> 0.34498576</td><td> 1.4940677 </td><td>-0.9327003 </td><td>-0.92712793</td><td> 0.83767022</td><td> 0.4274523 </td><td> 0.1200784 </td><td> 0.7411575 </td></tr>\n",
       "\t<tr><td> 0.51037221</td><td> 0.89709499</td><td> 0.93228180</td><td> 1.6041237 </td><td> 2.0516943 </td><td>-0.93660752</td><td>-0.6452567 </td><td>-0.2328176 </td><td>-0.49505993</td><td>-0.5151951 </td><td>-0.1725534 </td><td> 1.47600305</td><td> 0.83767022</td><td> 1.7205091 </td><td> 1.6782736 </td><td> 1.3594069 </td></tr>\n",
       "\t<tr><td>-0.01230915</td><td>-0.01074275</td><td> 0.43589876</td><td>-0.1646996 </td><td> 1.1386432 </td><td> 0.54411685</td><td>-0.6452567 </td><td>-0.2328176 </td><td>-1.33510562</td><td>-0.5151951 </td><td> 0.5875936 </td><td> 0.03412446</td><td> 1.69510429</td><td> 0.4274523 </td><td> 0.1200784 </td><td>-1.1135909 </td></tr>\n",
       "\t<tr><td>-0.01230915</td><td>-0.91858048</td><td>-0.06048427</td><td>-1.0491112 </td><td>-0.6874590 </td><td>-0.93660752</td><td> 1.9349959 </td><td>-0.9735671 </td><td> 1.18503145</td><td> 1.0922151 </td><td> 0.9676671 </td><td>-1.88838033</td><td>-1.30591496</td><td> 1.0739807 </td><td>-0.6590192 </td><td>-2.3500899 </td></tr>\n",
       "\t<tr><td> 0.51037221</td><td> 0.59448241</td><td>-0.06048427</td><td>-0.6069054 </td><td>-0.6874590 </td><td> 1.03769164</td><td> 1.5049538 </td><td> 0.1375572 </td><td>-0.91508277</td><td>-1.3189002 </td><td>-0.1725534 </td><td> 0.51475066</td><td> 0.83767022</td><td> 1.7205091 </td><td>-0.6590192 </td><td>-1.1135909 </td></tr>\n",
       "\t<tr><td>-1.58035321</td><td>-2.12903079</td><td>-2.04601641</td><td>-2.3757286 </td><td>-1.6005101 </td><td>-0.93660752</td><td> 0.2148275 </td><td> 0.1375572 </td><td> 0.76500861</td><td>-0.5151951 </td><td>-0.1725534 </td><td> 1.95662925</td><td>-1.30591496</td><td>-0.2190762 </td><td> 0.8991760 </td><td> 1.3594069 </td></tr>\n",
       "\t<tr><td>-0.53499050</td><td> 0.29186983</td><td>-1.05325034</td><td> 0.2775063 </td><td>-0.6874590 </td><td>-3.40448147</td><td>-2.3654250 </td><td>-0.2328176 </td><td> 0.34498576</td><td>-2.9263104 </td><td>-2.4529943 </td><td> 0.03412446</td><td>-1.30591496</td><td>-0.2190762 </td><td>-1.4381167 </td><td> 0.1229080 </td></tr>\n",
       "\t<tr><td>-0.53499050</td><td> 0.59448241</td><td>-0.06048427</td><td> 0.2775063 </td><td>-0.6874590 </td><td>-0.44303273</td><td>-1.0752987 </td><td>-0.6031924 </td><td>-1.75512846</td><td>-0.9170476 </td><td>-2.0729208 </td><td> 0.03412446</td><td>-0.44848089</td><td>-0.8656046 </td><td>-0.6590192 </td><td>-0.4953415 </td></tr>\n",
       "\t<tr><td> 0.51037221</td><td> 1.19970757</td><td>-0.06048427</td><td> 1.1619179 </td><td> 0.6821177 </td><td>-1.92375710</td><td> 0.2148275 </td><td> 0.8783067 </td><td>-0.91508277</td><td>-0.9170476 </td><td>-0.9327003 </td><td> 1.47600305</td><td>-0.01976386</td><td>-0.2190762 </td><td>-0.6590192 </td><td> 1.9776564 </td></tr>\n",
       "\t<tr><td> 1.03305356</td><td> 0.59448241</td><td> 2.42143090</td><td> 0.7197121 </td><td> 3.8777966 </td><td> 0.05054206</td><td>-1.0752987 </td><td>-0.6031924 </td><td>-1.33510562</td><td>-0.5151951 </td><td>-0.5526268 </td><td> 0.03412446</td><td> 5.12484057</td><td>-0.8656046 </td><td> 0.1200784 </td><td>-1.1135909 </td></tr>\n",
       "\t<tr><td>-1.05767185</td><td>-1.22119306</td><td>-1.05325034</td><td>-1.4913170 </td><td>-0.6874590 </td><td> 0.05054206</td><td>-0.2152146 </td><td> 0.1375572 </td><td>-0.07503708</td><td>-0.5151951 </td><td>-0.5526268 </td><td>-0.92712793</td><td>-0.44848089</td><td>-0.8656046 </td><td> 0.1200784 </td><td> 0.1229080 </td></tr>\n",
       "\t<tr><td> 1.03305356</td><td> 1.50232014</td><td> 0.43589876</td><td> 0.7197121 </td><td>-0.2309335 </td><td>-0.44303273</td><td> 0.2148275 </td><td>-0.6031924 </td><td> 0.34498576</td><td> 1.8959203 </td><td> 0.2075201 </td><td>-0.44650174</td><td>-0.44848089</td><td> 0.4274523 </td><td>-0.2694704 </td><td>-0.4953415 </td></tr>\n",
       "\t<tr><td>-0.53499050</td><td> 0.59448241</td><td>-0.06048427</td><td> 0.2775063 </td><td>-0.2309335 </td><td> 0.05054206</td><td> 0.6448696 </td><td>-1.3439419 </td><td> 0.34498576</td><td>-0.9170476 </td><td> 1.7278141 </td><td> 0.03412446</td><td>-0.44848089</td><td> 1.7205091 </td><td>-0.6590192 </td><td>-0.4953415 </td></tr>\n",
       "\t<tr><td> 1.55573491</td><td> 0.89709499</td><td>-0.06048427</td><td>-0.1646996 </td><td>-0.6874590 </td><td>-0.44303273</td><td> 1.5049538 </td><td> 0.1375572 </td><td>-0.49505993</td><td> 1.0922151 </td><td> 0.9676671 </td><td>-1.88838033</td><td> 0.40895318</td><td> 1.7205091 </td><td>-0.2694704 </td><td> 1.3594069 </td></tr>\n",
       "\t<tr><td>-1.05767185</td><td>-2.12903079</td><td>-1.54963338</td><td>-1.9335228 </td><td>-1.1439846 </td><td> 0.54411685</td><td>-0.2152146 </td><td>-0.2328176 </td><td> 0.34498576</td><td>-1.3189002 </td><td>-0.1725534 </td><td> 0.03412446</td><td>-1.30591496</td><td>-0.2190762 </td><td> 1.2887248 </td><td> 0.1229080 </td></tr>\n",
       "\t<tr><td> 0.51037221</td><td>-0.31335532</td><td> 1.42866483</td><td>-0.6069054 </td><td> 0.6821177 </td><td> 1.03769164</td><td>-0.6452567 </td><td>-0.9735671 </td><td>-0.49505993</td><td> 0.2885100 </td><td>-0.5526268 </td><td>-0.44650174</td><td> 2.12382132</td><td>-1.5121330 </td><td>-0.6590192 </td><td> 0.1229080 </td></tr>\n",
       "\t<tr><td> 2.60109762</td><td> 2.41015788</td><td> 0.43589876</td><td> 1.1619179 </td><td> 0.6821177 </td><td>-0.93660752</td><td>-0.2152146 </td><td> 0.8783067 </td><td>-0.49505993</td><td> 0.6903626 </td><td> 0.2075201 </td><td> 0.99537685</td><td> 0.83767022</td><td> 0.4274523 </td><td> 0.5096272 </td><td> 0.1229080 </td></tr>\n",
       "\t<tr><td>-0.53499050</td><td>-0.01074275</td><td>-1.05325034</td><td>-0.1646996 </td><td>-1.1439846 </td><td>-3.40448147</td><td>-2.7954671 </td><td> 0.5079320 </td><td> 0.34498576</td><td>-3.3281629 </td><td>-2.4529943 </td><td>-0.92712793</td><td>-1.30591496</td><td>-0.2190762 </td><td>-1.4381167 </td><td> 0.1229080 </td></tr>\n",
       "\t<tr><td> 1.03305356</td><td> 0.59448241</td><td> 1.42866483</td><td> 1.1619179 </td><td> 2.0516943 </td><td> 0.05054206</td><td>-0.6452567 </td><td> 0.1375572 </td><td> 0.76500861</td><td>-0.5151951 </td><td>-0.5526268 </td><td> 0.51475066</td><td> 1.26638725</td><td>-2.1586614 </td><td> 2.4573711 </td><td>-2.9683393 </td></tr>\n",
       "\t<tr><td>-1.05767185</td><td>-1.82641822</td><td>-1.05325034</td><td>-1.4913170 </td><td>-1.1439846 </td><td>-1.43018231</td><td> 1.0749117 </td><td>-0.6031924 </td><td>-0.07503708</td><td> 0.6903626 </td><td> 0.5875936 </td><td>-1.40775413</td><td>-1.30591496</td><td> 0.4274523 </td><td>-0.2694704 </td><td>-0.4953415 </td></tr>\n",
       "\t<tr><td>-0.53499050</td><td> 0.29186983</td><td>-0.06048427</td><td> 0.2775063 </td><td> 0.6821177 </td><td> 2.02484121</td><td> 1.5049538 </td><td>-0.9735671 </td><td>-1.33510562</td><td>-1.3189002 </td><td> 0.5875936 </td><td>-0.44650174</td><td> 1.69510429</td><td> 2.3670375 </td><td>-1.0485680 </td><td>-0.4953415 </td></tr>\n",
       "\t<tr><td>-0.01230915</td><td>-1.22119306</td><td>-0.06048427</td><td>-0.6069054 </td><td>-0.6874590 </td><td> 0.05054206</td><td>-0.6452567 </td><td> 1.2486815 </td><td> 1.18503145</td><td>-0.9170476 </td><td>-0.5526268 </td><td>-0.44650174</td><td>-0.01976386</td><td>-0.2190762 </td><td> 0.1200784 </td><td> 0.1229080 </td></tr>\n",
       "\t<tr><td>-0.01230915</td><td> 0.59448241</td><td>-0.06048427</td><td> 0.2775063 </td><td>-0.2309335 </td><td>-0.93660752</td><td> 0.6448696 </td><td>-0.9735671 </td><td> 2.02507714</td><td> 0.6903626 </td><td> 0.5875936 </td><td> 0.51475066</td><td>-0.44848089</td><td>-0.2190762 </td><td> 0.5096272 </td><td>-1.7318404 </td></tr>\n",
       "\t<tr><td>-1.05767185</td><td> 1.19970757</td><td>-1.05325034</td><td> 1.1619179 </td><td>-0.6874590 </td><td> 3.99914037</td><td>-1.5053408 </td><td>-0.2328176 </td><td>-0.07503708</td><td> 1.8959203 </td><td>-2.0729208 </td><td> 0.03412446</td><td>-1.30591496</td><td>-0.8656046 </td><td>-1.4381167 </td><td> 0.1229080 </td></tr>\n",
       "\t<tr><td> 0.51037221</td><td> 0.29186983</td><td> 0.93228180</td><td> 0.7197121 </td><td> 1.5951688 </td><td> 0.05054206</td><td> 0.6448696 </td><td>-0.2328176 </td><td> 1.18503145</td><td>-0.5151951 </td><td> 0.2075201 </td><td> 0.03412446</td><td>-0.01976386</td><td> 1.0739807 </td><td> 1.6782736 </td><td>-1.1135909 </td></tr>\n",
       "\t<tr><td>-1.05767185</td><td>-1.52380564</td><td>-1.05325034</td><td>-1.0491112 </td><td>-0.6874590 </td><td> 0.05054206</td><td>-0.2152146 </td><td> 0.8783067 </td><td> 0.34498576</td><td>-0.9170476 </td><td>-0.1725534 </td><td>-1.88838033</td><td>-0.44848089</td><td>-0.2190762 </td><td>-0.2694704 </td><td>-0.4953415 </td></tr>\n",
       "\t<tr><td> 1.55573491</td><td> 0.89709499</td><td> 1.42866483</td><td> 1.1619179 </td><td> 0.2255921 </td><td>-1.43018231</td><td> 0.2148275 </td><td> 0.5079320 </td><td> 1.60505430</td><td> 1.4940677 </td><td> 0.9676671 </td><td> 2.43725544</td><td>-0.44848089</td><td> 0.4274523 </td><td>-0.2694704 </td><td>-0.4953415 </td></tr>\n",
       "\t<tr><td> 1.03305356</td><td> 0.59448241</td><td> 0.43589876</td><td> 0.7197121 </td><td> 0.6821177 </td><td>-0.44303273</td><td> 1.5049538 </td><td>-0.6031924 </td><td> 0.76500861</td><td> 1.0922151 </td><td> 0.9676671 </td><td>-1.40775413</td><td>-0.44848089</td><td> 2.3670375 </td><td>-0.6590192 </td><td>-2.3500899 </td></tr>\n",
       "\t<tr><td>-1.05767185</td><td>-1.22119306</td><td>-0.55686731</td><td>-1.4913170 </td><td>-1.1439846 </td><td> 0.54411685</td><td>-0.2152146 </td><td>-0.9735671 </td><td> 0.34498576</td><td> 0.6903626 </td><td>-0.1725534 </td><td> 0.03412446</td><td>-0.87719793</td><td> 0.4274523 </td><td> 0.5096272 </td><td> 0.1229080 </td></tr>\n",
       "\t<tr><td>-0.01230915</td><td> 0.59448241</td><td> 0.43589876</td><td> 0.2775063 </td><td>-0.6874590 </td><td> 1.03769164</td><td>-1.0752987 </td><td>-0.6031924 </td><td>-1.75512846</td><td>-0.1133425 </td><td>-2.0729208 </td><td> 0.03412446</td><td>-0.44848089</td><td>-0.8656046 </td><td>-0.6590192 </td><td> 0.1229080 </td></tr>\n",
       "</tbody>\n",
       "</table>\n"
      ],
      "text/latex": [
       "\\begin{tabular}{llllllllllllllll}\n",
       " Xbox & Ybox & Width & Height & OnPix & Xbar & Ybar & X2bar & Y2bar & XYbar & X2Ybar & XY2bar & Xedge & XedgeXY & Yedge & YedgeYX\\\\\n",
       "\\hline\n",
       "\t -1.05767185 &  0.2918698  & -1.05325034 & -0.1646996  & -1.1439846  &  0.54411685 &  2.3650380  & -1.7143167  &  0.34498576 & -0.9170476  &  1.3477406  &  0.03412446 & -1.30591496 & -0.2190762  & -1.4381167  &  0.1229080 \\\\\n",
       "\t  0.51037221 &  1.5023201  & -1.05325034 &  0.7197121  & -0.6874590  &  1.53126643 & -1.0752987  &  0.1375572  & -0.49505993 &  1.8959203  & -1.3127738  &  0.51475066 & -0.44848089 & -0.2190762  &  0.1200784  &  1.3594069 \\\\\n",
       "\t -0.01230915 &  1.1997076  &  0.43589876 &  1.1619179  &  1.1386432  &  1.53126643 & -0.6452567  & -0.9735671  &  0.34498576 &  0.6903626  & -1.3127738  & -0.44650174 & -0.01976386 & -0.8656046  & -0.2694704  &  0.7411575 \\\\\n",
       "\t  1.55573491 &  1.1997076  &  0.43589876 &  0.2775063  & -0.2309335  & -0.93660752 &  0.6448696  & -0.2328176  &  0.34498576 & -1.7207527  & -0.9327003  &  0.99537685 &  1.26638725 &  1.0739807  & -0.6590192  &  0.1229080 \\\\\n",
       "\t -1.05767185 & -1.8264182  & -1.05325034 & -1.9335228  & -1.1439846  &  0.54411685 & -0.6452567  &  0.5079320  &  0.34498576 & -0.9170476  & -0.5526268  &  0.51475066 & -0.87719793 & -0.8656046  &  0.5096272  &  1.3594069 \\\\\n",
       "\t -0.01230915 &  1.1997076  & -0.06048427 &  1.1619179  & -0.2309335  &  0.54411685 &  0.2148275  &  0.5079320  &  1.60505430 & -1.3189002  & -0.1725534  & -0.92712793 & -1.30591496 & -0.2190762  &  2.0678224  & -0.4953415 \\\\\n",
       "\t -0.01230915 & -1.5238056  & -0.06048427 & -0.6069054  &  0.2255921  &  0.54411685 & -0.2152146  &  0.5079320  &  0.34498576 & -0.5151951  & -0.1725534  & -0.92712793 & -0.44848089 & -0.2190762  &  1.2887248  &  1.3594069 \\\\\n",
       "\t -1.58035321 & -1.8264182  & -1.05325034 & -1.4913170  & -1.1439846  &  0.54411685 & -2.3654250  & -0.9735671  & -1.33510562 & -0.1133425  & -1.6928473  &  0.03412446 & -0.87719793 & -1.5121330  & -0.6590192  & -0.4953415 \\\\\n",
       "\t -1.05767185 & -1.5238056  & -0.55686731 & -0.6069054  & -0.6874590  &  1.53126643 & -0.6452567  & -0.9735671  &  0.34498576 &  1.4940677  & -0.9327003  &  0.03412446 & -0.87719793 & -1.5121330  & -1.0485680  & -0.4953415 \\\\\n",
       "\t  3.64646033 &  2.4101579  &  3.91058001 &  1.6041237  &  1.5951688  &  3.01199079 & -2.3654250  &  0.5079320  & -1.33510562 &  1.4940677  & -2.0729208  &  0.51475066 &  2.12382132 & -4.7447750  & -1.0485680  &  0.1229080 \\\\\n",
       "\t -0.53499050 &  0.5944824  & -0.06048427 &  0.7197121  &  0.2255921  &  0.54411685 & -0.2152146  & -0.6031924  &  1.18503145 & -1.3189002  & -0.1725534  &  0.03412446 & -0.44848089 & -0.2190762  &  0.8991760  & -0.4953415 \\\\\n",
       "\t  1.03305356 &  1.8049327  & -0.55686731 &  0.7197121  &  0.2255921  & -0.44303273 & -0.2152146  &  0.5079320  & -0.91508277 &  0.6903626  &  0.2075201  &  0.51475066 &  0.83767022 &  0.4274523  &  0.5096272  &  0.1229080 \\\\\n",
       "\t -0.01230915 &  0.5944824  &  0.43589876 &  0.7197121  &  1.1386432  &  0.05054206 &  0.2148275  &  0.5079320  & -1.33510562 & -0.9170476  & -0.5526268  &  1.47600305 &  0.40895318 & -0.2190762  &  1.2887248  &  0.1229080 \\\\\n",
       "\t  1.03305356 &  0.5944824  &  1.42866483 &  0.2775063  &  2.5082199  &  0.05054206 &  0.2148275  &  0.5079320  & -0.07503708 & -0.5151951  & -0.5526268  &  0.03412446 &  2.12382132 &  0.4274523  &  1.6782736  & -1.1135909 \\\\\n",
       "\t  0.51037221 &  0.5944824  & -0.06048427 &  0.7197121  &  1.1386432  & -0.44303273 &  1.5049538  &  0.8783067  & -0.91508277 & -0.5151951  & -1.3127738  &  0.51475066 & -0.44848089 & -0.8656046  &  0.5096272  &  1.9776564 \\\\\n",
       "\t  1.03305356 &  0.5944824  & -0.06048427 & -0.6069054  & -0.2309335  &  1.53126643 & -0.6452567  & -0.6031924  & -0.07503708 &  0.6903626  & -0.5526268  & -0.44650174 & -0.01976386 &  0.4274523  &  0.8991760  &  0.7411575 \\\\\n",
       "\t -0.53499050 & -0.9185805  & -0.55686731 & -1.0491112  & -0.6874590  &  0.54411685 & -0.2152146  &  0.8783067  & -0.07503708 & -0.5151951  & -0.1725534  &  0.03412446 & -0.44848089 & -0.2190762  & -0.2694704  &  0.1229080 \\\\\n",
       "\t  1.55573491 &  0.8970950  & -0.06048427 & -0.1646996  & -0.6874590  & -0.44303273 &  0.2148275  &  0.5079320  &  1.18503145 &  1.0922151  &  0.2075201  &  1.47600305 & -0.44848089 & -0.2190762  &  0.5096272  &  0.7411575 \\\\\n",
       "\t  1.03305356 &  1.1997076  &  0.43589876 &  1.1619179  &  0.6821177  & -0.44303273 &  1.5049538  &  0.1375572  &  0.34498576 &  1.0922151  &  0.9676671  & -1.88838033 & -0.01976386 &  2.3670375  & -0.6590192  & -2.3500899 \\\\\n",
       "\t -1.05767185 & -1.5238056  & -1.05325034 & -1.0491112  & -1.1439846  &  1.53126643 & -0.6452567  & -0.6031924  &  0.34498576 &  1.4940677  & -0.9327003  &  0.51475066 & -1.30591496 & -0.8656046  & -1.0485680  & -0.4953415 \\\\\n",
       "\t -1.58035321 & -1.2211931  & -1.54963338 & -1.4913170  & -1.1439846  &  0.54411685 &  0.2148275  & -0.9735671  & -0.07503708 &  2.2977728  & -0.5526268  &  0.03412446 & -1.30591496 & -0.8656046  & -1.4381167  & -0.4953415 \\\\\n",
       "\t -0.01230915 & -0.6159679  & -0.06048427 & -0.6069054  &  0.2255921  &  0.05054206 & -0.2152146  &  0.5079320  &  0.34498576 & -0.5151951  & -0.1725534  &  0.03412446 & -0.01976386 & -0.2190762  & -0.2694704  &  0.1229080 \\\\\n",
       "\t -0.53499050 & -1.5238056  & -1.05325034 & -1.0491112  & -0.6874590  &  0.54411685 &  0.2148275  &  0.8783067  & -0.07503708 & -0.5151951  & -0.5526268  & -0.44650174 & -0.44848089 & -0.2190762  &  2.0678224  &  0.1229080 \\\\\n",
       "\t  1.03305356 &  1.1997076  &  0.93228180 &  1.1619179  &  0.6821177  &  0.05054206 & -0.6452567  &  1.6190563  &  0.34498576 & -0.5151951  & -0.5526268  &  0.51475066 &  0.40895318 & -0.2190762  &  0.5096272  & -1.7318404 \\\\\n",
       "\t -0.53499050 & -0.3133553  & -0.55686731 & -0.6069054  & -0.6874590  & -0.44303273 & -0.6452567  & -0.2328176  & -0.49505993 &  2.2977728  &  0.5875936  &  1.95662925 & -0.87719793 & -1.5121330  & -1.0485680  & -1.1135909 \\\\\n",
       "\t  1.03305356 &  1.1997076  &  0.93228180 &  1.1619179  & -0.2309335  &  0.05054206 &  0.2148275  &  0.8783067  &  2.44509999 & -1.7207527  &  0.2075201  &  2.91788164 & -0.87719793 & -0.8656046  &  0.1200784  &  0.1229080 \\\\\n",
       "\t  1.55573491 &  1.1997076  &  2.91781394 &  1.1619179  &  2.5082199  & -1.92375710 &  0.2148275  & -0.2328176  & -0.07503708 &  0.6903626  &  1.7278141  &  0.99537685 &  2.98125540 &  0.4274523  &  0.5096272  & -0.4953415 \\\\\n",
       "\t  4.16914168 &  2.1075453  &  3.41419697 &  1.1619179  &  0.6821177  &  1.03769164 &  1.0749117  & -0.2328176  & -0.91508277 & -1.3189002  &  1.3477406  & -0.44650174 &  2.98125540 &  2.3670375  & -0.6590192  & -1.1135909 \\\\\n",
       "\t  1.03305356 &  0.5944824  &  1.42866483 &  0.7197121  &  1.1386432  &  0.54411685 & -0.6452567  &  0.5079320  &  0.76500861 & -0.5151951  &  0.2075201  &  0.51475066 &  1.26638725 & -0.2190762  &  0.1200784  &  0.1229080 \\\\\n",
       "\t -0.53499050 & -0.3133553  & -0.55686731 & -0.6069054  & -0.6874590  & -0.44303273 & -0.6452567  &  0.1375572  & -0.07503708 & -0.9170476  & -0.1725534  &  0.51475066 & -0.44848089 & -0.2190762  &  0.1200784  &  0.1229080 \\\\\n",
       "\t ⋮ & ⋮ & ⋮ & ⋮ & ⋮ & ⋮ & ⋮ & ⋮ & ⋮ & ⋮ & ⋮ & ⋮ & ⋮ & ⋮ & ⋮ & ⋮\\\\\n",
       "\t  1.55573491 &  0.89709499 &  1.92504787 &  1.1619179  &  1.5951688  &  1.03769164 & -0.2152146  & -0.9735671  &  0.34498576 &  1.4940677  & -0.9327003  & -0.92712793 &  0.83767022 &  0.4274523  &  0.1200784  &  0.7411575 \\\\\n",
       "\t  0.51037221 &  0.89709499 &  0.93228180 &  1.6041237  &  2.0516943  & -0.93660752 & -0.6452567  & -0.2328176  & -0.49505993 & -0.5151951  & -0.1725534  &  1.47600305 &  0.83767022 &  1.7205091  &  1.6782736  &  1.3594069 \\\\\n",
       "\t -0.01230915 & -0.01074275 &  0.43589876 & -0.1646996  &  1.1386432  &  0.54411685 & -0.6452567  & -0.2328176  & -1.33510562 & -0.5151951  &  0.5875936  &  0.03412446 &  1.69510429 &  0.4274523  &  0.1200784  & -1.1135909 \\\\\n",
       "\t -0.01230915 & -0.91858048 & -0.06048427 & -1.0491112  & -0.6874590  & -0.93660752 &  1.9349959  & -0.9735671  &  1.18503145 &  1.0922151  &  0.9676671  & -1.88838033 & -1.30591496 &  1.0739807  & -0.6590192  & -2.3500899 \\\\\n",
       "\t  0.51037221 &  0.59448241 & -0.06048427 & -0.6069054  & -0.6874590  &  1.03769164 &  1.5049538  &  0.1375572  & -0.91508277 & -1.3189002  & -0.1725534  &  0.51475066 &  0.83767022 &  1.7205091  & -0.6590192  & -1.1135909 \\\\\n",
       "\t -1.58035321 & -2.12903079 & -2.04601641 & -2.3757286  & -1.6005101  & -0.93660752 &  0.2148275  &  0.1375572  &  0.76500861 & -0.5151951  & -0.1725534  &  1.95662925 & -1.30591496 & -0.2190762  &  0.8991760  &  1.3594069 \\\\\n",
       "\t -0.53499050 &  0.29186983 & -1.05325034 &  0.2775063  & -0.6874590  & -3.40448147 & -2.3654250  & -0.2328176  &  0.34498576 & -2.9263104  & -2.4529943  &  0.03412446 & -1.30591496 & -0.2190762  & -1.4381167  &  0.1229080 \\\\\n",
       "\t -0.53499050 &  0.59448241 & -0.06048427 &  0.2775063  & -0.6874590  & -0.44303273 & -1.0752987  & -0.6031924  & -1.75512846 & -0.9170476  & -2.0729208  &  0.03412446 & -0.44848089 & -0.8656046  & -0.6590192  & -0.4953415 \\\\\n",
       "\t  0.51037221 &  1.19970757 & -0.06048427 &  1.1619179  &  0.6821177  & -1.92375710 &  0.2148275  &  0.8783067  & -0.91508277 & -0.9170476  & -0.9327003  &  1.47600305 & -0.01976386 & -0.2190762  & -0.6590192  &  1.9776564 \\\\\n",
       "\t  1.03305356 &  0.59448241 &  2.42143090 &  0.7197121  &  3.8777966  &  0.05054206 & -1.0752987  & -0.6031924  & -1.33510562 & -0.5151951  & -0.5526268  &  0.03412446 &  5.12484057 & -0.8656046  &  0.1200784  & -1.1135909 \\\\\n",
       "\t -1.05767185 & -1.22119306 & -1.05325034 & -1.4913170  & -0.6874590  &  0.05054206 & -0.2152146  &  0.1375572  & -0.07503708 & -0.5151951  & -0.5526268  & -0.92712793 & -0.44848089 & -0.8656046  &  0.1200784  &  0.1229080 \\\\\n",
       "\t  1.03305356 &  1.50232014 &  0.43589876 &  0.7197121  & -0.2309335  & -0.44303273 &  0.2148275  & -0.6031924  &  0.34498576 &  1.8959203  &  0.2075201  & -0.44650174 & -0.44848089 &  0.4274523  & -0.2694704  & -0.4953415 \\\\\n",
       "\t -0.53499050 &  0.59448241 & -0.06048427 &  0.2775063  & -0.2309335  &  0.05054206 &  0.6448696  & -1.3439419  &  0.34498576 & -0.9170476  &  1.7278141  &  0.03412446 & -0.44848089 &  1.7205091  & -0.6590192  & -0.4953415 \\\\\n",
       "\t  1.55573491 &  0.89709499 & -0.06048427 & -0.1646996  & -0.6874590  & -0.44303273 &  1.5049538  &  0.1375572  & -0.49505993 &  1.0922151  &  0.9676671  & -1.88838033 &  0.40895318 &  1.7205091  & -0.2694704  &  1.3594069 \\\\\n",
       "\t -1.05767185 & -2.12903079 & -1.54963338 & -1.9335228  & -1.1439846  &  0.54411685 & -0.2152146  & -0.2328176  &  0.34498576 & -1.3189002  & -0.1725534  &  0.03412446 & -1.30591496 & -0.2190762  &  1.2887248  &  0.1229080 \\\\\n",
       "\t  0.51037221 & -0.31335532 &  1.42866483 & -0.6069054  &  0.6821177  &  1.03769164 & -0.6452567  & -0.9735671  & -0.49505993 &  0.2885100  & -0.5526268  & -0.44650174 &  2.12382132 & -1.5121330  & -0.6590192  &  0.1229080 \\\\\n",
       "\t  2.60109762 &  2.41015788 &  0.43589876 &  1.1619179  &  0.6821177  & -0.93660752 & -0.2152146  &  0.8783067  & -0.49505993 &  0.6903626  &  0.2075201  &  0.99537685 &  0.83767022 &  0.4274523  &  0.5096272  &  0.1229080 \\\\\n",
       "\t -0.53499050 & -0.01074275 & -1.05325034 & -0.1646996  & -1.1439846  & -3.40448147 & -2.7954671  &  0.5079320  &  0.34498576 & -3.3281629  & -2.4529943  & -0.92712793 & -1.30591496 & -0.2190762  & -1.4381167  &  0.1229080 \\\\\n",
       "\t  1.03305356 &  0.59448241 &  1.42866483 &  1.1619179  &  2.0516943  &  0.05054206 & -0.6452567  &  0.1375572  &  0.76500861 & -0.5151951  & -0.5526268  &  0.51475066 &  1.26638725 & -2.1586614  &  2.4573711  & -2.9683393 \\\\\n",
       "\t -1.05767185 & -1.82641822 & -1.05325034 & -1.4913170  & -1.1439846  & -1.43018231 &  1.0749117  & -0.6031924  & -0.07503708 &  0.6903626  &  0.5875936  & -1.40775413 & -1.30591496 &  0.4274523  & -0.2694704  & -0.4953415 \\\\\n",
       "\t -0.53499050 &  0.29186983 & -0.06048427 &  0.2775063  &  0.6821177  &  2.02484121 &  1.5049538  & -0.9735671  & -1.33510562 & -1.3189002  &  0.5875936  & -0.44650174 &  1.69510429 &  2.3670375  & -1.0485680  & -0.4953415 \\\\\n",
       "\t -0.01230915 & -1.22119306 & -0.06048427 & -0.6069054  & -0.6874590  &  0.05054206 & -0.6452567  &  1.2486815  &  1.18503145 & -0.9170476  & -0.5526268  & -0.44650174 & -0.01976386 & -0.2190762  &  0.1200784  &  0.1229080 \\\\\n",
       "\t -0.01230915 &  0.59448241 & -0.06048427 &  0.2775063  & -0.2309335  & -0.93660752 &  0.6448696  & -0.9735671  &  2.02507714 &  0.6903626  &  0.5875936  &  0.51475066 & -0.44848089 & -0.2190762  &  0.5096272  & -1.7318404 \\\\\n",
       "\t -1.05767185 &  1.19970757 & -1.05325034 &  1.1619179  & -0.6874590  &  3.99914037 & -1.5053408  & -0.2328176  & -0.07503708 &  1.8959203  & -2.0729208  &  0.03412446 & -1.30591496 & -0.8656046  & -1.4381167  &  0.1229080 \\\\\n",
       "\t  0.51037221 &  0.29186983 &  0.93228180 &  0.7197121  &  1.5951688  &  0.05054206 &  0.6448696  & -0.2328176  &  1.18503145 & -0.5151951  &  0.2075201  &  0.03412446 & -0.01976386 &  1.0739807  &  1.6782736  & -1.1135909 \\\\\n",
       "\t -1.05767185 & -1.52380564 & -1.05325034 & -1.0491112  & -0.6874590  &  0.05054206 & -0.2152146  &  0.8783067  &  0.34498576 & -0.9170476  & -0.1725534  & -1.88838033 & -0.44848089 & -0.2190762  & -0.2694704  & -0.4953415 \\\\\n",
       "\t  1.55573491 &  0.89709499 &  1.42866483 &  1.1619179  &  0.2255921  & -1.43018231 &  0.2148275  &  0.5079320  &  1.60505430 &  1.4940677  &  0.9676671  &  2.43725544 & -0.44848089 &  0.4274523  & -0.2694704  & -0.4953415 \\\\\n",
       "\t  1.03305356 &  0.59448241 &  0.43589876 &  0.7197121  &  0.6821177  & -0.44303273 &  1.5049538  & -0.6031924  &  0.76500861 &  1.0922151  &  0.9676671  & -1.40775413 & -0.44848089 &  2.3670375  & -0.6590192  & -2.3500899 \\\\\n",
       "\t -1.05767185 & -1.22119306 & -0.55686731 & -1.4913170  & -1.1439846  &  0.54411685 & -0.2152146  & -0.9735671  &  0.34498576 &  0.6903626  & -0.1725534  &  0.03412446 & -0.87719793 &  0.4274523  &  0.5096272  &  0.1229080 \\\\\n",
       "\t -0.01230915 &  0.59448241 &  0.43589876 &  0.2775063  & -0.6874590  &  1.03769164 & -1.0752987  & -0.6031924  & -1.75512846 & -0.1133425  & -2.0729208  &  0.03412446 & -0.44848089 & -0.8656046  & -0.6590192  &  0.1229080 \\\\\n",
       "\\end{tabular}\n"
      ],
      "text/markdown": [
       "\n",
       "Xbox | Ybox | Width | Height | OnPix | Xbar | Ybar | X2bar | Y2bar | XYbar | X2Ybar | XY2bar | Xedge | XedgeXY | Yedge | YedgeYX | \n",
       "|---|---|---|---|---|---|---|---|---|---|---|---|---|---|---|---|---|---|---|---|---|---|---|---|---|---|---|---|---|---|---|---|---|---|---|---|---|---|---|---|---|---|---|---|---|---|---|---|---|---|---|---|---|---|---|---|---|---|---|---|---|\n",
       "| -1.05767185 |  0.2918698  | -1.05325034 | -0.1646996  | -1.1439846  |  0.54411685 |  2.3650380  | -1.7143167  |  0.34498576 | -0.9170476  |  1.3477406  |  0.03412446 | -1.30591496 | -0.2190762  | -1.4381167  |  0.1229080  | \n",
       "|  0.51037221 |  1.5023201  | -1.05325034 |  0.7197121  | -0.6874590  |  1.53126643 | -1.0752987  |  0.1375572  | -0.49505993 |  1.8959203  | -1.3127738  |  0.51475066 | -0.44848089 | -0.2190762  |  0.1200784  |  1.3594069  | \n",
       "| -0.01230915 |  1.1997076  |  0.43589876 |  1.1619179  |  1.1386432  |  1.53126643 | -0.6452567  | -0.9735671  |  0.34498576 |  0.6903626  | -1.3127738  | -0.44650174 | -0.01976386 | -0.8656046  | -0.2694704  |  0.7411575  | \n",
       "|  1.55573491 |  1.1997076  |  0.43589876 |  0.2775063  | -0.2309335  | -0.93660752 |  0.6448696  | -0.2328176  |  0.34498576 | -1.7207527  | -0.9327003  |  0.99537685 |  1.26638725 |  1.0739807  | -0.6590192  |  0.1229080  | \n",
       "| -1.05767185 | -1.8264182  | -1.05325034 | -1.9335228  | -1.1439846  |  0.54411685 | -0.6452567  |  0.5079320  |  0.34498576 | -0.9170476  | -0.5526268  |  0.51475066 | -0.87719793 | -0.8656046  |  0.5096272  |  1.3594069  | \n",
       "| -0.01230915 |  1.1997076  | -0.06048427 |  1.1619179  | -0.2309335  |  0.54411685 |  0.2148275  |  0.5079320  |  1.60505430 | -1.3189002  | -0.1725534  | -0.92712793 | -1.30591496 | -0.2190762  |  2.0678224  | -0.4953415  | \n",
       "| -0.01230915 | -1.5238056  | -0.06048427 | -0.6069054  |  0.2255921  |  0.54411685 | -0.2152146  |  0.5079320  |  0.34498576 | -0.5151951  | -0.1725534  | -0.92712793 | -0.44848089 | -0.2190762  |  1.2887248  |  1.3594069  | \n",
       "| -1.58035321 | -1.8264182  | -1.05325034 | -1.4913170  | -1.1439846  |  0.54411685 | -2.3654250  | -0.9735671  | -1.33510562 | -0.1133425  | -1.6928473  |  0.03412446 | -0.87719793 | -1.5121330  | -0.6590192  | -0.4953415  | \n",
       "| -1.05767185 | -1.5238056  | -0.55686731 | -0.6069054  | -0.6874590  |  1.53126643 | -0.6452567  | -0.9735671  |  0.34498576 |  1.4940677  | -0.9327003  |  0.03412446 | -0.87719793 | -1.5121330  | -1.0485680  | -0.4953415  | \n",
       "|  3.64646033 |  2.4101579  |  3.91058001 |  1.6041237  |  1.5951688  |  3.01199079 | -2.3654250  |  0.5079320  | -1.33510562 |  1.4940677  | -2.0729208  |  0.51475066 |  2.12382132 | -4.7447750  | -1.0485680  |  0.1229080  | \n",
       "| -0.53499050 |  0.5944824  | -0.06048427 |  0.7197121  |  0.2255921  |  0.54411685 | -0.2152146  | -0.6031924  |  1.18503145 | -1.3189002  | -0.1725534  |  0.03412446 | -0.44848089 | -0.2190762  |  0.8991760  | -0.4953415  | \n",
       "|  1.03305356 |  1.8049327  | -0.55686731 |  0.7197121  |  0.2255921  | -0.44303273 | -0.2152146  |  0.5079320  | -0.91508277 |  0.6903626  |  0.2075201  |  0.51475066 |  0.83767022 |  0.4274523  |  0.5096272  |  0.1229080  | \n",
       "| -0.01230915 |  0.5944824  |  0.43589876 |  0.7197121  |  1.1386432  |  0.05054206 |  0.2148275  |  0.5079320  | -1.33510562 | -0.9170476  | -0.5526268  |  1.47600305 |  0.40895318 | -0.2190762  |  1.2887248  |  0.1229080  | \n",
       "|  1.03305356 |  0.5944824  |  1.42866483 |  0.2775063  |  2.5082199  |  0.05054206 |  0.2148275  |  0.5079320  | -0.07503708 | -0.5151951  | -0.5526268  |  0.03412446 |  2.12382132 |  0.4274523  |  1.6782736  | -1.1135909  | \n",
       "|  0.51037221 |  0.5944824  | -0.06048427 |  0.7197121  |  1.1386432  | -0.44303273 |  1.5049538  |  0.8783067  | -0.91508277 | -0.5151951  | -1.3127738  |  0.51475066 | -0.44848089 | -0.8656046  |  0.5096272  |  1.9776564  | \n",
       "|  1.03305356 |  0.5944824  | -0.06048427 | -0.6069054  | -0.2309335  |  1.53126643 | -0.6452567  | -0.6031924  | -0.07503708 |  0.6903626  | -0.5526268  | -0.44650174 | -0.01976386 |  0.4274523  |  0.8991760  |  0.7411575  | \n",
       "| -0.53499050 | -0.9185805  | -0.55686731 | -1.0491112  | -0.6874590  |  0.54411685 | -0.2152146  |  0.8783067  | -0.07503708 | -0.5151951  | -0.1725534  |  0.03412446 | -0.44848089 | -0.2190762  | -0.2694704  |  0.1229080  | \n",
       "|  1.55573491 |  0.8970950  | -0.06048427 | -0.1646996  | -0.6874590  | -0.44303273 |  0.2148275  |  0.5079320  |  1.18503145 |  1.0922151  |  0.2075201  |  1.47600305 | -0.44848089 | -0.2190762  |  0.5096272  |  0.7411575  | \n",
       "|  1.03305356 |  1.1997076  |  0.43589876 |  1.1619179  |  0.6821177  | -0.44303273 |  1.5049538  |  0.1375572  |  0.34498576 |  1.0922151  |  0.9676671  | -1.88838033 | -0.01976386 |  2.3670375  | -0.6590192  | -2.3500899  | \n",
       "| -1.05767185 | -1.5238056  | -1.05325034 | -1.0491112  | -1.1439846  |  1.53126643 | -0.6452567  | -0.6031924  |  0.34498576 |  1.4940677  | -0.9327003  |  0.51475066 | -1.30591496 | -0.8656046  | -1.0485680  | -0.4953415  | \n",
       "| -1.58035321 | -1.2211931  | -1.54963338 | -1.4913170  | -1.1439846  |  0.54411685 |  0.2148275  | -0.9735671  | -0.07503708 |  2.2977728  | -0.5526268  |  0.03412446 | -1.30591496 | -0.8656046  | -1.4381167  | -0.4953415  | \n",
       "| -0.01230915 | -0.6159679  | -0.06048427 | -0.6069054  |  0.2255921  |  0.05054206 | -0.2152146  |  0.5079320  |  0.34498576 | -0.5151951  | -0.1725534  |  0.03412446 | -0.01976386 | -0.2190762  | -0.2694704  |  0.1229080  | \n",
       "| -0.53499050 | -1.5238056  | -1.05325034 | -1.0491112  | -0.6874590  |  0.54411685 |  0.2148275  |  0.8783067  | -0.07503708 | -0.5151951  | -0.5526268  | -0.44650174 | -0.44848089 | -0.2190762  |  2.0678224  |  0.1229080  | \n",
       "|  1.03305356 |  1.1997076  |  0.93228180 |  1.1619179  |  0.6821177  |  0.05054206 | -0.6452567  |  1.6190563  |  0.34498576 | -0.5151951  | -0.5526268  |  0.51475066 |  0.40895318 | -0.2190762  |  0.5096272  | -1.7318404  | \n",
       "| -0.53499050 | -0.3133553  | -0.55686731 | -0.6069054  | -0.6874590  | -0.44303273 | -0.6452567  | -0.2328176  | -0.49505993 |  2.2977728  |  0.5875936  |  1.95662925 | -0.87719793 | -1.5121330  | -1.0485680  | -1.1135909  | \n",
       "|  1.03305356 |  1.1997076  |  0.93228180 |  1.1619179  | -0.2309335  |  0.05054206 |  0.2148275  |  0.8783067  |  2.44509999 | -1.7207527  |  0.2075201  |  2.91788164 | -0.87719793 | -0.8656046  |  0.1200784  |  0.1229080  | \n",
       "|  1.55573491 |  1.1997076  |  2.91781394 |  1.1619179  |  2.5082199  | -1.92375710 |  0.2148275  | -0.2328176  | -0.07503708 |  0.6903626  |  1.7278141  |  0.99537685 |  2.98125540 |  0.4274523  |  0.5096272  | -0.4953415  | \n",
       "|  4.16914168 |  2.1075453  |  3.41419697 |  1.1619179  |  0.6821177  |  1.03769164 |  1.0749117  | -0.2328176  | -0.91508277 | -1.3189002  |  1.3477406  | -0.44650174 |  2.98125540 |  2.3670375  | -0.6590192  | -1.1135909  | \n",
       "|  1.03305356 |  0.5944824  |  1.42866483 |  0.7197121  |  1.1386432  |  0.54411685 | -0.6452567  |  0.5079320  |  0.76500861 | -0.5151951  |  0.2075201  |  0.51475066 |  1.26638725 | -0.2190762  |  0.1200784  |  0.1229080  | \n",
       "| -0.53499050 | -0.3133553  | -0.55686731 | -0.6069054  | -0.6874590  | -0.44303273 | -0.6452567  |  0.1375572  | -0.07503708 | -0.9170476  | -0.1725534  |  0.51475066 | -0.44848089 | -0.2190762  |  0.1200784  |  0.1229080  | \n",
       "| ⋮ | ⋮ | ⋮ | ⋮ | ⋮ | ⋮ | ⋮ | ⋮ | ⋮ | ⋮ | ⋮ | ⋮ | ⋮ | ⋮ | ⋮ | ⋮ | \n",
       "|  1.55573491 |  0.89709499 |  1.92504787 |  1.1619179  |  1.5951688  |  1.03769164 | -0.2152146  | -0.9735671  |  0.34498576 |  1.4940677  | -0.9327003  | -0.92712793 |  0.83767022 |  0.4274523  |  0.1200784  |  0.7411575  | \n",
       "|  0.51037221 |  0.89709499 |  0.93228180 |  1.6041237  |  2.0516943  | -0.93660752 | -0.6452567  | -0.2328176  | -0.49505993 | -0.5151951  | -0.1725534  |  1.47600305 |  0.83767022 |  1.7205091  |  1.6782736  |  1.3594069  | \n",
       "| -0.01230915 | -0.01074275 |  0.43589876 | -0.1646996  |  1.1386432  |  0.54411685 | -0.6452567  | -0.2328176  | -1.33510562 | -0.5151951  |  0.5875936  |  0.03412446 |  1.69510429 |  0.4274523  |  0.1200784  | -1.1135909  | \n",
       "| -0.01230915 | -0.91858048 | -0.06048427 | -1.0491112  | -0.6874590  | -0.93660752 |  1.9349959  | -0.9735671  |  1.18503145 |  1.0922151  |  0.9676671  | -1.88838033 | -1.30591496 |  1.0739807  | -0.6590192  | -2.3500899  | \n",
       "|  0.51037221 |  0.59448241 | -0.06048427 | -0.6069054  | -0.6874590  |  1.03769164 |  1.5049538  |  0.1375572  | -0.91508277 | -1.3189002  | -0.1725534  |  0.51475066 |  0.83767022 |  1.7205091  | -0.6590192  | -1.1135909  | \n",
       "| -1.58035321 | -2.12903079 | -2.04601641 | -2.3757286  | -1.6005101  | -0.93660752 |  0.2148275  |  0.1375572  |  0.76500861 | -0.5151951  | -0.1725534  |  1.95662925 | -1.30591496 | -0.2190762  |  0.8991760  |  1.3594069  | \n",
       "| -0.53499050 |  0.29186983 | -1.05325034 |  0.2775063  | -0.6874590  | -3.40448147 | -2.3654250  | -0.2328176  |  0.34498576 | -2.9263104  | -2.4529943  |  0.03412446 | -1.30591496 | -0.2190762  | -1.4381167  |  0.1229080  | \n",
       "| -0.53499050 |  0.59448241 | -0.06048427 |  0.2775063  | -0.6874590  | -0.44303273 | -1.0752987  | -0.6031924  | -1.75512846 | -0.9170476  | -2.0729208  |  0.03412446 | -0.44848089 | -0.8656046  | -0.6590192  | -0.4953415  | \n",
       "|  0.51037221 |  1.19970757 | -0.06048427 |  1.1619179  |  0.6821177  | -1.92375710 |  0.2148275  |  0.8783067  | -0.91508277 | -0.9170476  | -0.9327003  |  1.47600305 | -0.01976386 | -0.2190762  | -0.6590192  |  1.9776564  | \n",
       "|  1.03305356 |  0.59448241 |  2.42143090 |  0.7197121  |  3.8777966  |  0.05054206 | -1.0752987  | -0.6031924  | -1.33510562 | -0.5151951  | -0.5526268  |  0.03412446 |  5.12484057 | -0.8656046  |  0.1200784  | -1.1135909  | \n",
       "| -1.05767185 | -1.22119306 | -1.05325034 | -1.4913170  | -0.6874590  |  0.05054206 | -0.2152146  |  0.1375572  | -0.07503708 | -0.5151951  | -0.5526268  | -0.92712793 | -0.44848089 | -0.8656046  |  0.1200784  |  0.1229080  | \n",
       "|  1.03305356 |  1.50232014 |  0.43589876 |  0.7197121  | -0.2309335  | -0.44303273 |  0.2148275  | -0.6031924  |  0.34498576 |  1.8959203  |  0.2075201  | -0.44650174 | -0.44848089 |  0.4274523  | -0.2694704  | -0.4953415  | \n",
       "| -0.53499050 |  0.59448241 | -0.06048427 |  0.2775063  | -0.2309335  |  0.05054206 |  0.6448696  | -1.3439419  |  0.34498576 | -0.9170476  |  1.7278141  |  0.03412446 | -0.44848089 |  1.7205091  | -0.6590192  | -0.4953415  | \n",
       "|  1.55573491 |  0.89709499 | -0.06048427 | -0.1646996  | -0.6874590  | -0.44303273 |  1.5049538  |  0.1375572  | -0.49505993 |  1.0922151  |  0.9676671  | -1.88838033 |  0.40895318 |  1.7205091  | -0.2694704  |  1.3594069  | \n",
       "| -1.05767185 | -2.12903079 | -1.54963338 | -1.9335228  | -1.1439846  |  0.54411685 | -0.2152146  | -0.2328176  |  0.34498576 | -1.3189002  | -0.1725534  |  0.03412446 | -1.30591496 | -0.2190762  |  1.2887248  |  0.1229080  | \n",
       "|  0.51037221 | -0.31335532 |  1.42866483 | -0.6069054  |  0.6821177  |  1.03769164 | -0.6452567  | -0.9735671  | -0.49505993 |  0.2885100  | -0.5526268  | -0.44650174 |  2.12382132 | -1.5121330  | -0.6590192  |  0.1229080  | \n",
       "|  2.60109762 |  2.41015788 |  0.43589876 |  1.1619179  |  0.6821177  | -0.93660752 | -0.2152146  |  0.8783067  | -0.49505993 |  0.6903626  |  0.2075201  |  0.99537685 |  0.83767022 |  0.4274523  |  0.5096272  |  0.1229080  | \n",
       "| -0.53499050 | -0.01074275 | -1.05325034 | -0.1646996  | -1.1439846  | -3.40448147 | -2.7954671  |  0.5079320  |  0.34498576 | -3.3281629  | -2.4529943  | -0.92712793 | -1.30591496 | -0.2190762  | -1.4381167  |  0.1229080  | \n",
       "|  1.03305356 |  0.59448241 |  1.42866483 |  1.1619179  |  2.0516943  |  0.05054206 | -0.6452567  |  0.1375572  |  0.76500861 | -0.5151951  | -0.5526268  |  0.51475066 |  1.26638725 | -2.1586614  |  2.4573711  | -2.9683393  | \n",
       "| -1.05767185 | -1.82641822 | -1.05325034 | -1.4913170  | -1.1439846  | -1.43018231 |  1.0749117  | -0.6031924  | -0.07503708 |  0.6903626  |  0.5875936  | -1.40775413 | -1.30591496 |  0.4274523  | -0.2694704  | -0.4953415  | \n",
       "| -0.53499050 |  0.29186983 | -0.06048427 |  0.2775063  |  0.6821177  |  2.02484121 |  1.5049538  | -0.9735671  | -1.33510562 | -1.3189002  |  0.5875936  | -0.44650174 |  1.69510429 |  2.3670375  | -1.0485680  | -0.4953415  | \n",
       "| -0.01230915 | -1.22119306 | -0.06048427 | -0.6069054  | -0.6874590  |  0.05054206 | -0.6452567  |  1.2486815  |  1.18503145 | -0.9170476  | -0.5526268  | -0.44650174 | -0.01976386 | -0.2190762  |  0.1200784  |  0.1229080  | \n",
       "| -0.01230915 |  0.59448241 | -0.06048427 |  0.2775063  | -0.2309335  | -0.93660752 |  0.6448696  | -0.9735671  |  2.02507714 |  0.6903626  |  0.5875936  |  0.51475066 | -0.44848089 | -0.2190762  |  0.5096272  | -1.7318404  | \n",
       "| -1.05767185 |  1.19970757 | -1.05325034 |  1.1619179  | -0.6874590  |  3.99914037 | -1.5053408  | -0.2328176  | -0.07503708 |  1.8959203  | -2.0729208  |  0.03412446 | -1.30591496 | -0.8656046  | -1.4381167  |  0.1229080  | \n",
       "|  0.51037221 |  0.29186983 |  0.93228180 |  0.7197121  |  1.5951688  |  0.05054206 |  0.6448696  | -0.2328176  |  1.18503145 | -0.5151951  |  0.2075201  |  0.03412446 | -0.01976386 |  1.0739807  |  1.6782736  | -1.1135909  | \n",
       "| -1.05767185 | -1.52380564 | -1.05325034 | -1.0491112  | -0.6874590  |  0.05054206 | -0.2152146  |  0.8783067  |  0.34498576 | -0.9170476  | -0.1725534  | -1.88838033 | -0.44848089 | -0.2190762  | -0.2694704  | -0.4953415  | \n",
       "|  1.55573491 |  0.89709499 |  1.42866483 |  1.1619179  |  0.2255921  | -1.43018231 |  0.2148275  |  0.5079320  |  1.60505430 |  1.4940677  |  0.9676671  |  2.43725544 | -0.44848089 |  0.4274523  | -0.2694704  | -0.4953415  | \n",
       "|  1.03305356 |  0.59448241 |  0.43589876 |  0.7197121  |  0.6821177  | -0.44303273 |  1.5049538  | -0.6031924  |  0.76500861 |  1.0922151  |  0.9676671  | -1.40775413 | -0.44848089 |  2.3670375  | -0.6590192  | -2.3500899  | \n",
       "| -1.05767185 | -1.22119306 | -0.55686731 | -1.4913170  | -1.1439846  |  0.54411685 | -0.2152146  | -0.9735671  |  0.34498576 |  0.6903626  | -0.1725534  |  0.03412446 | -0.87719793 |  0.4274523  |  0.5096272  |  0.1229080  | \n",
       "| -0.01230915 |  0.59448241 |  0.43589876 |  0.2775063  | -0.6874590  |  1.03769164 | -1.0752987  | -0.6031924  | -1.75512846 | -0.1133425  | -2.0729208  |  0.03412446 | -0.44848089 | -0.8656046  | -0.6590192  |  0.1229080  | \n",
       "\n",
       "\n"
      ],
      "text/plain": [
       "      Xbox        Ybox        Width       Height     OnPix      Xbar       \n",
       " [1,] -1.05767185  0.2918698  -1.05325034 -0.1646996 -1.1439846  0.54411685\n",
       " [2,]  0.51037221  1.5023201  -1.05325034  0.7197121 -0.6874590  1.53126643\n",
       " [3,] -0.01230915  1.1997076   0.43589876  1.1619179  1.1386432  1.53126643\n",
       " [4,]  1.55573491  1.1997076   0.43589876  0.2775063 -0.2309335 -0.93660752\n",
       " [5,] -1.05767185 -1.8264182  -1.05325034 -1.9335228 -1.1439846  0.54411685\n",
       " [6,] -0.01230915  1.1997076  -0.06048427  1.1619179 -0.2309335  0.54411685\n",
       " [7,] -0.01230915 -1.5238056  -0.06048427 -0.6069054  0.2255921  0.54411685\n",
       " [8,] -1.58035321 -1.8264182  -1.05325034 -1.4913170 -1.1439846  0.54411685\n",
       " [9,] -1.05767185 -1.5238056  -0.55686731 -0.6069054 -0.6874590  1.53126643\n",
       "[10,]  3.64646033  2.4101579   3.91058001  1.6041237  1.5951688  3.01199079\n",
       "[11,] -0.53499050  0.5944824  -0.06048427  0.7197121  0.2255921  0.54411685\n",
       "[12,]  1.03305356  1.8049327  -0.55686731  0.7197121  0.2255921 -0.44303273\n",
       "[13,] -0.01230915  0.5944824   0.43589876  0.7197121  1.1386432  0.05054206\n",
       "[14,]  1.03305356  0.5944824   1.42866483  0.2775063  2.5082199  0.05054206\n",
       "[15,]  0.51037221  0.5944824  -0.06048427  0.7197121  1.1386432 -0.44303273\n",
       "[16,]  1.03305356  0.5944824  -0.06048427 -0.6069054 -0.2309335  1.53126643\n",
       "[17,] -0.53499050 -0.9185805  -0.55686731 -1.0491112 -0.6874590  0.54411685\n",
       "[18,]  1.55573491  0.8970950  -0.06048427 -0.1646996 -0.6874590 -0.44303273\n",
       "[19,]  1.03305356  1.1997076   0.43589876  1.1619179  0.6821177 -0.44303273\n",
       "[20,] -1.05767185 -1.5238056  -1.05325034 -1.0491112 -1.1439846  1.53126643\n",
       "[21,] -1.58035321 -1.2211931  -1.54963338 -1.4913170 -1.1439846  0.54411685\n",
       "[22,] -0.01230915 -0.6159679  -0.06048427 -0.6069054  0.2255921  0.05054206\n",
       "[23,] -0.53499050 -1.5238056  -1.05325034 -1.0491112 -0.6874590  0.54411685\n",
       "[24,]  1.03305356  1.1997076   0.93228180  1.1619179  0.6821177  0.05054206\n",
       "[25,] -0.53499050 -0.3133553  -0.55686731 -0.6069054 -0.6874590 -0.44303273\n",
       "[26,]  1.03305356  1.1997076   0.93228180  1.1619179 -0.2309335  0.05054206\n",
       "[27,]  1.55573491  1.1997076   2.91781394  1.1619179  2.5082199 -1.92375710\n",
       "[28,]  4.16914168  2.1075453   3.41419697  1.1619179  0.6821177  1.03769164\n",
       "[29,]  1.03305356  0.5944824   1.42866483  0.7197121  1.1386432  0.54411685\n",
       "[30,] -0.53499050 -0.3133553  -0.55686731 -0.6069054 -0.6874590 -0.44303273\n",
       "[31,] ⋮           ⋮           ⋮           ⋮          ⋮          ⋮          \n",
       "[32,]  1.55573491  0.89709499  1.92504787  1.1619179  1.5951688  1.03769164\n",
       "[33,]  0.51037221  0.89709499  0.93228180  1.6041237  2.0516943 -0.93660752\n",
       "[34,] -0.01230915 -0.01074275  0.43589876 -0.1646996  1.1386432  0.54411685\n",
       "[35,] -0.01230915 -0.91858048 -0.06048427 -1.0491112 -0.6874590 -0.93660752\n",
       "[36,]  0.51037221  0.59448241 -0.06048427 -0.6069054 -0.6874590  1.03769164\n",
       "[37,] -1.58035321 -2.12903079 -2.04601641 -2.3757286 -1.6005101 -0.93660752\n",
       "[38,] -0.53499050  0.29186983 -1.05325034  0.2775063 -0.6874590 -3.40448147\n",
       "[39,] -0.53499050  0.59448241 -0.06048427  0.2775063 -0.6874590 -0.44303273\n",
       "[40,]  0.51037221  1.19970757 -0.06048427  1.1619179  0.6821177 -1.92375710\n",
       "[41,]  1.03305356  0.59448241  2.42143090  0.7197121  3.8777966  0.05054206\n",
       "[42,] -1.05767185 -1.22119306 -1.05325034 -1.4913170 -0.6874590  0.05054206\n",
       "[43,]  1.03305356  1.50232014  0.43589876  0.7197121 -0.2309335 -0.44303273\n",
       "[44,] -0.53499050  0.59448241 -0.06048427  0.2775063 -0.2309335  0.05054206\n",
       "[45,]  1.55573491  0.89709499 -0.06048427 -0.1646996 -0.6874590 -0.44303273\n",
       "[46,] -1.05767185 -2.12903079 -1.54963338 -1.9335228 -1.1439846  0.54411685\n",
       "[47,]  0.51037221 -0.31335532  1.42866483 -0.6069054  0.6821177  1.03769164\n",
       "[48,]  2.60109762  2.41015788  0.43589876  1.1619179  0.6821177 -0.93660752\n",
       "[49,] -0.53499050 -0.01074275 -1.05325034 -0.1646996 -1.1439846 -3.40448147\n",
       "[50,]  1.03305356  0.59448241  1.42866483  1.1619179  2.0516943  0.05054206\n",
       "[51,] -1.05767185 -1.82641822 -1.05325034 -1.4913170 -1.1439846 -1.43018231\n",
       "[52,] -0.53499050  0.29186983 -0.06048427  0.2775063  0.6821177  2.02484121\n",
       "[53,] -0.01230915 -1.22119306 -0.06048427 -0.6069054 -0.6874590  0.05054206\n",
       "[54,] -0.01230915  0.59448241 -0.06048427  0.2775063 -0.2309335 -0.93660752\n",
       "[55,] -1.05767185  1.19970757 -1.05325034  1.1619179 -0.6874590  3.99914037\n",
       "[56,]  0.51037221  0.29186983  0.93228180  0.7197121  1.5951688  0.05054206\n",
       "[57,] -1.05767185 -1.52380564 -1.05325034 -1.0491112 -0.6874590  0.05054206\n",
       "[58,]  1.55573491  0.89709499  1.42866483  1.1619179  0.2255921 -1.43018231\n",
       "[59,]  1.03305356  0.59448241  0.43589876  0.7197121  0.6821177 -0.44303273\n",
       "[60,] -1.05767185 -1.22119306 -0.55686731 -1.4913170 -1.1439846  0.54411685\n",
       "[61,] -0.01230915  0.59448241  0.43589876  0.2775063 -0.6874590  1.03769164\n",
       "      Ybar       X2bar      Y2bar       XYbar      X2Ybar     XY2bar     \n",
       " [1,]  2.3650380 -1.7143167  0.34498576 -0.9170476  1.3477406  0.03412446\n",
       " [2,] -1.0752987  0.1375572 -0.49505993  1.8959203 -1.3127738  0.51475066\n",
       " [3,] -0.6452567 -0.9735671  0.34498576  0.6903626 -1.3127738 -0.44650174\n",
       " [4,]  0.6448696 -0.2328176  0.34498576 -1.7207527 -0.9327003  0.99537685\n",
       " [5,] -0.6452567  0.5079320  0.34498576 -0.9170476 -0.5526268  0.51475066\n",
       " [6,]  0.2148275  0.5079320  1.60505430 -1.3189002 -0.1725534 -0.92712793\n",
       " [7,] -0.2152146  0.5079320  0.34498576 -0.5151951 -0.1725534 -0.92712793\n",
       " [8,] -2.3654250 -0.9735671 -1.33510562 -0.1133425 -1.6928473  0.03412446\n",
       " [9,] -0.6452567 -0.9735671  0.34498576  1.4940677 -0.9327003  0.03412446\n",
       "[10,] -2.3654250  0.5079320 -1.33510562  1.4940677 -2.0729208  0.51475066\n",
       "[11,] -0.2152146 -0.6031924  1.18503145 -1.3189002 -0.1725534  0.03412446\n",
       "[12,] -0.2152146  0.5079320 -0.91508277  0.6903626  0.2075201  0.51475066\n",
       "[13,]  0.2148275  0.5079320 -1.33510562 -0.9170476 -0.5526268  1.47600305\n",
       "[14,]  0.2148275  0.5079320 -0.07503708 -0.5151951 -0.5526268  0.03412446\n",
       "[15,]  1.5049538  0.8783067 -0.91508277 -0.5151951 -1.3127738  0.51475066\n",
       "[16,] -0.6452567 -0.6031924 -0.07503708  0.6903626 -0.5526268 -0.44650174\n",
       "[17,] -0.2152146  0.8783067 -0.07503708 -0.5151951 -0.1725534  0.03412446\n",
       "[18,]  0.2148275  0.5079320  1.18503145  1.0922151  0.2075201  1.47600305\n",
       "[19,]  1.5049538  0.1375572  0.34498576  1.0922151  0.9676671 -1.88838033\n",
       "[20,] -0.6452567 -0.6031924  0.34498576  1.4940677 -0.9327003  0.51475066\n",
       "[21,]  0.2148275 -0.9735671 -0.07503708  2.2977728 -0.5526268  0.03412446\n",
       "[22,] -0.2152146  0.5079320  0.34498576 -0.5151951 -0.1725534  0.03412446\n",
       "[23,]  0.2148275  0.8783067 -0.07503708 -0.5151951 -0.5526268 -0.44650174\n",
       "[24,] -0.6452567  1.6190563  0.34498576 -0.5151951 -0.5526268  0.51475066\n",
       "[25,] -0.6452567 -0.2328176 -0.49505993  2.2977728  0.5875936  1.95662925\n",
       "[26,]  0.2148275  0.8783067  2.44509999 -1.7207527  0.2075201  2.91788164\n",
       "[27,]  0.2148275 -0.2328176 -0.07503708  0.6903626  1.7278141  0.99537685\n",
       "[28,]  1.0749117 -0.2328176 -0.91508277 -1.3189002  1.3477406 -0.44650174\n",
       "[29,] -0.6452567  0.5079320  0.76500861 -0.5151951  0.2075201  0.51475066\n",
       "[30,] -0.6452567  0.1375572 -0.07503708 -0.9170476 -0.1725534  0.51475066\n",
       "[31,] ⋮          ⋮          ⋮           ⋮          ⋮          ⋮          \n",
       "[32,] -0.2152146 -0.9735671  0.34498576  1.4940677 -0.9327003 -0.92712793\n",
       "[33,] -0.6452567 -0.2328176 -0.49505993 -0.5151951 -0.1725534  1.47600305\n",
       "[34,] -0.6452567 -0.2328176 -1.33510562 -0.5151951  0.5875936  0.03412446\n",
       "[35,]  1.9349959 -0.9735671  1.18503145  1.0922151  0.9676671 -1.88838033\n",
       "[36,]  1.5049538  0.1375572 -0.91508277 -1.3189002 -0.1725534  0.51475066\n",
       "[37,]  0.2148275  0.1375572  0.76500861 -0.5151951 -0.1725534  1.95662925\n",
       "[38,] -2.3654250 -0.2328176  0.34498576 -2.9263104 -2.4529943  0.03412446\n",
       "[39,] -1.0752987 -0.6031924 -1.75512846 -0.9170476 -2.0729208  0.03412446\n",
       "[40,]  0.2148275  0.8783067 -0.91508277 -0.9170476 -0.9327003  1.47600305\n",
       "[41,] -1.0752987 -0.6031924 -1.33510562 -0.5151951 -0.5526268  0.03412446\n",
       "[42,] -0.2152146  0.1375572 -0.07503708 -0.5151951 -0.5526268 -0.92712793\n",
       "[43,]  0.2148275 -0.6031924  0.34498576  1.8959203  0.2075201 -0.44650174\n",
       "[44,]  0.6448696 -1.3439419  0.34498576 -0.9170476  1.7278141  0.03412446\n",
       "[45,]  1.5049538  0.1375572 -0.49505993  1.0922151  0.9676671 -1.88838033\n",
       "[46,] -0.2152146 -0.2328176  0.34498576 -1.3189002 -0.1725534  0.03412446\n",
       "[47,] -0.6452567 -0.9735671 -0.49505993  0.2885100 -0.5526268 -0.44650174\n",
       "[48,] -0.2152146  0.8783067 -0.49505993  0.6903626  0.2075201  0.99537685\n",
       "[49,] -2.7954671  0.5079320  0.34498576 -3.3281629 -2.4529943 -0.92712793\n",
       "[50,] -0.6452567  0.1375572  0.76500861 -0.5151951 -0.5526268  0.51475066\n",
       "[51,]  1.0749117 -0.6031924 -0.07503708  0.6903626  0.5875936 -1.40775413\n",
       "[52,]  1.5049538 -0.9735671 -1.33510562 -1.3189002  0.5875936 -0.44650174\n",
       "[53,] -0.6452567  1.2486815  1.18503145 -0.9170476 -0.5526268 -0.44650174\n",
       "[54,]  0.6448696 -0.9735671  2.02507714  0.6903626  0.5875936  0.51475066\n",
       "[55,] -1.5053408 -0.2328176 -0.07503708  1.8959203 -2.0729208  0.03412446\n",
       "[56,]  0.6448696 -0.2328176  1.18503145 -0.5151951  0.2075201  0.03412446\n",
       "[57,] -0.2152146  0.8783067  0.34498576 -0.9170476 -0.1725534 -1.88838033\n",
       "[58,]  0.2148275  0.5079320  1.60505430  1.4940677  0.9676671  2.43725544\n",
       "[59,]  1.5049538 -0.6031924  0.76500861  1.0922151  0.9676671 -1.40775413\n",
       "[60,] -0.2152146 -0.9735671  0.34498576  0.6903626 -0.1725534  0.03412446\n",
       "[61,] -1.0752987 -0.6031924 -1.75512846 -0.1133425 -2.0729208  0.03412446\n",
       "      Xedge       XedgeXY    Yedge      YedgeYX   \n",
       " [1,] -1.30591496 -0.2190762 -1.4381167  0.1229080\n",
       " [2,] -0.44848089 -0.2190762  0.1200784  1.3594069\n",
       " [3,] -0.01976386 -0.8656046 -0.2694704  0.7411575\n",
       " [4,]  1.26638725  1.0739807 -0.6590192  0.1229080\n",
       " [5,] -0.87719793 -0.8656046  0.5096272  1.3594069\n",
       " [6,] -1.30591496 -0.2190762  2.0678224 -0.4953415\n",
       " [7,] -0.44848089 -0.2190762  1.2887248  1.3594069\n",
       " [8,] -0.87719793 -1.5121330 -0.6590192 -0.4953415\n",
       " [9,] -0.87719793 -1.5121330 -1.0485680 -0.4953415\n",
       "[10,]  2.12382132 -4.7447750 -1.0485680  0.1229080\n",
       "[11,] -0.44848089 -0.2190762  0.8991760 -0.4953415\n",
       "[12,]  0.83767022  0.4274523  0.5096272  0.1229080\n",
       "[13,]  0.40895318 -0.2190762  1.2887248  0.1229080\n",
       "[14,]  2.12382132  0.4274523  1.6782736 -1.1135909\n",
       "[15,] -0.44848089 -0.8656046  0.5096272  1.9776564\n",
       "[16,] -0.01976386  0.4274523  0.8991760  0.7411575\n",
       "[17,] -0.44848089 -0.2190762 -0.2694704  0.1229080\n",
       "[18,] -0.44848089 -0.2190762  0.5096272  0.7411575\n",
       "[19,] -0.01976386  2.3670375 -0.6590192 -2.3500899\n",
       "[20,] -1.30591496 -0.8656046 -1.0485680 -0.4953415\n",
       "[21,] -1.30591496 -0.8656046 -1.4381167 -0.4953415\n",
       "[22,] -0.01976386 -0.2190762 -0.2694704  0.1229080\n",
       "[23,] -0.44848089 -0.2190762  2.0678224  0.1229080\n",
       "[24,]  0.40895318 -0.2190762  0.5096272 -1.7318404\n",
       "[25,] -0.87719793 -1.5121330 -1.0485680 -1.1135909\n",
       "[26,] -0.87719793 -0.8656046  0.1200784  0.1229080\n",
       "[27,]  2.98125540  0.4274523  0.5096272 -0.4953415\n",
       "[28,]  2.98125540  2.3670375 -0.6590192 -1.1135909\n",
       "[29,]  1.26638725 -0.2190762  0.1200784  0.1229080\n",
       "[30,] -0.44848089 -0.2190762  0.1200784  0.1229080\n",
       "[31,] ⋮           ⋮          ⋮          ⋮         \n",
       "[32,]  0.83767022  0.4274523  0.1200784  0.7411575\n",
       "[33,]  0.83767022  1.7205091  1.6782736  1.3594069\n",
       "[34,]  1.69510429  0.4274523  0.1200784 -1.1135909\n",
       "[35,] -1.30591496  1.0739807 -0.6590192 -2.3500899\n",
       "[36,]  0.83767022  1.7205091 -0.6590192 -1.1135909\n",
       "[37,] -1.30591496 -0.2190762  0.8991760  1.3594069\n",
       "[38,] -1.30591496 -0.2190762 -1.4381167  0.1229080\n",
       "[39,] -0.44848089 -0.8656046 -0.6590192 -0.4953415\n",
       "[40,] -0.01976386 -0.2190762 -0.6590192  1.9776564\n",
       "[41,]  5.12484057 -0.8656046  0.1200784 -1.1135909\n",
       "[42,] -0.44848089 -0.8656046  0.1200784  0.1229080\n",
       "[43,] -0.44848089  0.4274523 -0.2694704 -0.4953415\n",
       "[44,] -0.44848089  1.7205091 -0.6590192 -0.4953415\n",
       "[45,]  0.40895318  1.7205091 -0.2694704  1.3594069\n",
       "[46,] -1.30591496 -0.2190762  1.2887248  0.1229080\n",
       "[47,]  2.12382132 -1.5121330 -0.6590192  0.1229080\n",
       "[48,]  0.83767022  0.4274523  0.5096272  0.1229080\n",
       "[49,] -1.30591496 -0.2190762 -1.4381167  0.1229080\n",
       "[50,]  1.26638725 -2.1586614  2.4573711 -2.9683393\n",
       "[51,] -1.30591496  0.4274523 -0.2694704 -0.4953415\n",
       "[52,]  1.69510429  2.3670375 -1.0485680 -0.4953415\n",
       "[53,] -0.01976386 -0.2190762  0.1200784  0.1229080\n",
       "[54,] -0.44848089 -0.2190762  0.5096272 -1.7318404\n",
       "[55,] -1.30591496 -0.8656046 -1.4381167  0.1229080\n",
       "[56,] -0.01976386  1.0739807  1.6782736 -1.1135909\n",
       "[57,] -0.44848089 -0.2190762 -0.2694704 -0.4953415\n",
       "[58,] -0.44848089  0.4274523 -0.2694704 -0.4953415\n",
       "[59,] -0.44848089  2.3670375 -0.6590192 -2.3500899\n",
       "[60,] -0.87719793  0.4274523  0.5096272  0.1229080\n",
       "[61,] -0.44848089 -0.8656046 -0.6590192  0.1229080"
      ]
     },
     "metadata": {},
     "output_type": "display_data"
    }
   ],
   "source": [
    "mtx <- scale(letters[-which(names(letters) == \"Letter\")])\n",
    "mtx"
   ]
  },
  {
   "cell_type": "code",
   "execution_count": 67,
   "metadata": {
    "collapsed": false
   },
   "outputs": [
    {
     "data": {
      "text/html": [
       "<table>\n",
       "<thead><tr><th></th><th scope=col>Xbox</th><th scope=col>Ybox</th><th scope=col>Width</th><th scope=col>Height</th><th scope=col>OnPix</th><th scope=col>Xbar</th><th scope=col>Ybar</th><th scope=col>X2bar</th><th scope=col>Y2bar</th><th scope=col>XYbar</th><th scope=col>X2Ybar</th><th scope=col>XY2bar</th><th scope=col>Xedge</th><th scope=col>XedgeXY</th><th scope=col>Yedge</th><th scope=col>YedgeYX</th></tr></thead>\n",
       "<tbody>\n",
       "\t<tr><th scope=row>Xbox</th><td>19999.0000 </td><td>15155.09815</td><td>17029.4284 </td><td>13454.6007 </td><td>12381.3185 </td><td> -651.8619 </td><td>  910.8530 </td><td>  286.1094 </td><td> 1041.6767 </td><td> 2960.9781 </td><td>  709.2396 </td><td> -926.6190 </td><td> 9782.60557</td><td> 1963.49942</td><td> 5469.8139 </td><td>-2102.8386 </td></tr>\n",
       "\t<tr><th scope=row>Ybox</th><td>15155.0982 </td><td>19999.00000</td><td>13437.5656 </td><td>16463.3180 </td><td>11100.7759 </td><td>  913.7521 </td><td> -818.4678 </td><td> -500.3597 </td><td> 1929.4618 </td><td> 3198.9268 </td><td>-1092.9118 </td><td> -151.3471 </td><td> 5488.35142</td><td>  -26.72224</td><td> 4617.4354 </td><td> -854.7868 </td></tr>\n",
       "\t<tr><th scope=row>Width</th><td>17029.4284 </td><td>13437.56560</td><td>19999.0000 </td><td>13203.6469 </td><td>15313.5567 </td><td> 1239.1103 </td><td>  496.6071 </td><td>-1972.1162 </td><td> 1141.4177 </td><td> 2300.2492 </td><td>  233.8658 </td><td> -900.1359 </td><td>11144.46144</td><td>  913.10514</td><td> 5205.4365 </td><td>-2365.3510 </td></tr>\n",
       "\t<tr><th scope=row>Height</th><td>13454.6007 </td><td>16463.31802</td><td>13203.6469 </td><td>19999.0000 </td><td>12886.6811 </td><td>  856.8467 </td><td> -401.4146 </td><td> 1647.5734 </td><td> 1180.5853 </td><td>  249.1393 </td><td> -239.8110 </td><td>  527.7004 </td><td> 5304.59499</td><td>  507.15738</td><td> 5950.6016 </td><td> -377.0476 </td></tr>\n",
       "\t<tr><th scope=row>OnPix</th><td>12381.3185 </td><td>11100.77595</td><td>15313.5567 </td><td>12886.6811 </td><td>19999.0000 </td><td> 2783.0404 </td><td> -576.4211 </td><td> -239.6866 </td><td>-1311.0798 </td><td>-1395.4577 </td><td>-1458.7464 </td><td> -777.1117 </td><td>12549.50753</td><td>  352.96453</td><td> 9852.5577 </td><td>-1259.3114 </td></tr>\n",
       "\t<tr><th scope=row>Xbar</th><td> -651.8619 </td><td>  913.75213</td><td> 1239.1103 </td><td>  856.8467 </td><td> 2783.0404 </td><td>19999.0000 </td><td>-7131.2465 </td><td>-1066.0661 </td><td>-2456.8885 </td><td> 1719.1766 </td><td>-6838.8034 </td><td> -642.2648 </td><td> 2886.36483</td><td>-5066.52268</td><td> 2541.0027 </td><td> 4976.0759 </td></tr>\n",
       "\t<tr><th scope=row>Ybar</th><td>  910.8530 </td><td> -818.46780</td><td>  496.6071 </td><td> -401.4146 </td><td> -576.4211 </td><td>-7131.2465 </td><td>19999.0000 </td><td>-2372.3725 </td><td> -993.1095 </td><td> 3566.1730 </td><td>12007.3367 </td><td>-5432.7013 </td><td> -734.40775</td><td>11100.64985</td><td>-1560.0899 </td><td>-4157.7826 </td></tr>\n",
       "\t<tr><th scope=row>X2bar</th><td>  286.1094 </td><td> -500.35971</td><td>-1972.1162 </td><td> 1647.5734 </td><td> -239.6866 </td><td>-1066.0661 </td><td>-2372.3725 </td><td>19999.0000 </td><td>-3768.4257 </td><td>-6355.2893 </td><td>  850.8556 </td><td> 1640.3099 </td><td> 2842.49617</td><td>-1696.32449</td><td>  130.9071 </td><td> 3657.8624 </td></tr>\n",
       "\t<tr><th scope=row>Y2bar</th><td> 1041.6767 </td><td> 1929.46184</td><td> 1141.4177 </td><td> 1180.5853 </td><td>-1311.0798 </td><td>-2456.8885 </td><td> -993.1095 </td><td>-3768.4257 </td><td>19999.0000 </td><td> 2639.8724 </td><td>-1202.2681 </td><td> 2380.8378 </td><td>-7679.97471</td><td>-1050.84597</td><td> 5550.5223 </td><td>-1226.6420 </td></tr>\n",
       "\t<tr><th scope=row>XYbar</th><td> 2960.9781 </td><td> 3198.92682</td><td> 2300.2492 </td><td>  249.1393 </td><td>-1395.4577 </td><td> 1719.1766 </td><td> 3566.1730 </td><td>-6355.2893 </td><td> 2639.8724 </td><td>19999.0000 </td><td> 1159.7033 </td><td>-2135.0736 </td><td>-3513.33579</td><td>  588.34994</td><td>-1740.2936 </td><td>-2284.3459 </td></tr>\n",
       "\t<tr><th scope=row>X2Ybar</th><td>  709.2396 </td><td>-1092.91180</td><td>  233.8658 </td><td> -239.8110 </td><td>-1458.7464 </td><td>-6838.8034 </td><td>12007.3367 </td><td>  850.8556 </td><td>-1202.2681 </td><td> 1159.7033 </td><td>19999.0000 </td><td> 1264.2233 </td><td> 1071.26084</td><td>10544.26109</td><td>-4524.7884 </td><td>-4730.1276 </td></tr>\n",
       "\t<tr><th scope=row>XY2bar</th><td> -926.6190 </td><td> -151.34709</td><td> -900.1359 </td><td>  527.7004 </td><td> -777.1117 </td><td> -642.2648 </td><td>-5432.7013 </td><td> 1640.3099 </td><td> 2380.8378 </td><td>-2135.0736 </td><td> 1264.2233 </td><td>19999.0000 </td><td> -175.04955</td><td>-3698.35763</td><td>  993.8561 </td><td> 4915.9102 </td></tr>\n",
       "\t<tr><th scope=row>Xedge</th><td> 9782.6056 </td><td> 5488.35142</td><td>11144.4614 </td><td> 5304.5950 </td><td>12549.5075 </td><td> 2886.3648 </td><td> -734.4077 </td><td> 2842.4962 </td><td>-7679.9747 </td><td>-3513.3358 </td><td> 1071.2608 </td><td> -175.0495 </td><td>19999.00000</td><td>   56.98228</td><td> 2168.1090 </td><td> -995.7304 </td></tr>\n",
       "\t<tr><th scope=row>XedgeXY</th><td> 1963.4994 </td><td>  -26.72224</td><td>  913.1051 </td><td>  507.1574 </td><td>  352.9645 </td><td>-5066.5227 </td><td>11100.6499 </td><td>-1696.3245 </td><td>-1050.8460 </td><td>  588.3499 </td><td>10544.2611 </td><td>-3698.3576 </td><td>   56.98228</td><td>19999.00000</td><td>-1287.9806 </td><td>-3751.6260 </td></tr>\n",
       "\t<tr><th scope=row>Yedge</th><td> 5469.8139 </td><td> 4617.43538</td><td> 5205.4365 </td><td> 5950.6016 </td><td> 9852.5577 </td><td> 2541.0027 </td><td>-1560.0899 </td><td>  130.9071 </td><td> 5550.5223 </td><td>-1740.2936 </td><td>-4524.7884 </td><td>  993.8561 </td><td> 2168.10900</td><td>-1287.98062</td><td>19999.0000 </td><td> 2871.6113 </td></tr>\n",
       "\t<tr><th scope=row>YedgeYX</th><td>-2102.8386 </td><td> -854.78682</td><td>-2365.3510 </td><td> -377.0476 </td><td>-1259.3114 </td><td> 4976.0759 </td><td>-4157.7826 </td><td> 3657.8624 </td><td>-1226.6420 </td><td>-2284.3459 </td><td>-4730.1276 </td><td> 4915.9102 </td><td> -995.73036</td><td>-3751.62597</td><td> 2871.6113 </td><td>19999.0000 </td></tr>\n",
       "</tbody>\n",
       "</table>\n"
      ],
      "text/latex": [
       "\\begin{tabular}{r|llllllllllllllll}\n",
       "  & Xbox & Ybox & Width & Height & OnPix & Xbar & Ybar & X2bar & Y2bar & XYbar & X2Ybar & XY2bar & Xedge & XedgeXY & Yedge & YedgeYX\\\\\n",
       "\\hline\n",
       "\tXbox & 19999.0000  & 15155.09815 & 17029.4284  & 13454.6007  & 12381.3185  &  -651.8619  &   910.8530  &   286.1094  &  1041.6767  &  2960.9781  &   709.2396  &  -926.6190  &  9782.60557 &  1963.49942 &  5469.8139  & -2102.8386 \\\\\n",
       "\tYbox & 15155.0982  & 19999.00000 & 13437.5656  & 16463.3180  & 11100.7759  &   913.7521  &  -818.4678  &  -500.3597  &  1929.4618  &  3198.9268  & -1092.9118  &  -151.3471  &  5488.35142 &   -26.72224 &  4617.4354  &  -854.7868 \\\\\n",
       "\tWidth & 17029.4284  & 13437.56560 & 19999.0000  & 13203.6469  & 15313.5567  &  1239.1103  &   496.6071  & -1972.1162  &  1141.4177  &  2300.2492  &   233.8658  &  -900.1359  & 11144.46144 &   913.10514 &  5205.4365  & -2365.3510 \\\\\n",
       "\tHeight & 13454.6007  & 16463.31802 & 13203.6469  & 19999.0000  & 12886.6811  &   856.8467  &  -401.4146  &  1647.5734  &  1180.5853  &   249.1393  &  -239.8110  &   527.7004  &  5304.59499 &   507.15738 &  5950.6016  &  -377.0476 \\\\\n",
       "\tOnPix & 12381.3185  & 11100.77595 & 15313.5567  & 12886.6811  & 19999.0000  &  2783.0404  &  -576.4211  &  -239.6866  & -1311.0798  & -1395.4577  & -1458.7464  &  -777.1117  & 12549.50753 &   352.96453 &  9852.5577  & -1259.3114 \\\\\n",
       "\tXbar &  -651.8619  &   913.75213 &  1239.1103  &   856.8467  &  2783.0404  & 19999.0000  & -7131.2465  & -1066.0661  & -2456.8885  &  1719.1766  & -6838.8034  &  -642.2648  &  2886.36483 & -5066.52268 &  2541.0027  &  4976.0759 \\\\\n",
       "\tYbar &   910.8530  &  -818.46780 &   496.6071  &  -401.4146  &  -576.4211  & -7131.2465  & 19999.0000  & -2372.3725  &  -993.1095  &  3566.1730  & 12007.3367  & -5432.7013  &  -734.40775 & 11100.64985 & -1560.0899  & -4157.7826 \\\\\n",
       "\tX2bar &   286.1094  &  -500.35971 & -1972.1162  &  1647.5734  &  -239.6866  & -1066.0661  & -2372.3725  & 19999.0000  & -3768.4257  & -6355.2893  &   850.8556  &  1640.3099  &  2842.49617 & -1696.32449 &   130.9071  &  3657.8624 \\\\\n",
       "\tY2bar &  1041.6767  &  1929.46184 &  1141.4177  &  1180.5853  & -1311.0798  & -2456.8885  &  -993.1095  & -3768.4257  & 19999.0000  &  2639.8724  & -1202.2681  &  2380.8378  & -7679.97471 & -1050.84597 &  5550.5223  & -1226.6420 \\\\\n",
       "\tXYbar &  2960.9781  &  3198.92682 &  2300.2492  &   249.1393  & -1395.4577  &  1719.1766  &  3566.1730  & -6355.2893  &  2639.8724  & 19999.0000  &  1159.7033  & -2135.0736  & -3513.33579 &   588.34994 & -1740.2936  & -2284.3459 \\\\\n",
       "\tX2Ybar &   709.2396  & -1092.91180 &   233.8658  &  -239.8110  & -1458.7464  & -6838.8034  & 12007.3367  &   850.8556  & -1202.2681  &  1159.7033  & 19999.0000  &  1264.2233  &  1071.26084 & 10544.26109 & -4524.7884  & -4730.1276 \\\\\n",
       "\tXY2bar &  -926.6190  &  -151.34709 &  -900.1359  &   527.7004  &  -777.1117  &  -642.2648  & -5432.7013  &  1640.3099  &  2380.8378  & -2135.0736  &  1264.2233  & 19999.0000  &  -175.04955 & -3698.35763 &   993.8561  &  4915.9102 \\\\\n",
       "\tXedge &  9782.6056  &  5488.35142 & 11144.4614  &  5304.5950  & 12549.5075  &  2886.3648  &  -734.4077  &  2842.4962  & -7679.9747  & -3513.3358  &  1071.2608  &  -175.0495  & 19999.00000 &    56.98228 &  2168.1090  &  -995.7304 \\\\\n",
       "\tXedgeXY &  1963.4994  &   -26.72224 &   913.1051  &   507.1574  &   352.9645  & -5066.5227  & 11100.6499  & -1696.3245  & -1050.8460  &   588.3499  & 10544.2611  & -3698.3576  &    56.98228 & 19999.00000 & -1287.9806  & -3751.6260 \\\\\n",
       "\tYedge &  5469.8139  &  4617.43538 &  5205.4365  &  5950.6016  &  9852.5577  &  2541.0027  & -1560.0899  &   130.9071  &  5550.5223  & -1740.2936  & -4524.7884  &   993.8561  &  2168.10900 & -1287.98062 & 19999.0000  &  2871.6113 \\\\\n",
       "\tYedgeYX & -2102.8386  &  -854.78682 & -2365.3510  &  -377.0476  & -1259.3114  &  4976.0759  & -4157.7826  &  3657.8624  & -1226.6420  & -2284.3459  & -4730.1276  &  4915.9102  &  -995.73036 & -3751.62597 &  2871.6113  & 19999.0000 \\\\\n",
       "\\end{tabular}\n"
      ],
      "text/markdown": [
       "\n",
       "| <!--/--> | Xbox | Ybox | Width | Height | OnPix | Xbar | Ybar | X2bar | Y2bar | XYbar | X2Ybar | XY2bar | Xedge | XedgeXY | Yedge | YedgeYX | \n",
       "|---|---|---|---|---|---|---|---|---|---|---|---|---|---|---|---|\n",
       "| Xbox | 19999.0000  | 15155.09815 | 17029.4284  | 13454.6007  | 12381.3185  |  -651.8619  |   910.8530  |   286.1094  |  1041.6767  |  2960.9781  |   709.2396  |  -926.6190  |  9782.60557 |  1963.49942 |  5469.8139  | -2102.8386  | \n",
       "| Ybox | 15155.0982  | 19999.00000 | 13437.5656  | 16463.3180  | 11100.7759  |   913.7521  |  -818.4678  |  -500.3597  |  1929.4618  |  3198.9268  | -1092.9118  |  -151.3471  |  5488.35142 |   -26.72224 |  4617.4354  |  -854.7868  | \n",
       "| Width | 17029.4284  | 13437.56560 | 19999.0000  | 13203.6469  | 15313.5567  |  1239.1103  |   496.6071  | -1972.1162  |  1141.4177  |  2300.2492  |   233.8658  |  -900.1359  | 11144.46144 |   913.10514 |  5205.4365  | -2365.3510  | \n",
       "| Height | 13454.6007  | 16463.31802 | 13203.6469  | 19999.0000  | 12886.6811  |   856.8467  |  -401.4146  |  1647.5734  |  1180.5853  |   249.1393  |  -239.8110  |   527.7004  |  5304.59499 |   507.15738 |  5950.6016  |  -377.0476  | \n",
       "| OnPix | 12381.3185  | 11100.77595 | 15313.5567  | 12886.6811  | 19999.0000  |  2783.0404  |  -576.4211  |  -239.6866  | -1311.0798  | -1395.4577  | -1458.7464  |  -777.1117  | 12549.50753 |   352.96453 |  9852.5577  | -1259.3114  | \n",
       "| Xbar |  -651.8619  |   913.75213 |  1239.1103  |   856.8467  |  2783.0404  | 19999.0000  | -7131.2465  | -1066.0661  | -2456.8885  |  1719.1766  | -6838.8034  |  -642.2648  |  2886.36483 | -5066.52268 |  2541.0027  |  4976.0759  | \n",
       "| Ybar |   910.8530  |  -818.46780 |   496.6071  |  -401.4146  |  -576.4211  | -7131.2465  | 19999.0000  | -2372.3725  |  -993.1095  |  3566.1730  | 12007.3367  | -5432.7013  |  -734.40775 | 11100.64985 | -1560.0899  | -4157.7826  | \n",
       "| X2bar |   286.1094  |  -500.35971 | -1972.1162  |  1647.5734  |  -239.6866  | -1066.0661  | -2372.3725  | 19999.0000  | -3768.4257  | -6355.2893  |   850.8556  |  1640.3099  |  2842.49617 | -1696.32449 |   130.9071  |  3657.8624  | \n",
       "| Y2bar |  1041.6767  |  1929.46184 |  1141.4177  |  1180.5853  | -1311.0798  | -2456.8885  |  -993.1095  | -3768.4257  | 19999.0000  |  2639.8724  | -1202.2681  |  2380.8378  | -7679.97471 | -1050.84597 |  5550.5223  | -1226.6420  | \n",
       "| XYbar |  2960.9781  |  3198.92682 |  2300.2492  |   249.1393  | -1395.4577  |  1719.1766  |  3566.1730  | -6355.2893  |  2639.8724  | 19999.0000  |  1159.7033  | -2135.0736  | -3513.33579 |   588.34994 | -1740.2936  | -2284.3459  | \n",
       "| X2Ybar |   709.2396  | -1092.91180 |   233.8658  |  -239.8110  | -1458.7464  | -6838.8034  | 12007.3367  |   850.8556  | -1202.2681  |  1159.7033  | 19999.0000  |  1264.2233  |  1071.26084 | 10544.26109 | -4524.7884  | -4730.1276  | \n",
       "| XY2bar |  -926.6190  |  -151.34709 |  -900.1359  |   527.7004  |  -777.1117  |  -642.2648  | -5432.7013  |  1640.3099  |  2380.8378  | -2135.0736  |  1264.2233  | 19999.0000  |  -175.04955 | -3698.35763 |   993.8561  |  4915.9102  | \n",
       "| Xedge |  9782.6056  |  5488.35142 | 11144.4614  |  5304.5950  | 12549.5075  |  2886.3648  |  -734.4077  |  2842.4962  | -7679.9747  | -3513.3358  |  1071.2608  |  -175.0495  | 19999.00000 |    56.98228 |  2168.1090  |  -995.7304  | \n",
       "| XedgeXY |  1963.4994  |   -26.72224 |   913.1051  |   507.1574  |   352.9645  | -5066.5227  | 11100.6499  | -1696.3245  | -1050.8460  |   588.3499  | 10544.2611  | -3698.3576  |    56.98228 | 19999.00000 | -1287.9806  | -3751.6260  | \n",
       "| Yedge |  5469.8139  |  4617.43538 |  5205.4365  |  5950.6016  |  9852.5577  |  2541.0027  | -1560.0899  |   130.9071  |  5550.5223  | -1740.2936  | -4524.7884  |   993.8561  |  2168.10900 | -1287.98062 | 19999.0000  |  2871.6113  | \n",
       "| YedgeYX | -2102.8386  |  -854.78682 | -2365.3510  |  -377.0476  | -1259.3114  |  4976.0759  | -4157.7826  |  3657.8624  | -1226.6420  | -2284.3459  | -4730.1276  |  4915.9102  |  -995.73036 | -3751.62597 |  2871.6113  | 19999.0000  | \n",
       "\n",
       "\n"
      ],
      "text/plain": [
       "        Xbox       Ybox        Width      Height     OnPix      Xbar      \n",
       "Xbox    19999.0000 15155.09815 17029.4284 13454.6007 12381.3185  -651.8619\n",
       "Ybox    15155.0982 19999.00000 13437.5656 16463.3180 11100.7759   913.7521\n",
       "Width   17029.4284 13437.56560 19999.0000 13203.6469 15313.5567  1239.1103\n",
       "Height  13454.6007 16463.31802 13203.6469 19999.0000 12886.6811   856.8467\n",
       "OnPix   12381.3185 11100.77595 15313.5567 12886.6811 19999.0000  2783.0404\n",
       "Xbar     -651.8619   913.75213  1239.1103   856.8467  2783.0404 19999.0000\n",
       "Ybar      910.8530  -818.46780   496.6071  -401.4146  -576.4211 -7131.2465\n",
       "X2bar     286.1094  -500.35971 -1972.1162  1647.5734  -239.6866 -1066.0661\n",
       "Y2bar    1041.6767  1929.46184  1141.4177  1180.5853 -1311.0798 -2456.8885\n",
       "XYbar    2960.9781  3198.92682  2300.2492   249.1393 -1395.4577  1719.1766\n",
       "X2Ybar    709.2396 -1092.91180   233.8658  -239.8110 -1458.7464 -6838.8034\n",
       "XY2bar   -926.6190  -151.34709  -900.1359   527.7004  -777.1117  -642.2648\n",
       "Xedge    9782.6056  5488.35142 11144.4614  5304.5950 12549.5075  2886.3648\n",
       "XedgeXY  1963.4994   -26.72224   913.1051   507.1574   352.9645 -5066.5227\n",
       "Yedge    5469.8139  4617.43538  5205.4365  5950.6016  9852.5577  2541.0027\n",
       "YedgeYX -2102.8386  -854.78682 -2365.3510  -377.0476 -1259.3114  4976.0759\n",
       "        Ybar       X2bar      Y2bar      XYbar      X2Ybar     XY2bar    \n",
       "Xbox      910.8530   286.1094  1041.6767  2960.9781   709.2396  -926.6190\n",
       "Ybox     -818.4678  -500.3597  1929.4618  3198.9268 -1092.9118  -151.3471\n",
       "Width     496.6071 -1972.1162  1141.4177  2300.2492   233.8658  -900.1359\n",
       "Height   -401.4146  1647.5734  1180.5853   249.1393  -239.8110   527.7004\n",
       "OnPix    -576.4211  -239.6866 -1311.0798 -1395.4577 -1458.7464  -777.1117\n",
       "Xbar    -7131.2465 -1066.0661 -2456.8885  1719.1766 -6838.8034  -642.2648\n",
       "Ybar    19999.0000 -2372.3725  -993.1095  3566.1730 12007.3367 -5432.7013\n",
       "X2bar   -2372.3725 19999.0000 -3768.4257 -6355.2893   850.8556  1640.3099\n",
       "Y2bar    -993.1095 -3768.4257 19999.0000  2639.8724 -1202.2681  2380.8378\n",
       "XYbar    3566.1730 -6355.2893  2639.8724 19999.0000  1159.7033 -2135.0736\n",
       "X2Ybar  12007.3367   850.8556 -1202.2681  1159.7033 19999.0000  1264.2233\n",
       "XY2bar  -5432.7013  1640.3099  2380.8378 -2135.0736  1264.2233 19999.0000\n",
       "Xedge    -734.4077  2842.4962 -7679.9747 -3513.3358  1071.2608  -175.0495\n",
       "XedgeXY 11100.6499 -1696.3245 -1050.8460   588.3499 10544.2611 -3698.3576\n",
       "Yedge   -1560.0899   130.9071  5550.5223 -1740.2936 -4524.7884   993.8561\n",
       "YedgeYX -4157.7826  3657.8624 -1226.6420 -2284.3459 -4730.1276  4915.9102\n",
       "        Xedge       XedgeXY     Yedge      YedgeYX   \n",
       "Xbox     9782.60557  1963.49942  5469.8139 -2102.8386\n",
       "Ybox     5488.35142   -26.72224  4617.4354  -854.7868\n",
       "Width   11144.46144   913.10514  5205.4365 -2365.3510\n",
       "Height   5304.59499   507.15738  5950.6016  -377.0476\n",
       "OnPix   12549.50753   352.96453  9852.5577 -1259.3114\n",
       "Xbar     2886.36483 -5066.52268  2541.0027  4976.0759\n",
       "Ybar     -734.40775 11100.64985 -1560.0899 -4157.7826\n",
       "X2bar    2842.49617 -1696.32449   130.9071  3657.8624\n",
       "Y2bar   -7679.97471 -1050.84597  5550.5223 -1226.6420\n",
       "XYbar   -3513.33579   588.34994 -1740.2936 -2284.3459\n",
       "X2Ybar   1071.26084 10544.26109 -4524.7884 -4730.1276\n",
       "XY2bar   -175.04955 -3698.35763   993.8561  4915.9102\n",
       "Xedge   19999.00000    56.98228  2168.1090  -995.7304\n",
       "XedgeXY    56.98228 19999.00000 -1287.9806 -3751.6260\n",
       "Yedge    2168.10900 -1287.98062 19999.0000  2871.6113\n",
       "YedgeYX  -995.73036 -3751.62597  2871.6113 19999.0000"
      ]
     },
     "metadata": {},
     "output_type": "display_data"
    }
   ],
   "source": [
    "t(mtx) %*% mtx"
   ]
  },
  {
   "cell_type": "code",
   "execution_count": 107,
   "metadata": {
    "collapsed": false
   },
   "outputs": [],
   "source": [
    "r <- eigen(t(mtx) %*% mtx)"
   ]
  },
  {
   "cell_type": "code",
   "execution_count": 111,
   "metadata": {
    "collapsed": false
   },
   "outputs": [
    {
     "data": {
      "text/html": [
       "<ol class=list-inline>\n",
       "\t<li>85903.4064111854</li>\n",
       "\t<li>52506.2077819783</li>\n",
       "\t<li>34419.8096177597</li>\n",
       "\t<li>27380.6110533738</li>\n",
       "\t<li>21026.2280592763</li>\n",
       "\t<li>19600.3324767374</li>\n",
       "\t<li>17784.5560461956</li>\n",
       "\t<li>12516.6594011129</li>\n",
       "\t<li>11908.7296554222</li>\n",
       "\t<li>9837.22969826169</li>\n",
       "\t<li>8529.20612271084</li>\n",
       "\t<li>5323.77290021156</li>\n",
       "\t<li>5078.57249451241</li>\n",
       "\t<li>4290.52799965402</li>\n",
       "\t<li>2380.67469782725</li>\n",
       "\t<li>1497.47558378058</li>\n",
       "</ol>\n"
      ],
      "text/latex": [
       "\\begin{enumerate*}\n",
       "\\item 85903.4064111854\n",
       "\\item 52506.2077819783\n",
       "\\item 34419.8096177597\n",
       "\\item 27380.6110533738\n",
       "\\item 21026.2280592763\n",
       "\\item 19600.3324767374\n",
       "\\item 17784.5560461956\n",
       "\\item 12516.6594011129\n",
       "\\item 11908.7296554222\n",
       "\\item 9837.22969826169\n",
       "\\item 8529.20612271084\n",
       "\\item 5323.77290021156\n",
       "\\item 5078.57249451241\n",
       "\\item 4290.52799965402\n",
       "\\item 2380.67469782725\n",
       "\\item 1497.47558378058\n",
       "\\end{enumerate*}\n"
      ],
      "text/markdown": [
       "1. 85903.4064111854\n",
       "2. 52506.2077819783\n",
       "3. 34419.8096177597\n",
       "4. 27380.6110533738\n",
       "5. 21026.2280592763\n",
       "6. 19600.3324767374\n",
       "7. 17784.5560461956\n",
       "8. 12516.6594011129\n",
       "9. 11908.7296554222\n",
       "10. 9837.22969826169\n",
       "11. 8529.20612271084\n",
       "12. 5323.77290021156\n",
       "13. 5078.57249451241\n",
       "14. 4290.52799965402\n",
       "15. 2380.67469782725\n",
       "16. 1497.47558378058\n",
       "\n",
       "\n"
      ],
      "text/plain": [
       " [1] 85903.406 52506.208 34419.810 27380.611 21026.228 19600.332 17784.556\n",
       " [8] 12516.659 11908.730  9837.230  8529.206  5323.773  5078.572  4290.528\n",
       "[15]  2380.675  1497.476"
      ]
     },
     "metadata": {},
     "output_type": "display_data"
    }
   ],
   "source": [
    "r$values"
   ]
  },
  {
   "cell_type": "code",
   "execution_count": 75,
   "metadata": {
    "collapsed": false
   },
   "outputs": [
    {
     "data": {
      "text/html": [
       "<table>\n",
       "<tbody>\n",
       "\t<tr><td> 0.4272050265</td><td>-0.0840028152</td><td>-0.03776493  </td><td>-0.02207885  </td><td> 0.140038660 </td><td>-0.04076958  </td><td>-0.07340404  </td><td> 0.05887078  </td><td>-0.12659335  </td><td>-0.266568374 </td><td> 0.170693268 </td><td>-0.51413296  </td><td> 0.0217323519</td><td> 0.230772979 </td><td>-0.118369886 </td><td> 0.5745480477</td></tr>\n",
       "\t<tr><td> 0.3995204745</td><td>-0.0098194780</td><td>-0.14604714  </td><td>-0.05986916  </td><td> 0.238531158 </td><td>-0.02520207  </td><td>-0.27500991  </td><td>-0.22366371  </td><td> 0.08466771  </td><td> 0.140933136 </td><td>-0.031336397 </td><td>-0.23294843  </td><td>-0.0548739547</td><td>-0.462973832 </td><td> 0.541604946 </td><td>-0.1980282181</td></tr>\n",
       "\t<tr><td> 0.4376854301</td><td>-0.0557564739</td><td>-0.03215553  </td><td> 0.06230310  </td><td> 0.070946183 </td><td>-0.02910983  </td><td> 0.12490511  </td><td> 0.01861379  </td><td>-0.09573429  </td><td>-0.296475554 </td><td>-0.056206815 </td><td> 0.06643448  </td><td> 0.0939701087</td><td> 0.523363946 </td><td> 0.059537540 </td><td>-0.6226219141</td></tr>\n",
       "\t<tr><td> 0.3995260257</td><td>-0.0001011894</td><td>-0.05129260  </td><td>-0.15550723  </td><td> 0.123599904 </td><td>-0.00852268  </td><td>-0.27879350  </td><td>-0.24782553  </td><td> 0.20215980  </td><td> 0.316109121 </td><td>-0.156817794 </td><td> 0.26399387  </td><td>-0.0003098750</td><td>-0.020096594 </td><td>-0.650838005 </td><td> 0.0006399979</td></tr>\n",
       "\t<tr><td> 0.4166293504</td><td> 0.0351320417</td><td> 0.10028514  </td><td> 0.03658624  </td><td>-0.232528836 </td><td> 0.02491591  </td><td> 0.19846167  </td><td> 0.04756661  </td><td>-0.02931949  </td><td> 0.152203929 </td><td>-0.055028484 </td><td> 0.58093091  </td><td>-0.0110939448</td><td> 0.103339141 </td><td> 0.402438480 </td><td> 0.4244486752</td></tr>\n",
       "\t<tr><td> 0.0536929391</td><td> 0.3296011771</td><td>-0.01153427  </td><td> 0.41581966  </td><td>-0.050861391 </td><td> 0.41412676  </td><td> 0.01855311  </td><td> 0.07624517  </td><td> 0.65692582  </td><td>-0.087775531 </td><td>-0.186168338 </td><td>-0.15677541  </td><td> 0.1720747309</td><td> 0.061823851 </td><td> 0.023146966 </td><td> 0.0522949027</td></tr>\n",
       "\t<tr><td>-0.0129047398</td><td>-0.5088709224</td><td> 0.01949007  </td><td>-0.01862255  </td><td>-0.166577100 </td><td> 0.26460462  </td><td>-0.09259295  </td><td> 0.09567438  </td><td>-0.20317630  </td><td> 0.138616651 </td><td>-0.416977144 </td><td>-0.11263375  </td><td> 0.6107621545</td><td>-0.059519278 </td><td> 0.023771262 </td><td> 0.0218426405</td></tr>\n",
       "\t<tr><td> 0.0004164997</td><td> 0.1117711421</td><td> 0.45247107  </td><td>-0.31349895  </td><td> 0.059153481 </td><td>-0.10855924  </td><td>-0.52248466  </td><td> 0.53899225  </td><td> 0.18101549  </td><td>-0.081313278 </td><td> 0.125046249 </td><td> 0.10613068  </td><td> 0.1552631771</td><td> 0.049598804 </td><td> 0.098706328 </td><td>-0.0558560207</td></tr>\n",
       "\t<tr><td> 0.0083018581</td><td> 0.0185668586</td><td>-0.55072913  </td><td>-0.39401680  </td><td>-0.153760534 </td><td>-0.12385992  </td><td> 0.05653023  </td><td> 0.15325488  </td><td> 0.19097197  </td><td>-0.542333071 </td><td>-0.195737711 </td><td> 0.18424619  </td><td> 0.0798631193</td><td>-0.245061356 </td><td>-0.042109690 </td><td> 0.0656235670</td></tr>\n",
       "\t<tr><td> 0.0281275034</td><td>-0.1419425301</td><td>-0.44347409  </td><td> 0.31693438  </td><td> 0.358027371 </td><td> 0.28671900  </td><td>-0.09793647  </td><td> 0.51856975  </td><td>-0.16681117  </td><td> 0.135145354 </td><td> 0.275454156 </td><td> 0.22797298  </td><td>-0.0774720795</td><td>-0.086565224 </td><td>-0.072141790 </td><td>-0.0202526235</td></tr>\n",
       "\t<tr><td>-0.0238771750</td><td>-0.4721090010</td><td> 0.16861986  </td><td>-0.20760469  </td><td> 0.172281417 </td><td> 0.20461981  </td><td> 0.15710178  </td><td> 0.17607963  </td><td> 0.26324593  </td><td>-0.004478586 </td><td>-0.349696646 </td><td>-0.07225075  </td><td>-0.6081434254</td><td> 0.091312539 </td><td> 0.049458149 </td><td> 0.0180704794</td></tr>\n",
       "\t<tr><td>-0.0162322312</td><td> 0.1833005421</td><td> 0.03158564  </td><td>-0.49633951  </td><td> 0.455079538 </td><td> 0.20135370  </td><td> 0.52705359  </td><td> 0.02035962  </td><td> 0.08778212  </td><td> 0.215371259 </td><td> 0.159251711 </td><td>-0.04381284  </td><td> 0.3316289921</td><td> 0.023772979 </td><td> 0.031219488 </td><td> 0.0075769398</td></tr>\n",
       "\t<tr><td> 0.2892890773</td><td> 0.0131873584</td><td> 0.43122069  </td><td> 0.20488513  </td><td>-0.009897636 </td><td>-0.01611790  </td><td> 0.35131361  </td><td> 0.19628090  </td><td>-0.13621261  </td><td>-0.250458085 </td><td>-0.007810576 </td><td> 0.00107726  </td><td>-0.0007042368</td><td>-0.596940840 </td><td>-0.275567068 </td><td>-0.1108249056</td></tr>\n",
       "\t<tr><td> 0.0131043153</td><td>-0.4565777317</td><td> 0.08463474  </td><td>-0.07105430  </td><td>-0.206524359 </td><td> 0.28665301  </td><td>-0.03069067  </td><td>-0.29023583  </td><td> 0.29133423  </td><td>-0.193058906 </td><td> 0.645533466 </td><td> 0.13047900  </td><td> 0.0765116282</td><td>-0.066153645 </td><td>-0.004827104 </td><td>-0.0548912860</td></tr>\n",
       "\t<tr><td> 0.2077721934</td><td> 0.1651683982</td><td>-0.15600561  </td><td>-0.25730878  </td><td>-0.618550700 </td><td> 0.19640438  </td><td> 0.08613338  </td><td> 0.28840562  </td><td>-0.06309719  </td><td> 0.349808600 </td><td> 0.154960614 </td><td>-0.31407875  </td><td>-0.1903257105</td><td>-0.009130817 </td><td>-0.079708156 </td><td>-0.1885787404</td></tr>\n",
       "\t<tr><td>-0.0365672255</td><td> 0.3090769665</td><td> 0.10688699  </td><td>-0.19133062  </td><td> 0.036314491 </td><td> 0.66475118  </td><td>-0.23942340  </td><td>-0.21735142  </td><td>-0.41424912  </td><td>-0.288787298 </td><td>-0.110964750 </td><td> 0.11205902  </td><td>-0.1629158309</td><td>-0.018216312 </td><td> 0.002229603 </td><td> 0.0239739376</td></tr>\n",
       "</tbody>\n",
       "</table>\n"
      ],
      "text/latex": [
       "\\begin{tabular}{llllllllllllllll}\n",
       "\t  0.4272050265 & -0.0840028152 & -0.03776493   & -0.02207885   &  0.140038660  & -0.04076958   & -0.07340404   &  0.05887078   & -0.12659335   & -0.266568374  &  0.170693268  & -0.51413296   &  0.0217323519 &  0.230772979  & -0.118369886  &  0.5745480477\\\\\n",
       "\t  0.3995204745 & -0.0098194780 & -0.14604714   & -0.05986916   &  0.238531158  & -0.02520207   & -0.27500991   & -0.22366371   &  0.08466771   &  0.140933136  & -0.031336397  & -0.23294843   & -0.0548739547 & -0.462973832  &  0.541604946  & -0.1980282181\\\\\n",
       "\t  0.4376854301 & -0.0557564739 & -0.03215553   &  0.06230310   &  0.070946183  & -0.02910983   &  0.12490511   &  0.01861379   & -0.09573429   & -0.296475554  & -0.056206815  &  0.06643448   &  0.0939701087 &  0.523363946  &  0.059537540  & -0.6226219141\\\\\n",
       "\t  0.3995260257 & -0.0001011894 & -0.05129260   & -0.15550723   &  0.123599904  & -0.00852268   & -0.27879350   & -0.24782553   &  0.20215980   &  0.316109121  & -0.156817794  &  0.26399387   & -0.0003098750 & -0.020096594  & -0.650838005  &  0.0006399979\\\\\n",
       "\t  0.4166293504 &  0.0351320417 &  0.10028514   &  0.03658624   & -0.232528836  &  0.02491591   &  0.19846167   &  0.04756661   & -0.02931949   &  0.152203929  & -0.055028484  &  0.58093091   & -0.0110939448 &  0.103339141  &  0.402438480  &  0.4244486752\\\\\n",
       "\t  0.0536929391 &  0.3296011771 & -0.01153427   &  0.41581966   & -0.050861391  &  0.41412676   &  0.01855311   &  0.07624517   &  0.65692582   & -0.087775531  & -0.186168338  & -0.15677541   &  0.1720747309 &  0.061823851  &  0.023146966  &  0.0522949027\\\\\n",
       "\t -0.0129047398 & -0.5088709224 &  0.01949007   & -0.01862255   & -0.166577100  &  0.26460462   & -0.09259295   &  0.09567438   & -0.20317630   &  0.138616651  & -0.416977144  & -0.11263375   &  0.6107621545 & -0.059519278  &  0.023771262  &  0.0218426405\\\\\n",
       "\t  0.0004164997 &  0.1117711421 &  0.45247107   & -0.31349895   &  0.059153481  & -0.10855924   & -0.52248466   &  0.53899225   &  0.18101549   & -0.081313278  &  0.125046249  &  0.10613068   &  0.1552631771 &  0.049598804  &  0.098706328  & -0.0558560207\\\\\n",
       "\t  0.0083018581 &  0.0185668586 & -0.55072913   & -0.39401680   & -0.153760534  & -0.12385992   &  0.05653023   &  0.15325488   &  0.19097197   & -0.542333071  & -0.195737711  &  0.18424619   &  0.0798631193 & -0.245061356  & -0.042109690  &  0.0656235670\\\\\n",
       "\t  0.0281275034 & -0.1419425301 & -0.44347409   &  0.31693438   &  0.358027371  &  0.28671900   & -0.09793647   &  0.51856975   & -0.16681117   &  0.135145354  &  0.275454156  &  0.22797298   & -0.0774720795 & -0.086565224  & -0.072141790  & -0.0202526235\\\\\n",
       "\t -0.0238771750 & -0.4721090010 &  0.16861986   & -0.20760469   &  0.172281417  &  0.20461981   &  0.15710178   &  0.17607963   &  0.26324593   & -0.004478586  & -0.349696646  & -0.07225075   & -0.6081434254 &  0.091312539  &  0.049458149  &  0.0180704794\\\\\n",
       "\t -0.0162322312 &  0.1833005421 &  0.03158564   & -0.49633951   &  0.455079538  &  0.20135370   &  0.52705359   &  0.02035962   &  0.08778212   &  0.215371259  &  0.159251711  & -0.04381284   &  0.3316289921 &  0.023772979  &  0.031219488  &  0.0075769398\\\\\n",
       "\t  0.2892890773 &  0.0131873584 &  0.43122069   &  0.20488513   & -0.009897636  & -0.01611790   &  0.35131361   &  0.19628090   & -0.13621261   & -0.250458085  & -0.007810576  &  0.00107726   & -0.0007042368 & -0.596940840  & -0.275567068  & -0.1108249056\\\\\n",
       "\t  0.0131043153 & -0.4565777317 &  0.08463474   & -0.07105430   & -0.206524359  &  0.28665301   & -0.03069067   & -0.29023583   &  0.29133423   & -0.193058906  &  0.645533466  &  0.13047900   &  0.0765116282 & -0.066153645  & -0.004827104  & -0.0548912860\\\\\n",
       "\t  0.2077721934 &  0.1651683982 & -0.15600561   & -0.25730878   & -0.618550700  &  0.19640438   &  0.08613338   &  0.28840562   & -0.06309719   &  0.349808600  &  0.154960614  & -0.31407875   & -0.1903257105 & -0.009130817  & -0.079708156  & -0.1885787404\\\\\n",
       "\t -0.0365672255 &  0.3090769665 &  0.10688699   & -0.19133062   &  0.036314491  &  0.66475118   & -0.23942340   & -0.21735142   & -0.41424912   & -0.288787298  & -0.110964750  &  0.11205902   & -0.1629158309 & -0.018216312  &  0.002229603  &  0.0239739376\\\\\n",
       "\\end{tabular}\n"
      ],
      "text/markdown": [
       "\n",
       "|  0.4272050265 | -0.0840028152 | -0.03776493   | -0.02207885   |  0.140038660  | -0.04076958   | -0.07340404   |  0.05887078   | -0.12659335   | -0.266568374  |  0.170693268  | -0.51413296   |  0.0217323519 |  0.230772979  | -0.118369886  |  0.5745480477 | \n",
       "|  0.3995204745 | -0.0098194780 | -0.14604714   | -0.05986916   |  0.238531158  | -0.02520207   | -0.27500991   | -0.22366371   |  0.08466771   |  0.140933136  | -0.031336397  | -0.23294843   | -0.0548739547 | -0.462973832  |  0.541604946  | -0.1980282181 | \n",
       "|  0.4376854301 | -0.0557564739 | -0.03215553   |  0.06230310   |  0.070946183  | -0.02910983   |  0.12490511   |  0.01861379   | -0.09573429   | -0.296475554  | -0.056206815  |  0.06643448   |  0.0939701087 |  0.523363946  |  0.059537540  | -0.6226219141 | \n",
       "|  0.3995260257 | -0.0001011894 | -0.05129260   | -0.15550723   |  0.123599904  | -0.00852268   | -0.27879350   | -0.24782553   |  0.20215980   |  0.316109121  | -0.156817794  |  0.26399387   | -0.0003098750 | -0.020096594  | -0.650838005  |  0.0006399979 | \n",
       "|  0.4166293504 |  0.0351320417 |  0.10028514   |  0.03658624   | -0.232528836  |  0.02491591   |  0.19846167   |  0.04756661   | -0.02931949   |  0.152203929  | -0.055028484  |  0.58093091   | -0.0110939448 |  0.103339141  |  0.402438480  |  0.4244486752 | \n",
       "|  0.0536929391 |  0.3296011771 | -0.01153427   |  0.41581966   | -0.050861391  |  0.41412676   |  0.01855311   |  0.07624517   |  0.65692582   | -0.087775531  | -0.186168338  | -0.15677541   |  0.1720747309 |  0.061823851  |  0.023146966  |  0.0522949027 | \n",
       "| -0.0129047398 | -0.5088709224 |  0.01949007   | -0.01862255   | -0.166577100  |  0.26460462   | -0.09259295   |  0.09567438   | -0.20317630   |  0.138616651  | -0.416977144  | -0.11263375   |  0.6107621545 | -0.059519278  |  0.023771262  |  0.0218426405 | \n",
       "|  0.0004164997 |  0.1117711421 |  0.45247107   | -0.31349895   |  0.059153481  | -0.10855924   | -0.52248466   |  0.53899225   |  0.18101549   | -0.081313278  |  0.125046249  |  0.10613068   |  0.1552631771 |  0.049598804  |  0.098706328  | -0.0558560207 | \n",
       "|  0.0083018581 |  0.0185668586 | -0.55072913   | -0.39401680   | -0.153760534  | -0.12385992   |  0.05653023   |  0.15325488   |  0.19097197   | -0.542333071  | -0.195737711  |  0.18424619   |  0.0798631193 | -0.245061356  | -0.042109690  |  0.0656235670 | \n",
       "|  0.0281275034 | -0.1419425301 | -0.44347409   |  0.31693438   |  0.358027371  |  0.28671900   | -0.09793647   |  0.51856975   | -0.16681117   |  0.135145354  |  0.275454156  |  0.22797298   | -0.0774720795 | -0.086565224  | -0.072141790  | -0.0202526235 | \n",
       "| -0.0238771750 | -0.4721090010 |  0.16861986   | -0.20760469   |  0.172281417  |  0.20461981   |  0.15710178   |  0.17607963   |  0.26324593   | -0.004478586  | -0.349696646  | -0.07225075   | -0.6081434254 |  0.091312539  |  0.049458149  |  0.0180704794 | \n",
       "| -0.0162322312 |  0.1833005421 |  0.03158564   | -0.49633951   |  0.455079538  |  0.20135370   |  0.52705359   |  0.02035962   |  0.08778212   |  0.215371259  |  0.159251711  | -0.04381284   |  0.3316289921 |  0.023772979  |  0.031219488  |  0.0075769398 | \n",
       "|  0.2892890773 |  0.0131873584 |  0.43122069   |  0.20488513   | -0.009897636  | -0.01611790   |  0.35131361   |  0.19628090   | -0.13621261   | -0.250458085  | -0.007810576  |  0.00107726   | -0.0007042368 | -0.596940840  | -0.275567068  | -0.1108249056 | \n",
       "|  0.0131043153 | -0.4565777317 |  0.08463474   | -0.07105430   | -0.206524359  |  0.28665301   | -0.03069067   | -0.29023583   |  0.29133423   | -0.193058906  |  0.645533466  |  0.13047900   |  0.0765116282 | -0.066153645  | -0.004827104  | -0.0548912860 | \n",
       "|  0.2077721934 |  0.1651683982 | -0.15600561   | -0.25730878   | -0.618550700  |  0.19640438   |  0.08613338   |  0.28840562   | -0.06309719   |  0.349808600  |  0.154960614  | -0.31407875   | -0.1903257105 | -0.009130817  | -0.079708156  | -0.1885787404 | \n",
       "| -0.0365672255 |  0.3090769665 |  0.10688699   | -0.19133062   |  0.036314491  |  0.66475118   | -0.23942340   | -0.21735142   | -0.41424912   | -0.288787298  | -0.110964750  |  0.11205902   | -0.1629158309 | -0.018216312  |  0.002229603  |  0.0239739376 | \n",
       "\n",
       "\n"
      ],
      "text/plain": [
       "      [,1]          [,2]          [,3]        [,4]        [,5]        \n",
       " [1,]  0.4272050265 -0.0840028152 -0.03776493 -0.02207885  0.140038660\n",
       " [2,]  0.3995204745 -0.0098194780 -0.14604714 -0.05986916  0.238531158\n",
       " [3,]  0.4376854301 -0.0557564739 -0.03215553  0.06230310  0.070946183\n",
       " [4,]  0.3995260257 -0.0001011894 -0.05129260 -0.15550723  0.123599904\n",
       " [5,]  0.4166293504  0.0351320417  0.10028514  0.03658624 -0.232528836\n",
       " [6,]  0.0536929391  0.3296011771 -0.01153427  0.41581966 -0.050861391\n",
       " [7,] -0.0129047398 -0.5088709224  0.01949007 -0.01862255 -0.166577100\n",
       " [8,]  0.0004164997  0.1117711421  0.45247107 -0.31349895  0.059153481\n",
       " [9,]  0.0083018581  0.0185668586 -0.55072913 -0.39401680 -0.153760534\n",
       "[10,]  0.0281275034 -0.1419425301 -0.44347409  0.31693438  0.358027371\n",
       "[11,] -0.0238771750 -0.4721090010  0.16861986 -0.20760469  0.172281417\n",
       "[12,] -0.0162322312  0.1833005421  0.03158564 -0.49633951  0.455079538\n",
       "[13,]  0.2892890773  0.0131873584  0.43122069  0.20488513 -0.009897636\n",
       "[14,]  0.0131043153 -0.4565777317  0.08463474 -0.07105430 -0.206524359\n",
       "[15,]  0.2077721934  0.1651683982 -0.15600561 -0.25730878 -0.618550700\n",
       "[16,] -0.0365672255  0.3090769665  0.10688699 -0.19133062  0.036314491\n",
       "      [,6]        [,7]        [,8]        [,9]        [,10]        [,11]       \n",
       " [1,] -0.04076958 -0.07340404  0.05887078 -0.12659335 -0.266568374  0.170693268\n",
       " [2,] -0.02520207 -0.27500991 -0.22366371  0.08466771  0.140933136 -0.031336397\n",
       " [3,] -0.02910983  0.12490511  0.01861379 -0.09573429 -0.296475554 -0.056206815\n",
       " [4,] -0.00852268 -0.27879350 -0.24782553  0.20215980  0.316109121 -0.156817794\n",
       " [5,]  0.02491591  0.19846167  0.04756661 -0.02931949  0.152203929 -0.055028484\n",
       " [6,]  0.41412676  0.01855311  0.07624517  0.65692582 -0.087775531 -0.186168338\n",
       " [7,]  0.26460462 -0.09259295  0.09567438 -0.20317630  0.138616651 -0.416977144\n",
       " [8,] -0.10855924 -0.52248466  0.53899225  0.18101549 -0.081313278  0.125046249\n",
       " [9,] -0.12385992  0.05653023  0.15325488  0.19097197 -0.542333071 -0.195737711\n",
       "[10,]  0.28671900 -0.09793647  0.51856975 -0.16681117  0.135145354  0.275454156\n",
       "[11,]  0.20461981  0.15710178  0.17607963  0.26324593 -0.004478586 -0.349696646\n",
       "[12,]  0.20135370  0.52705359  0.02035962  0.08778212  0.215371259  0.159251711\n",
       "[13,] -0.01611790  0.35131361  0.19628090 -0.13621261 -0.250458085 -0.007810576\n",
       "[14,]  0.28665301 -0.03069067 -0.29023583  0.29133423 -0.193058906  0.645533466\n",
       "[15,]  0.19640438  0.08613338  0.28840562 -0.06309719  0.349808600  0.154960614\n",
       "[16,]  0.66475118 -0.23942340 -0.21735142 -0.41424912 -0.288787298 -0.110964750\n",
       "      [,12]       [,13]         [,14]        [,15]        [,16]        \n",
       " [1,] -0.51413296  0.0217323519  0.230772979 -0.118369886  0.5745480477\n",
       " [2,] -0.23294843 -0.0548739547 -0.462973832  0.541604946 -0.1980282181\n",
       " [3,]  0.06643448  0.0939701087  0.523363946  0.059537540 -0.6226219141\n",
       " [4,]  0.26399387 -0.0003098750 -0.020096594 -0.650838005  0.0006399979\n",
       " [5,]  0.58093091 -0.0110939448  0.103339141  0.402438480  0.4244486752\n",
       " [6,] -0.15677541  0.1720747309  0.061823851  0.023146966  0.0522949027\n",
       " [7,] -0.11263375  0.6107621545 -0.059519278  0.023771262  0.0218426405\n",
       " [8,]  0.10613068  0.1552631771  0.049598804  0.098706328 -0.0558560207\n",
       " [9,]  0.18424619  0.0798631193 -0.245061356 -0.042109690  0.0656235670\n",
       "[10,]  0.22797298 -0.0774720795 -0.086565224 -0.072141790 -0.0202526235\n",
       "[11,] -0.07225075 -0.6081434254  0.091312539  0.049458149  0.0180704794\n",
       "[12,] -0.04381284  0.3316289921  0.023772979  0.031219488  0.0075769398\n",
       "[13,]  0.00107726 -0.0007042368 -0.596940840 -0.275567068 -0.1108249056\n",
       "[14,]  0.13047900  0.0765116282 -0.066153645 -0.004827104 -0.0548912860\n",
       "[15,] -0.31407875 -0.1903257105 -0.009130817 -0.079708156 -0.1885787404\n",
       "[16,]  0.11205902 -0.1629158309 -0.018216312  0.002229603  0.0239739376"
      ]
     },
     "metadata": {},
     "output_type": "display_data"
    }
   ],
   "source": [
    "r$vectors"
   ]
  },
  {
   "cell_type": "code",
   "execution_count": 76,
   "metadata": {
    "collapsed": false
   },
   "outputs": [
    {
     "data": {
      "text/html": [
       "<ol class=list-inline>\n",
       "\t<li>16</li>\n",
       "\t<li>16</li>\n",
       "</ol>\n"
      ],
      "text/latex": [
       "\\begin{enumerate*}\n",
       "\\item 16\n",
       "\\item 16\n",
       "\\end{enumerate*}\n"
      ],
      "text/markdown": [
       "1. 16\n",
       "2. 16\n",
       "\n",
       "\n"
      ],
      "text/plain": [
       "[1] 16 16"
      ]
     },
     "metadata": {},
     "output_type": "display_data"
    }
   ],
   "source": [
    "dim(r$vectors)"
   ]
  },
  {
   "cell_type": "code",
   "execution_count": 77,
   "metadata": {
    "collapsed": false
   },
   "outputs": [
    {
     "data": {
      "text/html": [
       "<ol class=list-inline>\n",
       "\t<li>20000</li>\n",
       "\t<li>16</li>\n",
       "</ol>\n"
      ],
      "text/latex": [
       "\\begin{enumerate*}\n",
       "\\item 20000\n",
       "\\item 16\n",
       "\\end{enumerate*}\n"
      ],
      "text/markdown": [
       "1. 20000\n",
       "2. 16\n",
       "\n",
       "\n"
      ],
      "text/plain": [
       "[1] 20000    16"
      ]
     },
     "metadata": {},
     "output_type": "display_data"
    }
   ],
   "source": [
    "dim(mtx)"
   ]
  },
  {
   "cell_type": "code",
   "execution_count": 80,
   "metadata": {
    "collapsed": false
   },
   "outputs": [],
   "source": [
    "lettersPca <- mtx %*% r$vectors;"
   ]
  },
  {
   "cell_type": "code",
   "execution_count": 110,
   "metadata": {
    "collapsed": false
   },
   "outputs": [
    {
     "data": {
      "text/html": [
       "<table>\n",
       "<tbody>\n",
       "\t<tr><td>85903.41</td><td>    0.00</td><td>    0.00</td><td>    0.00</td><td>    0.00</td><td>    0.00</td><td>    0.00</td><td>    0.00</td><td>    0.00</td><td>   0.00 </td><td>   0.000</td><td>   0.000</td><td>   0.000</td><td>   0.000</td><td>   0.000</td><td>   0.000</td></tr>\n",
       "\t<tr><td>    0.00</td><td>52506.21</td><td>    0.00</td><td>    0.00</td><td>    0.00</td><td>    0.00</td><td>    0.00</td><td>    0.00</td><td>    0.00</td><td>   0.00 </td><td>   0.000</td><td>   0.000</td><td>   0.000</td><td>   0.000</td><td>   0.000</td><td>   0.000</td></tr>\n",
       "\t<tr><td>    0.00</td><td>    0.00</td><td>34419.81</td><td>    0.00</td><td>    0.00</td><td>    0.00</td><td>    0.00</td><td>    0.00</td><td>    0.00</td><td>   0.00 </td><td>   0.000</td><td>   0.000</td><td>   0.000</td><td>   0.000</td><td>   0.000</td><td>   0.000</td></tr>\n",
       "\t<tr><td>    0.00</td><td>    0.00</td><td>    0.00</td><td>27380.61</td><td>    0.00</td><td>    0.00</td><td>    0.00</td><td>    0.00</td><td>    0.00</td><td>   0.00 </td><td>   0.000</td><td>   0.000</td><td>   0.000</td><td>   0.000</td><td>   0.000</td><td>   0.000</td></tr>\n",
       "\t<tr><td>    0.00</td><td>    0.00</td><td>    0.00</td><td>    0.00</td><td>21026.23</td><td>    0.00</td><td>    0.00</td><td>    0.00</td><td>    0.00</td><td>   0.00 </td><td>   0.000</td><td>   0.000</td><td>   0.000</td><td>   0.000</td><td>   0.000</td><td>   0.000</td></tr>\n",
       "\t<tr><td>    0.00</td><td>    0.00</td><td>    0.00</td><td>    0.00</td><td>    0.00</td><td>19600.33</td><td>    0.00</td><td>    0.00</td><td>    0.00</td><td>   0.00 </td><td>   0.000</td><td>   0.000</td><td>   0.000</td><td>   0.000</td><td>   0.000</td><td>   0.000</td></tr>\n",
       "\t<tr><td>    0.00</td><td>    0.00</td><td>    0.00</td><td>    0.00</td><td>    0.00</td><td>    0.00</td><td>17784.56</td><td>    0.00</td><td>    0.00</td><td>   0.00 </td><td>   0.000</td><td>   0.000</td><td>   0.000</td><td>   0.000</td><td>   0.000</td><td>   0.000</td></tr>\n",
       "\t<tr><td>    0.00</td><td>    0.00</td><td>    0.00</td><td>    0.00</td><td>    0.00</td><td>    0.00</td><td>    0.00</td><td>12516.66</td><td>    0.00</td><td>   0.00 </td><td>   0.000</td><td>   0.000</td><td>   0.000</td><td>   0.000</td><td>   0.000</td><td>   0.000</td></tr>\n",
       "\t<tr><td>    0.00</td><td>    0.00</td><td>    0.00</td><td>    0.00</td><td>    0.00</td><td>    0.00</td><td>    0.00</td><td>    0.00</td><td>11908.73</td><td>   0.00 </td><td>   0.000</td><td>   0.000</td><td>   0.000</td><td>   0.000</td><td>   0.000</td><td>   0.000</td></tr>\n",
       "\t<tr><td>    0.00</td><td>    0.00</td><td>    0.00</td><td>    0.00</td><td>    0.00</td><td>    0.00</td><td>    0.00</td><td>    0.00</td><td>    0.00</td><td>9837.23 </td><td>   0.000</td><td>   0.000</td><td>   0.000</td><td>   0.000</td><td>   0.000</td><td>   0.000</td></tr>\n",
       "\t<tr><td>    0.00</td><td>    0.00</td><td>    0.00</td><td>    0.00</td><td>    0.00</td><td>    0.00</td><td>    0.00</td><td>    0.00</td><td>    0.00</td><td>   0.00 </td><td>8529.206</td><td>   0.000</td><td>   0.000</td><td>   0.000</td><td>   0.000</td><td>   0.000</td></tr>\n",
       "\t<tr><td>    0.00</td><td>    0.00</td><td>    0.00</td><td>    0.00</td><td>    0.00</td><td>    0.00</td><td>    0.00</td><td>    0.00</td><td>    0.00</td><td>   0.00 </td><td>   0.000</td><td>5323.773</td><td>   0.000</td><td>   0.000</td><td>   0.000</td><td>   0.000</td></tr>\n",
       "\t<tr><td>    0.00</td><td>    0.00</td><td>    0.00</td><td>    0.00</td><td>    0.00</td><td>    0.00</td><td>    0.00</td><td>    0.00</td><td>    0.00</td><td>   0.00 </td><td>   0.000</td><td>   0.000</td><td>5078.572</td><td>   0.000</td><td>   0.000</td><td>   0.000</td></tr>\n",
       "\t<tr><td>    0.00</td><td>    0.00</td><td>    0.00</td><td>    0.00</td><td>    0.00</td><td>    0.00</td><td>    0.00</td><td>    0.00</td><td>    0.00</td><td>   0.00 </td><td>   0.000</td><td>   0.000</td><td>   0.000</td><td>4290.528</td><td>   0.000</td><td>   0.000</td></tr>\n",
       "\t<tr><td>    0.00</td><td>    0.00</td><td>    0.00</td><td>    0.00</td><td>    0.00</td><td>    0.00</td><td>    0.00</td><td>    0.00</td><td>    0.00</td><td>   0.00 </td><td>   0.000</td><td>   0.000</td><td>   0.000</td><td>   0.000</td><td>2380.675</td><td>   0.000</td></tr>\n",
       "\t<tr><td>    0.00</td><td>    0.00</td><td>    0.00</td><td>    0.00</td><td>    0.00</td><td>    0.00</td><td>    0.00</td><td>    0.00</td><td>    0.00</td><td>   0.00 </td><td>   0.000</td><td>   0.000</td><td>   0.000</td><td>   0.000</td><td>   0.000</td><td>1497.476</td></tr>\n",
       "</tbody>\n",
       "</table>\n"
      ],
      "text/latex": [
       "\\begin{tabular}{llllllllllllllll}\n",
       "\t 85903.41 &     0.00 &     0.00 &     0.00 &     0.00 &     0.00 &     0.00 &     0.00 &     0.00 &    0.00  &    0.000 &    0.000 &    0.000 &    0.000 &    0.000 &    0.000\\\\\n",
       "\t     0.00 & 52506.21 &     0.00 &     0.00 &     0.00 &     0.00 &     0.00 &     0.00 &     0.00 &    0.00  &    0.000 &    0.000 &    0.000 &    0.000 &    0.000 &    0.000\\\\\n",
       "\t     0.00 &     0.00 & 34419.81 &     0.00 &     0.00 &     0.00 &     0.00 &     0.00 &     0.00 &    0.00  &    0.000 &    0.000 &    0.000 &    0.000 &    0.000 &    0.000\\\\\n",
       "\t     0.00 &     0.00 &     0.00 & 27380.61 &     0.00 &     0.00 &     0.00 &     0.00 &     0.00 &    0.00  &    0.000 &    0.000 &    0.000 &    0.000 &    0.000 &    0.000\\\\\n",
       "\t     0.00 &     0.00 &     0.00 &     0.00 & 21026.23 &     0.00 &     0.00 &     0.00 &     0.00 &    0.00  &    0.000 &    0.000 &    0.000 &    0.000 &    0.000 &    0.000\\\\\n",
       "\t     0.00 &     0.00 &     0.00 &     0.00 &     0.00 & 19600.33 &     0.00 &     0.00 &     0.00 &    0.00  &    0.000 &    0.000 &    0.000 &    0.000 &    0.000 &    0.000\\\\\n",
       "\t     0.00 &     0.00 &     0.00 &     0.00 &     0.00 &     0.00 & 17784.56 &     0.00 &     0.00 &    0.00  &    0.000 &    0.000 &    0.000 &    0.000 &    0.000 &    0.000\\\\\n",
       "\t     0.00 &     0.00 &     0.00 &     0.00 &     0.00 &     0.00 &     0.00 & 12516.66 &     0.00 &    0.00  &    0.000 &    0.000 &    0.000 &    0.000 &    0.000 &    0.000\\\\\n",
       "\t     0.00 &     0.00 &     0.00 &     0.00 &     0.00 &     0.00 &     0.00 &     0.00 & 11908.73 &    0.00  &    0.000 &    0.000 &    0.000 &    0.000 &    0.000 &    0.000\\\\\n",
       "\t     0.00 &     0.00 &     0.00 &     0.00 &     0.00 &     0.00 &     0.00 &     0.00 &     0.00 & 9837.23  &    0.000 &    0.000 &    0.000 &    0.000 &    0.000 &    0.000\\\\\n",
       "\t     0.00 &     0.00 &     0.00 &     0.00 &     0.00 &     0.00 &     0.00 &     0.00 &     0.00 &    0.00  & 8529.206 &    0.000 &    0.000 &    0.000 &    0.000 &    0.000\\\\\n",
       "\t     0.00 &     0.00 &     0.00 &     0.00 &     0.00 &     0.00 &     0.00 &     0.00 &     0.00 &    0.00  &    0.000 & 5323.773 &    0.000 &    0.000 &    0.000 &    0.000\\\\\n",
       "\t     0.00 &     0.00 &     0.00 &     0.00 &     0.00 &     0.00 &     0.00 &     0.00 &     0.00 &    0.00  &    0.000 &    0.000 & 5078.572 &    0.000 &    0.000 &    0.000\\\\\n",
       "\t     0.00 &     0.00 &     0.00 &     0.00 &     0.00 &     0.00 &     0.00 &     0.00 &     0.00 &    0.00  &    0.000 &    0.000 &    0.000 & 4290.528 &    0.000 &    0.000\\\\\n",
       "\t     0.00 &     0.00 &     0.00 &     0.00 &     0.00 &     0.00 &     0.00 &     0.00 &     0.00 &    0.00  &    0.000 &    0.000 &    0.000 &    0.000 & 2380.675 &    0.000\\\\\n",
       "\t     0.00 &     0.00 &     0.00 &     0.00 &     0.00 &     0.00 &     0.00 &     0.00 &     0.00 &    0.00  &    0.000 &    0.000 &    0.000 &    0.000 &    0.000 & 1497.476\\\\\n",
       "\\end{tabular}\n"
      ],
      "text/markdown": [
       "\n",
       "| 85903.41 |     0.00 |     0.00 |     0.00 |     0.00 |     0.00 |     0.00 |     0.00 |     0.00 |    0.00  |    0.000 |    0.000 |    0.000 |    0.000 |    0.000 |    0.000 | \n",
       "|     0.00 | 52506.21 |     0.00 |     0.00 |     0.00 |     0.00 |     0.00 |     0.00 |     0.00 |    0.00  |    0.000 |    0.000 |    0.000 |    0.000 |    0.000 |    0.000 | \n",
       "|     0.00 |     0.00 | 34419.81 |     0.00 |     0.00 |     0.00 |     0.00 |     0.00 |     0.00 |    0.00  |    0.000 |    0.000 |    0.000 |    0.000 |    0.000 |    0.000 | \n",
       "|     0.00 |     0.00 |     0.00 | 27380.61 |     0.00 |     0.00 |     0.00 |     0.00 |     0.00 |    0.00  |    0.000 |    0.000 |    0.000 |    0.000 |    0.000 |    0.000 | \n",
       "|     0.00 |     0.00 |     0.00 |     0.00 | 21026.23 |     0.00 |     0.00 |     0.00 |     0.00 |    0.00  |    0.000 |    0.000 |    0.000 |    0.000 |    0.000 |    0.000 | \n",
       "|     0.00 |     0.00 |     0.00 |     0.00 |     0.00 | 19600.33 |     0.00 |     0.00 |     0.00 |    0.00  |    0.000 |    0.000 |    0.000 |    0.000 |    0.000 |    0.000 | \n",
       "|     0.00 |     0.00 |     0.00 |     0.00 |     0.00 |     0.00 | 17784.56 |     0.00 |     0.00 |    0.00  |    0.000 |    0.000 |    0.000 |    0.000 |    0.000 |    0.000 | \n",
       "|     0.00 |     0.00 |     0.00 |     0.00 |     0.00 |     0.00 |     0.00 | 12516.66 |     0.00 |    0.00  |    0.000 |    0.000 |    0.000 |    0.000 |    0.000 |    0.000 | \n",
       "|     0.00 |     0.00 |     0.00 |     0.00 |     0.00 |     0.00 |     0.00 |     0.00 | 11908.73 |    0.00  |    0.000 |    0.000 |    0.000 |    0.000 |    0.000 |    0.000 | \n",
       "|     0.00 |     0.00 |     0.00 |     0.00 |     0.00 |     0.00 |     0.00 |     0.00 |     0.00 | 9837.23  |    0.000 |    0.000 |    0.000 |    0.000 |    0.000 |    0.000 | \n",
       "|     0.00 |     0.00 |     0.00 |     0.00 |     0.00 |     0.00 |     0.00 |     0.00 |     0.00 |    0.00  | 8529.206 |    0.000 |    0.000 |    0.000 |    0.000 |    0.000 | \n",
       "|     0.00 |     0.00 |     0.00 |     0.00 |     0.00 |     0.00 |     0.00 |     0.00 |     0.00 |    0.00  |    0.000 | 5323.773 |    0.000 |    0.000 |    0.000 |    0.000 | \n",
       "|     0.00 |     0.00 |     0.00 |     0.00 |     0.00 |     0.00 |     0.00 |     0.00 |     0.00 |    0.00  |    0.000 |    0.000 | 5078.572 |    0.000 |    0.000 |    0.000 | \n",
       "|     0.00 |     0.00 |     0.00 |     0.00 |     0.00 |     0.00 |     0.00 |     0.00 |     0.00 |    0.00  |    0.000 |    0.000 |    0.000 | 4290.528 |    0.000 |    0.000 | \n",
       "|     0.00 |     0.00 |     0.00 |     0.00 |     0.00 |     0.00 |     0.00 |     0.00 |     0.00 |    0.00  |    0.000 |    0.000 |    0.000 |    0.000 | 2380.675 |    0.000 | \n",
       "|     0.00 |     0.00 |     0.00 |     0.00 |     0.00 |     0.00 |     0.00 |     0.00 |     0.00 |    0.00  |    0.000 |    0.000 |    0.000 |    0.000 |    0.000 | 1497.476 | \n",
       "\n",
       "\n"
      ],
      "text/plain": [
       "      [,1]     [,2]     [,3]     [,4]     [,5]     [,6]     [,7]     [,8]    \n",
       " [1,] 85903.41     0.00     0.00     0.00     0.00     0.00     0.00     0.00\n",
       " [2,]     0.00 52506.21     0.00     0.00     0.00     0.00     0.00     0.00\n",
       " [3,]     0.00     0.00 34419.81     0.00     0.00     0.00     0.00     0.00\n",
       " [4,]     0.00     0.00     0.00 27380.61     0.00     0.00     0.00     0.00\n",
       " [5,]     0.00     0.00     0.00     0.00 21026.23     0.00     0.00     0.00\n",
       " [6,]     0.00     0.00     0.00     0.00     0.00 19600.33     0.00     0.00\n",
       " [7,]     0.00     0.00     0.00     0.00     0.00     0.00 17784.56     0.00\n",
       " [8,]     0.00     0.00     0.00     0.00     0.00     0.00     0.00 12516.66\n",
       " [9,]     0.00     0.00     0.00     0.00     0.00     0.00     0.00     0.00\n",
       "[10,]     0.00     0.00     0.00     0.00     0.00     0.00     0.00     0.00\n",
       "[11,]     0.00     0.00     0.00     0.00     0.00     0.00     0.00     0.00\n",
       "[12,]     0.00     0.00     0.00     0.00     0.00     0.00     0.00     0.00\n",
       "[13,]     0.00     0.00     0.00     0.00     0.00     0.00     0.00     0.00\n",
       "[14,]     0.00     0.00     0.00     0.00     0.00     0.00     0.00     0.00\n",
       "[15,]     0.00     0.00     0.00     0.00     0.00     0.00     0.00     0.00\n",
       "[16,]     0.00     0.00     0.00     0.00     0.00     0.00     0.00     0.00\n",
       "      [,9]     [,10]   [,11]    [,12]    [,13]    [,14]    [,15]    [,16]   \n",
       " [1,]     0.00    0.00    0.000    0.000    0.000    0.000    0.000    0.000\n",
       " [2,]     0.00    0.00    0.000    0.000    0.000    0.000    0.000    0.000\n",
       " [3,]     0.00    0.00    0.000    0.000    0.000    0.000    0.000    0.000\n",
       " [4,]     0.00    0.00    0.000    0.000    0.000    0.000    0.000    0.000\n",
       " [5,]     0.00    0.00    0.000    0.000    0.000    0.000    0.000    0.000\n",
       " [6,]     0.00    0.00    0.000    0.000    0.000    0.000    0.000    0.000\n",
       " [7,]     0.00    0.00    0.000    0.000    0.000    0.000    0.000    0.000\n",
       " [8,]     0.00    0.00    0.000    0.000    0.000    0.000    0.000    0.000\n",
       " [9,] 11908.73    0.00    0.000    0.000    0.000    0.000    0.000    0.000\n",
       "[10,]     0.00 9837.23    0.000    0.000    0.000    0.000    0.000    0.000\n",
       "[11,]     0.00    0.00 8529.206    0.000    0.000    0.000    0.000    0.000\n",
       "[12,]     0.00    0.00    0.000 5323.773    0.000    0.000    0.000    0.000\n",
       "[13,]     0.00    0.00    0.000    0.000 5078.572    0.000    0.000    0.000\n",
       "[14,]     0.00    0.00    0.000    0.000    0.000 4290.528    0.000    0.000\n",
       "[15,]     0.00    0.00    0.000    0.000    0.000    0.000 2380.675    0.000\n",
       "[16,]     0.00    0.00    0.000    0.000    0.000    0.000    0.000 1497.476"
      ]
     },
     "metadata": {},
     "output_type": "display_data"
    }
   ],
   "source": [
    "round(t(lettersPca) %*% lettersPca, 5)"
   ]
  },
  {
   "cell_type": "code",
   "execution_count": 91,
   "metadata": {
    "collapsed": false
   },
   "outputs": [
    {
     "data": {
      "text/html": [
       "<table>\n",
       "<thead><tr><th scope=col>class</th><th scope=col>pca.1</th><th scope=col>pca.2</th><th scope=col>pca.3</th><th scope=col>pca.4</th><th scope=col>pca.5</th><th scope=col>pca.6</th><th scope=col>pca.7</th><th scope=col>pca.8</th><th scope=col>pca.9</th><th scope=col>pca.10</th><th scope=col>pca.11</th><th scope=col>pca.12</th><th scope=col>pca.13</th><th scope=col>pca.14</th><th scope=col>pca.15</th><th scope=col>pca.16</th></tr></thead>\n",
       "<tbody>\n",
       "\t<tr><td>T           </td><td>-2.0802826  </td><td>-1.7214273  </td><td>-0.7101134  </td><td> 0.01488226 </td><td> 0.3879182  </td><td> 0.8110448  </td><td> 0.1051808  </td><td>-1.6358895  </td><td> 0.5568141  </td><td> 0.3497204  </td><td>-2.4972454  </td><td>-0.6447702  </td><td> 0.674839787</td><td>-0.3138484  </td><td> 0.36215736 </td><td> 0.1772178  </td></tr>\n",
       "\t<tr><td>I           </td><td> 0.3693641  </td><td> 2.0140751  </td><td>-1.1456671  </td><td> 0.75540463 </td><td> 1.5010561  </td><td> 1.5950273  </td><td>-1.4777231  </td><td>-0.0472795  </td><td> 0.2937318  </td><td> 0.6616662  </td><td> 1.0947401  </td><td>-0.4971983  </td><td>-0.012944916</td><td>-0.9430876  </td><td>-0.07775341 </td><td> 0.3900517  </td></tr>\n",
       "\t<tr><td>D           </td><td> 1.6543080  </td><td> 1.7549411  </td><td>-1.2970617  </td><td> 1.33254595 </td><td> 0.3035506  </td><td> 0.5337721  </td><td>-0.4464274  </td><td>-0.7852911  </td><td> 0.2501475  </td><td> 0.1187188  </td><td>-0.6188393  </td><td> 0.8433984  </td><td> 0.168779558</td><td>-0.3678095  </td><td> 0.19275677 </td><td> 0.1881952  </td></tr>\n",
       "\t<tr><td>N           </td><td> 1.4902434  </td><td>-0.5088705  </td><td> 0.8328723  </td><td>-1.11160001 </td><td> 0.3503288  </td><td>-0.5932453  </td><td> 0.4235371  </td><td>-1.6469317  </td><td>-0.5368484  </td><td>-1.1233987  </td><td> 0.5598075  </td><td>-1.0044602  </td><td> 1.452820112</td><td>-0.9258707  </td><td>-0.01811037 </td><td> 0.2412374  </td></tr>\n",
       "\t<tr><td>G           </td><td>-3.0809040  </td><td> 2.0697897  </td><td> 0.2900172  </td><td>-0.67184999 </td><td>-0.8423558  </td><td> 0.5619149  </td><td> 0.2954488  </td><td> 0.4259705  </td><td>-0.3061814  </td><td>-0.6522141  </td><td>-0.1353708  </td><td>-0.4842026  </td><td>-0.008748236</td><td> 0.5762434  </td><td> 0.16739361 </td><td> 0.0253058  </td></tr>\n",
       "\t<tr><td>S           </td><td> 0.9047219  </td><td> 0.5109631  </td><td>-1.3424739  </td><td>-1.44516116 </td><td>-1.9654616  </td><td>-0.5804360  </td><td>-1.4327417  </td><td>-0.2092341  </td><td> 1.3448264  </td><td> 0.4512934  </td><td>-0.8537541  </td><td>-0.8469901  </td><td>-0.066747310</td><td>-0.1238721  </td><td> 0.05138294 </td><td>-0.4226609  </td></tr>\n",
       "</tbody>\n",
       "</table>\n"
      ],
      "text/latex": [
       "\\begin{tabular}{r|lllllllllllllllll}\n",
       " class & pca.1 & pca.2 & pca.3 & pca.4 & pca.5 & pca.6 & pca.7 & pca.8 & pca.9 & pca.10 & pca.11 & pca.12 & pca.13 & pca.14 & pca.15 & pca.16\\\\\n",
       "\\hline\n",
       "\t T            & -2.0802826   & -1.7214273   & -0.7101134   &  0.01488226  &  0.3879182   &  0.8110448   &  0.1051808   & -1.6358895   &  0.5568141   &  0.3497204   & -2.4972454   & -0.6447702   &  0.674839787 & -0.3138484   &  0.36215736  &  0.1772178  \\\\\n",
       "\t I            &  0.3693641   &  2.0140751   & -1.1456671   &  0.75540463  &  1.5010561   &  1.5950273   & -1.4777231   & -0.0472795   &  0.2937318   &  0.6616662   &  1.0947401   & -0.4971983   & -0.012944916 & -0.9430876   & -0.07775341  &  0.3900517  \\\\\n",
       "\t D            &  1.6543080   &  1.7549411   & -1.2970617   &  1.33254595  &  0.3035506   &  0.5337721   & -0.4464274   & -0.7852911   &  0.2501475   &  0.1187188   & -0.6188393   &  0.8433984   &  0.168779558 & -0.3678095   &  0.19275677  &  0.1881952  \\\\\n",
       "\t N            &  1.4902434   & -0.5088705   &  0.8328723   & -1.11160001  &  0.3503288   & -0.5932453   &  0.4235371   & -1.6469317   & -0.5368484   & -1.1233987   &  0.5598075   & -1.0044602   &  1.452820112 & -0.9258707   & -0.01811037  &  0.2412374  \\\\\n",
       "\t G            & -3.0809040   &  2.0697897   &  0.2900172   & -0.67184999  & -0.8423558   &  0.5619149   &  0.2954488   &  0.4259705   & -0.3061814   & -0.6522141   & -0.1353708   & -0.4842026   & -0.008748236 &  0.5762434   &  0.16739361  &  0.0253058  \\\\\n",
       "\t S            &  0.9047219   &  0.5109631   & -1.3424739   & -1.44516116  & -1.9654616   & -0.5804360   & -1.4327417   & -0.2092341   &  1.3448264   &  0.4512934   & -0.8537541   & -0.8469901   & -0.066747310 & -0.1238721   &  0.05138294  & -0.4226609  \\\\\n",
       "\\end{tabular}\n"
      ],
      "text/markdown": [
       "\n",
       "class | pca.1 | pca.2 | pca.3 | pca.4 | pca.5 | pca.6 | pca.7 | pca.8 | pca.9 | pca.10 | pca.11 | pca.12 | pca.13 | pca.14 | pca.15 | pca.16 | \n",
       "|---|---|---|---|---|---|\n",
       "| T            | -2.0802826   | -1.7214273   | -0.7101134   |  0.01488226  |  0.3879182   |  0.8110448   |  0.1051808   | -1.6358895   |  0.5568141   |  0.3497204   | -2.4972454   | -0.6447702   |  0.674839787 | -0.3138484   |  0.36215736  |  0.1772178   | \n",
       "| I            |  0.3693641   |  2.0140751   | -1.1456671   |  0.75540463  |  1.5010561   |  1.5950273   | -1.4777231   | -0.0472795   |  0.2937318   |  0.6616662   |  1.0947401   | -0.4971983   | -0.012944916 | -0.9430876   | -0.07775341  |  0.3900517   | \n",
       "| D            |  1.6543080   |  1.7549411   | -1.2970617   |  1.33254595  |  0.3035506   |  0.5337721   | -0.4464274   | -0.7852911   |  0.2501475   |  0.1187188   | -0.6188393   |  0.8433984   |  0.168779558 | -0.3678095   |  0.19275677  |  0.1881952   | \n",
       "| N            |  1.4902434   | -0.5088705   |  0.8328723   | -1.11160001  |  0.3503288   | -0.5932453   |  0.4235371   | -1.6469317   | -0.5368484   | -1.1233987   |  0.5598075   | -1.0044602   |  1.452820112 | -0.9258707   | -0.01811037  |  0.2412374   | \n",
       "| G            | -3.0809040   |  2.0697897   |  0.2900172   | -0.67184999  | -0.8423558   |  0.5619149   |  0.2954488   |  0.4259705   | -0.3061814   | -0.6522141   | -0.1353708   | -0.4842026   | -0.008748236 |  0.5762434   |  0.16739361  |  0.0253058   | \n",
       "| S            |  0.9047219   |  0.5109631   | -1.3424739   | -1.44516116  | -1.9654616   | -0.5804360   | -1.4327417   | -0.2092341   |  1.3448264   |  0.4512934   | -0.8537541   | -0.8469901   | -0.066747310 | -0.1238721   |  0.05138294  | -0.4226609   | \n",
       "\n",
       "\n"
      ],
      "text/plain": [
       "  class pca.1      pca.2      pca.3      pca.4       pca.5      pca.6     \n",
       "1 T     -2.0802826 -1.7214273 -0.7101134  0.01488226  0.3879182  0.8110448\n",
       "2 I      0.3693641  2.0140751 -1.1456671  0.75540463  1.5010561  1.5950273\n",
       "3 D      1.6543080  1.7549411 -1.2970617  1.33254595  0.3035506  0.5337721\n",
       "4 N      1.4902434 -0.5088705  0.8328723 -1.11160001  0.3503288 -0.5932453\n",
       "5 G     -3.0809040  2.0697897  0.2900172 -0.67184999 -0.8423558  0.5619149\n",
       "6 S      0.9047219  0.5109631 -1.3424739 -1.44516116 -1.9654616 -0.5804360\n",
       "  pca.7      pca.8      pca.9      pca.10     pca.11     pca.12    \n",
       "1  0.1051808 -1.6358895  0.5568141  0.3497204 -2.4972454 -0.6447702\n",
       "2 -1.4777231 -0.0472795  0.2937318  0.6616662  1.0947401 -0.4971983\n",
       "3 -0.4464274 -0.7852911  0.2501475  0.1187188 -0.6188393  0.8433984\n",
       "4  0.4235371 -1.6469317 -0.5368484 -1.1233987  0.5598075 -1.0044602\n",
       "5  0.2954488  0.4259705 -0.3061814 -0.6522141 -0.1353708 -0.4842026\n",
       "6 -1.4327417 -0.2092341  1.3448264  0.4512934 -0.8537541 -0.8469901\n",
       "  pca.13       pca.14     pca.15      pca.16    \n",
       "1  0.674839787 -0.3138484  0.36215736  0.1772178\n",
       "2 -0.012944916 -0.9430876 -0.07775341  0.3900517\n",
       "3  0.168779558 -0.3678095  0.19275677  0.1881952\n",
       "4  1.452820112 -0.9258707 -0.01811037  0.2412374\n",
       "5 -0.008748236  0.5762434  0.16739361  0.0253058\n",
       "6 -0.066747310 -0.1238721  0.05138294 -0.4226609"
      ]
     },
     "metadata": {},
     "output_type": "display_data"
    }
   ],
   "source": [
    "lettersDf <- data.frame(class = letters$Letter, pca = lettersPca)\n",
    "head(lettersDf)"
   ]
  },
  {
   "cell_type": "code",
   "execution_count": 112,
   "metadata": {
    "collapsed": false
   },
   "outputs": [
    {
     "data": {},
     "metadata": {},
     "output_type": "display_data"
    },
    {
     "data": {
      "image/png": "[encoded data removed]",
      "text/plain": [
       "plot without title"
      ]
     },
     "metadata": {},
     "output_type": "display_data"
    }
   ],
   "source": [
    "decim <- sample_frac(lettersDf, 0.03)\n",
    "ggplot(decim, aes(label = class, pca.1, pca.2, colour = class)) + geom_text()"
   ]
  },
  {
   "cell_type": "markdown",
   "metadata": {},
   "source": [
    "- Plot of variance?\n",
    "- *Why* do eigenvectors work?"
   ]
  }
 ],
 "metadata": {
  "kernelspec": {
   "display_name": "R",
   "language": "R",
   "name": "ir"
  },
  "language_info": {
   "codemirror_mode": "r",
   "file_extension": ".r",
   "mimetype": "text/x-r-source",
   "name": "R",
   "pygments_lexer": "r",
   "version": "3.3.2"
  }
 },
 "nbformat": 4,
 "nbformat_minor": 2
}
